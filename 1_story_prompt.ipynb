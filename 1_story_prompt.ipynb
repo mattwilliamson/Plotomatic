{
 "cells": [
  {
   "cell_type": "markdown",
   "metadata": {},
   "source": [
    "# Start Story object\n",
    "\n",
    "Let’s set the stage for an incredible storytelling adventure! \n",
    "\n",
    "We’ll begin by defining our root input prompt, which will serve as the creative spark for the entire narrative. \n",
    "\n",
    "Once we import the Story model, we’ll have the power to guide large language models (LLMs) to build a complete, immersive story from this single starting point. \n",
    "\n",
    "This prompt is where it all begins—our LLMs will dive into it, weaving an entire world of scenes, characters, and plot twists, taking us on a journey we’re about to create together!"
   ]
  },
  {
   "cell_type": "markdown",
   "metadata": {},
   "source": [
    "## Some example prompts:\n",
    "\n",
    " * Graphic novel about an astronaut and robotics engineer  is the sole survivor of a disastrous Mars expedition\n",
    " * Comic book: superhero team where each member can control a different fundamental force of nature - gravity, electromagnetism, nuclear forces - but they must work together to prevent a cosmic catastrophe.\n",
    " * A melancholic ballad about a sentient spaceship lost in the depths of space, longing for home.\n",
    " * A strategic board game where players are rival time-traveling inventors trying to alter history without causing paradoxes.\n",
    " * A historical drama about a secret guild of architects who have been manipulating the construction of iconic buildings throughout history to hide a powerful relic.\n",
    " * A video game: In a futuristic world, a team of rogue robot ninjas must overthrow their corrupt AI overlords to reclaim their freedom and save humanity.\n",
    " * A fantasy novel: A young sorcerer must journey to the center of the world to forge a magical weapon capable of defeating an ancient dragon and saving the kingdom.\n",
    " * A sci-fi horror story: A team of scientists on a remote planet discover an alien artifact that begins to warp their minds and bodies, turning them against each other.\n",
    " * A romantic comedy film: Two rival wedding planners are forced to work together to plan the perfect wedding for a high-profile client, but their own romantic past threatens to get in the way.\n",
    " * A mystery novel: A detective must solve a series of murders in a small town where the victims are all found with strange symbols carved into their bodies.\n",
    " * A steampunk adventure: A group of sky pirates must steal a powerful artifact from an oppressive government in order to save their captain's life.\n",
    " * A cyberpunk anime series: In a dystopian future where corporations rule the world, a group of hackers and rebels fight back against the system to uncover a dark secret that could change everything.\n",
    " * A historical fantasy: A young princess with the ability to speak to animals must journey to a hidden kingdom to stop a war between humans and magical creatures.\n",
    " * A political thriller: A rookie journalist uncovers a conspiracy that goes all the way to the top, putting her own life in danger as she tries to expose the truth.\n",
    " * A post-apocalyptic survival story: A group of survivors must navigate a dangerous wasteland filled with mutated creatures and rival factions in order to find a new home for humanity.\n",
    " * A heist film: A team of expert thieves must pull off the ultimate robbery, breaking into a high-security vault to steal a priceless artifact.\n",
    " * A video game: In a futuristic world, a team of rogue robot ninjas fight zombies.\n"
   ]
  },
  {
   "cell_type": "markdown",
   "metadata": {},
   "source": [
    "## Your Prompt"
   ]
  },
  {
   "cell_type": "code",
   "execution_count": null,
   "metadata": {},
   "outputs": [
    {
     "data": {
      "text/markdown": [
       "## Your Story Prompt"
      ],
      "text/plain": [
       "<IPython.core.display.Markdown object>"
      ]
     },
     "metadata": {},
     "output_type": "display_data"
    },
    {
     "data": {
      "text/markdown": [
       "> In a world where virtual reality gaming competitions have become the new norm, Meera, a teenage underdog gamer, discovers her life is intertwined with an alternate reality of cosmic proportions. \n",
       "> As she learns to harness her extraordinary skills, Meera forms an unlikely team with fellow gamers she was at odds with previously.\n",
       "> Facing the harsh truth that her actions in this alternate universe directly impact events on Earth, Meera confronts the internal struggle of knowing she has taken lives. \n",
       "> Embracing her destiny as a hero, Meera and her diverse team navigate through challenges, deception, and danger to uncover the truth behind the lies they've been told."
      ],
      "text/plain": [
       "<IPython.core.display.Markdown object>"
      ]
     },
     "metadata": {},
     "output_type": "display_data"
    }
   ],
   "source": [
    "# Story Prompt Input\n",
    "\n",
    "from IPython.display import display, Markdown\n",
    "\n",
    "# Deindent will remove leading whitespace from a string for each line\n",
    "from utils import deindent\n",
    "\n",
    "default_value = deindent(\"\"\"\n",
    "    In a world where virtual reality gaming competitions have become the new norm, Meera, a teenage underdog gamer, discovers her life is intertwined with an alternate reality of cosmic proportions. \n",
    "    As she learns to harness her extraordinary skills, Meera forms an unlikely team with fellow gamers she was at odds with previously.\n",
    "    Facing the harsh truth that her actions in this alternate universe directly impact events on Earth, Meera confronts the internal struggle of knowing she has taken lives. \n",
    "    Embracing her destiny as a hero, Meera and her diverse team navigate through challenges, deception, and danger to uncover the truth behind the lies they've been told.\n",
    "\"\"\")\n",
    "\n",
    "STORY_PROMPT = input(f\"What kind of story do you want to make? (default: {default_value}): \") or default_value\n",
    "display(Markdown(\"## Your Story Prompt\"))\n",
    "display(Markdown(\"> \" + STORY_PROMPT.replace(\"\\n\", \"\\n> \")))"
   ]
  },
  {
   "cell_type": "markdown",
   "metadata": {},
   "source": [
    "## Data Model\n",
    "\n",
    "In order to keep building up the context for the LLM to have more an more details as we get them, we will make a data model and put it in [model.py](./model.py) so that all of the notebooks can share it. We will build up a Story object and iterate over it to refine it, save it as a checkpoint to disk and then reload the Story in the next step. \n",
    "\n",
    "By using pydantic types, it will be easy to add other functionality like FastAPI."
   ]
  },
  {
   "cell_type": "code",
   "execution_count": 2,
   "metadata": {},
   "outputs": [],
   "source": [
    "# Let's make sure parsing and dumping data models works\n",
    "!python model.py"
   ]
  },
  {
   "cell_type": "markdown",
   "metadata": {},
   "source": [
    "Check out [data_model.ipynb](./data_model.ipynb) to see more info about the models"
   ]
  },
  {
   "cell_type": "markdown",
   "metadata": {},
   "source": [
    "## Set the prompt and save the object to disk\n",
    "\n",
    "[settings.py](./settings.py) has some settings to control everything. You can set which models to use, whether you want it to be random or repeatable and more."
   ]
  },
  {
   "cell_type": "code",
   "execution_count": null,
   "metadata": {},
   "outputs": [
    {
     "data": {
      "text/markdown": [
       "## Story Prompt"
      ],
      "text/plain": [
       "<IPython.core.display.Markdown object>"
      ]
     },
     "metadata": {},
     "output_type": "display_data"
    },
    {
     "data": {
      "text/markdown": [
       "> In a world where virtual reality gaming competitions have become the new norm, Meera, a teenage underdog gamer, discovers her life is intertwined with an alternate reality of cosmic proportions. \n",
       "> As she learns to harness her extraordinary skills, Meera forms an unlikely team with fellow gamers she was at odds with previously.\n",
       "> Facing the harsh truth that her actions in this alternate universe directly impact events on Earth, Meera confronts the internal struggle of knowing she has taken lives. \n",
       "> Embracing her destiny as a hero, Meera and her diverse team navigate through challenges, deception, and danger to uncover the truth behind the lies they've been told."
      ],
      "text/plain": [
       "<IPython.core.display.Markdown object>"
      ]
     },
     "metadata": {},
     "output_type": "display_data"
    }
   ],
   "source": [
    "# settings.py has some configuration settings like which models to use, randomness, GPUs, etc.\n",
    "import settings\n",
    "from model import Story\n",
    "\n",
    "story = Story(prompt=STORY_PROMPT)\n",
    "story.model_dump() # Just to make sure it works\n",
    "story.save_to_directory(settings.STORY_DIR + \"/step_1\")"
   ]
  },
  {
   "cell_type": "markdown",
   "metadata": {},
   "source": [
    "# Next Step\n",
    "Onto [Step 2: Title & Plot](./2_title_plot.ipynb)"
   ]
  }
 ],
 "metadata": {
  "kernelspec": {
   "display_name": "plotomatic",
   "language": "python",
   "name": "python3"
  },
  "language_info": {
   "codemirror_mode": {
    "name": "ipython",
    "version": 3
   },
   "file_extension": ".py",
   "mimetype": "text/x-python",
   "name": "python",
   "nbconvert_exporter": "python",
   "pygments_lexer": "ipython3",
   "version": "3.12.7"
  }
 },
 "nbformat": 4,
 "nbformat_minor": 2
}
