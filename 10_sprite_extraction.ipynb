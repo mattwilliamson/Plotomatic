{
 "cells": [
  {
   "cell_type": "markdown",
   "metadata": {},
   "source": [
    "# Sprite Extraction\n",
    "Remove backgrounds from images"
   ]
  },
  {
   "cell_type": "code",
   "execution_count": null,
   "metadata": {},
   "outputs": [],
   "source": [
    "import settings\n",
    "from model import Story\n",
    "\n",
    "story = Story.load_from_directory(settings.STORY_DIR + \"/step_4\")"
   ]
  },
  {
   "cell_type": "markdown",
   "metadata": {},
   "source": [
    "### Extract Each Character\n"
   ]
  },
  {
   "cell_type": "code",
   "execution_count": null,
   "metadata": {},
   "outputs": [],
   "source": [
    "from IPython.display import display, Markdown\n",
    "from rembg import remove\n",
    "from PIL import Image\n",
    "\n",
    "for character in story.characters:\n",
    "    display(Markdown(f\"\"\"---\n",
    "                     \n",
    "## {character.name}\n",
    "\n",
    "**Role**: {character.role}\n",
    "                     \n",
    "**Physical Apperaance**: {character.physical_appearance}\n",
    "\n",
    "**Description**: {character.description}\n",
    "\n",
    "**Personality**: {character.personality}\n",
    "\n",
    "\"\"\"))\n",
    "\n",
    "    # Generate the frames of the animation\n",
    "    # print(prompt)\n",
    "    if character.image:\n",
    "        sprite = remove(character.image)\n",
    "        character.image = sprite\n",
    "        display(sprite)\n"
   ]
  },
  {
   "cell_type": "markdown",
   "metadata": {},
   "source": [
    "### Extract Each Prop\n"
   ]
  },
  {
   "cell_type": "code",
   "execution_count": null,
   "metadata": {},
   "outputs": [],
   "source": [
    "from IPython.display import display, Markdown\n",
    "from rembg import remove\n",
    "from PIL import Image\n",
    "\n",
    "for prop in story.props:\n",
    "    display(Markdown(f\"\"\"---\n",
    "                     \n",
    "## {prop.name}\n",
    "\n",
    "**Description**: {prop.description}\n",
    "\n",
    "**Usage**: {prop.usage}\n",
    "\n",
    "\"\"\"))\n",
    "\n",
    "    # Generate the frames of the animation\n",
    "    if prop.image:\n",
    "        sprite = remove(prop.image)\n",
    "        prop.image = sprite\n",
    "        display(sprite)\n"
   ]
  },
  {
   "cell_type": "markdown",
   "metadata": {},
   "source": [
    "## TODO: Extract props as well"
   ]
  },
  {
   "cell_type": "markdown",
   "metadata": {},
   "source": [
    "## Save the updated images"
   ]
  },
  {
   "cell_type": "code",
   "execution_count": 9,
   "metadata": {},
   "outputs": [],
   "source": [
    "story.save_to_directory(settings.STORY_DIR + \"/step_10\")"
   ]
  }
 ],
 "metadata": {
  "kernelspec": {
   "display_name": "story_generator",
   "language": "python",
   "name": "python3"
  },
  "language_info": {
   "codemirror_mode": {
    "name": "ipython",
    "version": 3
   },
   "file_extension": ".py",
   "mimetype": "text/x-python",
   "name": "python",
   "nbconvert_exporter": "python",
   "pygments_lexer": "ipython3",
   "version": "3.12.7"
  }
 },
 "nbformat": 4,
 "nbformat_minor": 2
}
