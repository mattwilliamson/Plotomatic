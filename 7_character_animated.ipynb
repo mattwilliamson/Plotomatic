{
 "cells": [
  {
   "cell_type": "markdown",
   "metadata": {},
   "source": [
    "# Character Animations\n",
    "This is a bonus. Let's try to animate these characters."
   ]
  },
  {
   "cell_type": "code",
   "execution_count": 1,
   "metadata": {},
   "outputs": [],
   "source": [
    "import settings\n",
    "from model import Story\n",
    "\n",
    "# The last time json data was saved was step 4\n",
    "story = Story.load_from_directory(settings.STORY_DIR + \"/step_4\")"
   ]
  },
  {
   "cell_type": "markdown",
   "metadata": {},
   "source": [
    "# Generate list of scene images\n",
    "\n",
    "Let's stick the characters into a scene so that we can have lots of context."
   ]
  },
  {
   "cell_type": "code",
   "execution_count": 2,
   "metadata": {},
   "outputs": [],
   "source": [
    "from PIL import Image\n",
    "import settings\n",
    "\n",
    "def place_character_in_scene(image: Image, background: Image=None):\n",
    "    width = settings.CHARACTER_ANIMATION_WIDTH\n",
    "    height = settings.CHARACTER_ANIMATION_HEIGHT\n",
    "\n",
    "    # Create a transparent background\n",
    "    resize_image = Image.new('RGBA', (width, height), (0, 0, 0, 0))\n",
    "\n",
    "    if background:\n",
    "        # Add background to the image\n",
    "        scene = background.convert(\"RGBA\")\n",
    "\n",
    "        # Scale the scene to fit the normal dimensions while preserving aspect ratio\n",
    "        scene_ratio = max(width / scene.width, height / scene.height)\n",
    "        new_scene_size = (int(scene.width * scene_ratio), int(scene.height * scene_ratio))\n",
    "        scene = scene.resize(new_scene_size)\n",
    "        \n",
    "        # Calculate the position to paste the scene image onto the background\n",
    "        scene_offset = ((width - new_scene_size[0]) // 2, (height - new_scene_size[1]))\n",
    "        \n",
    "        # Paste the scene image onto the background\n",
    "        resize_image.paste(scene, scene_offset, scene)\n",
    "\n",
    "\n",
    "    # Calculate the position to paste the source image onto the background\n",
    "    src_width, src_height = image.size\n",
    "    offset = ((width - src_width) // 2, (height - src_height))\n",
    "    # offset = ((width - src_width) // 2, (height - src_height) // 2)\n",
    "\n",
    "    # Ensure the image has an alpha channel\n",
    "    image = image.convert(\"RGBA\")\n",
    "    \n",
    "    # Paste the source image onto the background\n",
    "    resize_image.paste(image, offset, image)\n",
    "\n",
    "    # Convert the image to RGB\n",
    "    resize_image = resize_image.convert(\"RGB\")\n",
    "\n",
    "    return resize_image"
   ]
  },
  {
   "cell_type": "code",
   "execution_count": null,
   "metadata": {},
   "outputs": [],
   "source": [
    "from IPython.display import display\n",
    "from IPython.display import Image as IPImage\n",
    "import rembg\n",
    "from diffusers.utils import export_to_gif\n",
    "import os\n",
    "import random\n",
    "\n",
    "for character in story.characters:\n",
    "    act = random.choice(story.acts)\n",
    "    scene = random.choice(act.scenes)\n",
    "\n",
    "    src_image_path = f\"{settings.STORY_DIR}/step_5/characters/{character.nickname}.png\"\n",
    "    src_image = Image.open(src_image_path)\n",
    "\n",
    "    # Make the character a bit smaller\n",
    "    src_image = src_image.resize((src_image.size[0]//3*2, src_image.size[1]//3*2))\n",
    "\n",
    "    # Remove the background\n",
    "    src_image = src_image.convert(\"RGBA\")\n",
    "    src_image = rembg.remove(src_image)\n",
    "\n",
    "    background = Image.open(f\"stories/my_story/step_6/scenes/{scene.scene_id}.png\")\n",
    "\n",
    "    scene_image = place_character_in_scene(src_image, background=background)\n",
    "    # character_scene_images[character.name] = scene_image\n",
    "\n",
    "    dst_image_path = f\"{settings.STORY_DIR}/step_7/characters/{character.nickname}_scene.png\"\n",
    "    dir_name = os.path.dirname(dst_image_path)\n",
    "    os.makedirs(dir_name, exist_ok=True)\n",
    "\n",
    "    scene_image.save(dst_image_path)\n",
    "\n",
    "    display(character.name)\n",
    "    display(IPImage(dst_image_path))"
   ]
  },
  {
   "cell_type": "markdown",
   "metadata": {},
   "source": [
    "# Generate list of animation descriptions\n",
    "We will use vision to look at the character and scene. Then generate a description of the animation from that."
   ]
  },
  {
   "cell_type": "markdown",
   "metadata": {},
   "source": [
    "# Animate Each Character\n"
   ]
  },
  {
   "cell_type": "code",
   "execution_count": null,
   "metadata": {},
   "outputs": [],
   "source": [
    "from model import Story\n",
    "import settings\n",
    "\n",
    "story = Story.load_from_directory(settings.STORY_DIR + \"/step_4\")"
   ]
  },
  {
   "cell_type": "markdown",
   "metadata": {},
   "source": [
    "### Image/Text-to-video\n",
    "\n",
    "#### CogVideoX-5b-I2V\n",
    "https://huggingface.co/THUDM/CogVideoX-5b-I2V\n",
    "\n",
    "#### i2vgen-xl\n",
    "https://huggingface.co/docs/diffusers/main/en/using-diffusers/text-img2vid#i2vgen-xl\n"
   ]
  },
  {
   "cell_type": "code",
   "execution_count": null,
   "metadata": {},
   "outputs": [
    {
     "data": {
      "text/markdown": [
       "---\n",
       "\n",
       "## Meera 'Midnight' Singh\n",
       "\n",
       "**Role**: Protagonist/Gamer\n",
       "\n",
       "**Physical Apperaance**: Petite, with short, spiky black hair, expressive brown eyes, and a collection of gaming-themed tattoos on her arms. Often wears comfortable, neon-lit gaming attire.\n",
       "\n",
       "**Description**: The protagonist, a teenage underdog gamer with extraordinary skills that connect her to an alternate reality.\n",
       "\n",
       "**Personality**: Determined, resourceful, and initially introverted, with a growing sense of responsibility and leadership.\n",
       "\n",
       "### Prompt:\n",
       "\n",
       "**guidance_scale**: 7.0\n",
       "\n",
       "> epic full arc shot of the to the right of a Female Indian Protagonist/Gamer age 17. Petite, with short, spiky black hair, expressive brown eyes, and a collection of gaming-themed tattoos on her arms. Often wears comfortable, neon-lit gaming attire."
      ],
      "text/plain": [
       "<IPython.core.display.Markdown object>"
      ]
     },
     "metadata": {},
     "output_type": "display_data"
    },
    {
     "data": {
      "application/vnd.jupyter.widget-view+json": {
       "model_id": "fc4d62ca998c4eee854fcb7256e75ea8",
       "version_major": 2,
       "version_minor": 0
      },
      "text/plain": [
       "  0%|          | 0/50 [00:00<?, ?it/s]"
      ]
     },
     "metadata": {},
     "output_type": "display_data"
    }
   ],
   "source": [
    "from IPython.display import display, Markdown\n",
    "from model_image2video import image_to_video\n",
    "from utils import deindent\n",
    "from PIL import Image\n",
    "\n",
    "\n",
    "\n",
    "for c in story.characters:\n",
    "    src_image_path = f\"{settings.STORY_DIR}/step_7/characters/{c.nickname}_scene.png\"\n",
    "    src_image = Image.open(src_image_path)\n",
    "    \n",
    "    prompt = f\"epic full arc shot of the to the right of a {c.gender} {c.race} {c.role} age {c.age}. {c.physical_appearance}\"\n",
    "    # prompt = f\"{c.animation_description}. {scene.background_animation}\"\n",
    "    # prompt = f\"An slow epic arc shot to the right while zooming in. Grenades are exploding all around the ninja attacks and dust is flying everywhere. {scene.background_animation}\"\n",
    "    # prompt = f\"a {c.gender} {c.race} speaks animatedly, gesturing with their hands. Lasers shoot out of their eyes and an explosion ensues.\"\n",
    "\n",
    "    formatted_prompt = \"\\n\".join([f\"> {line}\" for line in prompt.split(\"\\n\")])\n",
    "    dst_image_path = f\"{settings.STORY_DIR}/step_7/characters/{c.nickname}.gif\"\n",
    "    dst_video_path = f\"{settings.STORY_DIR}/step_7/characters/{c.nickname}.mp4\"\n",
    "    guidance_scale = 7.0\n",
    "    \n",
    "    display(Markdown(deindent(f\"\"\"\n",
    "        ---\n",
    "                \n",
    "        ## {c.name}\n",
    "\n",
    "        **Role**: {c.role}\n",
    "                            \n",
    "        **Physical Apperaance**: {c.physical_appearance}\n",
    "\n",
    "        **Description**: {c.description}\n",
    "\n",
    "        **Personality**: {c.personality}\n",
    "\n",
    "        ### Prompt:\n",
    "\n",
    "        **guidance_scale**: {guidance_scale}\n",
    "\n",
    "        {formatted_prompt}\n",
    "\n",
    "    \"\"\")))\n",
    "    \n",
    "    image_to_video(prompt=prompt, image=src_image, gif_filename=dst_image_path, video_filename=dst_video_path, display_video=True, sequences=2)\n"
   ]
  }
 ],
 "metadata": {
  "kernelspec": {
   "display_name": "plotomatic",
   "language": "python",
   "name": "python3"
  },
  "language_info": {
   "codemirror_mode": {
    "name": "ipython",
    "version": 3
   },
   "file_extension": ".py",
   "mimetype": "text/x-python",
   "name": "python",
   "nbconvert_exporter": "python",
   "pygments_lexer": "ipython3",
   "version": "3.12.7"
  }
 },
 "nbformat": 4,
 "nbformat_minor": 2
}
