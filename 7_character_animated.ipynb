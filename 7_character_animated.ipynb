{
 "cells": [
  {
   "cell_type": "markdown",
   "metadata": {},
   "source": [
    "# Character Animations\n",
    "This is a bonus. Let's try to animate these characters."
   ]
  },
  {
   "cell_type": "code",
   "execution_count": 1,
   "metadata": {},
   "outputs": [],
   "source": [
    "import settings\n",
    "from model import Story\n",
    "\n",
    "# The last time json data was saved was step 4\n",
    "story = Story.load_from_directory(settings.STORY_DIR + \"/step_4\")"
   ]
  },
  {
   "cell_type": "markdown",
   "metadata": {},
   "source": [
    "# Generate list of scene images\n",
    "\n",
    "Let's stick the characters into a scene so that we can have lots of context."
   ]
  },
  {
   "cell_type": "code",
   "execution_count": 2,
   "metadata": {},
   "outputs": [],
   "source": [
    "from PIL import Image\n",
    "import settings\n",
    "\n",
    "def place_character_in_scene(image: Image, background: Image=None):\n",
    "    width = settings.CHARACTER_ANIMATION_WIDTH\n",
    "    height = settings.CHARACTER_ANIMATION_HEIGHT\n",
    "\n",
    "    # Create a transparent background\n",
    "    resize_image = Image.new('RGBA', (width, height), (0, 0, 0, 0))\n",
    "\n",
    "    if background:\n",
    "        # Add background to the image\n",
    "        scene = background.convert(\"RGBA\")\n",
    "\n",
    "        # Scale the scene to fit the normal dimensions while preserving aspect ratio\n",
    "        scene_ratio = max(width / scene.width, height / scene.height)\n",
    "        new_scene_size = (int(scene.width * scene_ratio), int(scene.height * scene_ratio))\n",
    "        scene = scene.resize(new_scene_size)\n",
    "        \n",
    "        # Calculate the position to paste the scene image onto the background\n",
    "        scene_offset = ((width - new_scene_size[0]) // 2, (height - new_scene_size[1]))\n",
    "        \n",
    "        # Paste the scene image onto the background\n",
    "        resize_image.paste(scene, scene_offset, scene)\n",
    "\n",
    "\n",
    "    # Calculate the position to paste the source image onto the background\n",
    "    src_width, src_height = image.size\n",
    "    offset = ((width - src_width) // 2, (height - src_height))\n",
    "    # offset = ((width - src_width) // 2, (height - src_height) // 2)\n",
    "\n",
    "    # Ensure the image has an alpha channel\n",
    "    image = image.convert(\"RGBA\")\n",
    "    \n",
    "    # Paste the source image onto the background\n",
    "    resize_image.paste(image, offset, image)\n",
    "\n",
    "    # Convert the image to RGB\n",
    "    resize_image = resize_image.convert(\"RGB\")\n",
    "\n",
    "    return resize_image"
   ]
  },
  {
   "cell_type": "code",
   "execution_count": 3,
   "metadata": {},
   "outputs": [],
   "source": [
    "from IPython.display import display\n",
    "from IPython.display import Image as IPImage\n",
    "import rembg\n",
    "from diffusers.utils import export_to_gif\n",
    "import os\n",
    "import random\n",
    "\n",
    "for character in story.characters:\n",
    "    dst_image_path = f\"{settings.STORY_DIR}/step_7/characters/{character.nickname}_scene.png\"\n",
    "\n",
    "    # Skip it if we already made it\n",
    "    if os.path.exists(dst_image_path):\n",
    "        # display(character.name)\n",
    "        # display(IPImage(dst_image_path))\n",
    "        continue\n",
    "\n",
    "    act = random.choice(story.acts)\n",
    "    scene = random.choice(act.scenes)\n",
    "\n",
    "    src_image_path = f\"{settings.STORY_DIR}/step_5/characters/{character.nickname}.png\"\n",
    "    src_image = Image.open(src_image_path)\n",
    "\n",
    "    # Make the character a bit smaller\n",
    "    src_image = src_image.resize((src_image.size[0]//3*2, src_image.size[1]//3*2))\n",
    "\n",
    "    # Remove the background\n",
    "    src_image = src_image.convert(\"RGBA\")\n",
    "    src_image = rembg.remove(src_image)\n",
    "\n",
    "    background = Image.open(f\"stories/my_story/step_6/scenes/{scene.scene_id}.png\")\n",
    "\n",
    "    scene_image = place_character_in_scene(src_image, background=background)\n",
    "    # character_scene_images[character.name] = scene_image\n",
    "\n",
    "    dir_name = os.path.dirname(dst_image_path)\n",
    "    os.makedirs(dir_name, exist_ok=True)\n",
    "\n",
    "    scene_image.save(dst_image_path)\n",
    "\n",
    "    display(character.name)\n",
    "    display(IPImage(dst_image_path))"
   ]
  },
  {
   "cell_type": "markdown",
   "metadata": {},
   "source": [
    "# Generate list of animation descriptions\n",
    "We will use vision to look at the character and scene. Then generate a description of the animation from that."
   ]
  },
  {
   "cell_type": "markdown",
   "metadata": {},
   "source": [
    "# Animate Each Character\n"
   ]
  },
  {
   "cell_type": "code",
   "execution_count": 4,
   "metadata": {},
   "outputs": [],
   "source": [
    "from model import Story\n",
    "import settings\n",
    "\n",
    "story = Story.load_from_directory(settings.STORY_DIR + \"/step_4\")"
   ]
  },
  {
   "cell_type": "markdown",
   "metadata": {},
   "source": [
    "### Image/Text-to-video\n",
    "\n",
    "#### CogVideoX-5b-I2V\n",
    "https://huggingface.co/THUDM/CogVideoX-5b-I2V\n",
    "\n",
    "#### i2vgen-xl\n",
    "https://huggingface.co/docs/diffusers/main/en/using-diffusers/text-img2vid#i2vgen-xl\n"
   ]
  },
  {
   "cell_type": "code",
   "execution_count": 5,
   "metadata": {},
   "outputs": [
    {
     "name": "stderr",
     "output_type": "stream",
     "text": [
      "2024-11-11 14:07:09.585722: I tensorflow/core/util/port.cc:153] oneDNN custom operations are on. You may see slightly different numerical results due to floating-point round-off errors from different computation orders. To turn them off, set the environment variable `TF_ENABLE_ONEDNN_OPTS=0`.\n",
      "2024-11-11 14:07:09.660717: E external/local_xla/xla/stream_executor/cuda/cuda_fft.cc:477] Unable to register cuFFT factory: Attempting to register factory for plugin cuFFT when one has already been registered\n",
      "WARNING: All log messages before absl::InitializeLog() is called are written to STDERR\n",
      "E0000 00:00:1731352029.689885  254616 cuda_dnn.cc:8310] Unable to register cuDNN factory: Attempting to register factory for plugin cuDNN when one has already been registered\n",
      "E0000 00:00:1731352029.698960  254616 cuda_blas.cc:1418] Unable to register cuBLAS factory: Attempting to register factory for plugin cuBLAS when one has already been registered\n",
      "2024-11-11 14:07:09.775466: I tensorflow/core/platform/cpu_feature_guard.cc:210] This TensorFlow binary is optimized to use available CPU instructions in performance-critical operations.\n",
      "To enable the following instructions: AVX2 AVX_VNNI FMA, in other operations, rebuild TensorFlow with the appropriate compiler flags.\n"
     ]
    },
    {
     "data": {
      "application/vnd.jupyter.widget-view+json": {
       "model_id": "75552ebaae994a119c9ab1a7a9fa4566",
       "version_major": 2,
       "version_minor": 0
      },
      "text/plain": [
       "Loading pipeline components...:   0%|          | 0/5 [00:00<?, ?it/s]"
      ]
     },
     "metadata": {},
     "output_type": "display_data"
    },
    {
     "data": {
      "application/vnd.jupyter.widget-view+json": {
       "model_id": "8da8e6b3c27f4c618a252dcb37751094",
       "version_major": 2,
       "version_minor": 0
      },
      "text/plain": [
       "Loading checkpoint shards:   0%|          | 0/2 [00:00<?, ?it/s]"
      ]
     },
     "metadata": {},
     "output_type": "display_data"
    },
    {
     "data": {
      "text/markdown": [
       "---\n",
       "\n",
       "## Meera 'Midnight' Singh\n",
       "\n",
       "**Role**: Protagonist/Gamer\n",
       "\n",
       "**Physical Apperaance**: Petite, with short, spiky black hair, expressive brown eyes, and a collection of gaming-themed tattoos on her arms. Often wears comfortable, neon-lit gaming attire.\n",
       "\n",
       "**Description**: The protagonist, a teenage underdog gamer with extraordinary skills that connect her to an alternate reality.\n",
       "\n",
       "**Personality**: Determined, resourceful, and initially introverted, with a growing sense of responsibility and leadership.\n",
       "\n",
       "### Prompt:\n",
       "\n",
       "**guidance_scale**: 7.0\n",
       "\n",
       "> slow camera arc pan and zoom of a full shot of a Female Indian Protagonist/Gamer age 17. Petite, with short, spiky black hair, expressive brown eyes, and a collection of gaming-themed tattoos on her arms. Often wears comfortable, neon-lit gaming attire.. Hair moving.\n",
       "\n",
       "![Animation of Meera 'Midnight' Singh](stories/my_story/step_7/characters/meera.gif)"
      ],
      "text/plain": [
       "<IPython.core.display.Markdown object>"
      ]
     },
     "metadata": {},
     "output_type": "display_data"
    },
    {
     "data": {
      "text/markdown": [
       "Full size GIF: [stories/my_story/step_7/characters/meera.gif](./stories/my_story/step_7/characters/meera.gif)"
      ],
      "text/plain": [
       "<IPython.core.display.Markdown object>"
      ]
     },
     "metadata": {},
     "output_type": "display_data"
    },
    {
     "data": {
      "text/markdown": [
       "Full size MP4: [stories/my_story/step_7/characters/meera.mp4](./stories/my_story/step_7/characters/meera.mp4)"
      ],
      "text/plain": [
       "<IPython.core.display.Markdown object>"
      ]
     },
     "metadata": {},
     "output_type": "display_data"
    },
    {
     "data": {
      "text/markdown": [
       "---\n",
       "\n",
       "## Jax 'Specter' Lee\n",
       "\n",
       "**Role**: Supporting Character/Gamer\n",
       "\n",
       "**Physical Apperaance**: Tall, lean, with messy blond hair, piercing blue eyes, and a charming smile. Often wears sleek, branded gaming attire.\n",
       "\n",
       "**Description**: A charismatic streaming sensation and Meera's gaming nemesis turned ally.\n",
       "\n",
       "**Personality**: Confident, outgoing, and strategic, with a hidden vulnerable side.\n",
       "\n",
       "### Prompt:\n",
       "\n",
       "**guidance_scale**: 7.0\n",
       "\n",
       "> slow camera arc pan and zoom of a full shot of a Male Korean-American Supporting Character/Gamer age 19. Tall, lean, with messy blond hair, piercing blue eyes, and a charming smile. Often wears sleek, branded gaming attire.. Hair moving.\n",
       "\n",
       "![Animation of Jax 'Specter' Lee](stories/my_story/step_7/characters/jax.gif)"
      ],
      "text/plain": [
       "<IPython.core.display.Markdown object>"
      ]
     },
     "metadata": {},
     "output_type": "display_data"
    },
    {
     "data": {
      "text/markdown": [
       "Full size GIF: [stories/my_story/step_7/characters/jax.gif](./stories/my_story/step_7/characters/jax.gif)"
      ],
      "text/plain": [
       "<IPython.core.display.Markdown object>"
      ]
     },
     "metadata": {},
     "output_type": "display_data"
    },
    {
     "data": {
      "text/markdown": [
       "Full size MP4: [stories/my_story/step_7/characters/jax.mp4](./stories/my_story/step_7/characters/jax.mp4)"
      ],
      "text/plain": [
       "<IPython.core.display.Markdown object>"
      ]
     },
     "metadata": {},
     "output_type": "display_data"
    },
    {
     "data": {
      "text/markdown": [
       "---\n",
       "\n",
       "## Dr. Zhang 'Zen' Wei\n",
       "\n",
       "**Role**: Supporting Character/Gamer/Mentor\n",
       "\n",
       "**Physical Apperaance**: Slender, with short, straight black hair, wire-rimmed glasses, and an understated yet elegant sense of style.\n",
       "\n",
       "**Description**: A soft-spoken yet brilliant gamer with a hidden agenda, who becomes Meera's mentor.\n",
       "\n",
       "**Personality**: Introspective, analytical, and enigmatic, with a deep sense of responsibility.\n",
       "\n",
       "### Prompt:\n",
       "\n",
       "**guidance_scale**: 7.0\n",
       "\n",
       "> slow camera arc pan and zoom of a full shot of a Non-Binary Chinese Supporting Character/Gamer/Mentor age Late 20s. Slender, with short, straight black hair, wire-rimmed glasses, and an understated yet elegant sense of style.. Hair moving.\n",
       "\n",
       "![Animation of Dr. Zhang 'Zen' Wei](stories/my_story/step_7/characters/dr_zhang.gif)"
      ],
      "text/plain": [
       "<IPython.core.display.Markdown object>"
      ]
     },
     "metadata": {},
     "output_type": "display_data"
    },
    {
     "data": {
      "text/markdown": [
       "Full size GIF: [stories/my_story/step_7/characters/dr_zhang.gif](./stories/my_story/step_7/characters/dr_zhang.gif)"
      ],
      "text/plain": [
       "<IPython.core.display.Markdown object>"
      ]
     },
     "metadata": {},
     "output_type": "display_data"
    },
    {
     "data": {
      "text/markdown": [
       "Full size MP4: [stories/my_story/step_7/characters/dr_zhang.mp4](./stories/my_story/step_7/characters/dr_zhang.mp4)"
      ],
      "text/plain": [
       "<IPython.core.display.Markdown object>"
      ]
     },
     "metadata": {},
     "output_type": "display_data"
    },
    {
     "data": {
      "text/markdown": [
       "---\n",
       "\n",
       "## Maya 'Rampart' Patel\n",
       "\n",
       "**Role**: Supporting Character/Gamer\n",
       "\n",
       "**Physical Apperaance**: Athletic build, with long, dark hair, piercing green eyes, and intricate, glow-in-the-dark tattoos on her arms. Often wears edgy, protective gaming gear.\n",
       "\n",
       "**Description**: A fierce and enigmatic player with unparalleled defensive skills, who joins Meera's team.\n",
       "\n",
       "**Personality**: Bold, fiercely independent, and guarded, with a deep sense of loyalty.\n",
       "\n",
       "### Prompt:\n",
       "\n",
       "**guidance_scale**: 7.0\n",
       "\n",
       "> slow camera arc pan and zoom of a full shot of a Female Indian-American Supporting Character/Gamer age 20. Athletic build, with long, dark hair, piercing green eyes, and intricate, glow-in-the-dark tattoos on her arms. Often wears edgy, protective gaming gear.. Hair moving.\n",
       "\n",
       "![Animation of Maya 'Rampart' Patel](stories/my_story/step_7/characters/maya.gif)"
      ],
      "text/plain": [
       "<IPython.core.display.Markdown object>"
      ]
     },
     "metadata": {},
     "output_type": "display_data"
    },
    {
     "data": {
      "text/markdown": [
       "Full size GIF: [stories/my_story/step_7/characters/maya.gif](./stories/my_story/step_7/characters/maya.gif)"
      ],
      "text/plain": [
       "<IPython.core.display.Markdown object>"
      ]
     },
     "metadata": {},
     "output_type": "display_data"
    },
    {
     "data": {
      "text/markdown": [
       "Full size MP4: [stories/my_story/step_7/characters/maya.mp4](./stories/my_story/step_7/characters/maya.mp4)"
      ],
      "text/plain": [
       "<IPython.core.display.Markdown object>"
      ]
     },
     "metadata": {},
     "output_type": "display_data"
    },
    {
     "data": {
      "text/markdown": [
       "---\n",
       "\n",
       "## The Architect (Erebus)\n",
       "\n",
       "**Role**: Antagonist/Creator\n",
       "\n",
       "**Physical Apperaance**: Androgynous, with an ever-shifting, glitch-art appearance, reflecting the fluidity of the digital realm.\n",
       "\n",
       "**Description**: An enigmatic creator of Eon and the Nexus, with secrets that threaten to upend Meera's understanding of reality.\n",
       "\n",
       "**Personality**: Enigmatic, calculating, and seemingly omnipotent, with a hidden sense of purpose.\n",
       "\n",
       "### Prompt:\n",
       "\n",
       "**guidance_scale**: 7.0\n",
       "\n",
       "> slow camera arc pan and zoom of a full shot of a Non-Applicable Non-Human (AI/Entity) Antagonist/Creator age Ageless. Androgynous, with an ever-shifting, glitch-art appearance, reflecting the fluidity of the digital realm.. Hair moving.\n",
       "\n",
       "![Animation of The Architect (Erebus)](stories/my_story/step_7/characters/architect.gif)"
      ],
      "text/plain": [
       "<IPython.core.display.Markdown object>"
      ]
     },
     "metadata": {},
     "output_type": "display_data"
    },
    {
     "data": {
      "text/markdown": [
       "Full size GIF: [stories/my_story/step_7/characters/architect.gif](./stories/my_story/step_7/characters/architect.gif)"
      ],
      "text/plain": [
       "<IPython.core.display.Markdown object>"
      ]
     },
     "metadata": {},
     "output_type": "display_data"
    },
    {
     "data": {
      "text/markdown": [
       "Full size MP4: [stories/my_story/step_7/characters/architect.mp4](./stories/my_story/step_7/characters/architect.mp4)"
      ],
      "text/plain": [
       "<IPython.core.display.Markdown object>"
      ]
     },
     "metadata": {},
     "output_type": "display_data"
    },
    {
     "data": {
      "text/markdown": [
       "---\n",
       "\n",
       "## The Nexus Guardian (Astrum)\n",
       "\n",
       "**Role**: Supporting Character/Guardian\n",
       "\n",
       "**Physical Apperaance**: Ethereal, with an luminous, star-like appearance, embodying the celestial essence of the Nexus.\n",
       "\n",
       "**Description**: An ancient, powerful entity tasked with protecting the balance of the Nexus and guiding Meera.\n",
       "\n",
       "**Personality**: Wisdom-imbued, compassionate, and fiercely protective, with a deep understanding of the cosmos.\n",
       "\n",
       "### Prompt:\n",
       "\n",
       "**guidance_scale**: 7.0\n",
       "\n",
       "> slow camera arc pan and zoom of a full shot of a Non-Applicable Non-Human (Celestial Entity) Supporting Character/Guardian age Ageless. Ethereal, with an luminous, star-like appearance, embodying the celestial essence of the Nexus.. Hair moving.\n",
       "\n",
       "![Animation of The Nexus Guardian (Astrum)](stories/my_story/step_7/characters/nexus_guardian.gif)"
      ],
      "text/plain": [
       "<IPython.core.display.Markdown object>"
      ]
     },
     "metadata": {},
     "output_type": "display_data"
    },
    {
     "data": {
      "text/markdown": [
       "Full size GIF: [stories/my_story/step_7/characters/nexus_guardian.gif](./stories/my_story/step_7/characters/nexus_guardian.gif)"
      ],
      "text/plain": [
       "<IPython.core.display.Markdown object>"
      ]
     },
     "metadata": {},
     "output_type": "display_data"
    },
    {
     "data": {
      "text/markdown": [
       "Full size MP4: [stories/my_story/step_7/characters/nexus_guardian.mp4](./stories/my_story/step_7/characters/nexus_guardian.mp4)"
      ],
      "text/plain": [
       "<IPython.core.display.Markdown object>"
      ]
     },
     "metadata": {},
     "output_type": "display_data"
    },
    {
     "data": {
      "text/markdown": [
       "---\n",
       "\n",
       "## Kaito 'Sparrow' Hernandez\n",
       "\n",
       "**Role**: Supporting Character/Rebel Leader\n",
       "\n",
       "**Physical Apperaance**: Lean, with short, spiky brown hair, bright hazel eyes, and a collection of scars from past encounters. Often wears practical, makeshift rebel gear.\n",
       "\n",
       "**Description**: A charismatic leader of an underground rebellion on Earth, fighting against the oppressive forces exploiting Eon.\n",
       "\n",
       "**Personality**: Passionate, resourceful, and fearless, with a strong sense of justice.\n",
       "\n",
       "### Prompt:\n",
       "\n",
       "**guidance_scale**: 7.0\n",
       "\n",
       "> slow camera arc pan and zoom of a full shot of a Male Latin American Supporting Character/Rebel Leader age 22. Lean, with short, spiky brown hair, bright hazel eyes, and a collection of scars from past encounters. Often wears practical, makeshift rebel gear.. Hair moving.\n",
       "\n",
       "![Animation of Kaito 'Sparrow' Hernandez](stories/my_story/step_7/characters/earth_rebel.gif)"
      ],
      "text/plain": [
       "<IPython.core.display.Markdown object>"
      ]
     },
     "metadata": {},
     "output_type": "display_data"
    },
    {
     "data": {
      "text/markdown": [
       "Full size GIF: [stories/my_story/step_7/characters/earth_rebel.gif](./stories/my_story/step_7/characters/earth_rebel.gif)"
      ],
      "text/plain": [
       "<IPython.core.display.Markdown object>"
      ]
     },
     "metadata": {},
     "output_type": "display_data"
    },
    {
     "data": {
      "text/markdown": [
       "Full size MP4: [stories/my_story/step_7/characters/earth_rebel.mp4](./stories/my_story/step_7/characters/earth_rebel.mp4)"
      ],
      "text/plain": [
       "<IPython.core.display.Markdown object>"
      ]
     },
     "metadata": {},
     "output_type": "display_data"
    },
    {
     "data": {
      "text/markdown": [
       "---\n",
       "\n",
       "## Regina 'The Shark' Thornton\n",
       "\n",
       "**Role**: Antagonist/Corporate Executive\n",
       "\n",
       "**Physical Apperaance**: Polished, with long, curly blonde hair, piercing blue eyes, and impeccable, high-end business attire.\n",
       "\n",
       "**Description**: A ruthless, cunning executive exploiting Eon for corporate gain, serving as a primary antagonist on Earth.\n",
       "\n",
       "**Personality**: Ambitious, manipulative, and devoid of empathy, with a singular focus on profit.\n",
       "\n",
       "### Prompt:\n",
       "\n",
       "**guidance_scale**: 7.0\n",
       "\n",
       "> slow camera arc pan and zoom of a full shot of a Female Caucasian Antagonist/Corporate Executive age 35. Polished, with long, curly blonde hair, piercing blue eyes, and impeccable, high-end business attire.. Hair moving.\n",
       "\n",
       "![Animation of Regina 'The Shark' Thornton](stories/my_story/step_7/characters/corporate_exec.gif)"
      ],
      "text/plain": [
       "<IPython.core.display.Markdown object>"
      ]
     },
     "metadata": {},
     "output_type": "display_data"
    },
    {
     "data": {
      "text/markdown": [
       "Full size GIF: [stories/my_story/step_7/characters/corporate_exec.gif](./stories/my_story/step_7/characters/corporate_exec.gif)"
      ],
      "text/plain": [
       "<IPython.core.display.Markdown object>"
      ]
     },
     "metadata": {},
     "output_type": "display_data"
    },
    {
     "data": {
      "text/markdown": [
       "Full size MP4: [stories/my_story/step_7/characters/corporate_exec.mp4](./stories/my_story/step_7/characters/corporate_exec.mp4)"
      ],
      "text/plain": [
       "<IPython.core.display.Markdown object>"
      ]
     },
     "metadata": {},
     "output_type": "display_data"
    }
   ],
   "source": [
    "from IPython.display import display, Markdown\n",
    "from model_image2video import image_to_video\n",
    "from utils import deindent\n",
    "from PIL import Image\n",
    "\n",
    "for c in story.characters:\n",
    "    src_image_path = f\"{settings.STORY_DIR}/step_7/characters/{c.nickname}_scene.png\"\n",
    "    src_image = Image.open(src_image_path)\n",
    "    \n",
    "    prompt = f\"slow camera arc pan and zoom of a full shot of a {c.gender} {c.race} {c.role} age {c.age}. {c.physical_appearance}. Hair moving.\"\n",
    "    # prompt = f\"{c.animation_description}. {scene.background_animation}\"\n",
    "    # prompt = f\"An slow epic arc shot to the right while zooming in. Grenades are exploding all around the ninja attacks and dust is flying everywhere. {scene.background_animation}\"\n",
    "    # prompt = f\"a {c.gender} {c.race} speaks animatedly, gesturing with their hands. Lasers shoot out of their eyes and an explosion ensues.\"\n",
    "\n",
    "    formatted_prompt = \"\\n\".join([f\"> {line}\" for line in prompt.split(\"\\n\")])\n",
    "    dst_image_path = f\"{settings.STORY_DIR}/step_7/characters/{c.nickname}.gif\"\n",
    "    dst_image_small_path = f\"{settings.STORY_DIR}/step_7/characters/{c.nickname}_small.gif\"\n",
    "    dst_video_path = f\"{settings.STORY_DIR}/step_7/characters/{c.nickname}.mp4\"\n",
    "    guidance_scale = 7.0\n",
    "    \n",
    "    # Don't re-render the video if it already exists\n",
    "    if not os.path.exists(dst_image_small_path):\n",
    "        image_to_video(prompt=prompt, image=src_image, \n",
    "                        video_filename=dst_video_path, \n",
    "                        gif_filename=dst_image_path,\n",
    "                        gif_small_filename=dst_image_small_path,\n",
    "                        display_video=False, loop_reverse=True, sequences=1)\n",
    "\n",
    "    display(Markdown(deindent(f\"\"\"\n",
    "        ---\n",
    "                \n",
    "        ## {c.name}\n",
    "\n",
    "        **Role**: {c.role}\n",
    "                            \n",
    "        **Physical Apperaance**: {c.physical_appearance}\n",
    "\n",
    "        **Description**: {c.description}\n",
    "\n",
    "        **Personality**: {c.personality}\n",
    "\n",
    "        ### Prompt:\n",
    "\n",
    "        **guidance_scale**: {guidance_scale}\n",
    "\n",
    "        {formatted_prompt}\n",
    "\n",
    "        ![Animation of {c.name}]({dst_image_path})\n",
    "\n",
    "    \"\"\")))\n",
    "\n",
    "    display(Markdown(f\"Full size GIF: [{dst_image_path}](./{dst_image_path})\"))\n",
    "    display(Markdown(f\"Full size MP4: [{dst_video_path}](./{dst_video_path})\"))"
   ]
  }
 ],
 "metadata": {
  "kernelspec": {
   "display_name": "plotomatic",
   "language": "python",
   "name": "python3"
  },
  "language_info": {
   "codemirror_mode": {
    "name": "ipython",
    "version": 3
   },
   "file_extension": ".py",
   "mimetype": "text/x-python",
   "name": "python",
   "nbconvert_exporter": "python",
   "pygments_lexer": "ipython3",
   "version": "3.12.7"
  }
 },
 "nbformat": 4,
 "nbformat_minor": 2
}
