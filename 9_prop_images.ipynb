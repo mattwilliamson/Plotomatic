{
 "cells": [
  {
   "cell_type": "markdown",
   "metadata": {},
   "source": [
    "# Scene Images\n",
    "\n",
    "Once again, here is our story so far since generating characters."
   ]
  },
  {
   "cell_type": "code",
   "execution_count": null,
   "metadata": {},
   "outputs": [],
   "source": [
    "import settings\n",
    "from model import Story, Character, Scene, Prop\n",
    "\n",
    "story = Story.load_from_directory(settings.STORY_DIR + \"/step_4\")\n",
    "\n",
    "story.display()"
   ]
  },
  {
   "cell_type": "markdown",
   "metadata": {},
   "source": [
    "# Image Generation\n",
    "Generate images from text"
   ]
  },
  {
   "cell_type": "code",
   "execution_count": null,
   "metadata": {},
   "outputs": [],
   "source": [
    "# Load the model\n",
    "from model_image import generate_image"
   ]
  },
  {
   "cell_type": "markdown",
   "metadata": {},
   "source": [
    "## Prop Image Generation"
   ]
  },
  {
   "cell_type": "code",
   "execution_count": null,
   "metadata": {},
   "outputs": [],
   "source": [
    "# Function to generate images for props\n",
    "\n",
    "from typing import List\n",
    "from IPython.display import Markdown, display\n",
    "\n",
    "\n",
    "def generate_prop_image_prompt(story: Story, prop: Prop):\n",
    "    \"\"\"Generate a prompt to input into a text-to-image model\"\"\"\n",
    "    prompt = f\"\"\"Action shot of {prop.name} with a white background. Takes up half of frame. Strongly adhere to the visual style, time period and location. Entire {prop.name} is visible. A very thick white border separate the item and the edge of the image.\n",
    "Visual Style: {story.visual_style} \n",
    "Medium: {story.medium} \n",
    "Genre: {story.genre} \n",
    "Appearand: {prop.physical_appearance}\n",
    "Story Location: {story.location}\n",
    "Time period: {story.time_period}\"\"\"\n",
    "    return prompt\n",
    "\n",
    "def generate_prop_images(story: Story, props: List[Prop]=None, debug_display=False):\n",
    "    if not props:\n",
    "        props = story.props  # Assuming props are stored in scenes for this example\n",
    "\n",
    "    images = []\n",
    "\n",
    "    for prop in props:\n",
    "        prompt = generate_prop_image_prompt(story, prop)\n",
    "        image = generate_image(prompt, width=512, height=512)\n",
    "        images.append(image)\n",
    "\n",
    "        if debug_display:\n",
    "            display(Markdown(f\"---\\n### Generated Image for prop: {prop.name}\"))\n",
    "            display(Markdown(f\"\\nPrompt: \\n```\\n{prompt}\\n```\"))\n",
    "            display(image)\n",
    "\n",
    "    return images\n",
    "\n",
    "\n",
    "def generate_prop_image(story: Story, prop: Prop, debug_display=False):\n",
    "    return generate_prop_images(story, [prop], debug_display)[0]\n"
   ]
  },
  {
   "cell_type": "markdown",
   "metadata": {},
   "source": [
    "## Example"
   ]
  },
  {
   "cell_type": "code",
   "execution_count": null,
   "metadata": {},
   "outputs": [],
   "source": [
    "from IPython.display import Markdown, display\n",
    "\n",
    "example_story = Story(\n",
    "    prompt=\"A young hero must embark on a dangerous journey to retrieve a magical artifact hidden deep within an enchanted forest. Along the way, they encounter mythical creatures, wise mentors, and cunning adversaries.\",\n",
    "    title=\"The Enchanted Quest\",\n",
    "    genre=\"Fantasy\",\n",
    "    medium=\"Book\",\n",
    "    visual_style=\"Epic Fantasy\",\n",
    "    characters=[\n",
    "        Character(\n",
    "            name=\"Elara\",\n",
    "            role=\"Young Hero\",\n",
    "            description=\"A brave and determined young hero with a strong sense of justice.\",\n",
    "            personality=\"Courageous, resourceful, and kind-hearted.\",\n",
    "            physical_appearance=\"Slim build, with long dark hair and piercing green eyes.\",\n",
    "            props=[\"Elara's Sword\", \"Elara's Shield\", \"Elara's Map\"]\n",
    "        ),\n",
    "        Character(\n",
    "            name=\"Thalion\",\n",
    "            role=\"Wise Mentor\",\n",
    "            description=\"An experienced and wise mentor who guides the hero through their journey.\",\n",
    "            personality=\"Patient, knowledgeable, and protective.\",\n",
    "            physical_appearance=\"Tall and imposing, with silver hair and a long flowing robe.\",\n",
    "            props=[\"Thalion's Staff\", \"Thalion's Tome\"]\n",
    "        )\n",
    "    ],\n",
    "    plot_overview=\"In a mystical kingdom threatened by chaos, a warrior from the future appears to prevent a disaster caused by a time-traveling villain. The kingdom's fate rests on ancient relics that control time, and the warrior must find them before the villain gains control. Along the way, the warrior forms an unlikely alliance with a local mage, a renegade knight, and a young thief. Together, they navigate betrayal, ancient curses, and forbidden knowledge. As the final battle approaches, the warrior must confront not only the villain but also the dark truth about their own origin.\",\n",
    "    scenes=[\n",
    "        Scene(\n",
    "            title=\"The Enchanted Forest\",\n",
    "            description=\"Elara and Thalion journey through the enchanted forest, navigating treacherous paths and mythical creatures.\",\n",
    "            characters_involved=[\"Elara\", \"Thalion\"],\n",
    "            setting=\"The enchanted forest, with towering trees and glowing mushrooms.\",\n",
    "            time_of_day=\"Day\",\n",
    "            location=\"The mystical kingdom.\",\n",
    "            lighting=\"Bright and warm.\",\n",
    "            mood=\"Exciting and adventurous.\",\n",
    "            props=[\"Elara's Map\", \"Thalion's Staff\"],\n",
    "            key_actions=[\n",
    "                \"Elara and Thalion encounter a pack of ferocious wolves.\",\n",
    "                \"Thalion uses his magic to calm the wolves and lead them away.\"\n",
    "            ]\n",
    "        ),\n",
    "        Scene(\n",
    "            title=\"The Ancient Temple\",\n",
    "            description=\"Elara and Thalion discover an ancient temple hidden deep within the forest, containing a powerful magical artifact.\",\n",
    "            characters_involved=[\"Elara\", \"Thalion\"],\n",
    "            setting=\"The ancient temple, with intricate carvings and glowing runes.\",\n",
    "            time_of_day=\"Night\",\n",
    "            location=\"The mystical kingdom.\",\n",
    "            lighting=\"Dim and mystical.\",\n",
    "            mood=\"Mysterious and ominous.\",\n",
    "            props=[\"Thalion's Tome\"],\n",
    "            key_actions=[\n",
    "                \"Elara and Thalion discover a hidden chamber containing the magical artifact.\",\n",
    "                \"Thalion deciphers the runes to unlock a secret door.\"\n",
    "            ]\n",
    "        )\n",
    "    ],\n",
    "    props=[\n",
    "        Prop(\n",
    "            name=\"Elara's Sword\",\n",
    "            description=\"A finely crafted sword with a silver blade and a leather-wrapped hilt.\",\n",
    "            purpose=\"A trusty companion for Elara in battle.\",\n",
    "            physical_appearance=\"A slender sword with a silver blade and a leather-wrapped hilt.\",\n",
    "            animation_description=\"Elara wields the sword with ease, striking down enemies with precision and skill.\"\n",
    "        ),\n",
    "        Prop(\n",
    "            name=\"Elara's Shield\",\n",
    "            description=\"A sturdy shield with a wooden frame and a leather cover.\",\n",
    "            purpose=\"A protective barrier for Elara in battle.\",\n",
    "            physical_appearance=\"A sturdy shield with a wooden frame and a leather cover.\",\n",
    "            animation_description=\"Elara holds the shield aloft, deflecting arrows and spells with ease.\"\n",
    "        ),\n",
    "        Prop(\n",
    "            name=\"Elara's Map\",\n",
    "            description=\"A worn and torn map with cryptic markings and symbols.\",\n",
    "            purpose=\"A guide for Elara on her journey.\",\n",
    "            physical_appearance=\"A worn and torn map with cryptic markings and symbols.\",\n",
    "            animation_description=\"Elara studies the map, deciphering the symbols and markings to navigate the forest.\"\n",
    "        ),\n",
    "        Prop(\n",
    "            name=\"Thalion's Staff\",\n",
    "            description=\"A sturdy staff with a wooden handle and a glowing crystal at the tip.\",\n",
    "            purpose=\"A focus for Thalion's magic.\",\n",
    "            physical_appearance=\"A sturdy staff with a wooden handle and a glowing crystal at the tip.\",\n",
    "            animation_description=\"Thalion wields the staff with authority, channeling his magic to heal and protect his allies.\"\n",
    "        ),\n",
    "        Prop(\n",
    "            name=\"Thalion's Tome\",\n",
    "            description=\"An ancient book with yellowed pages and cryptic writings.\",\n",
    "            purpose=\"A source of knowledge for Thalion.\",\n",
    "            physical_appearance=\"An ancient book with yellowed pages and cryptic writings.\",\n",
    "            animation_description=\"Thalion studies the tome, deciphering the writings and unlocking the secrets of the forest.\"\n",
    "        )\n",
    "    ]\n",
    ")\n",
    "\n",
    "display(Markdown(\"### Generated Prop Images:\\n\\n\"))\n",
    "\n",
    "generate_prop_images(example_story, debug_display=True)\n"
   ]
  },
  {
   "cell_type": "markdown",
   "metadata": {},
   "source": [
    "## Update Our Story\n",
    "After Generating the scene images."
   ]
  },
  {
   "cell_type": "code",
   "execution_count": null,
   "metadata": {},
   "outputs": [],
   "source": [
    "# This will update the state of the story object with the images for each prop\n",
    "prop_images = generate_prop_images(story, debug_display=True)\n",
    "for i, prop in enumerate(story.props):\n",
    "    prop.image = prop_images[i]"
   ]
  },
  {
   "cell_type": "markdown",
   "metadata": {},
   "source": [
    "# Save the Story\n",
    "Let's keep our progress so far."
   ]
  },
  {
   "cell_type": "code",
   "execution_count": null,
   "metadata": {},
   "outputs": [],
   "source": [
    "story.save_to_directory(settings.STORY_DIR + \"/step_7\")"
   ]
  },
  {
   "cell_type": "markdown",
   "metadata": {},
   "source": [
    "## Free up memory\n",
    "Done doing image operations. Free memory for next model."
   ]
  },
  {
   "cell_type": "code",
   "execution_count": null,
   "metadata": {},
   "outputs": [],
   "source": [
    "from model_image import free_memory\n",
    "free_memory()"
   ]
  },
  {
   "cell_type": "markdown",
   "metadata": {},
   "source": [
    "# Next Step\n",
    "Onto [Step 8: Prop Descriptions](./8_prop_descriptions.ipynb)"
   ]
  }
 ],
 "metadata": {
  "kernelspec": {
   "display_name": "story_generator",
   "language": "python",
   "name": "python3"
  },
  "language_info": {
   "codemirror_mode": {
    "name": "ipython",
    "version": 3
   },
   "file_extension": ".py",
   "mimetype": "text/x-python",
   "name": "python",
   "nbconvert_exporter": "python",
   "pygments_lexer": "ipython3",
   "version": "3.12.7"
  }
 },
 "nbformat": 4,
 "nbformat_minor": 2
}
