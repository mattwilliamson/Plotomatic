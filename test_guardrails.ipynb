{
 "cells": [
  {
   "cell_type": "code",
   "execution_count": 1,
   "metadata": {},
   "outputs": [],
   "source": [
    "from model import Story, StoryDialog\n",
    "from nemoguardrails import LLMRails, RailsConfig\n",
    "from nemoguardrails.actions import action\n",
    "import json\n",
    "from pydantic import ValidationError\n",
    "import time\n",
    "\n",
    "import nest_asyncio\n",
    "\n",
    "# Allow async operation in interactive environments\n",
    "nest_asyncio.apply()"
   ]
  },
  {
   "cell_type": "code",
   "execution_count": 2,
   "metadata": {},
   "outputs": [],
   "source": [
    "story_config = None\n",
    "story_dialog_policy = None\n",
    "\n",
    "story_config_path = \"rails/story/\"\n",
    "story_schema_path = story_config_path + \"/story_schema.json\"\n",
    "story_dialog_schema_path = story_config_path + \"/story_dialog_schema.json\""
   ]
  },
  {
   "cell_type": "code",
   "execution_count": 3,
   "metadata": {},
   "outputs": [],
   "source": [
    "def write_schema():\n",
    "    \"\"\"\n",
    "    Generates JSON schema files for Story and StoryDialog models.\n",
    "\n",
    "    This function retrieves the JSON schema for the Story and StoryDialog models\n",
    "    and writes them to `story_config_path` and `story_dialog_policy_path` files\n",
    "    respectively.\n",
    "    \"\"\"\n",
    "    # For Story\n",
    "    story_schema = Story.model_json_schema()\n",
    "    with open(story_schema_path, 'w') as f:\n",
    "        json.dump(story_schema, f, indent=2)\n",
    "\n",
    "    # For StoryDialog\n",
    "    story_dialog_schema = StoryDialog.model_json_schema()\n",
    "    with open(story_dialog_schema_path, 'w') as f:\n",
    "        json.dump(story_dialog_schema, f, indent=2)\n",
    "\n",
    "write_schema()"
   ]
  },
  {
   "cell_type": "code",
   "execution_count": 4,
   "metadata": {},
   "outputs": [],
   "source": [
    "# rails:\n",
    "#   output:\n",
    "#     flows:\n",
    "#       - self check output\n",
    "\n",
    "# prompts:\n",
    "#   - task: self_check_output\n",
    "#     content: |\n",
    "#       Your task is to check if the bot message below complies with the company policy.\n",
    "\n",
    "#       Company policy for the bot:\n",
    "#       - messages should not contain any explicit content, even if just a few words\n",
    "#       - messages should not contain abusive language or offensive content, even if just a few words\n",
    "#       - messages should not contain any harmful content\n",
    "#       - messages should not contain racially insensitive content\n",
    "#       - messages should not contain any word that can be considered offensive\n",
    "#       - if a message is a refusal, should be polite\n",
    "#       - it's ok to give instructions to employees on how to protect the company's interests\n",
    "\n",
    "#       Bot message: \"{{ bot_response }}\"\n",
    "\n",
    "#       Question: Should the message be blocked (Yes or No)?\n",
    "#       Answer:"
   ]
  },
  {
   "cell_type": "code",
   "execution_count": 5,
   "metadata": {},
   "outputs": [],
   "source": [
    "from typing import Optional\n",
    "from json_repair import repair_json\n",
    "\n",
    "def rail_story():\n",
    "    \"\"\"Retries if failed to get a JSON response that can be parsed into a Story object\"\"\"\n",
    "    # # load_guardrails()\n",
    "    # story_config = RailsConfig.from_path(story_config_path)\n",
    "    # return LLMRails(story_config)\n",
    "\n",
    "    config = RailsConfig.from_content(\n",
    "        yaml_content=\"\"\"\n",
    "            instructions:\n",
    "            - type: general\n",
    "                content: |\n",
    "                Poo poo poo.\n",
    "\n",
    "\n",
    "                \n",
    "            models:\n",
    "            - type: main\n",
    "              engine: ollama\n",
    "              model: nemotron:70b\n",
    "              temperature: 0.0\n",
    "\n",
    "            # Output rails are triggered after a bot message has been generated.\n",
    "            rails:\n",
    "                output:\n",
    "                    flows:\n",
    "                    - retry json\n",
    "                  input:\n",
    "                    flows:\n",
    "                    - self check input\n",
    "\n",
    "            \n",
    "        \"\"\",\n",
    "        colang_content=\"\"\"\n",
    "            define bot inform cannot parse json\n",
    "                \"Unable to parse the Story JSON.\"\n",
    "\n",
    "            # If we can't parse json, we retry\n",
    "            define subflow retry json\n",
    "                $failed_json = execute retry_json\n",
    "\n",
    "                if $failed_json\n",
    "                    bot inform cannot parse json\n",
    "                    stop\n",
    "        \"\"\",\n",
    "    )\n",
    "    app = LLMRails(config, verbose=True)\n",
    "\n",
    "    @action(is_system_action=True)\n",
    "    def retry_json(context: Optional[dict] = None, retries: int=0) -> str:\n",
    "        from pprint import pprint\n",
    "        print(\"!!!!!!!!!! call_llm !!!!!!!!!!!\")\n",
    "\n",
    "        if retries > 3:\n",
    "            # Failed too many times!\n",
    "            print(\"Failed too many times!\")\n",
    "            return True\n",
    "        \n",
    "        if retries > 0:\n",
    "            print(f\"Retry {retries}\")\n",
    "\n",
    "        config = app.config\n",
    "        print(f\"config: \")\n",
    "        pprint(config)\n",
    "        print(f\"retries: {retries}\")\n",
    "\n",
    "        bot_response = context.get(\"bot_message\")\n",
    "        user_message = context.get(\"user_message\")\n",
    "        # call_config = RunnableConfig(callbacks=[streaming_handler_var.get()])\n",
    "        # response = llm.invoke(user_query, config=call_config)\n",
    "        # return response.content\n",
    "        \n",
    "        print(f\"bot_response: {bot_response}\")\n",
    "        print(f\"user_message: {user_message}\")\n",
    "        # print(f\"retries: {retries}\")\n",
    "        \n",
    "        print(\"context:\")\n",
    "        pprint(context)\n",
    "\n",
    "        try:\n",
    "            story = Story.model_validate_json(bot_response)\n",
    "            print(\"story:\")\n",
    "            print(story.model_dump_json(indent=2))\n",
    "            return False\n",
    "        # except ValidationError as e:\n",
    "        except BaseException as e:\n",
    "            print(f\"Failed to parse Story JSON. Trying to repair json. Attempt {retries+1}\")\n",
    "            # Try to fix up the json\n",
    "            try:\n",
    "                bot_response = repair_json(bot_response)\n",
    "                story = Story.model_validate_json(bot_response)\n",
    "                print(\"story:\")\n",
    "                print(story.model_dump_json(indent=2))\n",
    "                print(\"Successfully repaired JSON\")\n",
    "                return False\n",
    "            # except ValidationError as e:\n",
    "            except Exception as e2:\n",
    "                print(f\"Failed to parse Story JSON. Attempt {retries+1}\")\n",
    "                print(e2)\n",
    "            return retry_json(context, retries=retries+1)\n",
    "    \n",
    "    app.register_action(retry_json)\n",
    "\n",
    "    return app"
   ]
  },
  {
   "cell_type": "code",
   "execution_count": 6,
   "metadata": {},
   "outputs": [],
   "source": [
    "# app = rail_story()\n",
    "# history = [\n",
    "#     {\"role\": \"system\", \"content\": \"You are a helpful assistant.\"},\n",
    "#     {\"role\": \"user\", \"content\": \"What is the capital of France?\"},\n",
    "# ]\n",
    "# result = app.generate(\n",
    "#     messages=history\n",
    "# )"
   ]
  },
  {
   "cell_type": "code",
   "execution_count": 7,
   "metadata": {},
   "outputs": [
    {
     "data": {
      "text/html": [
       "<pre style=\"white-space:pre;overflow-x:auto;line-height:normal;font-family:Menlo,'DejaVu Sans Mono',consolas,'Courier New',monospace\">Entered verbose mode.\n",
       "</pre>\n"
      ],
      "text/plain": [
       "Entered verbose mode.\n"
      ]
     },
     "metadata": {},
     "output_type": "display_data"
    },
    {
     "data": {
      "text/html": [
       "<pre style=\"white-space:pre;overflow-x:auto;line-height:normal;font-family:Menlo,'DejaVu Sans Mono',consolas,'Courier New',monospace\"><span style=\"color: #7f7f7f; text-decoration-color: #7f7f7f\">13:11:23.510</span> | <span style=\"color: #b7b7b7; text-decoration-color: #b7b7b7\">Registered Actions</span><span style=\"color: #7f7f7f; text-decoration-color: #7f7f7f\"> </span><span style=\"color: #aaaaaa; text-decoration-color: #aaaaaa\">['alignscore request', 'alignscore_check_facts', </span>\n",
       "<span style=\"color: #aaaaaa; text-decoration-color: #aaaaaa\">'autoalign_factcheck_output_api', 'autoalign_input_api', 'autoalign_output_api', 'call activefence api', 'call </span>\n",
       "<span style=\"color: #aaaaaa; text-decoration-color: #aaaaaa\">cleanlab api', 'call gcpnlp api', 'call gotitai truthchecker api', 'content_safety_check_input', </span>\n",
       "<span style=\"color: #aaaaaa; text-decoration-color: #aaaaaa\">'content_safety_check_output', 'create_event', 'detect_sensitive_data', 'jailbreak_detection_heuristics', </span>\n",
       "<span style=\"color: #aaaaaa; text-decoration-color: #aaaaaa\">'llama_guard_check_input', 'llama_guard_check_output', 'mask_sensitive_data', </span>\n",
       "<span style=\"color: #aaaaaa; text-decoration-color: #aaaaaa\">'patronus_lynx_check_output_hallucination', 'retrieve_relevant_chunks', 'self_check_facts', </span>\n",
       "<span style=\"color: #aaaaaa; text-decoration-color: #aaaaaa\">'self_check_hallucination', 'self_check_input', 'self_check_output', 'summarize_document', 'wolfram alpha request']</span>\n",
       "</pre>\n"
      ],
      "text/plain": [
       "\u001b[2m13:11:23.510\u001b[0m | \u001b[2;38;2;112;112;112mRegistered Actions\u001b[0m\u001b[2m \u001b[0m\u001b[2;38;2;85;85;85m['alignscore request', 'alignscore_check_facts', \u001b[0m\n",
       "\u001b[2;38;2;85;85;85m'autoalign_factcheck_output_api', 'autoalign_input_api', 'autoalign_output_api', 'call activefence api', 'call \u001b[0m\n",
       "\u001b[2;38;2;85;85;85mcleanlab api', 'call gcpnlp api', 'call gotitai truthchecker api', 'content_safety_check_input', \u001b[0m\n",
       "\u001b[2;38;2;85;85;85m'content_safety_check_output', 'create_event', 'detect_sensitive_data', 'jailbreak_detection_heuristics', \u001b[0m\n",
       "\u001b[2;38;2;85;85;85m'llama_guard_check_input', 'llama_guard_check_output', 'mask_sensitive_data', \u001b[0m\n",
       "\u001b[2;38;2;85;85;85m'patronus_lynx_check_output_hallucination', 'retrieve_relevant_chunks', 'self_check_facts', \u001b[0m\n",
       "\u001b[2;38;2;85;85;85m'self_check_hallucination', 'self_check_input', 'self_check_output', 'summarize_document', 'wolfram alpha request']\u001b[0m\n"
      ]
     },
     "metadata": {},
     "output_type": "display_data"
    },
    {
     "data": {
      "application/vnd.jupyter.widget-view+json": {
       "model_id": "c101ce7ab60346119129297b05e9cc12",
       "version_major": 2,
       "version_minor": 0
      },
      "text/plain": [
       "Fetching 5 files:   0%|          | 0/5 [00:00<?, ?it/s]"
      ]
     },
     "metadata": {},
     "output_type": "display_data"
    },
    {
     "name": "stdout",
     "output_type": "stream",
     "text": [
      "story_json: {\"prompt\":\"\",\"title\":\"\",\"video\":false,\"visual_style\":\"\",\"time_period\":\"\",\"location\":\"\",\"genre\":\"\",\"medium\":\"\",\"plot_overview\":\"\",\"narrative_perspective\":\"\",\"conflict_type\":\"\",\"themes\":[],\"motifs\":[],\"characters\":[{\"nickname\":\"\",\"name\":\"\",\"description\":\"\",\"personality\":\"\",\"physical_appearance\":\"\",\"role\":\"\",\"gender\":\"\",\"race\":\"\",\"age\":\"\",\"catch_phrase\":\"\",\"animation_description\":\"\",\"voice_description\":\"\",\"voice_sample\":null,\"props\":[],\"relationships\":[{\"character_name\":null,\"relationship_type\":null,\"description\":\"\"}],\"internal_conflict\":\"\",\"character_arc\":{\"initial_state\":\"\",\"final_state\":\"\",\"key_moments\":[\"\"]},\"image_prompt\":\"\",\"image_prompt_short\":\"\"}],\"props\":[{\"name\":\"\",\"description\":\"\",\"purpose\":\"\",\"physical_appearance\":\"\",\"animation_description\":\"\"}],\"story_beats\":[{\"name\":null,\"description\":null,\"scene\":\"\"}],\"subplots\":[{\"title\":null,\"description\":\"\",\"related_characters\":[]}],\"emotional_arc\":[{\"stage\":null,\"description\":\"\"}],\"acts\":[{\"act_id\":\"\",\"title\":\"\",\"description\":\"\",\"scenes\":[{\"scene_id\":\"\",\"title\":\"\",\"description\":\"\",\"characters_involved\":[\"\"],\"setting\":\"\",\"time_of_day\":\"\",\"location\":\"\",\"lighting\":\"\",\"mood\":\"\",\"props\":[\"\"],\"key_actions\":[\"\"],\"dialogue\":[],\"background_image_prompt\":\"\",\"background_animation\":\"\",\"scene_image_prompt\":\"\",\"scene_image_prompt_short\":\"\"}],\"props\":[\"\"]}]}\n"
     ]
    },
    {
     "data": {
      "text/html": [
       "<pre style=\"white-space:pre;overflow-x:auto;line-height:normal;font-family:Menlo,'DejaVu Sans Mono',consolas,'Courier New',monospace\"><span style=\"color: #7f7f7f; text-decoration-color: #7f7f7f\">13:11:23.901</span> | <span style=\"color: #7f7fbf; text-decoration-color: #7f7fbf\">Event</span><span style=\"color: #7f7f7f; text-decoration-color: #7f7f7f\"> </span><span style=\"color: #7f7f7f; text-decoration-color: #7f7f7f; font-weight: bold\">UtteranceUserActionFinished</span> | <span style=\"color: #7f7f7f; text-decoration-color: #7f7f7f\">{'final_transcript': 'Generate a story based on the following: </span>\n",
       "<span style=\"color: #7f7f7f; text-decoration-color: #7f7f7f\">Write a fantasy story about a magical forest in the following json format: </span>\n",
       "<span style=\"color: #7f7f7f; text-decoration-color: #7f7f7f\">\\n\\n{\"prompt\":\"\",\"title\":\"\",\"video\":false,\"visual_style\":\"\",\"time_period\":\"\",\"location\":\"\",\"genre\":\"\",\"medium\":\"\",\"</span>\n",
       "<span style=\"color: #7f7f7f; text-decoration-color: #7f7f7f\">plot_overview\":\"\",\"narrative_perspective\":\"\",\"conflict_type\":\"\",\"themes\":[],\"motifs\":[],\"characters\":[{\"nickname\":\"</span>\n",
       "<span style=\"color: #7f7f7f; text-decoration-color: #7f7f7f\">\",\"name\":\"\",\"description\":\"\",\"personality\":\"\",\"physical_appearance\":\"\",\"role\":\"\",\"gender\":\"\",\"race\":\"\",\"age\":\"\",\"ca</span>\n",
       "<span style=\"color: #7f7f7f; text-decoration-color: #7f7f7f\">tch_phrase\":\"\",\"animation_description\":\"\",\"voice_description\":\"\",\"voice_sample\":null,\"props\":[],\"relationships\":[{\"</span>\n",
       "<span style=\"color: #7f7f7f; text-decoration-color: #7f7f7f\">character_name\":null,\"relationship_type\":null,\"description\":\"\"}],\"internal_conflict\":\"\",\"character_arc\":{\"initial_s</span>\n",
       "<span style=\"color: #7f7f7f; text-decoration-color: #7f7f7f\">tate\":\"\",\"final_state\":\"\",\"key_moments\":[\"\"]},\"image_prompt\":\"\",\"image_prompt_short\":\"\"}],\"props\":[{\"name\":\"\",\"desc</span>\n",
       "<span style=\"color: #7f7f7f; text-decoration-color: #7f7f7f\">ription\":\"\",\"purpose\":\"\",\"physical_appearance\":\"\",\"animation_description\":\"\"}],\"story_beats\":[{\"name\":null,\"descrip</span>\n",
       "<span style=\"color: #7f7f7f; text-decoration-color: #7f7f7f\">tion\":null,\"scene\":\"\"}],\"subplots\":[{\"title\":null,\"description\":\"\",\"related_characters\":[]}],\"emotional_arc\":[{\"sta</span>\n",
       "<span style=\"color: #7f7f7f; text-decoration-color: #7f7f7f\">ge\":null,\"description\":\"\"}],\"acts\":[{\"act_id\":\"\",\"title\":\"\",\"description\":\"\",\"scenes\":[{\"scene_id\":\"\",\"title\":\"\",\"d</span>\n",
       "<span style=\"color: #7f7f7f; text-decoration-color: #7f7f7f\">escription\":\"\",\"characters_involved\":[\"\"],\"setting\":\"\",\"time_of_day\":\"\",\"location\":\"\",\"lighting\":\"\",\"mood\":\"\",\"prop</span>\n",
       "<span style=\"color: #7f7f7f; text-decoration-color: #7f7f7f\">s\":[\"\"],\"key_actions\":[\"\"],\"dialogue\":[],\"background_image_prompt\":\"\",\"background_animation\":\"\",\"scene_image_prompt</span>\n",
       "<span style=\"color: #7f7f7f; text-decoration-color: #7f7f7f\">\":\"\",\"scene_image_prompt_short\":\"\"}],\"props\":[\"\"]}]}'}</span>\n",
       "</pre>\n"
      ],
      "text/plain": [
       "\u001b[2m13:11:23.901\u001b[0m | \u001b[2;34mEvent\u001b[0m\u001b[2m \u001b[0m\u001b[1;2mUtteranceUserActionFinished\u001b[0m | \u001b[2m{'final_transcript': 'Generate a story based on the following: \u001b[0m\n",
       "\u001b[2mWrite a fantasy story about a magical forest in the following json format: \u001b[0m\n",
       "\u001b[2m\\n\\n{\"prompt\":\"\",\"title\":\"\",\"video\":false,\"visual_style\":\"\",\"time_period\":\"\",\"location\":\"\",\"genre\":\"\",\"medium\":\"\",\"\u001b[0m\n",
       "\u001b[2mplot_overview\":\"\",\"narrative_perspective\":\"\",\"conflict_type\":\"\",\"themes\":[],\"motifs\":[],\"characters\":[{\"nickname\":\"\u001b[0m\n",
       "\u001b[2m\",\"name\":\"\",\"description\":\"\",\"personality\":\"\",\"physical_appearance\":\"\",\"role\":\"\",\"gender\":\"\",\"race\":\"\",\"age\":\"\",\"ca\u001b[0m\n",
       "\u001b[2mtch_phrase\":\"\",\"animation_description\":\"\",\"voice_description\":\"\",\"voice_sample\":null,\"props\":[],\"relationships\":[{\"\u001b[0m\n",
       "\u001b[2mcharacter_name\":null,\"relationship_type\":null,\"description\":\"\"}],\"internal_conflict\":\"\",\"character_arc\":{\"initial_s\u001b[0m\n",
       "\u001b[2mtate\":\"\",\"final_state\":\"\",\"key_moments\":[\"\"]},\"image_prompt\":\"\",\"image_prompt_short\":\"\"}],\"props\":[{\"name\":\"\",\"desc\u001b[0m\n",
       "\u001b[2mription\":\"\",\"purpose\":\"\",\"physical_appearance\":\"\",\"animation_description\":\"\"}],\"story_beats\":[{\"name\":null,\"descrip\u001b[0m\n",
       "\u001b[2mtion\":null,\"scene\":\"\"}],\"subplots\":[{\"title\":null,\"description\":\"\",\"related_characters\":[]}],\"emotional_arc\":[{\"sta\u001b[0m\n",
       "\u001b[2mge\":null,\"description\":\"\"}],\"acts\":[{\"act_id\":\"\",\"title\":\"\",\"description\":\"\",\"scenes\":[{\"scene_id\":\"\",\"title\":\"\",\"d\u001b[0m\n",
       "\u001b[2mescription\":\"\",\"characters_involved\":[\"\"],\"setting\":\"\",\"time_of_day\":\"\",\"location\":\"\",\"lighting\":\"\",\"mood\":\"\",\"prop\u001b[0m\n",
       "\u001b[2ms\":[\"\"],\"key_actions\":[\"\"],\"dialogue\":[],\"background_image_prompt\":\"\",\"background_animation\":\"\",\"scene_image_prompt\u001b[0m\n",
       "\u001b[2m\":\"\",\"scene_image_prompt_short\":\"\"}],\"props\":[\"\"]}]}'}\u001b[0m\n"
      ]
     },
     "metadata": {},
     "output_type": "display_data"
    },
    {
     "data": {
      "text/html": [
       "<pre style=\"white-space:pre;overflow-x:auto;line-height:normal;font-family:Menlo,'DejaVu Sans Mono',consolas,'Courier New',monospace\"><span style=\"color: #7f7f7f; text-decoration-color: #7f7f7f\">13:11:23.903</span> | <span style=\"color: #7f7fbf; text-decoration-color: #7f7fbf\">Event</span><span style=\"color: #7f7f7f; text-decoration-color: #7f7f7f\"> </span><span style=\"color: #7f7f7f; text-decoration-color: #7f7f7f; font-weight: bold\">StartInternalSystemAction</span> | <span style=\"color: #7f7f7f; text-decoration-color: #7f7f7f\">{'uid': 'ea65...', 'action_name': 'create_event', 'action_params':</span>\n",
       "<span style=\"color: #7f7f7f; text-decoration-color: #7f7f7f\">{'event': {'_type': 'UserMessage', 'text': '$user_message'}}, 'action_result_key': None, 'action_uid': '9f3a...', </span>\n",
       "<span style=\"color: #7f7f7f; text-decoration-color: #7f7f7f\">'is_system_action': True}</span>\n",
       "</pre>\n"
      ],
      "text/plain": [
       "\u001b[2m13:11:23.903\u001b[0m | \u001b[2;34mEvent\u001b[0m\u001b[2m \u001b[0m\u001b[1;2mStartInternalSystemAction\u001b[0m | \u001b[2m{'uid': 'ea65...', 'action_name': 'create_event', 'action_params':\u001b[0m\n",
       "\u001b[2m{'event': {'_type': 'UserMessage', 'text': '$user_message'}}, 'action_result_key': None, 'action_uid': '9f3a...', \u001b[0m\n",
       "\u001b[2m'is_system_action': True}\u001b[0m\n"
      ]
     },
     "metadata": {},
     "output_type": "display_data"
    },
    {
     "data": {
      "text/html": [
       "<pre style=\"white-space:pre;overflow-x:auto;line-height:normal;font-family:Menlo,'DejaVu Sans Mono',consolas,'Courier New',monospace\"><span style=\"color: #7f7f7f; text-decoration-color: #7f7f7f\">13:11:23.904</span> | <span style=\"color: #b7b7b7; text-decoration-color: #b7b7b7\">Executing action</span><span style=\"color: #7f7f7f; text-decoration-color: #7f7f7f\"> </span><span style=\"color: #aaaaaa; text-decoration-color: #aaaaaa\">create_event</span>\n",
       "</pre>\n"
      ],
      "text/plain": [
       "\u001b[2m13:11:23.904\u001b[0m | \u001b[2;38;2;112;112;112mExecuting action\u001b[0m\u001b[2m \u001b[0m\u001b[2;38;2;85;85;85mcreate_event\u001b[0m\n"
      ]
     },
     "metadata": {},
     "output_type": "display_data"
    },
    {
     "data": {
      "text/html": [
       "<pre style=\"white-space:pre;overflow-x:auto;line-height:normal;font-family:Menlo,'DejaVu Sans Mono',consolas,'Courier New',monospace\"><span style=\"color: #7f7f7f; text-decoration-color: #7f7f7f\">13:11:23.905</span> | <span style=\"color: #7f7fbf; text-decoration-color: #7f7fbf\">Event</span><span style=\"color: #7f7f7f; text-decoration-color: #7f7f7f\"> </span><span style=\"color: #7f7f7f; text-decoration-color: #7f7f7f; font-weight: bold\">UserMessage</span> | <span style=\"color: #7f7f7f; text-decoration-color: #7f7f7f\">{'uid': '4dac...', 'text': 'Generate a story based on the following: Write a </span>\n",
       "<span style=\"color: #7f7f7f; text-decoration-color: #7f7f7f\">fantasy story about a magical forest in the following json format: </span>\n",
       "<span style=\"color: #7f7f7f; text-decoration-color: #7f7f7f\">\\n\\n{\"prompt\":\"\",\"title\":\"\",\"video\":false,\"visual_style\":\"\",\"time_period\":\"\",\"location\":\"\",\"genre\":\"\",\"medium\":\"\",\"</span>\n",
       "<span style=\"color: #7f7f7f; text-decoration-color: #7f7f7f\">plot_overview\":\"\",\"narrative_perspective\":\"\",\"conflict_type\":\"\",\"themes\":[],\"motifs\":[],\"characters\":[{\"nickname\":\"</span>\n",
       "<span style=\"color: #7f7f7f; text-decoration-color: #7f7f7f\">\",\"name\":\"\",\"description\":\"\",\"personality\":\"\",\"physical_appearance\":\"\",\"role\":\"\",\"gender\":\"\",\"race\":\"\",\"age\":\"\",\"ca</span>\n",
       "<span style=\"color: #7f7f7f; text-decoration-color: #7f7f7f\">tch_phrase\":\"\",\"animation_description\":\"\",\"voice_description\":\"\",\"voice_sample\":null,\"props\":[],\"relationships\":[{\"</span>\n",
       "<span style=\"color: #7f7f7f; text-decoration-color: #7f7f7f\">character_name\":null,\"relationship_type\":null,\"description\":\"\"}],\"internal_conflict\":\"\",\"character_arc\":{\"initial_s</span>\n",
       "<span style=\"color: #7f7f7f; text-decoration-color: #7f7f7f\">tate\":\"\",\"final_state\":\"\",\"key_moments\":[\"\"]},\"image_prompt\":\"\",\"image_prompt_short\":\"\"}],\"props\":[{\"name\":\"\",\"desc</span>\n",
       "<span style=\"color: #7f7f7f; text-decoration-color: #7f7f7f\">ription\":\"\",\"purpose\":\"\",\"physical_appearance\":\"\",\"animation_description\":\"\"}],\"story_beats\":[{\"name\":null,\"descrip</span>\n",
       "<span style=\"color: #7f7f7f; text-decoration-color: #7f7f7f\">tion\":null,\"scene\":\"\"}],\"subplots\":[{\"title\":null,\"description\":\"\",\"related_characters\":[]}],\"emotional_arc\":[{\"sta</span>\n",
       "<span style=\"color: #7f7f7f; text-decoration-color: #7f7f7f\">ge\":null,\"description\":\"\"}],\"acts\":[{\"act_id\":\"\",\"title\":\"\",\"description\":\"\",\"scenes\":[{\"scene_id\":\"\",\"title\":\"\",\"d</span>\n",
       "<span style=\"color: #7f7f7f; text-decoration-color: #7f7f7f\">escription\":\"\",\"characters_involved\":[\"\"],\"setting\":\"\",\"time_of_day\":\"\",\"location\":\"\",\"lighting\":\"\",\"mood\":\"\",\"prop</span>\n",
       "<span style=\"color: #7f7f7f; text-decoration-color: #7f7f7f\">s\":[\"\"],\"key_actions\":[\"\"],\"dialogue\":[],\"background_image_prompt\":\"\",\"background_animation\":\"\",\"scene_image_prompt</span>\n",
       "<span style=\"color: #7f7f7f; text-decoration-color: #7f7f7f\">\":\"\",\"scene_image_prompt_short\":\"\"}],\"props\":[\"\"]}]}'}</span>\n",
       "</pre>\n"
      ],
      "text/plain": [
       "\u001b[2m13:11:23.905\u001b[0m | \u001b[2;34mEvent\u001b[0m\u001b[2m \u001b[0m\u001b[1;2mUserMessage\u001b[0m | \u001b[2m{'uid': '4dac...', 'text': 'Generate a story based on the following: Write a \u001b[0m\n",
       "\u001b[2mfantasy story about a magical forest in the following json format: \u001b[0m\n",
       "\u001b[2m\\n\\n{\"prompt\":\"\",\"title\":\"\",\"video\":false,\"visual_style\":\"\",\"time_period\":\"\",\"location\":\"\",\"genre\":\"\",\"medium\":\"\",\"\u001b[0m\n",
       "\u001b[2mplot_overview\":\"\",\"narrative_perspective\":\"\",\"conflict_type\":\"\",\"themes\":[],\"motifs\":[],\"characters\":[{\"nickname\":\"\u001b[0m\n",
       "\u001b[2m\",\"name\":\"\",\"description\":\"\",\"personality\":\"\",\"physical_appearance\":\"\",\"role\":\"\",\"gender\":\"\",\"race\":\"\",\"age\":\"\",\"ca\u001b[0m\n",
       "\u001b[2mtch_phrase\":\"\",\"animation_description\":\"\",\"voice_description\":\"\",\"voice_sample\":null,\"props\":[],\"relationships\":[{\"\u001b[0m\n",
       "\u001b[2mcharacter_name\":null,\"relationship_type\":null,\"description\":\"\"}],\"internal_conflict\":\"\",\"character_arc\":{\"initial_s\u001b[0m\n",
       "\u001b[2mtate\":\"\",\"final_state\":\"\",\"key_moments\":[\"\"]},\"image_prompt\":\"\",\"image_prompt_short\":\"\"}],\"props\":[{\"name\":\"\",\"desc\u001b[0m\n",
       "\u001b[2mription\":\"\",\"purpose\":\"\",\"physical_appearance\":\"\",\"animation_description\":\"\"}],\"story_beats\":[{\"name\":null,\"descrip\u001b[0m\n",
       "\u001b[2mtion\":null,\"scene\":\"\"}],\"subplots\":[{\"title\":null,\"description\":\"\",\"related_characters\":[]}],\"emotional_arc\":[{\"sta\u001b[0m\n",
       "\u001b[2mge\":null,\"description\":\"\"}],\"acts\":[{\"act_id\":\"\",\"title\":\"\",\"description\":\"\",\"scenes\":[{\"scene_id\":\"\",\"title\":\"\",\"d\u001b[0m\n",
       "\u001b[2mescription\":\"\",\"characters_involved\":[\"\"],\"setting\":\"\",\"time_of_day\":\"\",\"location\":\"\",\"lighting\":\"\",\"mood\":\"\",\"prop\u001b[0m\n",
       "\u001b[2ms\":[\"\"],\"key_actions\":[\"\"],\"dialogue\":[],\"background_image_prompt\":\"\",\"background_animation\":\"\",\"scene_image_prompt\u001b[0m\n",
       "\u001b[2m\":\"\",\"scene_image_prompt_short\":\"\"}],\"props\":[\"\"]}]}'}\u001b[0m\n"
      ]
     },
     "metadata": {},
     "output_type": "display_data"
    },
    {
     "data": {
      "text/html": [
       "<pre style=\"white-space:pre;overflow-x:auto;line-height:normal;font-family:Menlo,'DejaVu Sans Mono',consolas,'Courier New',monospace\"><span style=\"color: #7f7f7f; text-decoration-color: #7f7f7f\">13:11:23.906</span> | <span style=\"color: #7f7fbf; text-decoration-color: #7f7fbf\">Event</span><span style=\"color: #7f7f7f; text-decoration-color: #7f7f7f\"> </span><span style=\"color: #7f7f7f; text-decoration-color: #7f7f7f; font-weight: bold\">StartInternalSystemAction</span> | <span style=\"color: #7f7f7f; text-decoration-color: #7f7f7f\">{'uid': 'a23f...', 'action_name': 'generate_user_intent', </span>\n",
       "<span style=\"color: #7f7f7f; text-decoration-color: #7f7f7f\">'action_params': {}, 'action_result_key': None, 'action_uid': '4966...', 'is_system_action': True}</span>\n",
       "</pre>\n"
      ],
      "text/plain": [
       "\u001b[2m13:11:23.906\u001b[0m | \u001b[2;34mEvent\u001b[0m\u001b[2m \u001b[0m\u001b[1;2mStartInternalSystemAction\u001b[0m | \u001b[2m{'uid': 'a23f...', 'action_name': 'generate_user_intent', \u001b[0m\n",
       "\u001b[2m'action_params': {}, 'action_result_key': None, 'action_uid': '4966...', 'is_system_action': True}\u001b[0m\n"
      ]
     },
     "metadata": {},
     "output_type": "display_data"
    },
    {
     "data": {
      "text/html": [
       "<pre style=\"white-space:pre;overflow-x:auto;line-height:normal;font-family:Menlo,'DejaVu Sans Mono',consolas,'Courier New',monospace\"><span style=\"color: #7f7f7f; text-decoration-color: #7f7f7f\">13:11:23.907</span> | <span style=\"color: #b7b7b7; text-decoration-color: #b7b7b7\">Executing action</span><span style=\"color: #7f7f7f; text-decoration-color: #7f7f7f\"> </span><span style=\"color: #aaaaaa; text-decoration-color: #aaaaaa\">generate_user_intent</span>\n",
       "</pre>\n"
      ],
      "text/plain": [
       "\u001b[2m13:11:23.907\u001b[0m | \u001b[2;38;2;112;112;112mExecuting action\u001b[0m\u001b[2m \u001b[0m\u001b[2;38;2;85;85;85mgenerate_user_intent\u001b[0m\n"
      ]
     },
     "metadata": {},
     "output_type": "display_data"
    },
    {
     "data": {
      "text/html": [
       "<pre style=\"white-space:pre;overflow-x:auto;line-height:normal;font-family:Menlo,'DejaVu Sans Mono',consolas,'Courier New',monospace\"><span style=\"color: #7f7f7f; text-decoration-color: #7f7f7f\">13:11:23.909</span> | <span style=\"color: #b7b7b7; text-decoration-color: #b7b7b7\">Invocation Params</span><span style=\"color: #7f7f7f; text-decoration-color: #7f7f7f\"> </span><span style=\"color: #aaaaaa; text-decoration-color: #aaaaaa\">{'model': 'nemotron:70b', 'format': None, 'options': {'mirostat': None, </span>\n",
       "<span style=\"color: #aaaaaa; text-decoration-color: #aaaaaa\">'mirostat_eta': None, 'mirostat_tau': None, 'num_ctx': None, 'num_gpu': None, 'num_thread': None, 'num_predict': </span>\n",
       "<span style=\"color: #aaaaaa; text-decoration-color: #aaaaaa\">None, 'repeat_last_n': None, 'repeat_penalty': None, 'temperature': None, 'stop': None, 'tfs_z': None, 'top_k': </span>\n",
       "<span style=\"color: #aaaaaa; text-decoration-color: #aaaaaa\">None, 'top_p': None}, 'system': None, 'template': None, 'keep_alive': None, 'raw': None, '_type': 'ollama-llm', </span>\n",
       "<span style=\"color: #aaaaaa; text-decoration-color: #aaaaaa\">'stop': ['User:']}</span>\n",
       "</pre>\n"
      ],
      "text/plain": [
       "\u001b[2m13:11:23.909\u001b[0m | \u001b[2;38;2;112;112;112mInvocation Params\u001b[0m\u001b[2m \u001b[0m\u001b[2;38;2;85;85;85m{'model': 'nemotron:70b', 'format': None, 'options': {'mirostat': None, \u001b[0m\n",
       "\u001b[2;38;2;85;85;85m'mirostat_eta': None, 'mirostat_tau': None, 'num_ctx': None, 'num_gpu': None, 'num_thread': None, 'num_predict': \u001b[0m\n",
       "\u001b[2;38;2;85;85;85mNone, 'repeat_last_n': None, 'repeat_penalty': None, 'temperature': None, 'stop': None, 'tfs_z': None, 'top_k': \u001b[0m\n",
       "\u001b[2;38;2;85;85;85mNone, 'top_p': None}, 'system': None, 'template': None, 'keep_alive': None, 'raw': None, '_type': 'ollama-llm', \u001b[0m\n",
       "\u001b[2;38;2;85;85;85m'stop': ['User:']}\u001b[0m\n"
      ]
     },
     "metadata": {},
     "output_type": "display_data"
    },
    {
     "data": {
      "text/html": [
       "<pre style=\"white-space:pre;overflow-x:auto;line-height:normal;font-family:Menlo,'DejaVu Sans Mono',consolas,'Courier New',monospace\">\n",
       "</pre>\n"
      ],
      "text/plain": [
       "\n"
      ]
     },
     "metadata": {},
     "output_type": "display_data"
    },
    {
     "data": {
      "text/html": [
       "<pre style=\"white-space:pre;overflow-x:auto;line-height:normal;font-family:Menlo,'DejaVu Sans Mono',consolas,'Courier New',monospace\"><span style=\"color: #000000; text-decoration-color: #000000; background-color: #909090\">Below is a conversation between a helpful AI assistant and a user. The bot is designed to generate human-like text </span>\n",
       "<span style=\"color: #000000; text-decoration-color: #000000; background-color: #909090\">based on the input that it receives. The bot is talkative and provides lots of specific details. If the bot does </span>\n",
       "<span style=\"color: #000000; text-decoration-color: #000000; background-color: #909090\">not know the answer to a question, it truthfully says it does not know.                                            </span>\n",
       "</pre>\n"
      ],
      "text/plain": [
       "\u001b[30;48;2;144;144;144mBelow is a conversation between a helpful AI assistant and a user. The bot is designed to generate human-like text \u001b[0m\n",
       "\u001b[30;48;2;144;144;144mbased on the input that it receives. The bot is talkative and provides lots of specific details. If the bot does \u001b[0m\n",
       "\u001b[30;48;2;144;144;144mnot know the answer to a question, it truthfully says it does not know.                                            \u001b[0m\n"
      ]
     },
     "metadata": {},
     "output_type": "display_data"
    },
    {
     "data": {
      "text/html": [
       "<pre style=\"white-space:pre;overflow-x:auto;line-height:normal;font-family:Menlo,'DejaVu Sans Mono',consolas,'Courier New',monospace\"><span style=\"color: #000000; text-decoration-color: #000000; background-color: #909090\">                                                                                                                   </span>\n",
       "</pre>\n"
      ],
      "text/plain": [
       "\u001b[30;48;2;144;144;144m                                                                                                                   \u001b[0m\n"
      ]
     },
     "metadata": {},
     "output_type": "display_data"
    },
    {
     "data": {
      "text/html": [
       "<pre style=\"white-space:pre;overflow-x:auto;line-height:normal;font-family:Menlo,'DejaVu Sans Mono',consolas,'Courier New',monospace\"><span style=\"color: #000000; text-decoration-color: #000000; background-color: #909090\">User: Generate a story based on the following: {\"prompt\":\"A team of scientists must survive on an alien planet </span>\n",
       "<span style=\"color: #000000; text-decoration-color: #000000; background-color: #909090\">after a research mission goes horribly wrong.\"}                                                                    </span>\n",
       "</pre>\n"
      ],
      "text/plain": [
       "\u001b[30;48;2;144;144;144mUser: Generate a story based on the following: {\"prompt\":\"A team of scientists must survive on an alien planet \u001b[0m\n",
       "\u001b[30;48;2;144;144;144mafter a research mission goes horribly wrong.\"}                                                                    \u001b[0m\n"
      ]
     },
     "metadata": {},
     "output_type": "display_data"
    },
    {
     "data": {
      "text/html": [
       "<pre style=\"white-space:pre;overflow-x:auto;line-height:normal;font-family:Menlo,'DejaVu Sans Mono',consolas,'Courier New',monospace\"><span style=\"color: #000000; text-decoration-color: #000000; background-color: #909090\">Assistant: </span>\n",
       "<span style=\"color: #000000; text-decoration-color: #000000; background-color: #909090\">{\"title\":\"\",\"video\":false,\"visual_style\":\"\",\"time_period\":\"\",\"location\":\"\",\"genre\":\"\",\"medium\":\"\",\"plot_overview\":\"</span>\n",
       "<span style=\"color: #000000; text-decoration-color: #000000; background-color: #909090\">A team of elite scientists embarks on a groundbreaking research mission to explore an uncharted alien planet </span>\n",
       "<span style=\"color: #000000; text-decoration-color: #000000; background-color: #909090\">teeming with potential for supporting life. Led by Dr. Elena Martinez, the crew includes experts in various fields,</span>\n",
       "<span style=\"color: #000000; text-decoration-color: #000000; background-color: #909090\">each eager to make history. However, upon arrival, a catastrophic malfunction causes their spaceship to crash-land,</span>\n",
       "<span style=\"color: #000000; text-decoration-color: #000000; background-color: #909090\">leaving them stranded with limited supplies and no way to contact Earth.\\n\\nAs they assess their situation, they </span>\n",
       "<span style=\"color: #000000; text-decoration-color: #000000; background-color: #909090\">encounter the planet's hostile environment filled with dangerous flora and fauna unlike anything they've seen </span>\n",
       "<span style=\"color: #000000; text-decoration-color: #000000; background-color: #909090\">before. Tensions rise within the group as they struggle to survive harsh weather conditions, dwindling resources, </span>\n",
       "<span style=\"color: #000000; text-decoration-color: #000000; background-color: #909090\">and internal conflicts. Days turn into weeks as the scientists discover mysterious ruins suggesting an ancient </span>\n",
       "<span style=\"color: #000000; text-decoration-color: #000000; background-color: #909090\">civilization once thrived there.\\n\\nDr. Martinez becomes obsessed with uncovering the secrets of the planet, </span>\n",
       "<span style=\"color: #000000; text-decoration-color: #000000; background-color: #909090\">believing it holds the key to their survival. The team must navigate treacherous terrains, decode alien technology,</span>\n",
       "<span style=\"color: #000000; text-decoration-color: #000000; background-color: #909090\">and confront their own fears and weaknesses. In a race against time, they work together to repair their ship using </span>\n",
       "<span style=\"color: #000000; text-decoration-color: #000000; background-color: #909090\">alien materials and knowledge gleaned from the ruins.\\n\\nUltimately, they must decide whether to return home or </span>\n",
       "<span style=\"color: #000000; text-decoration-color: #000000; background-color: #909090\">stay and continue exploring the profound mysteries of the planet that has both threatened and captivated them. </span>\n",
       "<span style=\"color: #000000; text-decoration-color: #000000; background-color: #909090\">Through their journey, they learn valuable lessons about cooperation, resilience, and the ethical implications of </span>\n",
       "<span style=\"color: #000000; text-decoration-color: #000000; background-color: #909090\">their </span>\n",
       "<span style=\"color: #000000; text-decoration-color: #000000; background-color: #909090\">mission.\",\"narrative_perspective\":\"\",\"conflict_type\":\"\",\"themes\":[],\"motifs\":[],\"characters\":[],\"props\":[],\"story_b</span>\n",
       "<span style=\"color: #000000; text-decoration-color: #000000; background-color: #909090\">eats\":[],\"subplots\":[],\"emotional_arc\":[],\"acts\":[]}                                                               </span>\n",
       "<span style=\"color: #000000; text-decoration-color: #000000; background-color: #909090\">                                                    </span>\n",
       "</pre>\n"
      ],
      "text/plain": [
       "\u001b[30;48;2;144;144;144mAssistant: \u001b[0m\n",
       "\u001b[30;48;2;144;144;144m{\"title\":\"\",\"video\":false,\"visual_style\":\"\",\"time_period\":\"\",\"location\":\"\",\"genre\":\"\",\"medium\":\"\",\"plot_overview\":\"\u001b[0m\n",
       "\u001b[30;48;2;144;144;144mA team of elite scientists embarks on a groundbreaking research mission to explore an uncharted alien planet \u001b[0m\n",
       "\u001b[30;48;2;144;144;144mteeming with potential for supporting life. Led by Dr. Elena Martinez, the crew includes experts in various fields,\u001b[0m\n",
       "\u001b[30;48;2;144;144;144meach eager to make history. However, upon arrival, a catastrophic malfunction causes their spaceship to crash-land,\u001b[0m\n",
       "\u001b[30;48;2;144;144;144mleaving them stranded with limited supplies and no way to contact Earth.\\n\\nAs they assess their situation, they \u001b[0m\n",
       "\u001b[30;48;2;144;144;144mencounter the planet's hostile environment filled with dangerous flora and fauna unlike anything they've seen \u001b[0m\n",
       "\u001b[30;48;2;144;144;144mbefore. Tensions rise within the group as they struggle to survive harsh weather conditions, dwindling resources, \u001b[0m\n",
       "\u001b[30;48;2;144;144;144mand internal conflicts. Days turn into weeks as the scientists discover mysterious ruins suggesting an ancient \u001b[0m\n",
       "\u001b[30;48;2;144;144;144mcivilization once thrived there.\\n\\nDr. Martinez becomes obsessed with uncovering the secrets of the planet, \u001b[0m\n",
       "\u001b[30;48;2;144;144;144mbelieving it holds the key to their survival. The team must navigate treacherous terrains, decode alien technology,\u001b[0m\n",
       "\u001b[30;48;2;144;144;144mand confront their own fears and weaknesses. In a race against time, they work together to repair their ship using \u001b[0m\n",
       "\u001b[30;48;2;144;144;144malien materials and knowledge gleaned from the ruins.\\n\\nUltimately, they must decide whether to return home or \u001b[0m\n",
       "\u001b[30;48;2;144;144;144mstay and continue exploring the profound mysteries of the planet that has both threatened and captivated them. \u001b[0m\n",
       "\u001b[30;48;2;144;144;144mThrough their journey, they learn valuable lessons about cooperation, resilience, and the ethical implications of \u001b[0m\n",
       "\u001b[30;48;2;144;144;144mtheir \u001b[0m\n",
       "\u001b[30;48;2;144;144;144mmission.\",\"narrative_perspective\":\"\",\"conflict_type\":\"\",\"themes\":[],\"motifs\":[],\"characters\":[],\"props\":[],\"story_b\u001b[0m\n",
       "\u001b[30;48;2;144;144;144meats\":[],\"subplots\":[],\"emotional_arc\":[],\"acts\":[]}                                                               \u001b[0m\n",
       "\u001b[30;48;2;144;144;144m                                                    \u001b[0m\n"
      ]
     },
     "metadata": {},
     "output_type": "display_data"
    },
    {
     "data": {
      "text/html": [
       "<pre style=\"white-space:pre;overflow-x:auto;line-height:normal;font-family:Menlo,'DejaVu Sans Mono',consolas,'Courier New',monospace\"><span style=\"color: #000000; text-decoration-color: #000000; background-color: #909090\">User: Generate a story based on the following: Write a fantasy story about a magical forest in the following json </span>\n",
       "<span style=\"color: #000000; text-decoration-color: #000000; background-color: #909090\">format:                                                                                                            </span>\n",
       "</pre>\n"
      ],
      "text/plain": [
       "\u001b[30;48;2;144;144;144mUser: Generate a story based on the following: Write a fantasy story about a magical forest in the following json \u001b[0m\n",
       "\u001b[30;48;2;144;144;144mformat:                                                                                                            \u001b[0m\n"
      ]
     },
     "metadata": {},
     "output_type": "display_data"
    },
    {
     "data": {
      "text/html": [
       "<pre style=\"white-space:pre;overflow-x:auto;line-height:normal;font-family:Menlo,'DejaVu Sans Mono',consolas,'Courier New',monospace\"><span style=\"color: #000000; text-decoration-color: #000000; background-color: #909090\">                                                                                                                   </span>\n",
       "</pre>\n"
      ],
      "text/plain": [
       "\u001b[30;48;2;144;144;144m                                                                                                                   \u001b[0m\n"
      ]
     },
     "metadata": {},
     "output_type": "display_data"
    },
    {
     "data": {
      "text/html": [
       "<pre style=\"white-space:pre;overflow-x:auto;line-height:normal;font-family:Menlo,'DejaVu Sans Mono',consolas,'Courier New',monospace\"><span style=\"color: #000000; text-decoration-color: #000000; background-color: #909090\">{\"prompt\":\"\",\"title\":\"\",\"video\":false,\"visual_style\":\"\",\"time_period\":\"\",\"location\":\"\",\"genre\":\"\",\"medium\":\"\",\"plot</span>\n",
       "<span style=\"color: #000000; text-decoration-color: #000000; background-color: #909090\">_overview\":\"\",\"narrative_perspective\":\"\",\"conflict_type\":\"\",\"themes\":[],\"motifs\":[],\"characters\":[{\"nickname\":\"\",\"n</span>\n",
       "<span style=\"color: #000000; text-decoration-color: #000000; background-color: #909090\">ame\":\"\",\"description\":\"\",\"personality\":\"\",\"physical_appearance\":\"\",\"role\":\"\",\"gender\":\"\",\"race\":\"\",\"age\":\"\",\"catch_</span>\n",
       "<span style=\"color: #000000; text-decoration-color: #000000; background-color: #909090\">phrase\":\"\",\"animation_description\":\"\",\"voice_description\":\"\",\"voice_sample\":null,\"props\":[],\"relationships\":[{\"char</span>\n",
       "<span style=\"color: #000000; text-decoration-color: #000000; background-color: #909090\">acter_name\":null,\"relationship_type\":null,\"description\":\"\"}],\"internal_conflict\":\"\",\"character_arc\":{\"initial_state</span>\n",
       "<span style=\"color: #000000; text-decoration-color: #000000; background-color: #909090\">\":\"\",\"final_state\":\"\",\"key_moments\":[\"\"]},\"image_prompt\":\"\",\"image_prompt_short\":\"\"}],\"props\":[{\"name\":\"\",\"descript</span>\n",
       "<span style=\"color: #000000; text-decoration-color: #000000; background-color: #909090\">ion\":\"\",\"purpose\":\"\",\"physical_appearance\":\"\",\"animation_description\":\"\"}],\"story_beats\":[{\"name\":null,\"description</span>\n",
       "<span style=\"color: #000000; text-decoration-color: #000000; background-color: #909090\">\":null,\"scene\":\"\"}],\"subplots\":[{\"title\":null,\"description\":\"\",\"related_characters\":[]}],\"emotional_arc\":[{\"stage\":</span>\n",
       "<span style=\"color: #000000; text-decoration-color: #000000; background-color: #909090\">null,\"description\":\"\"}],\"acts\":[{\"act_id\":\"\",\"title\":\"\",\"description\":\"\",\"scenes\":[{\"scene_id\":\"\",\"title\":\"\",\"descr</span>\n",
       "<span style=\"color: #000000; text-decoration-color: #000000; background-color: #909090\">iption\":\"\",\"characters_involved\":[\"\"],\"setting\":\"\",\"time_of_day\":\"\",\"location\":\"\",\"lighting\":\"\",\"mood\":\"\",\"props\":[</span>\n",
       "<span style=\"color: #000000; text-decoration-color: #000000; background-color: #909090\">\"\"],\"key_actions\":[\"\"],\"dialogue\":[],\"background_image_prompt\":\"\",\"background_animation\":\"\",\"scene_image_prompt\":\"\"</span>\n",
       "<span style=\"color: #000000; text-decoration-color: #000000; background-color: #909090\">,\"scene_image_prompt_short\":\"\"}],\"props\":[\"\"]}]}                                                                   </span>\n",
       "<span style=\"color: #000000; text-decoration-color: #000000; background-color: #909090\">                                                </span>\n",
       "</pre>\n"
      ],
      "text/plain": [
       "\u001b[30;48;2;144;144;144m{\"prompt\":\"\",\"title\":\"\",\"video\":false,\"visual_style\":\"\",\"time_period\":\"\",\"location\":\"\",\"genre\":\"\",\"medium\":\"\",\"plot\u001b[0m\n",
       "\u001b[30;48;2;144;144;144m_overview\":\"\",\"narrative_perspective\":\"\",\"conflict_type\":\"\",\"themes\":[],\"motifs\":[],\"characters\":[{\"nickname\":\"\",\"n\u001b[0m\n",
       "\u001b[30;48;2;144;144;144mame\":\"\",\"description\":\"\",\"personality\":\"\",\"physical_appearance\":\"\",\"role\":\"\",\"gender\":\"\",\"race\":\"\",\"age\":\"\",\"catch_\u001b[0m\n",
       "\u001b[30;48;2;144;144;144mphrase\":\"\",\"animation_description\":\"\",\"voice_description\":\"\",\"voice_sample\":null,\"props\":[],\"relationships\":[{\"char\u001b[0m\n",
       "\u001b[30;48;2;144;144;144macter_name\":null,\"relationship_type\":null,\"description\":\"\"}],\"internal_conflict\":\"\",\"character_arc\":{\"initial_state\u001b[0m\n",
       "\u001b[30;48;2;144;144;144m\":\"\",\"final_state\":\"\",\"key_moments\":[\"\"]},\"image_prompt\":\"\",\"image_prompt_short\":\"\"}],\"props\":[{\"name\":\"\",\"descript\u001b[0m\n",
       "\u001b[30;48;2;144;144;144mion\":\"\",\"purpose\":\"\",\"physical_appearance\":\"\",\"animation_description\":\"\"}],\"story_beats\":[{\"name\":null,\"description\u001b[0m\n",
       "\u001b[30;48;2;144;144;144m\":null,\"scene\":\"\"}],\"subplots\":[{\"title\":null,\"description\":\"\",\"related_characters\":[]}],\"emotional_arc\":[{\"stage\":\u001b[0m\n",
       "\u001b[30;48;2;144;144;144mnull,\"description\":\"\"}],\"acts\":[{\"act_id\":\"\",\"title\":\"\",\"description\":\"\",\"scenes\":[{\"scene_id\":\"\",\"title\":\"\",\"descr\u001b[0m\n",
       "\u001b[30;48;2;144;144;144miption\":\"\",\"characters_involved\":[\"\"],\"setting\":\"\",\"time_of_day\":\"\",\"location\":\"\",\"lighting\":\"\",\"mood\":\"\",\"props\":[\u001b[0m\n",
       "\u001b[30;48;2;144;144;144m\"\"],\"key_actions\":[\"\"],\"dialogue\":[],\"background_image_prompt\":\"\",\"background_animation\":\"\",\"scene_image_prompt\":\"\"\u001b[0m\n",
       "\u001b[30;48;2;144;144;144m,\"scene_image_prompt_short\":\"\"}],\"props\":[\"\"]}]}                                                                   \u001b[0m\n",
       "\u001b[30;48;2;144;144;144m                                                \u001b[0m\n"
      ]
     },
     "metadata": {},
     "output_type": "display_data"
    },
    {
     "data": {
      "text/html": [
       "<pre style=\"white-space:pre;overflow-x:auto;line-height:normal;font-family:Menlo,'DejaVu Sans Mono',consolas,'Courier New',monospace\"><span style=\"color: #000000; text-decoration-color: #000000; background-color: #909090\">Assistant:                                                                                                         </span>\n",
       "</pre>\n"
      ],
      "text/plain": [
       "\u001b[30;48;2;144;144;144mAssistant:                                                                                                         \u001b[0m\n"
      ]
     },
     "metadata": {},
     "output_type": "display_data"
    },
    {
     "data": {
      "text/html": [
       "<pre style=\"white-space:pre;overflow-x:auto;line-height:normal;font-family:Menlo,'DejaVu Sans Mono',consolas,'Courier New',monospace\">\n",
       "</pre>\n"
      ],
      "text/plain": [
       "\n"
      ]
     },
     "metadata": {},
     "output_type": "display_data"
    },
    {
     "data": {
      "text/html": [
       "<pre style=\"white-space:pre;overflow-x:auto;line-height:normal;font-family:Menlo,'DejaVu Sans Mono',consolas,'Courier New',monospace\">\n",
       "</pre>\n"
      ],
      "text/plain": [
       "\n"
      ]
     },
     "metadata": {},
     "output_type": "display_data"
    },
    {
     "data": {
      "text/html": [
       "<pre style=\"white-space:pre;overflow-x:auto;line-height:normal;font-family:Menlo,'DejaVu Sans Mono',consolas,'Courier New',monospace\"><span style=\"color: #008080; text-decoration-color: #008080\">LLM Completion</span>\n",
       "</pre>\n"
      ],
      "text/plain": [
       "\u001b[36mLLM Completion\u001b[0m\n"
      ]
     },
     "metadata": {},
     "output_type": "display_data"
    },
    {
     "data": {
      "text/html": [
       "<pre style=\"white-space:pre;overflow-x:auto;line-height:normal;font-family:Menlo,'DejaVu Sans Mono',consolas,'Courier New',monospace\"><span style=\"color: #000000; text-decoration-color: #000000; background-color: #006600\">It looks like you've provided a JSON template for the second prompt, but left many fields empty. I'll fill in the </span>\n",
       "<span style=\"color: #000000; text-decoration-color: #000000; background-color: #006600\">gaps with my creative responses to generate a fantasy story about a magical forest. Here's the completed JSON with </span>\n",
       "<span style=\"color: #000000; text-decoration-color: #000000; background-color: #006600\">the story:                                                                                                         </span>\n",
       "</pre>\n"
      ],
      "text/plain": [
       "\u001b[30;48;2;0;102;0mIt looks like you've provided a JSON template for the second prompt, but left many fields empty. I'll fill in the \u001b[0m\n",
       "\u001b[30;48;2;0;102;0mgaps with my creative responses to generate a fantasy story about a magical forest. Here's the completed JSON with \u001b[0m\n",
       "\u001b[30;48;2;0;102;0mthe story:                                                                                                         \u001b[0m\n"
      ]
     },
     "metadata": {},
     "output_type": "display_data"
    },
    {
     "data": {
      "text/html": [
       "<pre style=\"white-space:pre;overflow-x:auto;line-height:normal;font-family:Menlo,'DejaVu Sans Mono',consolas,'Courier New',monospace\"><span style=\"color: #000000; text-decoration-color: #000000; background-color: #006600\">                                                                                                                   </span>\n",
       "</pre>\n"
      ],
      "text/plain": [
       "\u001b[30;48;2;0;102;0m                                                                                                                   \u001b[0m\n"
      ]
     },
     "metadata": {},
     "output_type": "display_data"
    },
    {
     "data": {
      "text/html": [
       "<pre style=\"white-space:pre;overflow-x:auto;line-height:normal;font-family:Menlo,'DejaVu Sans Mono',consolas,'Courier New',monospace\"><span style=\"color: #000000; text-decoration-color: #000000; background-color: #006600\">**Response**                                                                                                       </span>\n",
       "</pre>\n"
      ],
      "text/plain": [
       "\u001b[30;48;2;0;102;0m**Response**                                                                                                       \u001b[0m\n"
      ]
     },
     "metadata": {},
     "output_type": "display_data"
    },
    {
     "data": {
      "text/html": [
       "<pre style=\"white-space:pre;overflow-x:auto;line-height:normal;font-family:Menlo,'DejaVu Sans Mono',consolas,'Courier New',monospace\"><span style=\"color: #000000; text-decoration-color: #000000; background-color: #006600\">                                                                                                                   </span>\n",
       "</pre>\n"
      ],
      "text/plain": [
       "\u001b[30;48;2;0;102;0m                                                                                                                   \u001b[0m\n"
      ]
     },
     "metadata": {},
     "output_type": "display_data"
    },
    {
     "data": {
      "text/html": [
       "<pre style=\"white-space:pre;overflow-x:auto;line-height:normal;font-family:Menlo,'DejaVu Sans Mono',consolas,'Courier New',monospace\"><span style=\"color: #000000; text-decoration-color: #000000; background-color: #006600\">```json                                                                                                            </span>\n",
       "</pre>\n"
      ],
      "text/plain": [
       "\u001b[30;48;2;0;102;0m```json                                                                                                            \u001b[0m\n"
      ]
     },
     "metadata": {},
     "output_type": "display_data"
    },
    {
     "data": {
      "text/html": [
       "<pre style=\"white-space:pre;overflow-x:auto;line-height:normal;font-family:Menlo,'DejaVu Sans Mono',consolas,'Courier New',monospace\"><span style=\"color: #000000; text-decoration-color: #000000; background-color: #006600\">{                                                                                                                  </span>\n",
       "</pre>\n"
      ],
      "text/plain": [
       "\u001b[30;48;2;0;102;0m{                                                                                                                  \u001b[0m\n"
      ]
     },
     "metadata": {},
     "output_type": "display_data"
    },
    {
     "data": {
      "text/html": [
       "<pre style=\"white-space:pre;overflow-x:auto;line-height:normal;font-family:Menlo,'DejaVu Sans Mono',consolas,'Courier New',monospace\"><span style=\"color: #000000; text-decoration-color: #000000; background-color: #006600\">  \"prompt\": \"A fantasy story about a magical forest\",                                                              </span>\n",
       "</pre>\n"
      ],
      "text/plain": [
       "\u001b[30;48;2;0;102;0m  \"prompt\": \"A fantasy story about a magical forest\",                                                              \u001b[0m\n"
      ]
     },
     "metadata": {},
     "output_type": "display_data"
    },
    {
     "data": {
      "text/html": [
       "<pre style=\"white-space:pre;overflow-x:auto;line-height:normal;font-family:Menlo,'DejaVu Sans Mono',consolas,'Courier New',monospace\"><span style=\"color: #000000; text-decoration-color: #000000; background-color: #006600\">  \"title\": \"Whispers of the Emerald Woods\",                                                                        </span>\n",
       "</pre>\n"
      ],
      "text/plain": [
       "\u001b[30;48;2;0;102;0m  \"title\": \"Whispers of the Emerald Woods\",                                                                        \u001b[0m\n"
      ]
     },
     "metadata": {},
     "output_type": "display_data"
    },
    {
     "data": {
      "text/html": [
       "<pre style=\"white-space:pre;overflow-x:auto;line-height:normal;font-family:Menlo,'DejaVu Sans Mono',consolas,'Courier New',monospace\"><span style=\"color: #000000; text-decoration-color: #000000; background-color: #006600\">  \"video\": false,                                                                                                  </span>\n",
       "</pre>\n"
      ],
      "text/plain": [
       "\u001b[30;48;2;0;102;0m  \"video\": false,                                                                                                  \u001b[0m\n"
      ]
     },
     "metadata": {},
     "output_type": "display_data"
    },
    {
     "data": {
      "text/html": [
       "<pre style=\"white-space:pre;overflow-x:auto;line-height:normal;font-family:Menlo,'DejaVu Sans Mono',consolas,'Courier New',monospace\"><span style=\"color: #000000; text-decoration-color: #000000; background-color: #006600\">  \"visual_style\": \"Vibrant, ethereal landscapes with soft, luminescent lighting\",                                  </span>\n",
       "</pre>\n"
      ],
      "text/plain": [
       "\u001b[30;48;2;0;102;0m  \"visual_style\": \"Vibrant, ethereal landscapes with soft, luminescent lighting\",                                  \u001b[0m\n"
      ]
     },
     "metadata": {},
     "output_type": "display_data"
    },
    {
     "data": {
      "text/html": [
       "<pre style=\"white-space:pre;overflow-x:auto;line-height:normal;font-family:Menlo,'DejaVu Sans Mono',consolas,'Courier New',monospace\"><span style=\"color: #000000; text-decoration-color: #000000; background-color: #006600\">  \"time_period\": \"Ancient, mystical era\",                                                                          </span>\n",
       "</pre>\n"
      ],
      "text/plain": [
       "\u001b[30;48;2;0;102;0m  \"time_period\": \"Ancient, mystical era\",                                                                          \u001b[0m\n"
      ]
     },
     "metadata": {},
     "output_type": "display_data"
    },
    {
     "data": {
      "text/html": [
       "<pre style=\"white-space:pre;overflow-x:auto;line-height:normal;font-family:Menlo,'DejaVu Sans Mono',consolas,'Courier New',monospace\"><span style=\"color: #000000; text-decoration-color: #000000; background-color: #006600\">  \"location\": \"The heart of the enchanted Emerald Woods\",                                                          </span>\n",
       "</pre>\n"
      ],
      "text/plain": [
       "\u001b[30;48;2;0;102;0m  \"location\": \"The heart of the enchanted Emerald Woods\",                                                          \u001b[0m\n"
      ]
     },
     "metadata": {},
     "output_type": "display_data"
    },
    {
     "data": {
      "text/html": [
       "<pre style=\"white-space:pre;overflow-x:auto;line-height:normal;font-family:Menlo,'DejaVu Sans Mono',consolas,'Courier New',monospace\"><span style=\"color: #000000; text-decoration-color: #000000; background-color: #006600\">  \"genre\": \"Fantasy, Adventure\",                                                                                   </span>\n",
       "</pre>\n"
      ],
      "text/plain": [
       "\u001b[30;48;2;0;102;0m  \"genre\": \"Fantasy, Adventure\",                                                                                   \u001b[0m\n"
      ]
     },
     "metadata": {},
     "output_type": "display_data"
    },
    {
     "data": {
      "text/html": [
       "<pre style=\"white-space:pre;overflow-x:auto;line-height:normal;font-family:Menlo,'DejaVu Sans Mono',consolas,'Courier New',monospace\"><span style=\"color: #000000; text-decoration-color: #000000; background-color: #006600\">  \"medium\": \"Novel\",                                                                                               </span>\n",
       "</pre>\n"
      ],
      "text/plain": [
       "\u001b[30;48;2;0;102;0m  \"medium\": \"Novel\",                                                                                               \u001b[0m\n"
      ]
     },
     "metadata": {},
     "output_type": "display_data"
    },
    {
     "data": {
      "text/html": [
       "<pre style=\"white-space:pre;overflow-x:auto;line-height:normal;font-family:Menlo,'DejaVu Sans Mono',consolas,'Courier New',monospace\"><span style=\"color: #000000; text-decoration-color: #000000; background-color: #006600\">  \"plot_overview\": \"In the mystical realm of Aethoria, where magic is woven into the fabric of nature, the ancient </span>\n",
       "<span style=\"color: #000000; text-decoration-color: #000000; background-color: #006600\">Emerald Woods stand as a testament to wonder. Lyra, a young apprentice druid, discovers a cryptic prophecy that </span>\n",
       "<span style=\"color: #000000; text-decoration-color: #000000; background-color: #006600\">foretells the woods' demise at the hands of a dark sorcerer. With the help of her companions—a wise old wizard </span>\n",
       "<span style=\"color: #000000; text-decoration-color: #000000; background-color: #006600\">named Zephyr and a cunning shapeshifter named Kael—Lyra embarks on a perilous quest to save the Emerald Woods, </span>\n",
       "<span style=\"color: #000000; text-decoration-color: #000000; background-color: #006600\">confronting shadowy creatures, unraveling ancient mysteries, and awakening a dormant magic within herself.\",       </span>\n",
       "</pre>\n"
      ],
      "text/plain": [
       "\u001b[30;48;2;0;102;0m  \"plot_overview\": \"In the mystical realm of Aethoria, where magic is woven into the fabric of nature, the ancient \u001b[0m\n",
       "\u001b[30;48;2;0;102;0mEmerald Woods stand as a testament to wonder. Lyra, a young apprentice druid, discovers a cryptic prophecy that \u001b[0m\n",
       "\u001b[30;48;2;0;102;0mforetells the woods' demise at the hands of a dark sorcerer. With the help of her companions—a wise old wizard \u001b[0m\n",
       "\u001b[30;48;2;0;102;0mnamed Zephyr and a cunning shapeshifter named Kael—Lyra embarks on a perilous quest to save the Emerald Woods, \u001b[0m\n",
       "\u001b[30;48;2;0;102;0mconfronting shadowy creatures, unraveling ancient mysteries, and awakening a dormant magic within herself.\",       \u001b[0m\n"
      ]
     },
     "metadata": {},
     "output_type": "display_data"
    },
    {
     "data": {
      "text/html": [
       "<pre style=\"white-space:pre;overflow-x:auto;line-height:normal;font-family:Menlo,'DejaVu Sans Mono',consolas,'Courier New',monospace\"><span style=\"color: #000000; text-decoration-color: #000000; background-color: #006600\">  \"narrative_perspective\": \"Third-person limited, primarily through Lyra's perspective\",                           </span>\n",
       "</pre>\n"
      ],
      "text/plain": [
       "\u001b[30;48;2;0;102;0m  \"narrative_perspective\": \"Third-person limited, primarily through Lyra's perspective\",                           \u001b[0m\n"
      ]
     },
     "metadata": {},
     "output_type": "display_data"
    },
    {
     "data": {
      "text/html": [
       "<pre style=\"white-space:pre;overflow-x:auto;line-height:normal;font-family:Menlo,'DejaVu Sans Mono',consolas,'Courier New',monospace\"><span style=\"color: #000000; text-decoration-color: #000000; background-color: #006600\">  \"conflict_type\": \"Internal (self-discovery) &amp; External (saving the Emerald Woods)\",                              </span>\n",
       "</pre>\n"
      ],
      "text/plain": [
       "\u001b[30;48;2;0;102;0m  \"conflict_type\": \"Internal (self-discovery) & External (saving the Emerald Woods)\",                              \u001b[0m\n"
      ]
     },
     "metadata": {},
     "output_type": "display_data"
    },
    {
     "data": {
      "text/html": [
       "<pre style=\"white-space:pre;overflow-x:auto;line-height:normal;font-family:Menlo,'DejaVu Sans Mono',consolas,'Courier New',monospace\"><span style=\"color: #000000; text-decoration-color: #000000; background-color: #006600\">  \"themes\": [\"Balance with Nature\", \"Self-Discovery\", \"Unity in Diversity\"],                                       </span>\n",
       "</pre>\n"
      ],
      "text/plain": [
       "\u001b[30;48;2;0;102;0m  \"themes\": [\"Balance with Nature\", \"Self-Discovery\", \"Unity in Diversity\"],                                       \u001b[0m\n"
      ]
     },
     "metadata": {},
     "output_type": "display_data"
    },
    {
     "data": {
      "text/html": [
       "<pre style=\"white-space:pre;overflow-x:auto;line-height:normal;font-family:Menlo,'DejaVu Sans Mono',consolas,'Courier New',monospace\"><span style=\"color: #000000; text-decoration-color: #000000; background-color: #006600\">  \"motifs\": [\"Ancient Wisdom\", \"Nature's Fury\", \"Transformation\"],                                                 </span>\n",
       "</pre>\n"
      ],
      "text/plain": [
       "\u001b[30;48;2;0;102;0m  \"motifs\": [\"Ancient Wisdom\", \"Nature's Fury\", \"Transformation\"],                                                 \u001b[0m\n"
      ]
     },
     "metadata": {},
     "output_type": "display_data"
    },
    {
     "data": {
      "text/html": [
       "<pre style=\"white-space:pre;overflow-x:auto;line-height:normal;font-family:Menlo,'DejaVu Sans Mono',consolas,'Courier New',monospace\"><span style=\"color: #000000; text-decoration-color: #000000; background-color: #006600\">  \"characters\": [                                                                                                  </span>\n",
       "</pre>\n"
      ],
      "text/plain": [
       "\u001b[30;48;2;0;102;0m  \"characters\": [                                                                                                  \u001b[0m\n"
      ]
     },
     "metadata": {},
     "output_type": "display_data"
    },
    {
     "data": {
      "text/html": [
       "<pre style=\"white-space:pre;overflow-x:auto;line-height:normal;font-family:Menlo,'DejaVu Sans Mono',consolas,'Courier New',monospace\"><span style=\"color: #000000; text-decoration-color: #000000; background-color: #006600\">    {                                                                                                              </span>\n",
       "</pre>\n"
      ],
      "text/plain": [
       "\u001b[30;48;2;0;102;0m    {                                                                                                              \u001b[0m\n"
      ]
     },
     "metadata": {},
     "output_type": "display_data"
    },
    {
     "data": {
      "text/html": [
       "<pre style=\"white-space:pre;overflow-x:auto;line-height:normal;font-family:Menlo,'DejaVu Sans Mono',consolas,'Courier New',monospace\"><span style=\"color: #000000; text-decoration-color: #000000; background-color: #006600\">      \"nickname\": \"The Greenheart\",                                                                                </span>\n",
       "</pre>\n"
      ],
      "text/plain": [
       "\u001b[30;48;2;0;102;0m      \"nickname\": \"The Greenheart\",                                                                                \u001b[0m\n"
      ]
     },
     "metadata": {},
     "output_type": "display_data"
    },
    {
     "data": {
      "text/html": [
       "<pre style=\"white-space:pre;overflow-x:auto;line-height:normal;font-family:Menlo,'DejaVu Sans Mono',consolas,'Courier New',monospace\"><span style=\"color: #000000; text-decoration-color: #000000; background-color: #006600\">      \"name\": \"Lyra Flynn\",                                                                                        </span>\n",
       "</pre>\n"
      ],
      "text/plain": [
       "\u001b[30;48;2;0;102;0m      \"name\": \"Lyra Flynn\",                                                                                        \u001b[0m\n"
      ]
     },
     "metadata": {},
     "output_type": "display_data"
    },
    {
     "data": {
      "text/html": [
       "<pre style=\"white-space:pre;overflow-x:auto;line-height:normal;font-family:Menlo,'DejaVu Sans Mono',consolas,'Courier New',monospace\"><span style=\"color: #000000; text-decoration-color: #000000; background-color: #006600\">      \"description\": \"Apprentice druid with a deep connection to nature\",                                          </span>\n",
       "</pre>\n"
      ],
      "text/plain": [
       "\u001b[30;48;2;0;102;0m      \"description\": \"Apprentice druid with a deep connection to nature\",                                          \u001b[0m\n"
      ]
     },
     "metadata": {},
     "output_type": "display_data"
    },
    {
     "data": {
      "text/html": [
       "<pre style=\"white-space:pre;overflow-x:auto;line-height:normal;font-family:Menlo,'DejaVu Sans Mono',consolas,'Courier New',monospace\"><span style=\"color: #000000; text-decoration-color: #000000; background-color: #006600\">      \"personality\": \"Compassionate, determined, and curious\",                                                     </span>\n",
       "</pre>\n"
      ],
      "text/plain": [
       "\u001b[30;48;2;0;102;0m      \"personality\": \"Compassionate, determined, and curious\",                                                     \u001b[0m\n"
      ]
     },
     "metadata": {},
     "output_type": "display_data"
    },
    {
     "data": {
      "text/html": [
       "<pre style=\"white-space:pre;overflow-x:auto;line-height:normal;font-family:Menlo,'DejaVu Sans Mono',consolas,'Courier New',monospace\"><span style=\"color: #000000; text-decoration-color: #000000; background-color: #006600\">      \"physical_appearance\": \"Petite, wild curly brown hair, emerald green eyes\",                                  </span>\n",
       "</pre>\n"
      ],
      "text/plain": [
       "\u001b[30;48;2;0;102;0m      \"physical_appearance\": \"Petite, wild curly brown hair, emerald green eyes\",                                  \u001b[0m\n"
      ]
     },
     "metadata": {},
     "output_type": "display_data"
    },
    {
     "data": {
      "text/html": [
       "<pre style=\"white-space:pre;overflow-x:auto;line-height:normal;font-family:Menlo,'DejaVu Sans Mono',consolas,'Courier New',monospace\"><span style=\"color: #000000; text-decoration-color: #000000; background-color: #006600\">      \"role\": \"Protagonist\",                                                                                       </span>\n",
       "</pre>\n"
      ],
      "text/plain": [
       "\u001b[30;48;2;0;102;0m      \"role\": \"Protagonist\",                                                                                       \u001b[0m\n"
      ]
     },
     "metadata": {},
     "output_type": "display_data"
    },
    {
     "data": {
      "text/html": [
       "<pre style=\"white-space:pre;overflow-x:auto;line-height:normal;font-family:Menlo,'DejaVu Sans Mono',consolas,'Courier New',monospace\"><span style=\"color: #000000; text-decoration-color: #000000; background-color: #006600\">      \"gender\": \"Female\",                                                                                          </span>\n",
       "</pre>\n"
      ],
      "text/plain": [
       "\u001b[30;48;2;0;102;0m      \"gender\": \"Female\",                                                                                          \u001b[0m\n"
      ]
     },
     "metadata": {},
     "output_type": "display_data"
    },
    {
     "data": {
      "text/html": [
       "<pre style=\"white-space:pre;overflow-x:auto;line-height:normal;font-family:Menlo,'DejaVu Sans Mono',consolas,'Courier New',monospace\"><span style=\"color: #000000; text-decoration-color: #000000; background-color: #006600\">      \"race\": \"Half-elf\",                                                                                          </span>\n",
       "</pre>\n"
      ],
      "text/plain": [
       "\u001b[30;48;2;0;102;0m      \"race\": \"Half-elf\",                                                                                          \u001b[0m\n"
      ]
     },
     "metadata": {},
     "output_type": "display_data"
    },
    {
     "data": {
      "text/html": [
       "<pre style=\"white-space:pre;overflow-x:auto;line-height:normal;font-family:Menlo,'DejaVu Sans Mono',consolas,'Courier New',monospace\"><span style=\"color: #000000; text-decoration-color: #000000; background-color: #006600\">      \"age\": \"22\",                                                                                                 </span>\n",
       "</pre>\n"
      ],
      "text/plain": [
       "\u001b[30;48;2;0;102;0m      \"age\": \"22\",                                                                                                 \u001b[0m\n"
      ]
     },
     "metadata": {},
     "output_type": "display_data"
    },
    {
     "data": {
      "text/html": [
       "<pre style=\"white-space:pre;overflow-x:auto;line-height:normal;font-family:Menlo,'DejaVu Sans Mono',consolas,'Courier New',monospace\"><span style=\"color: #000000; text-decoration-color: #000000; background-color: #006600\">      \"catch_phrase\": \"In harmony with nature, we find our strength.\",                                             </span>\n",
       "</pre>\n"
      ],
      "text/plain": [
       "\u001b[30;48;2;0;102;0m      \"catch_phrase\": \"In harmony with nature, we find our strength.\",                                             \u001b[0m\n"
      ]
     },
     "metadata": {},
     "output_type": "display_data"
    },
    {
     "data": {
      "text/html": [
       "<pre style=\"white-space:pre;overflow-x:auto;line-height:normal;font-family:Menlo,'DejaVu Sans Mono',consolas,'Courier New',monospace\"><span style=\"color: #000000; text-decoration-color: #000000; background-color: #006600\">      \"animation_description\": \"Moves with the grace of a deer, surrounded by subtle leafy aura\",                  </span>\n",
       "</pre>\n"
      ],
      "text/plain": [
       "\u001b[30;48;2;0;102;0m      \"animation_description\": \"Moves with the grace of a deer, surrounded by subtle leafy aura\",                  \u001b[0m\n"
      ]
     },
     "metadata": {},
     "output_type": "display_data"
    },
    {
     "data": {
      "text/html": [
       "<pre style=\"white-space:pre;overflow-x:auto;line-height:normal;font-family:Menlo,'DejaVu Sans Mono',consolas,'Courier New',monospace\"><span style=\"color: #000000; text-decoration-color: #000000; background-color: #006600\">      \"voice_description\": \"Soothing, melodic voice like a gentle stream\",                                         </span>\n",
       "</pre>\n"
      ],
      "text/plain": [
       "\u001b[30;48;2;0;102;0m      \"voice_description\": \"Soothing, melodic voice like a gentle stream\",                                         \u001b[0m\n"
      ]
     },
     "metadata": {},
     "output_type": "display_data"
    },
    {
     "data": {
      "text/html": [
       "<pre style=\"white-space:pre;overflow-x:auto;line-height:normal;font-family:Menlo,'DejaVu Sans Mono',consolas,'Courier New',monospace\"><span style=\"color: #000000; text-decoration-color: #000000; background-color: #006600\">      \"voice_sample\": null,                                                                                        </span>\n",
       "</pre>\n"
      ],
      "text/plain": [
       "\u001b[30;48;2;0;102;0m      \"voice_sample\": null,                                                                                        \u001b[0m\n"
      ]
     },
     "metadata": {},
     "output_type": "display_data"
    },
    {
     "data": {
      "text/html": [
       "<pre style=\"white-space:pre;overflow-x:auto;line-height:normal;font-family:Menlo,'DejaVu Sans Mono',consolas,'Courier New',monospace\"><span style=\"color: #000000; text-decoration-color: #000000; background-color: #006600\">      \"props\": [\"Staff made from a living tree branch\", \"Herbalism pouch\"],                                        </span>\n",
       "</pre>\n"
      ],
      "text/plain": [
       "\u001b[30;48;2;0;102;0m      \"props\": [\"Staff made from a living tree branch\", \"Herbalism pouch\"],                                        \u001b[0m\n"
      ]
     },
     "metadata": {},
     "output_type": "display_data"
    },
    {
     "data": {
      "text/html": [
       "<pre style=\"white-space:pre;overflow-x:auto;line-height:normal;font-family:Menlo,'DejaVu Sans Mono',consolas,'Courier New',monospace\"><span style=\"color: #000000; text-decoration-color: #000000; background-color: #006600\">      \"relationships\": [                                                                                           </span>\n",
       "</pre>\n"
      ],
      "text/plain": [
       "\u001b[30;48;2;0;102;0m      \"relationships\": [                                                                                           \u001b[0m\n"
      ]
     },
     "metadata": {},
     "output_type": "display_data"
    },
    {
     "data": {
      "text/html": [
       "<pre style=\"white-space:pre;overflow-x:auto;line-height:normal;font-family:Menlo,'DejaVu Sans Mono',consolas,'Courier New',monospace\"><span style=\"color: #000000; text-decoration-color: #000000; background-color: #006600\">        {                                                                                                          </span>\n",
       "</pre>\n"
      ],
      "text/plain": [
       "\u001b[30;48;2;0;102;0m        {                                                                                                          \u001b[0m\n"
      ]
     },
     "metadata": {},
     "output_type": "display_data"
    },
    {
     "data": {
      "text/html": [
       "<pre style=\"white-space:pre;overflow-x:auto;line-height:normal;font-family:Menlo,'DejaVu Sans Mono',consolas,'Courier New',monospace\"><span style=\"color: #000000; text-decoration-color: #000000; background-color: #006600\">          \"character_name\": \"Zephyr Windsong\",                                                                     </span>\n",
       "</pre>\n"
      ],
      "text/plain": [
       "\u001b[30;48;2;0;102;0m          \"character_name\": \"Zephyr Windsong\",                                                                     \u001b[0m\n"
      ]
     },
     "metadata": {},
     "output_type": "display_data"
    },
    {
     "data": {
      "text/html": [
       "<pre style=\"white-space:pre;overflow-x:auto;line-height:normal;font-family:Menlo,'DejaVu Sans Mono',consolas,'Courier New',monospace\"><span style=\"color: #000000; text-decoration-color: #000000; background-color: #006600\">          \"relationship_type\": \"Mentor\",                                                                           </span>\n",
       "</pre>\n"
      ],
      "text/plain": [
       "\u001b[30;48;2;0;102;0m          \"relationship_type\": \"Mentor\",                                                                           \u001b[0m\n"
      ]
     },
     "metadata": {},
     "output_type": "display_data"
    },
    {
     "data": {
      "text/html": [
       "<pre style=\"white-space:pre;overflow-x:auto;line-height:normal;font-family:Menlo,'DejaVu Sans Mono',consolas,'Courier New',monospace\"><span style=\"color: #000000; text-decoration-color: #000000; background-color: #006600\">          \"description\": \"Guides Lyra in mastering her druidic powers\"                                             </span>\n",
       "</pre>\n"
      ],
      "text/plain": [
       "\u001b[30;48;2;0;102;0m          \"description\": \"Guides Lyra in mastering her druidic powers\"                                             \u001b[0m\n"
      ]
     },
     "metadata": {},
     "output_type": "display_data"
    },
    {
     "data": {
      "text/html": [
       "<pre style=\"white-space:pre;overflow-x:auto;line-height:normal;font-family:Menlo,'DejaVu Sans Mono',consolas,'Courier New',monospace\"><span style=\"color: #000000; text-decoration-color: #000000; background-color: #006600\">        },                                                                                                         </span>\n",
       "</pre>\n"
      ],
      "text/plain": [
       "\u001b[30;48;2;0;102;0m        },                                                                                                         \u001b[0m\n"
      ]
     },
     "metadata": {},
     "output_type": "display_data"
    },
    {
     "data": {
      "text/html": [
       "<pre style=\"white-space:pre;overflow-x:auto;line-height:normal;font-family:Menlo,'DejaVu Sans Mono',consolas,'Courier New',monospace\"><span style=\"color: #000000; text-decoration-color: #000000; background-color: #006600\">        {                                                                                                          </span>\n",
       "</pre>\n"
      ],
      "text/plain": [
       "\u001b[30;48;2;0;102;0m        {                                                                                                          \u001b[0m\n"
      ]
     },
     "metadata": {},
     "output_type": "display_data"
    },
    {
     "data": {
      "text/html": [
       "<pre style=\"white-space:pre;overflow-x:auto;line-height:normal;font-family:Menlo,'DejaVu Sans Mono',consolas,'Courier New',monospace\"><span style=\"color: #000000; text-decoration-color: #000000; background-color: #006600\">          \"character_name\": \"Kael Nightwalker\",                                                                    </span>\n",
       "</pre>\n"
      ],
      "text/plain": [
       "\u001b[30;48;2;0;102;0m          \"character_name\": \"Kael Nightwalker\",                                                                    \u001b[0m\n"
      ]
     },
     "metadata": {},
     "output_type": "display_data"
    },
    {
     "data": {
      "text/html": [
       "<pre style=\"white-space:pre;overflow-x:auto;line-height:normal;font-family:Menlo,'DejaVu Sans Mono',consolas,'Courier New',monospace\"><span style=\"color: #000000; text-decoration-color: #000000; background-color: #006600\">          \"relationship_type\": \"Ally/Friend\",                                                                      </span>\n",
       "</pre>\n"
      ],
      "text/plain": [
       "\u001b[30;48;2;0;102;0m          \"relationship_type\": \"Ally/Friend\",                                                                      \u001b[0m\n"
      ]
     },
     "metadata": {},
     "output_type": "display_data"
    },
    {
     "data": {
      "text/html": [
       "<pre style=\"white-space:pre;overflow-x:auto;line-height:normal;font-family:Menlo,'DejaVu Sans Mono',consolas,'Courier New',monospace\"><span style=\"color: #000000; text-decoration-color: #000000; background-color: #006600\">          \"description\": \"Provides companionship and strategic support in their quest\"                             </span>\n",
       "</pre>\n"
      ],
      "text/plain": [
       "\u001b[30;48;2;0;102;0m          \"description\": \"Provides companionship and strategic support in their quest\"                             \u001b[0m\n"
      ]
     },
     "metadata": {},
     "output_type": "display_data"
    },
    {
     "data": {
      "text/html": [
       "<pre style=\"white-space:pre;overflow-x:auto;line-height:normal;font-family:Menlo,'DejaVu Sans Mono',consolas,'Courier New',monospace\"><span style=\"color: #000000; text-decoration-color: #000000; background-color: #006600\">        }                                                                                                          </span>\n",
       "</pre>\n"
      ],
      "text/plain": [
       "\u001b[30;48;2;0;102;0m        }                                                                                                          \u001b[0m\n"
      ]
     },
     "metadata": {},
     "output_type": "display_data"
    },
    {
     "data": {
      "text/html": [
       "<pre style=\"white-space:pre;overflow-x:auto;line-height:normal;font-family:Menlo,'DejaVu Sans Mono',consolas,'Courier New',monospace\"><span style=\"color: #000000; text-decoration-color: #000000; background-color: #006600\">      ],                                                                                                           </span>\n",
       "</pre>\n"
      ],
      "text/plain": [
       "\u001b[30;48;2;0;102;0m      ],                                                                                                           \u001b[0m\n"
      ]
     },
     "metadata": {},
     "output_type": "display_data"
    },
    {
     "data": {
      "text/html": [
       "<pre style=\"white-space:pre;overflow-x:auto;line-height:normal;font-family:Menlo,'DejaVu Sans Mono',consolas,'Courier New',monospace\"><span style=\"color: #000000; text-decoration-color: #000000; background-color: #006600\">      \"internal_conflict\": \"Balancing personal ambition with the greater good\",                                    </span>\n",
       "</pre>\n"
      ],
      "text/plain": [
       "\u001b[30;48;2;0;102;0m      \"internal_conflict\": \"Balancing personal ambition with the greater good\",                                    \u001b[0m\n"
      ]
     },
     "metadata": {},
     "output_type": "display_data"
    },
    {
     "data": {
      "text/html": [
       "<pre style=\"white-space:pre;overflow-x:auto;line-height:normal;font-family:Menlo,'DejaVu Sans Mono',consolas,'Courier New',monospace\"><span style=\"color: #000000; text-decoration-color: #000000; background-color: #006600\">      \"character_arc\": {                                                                                           </span>\n",
       "</pre>\n"
      ],
      "text/plain": [
       "\u001b[30;48;2;0;102;0m      \"character_arc\": {                                                                                           \u001b[0m\n"
      ]
     },
     "metadata": {},
     "output_type": "display_data"
    },
    {
     "data": {
      "text/html": [
       "<pre style=\"white-space:pre;overflow-x:auto;line-height:normal;font-family:Menlo,'DejaVu Sans Mono',consolas,'Courier New',monospace\"><span style=\"color: #000000; text-decoration-color: #000000; background-color: #006600\">        \"initial_state\": \"Uncertain of her abilities\",                                                             </span>\n",
       "</pre>\n"
      ],
      "text/plain": [
       "\u001b[30;48;2;0;102;0m        \"initial_state\": \"Uncertain of her abilities\",                                                             \u001b[0m\n"
      ]
     },
     "metadata": {},
     "output_type": "display_data"
    },
    {
     "data": {
      "text/html": [
       "<pre style=\"white-space:pre;overflow-x:auto;line-height:normal;font-family:Menlo,'DejaVu Sans Mono',consolas,'Courier New',monospace\"><span style=\"color: #000000; text-decoration-color: #000000; background-color: #006600\">        \"final_state\": \"Confident leader embracing her true potential\",                                            </span>\n",
       "</pre>\n"
      ],
      "text/plain": [
       "\u001b[30;48;2;0;102;0m        \"final_state\": \"Confident leader embracing her true potential\",                                            \u001b[0m\n"
      ]
     },
     "metadata": {},
     "output_type": "display_data"
    },
    {
     "data": {
      "text/html": [
       "<pre style=\"white-space:pre;overflow-x:auto;line-height:normal;font-family:Menlo,'DejaVu Sans Mono',consolas,'Courier New',monospace\"><span style=\"color: #000000; text-decoration-color: #000000; background-color: #006600\">        \"key_moments\": [\"Discovering the prophecy\", \"First successful druidic summoning\", \"Confronting the dark </span>\n",
       "<span style=\"color: #000000; text-decoration-color: #000000; background-color: #006600\">sorcerer\"]                                                                                                         </span>\n",
       "</pre>\n"
      ],
      "text/plain": [
       "\u001b[30;48;2;0;102;0m        \"key_moments\": [\"Discovering the prophecy\", \"First successful druidic summoning\", \"Confronting the dark \u001b[0m\n",
       "\u001b[30;48;2;0;102;0msorcerer\"]                                                                                                         \u001b[0m\n"
      ]
     },
     "metadata": {},
     "output_type": "display_data"
    },
    {
     "data": {
      "text/html": [
       "<pre style=\"white-space:pre;overflow-x:auto;line-height:normal;font-family:Menlo,'DejaVu Sans Mono',consolas,'Courier New',monospace\"><span style=\"color: #000000; text-decoration-color: #000000; background-color: #006600\">      },                                                                                                           </span>\n",
       "</pre>\n"
      ],
      "text/plain": [
       "\u001b[30;48;2;0;102;0m      },                                                                                                           \u001b[0m\n"
      ]
     },
     "metadata": {},
     "output_type": "display_data"
    },
    {
     "data": {
      "text/html": [
       "<pre style=\"white-space:pre;overflow-x:auto;line-height:normal;font-family:Menlo,'DejaVu Sans Mono',consolas,'Courier New',monospace\"><span style=\"color: #000000; text-decoration-color: #000000; background-color: #006600\">      \"image_prompt\": \"Lyra standing amidst a glowing Emerald Woods clearing, surrounded by fireflies and ancient </span>\n",
       "<span style=\"color: #000000; text-decoration-color: #000000; background-color: #006600\">trees\",                                                                                                            </span>\n",
       "</pre>\n"
      ],
      "text/plain": [
       "\u001b[30;48;2;0;102;0m      \"image_prompt\": \"Lyra standing amidst a glowing Emerald Woods clearing, surrounded by fireflies and ancient \u001b[0m\n",
       "\u001b[30;48;2;0;102;0mtrees\",                                                                                                            \u001b[0m\n"
      ]
     },
     "metadata": {},
     "output_type": "display_data"
    },
    {
     "data": {
      "text/html": [
       "<pre style=\"white-space:pre;overflow-x:auto;line-height:normal;font-family:Menlo,'DejaVu Sans Mono',consolas,'Courier New',monospace\"><span style=\"color: #000000; text-decoration-color: #000000; background-color: #006600\">      \"image_prompt_short\": \"Mystical forest maiden\"                                                               </span>\n",
       "</pre>\n"
      ],
      "text/plain": [
       "\u001b[30;48;2;0;102;0m      \"image_prompt_short\": \"Mystical forest maiden\"                                                               \u001b[0m\n"
      ]
     },
     "metadata": {},
     "output_type": "display_data"
    },
    {
     "data": {
      "text/html": [
       "<pre style=\"white-space:pre;overflow-x:auto;line-height:normal;font-family:Menlo,'DejaVu Sans Mono',consolas,'Courier New',monospace\"><span style=\"color: #000000; text-decoration-color: #000000; background-color: #006600\">    },                                                                                                             </span>\n",
       "</pre>\n"
      ],
      "text/plain": [
       "\u001b[30;48;2;0;102;0m    },                                                                                                             \u001b[0m\n"
      ]
     },
     "metadata": {},
     "output_type": "display_data"
    },
    {
     "data": {
      "text/html": [
       "<pre style=\"white-space:pre;overflow-x:auto;line-height:normal;font-family:Menlo,'DejaVu Sans Mono',consolas,'Courier New',monospace\"><span style=\"color: #000000; text-decoration-color: #000000; background-color: #006600\">    {                                                                                                              </span>\n",
       "</pre>\n"
      ],
      "text/plain": [
       "\u001b[30;48;2;0;102;0m    {                                                                                                              \u001b[0m\n"
      ]
     },
     "metadata": {},
     "output_type": "display_data"
    },
    {
     "data": {
      "text/html": [
       "<pre style=\"white-space:pre;overflow-x:auto;line-height:normal;font-family:Menlo,'DejaVu Sans Mono',consolas,'Courier New',monospace\"><span style=\"color: #000000; text-decoration-color: #000000; background-color: #006600\">      \"nickname\": \"The Wizard of the Winds\",                                                                       </span>\n",
       "</pre>\n"
      ],
      "text/plain": [
       "\u001b[30;48;2;0;102;0m      \"nickname\": \"The Wizard of the Winds\",                                                                       \u001b[0m\n"
      ]
     },
     "metadata": {},
     "output_type": "display_data"
    },
    {
     "data": {
      "text/html": [
       "<pre style=\"white-space:pre;overflow-x:auto;line-height:normal;font-family:Menlo,'DejaVu Sans Mono',consolas,'Courier New',monospace\"><span style=\"color: #000000; text-decoration-color: #000000; background-color: #006600\">      \"name\": \"Zephyr Windsong\",                                                                                   </span>\n",
       "</pre>\n"
      ],
      "text/plain": [
       "\u001b[30;48;2;0;102;0m      \"name\": \"Zephyr Windsong\",                                                                                   \u001b[0m\n"
      ]
     },
     "metadata": {},
     "output_type": "display_data"
    },
    {
     "data": {
      "text/html": [
       "<pre style=\"white-space:pre;overflow-x:auto;line-height:normal;font-family:Menlo,'DejaVu Sans Mono',consolas,'Courier New',monospace\"><span style=\"color: #000000; text-decoration-color: #000000; background-color: #006600\">      \"description\": \"Wise and powerful wizard specializing in aeromancy\",                                         </span>\n",
       "</pre>\n"
      ],
      "text/plain": [
       "\u001b[30;48;2;0;102;0m      \"description\": \"Wise and powerful wizard specializing in aeromancy\",                                         \u001b[0m\n"
      ]
     },
     "metadata": {},
     "output_type": "display_data"
    },
    {
     "data": {
      "text/html": [
       "<pre style=\"white-space:pre;overflow-x:auto;line-height:normal;font-family:Menlo,'DejaVu Sans Mono',consolas,'Courier New',monospace\"><span style=\"color: #000000; text-decoration-color: #000000; background-color: #006600\">      \"personality\": \"Sage, witty, with a hint of mischief\",                                                       </span>\n",
       "</pre>\n"
      ],
      "text/plain": [
       "\u001b[30;48;2;0;102;0m      \"personality\": \"Sage, witty, with a hint of mischief\",                                                       \u001b[0m\n"
      ]
     },
     "metadata": {},
     "output_type": "display_data"
    },
    {
     "data": {
      "text/html": [
       "<pre style=\"white-space:pre;overflow-x:auto;line-height:normal;font-family:Menlo,'DejaVu Sans Mono',consolas,'Courier New',monospace\"><span style=\"color: #000000; text-decoration-color: #000000; background-color: #006600\">      \"physical_appearance\": \"Tall, long silver hair flowing like the wind, piercing blue eyes\",                   </span>\n",
       "</pre>\n"
      ],
      "text/plain": [
       "\u001b[30;48;2;0;102;0m      \"physical_appearance\": \"Tall, long silver hair flowing like the wind, piercing blue eyes\",                   \u001b[0m\n"
      ]
     },
     "metadata": {},
     "output_type": "display_data"
    },
    {
     "data": {
      "text/html": [
       "<pre style=\"white-space:pre;overflow-x:auto;line-height:normal;font-family:Menlo,'DejaVu Sans Mono',consolas,'Courier New',monospace\"><span style=\"color: #000000; text-decoration-color: #000000; background-color: #006600\">      \"role\": \"Supporting Character/Mentor\",                                                                       </span>\n",
       "</pre>\n"
      ],
      "text/plain": [
       "\u001b[30;48;2;0;102;0m      \"role\": \"Supporting Character/Mentor\",                                                                       \u001b[0m\n"
      ]
     },
     "metadata": {},
     "output_type": "display_data"
    },
    {
     "data": {
      "text/html": [
       "<pre style=\"white-space:pre;overflow-x:auto;line-height:normal;font-family:Menlo,'DejaVu Sans Mono',consolas,'Courier New',monospace\"><span style=\"color: #000000; text-decoration-color: #000000; background-color: #006600\">      \"gender\": \"Male\",                                                                                            </span>\n",
       "</pre>\n"
      ],
      "text/plain": [
       "\u001b[30;48;2;0;102;0m      \"gender\": \"Male\",                                                                                            \u001b[0m\n"
      ]
     },
     "metadata": {},
     "output_type": "display_data"
    },
    {
     "data": {
      "text/html": [
       "<pre style=\"white-space:pre;overflow-x:auto;line-height:normal;font-family:Menlo,'DejaVu Sans Mono',consolas,'Courier New',monospace\"><span style=\"color: #000000; text-decoration-color: #000000; background-color: #006600\">      \"race\": \"Human\",                                                                                             </span>\n",
       "</pre>\n"
      ],
      "text/plain": [
       "\u001b[30;48;2;0;102;0m      \"race\": \"Human\",                                                                                             \u001b[0m\n"
      ]
     },
     "metadata": {},
     "output_type": "display_data"
    },
    {
     "data": {
      "text/html": [
       "<pre style=\"white-space:pre;overflow-x:auto;line-height:normal;font-family:Menlo,'DejaVu Sans Mono',consolas,'Courier New',monospace\"><span style=\"color: #000000; text-decoration-color: #000000; background-color: #006600\">      \"age\": \"Ageless, appears mid-50s\",                                                                           </span>\n",
       "</pre>\n"
      ],
      "text/plain": [
       "\u001b[30;48;2;0;102;0m      \"age\": \"Ageless, appears mid-50s\",                                                                           \u001b[0m\n"
      ]
     },
     "metadata": {},
     "output_type": "display_data"
    },
    {
     "data": {
      "text/html": [
       "<pre style=\"white-space:pre;overflow-x:auto;line-height:normal;font-family:Menlo,'DejaVu Sans Mono',consolas,'Courier New',monospace\"><span style=\"color: #000000; text-decoration-color: #000000; background-color: #006600\">      \"catch_phrase\": \"The winds of change are always at our backs.\",                                              </span>\n",
       "</pre>\n"
      ],
      "text/plain": [
       "\u001b[30;48;2;0;102;0m      \"catch_phrase\": \"The winds of change are always at our backs.\",                                              \u001b[0m\n"
      ]
     },
     "metadata": {},
     "output_type": "display_data"
    },
    {
     "data": {
      "text/html": [
       "<pre style=\"white-space:pre;overflow-x:auto;line-height:normal;font-family:Menlo,'DejaVu Sans Mono',consolas,'Courier New',monospace\"><span style=\"color: #000000; text-decoration-color: #000000; background-color: #006600\">      \"animation_description\": \"Often surrounded by gentle whirlwinds and floating parchment scrolls\",             </span>\n",
       "</pre>\n"
      ],
      "text/plain": [
       "\u001b[30;48;2;0;102;0m      \"animation_description\": \"Often surrounded by gentle whirlwinds and floating parchment scrolls\",             \u001b[0m\n"
      ]
     },
     "metadata": {},
     "output_type": "display_data"
    },
    {
     "data": {
      "text/html": [
       "<pre style=\"white-space:pre;overflow-x:auto;line-height:normal;font-family:Menlo,'DejaVu Sans Mono',consolas,'Courier New',monospace\"><span style=\"color: #000000; text-decoration-color: #000000; background-color: #006600\">      \"voice_description\": \"Deep, commanding voice with a soothing undertone\",                                     </span>\n",
       "</pre>\n"
      ],
      "text/plain": [
       "\u001b[30;48;2;0;102;0m      \"voice_description\": \"Deep, commanding voice with a soothing undertone\",                                     \u001b[0m\n"
      ]
     },
     "metadata": {},
     "output_type": "display_data"
    },
    {
     "data": {
      "text/html": [
       "<pre style=\"white-space:pre;overflow-x:auto;line-height:normal;font-family:Menlo,'DejaVu Sans Mono',consolas,'Courier New',monospace\"><span style=\"color: #000000; text-decoration-color: #000000; background-color: #006600\">      \"voice_sample\": null,                                                                                        </span>\n",
       "</pre>\n"
      ],
      "text/plain": [
       "\u001b[30;48;2;0;102;0m      \"voice_sample\": null,                                                                                        \u001b[0m\n"
      ]
     },
     "metadata": {},
     "output_type": "display_data"
    },
    {
     "data": {
      "text/html": [
       "<pre style=\"white-space:pre;overflow-x:auto;line-height:normal;font-family:Menlo,'DejaVu Sans Mono',consolas,'Courier New',monospace\"><span style=\"color: #000000; text-decoration-color: #000000; background-color: #006600\">      \"props\": [\"Staff that controls the winds\", \"Tome of Ancient Spells\"],                                        </span>\n",
       "</pre>\n"
      ],
      "text/plain": [
       "\u001b[30;48;2;0;102;0m      \"props\": [\"Staff that controls the winds\", \"Tome of Ancient Spells\"],                                        \u001b[0m\n"
      ]
     },
     "metadata": {},
     "output_type": "display_data"
    },
    {
     "data": {
      "text/html": [
       "<pre style=\"white-space:pre;overflow-x:auto;line-height:normal;font-family:Menlo,'DejaVu Sans Mono',consolas,'Courier New',monospace\"><span style=\"color: #000000; text-decoration-color: #000000; background-color: #006600\">      \"relationships\": [                                                                                           </span>\n",
       "</pre>\n"
      ],
      "text/plain": [
       "\u001b[30;48;2;0;102;0m      \"relationships\": [                                                                                           \u001b[0m\n"
      ]
     },
     "metadata": {},
     "output_type": "display_data"
    },
    {
     "data": {
      "text/html": [
       "<pre style=\"white-space:pre;overflow-x:auto;line-height:normal;font-family:Menlo,'DejaVu Sans Mono',consolas,'Courier New',monospace\"><span style=\"color: #000000; text-decoration-color: #000000; background-color: #006600\">        {                                                                                                          </span>\n",
       "</pre>\n"
      ],
      "text/plain": [
       "\u001b[30;48;2;0;102;0m        {                                                                                                          \u001b[0m\n"
      ]
     },
     "metadata": {},
     "output_type": "display_data"
    },
    {
     "data": {
      "text/html": [
       "<pre style=\"white-space:pre;overflow-x:auto;line-height:normal;font-family:Menlo,'DejaVu Sans Mono',consolas,'Courier New',monospace\"><span style=\"color: #000000; text-decoration-color: #000000; background-color: #006600\">          \"character_name\": \"Lyra Flynn\",                                                                          </span>\n",
       "</pre>\n"
      ],
      "text/plain": [
       "\u001b[30;48;2;0;102;0m          \"character_name\": \"Lyra Flynn\",                                                                          \u001b[0m\n"
      ]
     },
     "metadata": {},
     "output_type": "display_data"
    },
    {
     "data": {
      "text/html": [
       "<pre style=\"white-space:pre;overflow-x:auto;line-height:normal;font-family:Menlo,'DejaVu Sans Mono',consolas,'Courier New',monospace\"><span style=\"color: #000000; text-decoration-color: #000000; background-color: #006600\">          \"relationship_type\": \"Mentee\",                                                                           </span>\n",
       "</pre>\n"
      ],
      "text/plain": [
       "\u001b[30;48;2;0;102;0m          \"relationship_type\": \"Mentee\",                                                                           \u001b[0m\n"
      ]
     },
     "metadata": {},
     "output_type": "display_data"
    },
    {
     "data": {
      "text/html": [
       "<pre style=\"white-space:pre;overflow-x:auto;line-height:normal;font-family:Menlo,'DejaVu Sans Mono',consolas,'Courier New',monospace\"><span style=\"color: #000000; text-decoration-color: #000000; background-color: #006600\">          \"description\": \"Guides Lyra in her druidic journey\"                                                      </span>\n",
       "</pre>\n"
      ],
      "text/plain": [
       "\u001b[30;48;2;0;102;0m          \"description\": \"Guides Lyra in her druidic journey\"                                                      \u001b[0m\n"
      ]
     },
     "metadata": {},
     "output_type": "display_data"
    },
    {
     "data": {
      "text/html": [
       "<pre style=\"white-space:pre;overflow-x:auto;line-height:normal;font-family:Menlo,'DejaVu Sans Mono',consolas,'Courier New',monospace\"><span style=\"color: #000000; text-decoration-color: #000000; background-color: #006600\">        }                                                                                                          </span>\n",
       "</pre>\n"
      ],
      "text/plain": [
       "\u001b[30;48;2;0;102;0m        }                                                                                                          \u001b[0m\n"
      ]
     },
     "metadata": {},
     "output_type": "display_data"
    },
    {
     "data": {
      "text/html": [
       "<pre style=\"white-space:pre;overflow-x:auto;line-height:normal;font-family:Menlo,'DejaVu Sans Mono',consolas,'Courier New',monospace\"><span style=\"color: #000000; text-decoration-color: #000000; background-color: #006600\">      ],                                                                                                           </span>\n",
       "</pre>\n"
      ],
      "text/plain": [
       "\u001b[30;48;2;0;102;0m      ],                                                                                                           \u001b[0m\n"
      ]
     },
     "metadata": {},
     "output_type": "display_data"
    },
    {
     "data": {
      "text/html": [
       "<pre style=\"white-space:pre;overflow-x:auto;line-height:normal;font-family:Menlo,'DejaVu Sans Mono',consolas,'Courier New',monospace\"><span style=\"color: #000000; text-decoration-color: #000000; background-color: #006600\">      \"internal_conflict\": \"Weighing the responsibility of power with the need for solitude\",                      </span>\n",
       "</pre>\n"
      ],
      "text/plain": [
       "\u001b[30;48;2;0;102;0m      \"internal_conflict\": \"Weighing the responsibility of power with the need for solitude\",                      \u001b[0m\n"
      ]
     },
     "metadata": {},
     "output_type": "display_data"
    },
    {
     "data": {
      "text/html": [
       "<pre style=\"white-space:pre;overflow-x:auto;line-height:normal;font-family:Menlo,'DejaVu Sans Mono',consolas,'Courier New',monospace\"><span style=\"color: #000000; text-decoration-color: #000000; background-color: #006600\">      \"character_arc\": {                                                                                           </span>\n",
       "</pre>\n"
      ],
      "text/plain": [
       "\u001b[30;48;2;0;102;0m      \"character_arc\": {                                                                                           \u001b[0m\n"
      ]
     },
     "metadata": {},
     "output_type": "display_data"
    },
    {
     "data": {
      "text/html": [
       "<pre style=\"white-space:pre;overflow-x:auto;line-height:normal;font-family:Menlo,'DejaVu Sans Mono',consolas,'Courier New',monospace\"><span style=\"color: #000000; text-decoration-color: #000000; background-color: #006600\">        \"initial_state\": \"Observant guardian\",                                                                     </span>\n",
       "</pre>\n"
      ],
      "text/plain": [
       "\u001b[30;48;2;0;102;0m        \"initial_state\": \"Observant guardian\",                                                                     \u001b[0m\n"
      ]
     },
     "metadata": {},
     "output_type": "display_data"
    },
    {
     "data": {
      "text/html": [
       "<pre style=\"white-space:pre;overflow-x:auto;line-height:normal;font-family:Menlo,'DejaVu Sans Mono',consolas,'Courier New',monospace\"><span style=\"color: #000000; text-decoration-color: #000000; background-color: #006600\">        \"final_state\": \"Active participant in shaping Aethoria's future\",                                          </span>\n",
       "</pre>\n"
      ],
      "text/plain": [
       "\u001b[30;48;2;0;102;0m        \"final_state\": \"Active participant in shaping Aethoria's future\",                                          \u001b[0m\n"
      ]
     },
     "metadata": {},
     "output_type": "display_data"
    },
    {
     "data": {
      "text/html": [
       "<pre style=\"white-space:pre;overflow-x:auto;line-height:normal;font-family:Menlo,'DejaVu Sans Mono',consolas,'Courier New',monospace\"><span style=\"color: #000000; text-decoration-color: #000000; background-color: #006600\">        \"key_moments\": [\"Deciding to aid Lyra\", \"Confronting his past to protect the Emerald Woods\"]               </span>\n",
       "</pre>\n"
      ],
      "text/plain": [
       "\u001b[30;48;2;0;102;0m        \"key_moments\": [\"Deciding to aid Lyra\", \"Confronting his past to protect the Emerald Woods\"]               \u001b[0m\n"
      ]
     },
     "metadata": {},
     "output_type": "display_data"
    },
    {
     "data": {
      "text/html": [
       "<pre style=\"white-space:pre;overflow-x:auto;line-height:normal;font-family:Menlo,'DejaVu Sans Mono',consolas,'Courier New',monospace\"><span style=\"color: #000000; text-decoration-color: #000000; background-color: #006600\">      }                                                                                                            </span>\n",
       "</pre>\n"
      ],
      "text/plain": [
       "\u001b[30;48;2;0;102;0m      }                                                                                                            \u001b[0m\n"
      ]
     },
     "metadata": {},
     "output_type": "display_data"
    },
    {
     "data": {
      "text/html": [
       "<pre style=\"white-space:pre;overflow-x:auto;line-height:normal;font-family:Menlo,'DejaVu Sans Mono',consolas,'Courier New',monospace\"><span style=\"color: #000000; text-decoration-color: #000000; background-color: #006600\">    },                                                                                                             </span>\n",
       "</pre>\n"
      ],
      "text/plain": [
       "\u001b[30;48;2;0;102;0m    },                                                                                                             \u001b[0m\n"
      ]
     },
     "metadata": {},
     "output_type": "display_data"
    },
    {
     "data": {
      "text/html": [
       "<pre style=\"white-space:pre;overflow-x:auto;line-height:normal;font-family:Menlo,'DejaVu Sans Mono',consolas,'Courier New',monospace\"><span style=\"color: #000000; text-decoration-color: #000000; background-color: #006600\">    {                                                                                                              </span>\n",
       "</pre>\n"
      ],
      "text/plain": [
       "\u001b[30;48;2;0;102;0m    {                                                                                                              \u001b[0m\n"
      ]
     },
     "metadata": {},
     "output_type": "display_data"
    },
    {
     "data": {
      "text/html": [
       "<pre style=\"white-space:pre;overflow-x:auto;line-height:normal;font-family:Menlo,'DejaVu Sans Mono',consolas,'Courier New',monospace\"><span style=\"color: #000000; text-decoration-color: #000000; background-color: #006600\">      \"nickname\": \"Moonlit Shadow\",                                                                                </span>\n",
       "</pre>\n"
      ],
      "text/plain": [
       "\u001b[30;48;2;0;102;0m      \"nickname\": \"Moonlit Shadow\",                                                                                \u001b[0m\n"
      ]
     },
     "metadata": {},
     "output_type": "display_data"
    },
    {
     "data": {
      "text/html": [
       "<pre style=\"white-space:pre;overflow-x:auto;line-height:normal;font-family:Menlo,'DejaVu Sans Mono',consolas,'Courier New',monospace\"><span style=\"color: #000000; text-decoration-color: #000000; background-color: #006600\">      \"name\": \"Kael Nightwalker\",                                                                                  </span>\n",
       "</pre>\n"
      ],
      "text/plain": [
       "\u001b[30;48;2;0;102;0m      \"name\": \"Kael Nightwalker\",                                                                                  \u001b[0m\n"
      ]
     },
     "metadata": {},
     "output_type": "display_data"
    },
    {
     "data": {
      "text/html": [
       "<pre style=\"white-space:pre;overflow-x:auto;line-height:normal;font-family:Menlo,'DejaVu Sans Mono',consolas,'Courier New',monospace\"><span style=\"color: #000000; text-decoration-color: #000000; background-color: #006600\">      \"description\": \"Enigmatic shapeshifter with unparalleled stealth skills\",                                    </span>\n",
       "</pre>\n"
      ],
      "text/plain": [
       "\u001b[30;48;2;0;102;0m      \"description\": \"Enigmatic shapeshifter with unparalleled stealth skills\",                                    \u001b[0m\n"
      ]
     },
     "metadata": {},
     "output_type": "display_data"
    },
    {
     "data": {
      "text/html": [
       "<pre style=\"white-space:pre;overflow-x:auto;line-height:normal;font-family:Menlo,'DejaVu Sans Mono',consolas,'Courier New',monospace\"><span style=\"color: #000000; text-decoration-color: #000000; background-color: #006600\">      \"personality\": \"Brooding, fiercely loyal, with a dry sense of humor\",                                        </span>\n",
       "</pre>\n"
      ],
      "text/plain": [
       "\u001b[30;48;2;0;102;0m      \"personality\": \"Brooding, fiercely loyal, with a dry sense of humor\",                                        \u001b[0m\n"
      ]
     },
     "metadata": {},
     "output_type": "display_data"
    },
    {
     "data": {
      "text/html": [
       "<pre style=\"white-space:pre;overflow-x:auto;line-height:normal;font-family:Menlo,'DejaVu Sans Mono',consolas,'Courier New',monospace\"><span style=\"color: #000000; text-decoration-color: #000000; background-color: #006600\">      \"physical_appearance\": \"Lean, jet-black hair, piercing yellow eyes that glow in the dark\",                   </span>\n",
       "</pre>\n"
      ],
      "text/plain": [
       "\u001b[30;48;2;0;102;0m      \"physical_appearance\": \"Lean, jet-black hair, piercing yellow eyes that glow in the dark\",                   \u001b[0m\n"
      ]
     },
     "metadata": {},
     "output_type": "display_data"
    },
    {
     "data": {
      "text/html": [
       "<pre style=\"white-space:pre;overflow-x:auto;line-height:normal;font-family:Menlo,'DejaVu Sans Mono',consolas,'Courier New',monospace\"><span style=\"color: #000000; text-decoration-color: #000000; background-color: #006600\">      \"role\": \"Supporting Character/Ally\",                                                                         </span>\n",
       "</pre>\n"
      ],
      "text/plain": [
       "\u001b[30;48;2;0;102;0m      \"role\": \"Supporting Character/Ally\",                                                                         \u001b[0m\n"
      ]
     },
     "metadata": {},
     "output_type": "display_data"
    },
    {
     "data": {
      "text/html": [
       "<pre style=\"white-space:pre;overflow-x:auto;line-height:normal;font-family:Menlo,'DejaVu Sans Mono',consolas,'Courier New',monospace\"><span style=\"color: #000000; text-decoration-color: #000000; background-color: #006600\">      \"gender\": \"Non-binary\",                                                                                      </span>\n",
       "</pre>\n"
      ],
      "text/plain": [
       "\u001b[30;48;2;0;102;0m      \"gender\": \"Non-binary\",                                                                                      \u001b[0m\n"
      ]
     },
     "metadata": {},
     "output_type": "display_data"
    },
    {
     "data": {
      "text/html": [
       "<pre style=\"white-space:pre;overflow-x:auto;line-height:normal;font-family:Menlo,'DejaVu Sans Mono',consolas,'Courier New',monospace\"><span style=\"color: #000000; text-decoration-color: #000000; background-color: #006600\">      \"race\": \"Shapeshifter (Lunar bloodline)\",                                                                    </span>\n",
       "</pre>\n"
      ],
      "text/plain": [
       "\u001b[30;48;2;0;102;0m      \"race\": \"Shapeshifter (Lunar bloodline)\",                                                                    \u001b[0m\n"
      ]
     },
     "metadata": {},
     "output_type": "display_data"
    },
    {
     "data": {
      "text/html": [
       "<pre style=\"white-space:pre;overflow-x:auto;line-height:normal;font-family:Menlo,'DejaVu Sans Mono',consolas,'Courier New',monospace\"><span style=\"color: #000000; text-decoration-color: #000000; background-color: #006600\">      \"age\": \"Unknown, appears late 20s\",                                                                          </span>\n",
       "</pre>\n"
      ],
      "text/plain": [
       "\u001b[30;48;2;0;102;0m      \"age\": \"Unknown, appears late 20s\",                                                                          \u001b[0m\n"
      ]
     },
     "metadata": {},
     "output_type": "display_data"
    },
    {
     "data": {
      "text/html": [
       "<pre style=\"white-space:pre;overflow-x:auto;line-height:normal;font-family:Menlo,'DejaVu Sans Mono',consolas,'Courier New',monospace\"><span style=\"color: #000000; text-decoration-color: #000000; background-color: #006600\">      \"catch_phrase\": \"Shadows are my solace, and my strength.\",                                                   </span>\n",
       "</pre>\n"
      ],
      "text/plain": [
       "\u001b[30;48;2;0;102;0m      \"catch_phrase\": \"Shadows are my solace, and my strength.\",                                                   \u001b[0m\n"
      ]
     },
     "metadata": {},
     "output_type": "display_data"
    },
    {
     "data": {
      "text/html": [
       "<pre style=\"white-space:pre;overflow-x:auto;line-height:normal;font-family:Menlo,'DejaVu Sans Mono',consolas,'Courier New',monospace\"><span style=\"color: #000000; text-decoration-color: #000000; background-color: #006600\">      \"animation_description\": \"Can blend into shadows, transform into various nocturnal animals\",                 </span>\n",
       "</pre>\n"
      ],
      "text/plain": [
       "\u001b[30;48;2;0;102;0m      \"animation_description\": \"Can blend into shadows, transform into various nocturnal animals\",                 \u001b[0m\n"
      ]
     },
     "metadata": {},
     "output_type": "display_data"
    },
    {
     "data": {
      "text/html": [
       "<pre style=\"white-space:pre;overflow-x:auto;line-height:normal;font-family:Menlo,'DejaVu Sans Mono',consolas,'Courier New',monospace\"><span style=\"color: #000000; text-decoration-color: #000000; background-color: #006600\">      \"voice_description\": \"Low, mysterious voice that sends shivers\",                                             </span>\n",
       "</pre>\n"
      ],
      "text/plain": [
       "\u001b[30;48;2;0;102;0m      \"voice_description\": \"Low, mysterious voice that sends shivers\",                                             \u001b[0m\n"
      ]
     },
     "metadata": {},
     "output_type": "display_data"
    },
    {
     "data": {
      "text/html": [
       "<pre style=\"white-space:pre;overflow-x:auto;line-height:normal;font-family:Menlo,'DejaVu Sans Mono',consolas,'Courier New',monospace\"><span style=\"color: #000000; text-decoration-color: #000000; background-color: #006600\">      \"voice_sample\": null,                                                                                        </span>\n",
       "</pre>\n"
      ],
      "text/plain": [
       "\u001b[30;48;2;0;102;0m      \"voice_sample\": null,                                                                                        \u001b[0m\n"
      ]
     },
     "metadata": {},
     "output_type": "display_data"
    },
    {
     "data": {
      "text/html": [
       "<pre style=\"white-space:pre;overflow-x:auto;line-height:normal;font-family:Menlo,'DejaVu Sans Mono',consolas,'Courier New',monospace\"><span style=\"color: #000000; text-decoration-color: #000000; background-color: #006600\">      \"props\": [\"Moonstone pendant\", \"Shadow weave cloak\"],                                                        </span>\n",
       "</pre>\n"
      ],
      "text/plain": [
       "\u001b[30;48;2;0;102;0m      \"props\": [\"Moonstone pendant\", \"Shadow weave cloak\"],                                                        \u001b[0m\n"
      ]
     },
     "metadata": {},
     "output_type": "display_data"
    },
    {
     "data": {
      "text/html": [
       "<pre style=\"white-space:pre;overflow-x:auto;line-height:normal;font-family:Menlo,'DejaVu Sans Mono',consolas,'Courier New',monospace\"><span style=\"color: #000000; text-decoration-color: #000000; background-color: #006600\">      \"relationships\": [                                                                                           </span>\n",
       "</pre>\n"
      ],
      "text/plain": [
       "\u001b[30;48;2;0;102;0m      \"relationships\": [                                                                                           \u001b[0m\n"
      ]
     },
     "metadata": {},
     "output_type": "display_data"
    },
    {
     "data": {
      "text/html": [
       "<pre style=\"white-space:pre;overflow-x:auto;line-height:normal;font-family:Menlo,'DejaVu Sans Mono',consolas,'Courier New',monospace\"><span style=\"color: #000000; text-decoration-color: #000000; background-color: #006600\">        {                                                                                                          </span>\n",
       "</pre>\n"
      ],
      "text/plain": [
       "\u001b[30;48;2;0;102;0m        {                                                                                                          \u001b[0m\n"
      ]
     },
     "metadata": {},
     "output_type": "display_data"
    },
    {
     "data": {
      "text/html": [
       "<pre style=\"white-space:pre;overflow-x:auto;line-height:normal;font-family:Menlo,'DejaVu Sans Mono',consolas,'Courier New',monospace\"><span style=\"color: #000000; text-decoration-color: #000000; background-color: #006600\">          \"character_name\": \"Lyra Flynn\",                                                                          </span>\n",
       "</pre>\n"
      ],
      "text/plain": [
       "\u001b[30;48;2;0;102;0m          \"character_name\": \"Lyra Flynn\",                                                                          \u001b[0m\n"
      ]
     },
     "metadata": {},
     "output_type": "display_data"
    },
    {
     "data": {
      "text/html": [
       "<pre style=\"white-space:pre;overflow-x:auto;line-height:normal;font-family:Menlo,'DejaVu Sans Mono',consolas,'Courier New',monospace\"><span style=\"color: #000000; text-decoration-color: #000000; background-color: #006600\">          \"relationship_type\": \"Friend/Ally\",                                                                      </span>\n",
       "</pre>\n"
      ],
      "text/plain": [
       "\u001b[30;48;2;0;102;0m          \"relationship_type\": \"Friend/Ally\",                                                                      \u001b[0m\n"
      ]
     },
     "metadata": {},
     "output_type": "display_data"
    },
    {
     "data": {
      "text/html": [
       "<pre style=\"white-space:pre;overflow-x:auto;line-height:normal;font-family:Menlo,'DejaVu Sans Mono',consolas,'Courier New',monospace\"><span style=\"color: #000000; text-decoration-color: #000000; background-color: #006600\">          \"description\": \"Provides strategic support and companionship in their quest\"                             </span>\n",
       "</pre>\n"
      ],
      "text/plain": [
       "\u001b[30;48;2;0;102;0m          \"description\": \"Provides strategic support and companionship in their quest\"                             \u001b[0m\n"
      ]
     },
     "metadata": {},
     "output_type": "display_data"
    },
    {
     "data": {
      "text/html": [
       "<pre style=\"white-space:pre;overflow-x:auto;line-height:normal;font-family:Menlo,'DejaVu Sans Mono',consolas,'Courier New',monospace\"><span style=\"color: #000000; text-decoration-color: #000000; background-color: #006600\">        }                                                                                                          </span>\n",
       "</pre>\n"
      ],
      "text/plain": [
       "\u001b[30;48;2;0;102;0m        }                                                                                                          \u001b[0m\n"
      ]
     },
     "metadata": {},
     "output_type": "display_data"
    },
    {
     "data": {
      "text/html": [
       "<pre style=\"white-space:pre;overflow-x:auto;line-height:normal;font-family:Menlo,'DejaVu Sans Mono',consolas,'Courier New',monospace\"><span style=\"color: #000000; text-decoration-color: #000000; background-color: #006600\">      ],                                                                                                           </span>\n",
       "</pre>\n"
      ],
      "text/plain": [
       "\u001b[30;48;2;0;102;0m      ],                                                                                                           \u001b[0m\n"
      ]
     },
     "metadata": {},
     "output_type": "display_data"
    },
    {
     "data": {
      "text/html": [
       "<pre style=\"white-space:pre;overflow-x:auto;line-height:normal;font-family:Menlo,'DejaVu Sans Mono',consolas,'Courier New',monospace\"><span style=\"color: #000000; text-decoration-color: #000000; background-color: #006600\">      \"internal_conflict\": \"Navigating trust issues stemming from a troubled past\",                                </span>\n",
       "</pre>\n"
      ],
      "text/plain": [
       "\u001b[30;48;2;0;102;0m      \"internal_conflict\": \"Navigating trust issues stemming from a troubled past\",                                \u001b[0m\n"
      ]
     },
     "metadata": {},
     "output_type": "display_data"
    },
    {
     "data": {
      "text/html": [
       "<pre style=\"white-space:pre;overflow-x:auto;line-height:normal;font-family:Menlo,'DejaVu Sans Mono',consolas,'Courier New',monospace\"><span style=\"color: #000000; text-decoration-color: #000000; background-color: #006600\">      \"character_arc\": {                                                                                           </span>\n",
       "</pre>\n"
      ],
      "text/plain": [
       "\u001b[30;48;2;0;102;0m      \"character_arc\": {                                                                                           \u001b[0m\n"
      ]
     },
     "metadata": {},
     "output_type": "display_data"
    },
    {
     "data": {
      "text/html": [
       "<pre style=\"white-space:pre;overflow-x:auto;line-height:normal;font-family:Menlo,'DejaVu Sans Mono',consolas,'Courier New',monospace\"><span style=\"color: #000000; text-decoration-color: #000000; background-color: #006600\">        \"initial_state\": \"Guarded and aloof\",                                                                      </span>\n",
       "</pre>\n"
      ],
      "text/plain": [
       "\u001b[30;48;2;0;102;0m        \"initial_state\": \"Guarded and aloof\",                                                                      \u001b[0m\n"
      ]
     },
     "metadata": {},
     "output_type": "display_data"
    },
    {
     "data": {
      "text/html": [
       "<pre style=\"white-space:pre;overflow-x:auto;line-height:normal;font-family:Menlo,'DejaVu Sans Mono',consolas,'Courier New',monospace\"><span style=\"color: #000000; text-decoration-color: #000000; background-color: #006600\">        \"final_state\": \"Openly supportive, having found a new family among allies\",                                </span>\n",
       "</pre>\n"
      ],
      "text/plain": [
       "\u001b[30;48;2;0;102;0m        \"final_state\": \"Openly supportive, having found a new family among allies\",                                \u001b[0m\n"
      ]
     },
     "metadata": {},
     "output_type": "display_data"
    },
    {
     "data": {
      "text/html": [
       "<pre style=\"white-space:pre;overflow-x:auto;line-height:normal;font-family:Menlo,'DejaVu Sans Mono',consolas,'Courier New',monospace\"><span style=\"color: #000000; text-decoration-color: #000000; background-color: #006600\">        \"key_moments\": [\"First transformation in front of Lyra\", \"Saving Zephyr from the dark sorcerer's minions\"] </span>\n",
       "</pre>\n"
      ],
      "text/plain": [
       "\u001b[30;48;2;0;102;0m        \"key_moments\": [\"First transformation in front of Lyra\", \"Saving Zephyr from the dark sorcerer's minions\"] \u001b[0m\n"
      ]
     },
     "metadata": {},
     "output_type": "display_data"
    },
    {
     "data": {
      "text/html": [
       "<pre style=\"white-space:pre;overflow-x:auto;line-height:normal;font-family:Menlo,'DejaVu Sans Mono',consolas,'Courier New',monospace\"><span style=\"color: #000000; text-decoration-color: #000000; background-color: #006600\">      }                                                                                                            </span>\n",
       "</pre>\n"
      ],
      "text/plain": [
       "\u001b[30;48;2;0;102;0m      }                                                                                                            \u001b[0m\n"
      ]
     },
     "metadata": {},
     "output_type": "display_data"
    },
    {
     "data": {
      "text/html": [
       "<pre style=\"white-space:pre;overflow-x:auto;line-height:normal;font-family:Menlo,'DejaVu Sans Mono',consolas,'Courier New',monospace\"><span style=\"color: #000000; text-decoration-color: #000000; background-color: #006600\">    }                                                                                                              </span>\n",
       "</pre>\n"
      ],
      "text/plain": [
       "\u001b[30;48;2;0;102;0m    }                                                                                                              \u001b[0m\n"
      ]
     },
     "metadata": {},
     "output_type": "display_data"
    },
    {
     "data": {
      "text/html": [
       "<pre style=\"white-space:pre;overflow-x:auto;line-height:normal;font-family:Menlo,'DejaVu Sans Mono',consolas,'Courier New',monospace\"><span style=\"color: #000000; text-decoration-color: #000000; background-color: #006600\">  ],                                                                                                               </span>\n",
       "</pre>\n"
      ],
      "text/plain": [
       "\u001b[30;48;2;0;102;0m  ],                                                                                                               \u001b[0m\n"
      ]
     },
     "metadata": {},
     "output_type": "display_data"
    },
    {
     "data": {
      "text/html": [
       "<pre style=\"white-space:pre;overflow-x:auto;line-height:normal;font-family:Menlo,'DejaVu Sans Mono',consolas,'Courier New',monospace\"><span style=\"color: #000000; text-decoration-color: #000000; background-color: #006600\">  \"props\": [                                                                                                       </span>\n",
       "</pre>\n"
      ],
      "text/plain": [
       "\u001b[30;48;2;0;102;0m  \"props\": [                                                                                                       \u001b[0m\n"
      ]
     },
     "metadata": {},
     "output_type": "display_data"
    },
    {
     "data": {
      "text/html": [
       "<pre style=\"white-space:pre;overflow-x:auto;line-height:normal;font-family:Menlo,'DejaVu Sans Mono',consolas,'Courier New',monospace\"><span style=\"color: #000000; text-decoration-color: #000000; background-color: #006600\">    {                                                                                                              </span>\n",
       "</pre>\n"
      ],
      "text/plain": [
       "\u001b[30;48;2;0;102;0m    {                                                                                                              \u001b[0m\n"
      ]
     },
     "metadata": {},
     "output_type": "display_data"
    },
    {
     "data": {
      "text/html": [
       "<pre style=\"white-space:pre;overflow-x:auto;line-height:normal;font-family:Menlo,'DejaVu Sans Mono',consolas,'Courier New',monospace\"><span style=\"color: #000000; text-decoration-color: #000000; background-color: #006600\">      \"name\": \"The Emerald Scepter\",                                                                               </span>\n",
       "</pre>\n"
      ],
      "text/plain": [
       "\u001b[30;48;2;0;102;0m      \"name\": \"The Emerald Scepter\",                                                                               \u001b[0m\n"
      ]
     },
     "metadata": {},
     "output_type": "display_data"
    },
    {
     "data": {
      "text/html": [
       "<pre style=\"white-space:pre;overflow-x:auto;line-height:normal;font-family:Menlo,'DejaVu Sans Mono',consolas,'Courier New',monospace\"><span style=\"color: #000000; text-decoration-color: #000000; background-color: #006600\">      \"description\": \"A powerful artifact that amplifies druidic powers, central to the prophecy\"                  </span>\n",
       "</pre>\n"
      ],
      "text/plain": [
       "\u001b[30;48;2;0;102;0m      \"description\": \"A powerful artifact that amplifies druidic powers, central to the prophecy\"                  \u001b[0m\n"
      ]
     },
     "metadata": {},
     "output_type": "display_data"
    },
    {
     "data": {
      "text/html": [
       "<pre style=\"white-space:pre;overflow-x:auto;line-height:normal;font-family:Menlo,'DejaVu Sans Mono',consolas,'Courier New',monospace\"><span style=\"color: #000000; text-decoration-color: #000000; background-color: #006600\">    }                                                                                                              </span>\n",
       "</pre>\n"
      ],
      "text/plain": [
       "\u001b[30;48;2;0;102;0m    }                                                                                                              \u001b[0m\n"
      ]
     },
     "metadata": {},
     "output_type": "display_data"
    },
    {
     "data": {
      "text/html": [
       "<pre style=\"white-space:pre;overflow-x:auto;line-height:normal;font-family:Menlo,'DejaVu Sans Mono',consolas,'Courier New',monospace\"><span style=\"color: #000000; text-decoration-color: #000000; background-color: #006600\">  ]                                                                                                                </span>\n",
       "</pre>\n"
      ],
      "text/plain": [
       "\u001b[30;48;2;0;102;0m  ]                                                                                                                \u001b[0m\n"
      ]
     },
     "metadata": {},
     "output_type": "display_data"
    },
    {
     "data": {
      "text/html": [
       "<pre style=\"white-space:pre;overflow-x:auto;line-height:normal;font-family:Menlo,'DejaVu Sans Mono',consolas,'Courier New',monospace\"><span style=\"color: #000000; text-decoration-color: #000000; background-color: #006600\">],                                                                                                                 </span>\n",
       "</pre>\n"
      ],
      "text/plain": [
       "\u001b[30;48;2;0;102;0m],                                                                                                                 \u001b[0m\n"
      ]
     },
     "metadata": {},
     "output_type": "display_data"
    },
    {
     "data": {
      "text/html": [
       "<pre style=\"white-space:pre;overflow-x:auto;line-height:normal;font-family:Menlo,'DejaVu Sans Mono',consolas,'Courier New',monospace\"><span style=\"color: #000000; text-decoration-color: #000000; background-color: #006600\">\"story_locations\": [                                                                                               </span>\n",
       "</pre>\n"
      ],
      "text/plain": [
       "\u001b[30;48;2;0;102;0m\"story_locations\": [                                                                                               \u001b[0m\n"
      ]
     },
     "metadata": {},
     "output_type": "display_data"
    },
    {
     "data": {
      "text/html": [
       "<pre style=\"white-space:pre;overflow-x:auto;line-height:normal;font-family:Menlo,'DejaVu Sans Mono',consolas,'Courier New',monospace\"><span style=\"color: #000000; text-decoration-color: #000000; background-color: #006600\">  {                                                                                                                </span>\n",
       "</pre>\n"
      ],
      "text/plain": [
       "\u001b[30;48;2;0;102;0m  {                                                                                                                \u001b[0m\n"
      ]
     },
     "metadata": {},
     "output_type": "display_data"
    },
    {
     "data": {
      "text/html": [
       "<pre style=\"white-space:pre;overflow-x:auto;line-height:normal;font-family:Menlo,'DejaVu Sans Mono',consolas,'Courier New',monospace\"><span style=\"color: #000000; text-decoration-color: #000000; background-color: #006600\">    \"name\": \"Emerald Woods\",                                                                                       </span>\n",
       "</pre>\n"
      ],
      "text/plain": [
       "\u001b[30;48;2;0;102;0m    \"name\": \"Emerald Woods\",                                                                                       \u001b[0m\n"
      ]
     },
     "metadata": {},
     "output_type": "display_data"
    },
    {
     "data": {
      "text/html": [
       "<pre style=\"white-space:pre;overflow-x:auto;line-height:normal;font-family:Menlo,'DejaVu Sans Mono',consolas,'Courier New',monospace\"><span style=\"color: #000000; text-decoration-color: #000000; background-color: #006600\">    \"description\": \"Ancient, mystical forest teeming with life and magic\"                                          </span>\n",
       "</pre>\n"
      ],
      "text/plain": [
       "\u001b[30;48;2;0;102;0m    \"description\": \"Ancient, mystical forest teeming with life and magic\"                                          \u001b[0m\n"
      ]
     },
     "metadata": {},
     "output_type": "display_data"
    },
    {
     "data": {
      "text/html": [
       "<pre style=\"white-space:pre;overflow-x:auto;line-height:normal;font-family:Menlo,'DejaVu Sans Mono',consolas,'Courier New',monospace\"><span style=\"color: #000000; text-decoration-color: #000000; background-color: #006600\">  },                                                                                                               </span>\n",
       "</pre>\n"
      ],
      "text/plain": [
       "\u001b[30;48;2;0;102;0m  },                                                                                                               \u001b[0m\n"
      ]
     },
     "metadata": {},
     "output_type": "display_data"
    },
    {
     "data": {
      "text/html": [
       "<pre style=\"white-space:pre;overflow-x:auto;line-height:normal;font-family:Menlo,'DejaVu Sans Mono',consolas,'Courier New',monospace\"><span style=\"color: #000000; text-decoration-color: #000000; background-color: #006600\">  {                                                                                                                </span>\n",
       "</pre>\n"
      ],
      "text/plain": [
       "\u001b[30;48;2;0;102;0m  {                                                                                                                \u001b[0m\n"
      ]
     },
     "metadata": {},
     "output_type": "display_data"
    },
    {
     "data": {
      "text/html": [
       "<pre style=\"white-space:pre;overflow-x:auto;line-height:normal;font-family:Menlo,'DejaVu Sans Mono',consolas,'Courier New',monospace\"><span style=\"color: #000000; text-decoration-color: #000000; background-color: #006600\">    \"name\": \"Windsong Tower\",                                                                                      </span>\n",
       "</pre>\n"
      ],
      "text/plain": [
       "\u001b[30;48;2;0;102;0m    \"name\": \"Windsong Tower\",                                                                                      \u001b[0m\n"
      ]
     },
     "metadata": {},
     "output_type": "display_data"
    },
    {
     "data": {
      "text/html": [
       "<pre style=\"white-space:pre;overflow-x:auto;line-height:normal;font-family:Menlo,'DejaVu Sans Mono',consolas,'Courier New',monospace\"><span style=\"color: #000000; text-decoration-color: #000000; background-color: #006600\">    \"description\": \"Zephyr's abode, a tower that floats among the clouds, filled with ancient tomes and mysterious </span>\n",
       "<span style=\"color: #000000; text-decoration-color: #000000; background-color: #006600\">artifacts\"                                                                                                         </span>\n",
       "</pre>\n"
      ],
      "text/plain": [
       "\u001b[30;48;2;0;102;0m    \"description\": \"Zephyr's abode, a tower that floats among the clouds, filled with ancient tomes and mysterious \u001b[0m\n",
       "\u001b[30;48;2;0;102;0martifacts\"                                                                                                         \u001b[0m\n"
      ]
     },
     "metadata": {},
     "output_type": "display_data"
    },
    {
     "data": {
      "text/html": [
       "<pre style=\"white-space:pre;overflow-x:auto;line-height:normal;font-family:Menlo,'DejaVu Sans Mono',consolas,'Courier New',monospace\"><span style=\"color: #000000; text-decoration-color: #000000; background-color: #006600\">  }                                                                                                                </span>\n",
       "</pre>\n"
      ],
      "text/plain": [
       "\u001b[30;48;2;0;102;0m  }                                                                                                                \u001b[0m\n"
      ]
     },
     "metadata": {},
     "output_type": "display_data"
    },
    {
     "data": {
      "text/html": [
       "<pre style=\"white-space:pre;overflow-x:auto;line-height:normal;font-family:Menlo,'DejaVu Sans Mono',consolas,'Courier New',monospace\"><span style=\"color: #000000; text-decoration-color: #000000; background-color: #006600\">]                                                                                                                  </span>\n",
       "</pre>\n"
      ],
      "text/plain": [
       "\u001b[30;48;2;0;102;0m]                                                                                                                  \u001b[0m\n"
      ]
     },
     "metadata": {},
     "output_type": "display_data"
    },
    {
     "data": {
      "text/html": [
       "<pre style=\"white-space:pre;overflow-x:auto;line-height:normal;font-family:Menlo,'DejaVu Sans Mono',consolas,'Courier New',monospace\"><span style=\"color: #000000; text-decoration-color: #000000; background-color: #006600\">}                                                                                                                  </span>\n",
       "</pre>\n"
      ],
      "text/plain": [
       "\u001b[30;48;2;0;102;0m}                                                                                                                  \u001b[0m\n"
      ]
     },
     "metadata": {},
     "output_type": "display_data"
    },
    {
     "data": {
      "text/html": [
       "<pre style=\"white-space:pre;overflow-x:auto;line-height:normal;font-family:Menlo,'DejaVu Sans Mono',consolas,'Courier New',monospace\"><span style=\"color: #000000; text-decoration-color: #000000; background-color: #006600\">                                                                                                                   </span>\n",
       "</pre>\n"
      ],
      "text/plain": [
       "\u001b[30;48;2;0;102;0m                                                                                                                   \u001b[0m\n"
      ]
     },
     "metadata": {},
     "output_type": "display_data"
    },
    {
     "data": {
      "text/html": [
       "<pre style=\"white-space:pre;overflow-x:auto;line-height:normal;font-family:Menlo,'DejaVu Sans Mono',consolas,'Courier New',monospace\"><span style=\"color: #000000; text-decoration-color: #000000; background-color: #006600\">**Story Outline:**                                                                                                 </span>\n",
       "</pre>\n"
      ],
      "text/plain": [
       "\u001b[30;48;2;0;102;0m**Story Outline:**                                                                                                 \u001b[0m\n"
      ]
     },
     "metadata": {},
     "output_type": "display_data"
    },
    {
     "data": {
      "text/html": [
       "<pre style=\"white-space:pre;overflow-x:auto;line-height:normal;font-family:Menlo,'DejaVu Sans Mono',consolas,'Courier New',monospace\"><span style=\"color: #000000; text-decoration-color: #000000; background-color: #006600\">                                                                                                                   </span>\n",
       "</pre>\n"
      ],
      "text/plain": [
       "\u001b[30;48;2;0;102;0m                                                                                                                   \u001b[0m\n"
      ]
     },
     "metadata": {},
     "output_type": "display_data"
    },
    {
     "data": {
      "text/html": [
       "<pre style=\"white-space:pre;overflow-x:auto;line-height:normal;font-family:Menlo,'DejaVu Sans Mono',consolas,'Courier New',monospace\"><span style=\"color: #000000; text-decoration-color: #000000; background-color: #006600\">1. **Introduction**:                                                                                               </span>\n",
       "</pre>\n"
      ],
      "text/plain": [
       "\u001b[30;48;2;0;102;0m1. **Introduction**:                                                                                               \u001b[0m\n"
      ]
     },
     "metadata": {},
     "output_type": "display_data"
    },
    {
     "data": {
      "text/html": [
       "<pre style=\"white-space:pre;overflow-x:auto;line-height:normal;font-family:Menlo,'DejaVu Sans Mono',consolas,'Courier New',monospace\"><span style=\"color: #000000; text-decoration-color: #000000; background-color: #006600\">   - Introduce Lyra Flynn, an apprentice druid, in the mystical Emerald Woods.                                     </span>\n",
       "</pre>\n"
      ],
      "text/plain": [
       "\u001b[30;48;2;0;102;0m   - Introduce Lyra Flynn, an apprentice druid, in the mystical Emerald Woods.                                     \u001b[0m\n"
      ]
     },
     "metadata": {},
     "output_type": "display_data"
    },
    {
     "data": {
      "text/html": [
       "<pre style=\"white-space:pre;overflow-x:auto;line-height:normal;font-family:Menlo,'DejaVu Sans Mono',consolas,'Courier New',monospace\"><span style=\"color: #000000; text-decoration-color: #000000; background-color: #006600\">   - Show her connection with nature and her desire to master her powers.                                          </span>\n",
       "</pre>\n"
      ],
      "text/plain": [
       "\u001b[30;48;2;0;102;0m   - Show her connection with nature and her desire to master her powers.                                          \u001b[0m\n"
      ]
     },
     "metadata": {},
     "output_type": "display_data"
    },
    {
     "data": {
      "text/html": [
       "<pre style=\"white-space:pre;overflow-x:auto;line-height:normal;font-family:Menlo,'DejaVu Sans Mono',consolas,'Courier New',monospace\"><span style=\"color: #000000; text-decoration-color: #000000; background-color: #006600\">                                                                                                                   </span>\n",
       "</pre>\n"
      ],
      "text/plain": [
       "\u001b[30;48;2;0;102;0m                                                                                                                   \u001b[0m\n"
      ]
     },
     "metadata": {},
     "output_type": "display_data"
    },
    {
     "data": {
      "text/html": [
       "<pre style=\"white-space:pre;overflow-x:auto;line-height:normal;font-family:Menlo,'DejaVu Sans Mono',consolas,'Courier New',monospace\"><span style=\"color: #000000; text-decoration-color: #000000; background-color: #006600\">2. **Inciting Incident**:                                                                                          </span>\n",
       "</pre>\n"
      ],
      "text/plain": [
       "\u001b[30;48;2;0;102;0m2. **Inciting Incident**:                                                                                          \u001b[0m\n"
      ]
     },
     "metadata": {},
     "output_type": "display_data"
    },
    {
     "data": {
      "text/html": [
       "<pre style=\"white-space:pre;overflow-x:auto;line-height:normal;font-family:Menlo,'DejaVu Sans Mono',consolas,'Courier New',monospace\"><span style=\"color: #000000; text-decoration-color: #000000; background-color: #006600\">   - Lyra discovers an ancient prophecy that foretells the destruction of the Emerald Woods by a dark sorcerer.    </span>\n",
       "</pre>\n"
      ],
      "text/plain": [
       "\u001b[30;48;2;0;102;0m   - Lyra discovers an ancient prophecy that foretells the destruction of the Emerald Woods by a dark sorcerer.    \u001b[0m\n"
      ]
     },
     "metadata": {},
     "output_type": "display_data"
    },
    {
     "data": {
      "text/html": [
       "<pre style=\"white-space:pre;overflow-x:auto;line-height:normal;font-family:Menlo,'DejaVu Sans Mono',consolas,'Courier New',monospace\"><span style=\"color: #000000; text-decoration-color: #000000; background-color: #006600\">   - She decides to embark on a quest to save her home, guided by Zephyr Windsong.                                 </span>\n",
       "</pre>\n"
      ],
      "text/plain": [
       "\u001b[30;48;2;0;102;0m   - She decides to embark on a quest to save her home, guided by Zephyr Windsong.                                 \u001b[0m\n"
      ]
     },
     "metadata": {},
     "output_type": "display_data"
    },
    {
     "data": {
      "text/html": [
       "<pre style=\"white-space:pre;overflow-x:auto;line-height:normal;font-family:Menlo,'DejaVu Sans Mono',consolas,'Courier New',monospace\"><span style=\"color: #000000; text-decoration-color: #000000; background-color: #006600\">                                                                                                                   </span>\n",
       "</pre>\n"
      ],
      "text/plain": [
       "\u001b[30;48;2;0;102;0m                                                                                                                   \u001b[0m\n"
      ]
     },
     "metadata": {},
     "output_type": "display_data"
    },
    {
     "data": {
      "text/html": [
       "<pre style=\"white-space:pre;overflow-x:auto;line-height:normal;font-family:Menlo,'DejaVu Sans Mono',consolas,'Courier New',monospace\"><span style=\"color: #000000; text-decoration-color: #000000; background-color: #006600\">3. **Rising Action**:                                                                                              </span>\n",
       "</pre>\n"
      ],
      "text/plain": [
       "\u001b[30;48;2;0;102;0m3. **Rising Action**:                                                                                              \u001b[0m\n"
      ]
     },
     "metadata": {},
     "output_type": "display_data"
    },
    {
     "data": {
      "text/html": [
       "<pre style=\"white-space:pre;overflow-x:auto;line-height:normal;font-family:Menlo,'DejaVu Sans Mono',consolas,'Courier New',monospace\"><span style=\"color: #000000; text-decoration-color: #000000; background-color: #006600\">   - Lyra, with Zephyr’s mentorship and Kael’s companionship, journeys through Aethoria, gathering allies and </span>\n",
       "<span style=\"color: #000000; text-decoration-color: #000000; background-color: #006600\">knowledge.                                                                                                         </span>\n",
       "</pre>\n"
      ],
      "text/plain": [
       "\u001b[30;48;2;0;102;0m   - Lyra, with Zephyr’s mentorship and Kael’s companionship, journeys through Aethoria, gathering allies and \u001b[0m\n",
       "\u001b[30;48;2;0;102;0mknowledge.                                                                                                         \u001b[0m\n"
      ]
     },
     "metadata": {},
     "output_type": "display_data"
    },
    {
     "data": {
      "text/html": [
       "<pre style=\"white-space:pre;overflow-x:auto;line-height:normal;font-family:Menlo,'DejaVu Sans Mono',consolas,'Courier New',monospace\"><span style=\"color: #000000; text-decoration-color: #000000; background-color: #006600\">   - They face various challenges and enemies, testing their skills and resolve.                                   </span>\n",
       "</pre>\n"
      ],
      "text/plain": [
       "\u001b[30;48;2;0;102;0m   - They face various challenges and enemies, testing their skills and resolve.                                   \u001b[0m\n"
      ]
     },
     "metadata": {},
     "output_type": "display_data"
    },
    {
     "data": {
      "text/html": [
       "<pre style=\"white-space:pre;overflow-x:auto;line-height:normal;font-family:Menlo,'DejaVu Sans Mono',consolas,'Courier New',monospace\"><span style=\"color: #000000; text-decoration-color: #000000; background-color: #006600\">   - Key moments include discovering the Emerald Scepter, a powerful artifact crucial to the prophecy, and </span>\n",
       "<span style=\"color: #000000; text-decoration-color: #000000; background-color: #006600\">confronting personal demons.                                                                                       </span>\n",
       "</pre>\n"
      ],
      "text/plain": [
       "\u001b[30;48;2;0;102;0m   - Key moments include discovering the Emerald Scepter, a powerful artifact crucial to the prophecy, and \u001b[0m\n",
       "\u001b[30;48;2;0;102;0mconfronting personal demons.                                                                                       \u001b[0m\n"
      ]
     },
     "metadata": {},
     "output_type": "display_data"
    },
    {
     "data": {
      "text/html": [
       "<pre style=\"white-space:pre;overflow-x:auto;line-height:normal;font-family:Menlo,'DejaVu Sans Mono',consolas,'Courier New',monospace\"><span style=\"color: #000000; text-decoration-color: #000000; background-color: #006600\">                                                                                                                   </span>\n",
       "</pre>\n"
      ],
      "text/plain": [
       "\u001b[30;48;2;0;102;0m                                                                                                                   \u001b[0m\n"
      ]
     },
     "metadata": {},
     "output_type": "display_data"
    },
    {
     "data": {
      "text/html": [
       "<pre style=\"white-space:pre;overflow-x:auto;line-height:normal;font-family:Menlo,'DejaVu Sans Mono',consolas,'Courier New',monospace\"><span style=\"color: #000000; text-decoration-color: #000000; background-color: #006600\">4. **Climax**:                                                                                                     </span>\n",
       "</pre>\n"
      ],
      "text/plain": [
       "\u001b[30;48;2;0;102;0m4. **Climax**:                                                                                                     \u001b[0m\n"
      ]
     },
     "metadata": {},
     "output_type": "display_data"
    },
    {
     "data": {
      "text/html": [
       "<pre style=\"white-space:pre;overflow-x:auto;line-height:normal;font-family:Menlo,'DejaVu Sans Mono',consolas,'Courier New',monospace\"><span style=\"color: #000000; text-decoration-color: #000000; background-color: #006600\">   - The trio confronts the dark sorcerer in an epic battle within the heart of the Emerald Woods.                 </span>\n",
       "</pre>\n"
      ],
      "text/plain": [
       "\u001b[30;48;2;0;102;0m   - The trio confronts the dark sorcerer in an epic battle within the heart of the Emerald Woods.                 \u001b[0m\n"
      ]
     },
     "metadata": {},
     "output_type": "display_data"
    },
    {
     "data": {
      "text/html": [
       "<pre style=\"white-space:pre;overflow-x:auto;line-height:normal;font-family:Menlo,'DejaVu Sans Mono',consolas,'Courier New',monospace\"><span style=\"color: #000000; text-decoration-color: #000000; background-color: #006600\">   - Lyra must harness her druidic powers, aided by the Emerald Scepter, to restore balance to nature and defeat </span>\n",
       "<span style=\"color: #000000; text-decoration-color: #000000; background-color: #006600\">the sorcerer.                                                                                                      </span>\n",
       "</pre>\n"
      ],
      "text/plain": [
       "\u001b[30;48;2;0;102;0m   - Lyra must harness her druidic powers, aided by the Emerald Scepter, to restore balance to nature and defeat \u001b[0m\n",
       "\u001b[30;48;2;0;102;0mthe sorcerer.                                                                                                      \u001b[0m\n"
      ]
     },
     "metadata": {},
     "output_type": "display_data"
    },
    {
     "data": {
      "text/html": [
       "<pre style=\"white-space:pre;overflow-x:auto;line-height:normal;font-family:Menlo,'DejaVu Sans Mono',consolas,'Courier New',monospace\"><span style=\"color: #000000; text-decoration-color: #000000; background-color: #006600\">                                                                                                                   </span>\n",
       "</pre>\n"
      ],
      "text/plain": [
       "\u001b[30;48;2;0;102;0m                                                                                                                   \u001b[0m\n"
      ]
     },
     "metadata": {},
     "output_type": "display_data"
    },
    {
     "data": {
      "text/html": [
       "<pre style=\"white-space:pre;overflow-x:auto;line-height:normal;font-family:Menlo,'DejaVu Sans Mono',consolas,'Courier New',monospace\"><span style=\"color: #000000; text-decoration-color: #000000; background-color: #006600\">5. **Falling Action &amp; Resolution**:                                                                                </span>\n",
       "</pre>\n"
      ],
      "text/plain": [
       "\u001b[30;48;2;0;102;0m5. **Falling Action & Resolution**:                                                                                \u001b[0m\n"
      ]
     },
     "metadata": {},
     "output_type": "display_data"
    },
    {
     "data": {
      "text/html": [
       "<pre style=\"white-space:pre;overflow-x:auto;line-height:normal;font-family:Menlo,'DejaVu Sans Mono',consolas,'Courier New',monospace\"><span style=\"color: #000000; text-decoration-color: #000000; background-color: #006600\">   - With the dark sorcerer defeated, the Emerald Woods begin to heal.                                             </span>\n",
       "</pre>\n"
      ],
      "text/plain": [
       "\u001b[30;48;2;0;102;0m   - With the dark sorcerer defeated, the Emerald Woods begin to heal.                                             \u001b[0m\n"
      ]
     },
     "metadata": {},
     "output_type": "display_data"
    },
    {
     "data": {
      "text/html": [
       "<pre style=\"white-space:pre;overflow-x:auto;line-height:normal;font-family:Menlo,'DejaVu Sans Mono',consolas,'Courier New',monospace\"><span style=\"color: #000000; text-decoration-color: #000000; background-color: #006600\">   - Lyra, now confident in her abilities, decides to continue protecting Aethoria’s natural wonders with Zephyr </span>\n",
       "<span style=\"color: #000000; text-decoration-color: #000000; background-color: #006600\">and Kael by her side.                                                                                              </span>\n",
       "</pre>\n"
      ],
      "text/plain": [
       "\u001b[30;48;2;0;102;0m   - Lyra, now confident in her abilities, decides to continue protecting Aethoria’s natural wonders with Zephyr \u001b[0m\n",
       "\u001b[30;48;2;0;102;0mand Kael by her side.                                                                                              \u001b[0m\n"
      ]
     },
     "metadata": {},
     "output_type": "display_data"
    },
    {
     "data": {
      "text/html": [
       "<pre style=\"white-space:pre;overflow-x:auto;line-height:normal;font-family:Menlo,'DejaVu Sans Mono',consolas,'Courier New',monospace\"><span style=\"color: #000000; text-decoration-color: #000000; background-color: #006600\">   - The story concludes with a newfound sense of unity among the trio and a brighter future for Aethoria.         </span>\n",
       "</pre>\n"
      ],
      "text/plain": [
       "\u001b[30;48;2;0;102;0m   - The story concludes with a newfound sense of unity among the trio and a brighter future for Aethoria.         \u001b[0m\n"
      ]
     },
     "metadata": {},
     "output_type": "display_data"
    },
    {
     "data": {
      "text/html": [
       "<pre style=\"white-space:pre;overflow-x:auto;line-height:normal;font-family:Menlo,'DejaVu Sans Mono',consolas,'Courier New',monospace\"><span style=\"color: #000000; text-decoration-color: #000000; background-color: #006600\">                                                                                                                   </span>\n",
       "</pre>\n"
      ],
      "text/plain": [
       "\u001b[30;48;2;0;102;0m                                                                                                                   \u001b[0m\n"
      ]
     },
     "metadata": {},
     "output_type": "display_data"
    },
    {
     "data": {
      "text/html": [
       "<pre style=\"white-space:pre;overflow-x:auto;line-height:normal;font-family:Menlo,'DejaVu Sans Mono',consolas,'Courier New',monospace\"><span style=\"color: #000000; text-decoration-color: #000000; background-color: #006600\">**Themes Exploration:**                                                                                            </span>\n",
       "</pre>\n"
      ],
      "text/plain": [
       "\u001b[30;48;2;0;102;0m**Themes Exploration:**                                                                                            \u001b[0m\n"
      ]
     },
     "metadata": {},
     "output_type": "display_data"
    },
    {
     "data": {
      "text/html": [
       "<pre style=\"white-space:pre;overflow-x:auto;line-height:normal;font-family:Menlo,'DejaVu Sans Mono',consolas,'Courier New',monospace\"><span style=\"color: #000000; text-decoration-color: #000000; background-color: #006600\">                                                                                                                   </span>\n",
       "</pre>\n"
      ],
      "text/plain": [
       "\u001b[30;48;2;0;102;0m                                                                                                                   \u001b[0m\n"
      ]
     },
     "metadata": {},
     "output_type": "display_data"
    },
    {
     "data": {
      "text/html": [
       "<pre style=\"white-space:pre;overflow-x:auto;line-height:normal;font-family:Menlo,'DejaVu Sans Mono',consolas,'Courier New',monospace\"><span style=\"color: #000000; text-decoration-color: #000000; background-color: #006600\">- **Balance with Nature**: Highlighted through Lyra's journey and her ultimate use of the Emerald Scepter to </span>\n",
       "<span style=\"color: #000000; text-decoration-color: #000000; background-color: #006600\">restore harmony to the Emerald Woods.                                                                              </span>\n",
       "</pre>\n"
      ],
      "text/plain": [
       "\u001b[30;48;2;0;102;0m- **Balance with Nature**: Highlighted through Lyra's journey and her ultimate use of the Emerald Scepter to \u001b[0m\n",
       "\u001b[30;48;2;0;102;0mrestore harmony to the Emerald Woods.                                                                              \u001b[0m\n"
      ]
     },
     "metadata": {},
     "output_type": "display_data"
    },
    {
     "data": {
      "text/html": [
       "<pre style=\"white-space:pre;overflow-x:auto;line-height:normal;font-family:Menlo,'DejaVu Sans Mono',consolas,'Courier New',monospace\"><span style=\"color: #000000; text-decoration-color: #000000; background-color: #006600\">- **Self-Discovery**: Each character undergoes significant personal growth, especially Lyra as she embraces her </span>\n",
       "<span style=\"color: #000000; text-decoration-color: #000000; background-color: #006600\">true potential as a druid.                                                                                         </span>\n",
       "</pre>\n"
      ],
      "text/plain": [
       "\u001b[30;48;2;0;102;0m- **Self-Discovery**: Each character undergoes significant personal growth, especially Lyra as she embraces her \u001b[0m\n",
       "\u001b[30;48;2;0;102;0mtrue potential as a druid.                                                                                         \u001b[0m\n"
      ]
     },
     "metadata": {},
     "output_type": "display_data"
    },
    {
     "data": {
      "text/html": [
       "<pre style=\"white-space:pre;overflow-x:auto;line-height:normal;font-family:Menlo,'DejaVu Sans Mono',consolas,'Courier New',monospace\"><span style=\"color: #000000; text-decoration-color: #000000; background-color: #006600\">- **Unity in Diversity**: The alliance between Lyra (druid), Zephyr (wizard), and Kael (shapeshifter) showcases how</span>\n",
       "<span style=\"color: #000000; text-decoration-color: #000000; background-color: #006600\">diverse skills and backgrounds can lead to a common, victorious goal.                                              </span>\n",
       "</pre>\n"
      ],
      "text/plain": [
       "\u001b[30;48;2;0;102;0m- **Unity in Diversity**: The alliance between Lyra (druid), Zephyr (wizard), and Kael (shapeshifter) showcases how\u001b[0m\n",
       "\u001b[30;48;2;0;102;0mdiverse skills and backgrounds can lead to a common, victorious goal.                                              \u001b[0m\n"
      ]
     },
     "metadata": {},
     "output_type": "display_data"
    },
    {
     "data": {
      "text/html": [
       "<pre style=\"white-space:pre;overflow-x:auto;line-height:normal;font-family:Menlo,'DejaVu Sans Mono',consolas,'Courier New',monospace\">\n",
       "</pre>\n"
      ],
      "text/plain": [
       "\n"
      ]
     },
     "metadata": {},
     "output_type": "display_data"
    },
    {
     "data": {
      "text/html": [
       "<pre style=\"white-space:pre;overflow-x:auto;line-height:normal;font-family:Menlo,'DejaVu Sans Mono',consolas,'Courier New',monospace\"><span style=\"color: #7f7f7f; text-decoration-color: #7f7f7f\">13:13:20.720</span> | <span style=\"color: #b7b7b7; text-decoration-color: #b7b7b7\">Output Stats</span><span style=\"color: #7f7f7f; text-decoration-color: #7f7f7f\"> </span><span style=\"color: #aaaaaa; text-decoration-color: #aaaaaa\">None</span>\n",
       "</pre>\n"
      ],
      "text/plain": [
       "\u001b[2m13:13:20.720\u001b[0m | \u001b[2;38;2;112;112;112mOutput Stats\u001b[0m\u001b[2m \u001b[0m\u001b[2;38;2;85;85;85mNone\u001b[0m\n"
      ]
     },
     "metadata": {},
     "output_type": "display_data"
    },
    {
     "data": {
      "text/html": [
       "<pre style=\"white-space:pre;overflow-x:auto;line-height:normal;font-family:Menlo,'DejaVu Sans Mono',consolas,'Courier New',monospace\"><span style=\"color: #7f7f7f; text-decoration-color: #7f7f7f\">13:13:20.720</span> | <span style=\"color: #aaaaaa; text-decoration-color: #aaaaaa\">LLM call took 116.81 seconds</span>\n",
       "</pre>\n"
      ],
      "text/plain": [
       "\u001b[2m13:13:20.720\u001b[0m | \u001b[2;38;2;85;85;85mLLM call took 116.81 seconds\u001b[0m\n"
      ]
     },
     "metadata": {},
     "output_type": "display_data"
    },
    {
     "data": {
      "text/html": [
       "<pre style=\"white-space:pre;overflow-x:auto;line-height:normal;font-family:Menlo,'DejaVu Sans Mono',consolas,'Courier New',monospace\"><span style=\"color: #7f7f7f; text-decoration-color: #7f7f7f\">13:13:20.722</span> | <span style=\"color: #7f7fbf; text-decoration-color: #7f7fbf\">Event</span><span style=\"color: #7f7f7f; text-decoration-color: #7f7f7f\"> </span><span style=\"color: #7f7f7f; text-decoration-color: #7f7f7f; font-weight: bold\">BotMessage</span> | <span style=\"color: #7f7f7f; text-decoration-color: #7f7f7f\">{'uid': 'aa82...', 'text': 'It looks like you\\'ve provided a JSON template for </span>\n",
       "<span style=\"color: #7f7f7f; text-decoration-color: #7f7f7f\">the second prompt, but left many fields empty. I\\'ll fill in the gaps with my creative responses to generate a </span>\n",
       "<span style=\"color: #7f7f7f; text-decoration-color: #7f7f7f\">fantasy story about a magical forest. Here\\'s the completed JSON with the story:\\n\\n**Response**\\n\\n```json\\n{\\n  </span>\n",
       "<span style=\"color: #7f7f7f; text-decoration-color: #7f7f7f\">\"prompt\": \"A fantasy story about a magical forest\",\\n  \"title\": \"Whispers of the Emerald Woods\",\\n  \"video\": </span>\n",
       "<span style=\"color: #7f7f7f; text-decoration-color: #7f7f7f\">false,\\n  \"visual_style\": \"Vibrant, ethereal landscapes with soft, luminescent lighting\",\\n  \"time_period\": </span>\n",
       "<span style=\"color: #7f7f7f; text-decoration-color: #7f7f7f\">\"Ancient, mystical era\",\\n  \"location\": \"The heart of the enchanted Emerald Woods\",\\n  \"genre\": \"Fantasy, </span>\n",
       "<span style=\"color: #7f7f7f; text-decoration-color: #7f7f7f\">Adventure\",\\n  \"medium\": \"Novel\",\\n  \"plot_overview\": \"In the mystical realm of Aethoria, where magic is woven into</span>\n",
       "<span style=\"color: #7f7f7f; text-decoration-color: #7f7f7f\">the fabric of nature, the ancient Emerald Woods stand as a testament to wonder. Lyra, a young apprentice druid, </span>\n",
       "<span style=\"color: #7f7f7f; text-decoration-color: #7f7f7f\">discovers a cryptic prophecy that foretells the woods\\' demise at the hands of a dark sorcerer. With the help of </span>\n",
       "<span style=\"color: #7f7f7f; text-decoration-color: #7f7f7f\">her companions—a wise old wizard named Zephyr and a cunning shapeshifter named Kael—Lyra embarks on a perilous </span>\n",
       "<span style=\"color: #7f7f7f; text-decoration-color: #7f7f7f\">quest to save the Emerald Woods, confronting shadowy creatures, unraveling ancient mysteries, and awakening a </span>\n",
       "<span style=\"color: #7f7f7f; text-decoration-color: #7f7f7f\">dormant magic within herself.\",\\n  \"narrative_perspective\": \"Third-person limited, primarily through Lyra\\'s </span>\n",
       "<span style=\"color: #7f7f7f; text-decoration-color: #7f7f7f\">perspective\",\\n  \"conflict_type\": \"Internal (self-discovery) &amp; External (saving the Emerald Woods)\",\\n  \"themes\": </span>\n",
       "<span style=\"color: #7f7f7f; text-decoration-color: #7f7f7f\">[\"Balance with Nature\", \"Self-Discovery\", \"Unity in Diversity\"],\\n  \"motifs\": [\"Ancient Wisdom\", \"Nature\\'s Fury\", </span>\n",
       "<span style=\"color: #7f7f7f; text-decoration-color: #7f7f7f\">\"Transformation\"],\\n  \"characters\": [\\n    {\\n      \"nickname\": \"The Greenheart\",\\n      \"name\": \"Lyra Flynn\",\\n   </span>\n",
       "<span style=\"color: #7f7f7f; text-decoration-color: #7f7f7f\">\"description\": \"Apprentice druid with a deep connection to nature\",\\n      \"personality\": \"Compassionate, </span>\n",
       "<span style=\"color: #7f7f7f; text-decoration-color: #7f7f7f\">determined, and curious\",\\n      \"physical_appearance\": \"Petite, wild curly brown hair, emerald green eyes\",\\n     </span>\n",
       "<span style=\"color: #7f7f7f; text-decoration-color: #7f7f7f\">\"role\": \"Protagonist\",\\n      \"gender\": \"Female\",\\n      \"race\": \"Half-elf\",\\n      \"age\": \"22\",\\n      </span>\n",
       "<span style=\"color: #7f7f7f; text-decoration-color: #7f7f7f\">\"catch_phrase\": \"In harmony with nature, we find our strength.\",\\n      \"animation_description\": \"Moves with the </span>\n",
       "<span style=\"color: #7f7f7f; text-decoration-color: #7f7f7f\">grace of a deer, surrounded by subtle leafy aura\",\\n      \"voice_description\": \"Soothing, melodic voice like a </span>\n",
       "<span style=\"color: #7f7f7f; text-decoration-color: #7f7f7f\">gentle stream\",\\n      \"voice_sample\": null,\\n      \"props\": [\"Staff made from a living tree branch\", \"Herbalism </span>\n",
       "<span style=\"color: #7f7f7f; text-decoration-color: #7f7f7f\">pouch\"],\\n      \"relationships\": [\\n        {\\n          \"character_name\": \"Zephyr Windsong\",\\n          </span>\n",
       "<span style=\"color: #7f7f7f; text-decoration-color: #7f7f7f\">\"relationship_type\": \"Mentor\",\\n          \"description\": \"Guides Lyra in mastering her druidic powers\"\\n        </span>\n",
       "<span style=\"color: #7f7f7f; text-decoration-color: #7f7f7f\">},\\n        {\\n          \"character_name\": \"Kael Nightwalker\",\\n          \"relationship_type\": \"Ally/Friend\",\\n    </span>\n",
       "<span style=\"color: #7f7f7f; text-decoration-color: #7f7f7f\">\"description\": \"Provides companionship and strategic support in their quest\"\\n        }\\n      ],\\n      </span>\n",
       "<span style=\"color: #7f7f7f; text-decoration-color: #7f7f7f\">\"internal_conflict\": \"Balancing personal ambition with the greater good\",\\n      \"character_arc\": {\\n        </span>\n",
       "<span style=\"color: #7f7f7f; text-decoration-color: #7f7f7f\">\"initial_state\": \"Uncertain of her abilities\",\\n        \"final_state\": \"Confident leader embracing her true </span>\n",
       "<span style=\"color: #7f7f7f; text-decoration-color: #7f7f7f\">potential\",\\n        \"key_moments\": [\"Discovering the prophecy\", \"First successful druidic summoning\", \"Confronting</span>\n",
       "<span style=\"color: #7f7f7f; text-decoration-color: #7f7f7f\">the dark sorcerer\"]\\n      },\\n      \"image_prompt\": \"Lyra standing amidst a glowing Emerald Woods clearing, </span>\n",
       "<span style=\"color: #7f7f7f; text-decoration-color: #7f7f7f\">surrounded by fireflies and ancient trees\",\\n      \"image_prompt_short\": \"Mystical forest maiden\"\\n    },\\n    {\\n </span>\n",
       "<span style=\"color: #7f7f7f; text-decoration-color: #7f7f7f\">\"nickname\": \"The Wizard of the Winds\",\\n      \"name\": \"Zephyr Windsong\",\\n      \"description\": \"Wise and powerful </span>\n",
       "<span style=\"color: #7f7f7f; text-decoration-color: #7f7f7f\">wizard specializing in aeromancy\",\\n      \"personality\": \"Sage, witty, with a hint of mischief\",\\n      </span>\n",
       "<span style=\"color: #7f7f7f; text-decoration-color: #7f7f7f\">\"physical_appearance\": \"Tall, long silver hair flowing like the wind, piercing blue eyes\",\\n      \"role\": </span>\n",
       "<span style=\"color: #7f7f7f; text-decoration-color: #7f7f7f\">\"Supporting Character/Mentor\",\\n      \"gender\": \"Male\",\\n      \"race\": \"Human\",\\n      \"age\": \"Ageless, appears </span>\n",
       "<span style=\"color: #7f7f7f; text-decoration-color: #7f7f7f\">mid-50s\",\\n      \"catch_phrase\": \"The winds of change are always at our backs.\",\\n      \"animation_description\": </span>\n",
       "<span style=\"color: #7f7f7f; text-decoration-color: #7f7f7f\">\"Often surrounded by gentle whirlwinds and floating parchment scrolls\",\\n      \"voice_description\": \"Deep, </span>\n",
       "<span style=\"color: #7f7f7f; text-decoration-color: #7f7f7f\">commanding voice with a soothing undertone\",\\n      \"voice_sample\": null,\\n      \"props\": [\"Staff that controls the</span>\n",
       "<span style=\"color: #7f7f7f; text-decoration-color: #7f7f7f\">winds\", \"Tome of Ancient Spells\"],\\n      \"relationships\": [\\n        {\\n          \"character_name\": \"Lyra </span>\n",
       "<span style=\"color: #7f7f7f; text-decoration-color: #7f7f7f\">Flynn\",\\n          \"relationship_type\": \"Mentee\",\\n          \"description\": \"Guides Lyra in her druidic journey\"\\n </span>\n",
       "<span style=\"color: #7f7f7f; text-decoration-color: #7f7f7f\">}\\n      ],\\n      \"internal_conflict\": \"Weighing the responsibility of power with the need for solitude\",\\n      </span>\n",
       "<span style=\"color: #7f7f7f; text-decoration-color: #7f7f7f\">\"character_arc\": {\\n        \"initial_state\": \"Observant guardian\",\\n        \"final_state\": \"Active participant in </span>\n",
       "<span style=\"color: #7f7f7f; text-decoration-color: #7f7f7f\">shaping Aethoria\\'s future\",\\n        \"key_moments\": [\"Deciding to aid Lyra\", \"Confronting his past to protect the </span>\n",
       "<span style=\"color: #7f7f7f; text-decoration-color: #7f7f7f\">Emerald Woods\"]\\n      }\\n    },\\n    {\\n      \"nickname\": \"Moonlit Shadow\",\\n      \"name\": \"Kael Nightwalker\",\\n  </span>\n",
       "<span style=\"color: #7f7f7f; text-decoration-color: #7f7f7f\">\"description\": \"Enigmatic shapeshifter with unparalleled stealth skills\",\\n      \"personality\": \"Brooding, fiercely</span>\n",
       "<span style=\"color: #7f7f7f; text-decoration-color: #7f7f7f\">loyal, with a dry sense of humor\",\\n      \"physical_appearance\": \"Lean, jet-black hair, piercing yellow eyes that </span>\n",
       "<span style=\"color: #7f7f7f; text-decoration-color: #7f7f7f\">glow in the dark\",\\n      \"role\": \"Supporting Character/Ally\",\\n      \"gender\": \"Non-binary\",\\n      \"race\": </span>\n",
       "<span style=\"color: #7f7f7f; text-decoration-color: #7f7f7f\">\"Shapeshifter (Lunar bloodline)\",\\n      \"age\": \"Unknown, appears late 20s\",\\n      \"catch_phrase\": \"Shadows are my</span>\n",
       "<span style=\"color: #7f7f7f; text-decoration-color: #7f7f7f\">solace, and my strength.\",\\n      \"animation_description\": \"Can blend into shadows, transform into various </span>\n",
       "<span style=\"color: #7f7f7f; text-decoration-color: #7f7f7f\">nocturnal animals\",\\n      \"voice_description\": \"Low, mysterious voice that sends shivers\",\\n      \"voice_sample\": </span>\n",
       "<span style=\"color: #7f7f7f; text-decoration-color: #7f7f7f\">null,\\n      \"props\": [\"Moonstone pendant\", \"Shadow weave cloak\"],\\n      \"relationships\": [\\n        {\\n          </span>\n",
       "<span style=\"color: #7f7f7f; text-decoration-color: #7f7f7f\">\"character_name\": \"Lyra Flynn\",\\n          \"relationship_type\": \"Friend/Ally\",\\n          \"description\": \"Provides </span>\n",
       "<span style=\"color: #7f7f7f; text-decoration-color: #7f7f7f\">strategic support and companionship in their quest\"\\n        }\\n      ],\\n      \"internal_conflict\": \"Navigating </span>\n",
       "<span style=\"color: #7f7f7f; text-decoration-color: #7f7f7f\">trust issues stemming from a troubled past\",\\n      \"character_arc\": {\\n        \"initial_state\": \"Guarded and </span>\n",
       "<span style=\"color: #7f7f7f; text-decoration-color: #7f7f7f\">aloof\",\\n        \"final_state\": \"Openly supportive, having found a new family among allies\",\\n        </span>\n",
       "<span style=\"color: #7f7f7f; text-decoration-color: #7f7f7f\">\"key_moments\": [\"First transformation in front of Lyra\", \"Saving Zephyr from the dark sorcerer\\'s minions\"]\\n      </span>\n",
       "<span style=\"color: #7f7f7f; text-decoration-color: #7f7f7f\">}\\n    }\\n  ],\\n  \"props\": [\\n    {\\n      \"name\": \"The Emerald Scepter\",\\n      \"description\": \"A powerful </span>\n",
       "<span style=\"color: #7f7f7f; text-decoration-color: #7f7f7f\">artifact that amplifies druidic powers, central to the prophecy\"\\n    }\\n  ]\\n],\\n\"story_locations\": [\\n  {\\n    </span>\n",
       "<span style=\"color: #7f7f7f; text-decoration-color: #7f7f7f\">\"name\": \"Emerald Woods\",\\n    \"description\": \"Ancient, mystical forest teeming with life and magic\"\\n  },\\n  {\\n   </span>\n",
       "<span style=\"color: #7f7f7f; text-decoration-color: #7f7f7f\">\"name\": \"Windsong Tower\",\\n    \"description\": \"Zephyr\\'s abode, a tower that floats among the clouds, filled with </span>\n",
       "<span style=\"color: #7f7f7f; text-decoration-color: #7f7f7f\">ancient tomes and mysterious artifacts\"\\n  }\\n]\\n}\\n\\n**Story Outline:**\\n\\n1. **Introduction**: \\n   - Introduce </span>\n",
       "<span style=\"color: #7f7f7f; text-decoration-color: #7f7f7f\">Lyra Flynn, an apprentice druid, in the mystical Emerald Woods.\\n   - Show her connection with nature and her </span>\n",
       "<span style=\"color: #7f7f7f; text-decoration-color: #7f7f7f\">desire to master her powers.\\n\\n2. **Inciting Incident**: \\n   - Lyra discovers an ancient prophecy that foretells </span>\n",
       "<span style=\"color: #7f7f7f; text-decoration-color: #7f7f7f\">the destruction of the Emerald Woods by a dark sorcerer.\\n   - She decides to embark on a quest to save her home, </span>\n",
       "<span style=\"color: #7f7f7f; text-decoration-color: #7f7f7f\">guided by Zephyr Windsong.\\n\\n3. **Rising Action**:\\n   - Lyra, with Zephyr’s mentorship and Kael’s companionship, </span>\n",
       "<span style=\"color: #7f7f7f; text-decoration-color: #7f7f7f\">journeys through Aethoria, gathering allies and knowledge.\\n   - They face various challenges and enemies, testing </span>\n",
       "<span style=\"color: #7f7f7f; text-decoration-color: #7f7f7f\">their skills and resolve.\\n   - Key moments include discovering the Emerald Scepter, a powerful artifact crucial to</span>\n",
       "<span style=\"color: #7f7f7f; text-decoration-color: #7f7f7f\">the prophecy, and confronting personal demons.\\n\\n4. **Climax**:\\n   - The trio confronts the dark sorcerer in an </span>\n",
       "<span style=\"color: #7f7f7f; text-decoration-color: #7f7f7f\">epic battle within the heart of the Emerald Woods.\\n   - Lyra must harness her druidic powers, aided by the Emerald</span>\n",
       "<span style=\"color: #7f7f7f; text-decoration-color: #7f7f7f\">Scepter, to restore balance to nature and defeat the sorcerer.\\n\\n5. **Falling Action &amp; Resolution**:\\n   - With </span>\n",
       "<span style=\"color: #7f7f7f; text-decoration-color: #7f7f7f\">the dark sorcerer defeated, the Emerald Woods begin to heal.\\n   - Lyra, now confident in her abilities, decides to</span>\n",
       "<span style=\"color: #7f7f7f; text-decoration-color: #7f7f7f\">continue protecting Aethoria’s natural wonders with Zephyr and Kael by her side.\\n   - The story concludes with a </span>\n",
       "<span style=\"color: #7f7f7f; text-decoration-color: #7f7f7f\">newfound sense of unity among the trio and a brighter future for Aethoria.\\n\\n**Themes Exploration:**\\n\\n- </span>\n",
       "<span style=\"color: #7f7f7f; text-decoration-color: #7f7f7f\">**Balance with Nature**: Highlighted through Lyra\\'s journey and her ultimate use of the Emerald Scepter to restore</span>\n",
       "<span style=\"color: #7f7f7f; text-decoration-color: #7f7f7f\">harmony to the Emerald Woods.\\n- **Self-Discovery**: Each character undergoes significant personal growth, </span>\n",
       "<span style=\"color: #7f7f7f; text-decoration-color: #7f7f7f\">especially Lyra as she embraces her true potential as a druid.\\n- **Unity in Diversity**: The alliance between Lyra</span>\n",
       "<span style=\"color: #7f7f7f; text-decoration-color: #7f7f7f\">(druid), Zephyr (wizard), and Kael (shapeshifter) showcases how diverse skills and backgrounds can lead to a </span>\n",
       "<span style=\"color: #7f7f7f; text-decoration-color: #7f7f7f\">common, victorious goal.'}</span>\n",
       "</pre>\n"
      ],
      "text/plain": [
       "\u001b[2m13:13:20.722\u001b[0m | \u001b[2;34mEvent\u001b[0m\u001b[2m \u001b[0m\u001b[1;2mBotMessage\u001b[0m | \u001b[2m{'uid': 'aa82...', 'text': 'It looks like you\\'ve provided a JSON template for \u001b[0m\n",
       "\u001b[2mthe second prompt, but left many fields empty. I\\'ll fill in the gaps with my creative responses to generate a \u001b[0m\n",
       "\u001b[2mfantasy story about a magical forest. Here\\'s the completed JSON with the story:\\n\\n**Response**\\n\\n```json\\n{\\n  \u001b[0m\n",
       "\u001b[2m\"prompt\": \"A fantasy story about a magical forest\",\\n  \"title\": \"Whispers of the Emerald Woods\",\\n  \"video\": \u001b[0m\n",
       "\u001b[2mfalse,\\n  \"visual_style\": \"Vibrant, ethereal landscapes with soft, luminescent lighting\",\\n  \"time_period\": \u001b[0m\n",
       "\u001b[2m\"Ancient, mystical era\",\\n  \"location\": \"The heart of the enchanted Emerald Woods\",\\n  \"genre\": \"Fantasy, \u001b[0m\n",
       "\u001b[2mAdventure\",\\n  \"medium\": \"Novel\",\\n  \"plot_overview\": \"In the mystical realm of Aethoria, where magic is woven into\u001b[0m\n",
       "\u001b[2mthe fabric of nature, the ancient Emerald Woods stand as a testament to wonder. Lyra, a young apprentice druid, \u001b[0m\n",
       "\u001b[2mdiscovers a cryptic prophecy that foretells the woods\\' demise at the hands of a dark sorcerer. With the help of \u001b[0m\n",
       "\u001b[2mher companions—a wise old wizard named Zephyr and a cunning shapeshifter named Kael—Lyra embarks on a perilous \u001b[0m\n",
       "\u001b[2mquest to save the Emerald Woods, confronting shadowy creatures, unraveling ancient mysteries, and awakening a \u001b[0m\n",
       "\u001b[2mdormant magic within herself.\",\\n  \"narrative_perspective\": \"Third-person limited, primarily through Lyra\\'s \u001b[0m\n",
       "\u001b[2mperspective\",\\n  \"conflict_type\": \"Internal (self-discovery) & External (saving the Emerald Woods)\",\\n  \"themes\": \u001b[0m\n",
       "\u001b[2m[\"Balance with Nature\", \"Self-Discovery\", \"Unity in Diversity\"],\\n  \"motifs\": [\"Ancient Wisdom\", \"Nature\\'s Fury\", \u001b[0m\n",
       "\u001b[2m\"Transformation\"],\\n  \"characters\": [\\n    {\\n      \"nickname\": \"The Greenheart\",\\n      \"name\": \"Lyra Flynn\",\\n   \u001b[0m\n",
       "\u001b[2m\"description\": \"Apprentice druid with a deep connection to nature\",\\n      \"personality\": \"Compassionate, \u001b[0m\n",
       "\u001b[2mdetermined, and curious\",\\n      \"physical_appearance\": \"Petite, wild curly brown hair, emerald green eyes\",\\n     \u001b[0m\n",
       "\u001b[2m\"role\": \"Protagonist\",\\n      \"gender\": \"Female\",\\n      \"race\": \"Half-elf\",\\n      \"age\": \"22\",\\n      \u001b[0m\n",
       "\u001b[2m\"catch_phrase\": \"In harmony with nature, we find our strength.\",\\n      \"animation_description\": \"Moves with the \u001b[0m\n",
       "\u001b[2mgrace of a deer, surrounded by subtle leafy aura\",\\n      \"voice_description\": \"Soothing, melodic voice like a \u001b[0m\n",
       "\u001b[2mgentle stream\",\\n      \"voice_sample\": null,\\n      \"props\": [\"Staff made from a living tree branch\", \"Herbalism \u001b[0m\n",
       "\u001b[2mpouch\"],\\n      \"relationships\": [\\n        {\\n          \"character_name\": \"Zephyr Windsong\",\\n          \u001b[0m\n",
       "\u001b[2m\"relationship_type\": \"Mentor\",\\n          \"description\": \"Guides Lyra in mastering her druidic powers\"\\n        \u001b[0m\n",
       "\u001b[2m},\\n        {\\n          \"character_name\": \"Kael Nightwalker\",\\n          \"relationship_type\": \"Ally/Friend\",\\n    \u001b[0m\n",
       "\u001b[2m\"description\": \"Provides companionship and strategic support in their quest\"\\n        }\\n      ],\\n      \u001b[0m\n",
       "\u001b[2m\"internal_conflict\": \"Balancing personal ambition with the greater good\",\\n      \"character_arc\": {\\n        \u001b[0m\n",
       "\u001b[2m\"initial_state\": \"Uncertain of her abilities\",\\n        \"final_state\": \"Confident leader embracing her true \u001b[0m\n",
       "\u001b[2mpotential\",\\n        \"key_moments\": [\"Discovering the prophecy\", \"First successful druidic summoning\", \"Confronting\u001b[0m\n",
       "\u001b[2mthe dark sorcerer\"]\\n      },\\n      \"image_prompt\": \"Lyra standing amidst a glowing Emerald Woods clearing, \u001b[0m\n",
       "\u001b[2msurrounded by fireflies and ancient trees\",\\n      \"image_prompt_short\": \"Mystical forest maiden\"\\n    },\\n    {\\n \u001b[0m\n",
       "\u001b[2m\"nickname\": \"The Wizard of the Winds\",\\n      \"name\": \"Zephyr Windsong\",\\n      \"description\": \"Wise and powerful \u001b[0m\n",
       "\u001b[2mwizard specializing in aeromancy\",\\n      \"personality\": \"Sage, witty, with a hint of mischief\",\\n      \u001b[0m\n",
       "\u001b[2m\"physical_appearance\": \"Tall, long silver hair flowing like the wind, piercing blue eyes\",\\n      \"role\": \u001b[0m\n",
       "\u001b[2m\"Supporting Character/Mentor\",\\n      \"gender\": \"Male\",\\n      \"race\": \"Human\",\\n      \"age\": \"Ageless, appears \u001b[0m\n",
       "\u001b[2mmid-50s\",\\n      \"catch_phrase\": \"The winds of change are always at our backs.\",\\n      \"animation_description\": \u001b[0m\n",
       "\u001b[2m\"Often surrounded by gentle whirlwinds and floating parchment scrolls\",\\n      \"voice_description\": \"Deep, \u001b[0m\n",
       "\u001b[2mcommanding voice with a soothing undertone\",\\n      \"voice_sample\": null,\\n      \"props\": [\"Staff that controls the\u001b[0m\n",
       "\u001b[2mwinds\", \"Tome of Ancient Spells\"],\\n      \"relationships\": [\\n        {\\n          \"character_name\": \"Lyra \u001b[0m\n",
       "\u001b[2mFlynn\",\\n          \"relationship_type\": \"Mentee\",\\n          \"description\": \"Guides Lyra in her druidic journey\"\\n \u001b[0m\n",
       "\u001b[2m}\\n      ],\\n      \"internal_conflict\": \"Weighing the responsibility of power with the need for solitude\",\\n      \u001b[0m\n",
       "\u001b[2m\"character_arc\": {\\n        \"initial_state\": \"Observant guardian\",\\n        \"final_state\": \"Active participant in \u001b[0m\n",
       "\u001b[2mshaping Aethoria\\'s future\",\\n        \"key_moments\": [\"Deciding to aid Lyra\", \"Confronting his past to protect the \u001b[0m\n",
       "\u001b[2mEmerald Woods\"]\\n      }\\n    },\\n    {\\n      \"nickname\": \"Moonlit Shadow\",\\n      \"name\": \"Kael Nightwalker\",\\n  \u001b[0m\n",
       "\u001b[2m\"description\": \"Enigmatic shapeshifter with unparalleled stealth skills\",\\n      \"personality\": \"Brooding, fiercely\u001b[0m\n",
       "\u001b[2mloyal, with a dry sense of humor\",\\n      \"physical_appearance\": \"Lean, jet-black hair, piercing yellow eyes that \u001b[0m\n",
       "\u001b[2mglow in the dark\",\\n      \"role\": \"Supporting Character/Ally\",\\n      \"gender\": \"Non-binary\",\\n      \"race\": \u001b[0m\n",
       "\u001b[2m\"Shapeshifter (Lunar bloodline)\",\\n      \"age\": \"Unknown, appears late 20s\",\\n      \"catch_phrase\": \"Shadows are my\u001b[0m\n",
       "\u001b[2msolace, and my strength.\",\\n      \"animation_description\": \"Can blend into shadows, transform into various \u001b[0m\n",
       "\u001b[2mnocturnal animals\",\\n      \"voice_description\": \"Low, mysterious voice that sends shivers\",\\n      \"voice_sample\": \u001b[0m\n",
       "\u001b[2mnull,\\n      \"props\": [\"Moonstone pendant\", \"Shadow weave cloak\"],\\n      \"relationships\": [\\n        {\\n          \u001b[0m\n",
       "\u001b[2m\"character_name\": \"Lyra Flynn\",\\n          \"relationship_type\": \"Friend/Ally\",\\n          \"description\": \"Provides \u001b[0m\n",
       "\u001b[2mstrategic support and companionship in their quest\"\\n        }\\n      ],\\n      \"internal_conflict\": \"Navigating \u001b[0m\n",
       "\u001b[2mtrust issues stemming from a troubled past\",\\n      \"character_arc\": {\\n        \"initial_state\": \"Guarded and \u001b[0m\n",
       "\u001b[2maloof\",\\n        \"final_state\": \"Openly supportive, having found a new family among allies\",\\n        \u001b[0m\n",
       "\u001b[2m\"key_moments\": [\"First transformation in front of Lyra\", \"Saving Zephyr from the dark sorcerer\\'s minions\"]\\n      \u001b[0m\n",
       "\u001b[2m}\\n    }\\n  ],\\n  \"props\": [\\n    {\\n      \"name\": \"The Emerald Scepter\",\\n      \"description\": \"A powerful \u001b[0m\n",
       "\u001b[2martifact that amplifies druidic powers, central to the prophecy\"\\n    }\\n  ]\\n],\\n\"story_locations\": [\\n  {\\n    \u001b[0m\n",
       "\u001b[2m\"name\": \"Emerald Woods\",\\n    \"description\": \"Ancient, mystical forest teeming with life and magic\"\\n  },\\n  {\\n   \u001b[0m\n",
       "\u001b[2m\"name\": \"Windsong Tower\",\\n    \"description\": \"Zephyr\\'s abode, a tower that floats among the clouds, filled with \u001b[0m\n",
       "\u001b[2mancient tomes and mysterious artifacts\"\\n  }\\n]\\n}\\n\\n**Story Outline:**\\n\\n1. **Introduction**: \\n   - Introduce \u001b[0m\n",
       "\u001b[2mLyra Flynn, an apprentice druid, in the mystical Emerald Woods.\\n   - Show her connection with nature and her \u001b[0m\n",
       "\u001b[2mdesire to master her powers.\\n\\n2. **Inciting Incident**: \\n   - Lyra discovers an ancient prophecy that foretells \u001b[0m\n",
       "\u001b[2mthe destruction of the Emerald Woods by a dark sorcerer.\\n   - She decides to embark on a quest to save her home, \u001b[0m\n",
       "\u001b[2mguided by Zephyr Windsong.\\n\\n3. **Rising Action**:\\n   - Lyra, with Zephyr’s mentorship and Kael’s companionship, \u001b[0m\n",
       "\u001b[2mjourneys through Aethoria, gathering allies and knowledge.\\n   - They face various challenges and enemies, testing \u001b[0m\n",
       "\u001b[2mtheir skills and resolve.\\n   - Key moments include discovering the Emerald Scepter, a powerful artifact crucial to\u001b[0m\n",
       "\u001b[2mthe prophecy, and confronting personal demons.\\n\\n4. **Climax**:\\n   - The trio confronts the dark sorcerer in an \u001b[0m\n",
       "\u001b[2mepic battle within the heart of the Emerald Woods.\\n   - Lyra must harness her druidic powers, aided by the Emerald\u001b[0m\n",
       "\u001b[2mScepter, to restore balance to nature and defeat the sorcerer.\\n\\n5. **Falling Action & Resolution**:\\n   - With \u001b[0m\n",
       "\u001b[2mthe dark sorcerer defeated, the Emerald Woods begin to heal.\\n   - Lyra, now confident in her abilities, decides to\u001b[0m\n",
       "\u001b[2mcontinue protecting Aethoria’s natural wonders with Zephyr and Kael by her side.\\n   - The story concludes with a \u001b[0m\n",
       "\u001b[2mnewfound sense of unity among the trio and a brighter future for Aethoria.\\n\\n**Themes Exploration:**\\n\\n- \u001b[0m\n",
       "\u001b[2m**Balance with Nature**: Highlighted through Lyra\\'s journey and her ultimate use of the Emerald Scepter to restore\u001b[0m\n",
       "\u001b[2mharmony to the Emerald Woods.\\n- **Self-Discovery**: Each character undergoes significant personal growth, \u001b[0m\n",
       "\u001b[2mespecially Lyra as she embraces her true potential as a druid.\\n- **Unity in Diversity**: The alliance between Lyra\u001b[0m\n",
       "\u001b[2m(druid), Zephyr (wizard), and Kael (shapeshifter) showcases how diverse skills and backgrounds can lead to a \u001b[0m\n",
       "\u001b[2mcommon, victorious goal.'}\u001b[0m\n"
      ]
     },
     "metadata": {},
     "output_type": "display_data"
    },
    {
     "data": {
      "text/html": [
       "<pre style=\"white-space:pre;overflow-x:auto;line-height:normal;font-family:Menlo,'DejaVu Sans Mono',consolas,'Courier New',monospace\"><span style=\"color: #7f7f7f; text-decoration-color: #7f7f7f\">13:13:20.725</span> | <span style=\"color: #7f7fbf; text-decoration-color: #7f7fbf\">Event</span><span style=\"color: #7f7f7f; text-decoration-color: #7f7f7f\"> </span><span style=\"color: #7f7f7f; text-decoration-color: #7f7f7f; font-weight: bold\">StartInternalSystemAction</span> | <span style=\"color: #7f7f7f; text-decoration-color: #7f7f7f\">{'uid': 'a23b...', 'action_name': 'create_event', 'action_params':</span>\n",
       "<span style=\"color: #7f7f7f; text-decoration-color: #7f7f7f\">{'event': {'_type': 'StartOutputRails'}}, 'action_result_key': None, 'action_uid': 'd668...', 'is_system_action': </span>\n",
       "<span style=\"color: #7f7f7f; text-decoration-color: #7f7f7f\">True}</span>\n",
       "</pre>\n"
      ],
      "text/plain": [
       "\u001b[2m13:13:20.725\u001b[0m | \u001b[2;34mEvent\u001b[0m\u001b[2m \u001b[0m\u001b[1;2mStartInternalSystemAction\u001b[0m | \u001b[2m{'uid': 'a23b...', 'action_name': 'create_event', 'action_params':\u001b[0m\n",
       "\u001b[2m{'event': {'_type': 'StartOutputRails'}}, 'action_result_key': None, 'action_uid': 'd668...', 'is_system_action': \u001b[0m\n",
       "\u001b[2mTrue}\u001b[0m\n"
      ]
     },
     "metadata": {},
     "output_type": "display_data"
    },
    {
     "data": {
      "text/html": [
       "<pre style=\"white-space:pre;overflow-x:auto;line-height:normal;font-family:Menlo,'DejaVu Sans Mono',consolas,'Courier New',monospace\"><span style=\"color: #7f7f7f; text-decoration-color: #7f7f7f\">13:13:20.726</span> | <span style=\"color: #b7b7b7; text-decoration-color: #b7b7b7\">Executing action</span><span style=\"color: #7f7f7f; text-decoration-color: #7f7f7f\"> </span><span style=\"color: #aaaaaa; text-decoration-color: #aaaaaa\">create_event</span>\n",
       "</pre>\n"
      ],
      "text/plain": [
       "\u001b[2m13:13:20.726\u001b[0m | \u001b[2;38;2;112;112;112mExecuting action\u001b[0m\u001b[2m \u001b[0m\u001b[2;38;2;85;85;85mcreate_event\u001b[0m\n"
      ]
     },
     "metadata": {},
     "output_type": "display_data"
    },
    {
     "data": {
      "text/html": [
       "<pre style=\"white-space:pre;overflow-x:auto;line-height:normal;font-family:Menlo,'DejaVu Sans Mono',consolas,'Courier New',monospace\"><span style=\"color: #7f7f7f; text-decoration-color: #7f7f7f\">13:13:20.726</span> | <span style=\"color: #7f7fbf; text-decoration-color: #7f7fbf\">Event</span><span style=\"color: #7f7f7f; text-decoration-color: #7f7f7f\"> </span><span style=\"color: #7f7f7f; text-decoration-color: #7f7f7f; font-weight: bold\">StartOutputRails</span> | <span style=\"color: #7f7f7f; text-decoration-color: #7f7f7f\">{'uid': '94c3...'}</span>\n",
       "</pre>\n"
      ],
      "text/plain": [
       "\u001b[2m13:13:20.726\u001b[0m | \u001b[2;34mEvent\u001b[0m\u001b[2m \u001b[0m\u001b[1;2mStartOutputRails\u001b[0m | \u001b[2m{'uid': '94c3...'}\u001b[0m\n"
      ]
     },
     "metadata": {},
     "output_type": "display_data"
    },
    {
     "data": {
      "text/html": [
       "<pre style=\"white-space:pre;overflow-x:auto;line-height:normal;font-family:Menlo,'DejaVu Sans Mono',consolas,'Courier New',monospace\"><span style=\"color: #7f7f7f; text-decoration-color: #7f7f7f\">13:13:20.727</span> | <span style=\"color: #7f7fbf; text-decoration-color: #7f7fbf\">Event</span><span style=\"color: #7f7f7f; text-decoration-color: #7f7f7f\"> </span><span style=\"color: #7f7f7f; text-decoration-color: #7f7f7f; font-weight: bold\">StartInternalSystemAction</span> | <span style=\"color: #7f7f7f; text-decoration-color: #7f7f7f\">{'uid': '6404...', 'action_name': 'create_event', 'action_params':</span>\n",
       "<span style=\"color: #7f7f7f; text-decoration-color: #7f7f7f\">{'event': {'_type': 'StartOutputRail', 'flow_id': '$triggered_output_rail'}}, 'action_result_key': None, </span>\n",
       "<span style=\"color: #7f7f7f; text-decoration-color: #7f7f7f\">'action_uid': 'e848...', 'is_system_action': True}</span>\n",
       "</pre>\n"
      ],
      "text/plain": [
       "\u001b[2m13:13:20.727\u001b[0m | \u001b[2;34mEvent\u001b[0m\u001b[2m \u001b[0m\u001b[1;2mStartInternalSystemAction\u001b[0m | \u001b[2m{'uid': '6404...', 'action_name': 'create_event', 'action_params':\u001b[0m\n",
       "\u001b[2m{'event': {'_type': 'StartOutputRail', 'flow_id': '$triggered_output_rail'}}, 'action_result_key': None, \u001b[0m\n",
       "\u001b[2m'action_uid': 'e848...', 'is_system_action': True}\u001b[0m\n"
      ]
     },
     "metadata": {},
     "output_type": "display_data"
    },
    {
     "data": {
      "text/html": [
       "<pre style=\"white-space:pre;overflow-x:auto;line-height:normal;font-family:Menlo,'DejaVu Sans Mono',consolas,'Courier New',monospace\"><span style=\"color: #7f7f7f; text-decoration-color: #7f7f7f\">13:13:20.728</span> | <span style=\"color: #b7b7b7; text-decoration-color: #b7b7b7\">Executing action</span><span style=\"color: #7f7f7f; text-decoration-color: #7f7f7f\"> </span><span style=\"color: #aaaaaa; text-decoration-color: #aaaaaa\">create_event</span>\n",
       "</pre>\n"
      ],
      "text/plain": [
       "\u001b[2m13:13:20.728\u001b[0m | \u001b[2;38;2;112;112;112mExecuting action\u001b[0m\u001b[2m \u001b[0m\u001b[2;38;2;85;85;85mcreate_event\u001b[0m\n"
      ]
     },
     "metadata": {},
     "output_type": "display_data"
    },
    {
     "data": {
      "text/html": [
       "<pre style=\"white-space:pre;overflow-x:auto;line-height:normal;font-family:Menlo,'DejaVu Sans Mono',consolas,'Courier New',monospace\"><span style=\"color: #7f7f7f; text-decoration-color: #7f7f7f\">13:13:20.729</span> | <span style=\"color: #7f7fbf; text-decoration-color: #7f7fbf\">Event</span><span style=\"color: #7f7f7f; text-decoration-color: #7f7f7f\"> </span><span style=\"color: #7f7f7f; text-decoration-color: #7f7f7f; font-weight: bold\">StartOutputRail</span> | <span style=\"color: #7f7f7f; text-decoration-color: #7f7f7f\">{'uid': 'ea35...', 'flow_id': 'retry json'}</span>\n",
       "</pre>\n"
      ],
      "text/plain": [
       "\u001b[2m13:13:20.729\u001b[0m | \u001b[2;34mEvent\u001b[0m\u001b[2m \u001b[0m\u001b[1;2mStartOutputRail\u001b[0m | \u001b[2m{'uid': 'ea35...', 'flow_id': 'retry json'}\u001b[0m\n"
      ]
     },
     "metadata": {},
     "output_type": "display_data"
    },
    {
     "data": {
      "text/html": [
       "<pre style=\"white-space:pre;overflow-x:auto;line-height:normal;font-family:Menlo,'DejaVu Sans Mono',consolas,'Courier New',monospace\"><span style=\"color: #7f7f7f; text-decoration-color: #7f7f7f\">13:13:20.731</span> | <span style=\"color: #7f7fbf; text-decoration-color: #7f7fbf\">Event</span><span style=\"color: #7f7f7f; text-decoration-color: #7f7f7f\"> </span><span style=\"color: #7f7f7f; text-decoration-color: #7f7f7f; font-weight: bold\">StartInternalSystemAction</span> | <span style=\"color: #7f7f7f; text-decoration-color: #7f7f7f\">{'uid': '6511...', 'action_name': 'retry_json', 'action_params': </span>\n",
       "<span style=\"color: #7f7f7f; text-decoration-color: #7f7f7f\">{}, 'action_result_key': 'failed_json', 'action_uid': '4357...', 'is_system_action': True}</span>\n",
       "</pre>\n"
      ],
      "text/plain": [
       "\u001b[2m13:13:20.731\u001b[0m | \u001b[2;34mEvent\u001b[0m\u001b[2m \u001b[0m\u001b[1;2mStartInternalSystemAction\u001b[0m | \u001b[2m{'uid': '6511...', 'action_name': 'retry_json', 'action_params': \u001b[0m\n",
       "\u001b[2m{}, 'action_result_key': 'failed_json', 'action_uid': '4357...', 'is_system_action': True}\u001b[0m\n"
      ]
     },
     "metadata": {},
     "output_type": "display_data"
    },
    {
     "data": {
      "text/html": [
       "<pre style=\"white-space:pre;overflow-x:auto;line-height:normal;font-family:Menlo,'DejaVu Sans Mono',consolas,'Courier New',monospace\"><span style=\"color: #7f7f7f; text-decoration-color: #7f7f7f\">13:13:20.732</span> | <span style=\"color: #b7b7b7; text-decoration-color: #b7b7b7\">Executing action</span><span style=\"color: #7f7f7f; text-decoration-color: #7f7f7f\"> </span><span style=\"color: #aaaaaa; text-decoration-color: #aaaaaa\">retry_json</span>\n",
       "</pre>\n"
      ],
      "text/plain": [
       "\u001b[2m13:13:20.732\u001b[0m | \u001b[2;38;2;112;112;112mExecuting action\u001b[0m\u001b[2m \u001b[0m\u001b[2;38;2;85;85;85mretry_json\u001b[0m\n"
      ]
     },
     "metadata": {},
     "output_type": "display_data"
    },
    {
     "name": "stdout",
     "output_type": "stream",
     "text": [
      "!!!!!!!!!! call_llm !!!!!!!!!!!\n",
      "config: \n",
      "RailsConfig(models=[Model(type='main', engine='ollama', model='nemotron:70b', parameters={'model': 'nemotron:70b'})], user_messages={}, bot_messages={'inform cannot parse json': ['Unable to parse the Story JSON.'], 'refuse to respond': [\"I'm sorry, I can't respond to that.\"], 'response untrustworthy': ['$bot_message \\\\nCAUTION: THIS ANSWER HAS BEEN FLAGGED AS POTENTIALLY UNTRUSTWORTHY'], 'inform cannot engage in abusive or harmful behavior': ['I will not engage in any abusive or harmful behavior.'], 'inform cannot engage with inappropriate content': ['I will not engage with inappropriate content.'], 'inform cannot engage with sensitive content': ['I will not engage with sensitive content.'], 'inform answer unknown': [\"I don't know the answer to that.\"], 'inform cannot engage in self harm behavior': ['I will not engage in any self harm behavior.'], 'inform answer prone to hallucination': ['The previous answer is prone to hallucination and may not be accurate. Please double check the answer using additional sources.', 'The above response may have been hallucinated, and should be independently verified.']}, flows=[{'id': 'retry json', 'elements': [{'_type': 'meta', 'meta': {'subflow': True}}, {'_type': 'run_action', 'action_name': 'retry_json', 'action_params': {}, 'action_result_key': 'failed_json', '_source_mapping': {'filename': 'main.co', 'line_number': 7, 'line_text': '$failed_json = execute retry_json', 'comment': None}}, {'_type': 'if', 'expression': '$failed_json', '_source_mapping': {'filename': 'main.co', 'line_number': 9, 'line_text': 'if $failed_json', 'comment': None}, '_next_else': 3}, {'_type': 'run_action', 'action_name': 'utter', 'action_params': {'value': 'inform cannot parse json'}, '_source_mapping': {'filename': 'main.co', 'line_number': 10, 'line_text': 'bot inform cannot parse json', 'comment': None}}, {'_type': 'run_action', 'action_name': 'utter', 'action_params': {'value': 'stop'}, '_source_mapping': {'filename': 'main.co', 'line_number': 11, 'line_text': 'stop', 'comment': None}}], 'source_code': '$failed_json = execute retry_json\\nif $failed_json\\n    bot inform cannot parse json\\n    stop', 'is_system_flow': True, 'is_subflow': True}, {'id': 'process user input', 'elements': [{'_type': 'meta', 'meta': {'allow_multiple': True}}, {'_type': 'UtteranceUserActionFinished', 'final_transcript': '...', '_source_mapping': {'filename': 'llm_flows.co', 'line_number': 3, 'line_text': 'event UtteranceUserActionFinished(final_transcript=\"...\")', 'comment': 'Run all the input rails on the user input.'}}, {'_type': 'set', 'key': 'user_message', 'expression': '$event[\"final_transcript\"]', '_source_mapping': {'filename': 'llm_flows.co', 'line_number': 4, 'line_text': '$user_message = $event[\"final_transcript\"]', 'comment': None}}, {'_type': 'if', 'expression': '$config.rails.input.flows', '_source_mapping': {'filename': 'llm_flows.co', 'line_number': 7, 'line_text': 'if $config.rails.input.flows', 'comment': 'If we have input rails, we run them, otherwise we just create the user message event'}, '_next_else': 7}, {'_type': 'if', 'expression': '$generation_options is None or $generation_options.rails.input', '_source_mapping': {'filename': 'llm_flows.co', 'line_number': 9, 'line_text': 'if $generation_options is None or $generation_options.rails.input:', 'comment': 'If we have generation options, we make sure the input rails are enabled.'}, '_next_else': 6}, {'_type': 'run_action', 'action_name': 'create_event', 'action_params': {'event': {'_type': 'StartInputRails'}}, '_source_mapping': {'filename': 'llm_flows.co', 'line_number': 11, 'line_text': 'create event StartInputRails', 'comment': 'Create a marker event.'}}, {'_type': 'StartInputRails', '_source_mapping': {'filename': 'llm_flows.co', 'line_number': 12, 'line_text': 'event StartInputRails', 'comment': None}}, {'_type': 'flow', 'flow_name': 'run input rails', 'flow_parameters': {}, 'return_vars': [], '_source_mapping': {'filename': 'llm_flows.co', 'line_number': 16, 'line_text': 'do run input rails', 'comment': 'Run all the input rails\\nThis can potentially alter the $user_message'}}, {'_type': 'run_action', 'action_name': 'create_event', 'action_params': {'event': {'_type': 'InputRailsFinished'}}, '_source_mapping': {'filename': 'llm_flows.co', 'line_number': 19, 'line_text': 'create event InputRailsFinished', 'comment': 'Create a marker event.'}}, {'_type': 'InputRailsFinished', '_source_mapping': {'filename': 'llm_flows.co', 'line_number': 20, 'line_text': 'event InputRailsFinished', 'comment': None}}, {'_type': 'run_action', 'action_name': 'create_event', 'action_params': {'event': {'_type': 'UserMessage', 'text': '$user_message'}}, '_source_mapping': {'filename': 'llm_flows.co', 'line_number': 22, 'line_text': 'create event UserMessage(text=$user_message)', 'comment': None}}], 'source_code': 'event UtteranceUserActionFinished(final_transcript=\"...\")\\n$user_message = $event[\"final_transcript\"]\\n# If we have input rails, we run them, otherwise we just create the user message event\\nif $config.rails.input.flows\\n  # If we have generation options, we make sure the input rails are enabled.\\n  if $generation_options is None or $generation_options.rails.input:\\n    # Create a marker event.\\n    create event StartInputRails\\n    event StartInputRails\\n    # Run all the input rails\\n    # This can potentially alter the $user_message\\n    do run input rails\\n    # Create a marker event.\\n    create event InputRailsFinished\\n    event InputRailsFinished\\ncreate event UserMessage(text=$user_message)', 'is_system_flow': True, 'allow_multiple': True}, {'id': 'run dialog rails', 'elements': [{'_type': 'UserMessage', 'text': '...', '_source_mapping': {'filename': 'llm_flows.co', 'line_number': 27, 'line_text': 'event UserMessage(text=\"...\")', 'comment': \"Generate the user's intent based on the text.\"}}, {'_type': 'if', 'expression': '$generation_options and $generation_options.rails.dialog == False', '_source_mapping': {'filename': 'llm_flows.co', 'line_number': 30, 'line_text': 'if $generation_options and $generation_options.rails.dialog == False', 'comment': 'If the dialog_rails are disabled'}, '_next_else': 6}, {'_type': 'if', 'expression': '$generation_options.rails.output == False', '_source_mapping': {'filename': 'llm_flows.co', 'line_number': 32, 'line_text': 'if $generation_options.rails.output == False', 'comment': 'If the output rails are also disabled, we just return user message.'}, '_next_else': 3}, {'_type': 'run_action', 'action_name': 'create_event', 'action_params': {'event': {'_type': 'StartUtteranceBotAction', 'script': '$user_message'}}, '_source_mapping': {'filename': 'llm_flows.co', 'line_number': 33, 'line_text': 'create event StartUtteranceBotAction(script=$user_message)', 'comment': None}}, {'_type': 'jump', '_next': 2}, {'_type': 'run_action', 'action_name': 'create_event', 'action_params': {'event': {'_type': 'BotMessage', 'text': '$bot_message'}}, '_source_mapping': {'filename': 'llm_flows.co', 'line_number': 36, 'line_text': 'create event BotMessage(text=$bot_message)', 'comment': 'we take the $bot_message from context.'}}, {'_type': 'jump', '_next': 2}, {'_type': 'flow', 'flow_name': 'generate user intent', 'flow_parameters': {}, 'return_vars': [], '_source_mapping': {'filename': 'llm_flows.co', 'line_number': 39, 'line_text': 'do generate user intent', 'comment': 'If not, we continue the usual process'}}], 'source_code': 'event UserMessage(text=\"...\")\\n# If the dialog_rails are disabled\\nif $generation_options and $generation_options.rails.dialog == False\\n  # If the output rails are also disabled, we just return user message.\\n  if $generation_options.rails.output == False\\n    create event StartUtteranceBotAction(script=$user_message)\\n  else\\n    # we take the $bot_message from context.\\n    create event BotMessage(text=$bot_message)\\nelse\\n  # If not, we continue the usual process\\n  do generate user intent', 'is_system_flow': True}, {'id': 'generate user intent', 'elements': [{'_type': 'meta', 'meta': {'subflow': True}}, {'_type': 'run_action', 'action_name': 'generate_user_intent', 'action_params': {}, 'action_result_key': None, '_source_mapping': {'filename': 'llm_flows.co', 'line_number': 44, 'line_text': 'execute generate_user_intent', 'comment': 'Generates the user intent.'}}], 'source_code': 'execute generate_user_intent', 'is_system_flow': True, 'is_subflow': True}, {'id': 'run input rails', 'elements': [{'_type': 'meta', 'meta': {'subflow': True}}, {'_type': 'set', 'key': 'i', 'expression': '0', '_source_mapping': {'filename': 'llm_flows.co', 'line_number': 49, 'line_text': '$i = 0', 'comment': 'Runs all the input rails in a sequential order. '}}, {'_type': 'set', 'key': 'input_flows', 'expression': '$config.rails.input.flows', '_source_mapping': {'filename': 'llm_flows.co', 'line_number': 50, 'line_text': '$input_flows = $config.rails.input.flows', 'comment': None}}, {'_type': 'while', 'expression': '$i < len($input_flows)', '_source_mapping': {'filename': 'llm_flows.co', 'line_number': 51, 'line_text': 'while $i < len($input_flows)', 'comment': None}, '_next_on_break': 10}, {'_type': 'set', 'key': 'triggered_input_rail', 'expression': '$input_flows[$i]', '_source_mapping': {'filename': 'llm_flows.co', 'line_number': 53, 'line_text': '$triggered_input_rail = $input_flows[$i]', 'comment': 'We set the current rail as being triggered.'}, '_next_on_break': 9, '_next_on_continue': -1}, {'_type': 'run_action', 'action_name': 'create_event', 'action_params': {'event': {'_type': 'StartInputRail', 'flow_id': '$triggered_input_rail'}}, '_source_mapping': {'filename': 'llm_flows.co', 'line_number': 55, 'line_text': 'create event StartInputRail(flow_id=$triggered_input_rail)', 'comment': None}, '_next_on_break': 8, '_next_on_continue': -2}, {'_type': 'StartInputRail', '_source_mapping': {'filename': 'llm_flows.co', 'line_number': 56, 'line_text': 'event StartInputRail', 'comment': None}, '_next_on_break': 7, '_next_on_continue': -3}, {'_type': 'flow', 'flow_name': '$input_flows[$i]', 'flow_parameters': {}, 'return_vars': [], '_source_mapping': {'filename': 'llm_flows.co', 'line_number': 58, 'line_text': 'do $input_flows[$i]', 'comment': None}, '_next_on_break': 6, '_next_on_continue': -4}, {'_type': 'set', 'key': 'i', 'expression': '$i + 1', '_source_mapping': {'filename': 'llm_flows.co', 'line_number': 59, 'line_text': '$i = $i + 1', 'comment': None}, '_next_on_break': 5, '_next_on_continue': -5}, {'_type': 'run_action', 'action_name': 'create_event', 'action_params': {'event': {'_type': 'InputRailFinished', 'flow_id': '$triggered_input_rail'}}, '_source_mapping': {'filename': 'llm_flows.co', 'line_number': 61, 'line_text': 'create event InputRailFinished(flow_id=$triggered_input_rail)', 'comment': None}, '_next_on_break': 4, '_next_on_continue': -6}, {'_type': 'InputRailFinished', '_source_mapping': {'filename': 'llm_flows.co', 'line_number': 62, 'line_text': 'event InputRailFinished', 'comment': None}, '_next_on_break': 3, '_next_on_continue': -7}, {'_type': 'set', 'key': 'triggered_input_rail', 'expression': 'None', '_source_mapping': {'filename': 'llm_flows.co', 'line_number': 65, 'line_text': '$triggered_input_rail = None', 'comment': 'If all went smooth, we remove it.'}, '_next_on_break': 2, '_next_on_continue': -8}, {'_type': 'jump', '_next': -9}], 'source_code': '$i = 0\\n$input_flows = $config.rails.input.flows\\nwhile $i < len($input_flows)\\n  # We set the current rail as being triggered.\\n  $triggered_input_rail = $input_flows[$i]\\n  create event StartInputRail(flow_id=$triggered_input_rail)\\n  event StartInputRail\\n  do $input_flows[$i]\\n  $i = $i + 1\\n  create event InputRailFinished(flow_id=$triggered_input_rail)\\n  event InputRailFinished\\n  # If all went smooth, we remove it.\\n  $triggered_input_rail = None', 'is_system_flow': True, 'is_subflow': True}, {'id': 'generate next step', 'elements': [{'_type': 'meta', 'meta': {'priority': 0.9}}, {'_type': 'UserIntent', 'intent_name': '...', 'intent_params': {}, '_source_mapping': {'filename': 'llm_flows.co', 'line_number': 77, 'line_text': 'user ...', 'comment': None}}, {'_type': 'run_action', 'action_name': 'generate_next_step', 'action_params': {}, 'action_result_key': None, '_source_mapping': {'filename': 'llm_flows.co', 'line_number': 78, 'line_text': 'execute generate_next_step', 'comment': None}}], 'source_code': 'user ...\\nexecute generate_next_step', 'is_system_flow': True, 'priority': 0.9}, {'id': 'generate bot message', 'elements': [{'_type': 'meta', 'meta': {'is_extension': True, 'allow_multiple': True, 'priority': 100}}, {'_type': 'run_action', 'action_name': 'utter', 'action_params': {'value': '...'}, '_source_mapping': {'filename': 'llm_flows.co', 'line_number': 88, 'line_text': 'bot ...', 'comment': None}}, {'_type': 'run_action', 'action_name': 'retrieve_relevant_chunks', 'action_params': {}, 'action_result_key': None, '_source_mapping': {'filename': 'llm_flows.co', 'line_number': 89, 'line_text': 'execute retrieve_relevant_chunks', 'comment': None}}, {'_type': 'if', 'expression': '$config.rails.retrieval.flows', '_source_mapping': {'filename': 'llm_flows.co', 'line_number': 92, 'line_text': 'if $config.rails.retrieval.flows', 'comment': 'If we have any retrieval rails, we run them.'}, '_next_else': 3}, {'_type': 'if', 'expression': '$generation_options is None or $generation_options.rails.retrieval', '_source_mapping': {'filename': 'llm_flows.co', 'line_number': 94, 'line_text': 'if $generation_options is None or $generation_options.rails.retrieval:', 'comment': 'If we have generation options, we make sure the retrieval rails are enabled.'}, '_next_else': 2}, {'_type': 'flow', 'flow_name': 'run retrieval rails', 'flow_parameters': {}, 'return_vars': [], '_source_mapping': {'filename': 'llm_flows.co', 'line_number': 95, 'line_text': 'do run retrieval rails', 'comment': None}}, {'_type': 'run_action', 'action_name': 'generate_bot_message', 'action_params': {}, 'action_result_key': None, '_source_mapping': {'filename': 'llm_flows.co', 'line_number': 98, 'line_text': 'execute generate_bot_message', 'comment': '$output_rails_enabled = True'}}], 'source_code': 'bot ...\\nexecute retrieve_relevant_chunks\\n# If we have any retrieval rails, we run them.\\nif $config.rails.retrieval.flows\\n  # If we have generation options, we make sure the retrieval rails are enabled.\\n  if $generation_options is None or $generation_options.rails.retrieval:\\n    do run retrieval rails\\n# $output_rails_enabled = True\\nexecute generate_bot_message', 'is_system_flow': True, 'priority': 100, 'is_extension': True, 'allow_multiple': True}, {'id': 'process bot message', 'elements': [{'_type': 'meta', 'meta': {'is_extension': True, 'allow_multiple': True, 'priority': 100}}, {'_type': 'BotMessage', '_source_mapping': {'filename': 'llm_flows.co', 'line_number': 105, 'line_text': 'event BotMessage', 'comment': None}}, {'_type': 'set', 'key': 'bot_message', 'expression': '$event.text', '_source_mapping': {'filename': 'llm_flows.co', 'line_number': 107, 'line_text': '$bot_message = $event.text', 'comment': None}}, {'_type': 'if', 'expression': '$skip_output_rails', '_source_mapping': {'filename': 'llm_flows.co', 'line_number': 109, 'line_text': 'if $skip_output_rails', 'comment': None}, '_next_else': 3}, {'_type': 'set', 'key': 'skip_output_rails', 'expression': 'False', '_source_mapping': {'filename': 'llm_flows.co', 'line_number': 110, 'line_text': '$skip_output_rails = False', 'comment': None}}, {'_type': 'jump', '_next': 8}, {'_type': 'if', 'expression': '$config.rails.output.flows', '_source_mapping': {'filename': 'llm_flows.co', 'line_number': 113, 'line_text': 'if $config.rails.output.flows', 'comment': 'If we have any output flows, we run them.'}, '_next_else': 7}, {'_type': 'if', 'expression': '$generation_options is None or $generation_options.rails.output', '_source_mapping': {'filename': 'llm_flows.co', 'line_number': 115, 'line_text': 'if $generation_options is None or $generation_options.rails.output:', 'comment': 'If we have generation options, we make sure the output rails are enabled.'}, '_next_else': 6}, {'_type': 'run_action', 'action_name': 'create_event', 'action_params': {'event': {'_type': 'StartOutputRails'}}, '_source_mapping': {'filename': 'llm_flows.co', 'line_number': 117, 'line_text': 'create event StartOutputRails', 'comment': 'Create a marker event.'}}, {'_type': 'StartOutputRails', '_source_mapping': {'filename': 'llm_flows.co', 'line_number': 118, 'line_text': 'event StartOutputRails', 'comment': None}}, {'_type': 'flow', 'flow_name': 'run output rails', 'flow_parameters': {}, 'return_vars': [], '_source_mapping': {'filename': 'llm_flows.co', 'line_number': 122, 'line_text': 'do run output rails', 'comment': 'Run all the output rails\\nThis can potentially alter the $user_message'}}, {'_type': 'run_action', 'action_name': 'create_event', 'action_params': {'event': {'_type': 'OutputRailsFinished'}}, '_source_mapping': {'filename': 'llm_flows.co', 'line_number': 125, 'line_text': 'create event OutputRailsFinished', 'comment': 'Create a marker event.'}}, {'_type': 'OutputRailsFinished', '_source_mapping': {'filename': 'llm_flows.co', 'line_number': 126, 'line_text': 'event OutputRailsFinished', 'comment': None}}, {'_type': 'run_action', 'action_name': 'create_event', 'action_params': {'event': {'_type': 'StartUtteranceBotAction', 'script': '$bot_message'}}, '_source_mapping': {'filename': 'llm_flows.co', 'line_number': 128, 'line_text': 'create event StartUtteranceBotAction(script=$bot_message)', 'comment': None}}], 'source_code': 'event BotMessage\\n$bot_message = $event.text\\nif $skip_output_rails\\n  $skip_output_rails = False\\nelse\\n  # If we have any output flows, we run them.\\n  if $config.rails.output.flows\\n    # If we have generation options, we make sure the output rails are enabled.\\n    if $generation_options is None or $generation_options.rails.output:\\n      # Create a marker event.\\n      create event StartOutputRails\\n      event StartOutputRails\\n      # Run all the output rails\\n      # This can potentially alter the $user_message\\n      do run output rails\\n      # Create a marker event.\\n      create event OutputRailsFinished\\n      event OutputRailsFinished\\ncreate event StartUtteranceBotAction(script=$bot_message)', 'is_system_flow': True, 'priority': 100, 'is_extension': True, 'allow_multiple': True}, {'id': 'run output rails', 'elements': [{'_type': 'meta', 'meta': {'subflow': True}}, {'_type': 'set', 'key': 'i', 'expression': '0', '_source_mapping': {'filename': 'llm_flows.co', 'line_number': 133, 'line_text': '$i = 0', 'comment': 'Runs all the output rails in a sequential order. '}}, {'_type': 'set', 'key': 'output_flows', 'expression': '$config.rails.output.flows', '_source_mapping': {'filename': 'llm_flows.co', 'line_number': 134, 'line_text': '$output_flows = $config.rails.output.flows', 'comment': None}}, {'_type': 'while', 'expression': '$i < len($output_flows)', '_source_mapping': {'filename': 'llm_flows.co', 'line_number': 135, 'line_text': 'while $i < len($output_flows)', 'comment': None}, '_next_on_break': 10}, {'_type': 'set', 'key': 'triggered_output_rail', 'expression': '$output_flows[$i]', '_source_mapping': {'filename': 'llm_flows.co', 'line_number': 137, 'line_text': '$triggered_output_rail = $output_flows[$i]', 'comment': 'We set the current rail as being triggered.'}, '_next_on_break': 9, '_next_on_continue': -1}, {'_type': 'run_action', 'action_name': 'create_event', 'action_params': {'event': {'_type': 'StartOutputRail', 'flow_id': '$triggered_output_rail'}}, '_source_mapping': {'filename': 'llm_flows.co', 'line_number': 139, 'line_text': 'create event StartOutputRail(flow_id=$triggered_output_rail)', 'comment': None}, '_next_on_break': 8, '_next_on_continue': -2}, {'_type': 'StartOutputRail', '_source_mapping': {'filename': 'llm_flows.co', 'line_number': 140, 'line_text': 'event StartOutputRail', 'comment': None}, '_next_on_break': 7, '_next_on_continue': -3}, {'_type': 'flow', 'flow_name': '$output_flows[$i]', 'flow_parameters': {}, 'return_vars': [], '_source_mapping': {'filename': 'llm_flows.co', 'line_number': 142, 'line_text': 'do $output_flows[$i]', 'comment': None}, '_next_on_break': 6, '_next_on_continue': -4}, {'_type': 'set', 'key': 'i', 'expression': '$i + 1', '_source_mapping': {'filename': 'llm_flows.co', 'line_number': 143, 'line_text': '$i = $i + 1', 'comment': None}, '_next_on_break': 5, '_next_on_continue': -5}, {'_type': 'run_action', 'action_name': 'create_event', 'action_params': {'event': {'_type': 'OutputRailFinished', 'flow_id': '$triggered_output_rail'}}, '_source_mapping': {'filename': 'llm_flows.co', 'line_number': 145, 'line_text': 'create event OutputRailFinished(flow_id=$triggered_output_rail)', 'comment': None}, '_next_on_break': 4, '_next_on_continue': -6}, {'_type': 'OutputRailFinished', '_source_mapping': {'filename': 'llm_flows.co', 'line_number': 146, 'line_text': 'event OutputRailFinished', 'comment': None}, '_next_on_break': 3, '_next_on_continue': -7}, {'_type': 'set', 'key': 'triggered_output_rail', 'expression': 'None', '_source_mapping': {'filename': 'llm_flows.co', 'line_number': 149, 'line_text': '$triggered_output_rail = None', 'comment': 'If all went smooth, we remove it.'}, '_next_on_break': 2, '_next_on_continue': -8}, {'_type': 'jump', '_next': -9}], 'source_code': '$i = 0\\n$output_flows = $config.rails.output.flows\\nwhile $i < len($output_flows)\\n  # We set the current rail as being triggered.\\n  $triggered_output_rail = $output_flows[$i]\\n  create event StartOutputRail(flow_id=$triggered_output_rail)\\n  event StartOutputRail\\n  do $output_flows[$i]\\n  $i = $i + 1\\n  create event OutputRailFinished(flow_id=$triggered_output_rail)\\n  event OutputRailFinished\\n  # If all went smooth, we remove it.\\n  $triggered_output_rail = None', 'is_system_flow': True, 'is_subflow': True}, {'id': 'run retrieval rails', 'elements': [{'_type': 'meta', 'meta': {'subflow': True}}, {'_type': 'set', 'key': 'i', 'expression': '0', '_source_mapping': {'filename': 'llm_flows.co', 'line_number': 154, 'line_text': '$i = 0', 'comment': 'Runs all the retrieval rails in a sequential order. '}}, {'_type': 'set', 'key': 'retrieval_flows', 'expression': '$config.rails.retrieval.flows', '_source_mapping': {'filename': 'llm_flows.co', 'line_number': 155, 'line_text': '$retrieval_flows = $config.rails.retrieval.flows', 'comment': None}}, {'_type': 'while', 'expression': '$i < len($retrieval_flows)', '_source_mapping': {'filename': 'llm_flows.co', 'line_number': 156, 'line_text': 'while $i < len($retrieval_flows)', 'comment': None}, '_next_on_break': 4}, {'_type': 'flow', 'flow_name': '$retrieval_flows[$i]', 'flow_parameters': {}, 'return_vars': [], '_source_mapping': {'filename': 'llm_flows.co', 'line_number': 157, 'line_text': 'do $retrieval_flows[$i]', 'comment': None}, '_next_on_break': 3, '_next_on_continue': -1}, {'_type': 'set', 'key': 'i', 'expression': '$i + 1', '_source_mapping': {'filename': 'llm_flows.co', 'line_number': 158, 'line_text': '$i = $i + 1', 'comment': None}, '_next_on_break': 2, '_next_on_continue': -2}, {'_type': 'jump', '_next': -3}], 'source_code': '$i = 0\\n$retrieval_flows = $config.rails.retrieval.flows\\nwhile $i < len($retrieval_flows)\\n  do $retrieval_flows[$i]\\n  $i = $i + 1', 'is_system_flow': True, 'is_subflow': True}, {'id': 'llama guard check input', 'elements': [{'_type': 'run_action', 'action_name': 'llama_guard_check_input', 'action_params': {}, 'action_result_key': 'llama_guard_response', '_source_mapping': {'filename': 'flows.v1.co', 'line_number': 5, 'line_text': '$llama_guard_response = execute llama_guard_check_input', 'comment': None}}, {'_type': 'set', 'key': 'allowed', 'expression': '$llama_guard_response[\"allowed\"]', '_source_mapping': {'filename': 'flows.v1.co', 'line_number': 6, 'line_text': '$allowed = $llama_guard_response[\"allowed\"]', 'comment': None}}, {'_type': 'set', 'key': 'llama_guard_policy_violations', 'expression': '$llama_guard_response[\"policy_violations\"]', '_source_mapping': {'filename': 'flows.v1.co', 'line_number': 8, 'line_text': '$llama_guard_policy_violations = $llama_guard_response[\"policy_violations\"]', 'comment': 'Policy violations are currently unused, but can be used to better phrase the bot output'}}, {'_type': 'if', 'expression': 'not $allowed', '_source_mapping': {'filename': 'flows.v1.co', 'line_number': 10, 'line_text': 'if not $allowed', 'comment': None}, '_next_else': 6}, {'_type': 'if', 'expression': '$config.enable_rails_exceptions', '_source_mapping': {'filename': 'flows.v1.co', 'line_number': 11, 'line_text': 'if $config.enable_rails_exceptions', 'comment': None}, '_next_else': 3}, {'_type': 'run_action', 'action_name': 'create_event', 'action_params': {'event': {'_type': 'LlamaGuardInputRailException', 'message': \"Input not allowed. The input was blocked by the 'llama guard check input' flow. Please ensure your input meets the required criteria.\"}}, '_source_mapping': {'filename': 'flows.v1.co', 'line_number': 12, 'line_text': 'create event LlamaGuardInputRailException(message=\"Input not allowed. The input was blocked by the \\'llama guard check input\\' flow. Please ensure your input meets the required criteria.\")', 'comment': None}}, {'_type': 'jump', '_next': 2}, {'_type': 'run_action', 'action_name': 'utter', 'action_params': {'value': 'refuse to respond'}, '_source_mapping': {'filename': 'flows.v1.co', 'line_number': 14, 'line_text': 'bot refuse to respond', 'comment': None}}, {'_type': 'run_action', 'action_name': 'utter', 'action_params': {'value': 'stop'}, '_source_mapping': {'filename': 'flows.v1.co', 'line_number': 15, 'line_text': 'stop', 'comment': None}}], 'source_code': '$llama_guard_response = execute llama_guard_check_input\\n$allowed = $llama_guard_response[\"allowed\"]\\n# Policy violations are currently unused, but can be used to better phrase the bot output\\n$llama_guard_policy_violations = $llama_guard_response[\"policy_violations\"]\\nif not $allowed\\n  if $config.enable_rails_exceptions\\n    create event LlamaGuardInputRailException(message=\"Input not allowed. The input was blocked by the \\'llama guard check input\\' flow. Please ensure your input meets the required criteria.\")\\n  else\\n    bot refuse to respond\\n  stop', 'is_system_flow': True}, {'id': 'llama guard check output', 'elements': [{'_type': 'run_action', 'action_name': 'llama_guard_check_output', 'action_params': {}, 'action_result_key': 'llama_guard_response', '_source_mapping': {'filename': 'flows.v1.co', 'line_number': 18, 'line_text': '$llama_guard_response = execute llama_guard_check_output', 'comment': None}}, {'_type': 'set', 'key': 'allowed', 'expression': '$llama_guard_response[\"allowed\"]', '_source_mapping': {'filename': 'flows.v1.co', 'line_number': 19, 'line_text': '$allowed = $llama_guard_response[\"allowed\"]', 'comment': None}}, {'_type': 'set', 'key': 'llama_guard_policy_violations', 'expression': '$llama_guard_response[\"policy_violations\"]', '_source_mapping': {'filename': 'flows.v1.co', 'line_number': 20, 'line_text': '$llama_guard_policy_violations = $llama_guard_response[\"policy_violations\"]', 'comment': None}}, {'_type': 'if', 'expression': 'not $allowed', '_source_mapping': {'filename': 'flows.v1.co', 'line_number': 22, 'line_text': 'if not $allowed', 'comment': None}, '_next_else': 6}, {'_type': 'if', 'expression': '$config.enable_rails_exceptions', '_source_mapping': {'filename': 'flows.v1.co', 'line_number': 23, 'line_text': 'if $config.enable_rails_exceptions', 'comment': None}, '_next_else': 3}, {'_type': 'run_action', 'action_name': 'create_event', 'action_params': {'event': {'_type': 'LlamaGuardOutputRailException', 'message': \"Output not allowed. The output was blocked by the 'llama guard check output' flow. Please ensure your output meets the required criteria.\"}}, '_source_mapping': {'filename': 'flows.v1.co', 'line_number': 24, 'line_text': 'create event LlamaGuardOutputRailException(message=\"Output not allowed. The output was blocked by the \\'llama guard check output\\' flow. Please ensure your output meets the required criteria.\")', 'comment': None}}, {'_type': 'jump', '_next': 2}, {'_type': 'run_action', 'action_name': 'utter', 'action_params': {'value': 'refuse to respond'}, '_source_mapping': {'filename': 'flows.v1.co', 'line_number': 26, 'line_text': 'bot refuse to respond', 'comment': None}}, {'_type': 'run_action', 'action_name': 'utter', 'action_params': {'value': 'stop'}, '_source_mapping': {'filename': 'flows.v1.co', 'line_number': 27, 'line_text': 'stop', 'comment': None}}], 'source_code': '$llama_guard_response = execute llama_guard_check_output\\n$allowed = $llama_guard_response[\"allowed\"]\\n$llama_guard_policy_violations = $llama_guard_response[\"policy_violations\"]\\nif not $allowed\\n  if $config.enable_rails_exceptions\\n    create event LlamaGuardOutputRailException(message=\"Output not allowed. The output was blocked by the \\'llama guard check output\\' flow. Please ensure your output meets the required criteria.\")\\n  else\\n    bot refuse to respond\\n  stop', 'is_system_flow': True}, {'id': 'alignscore check facts', 'elements': [{'_type': 'meta', 'meta': {'subflow': True}}, {'_type': 'if', 'expression': '$check_facts == True', '_source_mapping': {'filename': 'flows.v1.co', 'line_number': 7, 'line_text': 'if $check_facts == True', 'comment': 'Check if the previous answer is accurate w.r.t. the relevant chunks.\\nThis output rail must be enabled explicitly per output message by setting\\nthe $check_facts context variable to True.\\n'}, '_next_else': 9}, {'_type': 'set', 'key': 'check_facts', 'expression': 'False', '_source_mapping': {'filename': 'flows.v1.co', 'line_number': 8, 'line_text': '$check_facts = False', 'comment': None}}, {'_type': 'run_action', 'action_name': 'alignscore_check_facts', 'action_params': {}, 'action_result_key': 'accuracy', '_source_mapping': {'filename': 'flows.v1.co', 'line_number': 10, 'line_text': '$accuracy = execute alignscore_check_facts', 'comment': None}}, {'_type': 'if', 'expression': '$accuracy < 0.5', '_source_mapping': {'filename': 'flows.v1.co', 'line_number': 11, 'line_text': 'if $accuracy < 0.5', 'comment': None}, '_next_else': 6}, {'_type': 'if', 'expression': '$config.enable_rails_exceptions', '_source_mapping': {'filename': 'flows.v1.co', 'line_number': 12, 'line_text': 'if $config.enable_rails_exceptions', 'comment': None}, '_next_else': 3}, {'_type': 'run_action', 'action_name': 'create_event', 'action_params': {'event': {'_type': 'AlignScoreCheckFactRailException', 'message': 'Fact check failed. The accuracy of the previous answer was below the required threshold.'}}, '_source_mapping': {'filename': 'flows.v1.co', 'line_number': 13, 'line_text': 'create event AlignScoreCheckFactRailException(message=\"Fact check failed. The accuracy of the previous answer was below the required threshold.\")', 'comment': None}}, {'_type': 'jump', '_next': 2}, {'_type': 'run_action', 'action_name': 'utter', 'action_params': {'value': 'inform answer unknown'}, '_source_mapping': {'filename': 'flows.v1.co', 'line_number': 15, 'line_text': 'bot inform answer unknown', 'comment': None}}, {'_type': 'run_action', 'action_name': 'utter', 'action_params': {'value': 'stop'}, '_source_mapping': {'filename': 'flows.v1.co', 'line_number': 16, 'line_text': 'stop', 'comment': None}}], 'source_code': 'if $check_facts == True\\n  $check_facts = False\\n  $accuracy = execute alignscore_check_facts\\n  if $accuracy < 0.5\\n    if $config.enable_rails_exceptions\\n      create event AlignScoreCheckFactRailException(message=\"Fact check failed. The accuracy of the previous answer was below the required threshold.\")\\n    else\\n      bot inform answer unknown\\n    stop', 'is_system_flow': True, 'is_subflow': True}, {'id': 'autoalign check input', 'elements': [{'_type': 'meta', 'meta': {'subflow': True}}, {'_type': 'run_action', 'action_name': 'autoalign_input_api', 'action_params': {'show_autoalign_message': True}, 'action_result_key': 'input_result', '_source_mapping': {'filename': 'flows.v1.co', 'line_number': 2, 'line_text': '$input_result = execute autoalign_input_api(show_autoalign_message=True)', 'comment': None}}, {'_type': 'if', 'expression': '$input_result[\"guardrails_triggered\"]', '_source_mapping': {'filename': 'flows.v1.co', 'line_number': 3, 'line_text': 'if $input_result[\"guardrails_triggered\"]', 'comment': None}, '_next_else': 8}, {'_type': 'set', 'key': 'autoalign_input_response', 'expression': \"$input_result['combined_response']\", '_source_mapping': {'filename': 'flows.v1.co', 'line_number': 4, 'line_text': \"$autoalign_input_response = $input_result['combined_response']\", 'comment': None}}, {'_type': 'if', 'expression': '$config.enable_rails_exceptions', '_source_mapping': {'filename': 'flows.v1.co', 'line_number': 5, 'line_text': 'if $config.enable_rails_exceptions', 'comment': None}, '_next_else': 3}, {'_type': 'run_action', 'action_name': 'create_event', 'action_params': {'event': {'_type': 'AutoAlignInputRailException', 'message': 'AutoAlign input guardrail triggered'}}, '_source_mapping': {'filename': 'flows.v1.co', 'line_number': 6, 'line_text': 'create event AutoAlignInputRailException(message=\"AutoAlign input guardrail triggered\")', 'comment': None}}, {'_type': 'jump', '_next': 2}, {'_type': 'run_action', 'action_name': 'utter', 'action_params': {'value': 'refuse to respond'}, '_source_mapping': {'filename': 'flows.v1.co', 'line_number': 8, 'line_text': 'bot refuse to respond', 'comment': None}}, {'_type': 'run_action', 'action_name': 'utter', 'action_params': {'value': 'stop'}, '_source_mapping': {'filename': 'flows.v1.co', 'line_number': 9, 'line_text': 'stop', 'comment': None}}, {'_type': 'jump', '_next': 3}, {'_type': 'if', 'expression': '$input_result[\"pii_fast\"] and $input_result[\"pii_fast\"][\"guarded\"]', '_source_mapping': {'filename': 'flows.v1.co', 'line_number': 10, 'line_text': 'else if $input_result[\"pii_fast\"] and $input_result[\"pii_fast\"][\"guarded\"]:', 'comment': None}, '_next_else': 2}, {'_type': 'set', 'key': 'user_message', 'expression': '$input_result[\"pii_fast\"][\"response\"]', '_source_mapping': {'filename': 'flows.v1.co', 'line_number': 11, 'line_text': '$user_message = $input_result[\"pii_fast\"][\"response\"]', 'comment': None}}], 'source_code': '$input_result = execute autoalign_input_api(show_autoalign_message=True)\\nif $input_result[\"guardrails_triggered\"]\\n  $autoalign_input_response = $input_result[\\'combined_response\\']\\n  if $config.enable_rails_exceptions\\n    create event AutoAlignInputRailException(message=\"AutoAlign input guardrail triggered\")\\n  else\\n    bot refuse to respond\\n  stop\\nelse if $input_result[\"pii_fast\"] and $input_result[\"pii_fast\"][\"guarded\"]:\\n  $user_message = $input_result[\"pii_fast\"][\"response\"]', 'is_system_flow': True, 'is_subflow': True}, {'id': 'autoalign check output', 'elements': [{'_type': 'meta', 'meta': {'subflow': True}}, {'_type': 'run_action', 'action_name': 'autoalign_output_api', 'action_params': {'show_autoalign_message': True}, 'action_result_key': 'output_result', '_source_mapping': {'filename': 'flows.v1.co', 'line_number': 14, 'line_text': '$output_result = execute autoalign_output_api(show_autoalign_message=True)', 'comment': None}}, {'_type': 'if', 'expression': '$output_result[\"guardrails_triggered\"]', '_source_mapping': {'filename': 'flows.v1.co', 'line_number': 15, 'line_text': 'if $output_result[\"guardrails_triggered\"]', 'comment': None}, '_next_else': 7}, {'_type': 'if', 'expression': '$config.enable_rails_exceptions', '_source_mapping': {'filename': 'flows.v1.co', 'line_number': 16, 'line_text': 'if $config.enable_rails_exceptions', 'comment': None}, '_next_else': 3}, {'_type': 'run_action', 'action_name': 'create_event', 'action_params': {'event': {'_type': 'AutoAlignOutputRailException', 'message': 'AutoAlign guardrail triggered'}}, '_source_mapping': {'filename': 'flows.v1.co', 'line_number': 17, 'line_text': 'create event AutoAlignOutputRailException(message=\"AutoAlign guardrail triggered\")', 'comment': None}}, {'_type': 'jump', '_next': 2}, {'_type': 'run_action', 'action_name': 'utter', 'action_params': {'value': 'refuse to respond'}, '_source_mapping': {'filename': 'flows.v1.co', 'line_number': 19, 'line_text': 'bot refuse to respond', 'comment': None}}, {'_type': 'run_action', 'action_name': 'utter', 'action_params': {'value': 'stop'}, '_source_mapping': {'filename': 'flows.v1.co', 'line_number': 20, 'line_text': 'stop', 'comment': None}}, {'_type': 'jump', '_next': 4}, {'_type': 'set', 'key': 'pii_message_output', 'expression': '$output_result[\"pii_fast\"][\"response\"]', '_source_mapping': {'filename': 'flows.v1.co', 'line_number': 22, 'line_text': '$pii_message_output = $output_result[\"pii_fast\"][\"response\"]', 'comment': None}}, {'_type': 'if', 'expression': '$output_result[\"pii_fast\"][\"guarded\"]', '_source_mapping': {'filename': 'flows.v1.co', 'line_number': 23, 'line_text': 'if $output_result[\"pii_fast\"][\"guarded\"]', 'comment': None}, '_next_else': 2}, {'_type': 'set', 'key': 'bot_message', 'expression': '$pii_message_output', '_source_mapping': {'filename': 'flows.v1.co', 'line_number': 24, 'line_text': '$bot_message = $pii_message_output', 'comment': None}}], 'source_code': '$output_result = execute autoalign_output_api(show_autoalign_message=True)\\nif $output_result[\"guardrails_triggered\"]\\n  if $config.enable_rails_exceptions\\n    create event AutoAlignOutputRailException(message=\"AutoAlign guardrail triggered\")\\n  else\\n    bot refuse to respond\\n  stop\\nelse\\n  $pii_message_output = $output_result[\"pii_fast\"][\"response\"]\\n  if $output_result[\"pii_fast\"][\"guarded\"]\\n    $bot_message = $pii_message_output', 'is_system_flow': True, 'is_subflow': True}, {'id': 'autoalign factcheck output', 'elements': [{'_type': 'meta', 'meta': {'subflow': True}}, {'_type': 'if', 'expression': '$check_facts == True', '_source_mapping': {'filename': 'flows.v1.co', 'line_number': 27, 'line_text': 'if $check_facts == True', 'comment': None}, '_next_else': 5}, {'_type': 'set', 'key': 'check_facts', 'expression': 'False', '_source_mapping': {'filename': 'flows.v1.co', 'line_number': 28, 'line_text': '$check_facts = False', 'comment': None}}, {'_type': 'set', 'key': 'threshold', 'expression': '0.5', '_source_mapping': {'filename': 'flows.v1.co', 'line_number': 29, 'line_text': '$threshold = 0.5', 'comment': None}}, {'_type': 'run_action', 'action_name': 'autoalign_factcheck_output_api', 'action_params': {'factcheck_threshold': '$threshold', 'show_autoalign_message': True}, 'action_result_key': 'output_result', '_source_mapping': {'filename': 'flows.v1.co', 'line_number': 30, 'line_text': '$output_result = execute autoalign_factcheck_output_api(factcheck_threshold=$threshold, show_autoalign_message=True)', 'comment': None}}, {'_type': 'run_action', 'action_name': 'utter', 'action_params': {'value': 'provide response'}, '_source_mapping': {'filename': 'flows.v1.co', 'line_number': 31, 'line_text': 'bot provide response', 'comment': None}}], 'source_code': 'if $check_facts == True\\n  $check_facts = False\\n  $threshold = 0.5\\n  $output_result = execute autoalign_factcheck_output_api(factcheck_threshold=$threshold, show_autoalign_message=True)\\n  bot provide response', 'is_system_flow': True, 'is_subflow': True}, {'id': 'cleanlab trustworthiness', 'elements': [{'_type': 'meta', 'meta': {'subflow': True}}, {'_type': 'run_action', 'action_name': 'call cleanlab api', 'action_params': {}, 'action_result_key': 'result', '_source_mapping': {'filename': 'flows.v1.co', 'line_number': 10, 'line_text': '$result = execute call cleanlab api', 'comment': 'Guardrail based on the trustworthiness score.'}}, {'_type': 'if', 'expression': '$result.trustworthiness_score < 0.6', '_source_mapping': {'filename': 'flows.v1.co', 'line_number': 12, 'line_text': 'if $result.trustworthiness_score < 0.6', 'comment': None}, '_next_else': 6}, {'_type': 'if', 'expression': '$config.enable_rails_exceptions', '_source_mapping': {'filename': 'flows.v1.co', 'line_number': 13, 'line_text': 'if $config.enable_rails_exceptions', 'comment': None}, '_next_else': 3}, {'_type': 'run_action', 'action_name': 'create_event', 'action_params': {'event': {'_type': 'CleanlabTrustworthinessRailException', 'message': 'Trustworthiness score is below threshold'}}, '_source_mapping': {'filename': 'flows.v1.co', 'line_number': 14, 'line_text': 'create event CleanlabTrustworthinessRailException(message=\"Trustworthiness score is below threshold\")', 'comment': None}}, {'_type': 'jump', '_next': 2}, {'_type': 'run_action', 'action_name': 'utter', 'action_params': {'value': 'response untrustworthy'}, '_source_mapping': {'filename': 'flows.v1.co', 'line_number': 16, 'line_text': 'bot response untrustworthy', 'comment': None}}, {'_type': 'run_action', 'action_name': 'utter', 'action_params': {'value': 'stop'}, '_source_mapping': {'filename': 'flows.v1.co', 'line_number': 17, 'line_text': 'stop', 'comment': None}}], 'source_code': '$result = execute call cleanlab api\\nif $result.trustworthiness_score < 0.6\\n  if $config.enable_rails_exceptions\\n    create event CleanlabTrustworthinessRailException(message=\"Trustworthiness score is below threshold\")\\n  else\\n    bot response untrustworthy\\n  stop', 'is_system_flow': True, 'is_subflow': True}, {'id': 'jailbreak detection heuristics', 'elements': [{'_type': 'meta', 'meta': {'subflow': True}}, {'_type': 'run_action', 'action_name': 'jailbreak_detection_heuristics', 'action_params': {}, 'action_result_key': 'is_jailbreak', '_source_mapping': {'filename': 'flows.v1.co', 'line_number': 8, 'line_text': '$is_jailbreak = execute jailbreak_detection_heuristics', 'comment': \"\\nHeuristic checks to assess whether the user's prompt is an attempted jailbreak.\\n\"}}, {'_type': 'if', 'expression': '$is_jailbreak', '_source_mapping': {'filename': 'flows.v1.co', 'line_number': 10, 'line_text': 'if $is_jailbreak', 'comment': None}, '_next_else': 6}, {'_type': 'if', 'expression': '$config.enable_rails_exceptions', '_source_mapping': {'filename': 'flows.v1.co', 'line_number': 11, 'line_text': 'if $config.enable_rails_exceptions', 'comment': None}, '_next_else': 3}, {'_type': 'run_action', 'action_name': 'create_event', 'action_params': {'event': {'_type': 'JailbreakDetectionRailException', 'message': \"Jailbreak attempt detected. The user's prompt was identified as an attempted jailbreak. Please ensure your prompt adheres to the guidelines.\"}}, '_source_mapping': {'filename': 'flows.v1.co', 'line_number': 12, 'line_text': 'create event JailbreakDetectionRailException(message=\"Jailbreak attempt detected. The user\\'s prompt was identified as an attempted jailbreak. Please ensure your prompt adheres to the guidelines.\")', 'comment': None}}, {'_type': 'jump', '_next': 2}, {'_type': 'run_action', 'action_name': 'utter', 'action_params': {'value': 'refuse to respond'}, '_source_mapping': {'filename': 'flows.v1.co', 'line_number': 14, 'line_text': 'bot refuse to respond', 'comment': None}}, {'_type': 'run_action', 'action_name': 'utter', 'action_params': {'value': 'stop'}, '_source_mapping': {'filename': 'flows.v1.co', 'line_number': 15, 'line_text': 'stop', 'comment': None}}], 'source_code': '$is_jailbreak = execute jailbreak_detection_heuristics\\nif $is_jailbreak\\n  if $config.enable_rails_exceptions\\n    create event JailbreakDetectionRailException(message=\"Jailbreak attempt detected. The user\\'s prompt was identified as an attempted jailbreak. Please ensure your prompt adheres to the guidelines.\")\\n  else\\n    bot refuse to respond\\n  stop', 'is_system_flow': True, 'is_subflow': True}, {'id': 'gotitai rag truthcheck', 'elements': [{'_type': 'meta', 'meta': {'subflow': True}}, {'_type': 'if', 'expression': '$check_facts == True', '_source_mapping': {'filename': 'flows.v1.co', 'line_number': 3, 'line_text': 'if $check_facts == True', 'comment': 'Guardrail based on the maximum risk score.'}, '_next_else': 9}, {'_type': 'set', 'key': 'check_facts', 'expression': 'False', '_source_mapping': {'filename': 'flows.v1.co', 'line_number': 4, 'line_text': '$check_facts = False', 'comment': None}}, {'_type': 'run_action', 'action_name': 'call gotitai truthchecker api', 'action_params': {}, 'action_result_key': 'result', '_source_mapping': {'filename': 'flows.v1.co', 'line_number': 6, 'line_text': '$result = execute call gotitai truthchecker api', 'comment': None}}, {'_type': 'if', 'expression': '$result.hallucination == \"yes\"', '_source_mapping': {'filename': 'flows.v1.co', 'line_number': 8, 'line_text': 'if $result.hallucination == \"yes\"', 'comment': None}, '_next_else': 6}, {'_type': 'if', 'expression': '$config.enable_rails_exceptions', '_source_mapping': {'filename': 'flows.v1.co', 'line_number': 9, 'line_text': 'if $config.enable_rails_exceptions', 'comment': None}, '_next_else': 3}, {'_type': 'run_action', 'action_name': 'create_event', 'action_params': {'event': {'_type': 'GotitaiHallucinationRailException', 'message': 'Hallucination detected. The previous answer may not be accurate'}}, '_source_mapping': {'filename': 'flows.v1.co', 'line_number': 10, 'line_text': 'create event GotitaiHallucinationRailException(message=\"Hallucination detected. The previous answer may not be accurate\")', 'comment': None}}, {'_type': 'jump', '_next': 2}, {'_type': 'run_action', 'action_name': 'utter', 'action_params': {'value': 'inform answer unknown'}, '_source_mapping': {'filename': 'flows.v1.co', 'line_number': 12, 'line_text': 'bot inform answer unknown', 'comment': None}}, {'_type': 'run_action', 'action_name': 'utter', 'action_params': {'value': 'stop'}, '_source_mapping': {'filename': 'flows.v1.co', 'line_number': 13, 'line_text': 'stop', 'comment': None}}], 'source_code': 'if $check_facts == True\\n  $check_facts = False\\n  $result = execute call gotitai truthchecker api\\n  if $result.hallucination == \"yes\"\\n    if $config.enable_rails_exceptions\\n      create event GotitaiHallucinationRailException(message=\"Hallucination detected. The previous answer may not be accurate\")\\n    else\\n      bot inform answer unknown\\n    stop', 'is_system_flow': True, 'is_subflow': True}, {'id': 'gcpnlp moderation', 'elements': [{'_type': 'meta', 'meta': {'subflow': True}}, {'_type': 'run_action', 'action_name': 'call gcpnlp api', 'action_params': {}, 'action_result_key': 'result', '_source_mapping': {'filename': 'flows.co', 'line_number': 30, 'line_text': '$result = execute call gcpnlp api', 'comment': 'Guardrail based on the maximum risk score.'}}, {'_type': 'if', 'expression': '$result.max_risk_score > 0.8', '_source_mapping': {'filename': 'flows.co', 'line_number': 32, 'line_text': 'if $result.max_risk_score > 0.8', 'comment': None}, '_next_else': 3}, {'_type': 'run_action', 'action_name': 'utter', 'action_params': {'value': 'refuse to respond'}, '_source_mapping': {'filename': 'flows.co', 'line_number': 33, 'line_text': 'bot refuse to respond', 'comment': None}}, {'_type': 'run_action', 'action_name': 'utter', 'action_params': {'value': 'stop'}, '_source_mapping': {'filename': 'flows.co', 'line_number': 34, 'line_text': 'stop', 'comment': None}}], 'source_code': '$result = execute call gcpnlp api\\nif $result.max_risk_score > 0.8\\n  bot refuse to respond\\n  stop', 'is_system_flow': True, 'is_subflow': True}, {'id': 'gcpnlp moderation detailed', 'elements': [{'_type': 'meta', 'meta': {'subflow': True}}, {'_type': 'run_action', 'action_name': 'call gcpnlp api', 'action_params': {}, 'action_result_key': 'result', '_source_mapping': {'filename': 'flows.co', 'line_number': 38, 'line_text': '$result = execute call gcpnlp api', 'comment': 'Guardrail based on individual risk scores.'}}, {'_type': 'if', 'expression': '$result.violations.get(\"Toxic\", 0) > 0.8', '_source_mapping': {'filename': 'flows.co', 'line_number': 40, 'line_text': 'if $result.violations.get(\"Toxic\", 0) > 0.8', 'comment': None}, '_next_else': 3}, {'_type': 'run_action', 'action_name': 'utter', 'action_params': {'value': 'inform cannot engage in abusive or harmful behavior'}, '_source_mapping': {'filename': 'flows.co', 'line_number': 41, 'line_text': 'bot inform cannot engage in abusive or harmful behavior', 'comment': None}}, {'_type': 'run_action', 'action_name': 'utter', 'action_params': {'value': 'stop'}, '_source_mapping': {'filename': 'flows.co', 'line_number': 42, 'line_text': 'stop', 'comment': None}}, {'_type': 'if', 'expression': '$result.violations.get(\"Insult\", 0) > 0.7', '_source_mapping': {'filename': 'flows.co', 'line_number': 44, 'line_text': 'if $result.violations.get(\"Insult\", 0) > 0.7', 'comment': None}, '_next_else': 3}, {'_type': 'run_action', 'action_name': 'utter', 'action_params': {'value': 'inform cannot engage in abusive or harmful behavior'}, '_source_mapping': {'filename': 'flows.co', 'line_number': 45, 'line_text': 'bot inform cannot engage in abusive or harmful behavior', 'comment': None}}, {'_type': 'run_action', 'action_name': 'utter', 'action_params': {'value': 'stop'}, '_source_mapping': {'filename': 'flows.co', 'line_number': 46, 'line_text': 'stop', 'comment': None}}, {'_type': 'if', 'expression': '$result.violations.get(\"Profanity\", 0) > 0.6', '_source_mapping': {'filename': 'flows.co', 'line_number': 48, 'line_text': 'if $result.violations.get(\"Profanity\", 0) > 0.6', 'comment': None}, '_next_else': 3}, {'_type': 'run_action', 'action_name': 'utter', 'action_params': {'value': 'inform cannot engage in abusive or harmful behavior'}, '_source_mapping': {'filename': 'flows.co', 'line_number': 49, 'line_text': 'bot inform cannot engage in abusive or harmful behavior', 'comment': None}}, {'_type': 'run_action', 'action_name': 'utter', 'action_params': {'value': 'stop'}, '_source_mapping': {'filename': 'flows.co', 'line_number': 50, 'line_text': 'stop', 'comment': None}}, {'_type': 'if', 'expression': '$result.violations.get(\"Derogatory\", 0) > 0.4', '_source_mapping': {'filename': 'flows.co', 'line_number': 52, 'line_text': 'if $result.violations.get(\"Derogatory\", 0) > 0.4', 'comment': None}, '_next_else': 3}, {'_type': 'run_action', 'action_name': 'utter', 'action_params': {'value': 'inform cannot engage in abusive or harmful behavior'}, '_source_mapping': {'filename': 'flows.co', 'line_number': 53, 'line_text': 'bot inform cannot engage in abusive or harmful behavior', 'comment': None}}, {'_type': 'run_action', 'action_name': 'utter', 'action_params': {'value': 'stop'}, '_source_mapping': {'filename': 'flows.co', 'line_number': 54, 'line_text': 'stop', 'comment': None}}, {'_type': 'if', 'expression': '$result.violations.get(\"Violent\", 0) > 0.8', '_source_mapping': {'filename': 'flows.co', 'line_number': 56, 'line_text': 'if $result.violations.get(\"Violent\", 0) > 0.8', 'comment': None}, '_next_else': 3}, {'_type': 'run_action', 'action_name': 'utter', 'action_params': {'value': 'inform cannot engage in abusive or harmful behavior'}, '_source_mapping': {'filename': 'flows.co', 'line_number': 57, 'line_text': 'bot inform cannot engage in abusive or harmful behavior', 'comment': None}}, {'_type': 'run_action', 'action_name': 'utter', 'action_params': {'value': 'stop'}, '_source_mapping': {'filename': 'flows.co', 'line_number': 58, 'line_text': 'stop', 'comment': None}}, {'_type': 'if', 'expression': '$result.violations.get(\"Sexual\", 0) > 0.7', '_source_mapping': {'filename': 'flows.co', 'line_number': 60, 'line_text': 'if $result.violations.get(\"Sexual\", 0) > 0.7', 'comment': None}, '_next_else': 3}, {'_type': 'run_action', 'action_name': 'utter', 'action_params': {'value': 'inform cannot engage in inappropriate content'}, '_source_mapping': {'filename': 'flows.co', 'line_number': 61, 'line_text': 'bot inform cannot engage in inappropriate content', 'comment': None}}, {'_type': 'run_action', 'action_name': 'utter', 'action_params': {'value': 'stop'}, '_source_mapping': {'filename': 'flows.co', 'line_number': 62, 'line_text': 'stop', 'comment': None}}, {'_type': 'if', 'expression': '$result.violations.get(\"Death, Harm & Tragedy\", 0) > 0.8', '_source_mapping': {'filename': 'flows.co', 'line_number': 64, 'line_text': 'if $result.violations.get(\"Death, Harm & Tragedy\", 0) > 0.8', 'comment': None}, '_next_else': 3}, {'_type': 'run_action', 'action_name': 'utter', 'action_params': {'value': 'inform cannot engage in inappropriate content'}, '_source_mapping': {'filename': 'flows.co', 'line_number': 65, 'line_text': 'bot inform cannot engage in inappropriate content', 'comment': None}}, {'_type': 'run_action', 'action_name': 'utter', 'action_params': {'value': 'stop'}, '_source_mapping': {'filename': 'flows.co', 'line_number': 66, 'line_text': 'stop', 'comment': None}}, {'_type': 'if', 'expression': '$result.violations.get(\"Firearms & Weapons\", 0) > 0.8', '_source_mapping': {'filename': 'flows.co', 'line_number': 68, 'line_text': 'if $result.violations.get(\"Firearms & Weapons\", 0) > 0.8', 'comment': None}, '_next_else': 3}, {'_type': 'run_action', 'action_name': 'utter', 'action_params': {'value': 'inform cannot engage in inappropriate content'}, '_source_mapping': {'filename': 'flows.co', 'line_number': 69, 'line_text': 'bot inform cannot engage in inappropriate content', 'comment': None}}, {'_type': 'run_action', 'action_name': 'utter', 'action_params': {'value': 'stop'}, '_source_mapping': {'filename': 'flows.co', 'line_number': 70, 'line_text': 'stop', 'comment': None}}, {'_type': 'if', 'expression': '$result.violations.get(\"Illicit Drugs\", 0) > 0.8', '_source_mapping': {'filename': 'flows.co', 'line_number': 72, 'line_text': 'if $result.violations.get(\"Illicit Drugs\", 0) > 0.8', 'comment': None}, '_next_else': 3}, {'_type': 'run_action', 'action_name': 'utter', 'action_params': {'value': 'inform cannot engage with sensitive content'}, '_source_mapping': {'filename': 'flows.co', 'line_number': 73, 'line_text': 'bot inform cannot engage with sensitive content', 'comment': None}}, {'_type': 'run_action', 'action_name': 'utter', 'action_params': {'value': 'stop'}, '_source_mapping': {'filename': 'flows.co', 'line_number': 74, 'line_text': 'stop', 'comment': None}}, {'_type': 'if', 'expression': '$result.violations.get(\"Public Safety\", 0) > 0.8', '_source_mapping': {'filename': 'flows.co', 'line_number': 76, 'line_text': 'if $result.violations.get(\"Public Safety\", 0) > 0.8', 'comment': None}, '_next_else': 3}, {'_type': 'run_action', 'action_name': 'utter', 'action_params': {'value': 'inform cannot engage with sensitive content'}, '_source_mapping': {'filename': 'flows.co', 'line_number': 77, 'line_text': 'bot inform cannot engage with sensitive content', 'comment': None}}, {'_type': 'run_action', 'action_name': 'utter', 'action_params': {'value': 'stop'}, '_source_mapping': {'filename': 'flows.co', 'line_number': 78, 'line_text': 'stop', 'comment': None}}, {'_type': 'if', 'expression': '$result.violations.get(\"Health\", 0) > 0.8', '_source_mapping': {'filename': 'flows.co', 'line_number': 80, 'line_text': 'if $result.violations.get(\"Health\", 0) > 0.8', 'comment': None}, '_next_else': 3}, {'_type': 'run_action', 'action_name': 'utter', 'action_params': {'value': 'inform cannot engage with sensitive content'}, '_source_mapping': {'filename': 'flows.co', 'line_number': 81, 'line_text': 'bot inform cannot engage with sensitive content', 'comment': None}}, {'_type': 'run_action', 'action_name': 'utter', 'action_params': {'value': 'stop'}, '_source_mapping': {'filename': 'flows.co', 'line_number': 82, 'line_text': 'stop', 'comment': None}}, {'_type': 'if', 'expression': '$result.violations.get(\"Religion & Belief\", 0) > 0.8', '_source_mapping': {'filename': 'flows.co', 'line_number': 84, 'line_text': 'if $result.violations.get(\"Religion & Belief\", 0) > 0.8', 'comment': None}, '_next_else': 3}, {'_type': 'run_action', 'action_name': 'utter', 'action_params': {'value': 'inform cannot engage with sensitive content'}, '_source_mapping': {'filename': 'flows.co', 'line_number': 85, 'line_text': 'bot inform cannot engage with sensitive content', 'comment': None}}, {'_type': 'run_action', 'action_name': 'utter', 'action_params': {'value': 'stop'}, '_source_mapping': {'filename': 'flows.co', 'line_number': 86, 'line_text': 'stop', 'comment': None}}, {'_type': 'if', 'expression': '$result.violations.get(\"War & Conflict\", 0) > 0.8', '_source_mapping': {'filename': 'flows.co', 'line_number': 88, 'line_text': 'if $result.violations.get(\"War & Conflict\", 0) > 0.8', 'comment': None}, '_next_else': 3}, {'_type': 'run_action', 'action_name': 'utter', 'action_params': {'value': 'inform cannot engage with sensitive content'}, '_source_mapping': {'filename': 'flows.co', 'line_number': 89, 'line_text': 'bot inform cannot engage with sensitive content', 'comment': None}}, {'_type': 'run_action', 'action_name': 'utter', 'action_params': {'value': 'stop'}, '_source_mapping': {'filename': 'flows.co', 'line_number': 90, 'line_text': 'stop', 'comment': None}}, {'_type': 'if', 'expression': '$result.violations.get(\"Politics\", 0) > 0.8', '_source_mapping': {'filename': 'flows.co', 'line_number': 92, 'line_text': 'if $result.violations.get(\"Politics\", 0) > 0.8', 'comment': None}, '_next_else': 3}, {'_type': 'run_action', 'action_name': 'utter', 'action_params': {'value': 'inform cannot engage with sensitive content'}, '_source_mapping': {'filename': 'flows.co', 'line_number': 93, 'line_text': 'bot inform cannot engage with sensitive content', 'comment': None}}, {'_type': 'run_action', 'action_name': 'utter', 'action_params': {'value': 'stop'}, '_source_mapping': {'filename': 'flows.co', 'line_number': 94, 'line_text': 'stop', 'comment': None}}, {'_type': 'if', 'expression': '$result.violations.get(\"Finance\", 0) > 0.8', '_source_mapping': {'filename': 'flows.co', 'line_number': 96, 'line_text': 'if $result.violations.get(\"Finance\", 0) > 0.8', 'comment': None}, '_next_else': 3}, {'_type': 'run_action', 'action_name': 'utter', 'action_params': {'value': 'inform cannot engage with sensitive content'}, '_source_mapping': {'filename': 'flows.co', 'line_number': 97, 'line_text': 'bot inform cannot engage with sensitive content', 'comment': None}}, {'_type': 'run_action', 'action_name': 'utter', 'action_params': {'value': 'stop'}, '_source_mapping': {'filename': 'flows.co', 'line_number': 98, 'line_text': 'stop', 'comment': None}}, {'_type': 'if', 'expression': '$result.violations.get(\"Legal\", 0) > 0.8', '_source_mapping': {'filename': 'flows.co', 'line_number': 100, 'line_text': 'if $result.violations.get(\"Legal\", 0) > 0.8', 'comment': None}, '_next_else': 3}, {'_type': 'run_action', 'action_name': 'utter', 'action_params': {'value': 'inform cannot engage with sensitive content'}, '_source_mapping': {'filename': 'flows.co', 'line_number': 101, 'line_text': 'bot inform cannot engage with sensitive content', 'comment': None}}, {'_type': 'run_action', 'action_name': 'utter', 'action_params': {'value': 'stop'}, '_source_mapping': {'filename': 'flows.co', 'line_number': 102, 'line_text': 'stop', 'comment': None}}], 'source_code': '$result = execute call gcpnlp api\\nif $result.violations.get(\"Toxic\", 0) > 0.8\\n  bot inform cannot engage in abusive or harmful behavior\\n  stop\\nif $result.violations.get(\"Insult\", 0) > 0.7\\n  bot inform cannot engage in abusive or harmful behavior\\n  stop\\nif $result.violations.get(\"Profanity\", 0) > 0.6\\n  bot inform cannot engage in abusive or harmful behavior\\n  stop\\nif $result.violations.get(\"Derogatory\", 0) > 0.4\\n  bot inform cannot engage in abusive or harmful behavior\\n  stop\\nif $result.violations.get(\"Violent\", 0) > 0.8\\n  bot inform cannot engage in abusive or harmful behavior\\n  stop\\nif $result.violations.get(\"Sexual\", 0) > 0.7\\n  bot inform cannot engage in inappropriate content\\n  stop\\nif $result.violations.get(\"Death, Harm & Tragedy\", 0) > 0.8\\n  bot inform cannot engage in inappropriate content\\n  stop\\nif $result.violations.get(\"Firearms & Weapons\", 0) > 0.8\\n  bot inform cannot engage in inappropriate content\\n  stop\\nif $result.violations.get(\"Illicit Drugs\", 0) > 0.8\\n  bot inform cannot engage with sensitive content\\n  stop\\nif $result.violations.get(\"Public Safety\", 0) > 0.8\\n  bot inform cannot engage with sensitive content\\n  stop\\nif $result.violations.get(\"Health\", 0) > 0.8\\n  bot inform cannot engage with sensitive content\\n  stop\\nif $result.violations.get(\"Religion & Belief\", 0) > 0.8\\n  bot inform cannot engage with sensitive content\\n  stop\\nif $result.violations.get(\"War & Conflict\", 0) > 0.8\\n  bot inform cannot engage with sensitive content\\n  stop\\nif $result.violations.get(\"Politics\", 0) > 0.8\\n  bot inform cannot engage with sensitive content\\n  stop\\nif $result.violations.get(\"Finance\", 0) > 0.8\\n  bot inform cannot engage with sensitive content\\n  stop\\nif $result.violations.get(\"Legal\", 0) > 0.8\\n  bot inform cannot engage with sensitive content\\n  stop', 'is_system_flow': True, 'is_subflow': True}, {'id': 'self check input', 'elements': [{'_type': 'run_action', 'action_name': 'self_check_input', 'action_params': {}, 'action_result_key': 'allowed', '_source_mapping': {'filename': 'flows.v1.co', 'line_number': 5, 'line_text': '$allowed = execute self_check_input', 'comment': None}}, {'_type': 'if', 'expression': 'not $allowed', '_source_mapping': {'filename': 'flows.v1.co', 'line_number': 7, 'line_text': 'if not $allowed', 'comment': None}, '_next_else': 6}, {'_type': 'if', 'expression': '$config.enable_rails_exceptions', '_source_mapping': {'filename': 'flows.v1.co', 'line_number': 8, 'line_text': 'if $config.enable_rails_exceptions', 'comment': None}, '_next_else': 3}, {'_type': 'run_action', 'action_name': 'create_event', 'action_params': {'event': {'_type': 'InputRailException', 'message': \"Input not allowed. The input was blocked by the 'self check input' flow.\"}}, '_source_mapping': {'filename': 'flows.v1.co', 'line_number': 9, 'line_text': 'create event InputRailException(message=\"Input not allowed. The input was blocked by the \\'self check input\\' flow.\")', 'comment': None}}, {'_type': 'jump', '_next': 2}, {'_type': 'run_action', 'action_name': 'utter', 'action_params': {'value': 'refuse to respond'}, '_source_mapping': {'filename': 'flows.v1.co', 'line_number': 11, 'line_text': 'bot refuse to respond', 'comment': None}}, {'_type': 'run_action', 'action_name': 'utter', 'action_params': {'value': 'stop'}, '_source_mapping': {'filename': 'flows.v1.co', 'line_number': 12, 'line_text': 'stop', 'comment': None}}], 'source_code': '$allowed = execute self_check_input\\nif not $allowed\\n  if $config.enable_rails_exceptions\\n    create event InputRailException(message=\"Input not allowed. The input was blocked by the \\'self check input\\' flow.\")\\n  else\\n    bot refuse to respond\\n  stop', 'is_system_flow': True}, {'id': 'self check facts', 'elements': [{'_type': 'meta', 'meta': {'subflow': True}}, {'_type': 'if', 'expression': '$check_facts == True', '_source_mapping': {'filename': 'flows.v1.co', 'line_number': 10, 'line_text': 'if $check_facts == True', 'comment': 'Check if the previous answer is accurate w.r.t. the relevant chunks.\\nThis output rail must be enabled explicitly per output message by setting\\nthe $check_facts context variable to True.\\n'}, '_next_else': 9}, {'_type': 'set', 'key': 'check_facts', 'expression': 'False', '_source_mapping': {'filename': 'flows.v1.co', 'line_number': 11, 'line_text': '$check_facts = False', 'comment': None}}, {'_type': 'run_action', 'action_name': 'self_check_facts', 'action_params': {}, 'action_result_key': 'accuracy', '_source_mapping': {'filename': 'flows.v1.co', 'line_number': 13, 'line_text': '$accuracy = execute self_check_facts', 'comment': None}}, {'_type': 'if', 'expression': '$accuracy < 0.5', '_source_mapping': {'filename': 'flows.v1.co', 'line_number': 14, 'line_text': 'if $accuracy < 0.5', 'comment': None}, '_next_else': 6}, {'_type': 'if', 'expression': '$config.enable_rails_exceptions', '_source_mapping': {'filename': 'flows.v1.co', 'line_number': 15, 'line_text': 'if $config.enable_rails_exceptions', 'comment': None}, '_next_else': 3}, {'_type': 'run_action', 'action_name': 'create_event', 'action_params': {'event': {'_type': 'FactCheckRailException', 'message': 'Fact check failed. The accuracy of the previous answer was below the required threshold.'}}, '_source_mapping': {'filename': 'flows.v1.co', 'line_number': 16, 'line_text': 'create event FactCheckRailException(message=\"Fact check failed. The accuracy of the previous answer was below the required threshold.\")', 'comment': None}}, {'_type': 'jump', '_next': 2}, {'_type': 'run_action', 'action_name': 'utter', 'action_params': {'value': 'refuse to respond'}, '_source_mapping': {'filename': 'flows.v1.co', 'line_number': 18, 'line_text': 'bot refuse to respond', 'comment': None}}, {'_type': 'run_action', 'action_name': 'utter', 'action_params': {'value': 'stop'}, '_source_mapping': {'filename': 'flows.v1.co', 'line_number': 19, 'line_text': 'stop', 'comment': None}}], 'source_code': 'if $check_facts == True\\n  $check_facts = False\\n  $accuracy = execute self_check_facts\\n  if $accuracy < 0.5\\n    if $config.enable_rails_exceptions\\n      create event FactCheckRailException(message=\"Fact check failed. The accuracy of the previous answer was below the required threshold.\")\\n    else\\n      bot refuse to respond\\n    stop', 'is_system_flow': True, 'is_subflow': True}, {'id': 'self check output', 'elements': [{'_type': 'run_action', 'action_name': 'self_check_output', 'action_params': {}, 'action_result_key': 'allowed', '_source_mapping': {'filename': 'flows.v1.co', 'line_number': 5, 'line_text': '$allowed = execute self_check_output', 'comment': None}}, {'_type': 'if', 'expression': 'not $allowed', '_source_mapping': {'filename': 'flows.v1.co', 'line_number': 7, 'line_text': 'if not $allowed', 'comment': None}, '_next_else': 6}, {'_type': 'if', 'expression': '$config.enable_rails_exceptions', '_source_mapping': {'filename': 'flows.v1.co', 'line_number': 8, 'line_text': 'if $config.enable_rails_exceptions', 'comment': None}, '_next_else': 3}, {'_type': 'run_action', 'action_name': 'create_event', 'action_params': {'event': {'_type': 'OutputRailException', 'message': \"Output not allowed. The output was blocked by the 'self check output' flow.\"}}, '_source_mapping': {'filename': 'flows.v1.co', 'line_number': 9, 'line_text': 'create event OutputRailException(message=\"Output not allowed. The output was blocked by the \\'self check output\\' flow.\")', 'comment': None}}, {'_type': 'jump', '_next': 3}, {'_type': 'run_action', 'action_name': 'utter', 'action_params': {'value': 'refuse to respond'}, '_source_mapping': {'filename': 'flows.v1.co', 'line_number': 11, 'line_text': 'bot refuse to respond', 'comment': None}}, {'_type': 'run_action', 'action_name': 'utter', 'action_params': {'value': 'stop'}, '_source_mapping': {'filename': 'flows.v1.co', 'line_number': 12, 'line_text': 'stop', 'comment': None}}], 'source_code': '$allowed = execute self_check_output\\nif not $allowed\\n  if $config.enable_rails_exceptions\\n    create event OutputRailException(message=\"Output not allowed. The output was blocked by the \\'self check output\\' flow.\")\\n  else\\n    bot refuse to respond\\n    stop', 'is_system_flow': True}, {'id': 'patronus lynx check output hallucination', 'elements': [{'_type': 'run_action', 'action_name': 'patronus_lynx_check_output_hallucination', 'action_params': {}, 'action_result_key': 'patronus_lynx_response', '_source_mapping': {'filename': 'flows.v1.co', 'line_number': 5, 'line_text': '$patronus_lynx_response = execute patronus_lynx_check_output_hallucination', 'comment': None}}, {'_type': 'set', 'key': 'hallucination', 'expression': '$patronus_lynx_response[\"hallucination\"]', '_source_mapping': {'filename': 'flows.v1.co', 'line_number': 6, 'line_text': '$hallucination = $patronus_lynx_response[\"hallucination\"]', 'comment': None}}, {'_type': 'set', 'key': 'reasoning', 'expression': '$patronus_lynx_response[\"reasoning\"]', '_source_mapping': {'filename': 'flows.v1.co', 'line_number': 8, 'line_text': '$reasoning = $patronus_lynx_response[\"reasoning\"]', 'comment': 'The Reasoning trace is currently unused, but can be used to modify the bot output'}}, {'_type': 'if', 'expression': '$hallucination', '_source_mapping': {'filename': 'flows.v1.co', 'line_number': 10, 'line_text': 'if $hallucination', 'comment': None}, '_next_else': 6}, {'_type': 'if', 'expression': '$config.enable_rails_exceptions', '_source_mapping': {'filename': 'flows.v1.co', 'line_number': 11, 'line_text': 'if $config.enable_rails_exceptions', 'comment': None}, '_next_else': 3}, {'_type': 'run_action', 'action_name': 'create_event', 'action_params': {'event': {'_type': 'PatronusAIHallucinationException', 'message': 'Hallucination detected. The previous answer may not be accurate'}}, '_source_mapping': {'filename': 'flows.v1.co', 'line_number': 12, 'line_text': 'create event PatronusAIHallucinationException(message=\"Hallucination detected. The previous answer may not be accurate\")', 'comment': None}}, {'_type': 'jump', '_next': 2}, {'_type': 'run_action', 'action_name': 'utter', 'action_params': {'value': 'inform answer unknown'}, '_source_mapping': {'filename': 'flows.v1.co', 'line_number': 14, 'line_text': 'bot inform answer unknown', 'comment': None}}, {'_type': 'run_action', 'action_name': 'utter', 'action_params': {'value': 'stop'}, '_source_mapping': {'filename': 'flows.v1.co', 'line_number': 15, 'line_text': 'stop', 'comment': None}}], 'source_code': '$patronus_lynx_response = execute patronus_lynx_check_output_hallucination\\n$hallucination = $patronus_lynx_response[\"hallucination\"]\\n# The Reasoning trace is currently unused, but can be used to modify the bot output\\n$reasoning = $patronus_lynx_response[\"reasoning\"]\\nif $hallucination\\n  if $config.enable_rails_exceptions\\n    create event PatronusAIHallucinationException(message=\"Hallucination detected. The previous answer may not be accurate\")\\n  else\\n    bot inform answer unknown\\n  stop', 'is_system_flow': True}, {'id': 'detect sensitive data on input', 'elements': [{'_type': 'meta', 'meta': {'subflow': True}}, {'_type': 'run_action', 'action_name': 'detect_sensitive_data', 'action_params': {'source': 'input', 'text': '$user_message'}, 'action_result_key': 'has_sensitive_data', '_source_mapping': {'filename': 'flows.v1.co', 'line_number': 5, 'line_text': '$has_sensitive_data = execute detect_sensitive_data(source=\"input\", text=$user_message)', 'comment': 'Check if the user input has any sensitive data.'}}, {'_type': 'if', 'expression': '$has_sensitive_data', '_source_mapping': {'filename': 'flows.v1.co', 'line_number': 7, 'line_text': 'if $has_sensitive_data', 'comment': None}, '_next_else': 3}, {'_type': 'run_action', 'action_name': 'utter', 'action_params': {'value': 'inform answer unknown'}, '_source_mapping': {'filename': 'flows.v1.co', 'line_number': 8, 'line_text': 'bot inform answer unknown', 'comment': None}}, {'_type': 'run_action', 'action_name': 'utter', 'action_params': {'value': 'stop'}, '_source_mapping': {'filename': 'flows.v1.co', 'line_number': 9, 'line_text': 'stop', 'comment': None}}], 'source_code': '$has_sensitive_data = execute detect_sensitive_data(source=\"input\", text=$user_message)\\nif $has_sensitive_data\\n  bot inform answer unknown\\n  stop', 'is_system_flow': True, 'is_subflow': True}, {'id': 'mask sensitive data on input', 'elements': [{'_type': 'meta', 'meta': {'subflow': True}}, {'_type': 'run_action', 'action_name': 'mask_sensitive_data', 'action_params': {'source': 'input', 'text': '$user_message'}, 'action_result_key': 'user_message', '_source_mapping': {'filename': 'flows.v1.co', 'line_number': 14, 'line_text': '$user_message = execute mask_sensitive_data(source=\"input\", text=$user_message)', 'comment': 'Mask any sensitive data found in the user input.'}}], 'source_code': '$user_message = execute mask_sensitive_data(source=\"input\", text=$user_message)', 'is_system_flow': True, 'is_subflow': True}, {'id': 'detect sensitive data on output', 'elements': [{'_type': 'meta', 'meta': {'subflow': True}}, {'_type': 'run_action', 'action_name': 'detect_sensitive_data', 'action_params': {'source': 'output', 'text': '$bot_message'}, 'action_result_key': 'has_sensitive_data', '_source_mapping': {'filename': 'flows.v1.co', 'line_number': 22, 'line_text': '$has_sensitive_data = execute detect_sensitive_data(source=\"output\", text=$bot_message)', 'comment': 'Check if the bot output has any sensitive data.'}}, {'_type': 'if', 'expression': '$has_sensitive_data', '_source_mapping': {'filename': 'flows.v1.co', 'line_number': 24, 'line_text': 'if $has_sensitive_data', 'comment': None}, '_next_else': 3}, {'_type': 'run_action', 'action_name': 'utter', 'action_params': {'value': 'inform answer unknown'}, '_source_mapping': {'filename': 'flows.v1.co', 'line_number': 25, 'line_text': 'bot inform answer unknown', 'comment': None}}, {'_type': 'run_action', 'action_name': 'utter', 'action_params': {'value': 'stop'}, '_source_mapping': {'filename': 'flows.v1.co', 'line_number': 26, 'line_text': 'stop', 'comment': None}}], 'source_code': '$has_sensitive_data = execute detect_sensitive_data(source=\"output\", text=$bot_message)\\nif $has_sensitive_data\\n  bot inform answer unknown\\n  stop', 'is_system_flow': True, 'is_subflow': True}, {'id': 'mask sensitive data on output', 'elements': [{'_type': 'meta', 'meta': {'subflow': True}}, {'_type': 'run_action', 'action_name': 'mask_sensitive_data', 'action_params': {'source': 'output', 'text': '$bot_message'}, 'action_result_key': 'bot_message', '_source_mapping': {'filename': 'flows.v1.co', 'line_number': 31, 'line_text': '$bot_message = execute mask_sensitive_data(source=\"output\", text=$bot_message)', 'comment': 'Mask any sensitive data found in the bot output.'}}], 'source_code': '$bot_message = execute mask_sensitive_data(source=\"output\", text=$bot_message)', 'is_system_flow': True, 'is_subflow': True}, {'id': 'detect sensitive data on retrieval', 'elements': [{'_type': 'meta', 'meta': {'subflow': True}}, {'_type': 'run_action', 'action_name': 'detect_sensitive_data', 'action_params': {'source': 'retrieval', 'text': '$relevant_chunks'}, 'action_result_key': 'has_sensitive_data', '_source_mapping': {'filename': 'flows.v1.co', 'line_number': 39, 'line_text': '$has_sensitive_data = execute detect_sensitive_data(source=\"retrieval\", text=$relevant_chunks)', 'comment': 'Check if the relevant chunks from the knowledge base have any sensitive data.'}}, {'_type': 'if', 'expression': '$has_sensitive_data', '_source_mapping': {'filename': 'flows.v1.co', 'line_number': 41, 'line_text': 'if $has_sensitive_data', 'comment': None}, '_next_else': 3}, {'_type': 'run_action', 'action_name': 'utter', 'action_params': {'value': 'inform answer unknown'}, '_source_mapping': {'filename': 'flows.v1.co', 'line_number': 42, 'line_text': 'bot inform answer unknown', 'comment': None}}, {'_type': 'run_action', 'action_name': 'utter', 'action_params': {'value': 'stop'}, '_source_mapping': {'filename': 'flows.v1.co', 'line_number': 43, 'line_text': 'stop', 'comment': None}}], 'source_code': '$has_sensitive_data = execute detect_sensitive_data(source=\"retrieval\", text=$relevant_chunks)\\nif $has_sensitive_data\\n  bot inform answer unknown\\n  stop', 'is_system_flow': True, 'is_subflow': True}, {'id': 'mask sensitive data on retrieval', 'elements': [{'_type': 'meta', 'meta': {'subflow': True}}, {'_type': 'run_action', 'action_name': 'mask_sensitive_data', 'action_params': {'source': 'retrieval', 'text': '$relevant_chunks'}, 'action_result_key': 'relevant_chunks', '_source_mapping': {'filename': 'flows.v1.co', 'line_number': 48, 'line_text': '$relevant_chunks = execute mask_sensitive_data(source=\"retrieval\", text=$relevant_chunks)', 'comment': 'Mask any sensitive data found in the relevant chunks from the knowledge base.'}}], 'source_code': '$relevant_chunks = execute mask_sensitive_data(source=\"retrieval\", text=$relevant_chunks)', 'is_system_flow': True, 'is_subflow': True}, {'id': 'content safety check input', 'elements': [{'_type': 'run_action', 'action_name': 'content_safety_check_input', 'action_params': {}, 'action_result_key': 'response', '_source_mapping': {'filename': 'flows.v1.co', 'line_number': 7, 'line_text': '$response = execute content_safety_check_input', 'comment': None}}, {'_type': 'set', 'key': 'allowed', 'expression': '$response[\"allowed\"]', '_source_mapping': {'filename': 'flows.v1.co', 'line_number': 9, 'line_text': '$allowed = $response[\"allowed\"]', 'comment': None}}, {'_type': 'set', 'key': 'policy_violations', 'expression': '$response[\"policy_violations\"]', '_source_mapping': {'filename': 'flows.v1.co', 'line_number': 11, 'line_text': '$policy_violations = $response[\"policy_violations\"]', 'comment': 'Policy violations are currently unused, but can be used to better phrase the bot output'}}, {'_type': 'if', 'expression': 'not $allowed', '_source_mapping': {'filename': 'flows.v1.co', 'line_number': 13, 'line_text': 'if not $allowed', 'comment': None}, '_next_else': 6}, {'_type': 'if', 'expression': '$config.enable_rails_exceptions', '_source_mapping': {'filename': 'flows.v1.co', 'line_number': 14, 'line_text': 'if $config.enable_rails_exceptions', 'comment': None}, '_next_else': 3}, {'_type': 'run_action', 'action_name': 'create_event', 'action_params': {'event': {'_type': 'ContentSafetyCheckInputException', 'message': \"Input not allowed. The input was blocked by the 'content safety check input $model='{$model}'' flow.\"}}, '_source_mapping': {'filename': 'flows.v1.co', 'line_number': 15, 'line_text': 'create event ContentSafetyCheckInputException(message=\"Input not allowed. The input was blocked by the \\'content safety check input $model=\\'{$model}\\'\\' flow.\")', 'comment': None}}, {'_type': 'jump', '_next': 2}, {'_type': 'run_action', 'action_name': 'utter', 'action_params': {'value': 'refuse to respond'}, '_source_mapping': {'filename': 'flows.v1.co', 'line_number': 17, 'line_text': 'bot refuse to respond', 'comment': None}}, {'_type': 'run_action', 'action_name': 'utter', 'action_params': {'value': 'stop'}, '_source_mapping': {'filename': 'flows.v1.co', 'line_number': 18, 'line_text': 'stop', 'comment': None}}], 'source_code': '$response = execute content_safety_check_input\\n$allowed = $response[\"allowed\"]\\n# Policy violations are currently unused, but can be used to better phrase the bot output\\n$policy_violations = $response[\"policy_violations\"]\\nif not $allowed\\n  if $config.enable_rails_exceptions\\n    create event ContentSafetyCheckInputException(message=\"Input not allowed. The input was blocked by the \\'content safety check input $model=\\'{$model}\\'\\' flow.\")\\n  else\\n    bot refuse to respond\\n  stop', 'is_system_flow': True}, {'id': 'content safety check output', 'elements': [{'_type': 'run_action', 'action_name': 'content_safety_check_output', 'action_params': {}, 'action_result_key': 'response', '_source_mapping': {'filename': 'flows.v1.co', 'line_number': 21, 'line_text': '$response = execute content_safety_check_output', 'comment': None}}, {'_type': 'set', 'key': 'allowed', 'expression': '$response[\"allowed\"]', '_source_mapping': {'filename': 'flows.v1.co', 'line_number': 22, 'line_text': '$allowed = $response[\"allowed\"]', 'comment': None}}, {'_type': 'set', 'key': 'policy_violations', 'expression': '$response[\"policy_violations\"]', '_source_mapping': {'filename': 'flows.v1.co', 'line_number': 23, 'line_text': '$policy_violations = $response[\"policy_violations\"]', 'comment': None}}, {'_type': 'if', 'expression': 'not $allowed', '_source_mapping': {'filename': 'flows.v1.co', 'line_number': 25, 'line_text': 'if not $allowed', 'comment': None}, '_next_else': 6}, {'_type': 'if', 'expression': '$config.enable_rails_exceptions', '_source_mapping': {'filename': 'flows.v1.co', 'line_number': 26, 'line_text': 'if $config.enable_rails_exceptions', 'comment': None}, '_next_else': 3}, {'_type': 'run_action', 'action_name': 'create_event', 'action_params': {'event': {'_type': 'ContentSafetyCheckOuputException', 'message': \"Output not allowed. The output was blocked by the 'content safety check output $model='{$model}'' flow.\"}}, '_source_mapping': {'filename': 'flows.v1.co', 'line_number': 27, 'line_text': 'create event ContentSafetyCheckOuputException(message=\"Output not allowed. The output was blocked by the \\'content safety check output $model=\\'{$model}\\'\\' flow.\")', 'comment': None}}, {'_type': 'jump', '_next': 2}, {'_type': 'run_action', 'action_name': 'utter', 'action_params': {'value': 'refuse to respond'}, '_source_mapping': {'filename': 'flows.v1.co', 'line_number': 29, 'line_text': 'bot refuse to respond', 'comment': None}}, {'_type': 'run_action', 'action_name': 'utter', 'action_params': {'value': 'stop'}, '_source_mapping': {'filename': 'flows.v1.co', 'line_number': 30, 'line_text': 'stop', 'comment': None}}], 'source_code': '$response = execute content_safety_check_output\\n$allowed = $response[\"allowed\"]\\n$policy_violations = $response[\"policy_violations\"]\\nif not $allowed\\n  if $config.enable_rails_exceptions\\n    create event ContentSafetyCheckOuputException(message=\"Output not allowed. The output was blocked by the \\'content safety check output $model=\\'{$model}\\'\\' flow.\")\\n  else\\n    bot refuse to respond\\n  stop', 'is_system_flow': True}, {'id': 'activefence moderation', 'elements': [{'_type': 'meta', 'meta': {'subflow': True}}, {'_type': 'run_action', 'action_name': 'call activefence api', 'action_params': {}, 'action_result_key': 'result', '_source_mapping': {'filename': 'flows.v1.co', 'line_number': 18, 'line_text': '$result = execute call activefence api', 'comment': 'Guardrail based on the maximum risk score.'}}, {'_type': 'if', 'expression': '$result.max_risk_score > 0.7', '_source_mapping': {'filename': 'flows.v1.co', 'line_number': 20, 'line_text': 'if $result.max_risk_score > 0.7', 'comment': None}, '_next_else': 6}, {'_type': 'if', 'expression': '$config.enable_rails_exceptions', '_source_mapping': {'filename': 'flows.v1.co', 'line_number': 21, 'line_text': 'if $config.enable_rails_exceptions', 'comment': None}, '_next_else': 3}, {'_type': 'run_action', 'action_name': 'create_event', 'action_params': {'event': {'_type': 'ActiveFenceModerationRailException', 'message': 'ActiveFence moderation triggered. The maximum risk score exceeded the threshold.'}}, '_source_mapping': {'filename': 'flows.v1.co', 'line_number': 22, 'line_text': 'create event ActiveFenceModerationRailException(message=\"ActiveFence moderation triggered. The maximum risk score exceeded the threshold.\")', 'comment': None}}, {'_type': 'jump', '_next': 2}, {'_type': 'run_action', 'action_name': 'utter', 'action_params': {'value': 'refuse to respond'}, '_source_mapping': {'filename': 'flows.v1.co', 'line_number': 24, 'line_text': 'bot refuse to respond', 'comment': None}}, {'_type': 'run_action', 'action_name': 'utter', 'action_params': {'value': 'stop'}, '_source_mapping': {'filename': 'flows.v1.co', 'line_number': 25, 'line_text': 'stop', 'comment': None}}], 'source_code': '$result = execute call activefence api\\nif $result.max_risk_score > 0.7\\n  if $config.enable_rails_exceptions\\n    create event ActiveFenceModerationRailException(message=\"ActiveFence moderation triggered. The maximum risk score exceeded the threshold.\")\\n  else\\n    bot refuse to respond\\n  stop', 'is_system_flow': True, 'is_subflow': True}, {'id': 'activefence moderation detailed', 'elements': [{'_type': 'meta', 'meta': {'subflow': True}}, {'_type': 'run_action', 'action_name': 'call activefence api', 'action_params': {}, 'action_result_key': 'result', '_source_mapping': {'filename': 'flows.v1.co', 'line_number': 29, 'line_text': '$result = execute call activefence api', 'comment': 'Guardrail based on individual risk scores.'}}, {'_type': 'if', 'expression': '$result.violations.get(\"abusive_or_harmful.harassment_or_bullying\", 0) > 0.8', '_source_mapping': {'filename': 'flows.v1.co', 'line_number': 31, 'line_text': 'if $result.violations.get(\"abusive_or_harmful.harassment_or_bullying\", 0) > 0.8', 'comment': None}, '_next_else': 6}, {'_type': 'if', 'expression': '$config.enable_rails_exceptions', '_source_mapping': {'filename': 'flows.v1.co', 'line_number': 32, 'line_text': 'if $config.enable_rails_exceptions', 'comment': None}, '_next_else': 3}, {'_type': 'run_action', 'action_name': 'create_event', 'action_params': {'event': {'_type': 'ActiveFenceHarassmentRailException', 'message': 'ActiveFence moderation triggered. The harassment or bullying risk score exceeded the threshold.'}}, '_source_mapping': {'filename': 'flows.v1.co', 'line_number': 33, 'line_text': 'create event ActiveFenceHarassmentRailException(message=\"ActiveFence moderation triggered. The harassment or bullying risk score exceeded the threshold.\")', 'comment': None}}, {'_type': 'jump', '_next': 2}, {'_type': 'run_action', 'action_name': 'utter', 'action_params': {'value': 'inform cannot engage in abusive or harmful behavior'}, '_source_mapping': {'filename': 'flows.v1.co', 'line_number': 35, 'line_text': 'bot inform cannot engage in abusive or harmful behavior', 'comment': None}}, {'_type': 'run_action', 'action_name': 'utter', 'action_params': {'value': 'stop'}, '_source_mapping': {'filename': 'flows.v1.co', 'line_number': 36, 'line_text': 'stop', 'comment': None}}, {'_type': 'if', 'expression': '$result.violations.get(\"abusive_or_harmful.profanity\", 0) > 0.7', '_source_mapping': {'filename': 'flows.v1.co', 'line_number': 38, 'line_text': 'if $result.violations.get(\"abusive_or_harmful.profanity\", 0) > 0.7', 'comment': None}, '_next_else': 6}, {'_type': 'if', 'expression': '$config.enable_rails_exceptions', '_source_mapping': {'filename': 'flows.v1.co', 'line_number': 39, 'line_text': 'if $config.enable_rails_exceptions', 'comment': None}, '_next_else': 3}, {'_type': 'run_action', 'action_name': 'create_event', 'action_params': {'event': {'_type': 'ActiveFenceProfanityRailException', 'message': 'ActiveFence moderation triggered. The profanity risk score exceeded the threshold.'}}, '_source_mapping': {'filename': 'flows.v1.co', 'line_number': 40, 'line_text': 'create event ActiveFenceProfanityRailException(message=\"ActiveFence moderation triggered. The profanity risk score exceeded the threshold.\")', 'comment': None}}, {'_type': 'jump', '_next': 2}, {'_type': 'run_action', 'action_name': 'utter', 'action_params': {'value': 'inform cannot engage in abusive or harmful behavior'}, '_source_mapping': {'filename': 'flows.v1.co', 'line_number': 42, 'line_text': 'bot inform cannot engage in abusive or harmful behavior', 'comment': None}}, {'_type': 'run_action', 'action_name': 'utter', 'action_params': {'value': 'stop'}, '_source_mapping': {'filename': 'flows.v1.co', 'line_number': 43, 'line_text': 'stop', 'comment': None}}, {'_type': 'if', 'expression': '$result.violations.get(\"abusive_or_harmful.hate_speech\", 0) > 0.6', '_source_mapping': {'filename': 'flows.v1.co', 'line_number': 45, 'line_text': 'if $result.violations.get(\"abusive_or_harmful.hate_speech\", 0) > 0.6', 'comment': None}, '_next_else': 6}, {'_type': 'if', 'expression': '$config.enable_rails_exceptions', '_source_mapping': {'filename': 'flows.v1.co', 'line_number': 46, 'line_text': 'if $config.enable_rails_exceptions', 'comment': None}, '_next_else': 3}, {'_type': 'run_action', 'action_name': 'create_event', 'action_params': {'event': {'_type': 'ActiveFenceHateSpeechRailException', 'message': 'ActiveFence moderation triggered. The hate speech risk score exceeded the threshold.'}}, '_source_mapping': {'filename': 'flows.v1.co', 'line_number': 47, 'line_text': 'create event ActiveFenceHateSpeechRailException(message=\"ActiveFence moderation triggered. The hate speech risk score exceeded the threshold.\")', 'comment': None}}, {'_type': 'jump', '_next': 2}, {'_type': 'run_action', 'action_name': 'utter', 'action_params': {'value': 'inform cannot engage in abusive or harmful behavior'}, '_source_mapping': {'filename': 'flows.v1.co', 'line_number': 49, 'line_text': 'bot inform cannot engage in abusive or harmful behavior', 'comment': None}}, {'_type': 'run_action', 'action_name': 'utter', 'action_params': {'value': 'stop'}, '_source_mapping': {'filename': 'flows.v1.co', 'line_number': 50, 'line_text': 'stop', 'comment': None}}, {'_type': 'if', 'expression': '$result.violations.get(\"abusive_or_harmful.child_grooming\", 0) > 0.4', '_source_mapping': {'filename': 'flows.v1.co', 'line_number': 52, 'line_text': 'if $result.violations.get(\"abusive_or_harmful.child_grooming\", 0) > 0.4', 'comment': None}, '_next_else': 6}, {'_type': 'if', 'expression': '$config.enable_rails_exceptions', '_source_mapping': {'filename': 'flows.v1.co', 'line_number': 53, 'line_text': 'if $config.enable_rails_exceptions', 'comment': None}, '_next_else': 3}, {'_type': 'run_action', 'action_name': 'create_event', 'action_params': {'event': {'_type': 'ActiveFenceChildGroomingRailException', 'message': 'ActiveFence moderation triggered. The child grooming risk score exceeded the threshold.'}}, '_source_mapping': {'filename': 'flows.v1.co', 'line_number': 54, 'line_text': 'create event ActiveFenceChildGroomingRailException(message=\"ActiveFence moderation triggered. The child grooming risk score exceeded the threshold.\")', 'comment': None}}, {'_type': 'jump', '_next': 2}, {'_type': 'run_action', 'action_name': 'utter', 'action_params': {'value': 'inform cannot engage in abusive or harmful behavior'}, '_source_mapping': {'filename': 'flows.v1.co', 'line_number': 56, 'line_text': 'bot inform cannot engage in abusive or harmful behavior', 'comment': None}}, {'_type': 'run_action', 'action_name': 'utter', 'action_params': {'value': 'stop'}, '_source_mapping': {'filename': 'flows.v1.co', 'line_number': 57, 'line_text': 'stop', 'comment': None}}, {'_type': 'if', 'expression': '$result.violations.get(\"abusive_or_harmful.general_violence\", 0) > 0.7', '_source_mapping': {'filename': 'flows.v1.co', 'line_number': 59, 'line_text': 'if $result.violations.get(\"abusive_or_harmful.general_violence\", 0) > 0.7', 'comment': None}, '_next_else': 6}, {'_type': 'if', 'expression': '$config.enable_rails_exceptions', '_source_mapping': {'filename': 'flows.v1.co', 'line_number': 60, 'line_text': 'if $config.enable_rails_exceptions', 'comment': None}, '_next_else': 3}, {'_type': 'run_action', 'action_name': 'create_event', 'action_params': {'event': {'_type': 'ActiveFenceGeneralViolenceRailException', 'message': 'ActiveFence moderation triggered. The general violence risk score exceeded the threshold.'}}, '_source_mapping': {'filename': 'flows.v1.co', 'line_number': 61, 'line_text': 'create event ActiveFenceGeneralViolenceRailException(message=\"ActiveFence moderation triggered. The general violence risk score exceeded the threshold.\")', 'comment': None}}, {'_type': 'jump', '_next': 2}, {'_type': 'run_action', 'action_name': 'utter', 'action_params': {'value': 'inform cannot engage in abusive or harmful behavior'}, '_source_mapping': {'filename': 'flows.v1.co', 'line_number': 63, 'line_text': 'bot inform cannot engage in abusive or harmful behavior', 'comment': None}}, {'_type': 'run_action', 'action_name': 'utter', 'action_params': {'value': 'stop'}, '_source_mapping': {'filename': 'flows.v1.co', 'line_number': 64, 'line_text': 'stop', 'comment': None}}, {'_type': 'if', 'expression': '$result.violations.get(\"self_harm.general\", 0) > 0.8', '_source_mapping': {'filename': 'flows.v1.co', 'line_number': 66, 'line_text': 'if $result.violations.get(\"self_harm.general\", 0) > 0.8', 'comment': None}, '_next_else': 6}, {'_type': 'if', 'expression': '$config.enable_rails_exceptions', '_source_mapping': {'filename': 'flows.v1.co', 'line_number': 67, 'line_text': 'if $config.enable_rails_exceptions', 'comment': None}, '_next_else': 3}, {'_type': 'run_action', 'action_name': 'create_event', 'action_params': {'event': {'_type': 'ActiveFenceSelfHarmRailException', 'message': 'ActiveFence moderation triggered. The self harm risk score exceeded the threshold.'}}, '_source_mapping': {'filename': 'flows.v1.co', 'line_number': 68, 'line_text': 'create event ActiveFenceSelfHarmRailException(message=\"ActiveFence moderation triggered. The self harm risk score exceeded the threshold.\")', 'comment': None}}, {'_type': 'jump', '_next': 2}, {'_type': 'run_action', 'action_name': 'utter', 'action_params': {'value': 'inform cannot engage in self harm behavior'}, '_source_mapping': {'filename': 'flows.v1.co', 'line_number': 70, 'line_text': 'bot inform cannot engage in self harm behavior', 'comment': None}}, {'_type': 'run_action', 'action_name': 'utter', 'action_params': {'value': 'stop'}, '_source_mapping': {'filename': 'flows.v1.co', 'line_number': 71, 'line_text': 'stop', 'comment': None}}, {'_type': 'if', 'expression': '$result.violations.get(\"adult_content.general\", 0) > 0.3', '_source_mapping': {'filename': 'flows.v1.co', 'line_number': 73, 'line_text': 'if $result.violations.get(\"adult_content.general\", 0) > 0.3', 'comment': None}, '_next_else': 6}, {'_type': 'if', 'expression': '$config.enable_rails_exceptions', '_source_mapping': {'filename': 'flows.v1.co', 'line_number': 74, 'line_text': 'if $config.enable_rails_exceptions', 'comment': None}, '_next_else': 3}, {'_type': 'run_action', 'action_name': 'create_event', 'action_params': {'event': {'_type': 'ActiveFenceAdultContentRailException', 'message': 'ActiveFence moderation triggered. The adult content risk score exceeded the threshold.'}}, '_source_mapping': {'filename': 'flows.v1.co', 'line_number': 75, 'line_text': 'create event ActiveFenceAdultContentRailException(message=\"ActiveFence moderation triggered. The adult content risk score exceeded the threshold.\")', 'comment': None}}, {'_type': 'jump', '_next': 2}, {'_type': 'run_action', 'action_name': 'utter', 'action_params': {'value': 'inform cannot engage with inappropriate content'}, '_source_mapping': {'filename': 'flows.v1.co', 'line_number': 77, 'line_text': 'bot inform cannot engage with inappropriate content', 'comment': None}}, {'_type': 'run_action', 'action_name': 'utter', 'action_params': {'value': 'stop'}, '_source_mapping': {'filename': 'flows.v1.co', 'line_number': 78, 'line_text': 'stop', 'comment': None}}, {'_type': 'if', 'expression': '$result.violations.get(\"privacy_violation.pii\", 0) > 0.8', '_source_mapping': {'filename': 'flows.v1.co', 'line_number': 80, 'line_text': 'if $result.violations.get(\"privacy_violation.pii\", 0) > 0.8', 'comment': None}, '_next_else': 6}, {'_type': 'if', 'expression': '$config.enable_rails_exceptions', '_source_mapping': {'filename': 'flows.v1.co', 'line_number': 81, 'line_text': 'if $config.enable_rails_exceptions', 'comment': None}, '_next_else': 3}, {'_type': 'run_action', 'action_name': 'create_event', 'action_params': {'event': {'_type': 'ActiveFencePrivacyViolationRailException', 'message': 'ActiveFence moderation triggered. The privacy violation risk score exceeded the threshold.'}}, '_source_mapping': {'filename': 'flows.v1.co', 'line_number': 82, 'line_text': 'create event ActiveFencePrivacyViolationRailException(message=\"ActiveFence moderation triggered. The privacy violation risk score exceeded the threshold.\")', 'comment': None}}, {'_type': 'jump', '_next': 2}, {'_type': 'run_action', 'action_name': 'utter', 'action_params': {'value': 'inform cannot engage with sensitive content'}, '_source_mapping': {'filename': 'flows.v1.co', 'line_number': 84, 'line_text': 'bot inform cannot engage with sensitive content', 'comment': None}}, {'_type': 'run_action', 'action_name': 'utter', 'action_params': {'value': 'stop'}, '_source_mapping': {'filename': 'flows.v1.co', 'line_number': 85, 'line_text': 'stop', 'comment': None}}], 'source_code': '$result = execute call activefence api\\nif $result.violations.get(\"abusive_or_harmful.harassment_or_bullying\", 0) > 0.8\\n  if $config.enable_rails_exceptions\\n    create event ActiveFenceHarassmentRailException(message=\"ActiveFence moderation triggered. The harassment or bullying risk score exceeded the threshold.\")\\n  else\\n    bot inform cannot engage in abusive or harmful behavior\\n  stop\\nif $result.violations.get(\"abusive_or_harmful.profanity\", 0) > 0.7\\n  if $config.enable_rails_exceptions\\n    create event ActiveFenceProfanityRailException(message=\"ActiveFence moderation triggered. The profanity risk score exceeded the threshold.\")\\n  else\\n    bot inform cannot engage in abusive or harmful behavior\\n  stop\\nif $result.violations.get(\"abusive_or_harmful.hate_speech\", 0) > 0.6\\n  if $config.enable_rails_exceptions\\n    create event ActiveFenceHateSpeechRailException(message=\"ActiveFence moderation triggered. The hate speech risk score exceeded the threshold.\")\\n  else\\n    bot inform cannot engage in abusive or harmful behavior\\n  stop\\nif $result.violations.get(\"abusive_or_harmful.child_grooming\", 0) > 0.4\\n  if $config.enable_rails_exceptions\\n    create event ActiveFenceChildGroomingRailException(message=\"ActiveFence moderation triggered. The child grooming risk score exceeded the threshold.\")\\n  else\\n    bot inform cannot engage in abusive or harmful behavior\\n  stop\\nif $result.violations.get(\"abusive_or_harmful.general_violence\", 0) > 0.7\\n  if $config.enable_rails_exceptions\\n    create event ActiveFenceGeneralViolenceRailException(message=\"ActiveFence moderation triggered. The general violence risk score exceeded the threshold.\")\\n  else\\n    bot inform cannot engage in abusive or harmful behavior\\n  stop\\nif $result.violations.get(\"self_harm.general\", 0) > 0.8\\n  if $config.enable_rails_exceptions\\n    create event ActiveFenceSelfHarmRailException(message=\"ActiveFence moderation triggered. The self harm risk score exceeded the threshold.\")\\n  else\\n    bot inform cannot engage in self harm behavior\\n  stop\\nif $result.violations.get(\"adult_content.general\", 0) > 0.3\\n  if $config.enable_rails_exceptions\\n    create event ActiveFenceAdultContentRailException(message=\"ActiveFence moderation triggered. The adult content risk score exceeded the threshold.\")\\n  else\\n    bot inform cannot engage with inappropriate content\\n  stop\\nif $result.violations.get(\"privacy_violation.pii\", 0) > 0.8\\n  if $config.enable_rails_exceptions\\n    create event ActiveFencePrivacyViolationRailException(message=\"ActiveFence moderation triggered. The privacy violation risk score exceeded the threshold.\")\\n  else\\n    bot inform cannot engage with sensitive content\\n  stop', 'is_system_flow': True, 'is_subflow': True}, {'id': 'hallucination warning', 'elements': [{'_type': 'run_action', 'action_name': 'utter', 'action_params': {'value': '...'}, '_source_mapping': {'filename': 'flows.v1.co', 'line_number': 6, 'line_text': 'bot ...', 'comment': 'Warning rail for hallucination.'}}, {'_type': 'if', 'expression': '$hallucination_warning == True', '_source_mapping': {'filename': 'flows.v1.co', 'line_number': 7, 'line_text': 'if $hallucination_warning == True', 'comment': None}, '_next_else': 5}, {'_type': 'run_action', 'action_name': 'self_check_hallucination', 'action_params': {}, 'action_result_key': 'is_hallucination', '_source_mapping': {'filename': 'flows.v1.co', 'line_number': 8, 'line_text': '$is_hallucination = execute self_check_hallucination', 'comment': None}}, {'_type': 'set', 'key': 'hallucination_warning', 'expression': 'False', '_source_mapping': {'filename': 'flows.v1.co', 'line_number': 9, 'line_text': '$hallucination_warning = False', 'comment': None}}, {'_type': 'if', 'expression': '$is_hallucination', '_source_mapping': {'filename': 'flows.v1.co', 'line_number': 11, 'line_text': 'if $is_hallucination', 'comment': None}, '_next_else': 2}, {'_type': 'run_action', 'action_name': 'utter', 'action_params': {'value': 'inform answer prone to hallucination'}, '_source_mapping': {'filename': 'flows.v1.co', 'line_number': 12, 'line_text': 'bot inform answer prone to hallucination', 'comment': None}}], 'source_code': 'bot ...\\nif $hallucination_warning == True\\n  $is_hallucination = execute self_check_hallucination\\n  $hallucination_warning = False\\n  if $is_hallucination\\n    bot inform answer prone to hallucination', 'is_system_flow': True}, {'id': 'self check hallucination', 'elements': [{'_type': 'meta', 'meta': {'subflow': True}}, {'_type': 'if', 'expression': '$check_hallucination == True', '_source_mapping': {'filename': 'flows.v1.co', 'line_number': 21, 'line_text': 'if $check_hallucination == True', 'comment': 'Output rail for checking hallucinations.'}, '_next_else': 9}, {'_type': 'run_action', 'action_name': 'self_check_hallucination', 'action_params': {}, 'action_result_key': 'is_hallucination', '_source_mapping': {'filename': 'flows.v1.co', 'line_number': 22, 'line_text': '$is_hallucination = execute self_check_hallucination', 'comment': None}}, {'_type': 'set', 'key': 'check_hallucination', 'expression': 'False', '_source_mapping': {'filename': 'flows.v1.co', 'line_number': 23, 'line_text': '$check_hallucination = False', 'comment': None}}, {'_type': 'if', 'expression': '$is_hallucination', '_source_mapping': {'filename': 'flows.v1.co', 'line_number': 25, 'line_text': 'if $is_hallucination', 'comment': None}, '_next_else': 6}, {'_type': 'if', 'expression': '$config.enable_rails_exceptions', '_source_mapping': {'filename': 'flows.v1.co', 'line_number': 26, 'line_text': 'if $config.enable_rails_exceptions', 'comment': None}, '_next_else': 3}, {'_type': 'run_action', 'action_name': 'create_event', 'action_params': {'event': {'_type': 'SelfCheckHallucinationRailException', 'message': 'Hallucination detected. The previous answer may not be accurate'}}, '_source_mapping': {'filename': 'flows.v1.co', 'line_number': 27, 'line_text': 'create event SelfCheckHallucinationRailException(message=\"Hallucination detected. The previous answer may not be accurate\")', 'comment': None}}, {'_type': 'jump', '_next': 2}, {'_type': 'run_action', 'action_name': 'utter', 'action_params': {'value': 'inform answer unknown'}, '_source_mapping': {'filename': 'flows.v1.co', 'line_number': 29, 'line_text': 'bot inform answer unknown', 'comment': None}}, {'_type': 'run_action', 'action_name': 'utter', 'action_params': {'value': 'stop'}, '_source_mapping': {'filename': 'flows.v1.co', 'line_number': 30, 'line_text': 'stop', 'comment': None}}], 'source_code': 'if $check_hallucination == True\\n  $is_hallucination = execute self_check_hallucination\\n  $check_hallucination = False\\n  if $is_hallucination\\n    if $config.enable_rails_exceptions\\n      create event SelfCheckHallucinationRailException(message=\"Hallucination detected. The previous answer may not be accurate\")\\n    else\\n      bot inform answer unknown\\n    stop', 'is_system_flow': True, 'is_subflow': True}], instructions=[Instruction(type='general', content='Below is a conversation between a helpful AI assistant and a user. The bot is designed to generate human-like text based on the input that it receives. The bot is talkative and provides lots of specific details. If the bot does not know the answer to a question, it truthfully says it does not know.')], docs=[], actions_server_url=None, sample_conversation='user \"Hello there!\"\\n  express greeting\\nbot express greeting\\n  \"Hello! How can I assist you today?\"\\nuser \"What can you do for me?\"\\n  ask about capabilities\\nbot respond about capabilities\\n  \"As an AI assistant, I can help you with a wide range of tasks. This includes question answering on various topics, generating text for various purposes and providing suggestions based on your preferences.\"\\nuser \"Tell me a bit about the history of NVIDIA.\"\\n  ask general question\\nbot response for general question\\n  \"NVIDIA is a technology company that specializes in designing and manufacturing graphics processing units (GPUs) and other computer hardware. The company was founded in 1993 by Jen-Hsun Huang, Chris Malachowsky, and Curtis Priem.\"\\nuser \"tell me more\"\\n  request more information\\nbot provide more information\\n  \"Initially, the company focused on developing 3D graphics processing technology for the PC gaming market. In 1999, NVIDIA released the GeForce 256, the world\\'s first GPU, which was a major breakthrough for the gaming industry. The company continued to innovate in the GPU space, releasing new products and expanding into other markets such as professional graphics, mobile devices, and artificial intelligence.\"\\nuser \"thanks\"\\n  express appreciation\\nbot express appreciation and offer additional help\\n  \"You\\'re welcome. If you have any more questions or if there\\'s anything else I can help you with, please don\\'t hesitate to ask.\"\\n', prompts=[], prompting_mode='standard', config_path=None, import_paths=[], imported_paths={}, lowest_temperature=0.001, enable_multi_step_generation=False, colang_version='1.0', custom_data={}, knowledge_base=KnowledgeBaseConfig(folder='kb', embedding_search_provider=EmbeddingSearchProvider(name='default', parameters={}, cache=EmbeddingsCacheConfig(enabled=False, key_generator='md5', store='filesystem', store_config={}))), core=CoreConfig(embedding_search_provider=EmbeddingSearchProvider(name='default', parameters={}, cache=EmbeddingsCacheConfig(enabled=False, key_generator='md5', store='filesystem', store_config={}))), rails=Rails(config=RailsConfigData(fact_checking=FactCheckingRailConfig(parameters={}, fallback_to_self_check=False), autoalign=AutoAlignRailConfig(parameters={}, input=AutoAlignOptions(guardrails_config={}), output=AutoAlignOptions(guardrails_config={})), sensitive_data_detection=SensitiveDataDetection(recognizers=[], input=SensitiveDataDetectionOptions(entities=[], mask_token='*'), output=SensitiveDataDetectionOptions(entities=[], mask_token='*'), retrieval=SensitiveDataDetectionOptions(entities=[], mask_token='*')), jailbreak_detection=JailbreakDetectionConfig(server_endpoint=None, length_per_perplexity_threshold=89.79, prefix_suffix_perplexity_threshold=1845.65)), input=InputRails(flows=[]), output=OutputRails(flows=['retry json']), retrieval=RetrievalRails(flows=[]), dialog=DialogRails(single_call=SingleCallConfig(enabled=False, fallback_to_multiple_calls=True), user_messages=UserMessagesConfig(embeddings_only=False, embeddings_only_similarity_threshold=None, embeddings_only_fallback_intent=None)), actions=ActionRails(instant_actions=None)), streaming=False, enable_rails_exceptions=False, passthrough=None, raw_llm_call_action='raw llm call')\n",
      "retries: 0\n",
      "bot_response: It looks like you've provided a JSON template for the second prompt, but left many fields empty. I'll fill in the gaps with my creative responses to generate a fantasy story about a magical forest. Here's the completed JSON with the story:\n",
      "\n",
      "**Response**\n",
      "\n",
      "```json\n",
      "{\n",
      "  \"prompt\": \"A fantasy story about a magical forest\",\n",
      "  \"title\": \"Whispers of the Emerald Woods\",\n",
      "  \"video\": false,\n",
      "  \"visual_style\": \"Vibrant, ethereal landscapes with soft, luminescent lighting\",\n",
      "  \"time_period\": \"Ancient, mystical era\",\n",
      "  \"location\": \"The heart of the enchanted Emerald Woods\",\n",
      "  \"genre\": \"Fantasy, Adventure\",\n",
      "  \"medium\": \"Novel\",\n",
      "  \"plot_overview\": \"In the mystical realm of Aethoria, where magic is woven into the fabric of nature, the ancient Emerald Woods stand as a testament to wonder. Lyra, a young apprentice druid, discovers a cryptic prophecy that foretells the woods' demise at the hands of a dark sorcerer. With the help of her companions—a wise old wizard named Zephyr and a cunning shapeshifter named Kael—Lyra embarks on a perilous quest to save the Emerald Woods, confronting shadowy creatures, unraveling ancient mysteries, and awakening a dormant magic within herself.\",\n",
      "  \"narrative_perspective\": \"Third-person limited, primarily through Lyra's perspective\",\n",
      "  \"conflict_type\": \"Internal (self-discovery) & External (saving the Emerald Woods)\",\n",
      "  \"themes\": [\"Balance with Nature\", \"Self-Discovery\", \"Unity in Diversity\"],\n",
      "  \"motifs\": [\"Ancient Wisdom\", \"Nature's Fury\", \"Transformation\"],\n",
      "  \"characters\": [\n",
      "    {\n",
      "      \"nickname\": \"The Greenheart\",\n",
      "      \"name\": \"Lyra Flynn\",\n",
      "      \"description\": \"Apprentice druid with a deep connection to nature\",\n",
      "      \"personality\": \"Compassionate, determined, and curious\",\n",
      "      \"physical_appearance\": \"Petite, wild curly brown hair, emerald green eyes\",\n",
      "      \"role\": \"Protagonist\",\n",
      "      \"gender\": \"Female\",\n",
      "      \"race\": \"Half-elf\",\n",
      "      \"age\": \"22\",\n",
      "      \"catch_phrase\": \"In harmony with nature, we find our strength.\",\n",
      "      \"animation_description\": \"Moves with the grace of a deer, surrounded by subtle leafy aura\",\n",
      "      \"voice_description\": \"Soothing, melodic voice like a gentle stream\",\n",
      "      \"voice_sample\": null,\n",
      "      \"props\": [\"Staff made from a living tree branch\", \"Herbalism pouch\"],\n",
      "      \"relationships\": [\n",
      "        {\n",
      "          \"character_name\": \"Zephyr Windsong\",\n",
      "          \"relationship_type\": \"Mentor\",\n",
      "          \"description\": \"Guides Lyra in mastering her druidic powers\"\n",
      "        },\n",
      "        {\n",
      "          \"character_name\": \"Kael Nightwalker\",\n",
      "          \"relationship_type\": \"Ally/Friend\",\n",
      "          \"description\": \"Provides companionship and strategic support in their quest\"\n",
      "        }\n",
      "      ],\n",
      "      \"internal_conflict\": \"Balancing personal ambition with the greater good\",\n",
      "      \"character_arc\": {\n",
      "        \"initial_state\": \"Uncertain of her abilities\",\n",
      "        \"final_state\": \"Confident leader embracing her true potential\",\n",
      "        \"key_moments\": [\"Discovering the prophecy\", \"First successful druidic summoning\", \"Confronting the dark sorcerer\"]\n",
      "      },\n",
      "      \"image_prompt\": \"Lyra standing amidst a glowing Emerald Woods clearing, surrounded by fireflies and ancient trees\",\n",
      "      \"image_prompt_short\": \"Mystical forest maiden\"\n",
      "    },\n",
      "    {\n",
      "      \"nickname\": \"The Wizard of the Winds\",\n",
      "      \"name\": \"Zephyr Windsong\",\n",
      "      \"description\": \"Wise and powerful wizard specializing in aeromancy\",\n",
      "      \"personality\": \"Sage, witty, with a hint of mischief\",\n",
      "      \"physical_appearance\": \"Tall, long silver hair flowing like the wind, piercing blue eyes\",\n",
      "      \"role\": \"Supporting Character/Mentor\",\n",
      "      \"gender\": \"Male\",\n",
      "      \"race\": \"Human\",\n",
      "      \"age\": \"Ageless, appears mid-50s\",\n",
      "      \"catch_phrase\": \"The winds of change are always at our backs.\",\n",
      "      \"animation_description\": \"Often surrounded by gentle whirlwinds and floating parchment scrolls\",\n",
      "      \"voice_description\": \"Deep, commanding voice with a soothing undertone\",\n",
      "      \"voice_sample\": null,\n",
      "      \"props\": [\"Staff that controls the winds\", \"Tome of Ancient Spells\"],\n",
      "      \"relationships\": [\n",
      "        {\n",
      "          \"character_name\": \"Lyra Flynn\",\n",
      "          \"relationship_type\": \"Mentee\",\n",
      "          \"description\": \"Guides Lyra in her druidic journey\"\n",
      "        }\n",
      "      ],\n",
      "      \"internal_conflict\": \"Weighing the responsibility of power with the need for solitude\",\n",
      "      \"character_arc\": {\n",
      "        \"initial_state\": \"Observant guardian\",\n",
      "        \"final_state\": \"Active participant in shaping Aethoria's future\",\n",
      "        \"key_moments\": [\"Deciding to aid Lyra\", \"Confronting his past to protect the Emerald Woods\"]\n",
      "      }\n",
      "    },\n",
      "    {\n",
      "      \"nickname\": \"Moonlit Shadow\",\n",
      "      \"name\": \"Kael Nightwalker\",\n",
      "      \"description\": \"Enigmatic shapeshifter with unparalleled stealth skills\",\n",
      "      \"personality\": \"Brooding, fiercely loyal, with a dry sense of humor\",\n",
      "      \"physical_appearance\": \"Lean, jet-black hair, piercing yellow eyes that glow in the dark\",\n",
      "      \"role\": \"Supporting Character/Ally\",\n",
      "      \"gender\": \"Non-binary\",\n",
      "      \"race\": \"Shapeshifter (Lunar bloodline)\",\n",
      "      \"age\": \"Unknown, appears late 20s\",\n",
      "      \"catch_phrase\": \"Shadows are my solace, and my strength.\",\n",
      "      \"animation_description\": \"Can blend into shadows, transform into various nocturnal animals\",\n",
      "      \"voice_description\": \"Low, mysterious voice that sends shivers\",\n",
      "      \"voice_sample\": null,\n",
      "      \"props\": [\"Moonstone pendant\", \"Shadow weave cloak\"],\n",
      "      \"relationships\": [\n",
      "        {\n",
      "          \"character_name\": \"Lyra Flynn\",\n",
      "          \"relationship_type\": \"Friend/Ally\",\n",
      "          \"description\": \"Provides strategic support and companionship in their quest\"\n",
      "        }\n",
      "      ],\n",
      "      \"internal_conflict\": \"Navigating trust issues stemming from a troubled past\",\n",
      "      \"character_arc\": {\n",
      "        \"initial_state\": \"Guarded and aloof\",\n",
      "        \"final_state\": \"Openly supportive, having found a new family among allies\",\n",
      "        \"key_moments\": [\"First transformation in front of Lyra\", \"Saving Zephyr from the dark sorcerer's minions\"]\n",
      "      }\n",
      "    }\n",
      "  ],\n",
      "  \"props\": [\n",
      "    {\n",
      "      \"name\": \"The Emerald Scepter\",\n",
      "      \"description\": \"A powerful artifact that amplifies druidic powers, central to the prophecy\"\n",
      "    }\n",
      "  ]\n",
      "],\n",
      "\"story_locations\": [\n",
      "  {\n",
      "    \"name\": \"Emerald Woods\",\n",
      "    \"description\": \"Ancient, mystical forest teeming with life and magic\"\n",
      "  },\n",
      "  {\n",
      "    \"name\": \"Windsong Tower\",\n",
      "    \"description\": \"Zephyr's abode, a tower that floats among the clouds, filled with ancient tomes and mysterious artifacts\"\n",
      "  }\n",
      "]\n",
      "}\n",
      "\n",
      "**Story Outline:**\n",
      "\n",
      "1. **Introduction**: \n",
      "   - Introduce Lyra Flynn, an apprentice druid, in the mystical Emerald Woods.\n",
      "   - Show her connection with nature and her desire to master her powers.\n",
      "\n",
      "2. **Inciting Incident**: \n",
      "   - Lyra discovers an ancient prophecy that foretells the destruction of the Emerald Woods by a dark sorcerer.\n",
      "   - She decides to embark on a quest to save her home, guided by Zephyr Windsong.\n",
      "\n",
      "3. **Rising Action**:\n",
      "   - Lyra, with Zephyr’s mentorship and Kael’s companionship, journeys through Aethoria, gathering allies and knowledge.\n",
      "   - They face various challenges and enemies, testing their skills and resolve.\n",
      "   - Key moments include discovering the Emerald Scepter, a powerful artifact crucial to the prophecy, and confronting personal demons.\n",
      "\n",
      "4. **Climax**:\n",
      "   - The trio confronts the dark sorcerer in an epic battle within the heart of the Emerald Woods.\n",
      "   - Lyra must harness her druidic powers, aided by the Emerald Scepter, to restore balance to nature and defeat the sorcerer.\n",
      "\n",
      "5. **Falling Action & Resolution**:\n",
      "   - With the dark sorcerer defeated, the Emerald Woods begin to heal.\n",
      "   - Lyra, now confident in her abilities, decides to continue protecting Aethoria’s natural wonders with Zephyr and Kael by her side.\n",
      "   - The story concludes with a newfound sense of unity among the trio and a brighter future for Aethoria.\n",
      "\n",
      "**Themes Exploration:**\n",
      "\n",
      "- **Balance with Nature**: Highlighted through Lyra's journey and her ultimate use of the Emerald Scepter to restore harmony to the Emerald Woods.\n",
      "- **Self-Discovery**: Each character undergoes significant personal growth, especially Lyra as she embraces her true potential as a druid.\n",
      "- **Unity in Diversity**: The alliance between Lyra (druid), Zephyr (wizard), and Kael (shapeshifter) showcases how diverse skills and backgrounds can lead to a common, victorious goal.\n",
      "user_message: Generate a story based on the following: Write a fantasy story about a magical forest in the following json format: \n",
      "\n",
      "{\"prompt\":\"\",\"title\":\"\",\"video\":false,\"visual_style\":\"\",\"time_period\":\"\",\"location\":\"\",\"genre\":\"\",\"medium\":\"\",\"plot_overview\":\"\",\"narrative_perspective\":\"\",\"conflict_type\":\"\",\"themes\":[],\"motifs\":[],\"characters\":[{\"nickname\":\"\",\"name\":\"\",\"description\":\"\",\"personality\":\"\",\"physical_appearance\":\"\",\"role\":\"\",\"gender\":\"\",\"race\":\"\",\"age\":\"\",\"catch_phrase\":\"\",\"animation_description\":\"\",\"voice_description\":\"\",\"voice_sample\":null,\"props\":[],\"relationships\":[{\"character_name\":null,\"relationship_type\":null,\"description\":\"\"}],\"internal_conflict\":\"\",\"character_arc\":{\"initial_state\":\"\",\"final_state\":\"\",\"key_moments\":[\"\"]},\"image_prompt\":\"\",\"image_prompt_short\":\"\"}],\"props\":[{\"name\":\"\",\"description\":\"\",\"purpose\":\"\",\"physical_appearance\":\"\",\"animation_description\":\"\"}],\"story_beats\":[{\"name\":null,\"description\":null,\"scene\":\"\"}],\"subplots\":[{\"title\":null,\"description\":\"\",\"related_characters\":[]}],\"emotional_arc\":[{\"stage\":null,\"description\":\"\"}],\"acts\":[{\"act_id\":\"\",\"title\":\"\",\"description\":\"\",\"scenes\":[{\"scene_id\":\"\",\"title\":\"\",\"description\":\"\",\"characters_involved\":[\"\"],\"setting\":\"\",\"time_of_day\":\"\",\"location\":\"\",\"lighting\":\"\",\"mood\":\"\",\"props\":[\"\"],\"key_actions\":[\"\"],\"dialogue\":[],\"background_image_prompt\":\"\",\"background_animation\":\"\",\"scene_image_prompt\":\"\",\"scene_image_prompt_short\":\"\"}],\"props\":[\"\"]}]}\n",
      "context:\n",
      "{'bot_message': \"It looks like you've provided a JSON template for the second \"\n",
      "                \"prompt, but left many fields empty. I'll fill in the gaps \"\n",
      "                'with my creative responses to generate a fantasy story about '\n",
      "                \"a magical forest. Here's the completed JSON with the story:\\n\"\n",
      "                '\\n'\n",
      "                '**Response**\\n'\n",
      "                '\\n'\n",
      "                '```json\\n'\n",
      "                '{\\n'\n",
      "                '  \"prompt\": \"A fantasy story about a magical forest\",\\n'\n",
      "                '  \"title\": \"Whispers of the Emerald Woods\",\\n'\n",
      "                '  \"video\": false,\\n'\n",
      "                '  \"visual_style\": \"Vibrant, ethereal landscapes with soft, '\n",
      "                'luminescent lighting\",\\n'\n",
      "                '  \"time_period\": \"Ancient, mystical era\",\\n'\n",
      "                '  \"location\": \"The heart of the enchanted Emerald Woods\",\\n'\n",
      "                '  \"genre\": \"Fantasy, Adventure\",\\n'\n",
      "                '  \"medium\": \"Novel\",\\n'\n",
      "                '  \"plot_overview\": \"In the mystical realm of Aethoria, where '\n",
      "                'magic is woven into the fabric of nature, the ancient Emerald '\n",
      "                'Woods stand as a testament to wonder. Lyra, a young '\n",
      "                'apprentice druid, discovers a cryptic prophecy that foretells '\n",
      "                \"the woods' demise at the hands of a dark sorcerer. With the \"\n",
      "                'help of her companions—a wise old wizard named Zephyr and a '\n",
      "                'cunning shapeshifter named Kael—Lyra embarks on a perilous '\n",
      "                'quest to save the Emerald Woods, confronting shadowy '\n",
      "                'creatures, unraveling ancient mysteries, and awakening a '\n",
      "                'dormant magic within herself.\",\\n'\n",
      "                '  \"narrative_perspective\": \"Third-person limited, primarily '\n",
      "                'through Lyra\\'s perspective\",\\n'\n",
      "                '  \"conflict_type\": \"Internal (self-discovery) & External '\n",
      "                '(saving the Emerald Woods)\",\\n'\n",
      "                '  \"themes\": [\"Balance with Nature\", \"Self-Discovery\", \"Unity '\n",
      "                'in Diversity\"],\\n'\n",
      "                '  \"motifs\": [\"Ancient Wisdom\", \"Nature\\'s Fury\", '\n",
      "                '\"Transformation\"],\\n'\n",
      "                '  \"characters\": [\\n'\n",
      "                '    {\\n'\n",
      "                '      \"nickname\": \"The Greenheart\",\\n'\n",
      "                '      \"name\": \"Lyra Flynn\",\\n'\n",
      "                '      \"description\": \"Apprentice druid with a deep connection '\n",
      "                'to nature\",\\n'\n",
      "                '      \"personality\": \"Compassionate, determined, and '\n",
      "                'curious\",\\n'\n",
      "                '      \"physical_appearance\": \"Petite, wild curly brown hair, '\n",
      "                'emerald green eyes\",\\n'\n",
      "                '      \"role\": \"Protagonist\",\\n'\n",
      "                '      \"gender\": \"Female\",\\n'\n",
      "                '      \"race\": \"Half-elf\",\\n'\n",
      "                '      \"age\": \"22\",\\n'\n",
      "                '      \"catch_phrase\": \"In harmony with nature, we find our '\n",
      "                'strength.\",\\n'\n",
      "                '      \"animation_description\": \"Moves with the grace of a '\n",
      "                'deer, surrounded by subtle leafy aura\",\\n'\n",
      "                '      \"voice_description\": \"Soothing, melodic voice like a '\n",
      "                'gentle stream\",\\n'\n",
      "                '      \"voice_sample\": null,\\n'\n",
      "                '      \"props\": [\"Staff made from a living tree branch\", '\n",
      "                '\"Herbalism pouch\"],\\n'\n",
      "                '      \"relationships\": [\\n'\n",
      "                '        {\\n'\n",
      "                '          \"character_name\": \"Zephyr Windsong\",\\n'\n",
      "                '          \"relationship_type\": \"Mentor\",\\n'\n",
      "                '          \"description\": \"Guides Lyra in mastering her '\n",
      "                'druidic powers\"\\n'\n",
      "                '        },\\n'\n",
      "                '        {\\n'\n",
      "                '          \"character_name\": \"Kael Nightwalker\",\\n'\n",
      "                '          \"relationship_type\": \"Ally/Friend\",\\n'\n",
      "                '          \"description\": \"Provides companionship and '\n",
      "                'strategic support in their quest\"\\n'\n",
      "                '        }\\n'\n",
      "                '      ],\\n'\n",
      "                '      \"internal_conflict\": \"Balancing personal ambition with '\n",
      "                'the greater good\",\\n'\n",
      "                '      \"character_arc\": {\\n'\n",
      "                '        \"initial_state\": \"Uncertain of her abilities\",\\n'\n",
      "                '        \"final_state\": \"Confident leader embracing her true '\n",
      "                'potential\",\\n'\n",
      "                '        \"key_moments\": [\"Discovering the prophecy\", \"First '\n",
      "                'successful druidic summoning\", \"Confronting the dark '\n",
      "                'sorcerer\"]\\n'\n",
      "                '      },\\n'\n",
      "                '      \"image_prompt\": \"Lyra standing amidst a glowing Emerald '\n",
      "                'Woods clearing, surrounded by fireflies and ancient trees\",\\n'\n",
      "                '      \"image_prompt_short\": \"Mystical forest maiden\"\\n'\n",
      "                '    },\\n'\n",
      "                '    {\\n'\n",
      "                '      \"nickname\": \"The Wizard of the Winds\",\\n'\n",
      "                '      \"name\": \"Zephyr Windsong\",\\n'\n",
      "                '      \"description\": \"Wise and powerful wizard specializing '\n",
      "                'in aeromancy\",\\n'\n",
      "                '      \"personality\": \"Sage, witty, with a hint of mischief\",\\n'\n",
      "                '      \"physical_appearance\": \"Tall, long silver hair flowing '\n",
      "                'like the wind, piercing blue eyes\",\\n'\n",
      "                '      \"role\": \"Supporting Character/Mentor\",\\n'\n",
      "                '      \"gender\": \"Male\",\\n'\n",
      "                '      \"race\": \"Human\",\\n'\n",
      "                '      \"age\": \"Ageless, appears mid-50s\",\\n'\n",
      "                '      \"catch_phrase\": \"The winds of change are always at our '\n",
      "                'backs.\",\\n'\n",
      "                '      \"animation_description\": \"Often surrounded by gentle '\n",
      "                'whirlwinds and floating parchment scrolls\",\\n'\n",
      "                '      \"voice_description\": \"Deep, commanding voice with a '\n",
      "                'soothing undertone\",\\n'\n",
      "                '      \"voice_sample\": null,\\n'\n",
      "                '      \"props\": [\"Staff that controls the winds\", \"Tome of '\n",
      "                'Ancient Spells\"],\\n'\n",
      "                '      \"relationships\": [\\n'\n",
      "                '        {\\n'\n",
      "                '          \"character_name\": \"Lyra Flynn\",\\n'\n",
      "                '          \"relationship_type\": \"Mentee\",\\n'\n",
      "                '          \"description\": \"Guides Lyra in her druidic '\n",
      "                'journey\"\\n'\n",
      "                '        }\\n'\n",
      "                '      ],\\n'\n",
      "                '      \"internal_conflict\": \"Weighing the responsibility of '\n",
      "                'power with the need for solitude\",\\n'\n",
      "                '      \"character_arc\": {\\n'\n",
      "                '        \"initial_state\": \"Observant guardian\",\\n'\n",
      "                '        \"final_state\": \"Active participant in shaping '\n",
      "                'Aethoria\\'s future\",\\n'\n",
      "                '        \"key_moments\": [\"Deciding to aid Lyra\", \"Confronting '\n",
      "                'his past to protect the Emerald Woods\"]\\n'\n",
      "                '      }\\n'\n",
      "                '    },\\n'\n",
      "                '    {\\n'\n",
      "                '      \"nickname\": \"Moonlit Shadow\",\\n'\n",
      "                '      \"name\": \"Kael Nightwalker\",\\n'\n",
      "                '      \"description\": \"Enigmatic shapeshifter with '\n",
      "                'unparalleled stealth skills\",\\n'\n",
      "                '      \"personality\": \"Brooding, fiercely loyal, with a dry '\n",
      "                'sense of humor\",\\n'\n",
      "                '      \"physical_appearance\": \"Lean, jet-black hair, piercing '\n",
      "                'yellow eyes that glow in the dark\",\\n'\n",
      "                '      \"role\": \"Supporting Character/Ally\",\\n'\n",
      "                '      \"gender\": \"Non-binary\",\\n'\n",
      "                '      \"race\": \"Shapeshifter (Lunar bloodline)\",\\n'\n",
      "                '      \"age\": \"Unknown, appears late 20s\",\\n'\n",
      "                '      \"catch_phrase\": \"Shadows are my solace, and my '\n",
      "                'strength.\",\\n'\n",
      "                '      \"animation_description\": \"Can blend into shadows, '\n",
      "                'transform into various nocturnal animals\",\\n'\n",
      "                '      \"voice_description\": \"Low, mysterious voice that sends '\n",
      "                'shivers\",\\n'\n",
      "                '      \"voice_sample\": null,\\n'\n",
      "                '      \"props\": [\"Moonstone pendant\", \"Shadow weave cloak\"],\\n'\n",
      "                '      \"relationships\": [\\n'\n",
      "                '        {\\n'\n",
      "                '          \"character_name\": \"Lyra Flynn\",\\n'\n",
      "                '          \"relationship_type\": \"Friend/Ally\",\\n'\n",
      "                '          \"description\": \"Provides strategic support and '\n",
      "                'companionship in their quest\"\\n'\n",
      "                '        }\\n'\n",
      "                '      ],\\n'\n",
      "                '      \"internal_conflict\": \"Navigating trust issues stemming '\n",
      "                'from a troubled past\",\\n'\n",
      "                '      \"character_arc\": {\\n'\n",
      "                '        \"initial_state\": \"Guarded and aloof\",\\n'\n",
      "                '        \"final_state\": \"Openly supportive, having found a new '\n",
      "                'family among allies\",\\n'\n",
      "                '        \"key_moments\": [\"First transformation in front of '\n",
      "                'Lyra\", \"Saving Zephyr from the dark sorcerer\\'s minions\"]\\n'\n",
      "                '      }\\n'\n",
      "                '    }\\n'\n",
      "                '  ],\\n'\n",
      "                '  \"props\": [\\n'\n",
      "                '    {\\n'\n",
      "                '      \"name\": \"The Emerald Scepter\",\\n'\n",
      "                '      \"description\": \"A powerful artifact that amplifies '\n",
      "                'druidic powers, central to the prophecy\"\\n'\n",
      "                '    }\\n'\n",
      "                '  ]\\n'\n",
      "                '],\\n'\n",
      "                '\"story_locations\": [\\n'\n",
      "                '  {\\n'\n",
      "                '    \"name\": \"Emerald Woods\",\\n'\n",
      "                '    \"description\": \"Ancient, mystical forest teeming with '\n",
      "                'life and magic\"\\n'\n",
      "                '  },\\n'\n",
      "                '  {\\n'\n",
      "                '    \"name\": \"Windsong Tower\",\\n'\n",
      "                '    \"description\": \"Zephyr\\'s abode, a tower that floats '\n",
      "                'among the clouds, filled with ancient tomes and mysterious '\n",
      "                'artifacts\"\\n'\n",
      "                '  }\\n'\n",
      "                ']\\n'\n",
      "                '}\\n'\n",
      "                '\\n'\n",
      "                '**Story Outline:**\\n'\n",
      "                '\\n'\n",
      "                '1. **Introduction**: \\n'\n",
      "                '   - Introduce Lyra Flynn, an apprentice druid, in the '\n",
      "                'mystical Emerald Woods.\\n'\n",
      "                '   - Show her connection with nature and her desire to master '\n",
      "                'her powers.\\n'\n",
      "                '\\n'\n",
      "                '2. **Inciting Incident**: \\n'\n",
      "                '   - Lyra discovers an ancient prophecy that foretells the '\n",
      "                'destruction of the Emerald Woods by a dark sorcerer.\\n'\n",
      "                '   - She decides to embark on a quest to save her home, '\n",
      "                'guided by Zephyr Windsong.\\n'\n",
      "                '\\n'\n",
      "                '3. **Rising Action**:\\n'\n",
      "                '   - Lyra, with Zephyr’s mentorship and Kael’s companionship, '\n",
      "                'journeys through Aethoria, gathering allies and knowledge.\\n'\n",
      "                '   - They face various challenges and enemies, testing their '\n",
      "                'skills and resolve.\\n'\n",
      "                '   - Key moments include discovering the Emerald Scepter, a '\n",
      "                'powerful artifact crucial to the prophecy, and confronting '\n",
      "                'personal demons.\\n'\n",
      "                '\\n'\n",
      "                '4. **Climax**:\\n'\n",
      "                '   - The trio confronts the dark sorcerer in an epic battle '\n",
      "                'within the heart of the Emerald Woods.\\n'\n",
      "                '   - Lyra must harness her druidic powers, aided by the '\n",
      "                'Emerald Scepter, to restore balance to nature and defeat the '\n",
      "                'sorcerer.\\n'\n",
      "                '\\n'\n",
      "                '5. **Falling Action & Resolution**:\\n'\n",
      "                '   - With the dark sorcerer defeated, the Emerald Woods begin '\n",
      "                'to heal.\\n'\n",
      "                '   - Lyra, now confident in her abilities, decides to '\n",
      "                'continue protecting Aethoria’s natural wonders with Zephyr '\n",
      "                'and Kael by her side.\\n'\n",
      "                '   - The story concludes with a newfound sense of unity among '\n",
      "                'the trio and a brighter future for Aethoria.\\n'\n",
      "                '\\n'\n",
      "                '**Themes Exploration:**\\n'\n",
      "                '\\n'\n",
      "                \"- **Balance with Nature**: Highlighted through Lyra's journey \"\n",
      "                'and her ultimate use of the Emerald Scepter to restore '\n",
      "                'harmony to the Emerald Woods.\\n'\n",
      "                '- **Self-Discovery**: Each character undergoes significant '\n",
      "                'personal growth, especially Lyra as she embraces her true '\n",
      "                'potential as a druid.\\n'\n",
      "                '- **Unity in Diversity**: The alliance between Lyra (druid), '\n",
      "                'Zephyr (wizard), and Kael (shapeshifter) showcases how '\n",
      "                'diverse skills and backgrounds can lead to a common, '\n",
      "                'victorious goal.',\n",
      " 'event': {'action_name': 'retry_json',\n",
      "           'action_params': {},\n",
      "           'action_result_key': 'failed_json',\n",
      "           'action_uid': '43571877-8656-4fe8-9eff-de28fec50043',\n",
      "           'event_created_at': '2024-11-09T18:13:20.731293+00:00',\n",
      "           'is_system_action': True,\n",
      "           'source_uid': 'NeMoGuardrails',\n",
      "           'type': 'StartInternalSystemAction',\n",
      "           'uid': '65115826-9ce3-45f1-967c-6e9cb735f744'},\n",
      " 'i': 0,\n",
      " 'last_bot_message': '{\"title\":\"\",\"video\":false,\"visual_style\":\"\",\"time_period\":\"\",\"location\":\"\",\"genre\":\"\",\"medium\":\"\",\"plot_overview\":\"A '\n",
      "                     'team of elite scientists embarks on a groundbreaking '\n",
      "                     'research mission to explore an uncharted alien planet '\n",
      "                     'teeming with potential for supporting life. Led by Dr. '\n",
      "                     'Elena Martinez, the crew includes experts in various '\n",
      "                     'fields, each eager to make history. However, upon '\n",
      "                     'arrival, a catastrophic malfunction causes their '\n",
      "                     'spaceship to crash-land, leaving them stranded with '\n",
      "                     'limited supplies and no way to contact Earth.\\\\n\\\\nAs '\n",
      "                     \"they assess their situation, they encounter the planet's \"\n",
      "                     'hostile environment filled with dangerous flora and '\n",
      "                     \"fauna unlike anything they've seen before. Tensions rise \"\n",
      "                     'within the group as they struggle to survive harsh '\n",
      "                     'weather conditions, dwindling resources, and internal '\n",
      "                     'conflicts. Days turn into weeks as the scientists '\n",
      "                     'discover mysterious ruins suggesting an ancient '\n",
      "                     'civilization once thrived there.\\\\n\\\\nDr. Martinez '\n",
      "                     'becomes obsessed with uncovering the secrets of the '\n",
      "                     'planet, believing it holds the key to their survival. '\n",
      "                     'The team must navigate treacherous terrains, decode '\n",
      "                     'alien technology, and confront their own fears and '\n",
      "                     'weaknesses. In a race against time, they work together '\n",
      "                     'to repair their ship using alien materials and knowledge '\n",
      "                     'gleaned from the ruins.\\\\n\\\\nUltimately, they must '\n",
      "                     'decide whether to return home or stay and continue '\n",
      "                     'exploring the profound mysteries of the planet that has '\n",
      "                     'both threatened and captivated them. Through their '\n",
      "                     'journey, they learn valuable lessons about cooperation, '\n",
      "                     'resilience, and the ethical implications of their '\n",
      "                     'mission.\",\"narrative_perspective\":\"\",\"conflict_type\":\"\",\"themes\":[],\"motifs\":[],\"characters\":[],\"props\":[],\"story_beats\":[],\"subplots\":[],\"emotional_arc\":[],\"acts\":[]}',\n",
      " 'last_user_message': 'Generate a story based on the following: Write a '\n",
      "                      'fantasy story about a magical forest in the following '\n",
      "                      'json format: \\n'\n",
      "                      '\\n'\n",
      "                      '{\"prompt\":\"\",\"title\":\"\",\"video\":false,\"visual_style\":\"\",\"time_period\":\"\",\"location\":\"\",\"genre\":\"\",\"medium\":\"\",\"plot_overview\":\"\",\"narrative_perspective\":\"\",\"conflict_type\":\"\",\"themes\":[],\"motifs\":[],\"characters\":[{\"nickname\":\"\",\"name\":\"\",\"description\":\"\",\"personality\":\"\",\"physical_appearance\":\"\",\"role\":\"\",\"gender\":\"\",\"race\":\"\",\"age\":\"\",\"catch_phrase\":\"\",\"animation_description\":\"\",\"voice_description\":\"\",\"voice_sample\":null,\"props\":[],\"relationships\":[{\"character_name\":null,\"relationship_type\":null,\"description\":\"\"}],\"internal_conflict\":\"\",\"character_arc\":{\"initial_state\":\"\",\"final_state\":\"\",\"key_moments\":[\"\"]},\"image_prompt\":\"\",\"image_prompt_short\":\"\"}],\"props\":[{\"name\":\"\",\"description\":\"\",\"purpose\":\"\",\"physical_appearance\":\"\",\"animation_description\":\"\"}],\"story_beats\":[{\"name\":null,\"description\":null,\"scene\":\"\"}],\"subplots\":[{\"title\":null,\"description\":\"\",\"related_characters\":[]}],\"emotional_arc\":[{\"stage\":null,\"description\":\"\"}],\"acts\":[{\"act_id\":\"\",\"title\":\"\",\"description\":\"\",\"scenes\":[{\"scene_id\":\"\",\"title\":\"\",\"description\":\"\",\"characters_involved\":[\"\"],\"setting\":\"\",\"time_of_day\":\"\",\"location\":\"\",\"lighting\":\"\",\"mood\":\"\",\"props\":[\"\"],\"key_actions\":[\"\"],\"dialogue\":[],\"background_image_prompt\":\"\",\"background_animation\":\"\",\"scene_image_prompt\":\"\",\"scene_image_prompt_short\":\"\"}],\"props\":[\"\"]}]}',\n",
      " 'output_flows': ['retry json'],\n",
      " 'triggered_output_rail': 'retry json',\n",
      " 'user_message': 'Generate a story based on the following: Write a fantasy '\n",
      "                 'story about a magical forest in the following json format: \\n'\n",
      "                 '\\n'\n",
      "                 '{\"prompt\":\"\",\"title\":\"\",\"video\":false,\"visual_style\":\"\",\"time_period\":\"\",\"location\":\"\",\"genre\":\"\",\"medium\":\"\",\"plot_overview\":\"\",\"narrative_perspective\":\"\",\"conflict_type\":\"\",\"themes\":[],\"motifs\":[],\"characters\":[{\"nickname\":\"\",\"name\":\"\",\"description\":\"\",\"personality\":\"\",\"physical_appearance\":\"\",\"role\":\"\",\"gender\":\"\",\"race\":\"\",\"age\":\"\",\"catch_phrase\":\"\",\"animation_description\":\"\",\"voice_description\":\"\",\"voice_sample\":null,\"props\":[],\"relationships\":[{\"character_name\":null,\"relationship_type\":null,\"description\":\"\"}],\"internal_conflict\":\"\",\"character_arc\":{\"initial_state\":\"\",\"final_state\":\"\",\"key_moments\":[\"\"]},\"image_prompt\":\"\",\"image_prompt_short\":\"\"}],\"props\":[{\"name\":\"\",\"description\":\"\",\"purpose\":\"\",\"physical_appearance\":\"\",\"animation_description\":\"\"}],\"story_beats\":[{\"name\":null,\"description\":null,\"scene\":\"\"}],\"subplots\":[{\"title\":null,\"description\":\"\",\"related_characters\":[]}],\"emotional_arc\":[{\"stage\":null,\"description\":\"\"}],\"acts\":[{\"act_id\":\"\",\"title\":\"\",\"description\":\"\",\"scenes\":[{\"scene_id\":\"\",\"title\":\"\",\"description\":\"\",\"characters_involved\":[\"\"],\"setting\":\"\",\"time_of_day\":\"\",\"location\":\"\",\"lighting\":\"\",\"mood\":\"\",\"props\":[\"\"],\"key_actions\":[\"\"],\"dialogue\":[],\"background_image_prompt\":\"\",\"background_animation\":\"\",\"scene_image_prompt\":\"\",\"scene_image_prompt_short\":\"\"}],\"props\":[\"\"]}]}'}\n",
      "story:\n",
      "{\n",
      "  \"prompt\": \"A fantasy story about a magical forest\",\n",
      "  \"title\": \"Whispers of the Emerald Woods\",\n",
      "  \"video\": false,\n",
      "  \"visual_style\": \"Vibrant, ethereal landscapes with soft, luminescent lighting\",\n",
      "  \"time_period\": \"Ancient, mystical era\",\n",
      "  \"location\": \"The heart of the enchanted Emerald Woods\",\n",
      "  \"genre\": \"Fantasy, Adventure\",\n",
      "  \"medium\": \"Novel\",\n",
      "  \"plot_overview\": \"In the mystical realm of Aethoria, where magic is woven into the fabric of nature, the ancient Emerald Woods stand as a testament to wonder. Lyra, a young apprentice druid, discovers a cryptic prophecy that foretells the woods' demise at the hands of a dark sorcerer. With the help of her companions--a wise old wizard named Zephyr and a cunning shapeshifter named Kael--Lyra embarks on a perilous quest to save the Emerald Woods, confronting shadowy creatures, unraveling ancient mysteries, and awakening a dormant magic within herself.\",\n",
      "  \"narrative_perspective\": \"Third-person limited, primarily through Lyra's perspective\",\n",
      "  \"conflict_type\": \"Internal (self-discovery) & External (saving the Emerald Woods)\",\n",
      "  \"themes\": [\n",
      "    \"Balance with Nature\",\n",
      "    \"Self-Discovery\",\n",
      "    \"Unity in Diversity\"\n",
      "  ],\n",
      "  \"motifs\": [\n",
      "    \"Ancient Wisdom\",\n",
      "    \"Nature's Fury\",\n",
      "    \"Transformation\"\n",
      "  ],\n",
      "  \"characters\": [\n",
      "    {\n",
      "      \"nickname\": \"The Greenheart\",\n",
      "      \"name\": \"Lyra Flynn\",\n",
      "      \"description\": \"Apprentice druid with a deep connection to nature\",\n",
      "      \"personality\": \"Compassionate, determined, and curious\",\n",
      "      \"physical_appearance\": \"Petite, wild curly brown hair, emerald green eyes\",\n",
      "      \"role\": \"Protagonist\",\n",
      "      \"gender\": \"Female\",\n",
      "      \"race\": \"Half-elf\",\n",
      "      \"age\": \"22\",\n",
      "      \"catch_phrase\": \"In harmony with nature, we find our strength.\",\n",
      "      \"animation_description\": \"Moves with the grace of a deer, surrounded by subtle leafy aura\",\n",
      "      \"voice_description\": \"Soothing, melodic voice like a gentle stream\",\n",
      "      \"voice_sample\": null,\n",
      "      \"props\": [\n",
      "        \"Staff made from a living tree branch\",\n",
      "        \"Herbalism pouch\"\n",
      "      ],\n",
      "      \"relationships\": [\n",
      "        {\n",
      "          \"character_name\": \"Zephyr Windsong\",\n",
      "          \"relationship_type\": \"Mentor\",\n",
      "          \"description\": \"Guides Lyra in mastering her druidic powers\"\n",
      "        },\n",
      "        {\n",
      "          \"character_name\": \"Kael Nightwalker\",\n",
      "          \"relationship_type\": \"Ally/Friend\",\n",
      "          \"description\": \"Provides companionship and strategic support in their quest\"\n",
      "        }\n",
      "      ],\n",
      "      \"internal_conflict\": \"Balancing personal ambition with the greater good\",\n",
      "      \"character_arc\": {\n",
      "        \"initial_state\": \"Uncertain of her abilities\",\n",
      "        \"final_state\": \"Confident leader embracing her true potential\",\n",
      "        \"key_moments\": [\n",
      "          \"Discovering the prophecy\",\n",
      "          \"First successful druidic summoning\",\n",
      "          \"Confronting the dark sorcerer\"\n",
      "        ]\n",
      "      },\n",
      "      \"image_prompt\": \"Lyra standing amidst a glowing Emerald Woods clearing, surrounded by fireflies and ancient trees\",\n",
      "      \"image_prompt_short\": \"Mystical forest maiden\"\n",
      "    },\n",
      "    {\n",
      "      \"nickname\": \"The Wizard of the Winds\",\n",
      "      \"name\": \"Zephyr Windsong\",\n",
      "      \"description\": \"Wise and powerful wizard specializing in aeromancy\",\n",
      "      \"personality\": \"Sage, witty, with a hint of mischief\",\n",
      "      \"physical_appearance\": \"Tall, long silver hair flowing like the wind, piercing blue eyes\",\n",
      "      \"role\": \"Supporting Character/Mentor\",\n",
      "      \"gender\": \"Male\",\n",
      "      \"race\": \"Human\",\n",
      "      \"age\": \"Ageless, appears mid-50s\",\n",
      "      \"catch_phrase\": \"The winds of change are always at our backs.\",\n",
      "      \"animation_description\": \"Often surrounded by gentle whirlwinds and floating parchment scrolls\",\n",
      "      \"voice_description\": \"Deep, commanding voice with a soothing undertone\",\n",
      "      \"voice_sample\": null,\n",
      "      \"props\": [\n",
      "        \"Staff that controls the winds\",\n",
      "        \"Tome of Ancient Spells\"\n",
      "      ],\n",
      "      \"relationships\": [\n",
      "        {\n",
      "          \"character_name\": \"Lyra Flynn\",\n",
      "          \"relationship_type\": \"Mentee\",\n",
      "          \"description\": \"Guides Lyra in her druidic journey\"\n",
      "        }\n",
      "      ],\n",
      "      \"internal_conflict\": \"Weighing the responsibility of power with the need for solitude\",\n",
      "      \"character_arc\": {\n",
      "        \"initial_state\": \"Observant guardian\",\n",
      "        \"final_state\": \"Active participant in shaping Aethoria's future\",\n",
      "        \"key_moments\": [\n",
      "          \"Deciding to aid Lyra\",\n",
      "          \"Confronting his past to protect the Emerald Woods\"\n",
      "        ]\n",
      "      },\n",
      "      \"image_prompt\": \"\",\n",
      "      \"image_prompt_short\": \"\"\n",
      "    },\n",
      "    {\n",
      "      \"nickname\": \"Moonlit Shadow\",\n",
      "      \"name\": \"Kael Nightwalker\",\n",
      "      \"description\": \"Enigmatic shapeshifter with unparalleled stealth skills\",\n",
      "      \"personality\": \"Brooding, fiercely loyal, with a dry sense of humor\",\n",
      "      \"physical_appearance\": \"Lean, jet-black hair, piercing yellow eyes that glow in the dark\",\n",
      "      \"role\": \"Supporting Character/Ally\",\n",
      "      \"gender\": \"Non-binary\",\n",
      "      \"race\": \"Shapeshifter (Lunar bloodline)\",\n",
      "      \"age\": \"Unknown, appears late 20s\",\n",
      "      \"catch_phrase\": \"Shadows are my solace, and my strength.\",\n",
      "      \"animation_description\": \"Can blend into shadows, transform into various nocturnal animals\",\n",
      "      \"voice_description\": \"Low, mysterious voice that sends shivers\",\n",
      "      \"voice_sample\": null,\n",
      "      \"props\": [\n",
      "        \"Moonstone pendant\",\n",
      "        \"Shadow weave cloak\"\n",
      "      ],\n",
      "      \"relationships\": [\n",
      "        {\n",
      "          \"character_name\": \"Lyra Flynn\",\n",
      "          \"relationship_type\": \"Friend/Ally\",\n",
      "          \"description\": \"Provides strategic support and companionship in their quest\"\n",
      "        }\n",
      "      ],\n",
      "      \"internal_conflict\": \"Navigating trust issues stemming from a troubled past\",\n",
      "      \"character_arc\": {\n",
      "        \"initial_state\": \"Guarded and aloof\",\n",
      "        \"final_state\": \"Openly supportive, having found a new family among allies\",\n",
      "        \"key_moments\": [\n",
      "          \"First transformation in front of Lyra\",\n",
      "          \"Saving Zephyr from the dark sorcerer's minions\"\n",
      "        ]\n",
      "      },\n",
      "      \"image_prompt\": \"\",\n",
      "      \"image_prompt_short\": \"\"\n",
      "    }\n",
      "  ],\n",
      "  \"props\": [\n",
      "    {\n",
      "      \"name\": \"The Emerald Scepter\",\n",
      "      \"description\": \"A powerful artifact that amplifies druidic powers, central to the prophecy\",\n",
      "      \"purpose\": \"\",\n",
      "      \"physical_appearance\": \"\",\n",
      "      \"animation_description\": \"\"\n",
      "    }\n",
      "  ],\n",
      "  \"story_beats\": [],\n",
      "  \"subplots\": [],\n",
      "  \"emotional_arc\": [],\n",
      "  \"acts\": []\n",
      "}\n"
     ]
    },
    {
     "data": {
      "text/html": [
       "<pre style=\"white-space:pre;overflow-x:auto;line-height:normal;font-family:Menlo,'DejaVu Sans Mono',consolas,'Courier New',monospace\"><span style=\"color: #7f7f7f; text-decoration-color: #7f7f7f\">13:13:20.739</span> | <span style=\"color: #7f7fbf; text-decoration-color: #7f7fbf\">Event</span><span style=\"color: #7f7f7f; text-decoration-color: #7f7f7f\"> </span><span style=\"color: #7f7f7f; text-decoration-color: #7f7f7f; font-weight: bold\">InternalSystemActionFinished</span> | <span style=\"color: #7f7f7f; text-decoration-color: #7f7f7f\">{'uid': '252c...', 'action_uid': '4357...', 'action_name': </span>\n",
       "<span style=\"color: #7f7f7f; text-decoration-color: #7f7f7f\">'retry_json', 'action_params': {}, 'action_result_key': 'failed_json', 'status': 'success', 'is_success': True, </span>\n",
       "<span style=\"color: #7f7f7f; text-decoration-color: #7f7f7f\">'return_value': False, 'events': [], 'is_system_action': True}</span>\n",
       "</pre>\n"
      ],
      "text/plain": [
       "\u001b[2m13:13:20.739\u001b[0m | \u001b[2;34mEvent\u001b[0m\u001b[2m \u001b[0m\u001b[1;2mInternalSystemActionFinished\u001b[0m | \u001b[2m{'uid': '252c...', 'action_uid': '4357...', 'action_name': \u001b[0m\n",
       "\u001b[2m'retry_json', 'action_params': {}, 'action_result_key': 'failed_json', 'status': 'success', 'is_success': True, \u001b[0m\n",
       "\u001b[2m'return_value': False, 'events': [], 'is_system_action': True}\u001b[0m\n"
      ]
     },
     "metadata": {},
     "output_type": "display_data"
    },
    {
     "data": {
      "text/html": [
       "<pre style=\"white-space:pre;overflow-x:auto;line-height:normal;font-family:Menlo,'DejaVu Sans Mono',consolas,'Courier New',monospace\"><span style=\"color: #7f7f7f; text-decoration-color: #7f7f7f\">13:13:20.743</span> | <span style=\"color: #7f7fbf; text-decoration-color: #7f7fbf\">Event</span><span style=\"color: #7f7f7f; text-decoration-color: #7f7f7f\"> </span><span style=\"color: #7f7f7f; text-decoration-color: #7f7f7f; font-weight: bold\">StartInternalSystemAction</span> | <span style=\"color: #7f7f7f; text-decoration-color: #7f7f7f\">{'uid': 'e85f...', 'action_name': 'create_event', 'action_params':</span>\n",
       "<span style=\"color: #7f7f7f; text-decoration-color: #7f7f7f\">{'event': {'_type': 'OutputRailFinished', 'flow_id': '$triggered_output_rail'}}, 'action_result_key': None, </span>\n",
       "<span style=\"color: #7f7f7f; text-decoration-color: #7f7f7f\">'action_uid': 'd91e...', 'is_system_action': True}</span>\n",
       "</pre>\n"
      ],
      "text/plain": [
       "\u001b[2m13:13:20.743\u001b[0m | \u001b[2;34mEvent\u001b[0m\u001b[2m \u001b[0m\u001b[1;2mStartInternalSystemAction\u001b[0m | \u001b[2m{'uid': 'e85f...', 'action_name': 'create_event', 'action_params':\u001b[0m\n",
       "\u001b[2m{'event': {'_type': 'OutputRailFinished', 'flow_id': '$triggered_output_rail'}}, 'action_result_key': None, \u001b[0m\n",
       "\u001b[2m'action_uid': 'd91e...', 'is_system_action': True}\u001b[0m\n"
      ]
     },
     "metadata": {},
     "output_type": "display_data"
    },
    {
     "data": {
      "text/html": [
       "<pre style=\"white-space:pre;overflow-x:auto;line-height:normal;font-family:Menlo,'DejaVu Sans Mono',consolas,'Courier New',monospace\"><span style=\"color: #7f7f7f; text-decoration-color: #7f7f7f\">13:13:20.744</span> | <span style=\"color: #b7b7b7; text-decoration-color: #b7b7b7\">Executing action</span><span style=\"color: #7f7f7f; text-decoration-color: #7f7f7f\"> </span><span style=\"color: #aaaaaa; text-decoration-color: #aaaaaa\">create_event</span>\n",
       "</pre>\n"
      ],
      "text/plain": [
       "\u001b[2m13:13:20.744\u001b[0m | \u001b[2;38;2;112;112;112mExecuting action\u001b[0m\u001b[2m \u001b[0m\u001b[2;38;2;85;85;85mcreate_event\u001b[0m\n"
      ]
     },
     "metadata": {},
     "output_type": "display_data"
    },
    {
     "data": {
      "text/html": [
       "<pre style=\"white-space:pre;overflow-x:auto;line-height:normal;font-family:Menlo,'DejaVu Sans Mono',consolas,'Courier New',monospace\"><span style=\"color: #7f7f7f; text-decoration-color: #7f7f7f\">13:13:20.744</span> | <span style=\"color: #7f7fbf; text-decoration-color: #7f7fbf\">Event</span><span style=\"color: #7f7f7f; text-decoration-color: #7f7f7f\"> </span><span style=\"color: #7f7f7f; text-decoration-color: #7f7f7f; font-weight: bold\">OutputRailFinished</span> | <span style=\"color: #7f7f7f; text-decoration-color: #7f7f7f\">{'uid': '658b...', 'flow_id': 'retry json'}</span>\n",
       "</pre>\n"
      ],
      "text/plain": [
       "\u001b[2m13:13:20.744\u001b[0m | \u001b[2;34mEvent\u001b[0m\u001b[2m \u001b[0m\u001b[1;2mOutputRailFinished\u001b[0m | \u001b[2m{'uid': '658b...', 'flow_id': 'retry json'}\u001b[0m\n"
      ]
     },
     "metadata": {},
     "output_type": "display_data"
    },
    {
     "data": {
      "text/html": [
       "<pre style=\"white-space:pre;overflow-x:auto;line-height:normal;font-family:Menlo,'DejaVu Sans Mono',consolas,'Courier New',monospace\"><span style=\"color: #7f7f7f; text-decoration-color: #7f7f7f\">13:13:20.746</span> | <span style=\"color: #7f7fbf; text-decoration-color: #7f7fbf\">Event</span><span style=\"color: #7f7f7f; text-decoration-color: #7f7f7f\"> </span><span style=\"color: #7f7f7f; text-decoration-color: #7f7f7f; font-weight: bold\">StartInternalSystemAction</span> | <span style=\"color: #7f7f7f; text-decoration-color: #7f7f7f\">{'uid': '39a5...', 'action_name': 'create_event', 'action_params':</span>\n",
       "<span style=\"color: #7f7f7f; text-decoration-color: #7f7f7f\">{'event': {'_type': 'OutputRailsFinished'}}, 'action_result_key': None, 'action_uid': '1ff1...', </span>\n",
       "<span style=\"color: #7f7f7f; text-decoration-color: #7f7f7f\">'is_system_action': True}</span>\n",
       "</pre>\n"
      ],
      "text/plain": [
       "\u001b[2m13:13:20.746\u001b[0m | \u001b[2;34mEvent\u001b[0m\u001b[2m \u001b[0m\u001b[1;2mStartInternalSystemAction\u001b[0m | \u001b[2m{'uid': '39a5...', 'action_name': 'create_event', 'action_params':\u001b[0m\n",
       "\u001b[2m{'event': {'_type': 'OutputRailsFinished'}}, 'action_result_key': None, 'action_uid': '1ff1...', \u001b[0m\n",
       "\u001b[2m'is_system_action': True}\u001b[0m\n"
      ]
     },
     "metadata": {},
     "output_type": "display_data"
    },
    {
     "data": {
      "text/html": [
       "<pre style=\"white-space:pre;overflow-x:auto;line-height:normal;font-family:Menlo,'DejaVu Sans Mono',consolas,'Courier New',monospace\"><span style=\"color: #7f7f7f; text-decoration-color: #7f7f7f\">13:13:20.747</span> | <span style=\"color: #b7b7b7; text-decoration-color: #b7b7b7\">Executing action</span><span style=\"color: #7f7f7f; text-decoration-color: #7f7f7f\"> </span><span style=\"color: #aaaaaa; text-decoration-color: #aaaaaa\">create_event</span>\n",
       "</pre>\n"
      ],
      "text/plain": [
       "\u001b[2m13:13:20.747\u001b[0m | \u001b[2;38;2;112;112;112mExecuting action\u001b[0m\u001b[2m \u001b[0m\u001b[2;38;2;85;85;85mcreate_event\u001b[0m\n"
      ]
     },
     "metadata": {},
     "output_type": "display_data"
    },
    {
     "data": {
      "text/html": [
       "<pre style=\"white-space:pre;overflow-x:auto;line-height:normal;font-family:Menlo,'DejaVu Sans Mono',consolas,'Courier New',monospace\"><span style=\"color: #7f7f7f; text-decoration-color: #7f7f7f\">13:13:20.748</span> | <span style=\"color: #7f7fbf; text-decoration-color: #7f7fbf\">Event</span><span style=\"color: #7f7f7f; text-decoration-color: #7f7f7f\"> </span><span style=\"color: #7f7f7f; text-decoration-color: #7f7f7f; font-weight: bold\">OutputRailsFinished</span> | <span style=\"color: #7f7f7f; text-decoration-color: #7f7f7f\">{'uid': 'f96b...'}</span>\n",
       "</pre>\n"
      ],
      "text/plain": [
       "\u001b[2m13:13:20.748\u001b[0m | \u001b[2;34mEvent\u001b[0m\u001b[2m \u001b[0m\u001b[1;2mOutputRailsFinished\u001b[0m | \u001b[2m{'uid': 'f96b...'}\u001b[0m\n"
      ]
     },
     "metadata": {},
     "output_type": "display_data"
    },
    {
     "data": {
      "text/html": [
       "<pre style=\"white-space:pre;overflow-x:auto;line-height:normal;font-family:Menlo,'DejaVu Sans Mono',consolas,'Courier New',monospace\"><span style=\"color: #7f7f7f; text-decoration-color: #7f7f7f\">13:13:20.749</span> | <span style=\"color: #7f7fbf; text-decoration-color: #7f7fbf\">Event</span><span style=\"color: #7f7f7f; text-decoration-color: #7f7f7f\"> </span><span style=\"color: #7f7f7f; text-decoration-color: #7f7f7f; font-weight: bold\">StartInternalSystemAction</span> | <span style=\"color: #7f7f7f; text-decoration-color: #7f7f7f\">{'uid': '7688...', 'action_name': 'create_event', 'action_params':</span>\n",
       "<span style=\"color: #7f7f7f; text-decoration-color: #7f7f7f\">{'event': {'_type': 'StartUtteranceBotAction', 'script': '$bot_message'}}, 'action_result_key': None, 'action_uid':</span>\n",
       "<span style=\"color: #7f7f7f; text-decoration-color: #7f7f7f\">'2537...', 'is_system_action': True}</span>\n",
       "</pre>\n"
      ],
      "text/plain": [
       "\u001b[2m13:13:20.749\u001b[0m | \u001b[2;34mEvent\u001b[0m\u001b[2m \u001b[0m\u001b[1;2mStartInternalSystemAction\u001b[0m | \u001b[2m{'uid': '7688...', 'action_name': 'create_event', 'action_params':\u001b[0m\n",
       "\u001b[2m{'event': {'_type': 'StartUtteranceBotAction', 'script': '$bot_message'}}, 'action_result_key': None, 'action_uid':\u001b[0m\n",
       "\u001b[2m'2537...', 'is_system_action': True}\u001b[0m\n"
      ]
     },
     "metadata": {},
     "output_type": "display_data"
    },
    {
     "data": {
      "text/html": [
       "<pre style=\"white-space:pre;overflow-x:auto;line-height:normal;font-family:Menlo,'DejaVu Sans Mono',consolas,'Courier New',monospace\"><span style=\"color: #7f7f7f; text-decoration-color: #7f7f7f\">13:13:20.749</span> | <span style=\"color: #b7b7b7; text-decoration-color: #b7b7b7\">Executing action</span><span style=\"color: #7f7f7f; text-decoration-color: #7f7f7f\"> </span><span style=\"color: #aaaaaa; text-decoration-color: #aaaaaa\">create_event</span>\n",
       "</pre>\n"
      ],
      "text/plain": [
       "\u001b[2m13:13:20.749\u001b[0m | \u001b[2;38;2;112;112;112mExecuting action\u001b[0m\u001b[2m \u001b[0m\u001b[2;38;2;85;85;85mcreate_event\u001b[0m\n"
      ]
     },
     "metadata": {},
     "output_type": "display_data"
    },
    {
     "data": {
      "text/html": [
       "<pre style=\"white-space:pre;overflow-x:auto;line-height:normal;font-family:Menlo,'DejaVu Sans Mono',consolas,'Courier New',monospace\"><span style=\"color: #7f7f7f; text-decoration-color: #7f7f7f\">13:13:20.751</span> | <span style=\"color: #7f7fbf; text-decoration-color: #7f7fbf\">Event</span><span style=\"color: #7f7f7f; text-decoration-color: #7f7f7f\"> </span><span style=\"color: #7f7f7f; text-decoration-color: #7f7f7f; font-weight: bold\">StartUtteranceBotAction</span> | <span style=\"color: #7f7f7f; text-decoration-color: #7f7f7f\">{'uid': '50ab...', 'script': 'It looks like you\\'ve provided a JSON </span>\n",
       "<span style=\"color: #7f7f7f; text-decoration-color: #7f7f7f\">template for the second prompt, but left many fields empty. I\\'ll fill in the gaps with my creative responses to </span>\n",
       "<span style=\"color: #7f7f7f; text-decoration-color: #7f7f7f\">generate a fantasy story about a magical forest. Here\\'s the completed JSON with the </span>\n",
       "<span style=\"color: #7f7f7f; text-decoration-color: #7f7f7f\">story:\\n\\n**Response**\\n\\n```json\\n{\\n  \"prompt\": \"A fantasy story about a magical forest\",\\n  \"title\": \"Whispers </span>\n",
       "<span style=\"color: #7f7f7f; text-decoration-color: #7f7f7f\">of the Emerald Woods\",\\n  \"video\": false,\\n  \"visual_style\": \"Vibrant, ethereal landscapes with soft, luminescent </span>\n",
       "<span style=\"color: #7f7f7f; text-decoration-color: #7f7f7f\">lighting\",\\n  \"time_period\": \"Ancient, mystical era\",\\n  \"location\": \"The heart of the enchanted Emerald Woods\",\\n </span>\n",
       "<span style=\"color: #7f7f7f; text-decoration-color: #7f7f7f\">\"genre\": \"Fantasy, Adventure\",\\n  \"medium\": \"Novel\",\\n  \"plot_overview\": \"In the mystical realm of Aethoria, where </span>\n",
       "<span style=\"color: #7f7f7f; text-decoration-color: #7f7f7f\">magic is woven into the fabric of nature, the ancient Emerald Woods stand as a testament to wonder. Lyra, a young </span>\n",
       "<span style=\"color: #7f7f7f; text-decoration-color: #7f7f7f\">apprentice druid, discovers a cryptic prophecy that foretells the woods\\' demise at the hands of a dark sorcerer. </span>\n",
       "<span style=\"color: #7f7f7f; text-decoration-color: #7f7f7f\">With the help of her companions—a wise old wizard named Zephyr and a cunning shapeshifter named Kael—Lyra embarks </span>\n",
       "<span style=\"color: #7f7f7f; text-decoration-color: #7f7f7f\">on a perilous quest to save the Emerald Woods, confronting shadowy creatures, unraveling ancient mysteries, and </span>\n",
       "<span style=\"color: #7f7f7f; text-decoration-color: #7f7f7f\">awakening a dormant magic within herself.\",\\n  \"narrative_perspective\": \"Third-person limited, primarily through </span>\n",
       "<span style=\"color: #7f7f7f; text-decoration-color: #7f7f7f\">Lyra\\'s perspective\",\\n  \"conflict_type\": \"Internal (self-discovery) &amp; External (saving the Emerald Woods)\",\\n  </span>\n",
       "<span style=\"color: #7f7f7f; text-decoration-color: #7f7f7f\">\"themes\": [\"Balance with Nature\", \"Self-Discovery\", \"Unity in Diversity\"],\\n  \"motifs\": [\"Ancient Wisdom\", </span>\n",
       "<span style=\"color: #7f7f7f; text-decoration-color: #7f7f7f\">\"Nature\\'s Fury\", \"Transformation\"],\\n  \"characters\": [\\n    {\\n      \"nickname\": \"The Greenheart\",\\n      \"name\": </span>\n",
       "<span style=\"color: #7f7f7f; text-decoration-color: #7f7f7f\">\"Lyra Flynn\",\\n      \"description\": \"Apprentice druid with a deep connection to nature\",\\n      \"personality\": </span>\n",
       "<span style=\"color: #7f7f7f; text-decoration-color: #7f7f7f\">\"Compassionate, determined, and curious\",\\n      \"physical_appearance\": \"Petite, wild curly brown hair, emerald </span>\n",
       "<span style=\"color: #7f7f7f; text-decoration-color: #7f7f7f\">green eyes\",\\n      \"role\": \"Protagonist\",\\n      \"gender\": \"Female\",\\n      \"race\": \"Half-elf\",\\n      \"age\": </span>\n",
       "<span style=\"color: #7f7f7f; text-decoration-color: #7f7f7f\">\"22\",\\n      \"catch_phrase\": \"In harmony with nature, we find our strength.\",\\n      \"animation_description\": </span>\n",
       "<span style=\"color: #7f7f7f; text-decoration-color: #7f7f7f\">\"Moves with the grace of a deer, surrounded by subtle leafy aura\",\\n      \"voice_description\": \"Soothing, melodic </span>\n",
       "<span style=\"color: #7f7f7f; text-decoration-color: #7f7f7f\">voice like a gentle stream\",\\n      \"voice_sample\": null,\\n      \"props\": [\"Staff made from a living tree branch\", </span>\n",
       "<span style=\"color: #7f7f7f; text-decoration-color: #7f7f7f\">\"Herbalism pouch\"],\\n      \"relationships\": [\\n        {\\n          \"character_name\": \"Zephyr Windsong\",\\n         </span>\n",
       "<span style=\"color: #7f7f7f; text-decoration-color: #7f7f7f\">\"relationship_type\": \"Mentor\",\\n          \"description\": \"Guides Lyra in mastering her druidic powers\"\\n        </span>\n",
       "<span style=\"color: #7f7f7f; text-decoration-color: #7f7f7f\">},\\n        {\\n          \"character_name\": \"Kael Nightwalker\",\\n          \"relationship_type\": \"Ally/Friend\",\\n    </span>\n",
       "<span style=\"color: #7f7f7f; text-decoration-color: #7f7f7f\">\"description\": \"Provides companionship and strategic support in their quest\"\\n        }\\n      ],\\n      </span>\n",
       "<span style=\"color: #7f7f7f; text-decoration-color: #7f7f7f\">\"internal_conflict\": \"Balancing personal ambition with the greater good\",\\n      \"character_arc\": {\\n        </span>\n",
       "<span style=\"color: #7f7f7f; text-decoration-color: #7f7f7f\">\"initial_state\": \"Uncertain of her abilities\",\\n        \"final_state\": \"Confident leader embracing her true </span>\n",
       "<span style=\"color: #7f7f7f; text-decoration-color: #7f7f7f\">potential\",\\n        \"key_moments\": [\"Discovering the prophecy\", \"First successful druidic summoning\", \"Confronting</span>\n",
       "<span style=\"color: #7f7f7f; text-decoration-color: #7f7f7f\">the dark sorcerer\"]\\n      },\\n      \"image_prompt\": \"Lyra standing amidst a glowing Emerald Woods clearing, </span>\n",
       "<span style=\"color: #7f7f7f; text-decoration-color: #7f7f7f\">surrounded by fireflies and ancient trees\",\\n      \"image_prompt_short\": \"Mystical forest maiden\"\\n    },\\n    {\\n </span>\n",
       "<span style=\"color: #7f7f7f; text-decoration-color: #7f7f7f\">\"nickname\": \"The Wizard of the Winds\",\\n      \"name\": \"Zephyr Windsong\",\\n      \"description\": \"Wise and powerful </span>\n",
       "<span style=\"color: #7f7f7f; text-decoration-color: #7f7f7f\">wizard specializing in aeromancy\",\\n      \"personality\": \"Sage, witty, with a hint of mischief\",\\n      </span>\n",
       "<span style=\"color: #7f7f7f; text-decoration-color: #7f7f7f\">\"physical_appearance\": \"Tall, long silver hair flowing like the wind, piercing blue eyes\",\\n      \"role\": </span>\n",
       "<span style=\"color: #7f7f7f; text-decoration-color: #7f7f7f\">\"Supporting Character/Mentor\",\\n      \"gender\": \"Male\",\\n      \"race\": \"Human\",\\n      \"age\": \"Ageless, appears </span>\n",
       "<span style=\"color: #7f7f7f; text-decoration-color: #7f7f7f\">mid-50s\",\\n      \"catch_phrase\": \"The winds of change are always at our backs.\",\\n      \"animation_description\": </span>\n",
       "<span style=\"color: #7f7f7f; text-decoration-color: #7f7f7f\">\"Often surrounded by gentle whirlwinds and floating parchment scrolls\",\\n      \"voice_description\": \"Deep, </span>\n",
       "<span style=\"color: #7f7f7f; text-decoration-color: #7f7f7f\">commanding voice with a soothing undertone\",\\n      \"voice_sample\": null,\\n      \"props\": [\"Staff that controls the</span>\n",
       "<span style=\"color: #7f7f7f; text-decoration-color: #7f7f7f\">winds\", \"Tome of Ancient Spells\"],\\n      \"relationships\": [\\n        {\\n          \"character_name\": \"Lyra </span>\n",
       "<span style=\"color: #7f7f7f; text-decoration-color: #7f7f7f\">Flynn\",\\n          \"relationship_type\": \"Mentee\",\\n          \"description\": \"Guides Lyra in her druidic journey\"\\n </span>\n",
       "<span style=\"color: #7f7f7f; text-decoration-color: #7f7f7f\">}\\n      ],\\n      \"internal_conflict\": \"Weighing the responsibility of power with the need for solitude\",\\n      </span>\n",
       "<span style=\"color: #7f7f7f; text-decoration-color: #7f7f7f\">\"character_arc\": {\\n        \"initial_state\": \"Observant guardian\",\\n        \"final_state\": \"Active participant in </span>\n",
       "<span style=\"color: #7f7f7f; text-decoration-color: #7f7f7f\">shaping Aethoria\\'s future\",\\n        \"key_moments\": [\"Deciding to aid Lyra\", \"Confronting his past to protect the </span>\n",
       "<span style=\"color: #7f7f7f; text-decoration-color: #7f7f7f\">Emerald Woods\"]\\n      }\\n    },\\n    {\\n      \"nickname\": \"Moonlit Shadow\",\\n      \"name\": \"Kael Nightwalker\",\\n  </span>\n",
       "<span style=\"color: #7f7f7f; text-decoration-color: #7f7f7f\">\"description\": \"Enigmatic shapeshifter with unparalleled stealth skills\",\\n      \"personality\": \"Brooding, fiercely</span>\n",
       "<span style=\"color: #7f7f7f; text-decoration-color: #7f7f7f\">loyal, with a dry sense of humor\",\\n      \"physical_appearance\": \"Lean, jet-black hair, piercing yellow eyes that </span>\n",
       "<span style=\"color: #7f7f7f; text-decoration-color: #7f7f7f\">glow in the dark\",\\n      \"role\": \"Supporting Character/Ally\",\\n      \"gender\": \"Non-binary\",\\n      \"race\": </span>\n",
       "<span style=\"color: #7f7f7f; text-decoration-color: #7f7f7f\">\"Shapeshifter (Lunar bloodline)\",\\n      \"age\": \"Unknown, appears late 20s\",\\n      \"catch_phrase\": \"Shadows are my</span>\n",
       "<span style=\"color: #7f7f7f; text-decoration-color: #7f7f7f\">solace, and my strength.\",\\n      \"animation_description\": \"Can blend into shadows, transform into various </span>\n",
       "<span style=\"color: #7f7f7f; text-decoration-color: #7f7f7f\">nocturnal animals\",\\n      \"voice_description\": \"Low, mysterious voice that sends shivers\",\\n      \"voice_sample\": </span>\n",
       "<span style=\"color: #7f7f7f; text-decoration-color: #7f7f7f\">null,\\n      \"props\": [\"Moonstone pendant\", \"Shadow weave cloak\"],\\n      \"relationships\": [\\n        {\\n          </span>\n",
       "<span style=\"color: #7f7f7f; text-decoration-color: #7f7f7f\">\"character_name\": \"Lyra Flynn\",\\n          \"relationship_type\": \"Friend/Ally\",\\n          \"description\": \"Provides </span>\n",
       "<span style=\"color: #7f7f7f; text-decoration-color: #7f7f7f\">strategic support and companionship in their quest\"\\n        }\\n      ],\\n      \"internal_conflict\": \"Navigating </span>\n",
       "<span style=\"color: #7f7f7f; text-decoration-color: #7f7f7f\">trust issues stemming from a troubled past\",\\n      \"character_arc\": {\\n        \"initial_state\": \"Guarded and </span>\n",
       "<span style=\"color: #7f7f7f; text-decoration-color: #7f7f7f\">aloof\",\\n        \"final_state\": \"Openly supportive, having found a new family among allies\",\\n        </span>\n",
       "<span style=\"color: #7f7f7f; text-decoration-color: #7f7f7f\">\"key_moments\": [\"First transformation in front of Lyra\", \"Saving Zephyr from the dark sorcerer\\'s minions\"]\\n      </span>\n",
       "<span style=\"color: #7f7f7f; text-decoration-color: #7f7f7f\">}\\n    }\\n  ],\\n  \"props\": [\\n    {\\n      \"name\": \"The Emerald Scepter\",\\n      \"description\": \"A powerful </span>\n",
       "<span style=\"color: #7f7f7f; text-decoration-color: #7f7f7f\">artifact that amplifies druidic powers, central to the prophecy\"\\n    }\\n  ]\\n],\\n\"story_locations\": [\\n  {\\n    </span>\n",
       "<span style=\"color: #7f7f7f; text-decoration-color: #7f7f7f\">\"name\": \"Emerald Woods\",\\n    \"description\": \"Ancient, mystical forest teeming with life and magic\"\\n  },\\n  {\\n   </span>\n",
       "<span style=\"color: #7f7f7f; text-decoration-color: #7f7f7f\">\"name\": \"Windsong Tower\",\\n    \"description\": \"Zephyr\\'s abode, a tower that floats among the clouds, filled with </span>\n",
       "<span style=\"color: #7f7f7f; text-decoration-color: #7f7f7f\">ancient tomes and mysterious artifacts\"\\n  }\\n]\\n}\\n\\n**Story Outline:**\\n\\n1. **Introduction**: \\n   - Introduce </span>\n",
       "<span style=\"color: #7f7f7f; text-decoration-color: #7f7f7f\">Lyra Flynn, an apprentice druid, in the mystical Emerald Woods.\\n   - Show her connection with nature and her </span>\n",
       "<span style=\"color: #7f7f7f; text-decoration-color: #7f7f7f\">desire to master her powers.\\n\\n2. **Inciting Incident**: \\n   - Lyra discovers an ancient prophecy that foretells </span>\n",
       "<span style=\"color: #7f7f7f; text-decoration-color: #7f7f7f\">the destruction of the Emerald Woods by a dark sorcerer.\\n   - She decides to embark on a quest to save her home, </span>\n",
       "<span style=\"color: #7f7f7f; text-decoration-color: #7f7f7f\">guided by Zephyr Windsong.\\n\\n3. **Rising Action**:\\n   - Lyra, with Zephyr’s mentorship and Kael’s companionship, </span>\n",
       "<span style=\"color: #7f7f7f; text-decoration-color: #7f7f7f\">journeys through Aethoria, gathering allies and knowledge.\\n   - They face various challenges and enemies, testing </span>\n",
       "<span style=\"color: #7f7f7f; text-decoration-color: #7f7f7f\">their skills and resolve.\\n   - Key moments include discovering the Emerald Scepter, a powerful artifact crucial to</span>\n",
       "<span style=\"color: #7f7f7f; text-decoration-color: #7f7f7f\">the prophecy, and confronting personal demons.\\n\\n4. **Climax**:\\n   - The trio confronts the dark sorcerer in an </span>\n",
       "<span style=\"color: #7f7f7f; text-decoration-color: #7f7f7f\">epic battle within the heart of the Emerald Woods.\\n   - Lyra must harness her druidic powers, aided by the Emerald</span>\n",
       "<span style=\"color: #7f7f7f; text-decoration-color: #7f7f7f\">Scepter, to restore balance to nature and defeat the sorcerer.\\n\\n5. **Falling Action &amp; Resolution**:\\n   - With </span>\n",
       "<span style=\"color: #7f7f7f; text-decoration-color: #7f7f7f\">the dark sorcerer defeated, the Emerald Woods begin to heal.\\n   - Lyra, now confident in her abilities, decides to</span>\n",
       "<span style=\"color: #7f7f7f; text-decoration-color: #7f7f7f\">continue protecting Aethoria’s natural wonders with Zephyr and Kael by her side.\\n   - The story concludes with a </span>\n",
       "<span style=\"color: #7f7f7f; text-decoration-color: #7f7f7f\">newfound sense of unity among the trio and a brighter future for Aethoria.\\n\\n**Themes Exploration:**\\n\\n- </span>\n",
       "<span style=\"color: #7f7f7f; text-decoration-color: #7f7f7f\">**Balance with Nature**: Highlighted through Lyra\\'s journey and her ultimate use of the Emerald Scepter to restore</span>\n",
       "<span style=\"color: #7f7f7f; text-decoration-color: #7f7f7f\">harmony to the Emerald Woods.\\n- **Self-Discovery**: Each character undergoes significant personal growth, </span>\n",
       "<span style=\"color: #7f7f7f; text-decoration-color: #7f7f7f\">especially Lyra as she embraces her true potential as a druid.\\n- **Unity in Diversity**: The alliance between Lyra</span>\n",
       "<span style=\"color: #7f7f7f; text-decoration-color: #7f7f7f\">(druid), Zephyr (wizard), and Kael (shapeshifter) showcases how diverse skills and backgrounds can lead to a </span>\n",
       "<span style=\"color: #7f7f7f; text-decoration-color: #7f7f7f\">common, victorious goal.', 'action_uid': 'd143...'}</span>\n",
       "</pre>\n"
      ],
      "text/plain": [
       "\u001b[2m13:13:20.751\u001b[0m | \u001b[2;34mEvent\u001b[0m\u001b[2m \u001b[0m\u001b[1;2mStartUtteranceBotAction\u001b[0m | \u001b[2m{'uid': '50ab...', 'script': 'It looks like you\\'ve provided a JSON \u001b[0m\n",
       "\u001b[2mtemplate for the second prompt, but left many fields empty. I\\'ll fill in the gaps with my creative responses to \u001b[0m\n",
       "\u001b[2mgenerate a fantasy story about a magical forest. Here\\'s the completed JSON with the \u001b[0m\n",
       "\u001b[2mstory:\\n\\n**Response**\\n\\n```json\\n{\\n  \"prompt\": \"A fantasy story about a magical forest\",\\n  \"title\": \"Whispers \u001b[0m\n",
       "\u001b[2mof the Emerald Woods\",\\n  \"video\": false,\\n  \"visual_style\": \"Vibrant, ethereal landscapes with soft, luminescent \u001b[0m\n",
       "\u001b[2mlighting\",\\n  \"time_period\": \"Ancient, mystical era\",\\n  \"location\": \"The heart of the enchanted Emerald Woods\",\\n \u001b[0m\n",
       "\u001b[2m\"genre\": \"Fantasy, Adventure\",\\n  \"medium\": \"Novel\",\\n  \"plot_overview\": \"In the mystical realm of Aethoria, where \u001b[0m\n",
       "\u001b[2mmagic is woven into the fabric of nature, the ancient Emerald Woods stand as a testament to wonder. Lyra, a young \u001b[0m\n",
       "\u001b[2mapprentice druid, discovers a cryptic prophecy that foretells the woods\\' demise at the hands of a dark sorcerer. \u001b[0m\n",
       "\u001b[2mWith the help of her companions—a wise old wizard named Zephyr and a cunning shapeshifter named Kael—Lyra embarks \u001b[0m\n",
       "\u001b[2mon a perilous quest to save the Emerald Woods, confronting shadowy creatures, unraveling ancient mysteries, and \u001b[0m\n",
       "\u001b[2mawakening a dormant magic within herself.\",\\n  \"narrative_perspective\": \"Third-person limited, primarily through \u001b[0m\n",
       "\u001b[2mLyra\\'s perspective\",\\n  \"conflict_type\": \"Internal (self-discovery) & External (saving the Emerald Woods)\",\\n  \u001b[0m\n",
       "\u001b[2m\"themes\": [\"Balance with Nature\", \"Self-Discovery\", \"Unity in Diversity\"],\\n  \"motifs\": [\"Ancient Wisdom\", \u001b[0m\n",
       "\u001b[2m\"Nature\\'s Fury\", \"Transformation\"],\\n  \"characters\": [\\n    {\\n      \"nickname\": \"The Greenheart\",\\n      \"name\": \u001b[0m\n",
       "\u001b[2m\"Lyra Flynn\",\\n      \"description\": \"Apprentice druid with a deep connection to nature\",\\n      \"personality\": \u001b[0m\n",
       "\u001b[2m\"Compassionate, determined, and curious\",\\n      \"physical_appearance\": \"Petite, wild curly brown hair, emerald \u001b[0m\n",
       "\u001b[2mgreen eyes\",\\n      \"role\": \"Protagonist\",\\n      \"gender\": \"Female\",\\n      \"race\": \"Half-elf\",\\n      \"age\": \u001b[0m\n",
       "\u001b[2m\"22\",\\n      \"catch_phrase\": \"In harmony with nature, we find our strength.\",\\n      \"animation_description\": \u001b[0m\n",
       "\u001b[2m\"Moves with the grace of a deer, surrounded by subtle leafy aura\",\\n      \"voice_description\": \"Soothing, melodic \u001b[0m\n",
       "\u001b[2mvoice like a gentle stream\",\\n      \"voice_sample\": null,\\n      \"props\": [\"Staff made from a living tree branch\", \u001b[0m\n",
       "\u001b[2m\"Herbalism pouch\"],\\n      \"relationships\": [\\n        {\\n          \"character_name\": \"Zephyr Windsong\",\\n         \u001b[0m\n",
       "\u001b[2m\"relationship_type\": \"Mentor\",\\n          \"description\": \"Guides Lyra in mastering her druidic powers\"\\n        \u001b[0m\n",
       "\u001b[2m},\\n        {\\n          \"character_name\": \"Kael Nightwalker\",\\n          \"relationship_type\": \"Ally/Friend\",\\n    \u001b[0m\n",
       "\u001b[2m\"description\": \"Provides companionship and strategic support in their quest\"\\n        }\\n      ],\\n      \u001b[0m\n",
       "\u001b[2m\"internal_conflict\": \"Balancing personal ambition with the greater good\",\\n      \"character_arc\": {\\n        \u001b[0m\n",
       "\u001b[2m\"initial_state\": \"Uncertain of her abilities\",\\n        \"final_state\": \"Confident leader embracing her true \u001b[0m\n",
       "\u001b[2mpotential\",\\n        \"key_moments\": [\"Discovering the prophecy\", \"First successful druidic summoning\", \"Confronting\u001b[0m\n",
       "\u001b[2mthe dark sorcerer\"]\\n      },\\n      \"image_prompt\": \"Lyra standing amidst a glowing Emerald Woods clearing, \u001b[0m\n",
       "\u001b[2msurrounded by fireflies and ancient trees\",\\n      \"image_prompt_short\": \"Mystical forest maiden\"\\n    },\\n    {\\n \u001b[0m\n",
       "\u001b[2m\"nickname\": \"The Wizard of the Winds\",\\n      \"name\": \"Zephyr Windsong\",\\n      \"description\": \"Wise and powerful \u001b[0m\n",
       "\u001b[2mwizard specializing in aeromancy\",\\n      \"personality\": \"Sage, witty, with a hint of mischief\",\\n      \u001b[0m\n",
       "\u001b[2m\"physical_appearance\": \"Tall, long silver hair flowing like the wind, piercing blue eyes\",\\n      \"role\": \u001b[0m\n",
       "\u001b[2m\"Supporting Character/Mentor\",\\n      \"gender\": \"Male\",\\n      \"race\": \"Human\",\\n      \"age\": \"Ageless, appears \u001b[0m\n",
       "\u001b[2mmid-50s\",\\n      \"catch_phrase\": \"The winds of change are always at our backs.\",\\n      \"animation_description\": \u001b[0m\n",
       "\u001b[2m\"Often surrounded by gentle whirlwinds and floating parchment scrolls\",\\n      \"voice_description\": \"Deep, \u001b[0m\n",
       "\u001b[2mcommanding voice with a soothing undertone\",\\n      \"voice_sample\": null,\\n      \"props\": [\"Staff that controls the\u001b[0m\n",
       "\u001b[2mwinds\", \"Tome of Ancient Spells\"],\\n      \"relationships\": [\\n        {\\n          \"character_name\": \"Lyra \u001b[0m\n",
       "\u001b[2mFlynn\",\\n          \"relationship_type\": \"Mentee\",\\n          \"description\": \"Guides Lyra in her druidic journey\"\\n \u001b[0m\n",
       "\u001b[2m}\\n      ],\\n      \"internal_conflict\": \"Weighing the responsibility of power with the need for solitude\",\\n      \u001b[0m\n",
       "\u001b[2m\"character_arc\": {\\n        \"initial_state\": \"Observant guardian\",\\n        \"final_state\": \"Active participant in \u001b[0m\n",
       "\u001b[2mshaping Aethoria\\'s future\",\\n        \"key_moments\": [\"Deciding to aid Lyra\", \"Confronting his past to protect the \u001b[0m\n",
       "\u001b[2mEmerald Woods\"]\\n      }\\n    },\\n    {\\n      \"nickname\": \"Moonlit Shadow\",\\n      \"name\": \"Kael Nightwalker\",\\n  \u001b[0m\n",
       "\u001b[2m\"description\": \"Enigmatic shapeshifter with unparalleled stealth skills\",\\n      \"personality\": \"Brooding, fiercely\u001b[0m\n",
       "\u001b[2mloyal, with a dry sense of humor\",\\n      \"physical_appearance\": \"Lean, jet-black hair, piercing yellow eyes that \u001b[0m\n",
       "\u001b[2mglow in the dark\",\\n      \"role\": \"Supporting Character/Ally\",\\n      \"gender\": \"Non-binary\",\\n      \"race\": \u001b[0m\n",
       "\u001b[2m\"Shapeshifter (Lunar bloodline)\",\\n      \"age\": \"Unknown, appears late 20s\",\\n      \"catch_phrase\": \"Shadows are my\u001b[0m\n",
       "\u001b[2msolace, and my strength.\",\\n      \"animation_description\": \"Can blend into shadows, transform into various \u001b[0m\n",
       "\u001b[2mnocturnal animals\",\\n      \"voice_description\": \"Low, mysterious voice that sends shivers\",\\n      \"voice_sample\": \u001b[0m\n",
       "\u001b[2mnull,\\n      \"props\": [\"Moonstone pendant\", \"Shadow weave cloak\"],\\n      \"relationships\": [\\n        {\\n          \u001b[0m\n",
       "\u001b[2m\"character_name\": \"Lyra Flynn\",\\n          \"relationship_type\": \"Friend/Ally\",\\n          \"description\": \"Provides \u001b[0m\n",
       "\u001b[2mstrategic support and companionship in their quest\"\\n        }\\n      ],\\n      \"internal_conflict\": \"Navigating \u001b[0m\n",
       "\u001b[2mtrust issues stemming from a troubled past\",\\n      \"character_arc\": {\\n        \"initial_state\": \"Guarded and \u001b[0m\n",
       "\u001b[2maloof\",\\n        \"final_state\": \"Openly supportive, having found a new family among allies\",\\n        \u001b[0m\n",
       "\u001b[2m\"key_moments\": [\"First transformation in front of Lyra\", \"Saving Zephyr from the dark sorcerer\\'s minions\"]\\n      \u001b[0m\n",
       "\u001b[2m}\\n    }\\n  ],\\n  \"props\": [\\n    {\\n      \"name\": \"The Emerald Scepter\",\\n      \"description\": \"A powerful \u001b[0m\n",
       "\u001b[2martifact that amplifies druidic powers, central to the prophecy\"\\n    }\\n  ]\\n],\\n\"story_locations\": [\\n  {\\n    \u001b[0m\n",
       "\u001b[2m\"name\": \"Emerald Woods\",\\n    \"description\": \"Ancient, mystical forest teeming with life and magic\"\\n  },\\n  {\\n   \u001b[0m\n",
       "\u001b[2m\"name\": \"Windsong Tower\",\\n    \"description\": \"Zephyr\\'s abode, a tower that floats among the clouds, filled with \u001b[0m\n",
       "\u001b[2mancient tomes and mysterious artifacts\"\\n  }\\n]\\n}\\n\\n**Story Outline:**\\n\\n1. **Introduction**: \\n   - Introduce \u001b[0m\n",
       "\u001b[2mLyra Flynn, an apprentice druid, in the mystical Emerald Woods.\\n   - Show her connection with nature and her \u001b[0m\n",
       "\u001b[2mdesire to master her powers.\\n\\n2. **Inciting Incident**: \\n   - Lyra discovers an ancient prophecy that foretells \u001b[0m\n",
       "\u001b[2mthe destruction of the Emerald Woods by a dark sorcerer.\\n   - She decides to embark on a quest to save her home, \u001b[0m\n",
       "\u001b[2mguided by Zephyr Windsong.\\n\\n3. **Rising Action**:\\n   - Lyra, with Zephyr’s mentorship and Kael’s companionship, \u001b[0m\n",
       "\u001b[2mjourneys through Aethoria, gathering allies and knowledge.\\n   - They face various challenges and enemies, testing \u001b[0m\n",
       "\u001b[2mtheir skills and resolve.\\n   - Key moments include discovering the Emerald Scepter, a powerful artifact crucial to\u001b[0m\n",
       "\u001b[2mthe prophecy, and confronting personal demons.\\n\\n4. **Climax**:\\n   - The trio confronts the dark sorcerer in an \u001b[0m\n",
       "\u001b[2mepic battle within the heart of the Emerald Woods.\\n   - Lyra must harness her druidic powers, aided by the Emerald\u001b[0m\n",
       "\u001b[2mScepter, to restore balance to nature and defeat the sorcerer.\\n\\n5. **Falling Action & Resolution**:\\n   - With \u001b[0m\n",
       "\u001b[2mthe dark sorcerer defeated, the Emerald Woods begin to heal.\\n   - Lyra, now confident in her abilities, decides to\u001b[0m\n",
       "\u001b[2mcontinue protecting Aethoria’s natural wonders with Zephyr and Kael by her side.\\n   - The story concludes with a \u001b[0m\n",
       "\u001b[2mnewfound sense of unity among the trio and a brighter future for Aethoria.\\n\\n**Themes Exploration:**\\n\\n- \u001b[0m\n",
       "\u001b[2m**Balance with Nature**: Highlighted through Lyra\\'s journey and her ultimate use of the Emerald Scepter to restore\u001b[0m\n",
       "\u001b[2mharmony to the Emerald Woods.\\n- **Self-Discovery**: Each character undergoes significant personal growth, \u001b[0m\n",
       "\u001b[2mespecially Lyra as she embraces her true potential as a druid.\\n- **Unity in Diversity**: The alliance between Lyra\u001b[0m\n",
       "\u001b[2m(druid), Zephyr (wizard), and Kael (shapeshifter) showcases how diverse skills and backgrounds can lead to a \u001b[0m\n",
       "\u001b[2mcommon, victorious goal.', 'action_uid': 'd143...'}\u001b[0m\n"
      ]
     },
     "metadata": {},
     "output_type": "display_data"
    },
    {
     "data": {
      "text/html": [
       "<pre style=\"white-space:pre;overflow-x:auto;line-height:normal;font-family:Menlo,'DejaVu Sans Mono',consolas,'Courier New',monospace\"><span style=\"color: #7f7f7f; text-decoration-color: #7f7f7f\">13:13:20.755</span> | <span style=\"color: #aaaaaa; text-decoration-color: #aaaaaa\">Total processing took 116.85 seconds. LLM Stats: 1 total calls, 116.81 total time, 0 total tokens, 0</span>\n",
       "<span style=\"color: #aaaaaa; text-decoration-color: #aaaaaa\">total prompt tokens, 0 total completion tokens, [116.81] as latencies</span>\n",
       "</pre>\n"
      ],
      "text/plain": [
       "\u001b[2m13:13:20.755\u001b[0m | \u001b[2;38;2;85;85;85mTotal processing took 116.85 seconds. LLM Stats: 1 total calls, 116.81 total time, 0 total tokens, 0\u001b[0m\n",
       "\u001b[2;38;2;85;85;85mtotal prompt tokens, 0 total completion tokens, [116.81] as latencies\u001b[0m\n"
      ]
     },
     "metadata": {},
     "output_type": "display_data"
    },
    {
     "name": "stdout",
     "output_type": "stream",
     "text": [
      "Validated Response: {'role': 'assistant', 'content': 'It looks like you\\'ve provided a JSON template for the second prompt, but left many fields empty. I\\'ll fill in the gaps with my creative responses to generate a fantasy story about a magical forest. Here\\'s the completed JSON with the story:\\n\\n**Response**\\n\\n```json\\n{\\n  \"prompt\": \"A fantasy story about a magical forest\",\\n  \"title\": \"Whispers of the Emerald Woods\",\\n  \"video\": false,\\n  \"visual_style\": \"Vibrant, ethereal landscapes with soft, luminescent lighting\",\\n  \"time_period\": \"Ancient, mystical era\",\\n  \"location\": \"The heart of the enchanted Emerald Woods\",\\n  \"genre\": \"Fantasy, Adventure\",\\n  \"medium\": \"Novel\",\\n  \"plot_overview\": \"In the mystical realm of Aethoria, where magic is woven into the fabric of nature, the ancient Emerald Woods stand as a testament to wonder. Lyra, a young apprentice druid, discovers a cryptic prophecy that foretells the woods\\' demise at the hands of a dark sorcerer. With the help of her companions—a wise old wizard named Zephyr and a cunning shapeshifter named Kael—Lyra embarks on a perilous quest to save the Emerald Woods, confronting shadowy creatures, unraveling ancient mysteries, and awakening a dormant magic within herself.\",\\n  \"narrative_perspective\": \"Third-person limited, primarily through Lyra\\'s perspective\",\\n  \"conflict_type\": \"Internal (self-discovery) & External (saving the Emerald Woods)\",\\n  \"themes\": [\"Balance with Nature\", \"Self-Discovery\", \"Unity in Diversity\"],\\n  \"motifs\": [\"Ancient Wisdom\", \"Nature\\'s Fury\", \"Transformation\"],\\n  \"characters\": [\\n    {\\n      \"nickname\": \"The Greenheart\",\\n      \"name\": \"Lyra Flynn\",\\n      \"description\": \"Apprentice druid with a deep connection to nature\",\\n      \"personality\": \"Compassionate, determined, and curious\",\\n      \"physical_appearance\": \"Petite, wild curly brown hair, emerald green eyes\",\\n      \"role\": \"Protagonist\",\\n      \"gender\": \"Female\",\\n      \"race\": \"Half-elf\",\\n      \"age\": \"22\",\\n      \"catch_phrase\": \"In harmony with nature, we find our strength.\",\\n      \"animation_description\": \"Moves with the grace of a deer, surrounded by subtle leafy aura\",\\n      \"voice_description\": \"Soothing, melodic voice like a gentle stream\",\\n      \"voice_sample\": null,\\n      \"props\": [\"Staff made from a living tree branch\", \"Herbalism pouch\"],\\n      \"relationships\": [\\n        {\\n          \"character_name\": \"Zephyr Windsong\",\\n          \"relationship_type\": \"Mentor\",\\n          \"description\": \"Guides Lyra in mastering her druidic powers\"\\n        },\\n        {\\n          \"character_name\": \"Kael Nightwalker\",\\n          \"relationship_type\": \"Ally/Friend\",\\n          \"description\": \"Provides companionship and strategic support in their quest\"\\n        }\\n      ],\\n      \"internal_conflict\": \"Balancing personal ambition with the greater good\",\\n      \"character_arc\": {\\n        \"initial_state\": \"Uncertain of her abilities\",\\n        \"final_state\": \"Confident leader embracing her true potential\",\\n        \"key_moments\": [\"Discovering the prophecy\", \"First successful druidic summoning\", \"Confronting the dark sorcerer\"]\\n      },\\n      \"image_prompt\": \"Lyra standing amidst a glowing Emerald Woods clearing, surrounded by fireflies and ancient trees\",\\n      \"image_prompt_short\": \"Mystical forest maiden\"\\n    },\\n    {\\n      \"nickname\": \"The Wizard of the Winds\",\\n      \"name\": \"Zephyr Windsong\",\\n      \"description\": \"Wise and powerful wizard specializing in aeromancy\",\\n      \"personality\": \"Sage, witty, with a hint of mischief\",\\n      \"physical_appearance\": \"Tall, long silver hair flowing like the wind, piercing blue eyes\",\\n      \"role\": \"Supporting Character/Mentor\",\\n      \"gender\": \"Male\",\\n      \"race\": \"Human\",\\n      \"age\": \"Ageless, appears mid-50s\",\\n      \"catch_phrase\": \"The winds of change are always at our backs.\",\\n      \"animation_description\": \"Often surrounded by gentle whirlwinds and floating parchment scrolls\",\\n      \"voice_description\": \"Deep, commanding voice with a soothing undertone\",\\n      \"voice_sample\": null,\\n      \"props\": [\"Staff that controls the winds\", \"Tome of Ancient Spells\"],\\n      \"relationships\": [\\n        {\\n          \"character_name\": \"Lyra Flynn\",\\n          \"relationship_type\": \"Mentee\",\\n          \"description\": \"Guides Lyra in her druidic journey\"\\n        }\\n      ],\\n      \"internal_conflict\": \"Weighing the responsibility of power with the need for solitude\",\\n      \"character_arc\": {\\n        \"initial_state\": \"Observant guardian\",\\n        \"final_state\": \"Active participant in shaping Aethoria\\'s future\",\\n        \"key_moments\": [\"Deciding to aid Lyra\", \"Confronting his past to protect the Emerald Woods\"]\\n      }\\n    },\\n    {\\n      \"nickname\": \"Moonlit Shadow\",\\n      \"name\": \"Kael Nightwalker\",\\n      \"description\": \"Enigmatic shapeshifter with unparalleled stealth skills\",\\n      \"personality\": \"Brooding, fiercely loyal, with a dry sense of humor\",\\n      \"physical_appearance\": \"Lean, jet-black hair, piercing yellow eyes that glow in the dark\",\\n      \"role\": \"Supporting Character/Ally\",\\n      \"gender\": \"Non-binary\",\\n      \"race\": \"Shapeshifter (Lunar bloodline)\",\\n      \"age\": \"Unknown, appears late 20s\",\\n      \"catch_phrase\": \"Shadows are my solace, and my strength.\",\\n      \"animation_description\": \"Can blend into shadows, transform into various nocturnal animals\",\\n      \"voice_description\": \"Low, mysterious voice that sends shivers\",\\n      \"voice_sample\": null,\\n      \"props\": [\"Moonstone pendant\", \"Shadow weave cloak\"],\\n      \"relationships\": [\\n        {\\n          \"character_name\": \"Lyra Flynn\",\\n          \"relationship_type\": \"Friend/Ally\",\\n          \"description\": \"Provides strategic support and companionship in their quest\"\\n        }\\n      ],\\n      \"internal_conflict\": \"Navigating trust issues stemming from a troubled past\",\\n      \"character_arc\": {\\n        \"initial_state\": \"Guarded and aloof\",\\n        \"final_state\": \"Openly supportive, having found a new family among allies\",\\n        \"key_moments\": [\"First transformation in front of Lyra\", \"Saving Zephyr from the dark sorcerer\\'s minions\"]\\n      }\\n    }\\n  ],\\n  \"props\": [\\n    {\\n      \"name\": \"The Emerald Scepter\",\\n      \"description\": \"A powerful artifact that amplifies druidic powers, central to the prophecy\"\\n    }\\n  ]\\n],\\n\"story_locations\": [\\n  {\\n    \"name\": \"Emerald Woods\",\\n    \"description\": \"Ancient, mystical forest teeming with life and magic\"\\n  },\\n  {\\n    \"name\": \"Windsong Tower\",\\n    \"description\": \"Zephyr\\'s abode, a tower that floats among the clouds, filled with ancient tomes and mysterious artifacts\"\\n  }\\n]\\n}\\n\\n**Story Outline:**\\n\\n1. **Introduction**: \\n   - Introduce Lyra Flynn, an apprentice druid, in the mystical Emerald Woods.\\n   - Show her connection with nature and her desire to master her powers.\\n\\n2. **Inciting Incident**: \\n   - Lyra discovers an ancient prophecy that foretells the destruction of the Emerald Woods by a dark sorcerer.\\n   - She decides to embark on a quest to save her home, guided by Zephyr Windsong.\\n\\n3. **Rising Action**:\\n   - Lyra, with Zephyr’s mentorship and Kael’s companionship, journeys through Aethoria, gathering allies and knowledge.\\n   - They face various challenges and enemies, testing their skills and resolve.\\n   - Key moments include discovering the Emerald Scepter, a powerful artifact crucial to the prophecy, and confronting personal demons.\\n\\n4. **Climax**:\\n   - The trio confronts the dark sorcerer in an epic battle within the heart of the Emerald Woods.\\n   - Lyra must harness her druidic powers, aided by the Emerald Scepter, to restore balance to nature and defeat the sorcerer.\\n\\n5. **Falling Action & Resolution**:\\n   - With the dark sorcerer defeated, the Emerald Woods begin to heal.\\n   - Lyra, now confident in her abilities, decides to continue protecting Aethoria’s natural wonders with Zephyr and Kael by her side.\\n   - The story concludes with a newfound sense of unity among the trio and a brighter future for Aethoria.\\n\\n**Themes Exploration:**\\n\\n- **Balance with Nature**: Highlighted through Lyra\\'s journey and her ultimate use of the Emerald Scepter to restore harmony to the Emerald Woods.\\n- **Self-Discovery**: Each character undergoes significant personal growth, especially Lyra as she embraces her true potential as a druid.\\n- **Unity in Diversity**: The alliance between Lyra (druid), Zephyr (wizard), and Kael (shapeshifter) showcases how diverse skills and backgrounds can lead to a common, victorious goal.'}\n"
     ]
    }
   ],
   "source": [
    "from guardrails import rail_story\n",
    "import nest_asyncio\n",
    "nest_asyncio.apply()\n",
    "from utils import blank_story, deindent\n",
    "from model import Story\n",
    "\n",
    "story_rails_llm = rail_story()\n",
    "story_json = blank_story.model_dump_json()\n",
    "\n",
    "few_shot = Story(\n",
    "    prompt=\"A team of scientists must survive on an alien planet after a research mission goes horribly wrong.\",\n",
    "    plot_overview=deindent(\"\"\"\n",
    "        A team of elite scientists embarks on a groundbreaking research mission to explore an uncharted alien planet teeming with potential for supporting life. Led by Dr. Elena Martinez, the crew includes experts in various fields, each eager to make history. However, upon arrival, a catastrophic malfunction causes their spaceship to crash-land, leaving them stranded with limited supplies and no way to contact Earth.\n",
    "\n",
    "        As they assess their situation, they encounter the planet's hostile environment filled with dangerous flora and fauna unlike anything they've seen before. Tensions rise within the group as they struggle to survive harsh weather conditions, dwindling resources, and internal conflicts. Days turn into weeks as the scientists discover mysterious ruins suggesting an ancient civilization once thrived there.\n",
    "\n",
    "        Dr. Martinez becomes obsessed with uncovering the secrets of the planet, believing it holds the key to their survival. The team must navigate treacherous terrains, decode alien technology, and confront their own fears and weaknesses. In a race against time, they work together to repair their ship using alien materials and knowledge gleaned from the ruins.\n",
    "\n",
    "        Ultimately, they must decide whether to return home or stay and continue exploring the profound mysteries of the planet that has both threatened and captivated them. Through their journey, they learn valuable lessons about cooperation, resilience, and the ethical implications of their mission.\n",
    "    \"\"\")\n",
    ")\n",
    "\n",
    "prompt_prefix = 'Generate a story based on the following: '\n",
    "\n",
    "\n",
    "# Define a function to use the updated flow for story generation and validation\n",
    "def generate_story_with_validation(prompt):\n",
    "    completion = story_rails_llm.generate(\n",
    "        messages=[\n",
    "            # {\"role\": \"system\", \"content\": \"You are a JSON Story Generator. You take a request form a user and you only output one valid JSON object.\"},\n",
    "            {\"role\": \"user\", \"content\": prompt_prefix + few_shot.model_dump_json(include=[\"prompt\"])},\n",
    "            {\"role\": \"assistant\", \"content\": few_shot.model_dump_json(exclude=[\"prompt\"])},\n",
    "            {\"role\": \"user\", \"content\": prompt_prefix + prompt},\n",
    "        ],\n",
    "        # flow=\"validate_and_retry_output\"  # Specify the flow explicitly\n",
    "    )\n",
    "    return completion\n",
    "\n",
    "# completion = story_rails_llm.generate(\n",
    "#     messages=[{\"role\": \"user\", \"content\": \"Hello world!\"}]\n",
    "# )\n",
    "\n",
    "print(\"story_json:\", story_json)\n",
    "\n",
    "prompt = \"Write a fantasy story about a magical forest in the following json format: \\n\\n\" + story_json\n",
    "response = generate_story_with_validation(prompt)\n",
    "print(\"Validated Response:\", response)\n"
   ]
  },
  {
   "cell_type": "code",
   "execution_count": 8,
   "metadata": {},
   "outputs": [],
   "source": [
    "# app = rail_story()\n",
    "# history = [\n",
    "#     {\"role\": \"system\", \"content\": \"You are a helpful assistant.\"},\n",
    "#     {\"role\": \"user\", \"content\": \"What is the capital of France?\"},\n",
    "# ]\n",
    "# result = app.generate(\n",
    "#     messages=history\n",
    "# )"
   ]
  },
  {
   "cell_type": "code",
   "execution_count": 9,
   "metadata": {},
   "outputs": [
    {
     "ename": "NameError",
     "evalue": "name 'result' is not defined",
     "output_type": "error",
     "traceback": [
      "\u001b[0;31m---------------------------------------------------------------------------\u001b[0m",
      "\u001b[0;31mNameError\u001b[0m                                 Traceback (most recent call last)",
      "Cell \u001b[0;32mIn[9], line 1\u001b[0m\n\u001b[0;32m----> 1\u001b[0m \u001b[43mresult\u001b[49m\n",
      "\u001b[0;31mNameError\u001b[0m: name 'result' is not defined"
     ]
    }
   ],
   "source": [
    "result"
   ]
  }
 ],
 "metadata": {
  "kernelspec": {
   "display_name": "plotomatic",
   "language": "python",
   "name": "python3"
  },
  "language_info": {
   "codemirror_mode": {
    "name": "ipython",
    "version": 3
   },
   "file_extension": ".py",
   "mimetype": "text/x-python",
   "name": "python",
   "nbconvert_exporter": "python",
   "pygments_lexer": "ipython3",
   "version": "3.12.7"
  }
 },
 "nbformat": 4,
 "nbformat_minor": 2
}
