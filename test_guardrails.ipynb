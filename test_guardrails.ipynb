{
 "cells": [
  {
   "cell_type": "code",
   "execution_count": 1,
   "metadata": {},
   "outputs": [],
   "source": [
    "from model import Story, StoryDialog\n",
    "from nemoguardrails import LLMRails, RailsConfig\n",
    "from nemoguardrails.actions import action\n",
    "import json\n",
    "from pydantic import ValidationError\n",
    "import time\n",
    "\n",
    "import nest_asyncio\n",
    "\n",
    "# Allow async operation in interactive environments\n",
    "nest_asyncio.apply()"
   ]
  },
  {
   "cell_type": "code",
   "execution_count": 2,
   "metadata": {},
   "outputs": [],
   "source": [
    "story_config = None\n",
    "story_dialog_policy = None\n",
    "\n",
    "story_config_path = \"rails/story/\"\n",
    "story_schema_path = story_config_path + \"/story_schema.json\"\n",
    "story_dialog_schema_path = story_config_path + \"/story_dialog_schema.json\""
   ]
  },
  {
   "cell_type": "code",
   "execution_count": 3,
   "metadata": {},
   "outputs": [],
   "source": [
    "def write_schema():\n",
    "    \"\"\"\n",
    "    Generates JSON schema files for Story and StoryDialog models.\n",
    "\n",
    "    This function retrieves the JSON schema for the Story and StoryDialog models\n",
    "    and writes them to `story_config_path` and `story_dialog_policy_path` files\n",
    "    respectively.\n",
    "    \"\"\"\n",
    "    # For Story\n",
    "    story_schema = Story.model_json_schema()\n",
    "    with open(story_schema_path, 'w') as f:\n",
    "        json.dump(story_schema, f, indent=2)\n",
    "\n",
    "    # For StoryDialog\n",
    "    story_dialog_schema = StoryDialog.model_json_schema()\n",
    "    with open(story_dialog_schema_path, 'w') as f:\n",
    "        json.dump(story_dialog_schema, f, indent=2)\n",
    "\n",
    "write_schema()"
   ]
  },
  {
   "cell_type": "code",
   "execution_count": 4,
   "metadata": {},
   "outputs": [],
   "source": [
    "# rails:\n",
    "#   output:\n",
    "#     flows:\n",
    "#       - self check output\n",
    "\n",
    "# prompts:\n",
    "#   - task: self_check_output\n",
    "#     content: |\n",
    "#       Your task is to check if the bot message below complies with the company policy.\n",
    "\n",
    "#       Company policy for the bot:\n",
    "#       - messages should not contain any explicit content, even if just a few words\n",
    "#       - messages should not contain abusive language or offensive content, even if just a few words\n",
    "#       - messages should not contain any harmful content\n",
    "#       - messages should not contain racially insensitive content\n",
    "#       - messages should not contain any word that can be considered offensive\n",
    "#       - if a message is a refusal, should be polite\n",
    "#       - it's ok to give instructions to employees on how to protect the company's interests\n",
    "\n",
    "#       Bot message: \"{{ bot_response }}\"\n",
    "\n",
    "#       Question: Should the message be blocked (Yes or No)?\n",
    "#       Answer:"
   ]
  },
  {
   "cell_type": "code",
   "execution_count": null,
   "metadata": {},
   "outputs": [],
   "source": [
    "from typing import Optional\n",
    "from json_repair import repair_json\n",
    "\n",
    "def rail_story():\n",
    "    \"\"\"Retries if failed to get a JSON response that can be parsed into a Story object\"\"\"\n",
    "    # # load_guardrails()\n",
    "    # story_config = RailsConfig.from_path(story_config_path)\n",
    "    # return LLMRails(story_config)\n",
    "\n",
    "    config = RailsConfig.from_content(\n",
    "        yaml_content=\"\"\"\n",
    "            instructions:\n",
    "            - type: general\n",
    "                content: |\n",
    "                Poo poo poo.\n",
    "\n",
    "\n",
    "                \n",
    "            models:\n",
    "            - type: main\n",
    "              engine: ollama\n",
    "              model: nemotron:70b\n",
    "              temperature: 0.0\n",
    "\n",
    "            # Output rails are triggered after a bot message has been generated.\n",
    "            rails:\n",
    "                output:\n",
    "                    flows:\n",
    "                    - retry json\n",
    "                  input:\n",
    "                    flows:\n",
    "                    - self check input\n",
    "\n",
    "            \n",
    "        \"\"\",\n",
    "        colang_content=\"\"\"\n",
    "            define bot inform cannot parse json\n",
    "                \"Unable to parse the Story JSON.\"\n",
    "\n",
    "            # If we can't parse json, we retry\n",
    "            define subflow retry json\n",
    "                $failed_json = execute retry_json\n",
    "\n",
    "                if $failed_json\n",
    "                    bot inform cannot parse json\n",
    "                    stop\n",
    "        \"\"\",\n",
    "    )\n",
    "    app = LLMRails(config, verbose=True)\n",
    "\n",
    "    @action(is_system_action=True)\n",
    "    def retry_json(context: Optional[dict] = None, retries: int=0) -> str:\n",
    "        from pprint import pprint\n",
    "        print(\"!!!!!!!!!! call_llm !!!!!!!!!!!\")\n",
    "\n",
    "        if retries > 3:\n",
    "            # Failed too many times!\n",
    "            print(\"Failed too many times!\")\n",
    "            return True\n",
    "        \n",
    "        if retries > 0:\n",
    "            print(f\"Retry {retries}\")\n",
    "\n",
    "        config = app.config\n",
    "        print(f\"config: \")\n",
    "        pprint(config)\n",
    "        print(f\"retries: {retries}\")\n",
    "\n",
    "        bot_response = context.get(\"bot_message\")\n",
    "        user_message = context.get(\"user_message\")\n",
    "        # call_config = RunnableConfig(callbacks=[streaming_handler_var.get()])\n",
    "        # response = llm.invoke(user_query, config=call_config)\n",
    "        # return response.content\n",
    "        \n",
    "        print(f\"bot_response: {bot_response}\")\n",
    "        print(f\"user_message: {user_message}\")\n",
    "        # print(f\"retries: {retries}\")\n",
    "        \n",
    "        print(\"context:\")\n",
    "        pprint(context)\n",
    "\n",
    "        try:\n",
    "            story = Story.model_validate_json(bot_response)\n",
    "            print(\"story:\")\n",
    "            print(story.model_dump_json(indent=2))\n",
    "            return False\n",
    "        # except ValidationError as e:\n",
    "        except BaseException as e:\n",
    "            print(f\"Failed to parse Story JSON. Trying to repair json. Attempt {retries+1}\")\n",
    "            # Try to fix up the json\n",
    "            try:\n",
    "                bot_response = repair_json(bot_response)\n",
    "                story = Story.model_validate_json(bot_response)\n",
    "                print(\"story:\")\n",
    "                print(story.model_dump_json(indent=2))\n",
    "                print(\"Successfully repaired JSON\")\n",
    "                return False\n",
    "            # except ValidationError as e:\n",
    "            except Exception as e2:\n",
    "                print(f\"Failed to parse Story JSON. Attempt {retries+1}\")\n",
    "                print(e2)\n",
    "            return retry_json(context, retries=retries+1)\n",
    "    \n",
    "    app.register_action(retry_json)\n",
    "\n",
    "    return app"
   ]
  },
  {
   "cell_type": "code",
   "execution_count": 6,
   "metadata": {},
   "outputs": [],
   "source": [
    "# app = rail_story()\n",
    "# history = [\n",
    "#     {\"role\": \"system\", \"content\": \"You are a helpful assistant.\"},\n",
    "#     {\"role\": \"user\", \"content\": \"What is the capital of France?\"},\n",
    "# ]\n",
    "# result = app.generate(\n",
    "#     messages=history\n",
    "# )"
   ]
  },
  {
   "cell_type": "code",
   "execution_count": null,
   "metadata": {},
   "outputs": [
    {
     "data": {
      "text/html": [
       "<pre style=\"white-space:pre;overflow-x:auto;line-height:normal;font-family:Menlo,'DejaVu Sans Mono',consolas,'Courier New',monospace\">Entered verbose mode.\n",
       "</pre>\n"
      ],
      "text/plain": [
       "Entered verbose mode.\n"
      ]
     },
     "metadata": {},
     "output_type": "display_data"
    },
    {
     "data": {
      "text/html": [
       "<pre style=\"white-space:pre;overflow-x:auto;line-height:normal;font-family:Menlo,'DejaVu Sans Mono',consolas,'Courier New',monospace\"><span style=\"color: #7f7f7f; text-decoration-color: #7f7f7f\">13:04:50.339</span> | <span style=\"color: #b7b7b7; text-decoration-color: #b7b7b7\">Registered Actions</span><span style=\"color: #7f7f7f; text-decoration-color: #7f7f7f\"> </span><span style=\"color: #aaaaaa; text-decoration-color: #aaaaaa\">['alignscore request', 'alignscore_check_facts', </span>\n",
       "<span style=\"color: #aaaaaa; text-decoration-color: #aaaaaa\">'autoalign_factcheck_output_api', 'autoalign_input_api', 'autoalign_output_api', 'call activefence api', 'call </span>\n",
       "<span style=\"color: #aaaaaa; text-decoration-color: #aaaaaa\">cleanlab api', 'call gcpnlp api', 'call gotitai truthchecker api', 'content_safety_check_input', </span>\n",
       "<span style=\"color: #aaaaaa; text-decoration-color: #aaaaaa\">'content_safety_check_output', 'create_event', 'detect_sensitive_data', 'jailbreak_detection_heuristics', </span>\n",
       "<span style=\"color: #aaaaaa; text-decoration-color: #aaaaaa\">'llama_guard_check_input', 'llama_guard_check_output', 'mask_sensitive_data', </span>\n",
       "<span style=\"color: #aaaaaa; text-decoration-color: #aaaaaa\">'patronus_lynx_check_output_hallucination', 'retrieve_relevant_chunks', 'self_check_facts', </span>\n",
       "<span style=\"color: #aaaaaa; text-decoration-color: #aaaaaa\">'self_check_hallucination', 'self_check_input', 'self_check_output', 'summarize_document', 'wolfram alpha request']</span>\n",
       "</pre>\n"
      ],
      "text/plain": [
       "\u001b[2m13:04:50.339\u001b[0m | \u001b[2;38;2;112;112;112mRegistered Actions\u001b[0m\u001b[2m \u001b[0m\u001b[2;38;2;85;85;85m['alignscore request', 'alignscore_check_facts', \u001b[0m\n",
       "\u001b[2;38;2;85;85;85m'autoalign_factcheck_output_api', 'autoalign_input_api', 'autoalign_output_api', 'call activefence api', 'call \u001b[0m\n",
       "\u001b[2;38;2;85;85;85mcleanlab api', 'call gcpnlp api', 'call gotitai truthchecker api', 'content_safety_check_input', \u001b[0m\n",
       "\u001b[2;38;2;85;85;85m'content_safety_check_output', 'create_event', 'detect_sensitive_data', 'jailbreak_detection_heuristics', \u001b[0m\n",
       "\u001b[2;38;2;85;85;85m'llama_guard_check_input', 'llama_guard_check_output', 'mask_sensitive_data', \u001b[0m\n",
       "\u001b[2;38;2;85;85;85m'patronus_lynx_check_output_hallucination', 'retrieve_relevant_chunks', 'self_check_facts', \u001b[0m\n",
       "\u001b[2;38;2;85;85;85m'self_check_hallucination', 'self_check_input', 'self_check_output', 'summarize_document', 'wolfram alpha request']\u001b[0m\n"
      ]
     },
     "metadata": {},
     "output_type": "display_data"
    },
    {
     "data": {
      "application/vnd.jupyter.widget-view+json": {
       "model_id": "1504d5f1c6144cfb991920083bd1cb5e",
       "version_major": 2,
       "version_minor": 0
      },
      "text/plain": [
       "Fetching 5 files:   0%|          | 0/5 [00:00<?, ?it/s]"
      ]
     },
     "metadata": {},
     "output_type": "display_data"
    },
    {
     "name": "stdout",
     "output_type": "stream",
     "text": [
      "story_json: {\"prompt\":\"\",\"title\":\"\",\"video\":false,\"visual_style\":\"\",\"time_period\":\"\",\"location\":\"\",\"genre\":\"\",\"medium\":\"\",\"plot_overview\":\"\",\"narrative_perspective\":\"\",\"conflict_type\":\"\",\"themes\":[],\"motifs\":[],\"characters\":[{\"nickname\":\"\",\"name\":\"\",\"description\":\"\",\"personality\":\"\",\"physical_appearance\":\"\",\"role\":\"\",\"gender\":\"\",\"race\":\"\",\"age\":\"\",\"catch_phrase\":\"\",\"animation_description\":\"\",\"voice_description\":\"\",\"voice_sample\":null,\"props\":[],\"relationships\":[{\"character_name\":null,\"relationship_type\":null,\"description\":\"\"}],\"internal_conflict\":\"\",\"character_arc\":{\"initial_state\":\"\",\"final_state\":\"\",\"key_moments\":[\"\"]},\"image_prompt\":\"\",\"image_prompt_short\":\"\"}],\"props\":[{\"name\":\"\",\"description\":\"\",\"purpose\":\"\",\"physical_appearance\":\"\",\"animation_description\":\"\"}],\"story_beats\":[{\"name\":null,\"description\":null,\"scene\":\"\"}],\"subplots\":[{\"title\":null,\"description\":\"\",\"related_characters\":[]}],\"emotional_arc\":[{\"stage\":null,\"description\":\"\"}],\"acts\":[{\"act_id\":\"\",\"title\":\"\",\"description\":\"\",\"scenes\":[{\"scene_id\":\"\",\"title\":\"\",\"description\":\"\",\"characters_involved\":[\"\"],\"setting\":\"\",\"time_of_day\":\"\",\"location\":\"\",\"lighting\":\"\",\"mood\":\"\",\"props\":[\"\"],\"key_actions\":[\"\"],\"dialogue\":[],\"background_image_prompt\":\"\",\"background_animation\":\"\",\"scene_image_prompt\":\"\",\"scene_image_prompt_short\":\"\"}],\"props\":[\"\"]}]}\n"
     ]
    },
    {
     "data": {
      "text/html": [
       "<pre style=\"white-space:pre;overflow-x:auto;line-height:normal;font-family:Menlo,'DejaVu Sans Mono',consolas,'Courier New',monospace\"><span style=\"color: #7f7f7f; text-decoration-color: #7f7f7f\">13:04:50.726</span> | <span style=\"color: #7f7fbf; text-decoration-color: #7f7fbf\">Event</span><span style=\"color: #7f7f7f; text-decoration-color: #7f7f7f\"> </span><span style=\"color: #7f7f7f; text-decoration-color: #7f7f7f; font-weight: bold\">UtteranceUserActionFinished</span> | <span style=\"color: #7f7f7f; text-decoration-color: #7f7f7f\">{'final_transcript': 'Generate a story based on the following: </span>\n",
       "<span style=\"color: #7f7f7f; text-decoration-color: #7f7f7f\">Write a fantasy story about a magical forest in the following json format: </span>\n",
       "<span style=\"color: #7f7f7f; text-decoration-color: #7f7f7f\">\\n\\n{\"prompt\":\"\",\"title\":\"\",\"video\":false,\"visual_style\":\"\",\"time_period\":\"\",\"location\":\"\",\"genre\":\"\",\"medium\":\"\",\"</span>\n",
       "<span style=\"color: #7f7f7f; text-decoration-color: #7f7f7f\">plot_overview\":\"\",\"narrative_perspective\":\"\",\"conflict_type\":\"\",\"themes\":[],\"motifs\":[],\"characters\":[{\"nickname\":\"</span>\n",
       "<span style=\"color: #7f7f7f; text-decoration-color: #7f7f7f\">\",\"name\":\"\",\"description\":\"\",\"personality\":\"\",\"physical_appearance\":\"\",\"role\":\"\",\"gender\":\"\",\"race\":\"\",\"age\":\"\",\"ca</span>\n",
       "<span style=\"color: #7f7f7f; text-decoration-color: #7f7f7f\">tch_phrase\":\"\",\"animation_description\":\"\",\"voice_description\":\"\",\"voice_sample\":null,\"props\":[],\"relationships\":[{\"</span>\n",
       "<span style=\"color: #7f7f7f; text-decoration-color: #7f7f7f\">character_name\":null,\"relationship_type\":null,\"description\":\"\"}],\"internal_conflict\":\"\",\"character_arc\":{\"initial_s</span>\n",
       "<span style=\"color: #7f7f7f; text-decoration-color: #7f7f7f\">tate\":\"\",\"final_state\":\"\",\"key_moments\":[\"\"]},\"image_prompt\":\"\",\"image_prompt_short\":\"\"}],\"props\":[{\"name\":\"\",\"desc</span>\n",
       "<span style=\"color: #7f7f7f; text-decoration-color: #7f7f7f\">ription\":\"\",\"purpose\":\"\",\"physical_appearance\":\"\",\"animation_description\":\"\"}],\"story_beats\":[{\"name\":null,\"descrip</span>\n",
       "<span style=\"color: #7f7f7f; text-decoration-color: #7f7f7f\">tion\":null,\"scene\":\"\"}],\"subplots\":[{\"title\":null,\"description\":\"\",\"related_characters\":[]}],\"emotional_arc\":[{\"sta</span>\n",
       "<span style=\"color: #7f7f7f; text-decoration-color: #7f7f7f\">ge\":null,\"description\":\"\"}],\"acts\":[{\"act_id\":\"\",\"title\":\"\",\"description\":\"\",\"scenes\":[{\"scene_id\":\"\",\"title\":\"\",\"d</span>\n",
       "<span style=\"color: #7f7f7f; text-decoration-color: #7f7f7f\">escription\":\"\",\"characters_involved\":[\"\"],\"setting\":\"\",\"time_of_day\":\"\",\"location\":\"\",\"lighting\":\"\",\"mood\":\"\",\"prop</span>\n",
       "<span style=\"color: #7f7f7f; text-decoration-color: #7f7f7f\">s\":[\"\"],\"key_actions\":[\"\"],\"dialogue\":[],\"background_image_prompt\":\"\",\"background_animation\":\"\",\"scene_image_prompt</span>\n",
       "<span style=\"color: #7f7f7f; text-decoration-color: #7f7f7f\">\":\"\",\"scene_image_prompt_short\":\"\"}],\"props\":[\"\"]}]}'}</span>\n",
       "</pre>\n"
      ],
      "text/plain": [
       "\u001b[2m13:04:50.726\u001b[0m | \u001b[2;34mEvent\u001b[0m\u001b[2m \u001b[0m\u001b[1;2mUtteranceUserActionFinished\u001b[0m | \u001b[2m{'final_transcript': 'Generate a story based on the following: \u001b[0m\n",
       "\u001b[2mWrite a fantasy story about a magical forest in the following json format: \u001b[0m\n",
       "\u001b[2m\\n\\n{\"prompt\":\"\",\"title\":\"\",\"video\":false,\"visual_style\":\"\",\"time_period\":\"\",\"location\":\"\",\"genre\":\"\",\"medium\":\"\",\"\u001b[0m\n",
       "\u001b[2mplot_overview\":\"\",\"narrative_perspective\":\"\",\"conflict_type\":\"\",\"themes\":[],\"motifs\":[],\"characters\":[{\"nickname\":\"\u001b[0m\n",
       "\u001b[2m\",\"name\":\"\",\"description\":\"\",\"personality\":\"\",\"physical_appearance\":\"\",\"role\":\"\",\"gender\":\"\",\"race\":\"\",\"age\":\"\",\"ca\u001b[0m\n",
       "\u001b[2mtch_phrase\":\"\",\"animation_description\":\"\",\"voice_description\":\"\",\"voice_sample\":null,\"props\":[],\"relationships\":[{\"\u001b[0m\n",
       "\u001b[2mcharacter_name\":null,\"relationship_type\":null,\"description\":\"\"}],\"internal_conflict\":\"\",\"character_arc\":{\"initial_s\u001b[0m\n",
       "\u001b[2mtate\":\"\",\"final_state\":\"\",\"key_moments\":[\"\"]},\"image_prompt\":\"\",\"image_prompt_short\":\"\"}],\"props\":[{\"name\":\"\",\"desc\u001b[0m\n",
       "\u001b[2mription\":\"\",\"purpose\":\"\",\"physical_appearance\":\"\",\"animation_description\":\"\"}],\"story_beats\":[{\"name\":null,\"descrip\u001b[0m\n",
       "\u001b[2mtion\":null,\"scene\":\"\"}],\"subplots\":[{\"title\":null,\"description\":\"\",\"related_characters\":[]}],\"emotional_arc\":[{\"sta\u001b[0m\n",
       "\u001b[2mge\":null,\"description\":\"\"}],\"acts\":[{\"act_id\":\"\",\"title\":\"\",\"description\":\"\",\"scenes\":[{\"scene_id\":\"\",\"title\":\"\",\"d\u001b[0m\n",
       "\u001b[2mescription\":\"\",\"characters_involved\":[\"\"],\"setting\":\"\",\"time_of_day\":\"\",\"location\":\"\",\"lighting\":\"\",\"mood\":\"\",\"prop\u001b[0m\n",
       "\u001b[2ms\":[\"\"],\"key_actions\":[\"\"],\"dialogue\":[],\"background_image_prompt\":\"\",\"background_animation\":\"\",\"scene_image_prompt\u001b[0m\n",
       "\u001b[2m\":\"\",\"scene_image_prompt_short\":\"\"}],\"props\":[\"\"]}]}'}\u001b[0m\n"
      ]
     },
     "metadata": {},
     "output_type": "display_data"
    },
    {
     "data": {
      "text/html": [
       "<pre style=\"white-space:pre;overflow-x:auto;line-height:normal;font-family:Menlo,'DejaVu Sans Mono',consolas,'Courier New',monospace\"><span style=\"color: #7f7f7f; text-decoration-color: #7f7f7f\">13:04:50.727</span> | <span style=\"color: #7f7fbf; text-decoration-color: #7f7fbf\">Event</span><span style=\"color: #7f7f7f; text-decoration-color: #7f7f7f\"> </span><span style=\"color: #7f7f7f; text-decoration-color: #7f7f7f; font-weight: bold\">StartInternalSystemAction</span> | <span style=\"color: #7f7f7f; text-decoration-color: #7f7f7f\">{'uid': '62ee...', 'action_name': 'create_event', 'action_params':</span>\n",
       "<span style=\"color: #7f7f7f; text-decoration-color: #7f7f7f\">{'event': {'_type': 'UserMessage', 'text': '$user_message'}}, 'action_result_key': None, 'action_uid': 'd43a...', </span>\n",
       "<span style=\"color: #7f7f7f; text-decoration-color: #7f7f7f\">'is_system_action': True}</span>\n",
       "</pre>\n"
      ],
      "text/plain": [
       "\u001b[2m13:04:50.727\u001b[0m | \u001b[2;34mEvent\u001b[0m\u001b[2m \u001b[0m\u001b[1;2mStartInternalSystemAction\u001b[0m | \u001b[2m{'uid': '62ee...', 'action_name': 'create_event', 'action_params':\u001b[0m\n",
       "\u001b[2m{'event': {'_type': 'UserMessage', 'text': '$user_message'}}, 'action_result_key': None, 'action_uid': 'd43a...', \u001b[0m\n",
       "\u001b[2m'is_system_action': True}\u001b[0m\n"
      ]
     },
     "metadata": {},
     "output_type": "display_data"
    },
    {
     "data": {
      "text/html": [
       "<pre style=\"white-space:pre;overflow-x:auto;line-height:normal;font-family:Menlo,'DejaVu Sans Mono',consolas,'Courier New',monospace\"><span style=\"color: #7f7f7f; text-decoration-color: #7f7f7f\">13:04:50.728</span> | <span style=\"color: #b7b7b7; text-decoration-color: #b7b7b7\">Executing action</span><span style=\"color: #7f7f7f; text-decoration-color: #7f7f7f\"> </span><span style=\"color: #aaaaaa; text-decoration-color: #aaaaaa\">create_event</span>\n",
       "</pre>\n"
      ],
      "text/plain": [
       "\u001b[2m13:04:50.728\u001b[0m | \u001b[2;38;2;112;112;112mExecuting action\u001b[0m\u001b[2m \u001b[0m\u001b[2;38;2;85;85;85mcreate_event\u001b[0m\n"
      ]
     },
     "metadata": {},
     "output_type": "display_data"
    },
    {
     "data": {
      "text/html": [
       "<pre style=\"white-space:pre;overflow-x:auto;line-height:normal;font-family:Menlo,'DejaVu Sans Mono',consolas,'Courier New',monospace\"><span style=\"color: #7f7f7f; text-decoration-color: #7f7f7f\">13:04:50.729</span> | <span style=\"color: #7f7fbf; text-decoration-color: #7f7fbf\">Event</span><span style=\"color: #7f7f7f; text-decoration-color: #7f7f7f\"> </span><span style=\"color: #7f7f7f; text-decoration-color: #7f7f7f; font-weight: bold\">UserMessage</span> | <span style=\"color: #7f7f7f; text-decoration-color: #7f7f7f\">{'uid': 'd9a7...', 'text': 'Generate a story based on the following: Write a </span>\n",
       "<span style=\"color: #7f7f7f; text-decoration-color: #7f7f7f\">fantasy story about a magical forest in the following json format: </span>\n",
       "<span style=\"color: #7f7f7f; text-decoration-color: #7f7f7f\">\\n\\n{\"prompt\":\"\",\"title\":\"\",\"video\":false,\"visual_style\":\"\",\"time_period\":\"\",\"location\":\"\",\"genre\":\"\",\"medium\":\"\",\"</span>\n",
       "<span style=\"color: #7f7f7f; text-decoration-color: #7f7f7f\">plot_overview\":\"\",\"narrative_perspective\":\"\",\"conflict_type\":\"\",\"themes\":[],\"motifs\":[],\"characters\":[{\"nickname\":\"</span>\n",
       "<span style=\"color: #7f7f7f; text-decoration-color: #7f7f7f\">\",\"name\":\"\",\"description\":\"\",\"personality\":\"\",\"physical_appearance\":\"\",\"role\":\"\",\"gender\":\"\",\"race\":\"\",\"age\":\"\",\"ca</span>\n",
       "<span style=\"color: #7f7f7f; text-decoration-color: #7f7f7f\">tch_phrase\":\"\",\"animation_description\":\"\",\"voice_description\":\"\",\"voice_sample\":null,\"props\":[],\"relationships\":[{\"</span>\n",
       "<span style=\"color: #7f7f7f; text-decoration-color: #7f7f7f\">character_name\":null,\"relationship_type\":null,\"description\":\"\"}],\"internal_conflict\":\"\",\"character_arc\":{\"initial_s</span>\n",
       "<span style=\"color: #7f7f7f; text-decoration-color: #7f7f7f\">tate\":\"\",\"final_state\":\"\",\"key_moments\":[\"\"]},\"image_prompt\":\"\",\"image_prompt_short\":\"\"}],\"props\":[{\"name\":\"\",\"desc</span>\n",
       "<span style=\"color: #7f7f7f; text-decoration-color: #7f7f7f\">ription\":\"\",\"purpose\":\"\",\"physical_appearance\":\"\",\"animation_description\":\"\"}],\"story_beats\":[{\"name\":null,\"descrip</span>\n",
       "<span style=\"color: #7f7f7f; text-decoration-color: #7f7f7f\">tion\":null,\"scene\":\"\"}],\"subplots\":[{\"title\":null,\"description\":\"\",\"related_characters\":[]}],\"emotional_arc\":[{\"sta</span>\n",
       "<span style=\"color: #7f7f7f; text-decoration-color: #7f7f7f\">ge\":null,\"description\":\"\"}],\"acts\":[{\"act_id\":\"\",\"title\":\"\",\"description\":\"\",\"scenes\":[{\"scene_id\":\"\",\"title\":\"\",\"d</span>\n",
       "<span style=\"color: #7f7f7f; text-decoration-color: #7f7f7f\">escription\":\"\",\"characters_involved\":[\"\"],\"setting\":\"\",\"time_of_day\":\"\",\"location\":\"\",\"lighting\":\"\",\"mood\":\"\",\"prop</span>\n",
       "<span style=\"color: #7f7f7f; text-decoration-color: #7f7f7f\">s\":[\"\"],\"key_actions\":[\"\"],\"dialogue\":[],\"background_image_prompt\":\"\",\"background_animation\":\"\",\"scene_image_prompt</span>\n",
       "<span style=\"color: #7f7f7f; text-decoration-color: #7f7f7f\">\":\"\",\"scene_image_prompt_short\":\"\"}],\"props\":[\"\"]}]}'}</span>\n",
       "</pre>\n"
      ],
      "text/plain": [
       "\u001b[2m13:04:50.729\u001b[0m | \u001b[2;34mEvent\u001b[0m\u001b[2m \u001b[0m\u001b[1;2mUserMessage\u001b[0m | \u001b[2m{'uid': 'd9a7...', 'text': 'Generate a story based on the following: Write a \u001b[0m\n",
       "\u001b[2mfantasy story about a magical forest in the following json format: \u001b[0m\n",
       "\u001b[2m\\n\\n{\"prompt\":\"\",\"title\":\"\",\"video\":false,\"visual_style\":\"\",\"time_period\":\"\",\"location\":\"\",\"genre\":\"\",\"medium\":\"\",\"\u001b[0m\n",
       "\u001b[2mplot_overview\":\"\",\"narrative_perspective\":\"\",\"conflict_type\":\"\",\"themes\":[],\"motifs\":[],\"characters\":[{\"nickname\":\"\u001b[0m\n",
       "\u001b[2m\",\"name\":\"\",\"description\":\"\",\"personality\":\"\",\"physical_appearance\":\"\",\"role\":\"\",\"gender\":\"\",\"race\":\"\",\"age\":\"\",\"ca\u001b[0m\n",
       "\u001b[2mtch_phrase\":\"\",\"animation_description\":\"\",\"voice_description\":\"\",\"voice_sample\":null,\"props\":[],\"relationships\":[{\"\u001b[0m\n",
       "\u001b[2mcharacter_name\":null,\"relationship_type\":null,\"description\":\"\"}],\"internal_conflict\":\"\",\"character_arc\":{\"initial_s\u001b[0m\n",
       "\u001b[2mtate\":\"\",\"final_state\":\"\",\"key_moments\":[\"\"]},\"image_prompt\":\"\",\"image_prompt_short\":\"\"}],\"props\":[{\"name\":\"\",\"desc\u001b[0m\n",
       "\u001b[2mription\":\"\",\"purpose\":\"\",\"physical_appearance\":\"\",\"animation_description\":\"\"}],\"story_beats\":[{\"name\":null,\"descrip\u001b[0m\n",
       "\u001b[2mtion\":null,\"scene\":\"\"}],\"subplots\":[{\"title\":null,\"description\":\"\",\"related_characters\":[]}],\"emotional_arc\":[{\"sta\u001b[0m\n",
       "\u001b[2mge\":null,\"description\":\"\"}],\"acts\":[{\"act_id\":\"\",\"title\":\"\",\"description\":\"\",\"scenes\":[{\"scene_id\":\"\",\"title\":\"\",\"d\u001b[0m\n",
       "\u001b[2mescription\":\"\",\"characters_involved\":[\"\"],\"setting\":\"\",\"time_of_day\":\"\",\"location\":\"\",\"lighting\":\"\",\"mood\":\"\",\"prop\u001b[0m\n",
       "\u001b[2ms\":[\"\"],\"key_actions\":[\"\"],\"dialogue\":[],\"background_image_prompt\":\"\",\"background_animation\":\"\",\"scene_image_prompt\u001b[0m\n",
       "\u001b[2m\":\"\",\"scene_image_prompt_short\":\"\"}],\"props\":[\"\"]}]}'}\u001b[0m\n"
      ]
     },
     "metadata": {},
     "output_type": "display_data"
    },
    {
     "data": {
      "text/html": [
       "<pre style=\"white-space:pre;overflow-x:auto;line-height:normal;font-family:Menlo,'DejaVu Sans Mono',consolas,'Courier New',monospace\"><span style=\"color: #7f7f7f; text-decoration-color: #7f7f7f\">13:04:50.730</span> | <span style=\"color: #7f7fbf; text-decoration-color: #7f7fbf\">Event</span><span style=\"color: #7f7f7f; text-decoration-color: #7f7f7f\"> </span><span style=\"color: #7f7f7f; text-decoration-color: #7f7f7f; font-weight: bold\">StartInternalSystemAction</span> | <span style=\"color: #7f7f7f; text-decoration-color: #7f7f7f\">{'uid': '8278...', 'action_name': 'generate_user_intent', </span>\n",
       "<span style=\"color: #7f7f7f; text-decoration-color: #7f7f7f\">'action_params': {}, 'action_result_key': None, 'action_uid': '197f...', 'is_system_action': True}</span>\n",
       "</pre>\n"
      ],
      "text/plain": [
       "\u001b[2m13:04:50.730\u001b[0m | \u001b[2;34mEvent\u001b[0m\u001b[2m \u001b[0m\u001b[1;2mStartInternalSystemAction\u001b[0m | \u001b[2m{'uid': '8278...', 'action_name': 'generate_user_intent', \u001b[0m\n",
       "\u001b[2m'action_params': {}, 'action_result_key': None, 'action_uid': '197f...', 'is_system_action': True}\u001b[0m\n"
      ]
     },
     "metadata": {},
     "output_type": "display_data"
    },
    {
     "data": {
      "text/html": [
       "<pre style=\"white-space:pre;overflow-x:auto;line-height:normal;font-family:Menlo,'DejaVu Sans Mono',consolas,'Courier New',monospace\"><span style=\"color: #7f7f7f; text-decoration-color: #7f7f7f\">13:04:50.731</span> | <span style=\"color: #b7b7b7; text-decoration-color: #b7b7b7\">Executing action</span><span style=\"color: #7f7f7f; text-decoration-color: #7f7f7f\"> </span><span style=\"color: #aaaaaa; text-decoration-color: #aaaaaa\">generate_user_intent</span>\n",
       "</pre>\n"
      ],
      "text/plain": [
       "\u001b[2m13:04:50.731\u001b[0m | \u001b[2;38;2;112;112;112mExecuting action\u001b[0m\u001b[2m \u001b[0m\u001b[2;38;2;85;85;85mgenerate_user_intent\u001b[0m\n"
      ]
     },
     "metadata": {},
     "output_type": "display_data"
    },
    {
     "data": {
      "text/html": [
       "<pre style=\"white-space:pre;overflow-x:auto;line-height:normal;font-family:Menlo,'DejaVu Sans Mono',consolas,'Courier New',monospace\"><span style=\"color: #7f7f7f; text-decoration-color: #7f7f7f\">13:04:50.733</span> | <span style=\"color: #b7b7b7; text-decoration-color: #b7b7b7\">Invocation Params</span><span style=\"color: #7f7f7f; text-decoration-color: #7f7f7f\"> </span><span style=\"color: #aaaaaa; text-decoration-color: #aaaaaa\">{'model': 'nemotron:70b', 'format': None, 'options': {'mirostat': None, </span>\n",
       "<span style=\"color: #aaaaaa; text-decoration-color: #aaaaaa\">'mirostat_eta': None, 'mirostat_tau': None, 'num_ctx': None, 'num_gpu': None, 'num_thread': None, 'num_predict': </span>\n",
       "<span style=\"color: #aaaaaa; text-decoration-color: #aaaaaa\">None, 'repeat_last_n': None, 'repeat_penalty': None, 'temperature': None, 'stop': None, 'tfs_z': None, 'top_k': </span>\n",
       "<span style=\"color: #aaaaaa; text-decoration-color: #aaaaaa\">None, 'top_p': None}, 'system': None, 'template': None, 'keep_alive': None, 'raw': None, '_type': 'ollama-llm', </span>\n",
       "<span style=\"color: #aaaaaa; text-decoration-color: #aaaaaa\">'stop': ['User:']}</span>\n",
       "</pre>\n"
      ],
      "text/plain": [
       "\u001b[2m13:04:50.733\u001b[0m | \u001b[2;38;2;112;112;112mInvocation Params\u001b[0m\u001b[2m \u001b[0m\u001b[2;38;2;85;85;85m{'model': 'nemotron:70b', 'format': None, 'options': {'mirostat': None, \u001b[0m\n",
       "\u001b[2;38;2;85;85;85m'mirostat_eta': None, 'mirostat_tau': None, 'num_ctx': None, 'num_gpu': None, 'num_thread': None, 'num_predict': \u001b[0m\n",
       "\u001b[2;38;2;85;85;85mNone, 'repeat_last_n': None, 'repeat_penalty': None, 'temperature': None, 'stop': None, 'tfs_z': None, 'top_k': \u001b[0m\n",
       "\u001b[2;38;2;85;85;85mNone, 'top_p': None}, 'system': None, 'template': None, 'keep_alive': None, 'raw': None, '_type': 'ollama-llm', \u001b[0m\n",
       "\u001b[2;38;2;85;85;85m'stop': ['User:']}\u001b[0m\n"
      ]
     },
     "metadata": {},
     "output_type": "display_data"
    },
    {
     "data": {
      "text/html": [
       "<pre style=\"white-space:pre;overflow-x:auto;line-height:normal;font-family:Menlo,'DejaVu Sans Mono',consolas,'Courier New',monospace\">\n",
       "</pre>\n"
      ],
      "text/plain": [
       "\n"
      ]
     },
     "metadata": {},
     "output_type": "display_data"
    },
    {
     "data": {
      "text/html": [
       "<pre style=\"white-space:pre;overflow-x:auto;line-height:normal;font-family:Menlo,'DejaVu Sans Mono',consolas,'Courier New',monospace\"><span style=\"color: #000000; text-decoration-color: #000000; background-color: #909090\">Below is a conversation between a helpful AI assistant and a user. The bot is designed to generate human-like text </span>\n",
       "<span style=\"color: #000000; text-decoration-color: #000000; background-color: #909090\">based on the input that it receives. The bot is talkative and provides lots of specific details. If the bot does </span>\n",
       "<span style=\"color: #000000; text-decoration-color: #000000; background-color: #909090\">not know the answer to a question, it truthfully says it does not know.                                            </span>\n",
       "</pre>\n"
      ],
      "text/plain": [
       "\u001b[30;48;2;144;144;144mBelow is a conversation between a helpful AI assistant and a user. The bot is designed to generate human-like text \u001b[0m\n",
       "\u001b[30;48;2;144;144;144mbased on the input that it receives. The bot is talkative and provides lots of specific details. If the bot does \u001b[0m\n",
       "\u001b[30;48;2;144;144;144mnot know the answer to a question, it truthfully says it does not know.                                            \u001b[0m\n"
      ]
     },
     "metadata": {},
     "output_type": "display_data"
    },
    {
     "data": {
      "text/html": [
       "<pre style=\"white-space:pre;overflow-x:auto;line-height:normal;font-family:Menlo,'DejaVu Sans Mono',consolas,'Courier New',monospace\"><span style=\"color: #000000; text-decoration-color: #000000; background-color: #909090\">                                                                                                                   </span>\n",
       "</pre>\n"
      ],
      "text/plain": [
       "\u001b[30;48;2;144;144;144m                                                                                                                   \u001b[0m\n"
      ]
     },
     "metadata": {},
     "output_type": "display_data"
    },
    {
     "data": {
      "text/html": [
       "<pre style=\"white-space:pre;overflow-x:auto;line-height:normal;font-family:Menlo,'DejaVu Sans Mono',consolas,'Courier New',monospace\"><span style=\"color: #000000; text-decoration-color: #000000; background-color: #909090\">User: Generate a story based on the following: {\"prompt\":\"A team of scientists must survive on an alien planet </span>\n",
       "<span style=\"color: #000000; text-decoration-color: #000000; background-color: #909090\">after a research mission goes horribly wrong.\"}                                                                    </span>\n",
       "</pre>\n"
      ],
      "text/plain": [
       "\u001b[30;48;2;144;144;144mUser: Generate a story based on the following: {\"prompt\":\"A team of scientists must survive on an alien planet \u001b[0m\n",
       "\u001b[30;48;2;144;144;144mafter a research mission goes horribly wrong.\"}                                                                    \u001b[0m\n"
      ]
     },
     "metadata": {},
     "output_type": "display_data"
    },
    {
     "data": {
      "text/html": [
       "<pre style=\"white-space:pre;overflow-x:auto;line-height:normal;font-family:Menlo,'DejaVu Sans Mono',consolas,'Courier New',monospace\"><span style=\"color: #000000; text-decoration-color: #000000; background-color: #909090\">Assistant: </span>\n",
       "<span style=\"color: #000000; text-decoration-color: #000000; background-color: #909090\">{\"title\":\"\",\"video\":false,\"visual_style\":\"\",\"time_period\":\"\",\"location\":\"\",\"genre\":\"\",\"medium\":\"\",\"plot_overview\":\"</span>\n",
       "<span style=\"color: #000000; text-decoration-color: #000000; background-color: #909090\">A team of elite scientists embarks on a groundbreaking research mission to explore an uncharted alien planet </span>\n",
       "<span style=\"color: #000000; text-decoration-color: #000000; background-color: #909090\">teeming with potential for supporting life. Led by Dr. Elena Martinez, the crew includes experts in various fields,</span>\n",
       "<span style=\"color: #000000; text-decoration-color: #000000; background-color: #909090\">each eager to make history. However, upon arrival, a catastrophic malfunction causes their spaceship to crash-land,</span>\n",
       "<span style=\"color: #000000; text-decoration-color: #000000; background-color: #909090\">leaving them stranded with limited supplies and no way to contact Earth.\\n\\nAs they assess their situation, they </span>\n",
       "<span style=\"color: #000000; text-decoration-color: #000000; background-color: #909090\">encounter the planet's hostile environment filled with dangerous flora and fauna unlike anything they've seen </span>\n",
       "<span style=\"color: #000000; text-decoration-color: #000000; background-color: #909090\">before. Tensions rise within the group as they struggle to survive harsh weather conditions, dwindling resources, </span>\n",
       "<span style=\"color: #000000; text-decoration-color: #000000; background-color: #909090\">and internal conflicts. Days turn into weeks as the scientists discover mysterious ruins suggesting an ancient </span>\n",
       "<span style=\"color: #000000; text-decoration-color: #000000; background-color: #909090\">civilization once thrived there.\\n\\nDr. Martinez becomes obsessed with uncovering the secrets of the planet, </span>\n",
       "<span style=\"color: #000000; text-decoration-color: #000000; background-color: #909090\">believing it holds the key to their survival. The team must navigate treacherous terrains, decode alien technology,</span>\n",
       "<span style=\"color: #000000; text-decoration-color: #000000; background-color: #909090\">and confront their own fears and weaknesses. In a race against time, they work together to repair their ship using </span>\n",
       "<span style=\"color: #000000; text-decoration-color: #000000; background-color: #909090\">alien materials and knowledge gleaned from the ruins.\\n\\nUltimately, they must decide whether to return home or </span>\n",
       "<span style=\"color: #000000; text-decoration-color: #000000; background-color: #909090\">stay and continue exploring the profound mysteries of the planet that has both threatened and captivated them. </span>\n",
       "<span style=\"color: #000000; text-decoration-color: #000000; background-color: #909090\">Through their journey, they learn valuable lessons about cooperation, resilience, and the ethical implications of </span>\n",
       "<span style=\"color: #000000; text-decoration-color: #000000; background-color: #909090\">their </span>\n",
       "<span style=\"color: #000000; text-decoration-color: #000000; background-color: #909090\">mission.\",\"narrative_perspective\":\"\",\"conflict_type\":\"\",\"themes\":[],\"motifs\":[],\"characters\":[],\"props\":[],\"story_b</span>\n",
       "<span style=\"color: #000000; text-decoration-color: #000000; background-color: #909090\">eats\":[],\"subplots\":[],\"emotional_arc\":[],\"acts\":[]}                                                               </span>\n",
       "<span style=\"color: #000000; text-decoration-color: #000000; background-color: #909090\">                                                    </span>\n",
       "</pre>\n"
      ],
      "text/plain": [
       "\u001b[30;48;2;144;144;144mAssistant: \u001b[0m\n",
       "\u001b[30;48;2;144;144;144m{\"title\":\"\",\"video\":false,\"visual_style\":\"\",\"time_period\":\"\",\"location\":\"\",\"genre\":\"\",\"medium\":\"\",\"plot_overview\":\"\u001b[0m\n",
       "\u001b[30;48;2;144;144;144mA team of elite scientists embarks on a groundbreaking research mission to explore an uncharted alien planet \u001b[0m\n",
       "\u001b[30;48;2;144;144;144mteeming with potential for supporting life. Led by Dr. Elena Martinez, the crew includes experts in various fields,\u001b[0m\n",
       "\u001b[30;48;2;144;144;144meach eager to make history. However, upon arrival, a catastrophic malfunction causes their spaceship to crash-land,\u001b[0m\n",
       "\u001b[30;48;2;144;144;144mleaving them stranded with limited supplies and no way to contact Earth.\\n\\nAs they assess their situation, they \u001b[0m\n",
       "\u001b[30;48;2;144;144;144mencounter the planet's hostile environment filled with dangerous flora and fauna unlike anything they've seen \u001b[0m\n",
       "\u001b[30;48;2;144;144;144mbefore. Tensions rise within the group as they struggle to survive harsh weather conditions, dwindling resources, \u001b[0m\n",
       "\u001b[30;48;2;144;144;144mand internal conflicts. Days turn into weeks as the scientists discover mysterious ruins suggesting an ancient \u001b[0m\n",
       "\u001b[30;48;2;144;144;144mcivilization once thrived there.\\n\\nDr. Martinez becomes obsessed with uncovering the secrets of the planet, \u001b[0m\n",
       "\u001b[30;48;2;144;144;144mbelieving it holds the key to their survival. The team must navigate treacherous terrains, decode alien technology,\u001b[0m\n",
       "\u001b[30;48;2;144;144;144mand confront their own fears and weaknesses. In a race against time, they work together to repair their ship using \u001b[0m\n",
       "\u001b[30;48;2;144;144;144malien materials and knowledge gleaned from the ruins.\\n\\nUltimately, they must decide whether to return home or \u001b[0m\n",
       "\u001b[30;48;2;144;144;144mstay and continue exploring the profound mysteries of the planet that has both threatened and captivated them. \u001b[0m\n",
       "\u001b[30;48;2;144;144;144mThrough their journey, they learn valuable lessons about cooperation, resilience, and the ethical implications of \u001b[0m\n",
       "\u001b[30;48;2;144;144;144mtheir \u001b[0m\n",
       "\u001b[30;48;2;144;144;144mmission.\",\"narrative_perspective\":\"\",\"conflict_type\":\"\",\"themes\":[],\"motifs\":[],\"characters\":[],\"props\":[],\"story_b\u001b[0m\n",
       "\u001b[30;48;2;144;144;144meats\":[],\"subplots\":[],\"emotional_arc\":[],\"acts\":[]}                                                               \u001b[0m\n",
       "\u001b[30;48;2;144;144;144m                                                    \u001b[0m\n"
      ]
     },
     "metadata": {},
     "output_type": "display_data"
    },
    {
     "data": {
      "text/html": [
       "<pre style=\"white-space:pre;overflow-x:auto;line-height:normal;font-family:Menlo,'DejaVu Sans Mono',consolas,'Courier New',monospace\"><span style=\"color: #000000; text-decoration-color: #000000; background-color: #909090\">User: Generate a story based on the following: Write a fantasy story about a magical forest in the following json </span>\n",
       "<span style=\"color: #000000; text-decoration-color: #000000; background-color: #909090\">format:                                                                                                            </span>\n",
       "</pre>\n"
      ],
      "text/plain": [
       "\u001b[30;48;2;144;144;144mUser: Generate a story based on the following: Write a fantasy story about a magical forest in the following json \u001b[0m\n",
       "\u001b[30;48;2;144;144;144mformat:                                                                                                            \u001b[0m\n"
      ]
     },
     "metadata": {},
     "output_type": "display_data"
    },
    {
     "data": {
      "text/html": [
       "<pre style=\"white-space:pre;overflow-x:auto;line-height:normal;font-family:Menlo,'DejaVu Sans Mono',consolas,'Courier New',monospace\"><span style=\"color: #000000; text-decoration-color: #000000; background-color: #909090\">                                                                                                                   </span>\n",
       "</pre>\n"
      ],
      "text/plain": [
       "\u001b[30;48;2;144;144;144m                                                                                                                   \u001b[0m\n"
      ]
     },
     "metadata": {},
     "output_type": "display_data"
    },
    {
     "data": {
      "text/html": [
       "<pre style=\"white-space:pre;overflow-x:auto;line-height:normal;font-family:Menlo,'DejaVu Sans Mono',consolas,'Courier New',monospace\"><span style=\"color: #000000; text-decoration-color: #000000; background-color: #909090\">{\"prompt\":\"\",\"title\":\"\",\"video\":false,\"visual_style\":\"\",\"time_period\":\"\",\"location\":\"\",\"genre\":\"\",\"medium\":\"\",\"plot</span>\n",
       "<span style=\"color: #000000; text-decoration-color: #000000; background-color: #909090\">_overview\":\"\",\"narrative_perspective\":\"\",\"conflict_type\":\"\",\"themes\":[],\"motifs\":[],\"characters\":[{\"nickname\":\"\",\"n</span>\n",
       "<span style=\"color: #000000; text-decoration-color: #000000; background-color: #909090\">ame\":\"\",\"description\":\"\",\"personality\":\"\",\"physical_appearance\":\"\",\"role\":\"\",\"gender\":\"\",\"race\":\"\",\"age\":\"\",\"catch_</span>\n",
       "<span style=\"color: #000000; text-decoration-color: #000000; background-color: #909090\">phrase\":\"\",\"animation_description\":\"\",\"voice_description\":\"\",\"voice_sample\":null,\"props\":[],\"relationships\":[{\"char</span>\n",
       "<span style=\"color: #000000; text-decoration-color: #000000; background-color: #909090\">acter_name\":null,\"relationship_type\":null,\"description\":\"\"}],\"internal_conflict\":\"\",\"character_arc\":{\"initial_state</span>\n",
       "<span style=\"color: #000000; text-decoration-color: #000000; background-color: #909090\">\":\"\",\"final_state\":\"\",\"key_moments\":[\"\"]},\"image_prompt\":\"\",\"image_prompt_short\":\"\"}],\"props\":[{\"name\":\"\",\"descript</span>\n",
       "<span style=\"color: #000000; text-decoration-color: #000000; background-color: #909090\">ion\":\"\",\"purpose\":\"\",\"physical_appearance\":\"\",\"animation_description\":\"\"}],\"story_beats\":[{\"name\":null,\"description</span>\n",
       "<span style=\"color: #000000; text-decoration-color: #000000; background-color: #909090\">\":null,\"scene\":\"\"}],\"subplots\":[{\"title\":null,\"description\":\"\",\"related_characters\":[]}],\"emotional_arc\":[{\"stage\":</span>\n",
       "<span style=\"color: #000000; text-decoration-color: #000000; background-color: #909090\">null,\"description\":\"\"}],\"acts\":[{\"act_id\":\"\",\"title\":\"\",\"description\":\"\",\"scenes\":[{\"scene_id\":\"\",\"title\":\"\",\"descr</span>\n",
       "<span style=\"color: #000000; text-decoration-color: #000000; background-color: #909090\">iption\":\"\",\"characters_involved\":[\"\"],\"setting\":\"\",\"time_of_day\":\"\",\"location\":\"\",\"lighting\":\"\",\"mood\":\"\",\"props\":[</span>\n",
       "<span style=\"color: #000000; text-decoration-color: #000000; background-color: #909090\">\"\"],\"key_actions\":[\"\"],\"dialogue\":[],\"background_image_prompt\":\"\",\"background_animation\":\"\",\"scene_image_prompt\":\"\"</span>\n",
       "<span style=\"color: #000000; text-decoration-color: #000000; background-color: #909090\">,\"scene_image_prompt_short\":\"\"}],\"props\":[\"\"]}]}                                                                   </span>\n",
       "<span style=\"color: #000000; text-decoration-color: #000000; background-color: #909090\">                                                </span>\n",
       "</pre>\n"
      ],
      "text/plain": [
       "\u001b[30;48;2;144;144;144m{\"prompt\":\"\",\"title\":\"\",\"video\":false,\"visual_style\":\"\",\"time_period\":\"\",\"location\":\"\",\"genre\":\"\",\"medium\":\"\",\"plot\u001b[0m\n",
       "\u001b[30;48;2;144;144;144m_overview\":\"\",\"narrative_perspective\":\"\",\"conflict_type\":\"\",\"themes\":[],\"motifs\":[],\"characters\":[{\"nickname\":\"\",\"n\u001b[0m\n",
       "\u001b[30;48;2;144;144;144mame\":\"\",\"description\":\"\",\"personality\":\"\",\"physical_appearance\":\"\",\"role\":\"\",\"gender\":\"\",\"race\":\"\",\"age\":\"\",\"catch_\u001b[0m\n",
       "\u001b[30;48;2;144;144;144mphrase\":\"\",\"animation_description\":\"\",\"voice_description\":\"\",\"voice_sample\":null,\"props\":[],\"relationships\":[{\"char\u001b[0m\n",
       "\u001b[30;48;2;144;144;144macter_name\":null,\"relationship_type\":null,\"description\":\"\"}],\"internal_conflict\":\"\",\"character_arc\":{\"initial_state\u001b[0m\n",
       "\u001b[30;48;2;144;144;144m\":\"\",\"final_state\":\"\",\"key_moments\":[\"\"]},\"image_prompt\":\"\",\"image_prompt_short\":\"\"}],\"props\":[{\"name\":\"\",\"descript\u001b[0m\n",
       "\u001b[30;48;2;144;144;144mion\":\"\",\"purpose\":\"\",\"physical_appearance\":\"\",\"animation_description\":\"\"}],\"story_beats\":[{\"name\":null,\"description\u001b[0m\n",
       "\u001b[30;48;2;144;144;144m\":null,\"scene\":\"\"}],\"subplots\":[{\"title\":null,\"description\":\"\",\"related_characters\":[]}],\"emotional_arc\":[{\"stage\":\u001b[0m\n",
       "\u001b[30;48;2;144;144;144mnull,\"description\":\"\"}],\"acts\":[{\"act_id\":\"\",\"title\":\"\",\"description\":\"\",\"scenes\":[{\"scene_id\":\"\",\"title\":\"\",\"descr\u001b[0m\n",
       "\u001b[30;48;2;144;144;144miption\":\"\",\"characters_involved\":[\"\"],\"setting\":\"\",\"time_of_day\":\"\",\"location\":\"\",\"lighting\":\"\",\"mood\":\"\",\"props\":[\u001b[0m\n",
       "\u001b[30;48;2;144;144;144m\"\"],\"key_actions\":[\"\"],\"dialogue\":[],\"background_image_prompt\":\"\",\"background_animation\":\"\",\"scene_image_prompt\":\"\"\u001b[0m\n",
       "\u001b[30;48;2;144;144;144m,\"scene_image_prompt_short\":\"\"}],\"props\":[\"\"]}]}                                                                   \u001b[0m\n",
       "\u001b[30;48;2;144;144;144m                                                \u001b[0m\n"
      ]
     },
     "metadata": {},
     "output_type": "display_data"
    },
    {
     "data": {
      "text/html": [
       "<pre style=\"white-space:pre;overflow-x:auto;line-height:normal;font-family:Menlo,'DejaVu Sans Mono',consolas,'Courier New',monospace\"><span style=\"color: #000000; text-decoration-color: #000000; background-color: #909090\">Assistant:                                                                                                         </span>\n",
       "</pre>\n"
      ],
      "text/plain": [
       "\u001b[30;48;2;144;144;144mAssistant:                                                                                                         \u001b[0m\n"
      ]
     },
     "metadata": {},
     "output_type": "display_data"
    },
    {
     "data": {
      "text/html": [
       "<pre style=\"white-space:pre;overflow-x:auto;line-height:normal;font-family:Menlo,'DejaVu Sans Mono',consolas,'Courier New',monospace\">\n",
       "</pre>\n"
      ],
      "text/plain": [
       "\n"
      ]
     },
     "metadata": {},
     "output_type": "display_data"
    },
    {
     "data": {
      "text/html": [
       "<pre style=\"white-space:pre;overflow-x:auto;line-height:normal;font-family:Menlo,'DejaVu Sans Mono',consolas,'Courier New',monospace\">\n",
       "</pre>\n"
      ],
      "text/plain": [
       "\n"
      ]
     },
     "metadata": {},
     "output_type": "display_data"
    },
    {
     "data": {
      "text/html": [
       "<pre style=\"white-space:pre;overflow-x:auto;line-height:normal;font-family:Menlo,'DejaVu Sans Mono',consolas,'Courier New',monospace\"><span style=\"color: #008080; text-decoration-color: #008080\">LLM Completion</span>\n",
       "</pre>\n"
      ],
      "text/plain": [
       "\u001b[36mLLM Completion\u001b[0m\n"
      ]
     },
     "metadata": {},
     "output_type": "display_data"
    },
    {
     "data": {
      "text/html": [
       "<pre style=\"white-space:pre;overflow-x:auto;line-height:normal;font-family:Menlo,'DejaVu Sans Mono',consolas,'Courier New',monospace\"><span style=\"color: #000000; text-decoration-color: #000000; background-color: #006600\">It looks like the user provided an empty JSON template for the second prompt, expecting the AI assistant to fill in</span>\n",
       "<span style=\"color: #000000; text-decoration-color: #000000; background-color: #006600\">the details. Here's a response from the talkative AI assistant, generating a fantasy story based on the prompt \"a </span>\n",
       "<span style=\"color: #000000; text-decoration-color: #000000; background-color: #006600\">magical forest\" and populating the provided JSON template with rich details:                                       </span>\n",
       "</pre>\n"
      ],
      "text/plain": [
       "\u001b[30;48;2;0;102;0mIt looks like the user provided an empty JSON template for the second prompt, expecting the AI assistant to fill in\u001b[0m\n",
       "\u001b[30;48;2;0;102;0mthe details. Here's a response from the talkative AI assistant, generating a fantasy story based on the prompt \"a \u001b[0m\n",
       "\u001b[30;48;2;0;102;0mmagical forest\" and populating the provided JSON template with rich details:                                       \u001b[0m\n"
      ]
     },
     "metadata": {},
     "output_type": "display_data"
    },
    {
     "data": {
      "text/html": [
       "<pre style=\"white-space:pre;overflow-x:auto;line-height:normal;font-family:Menlo,'DejaVu Sans Mono',consolas,'Courier New',monospace\"><span style=\"color: #000000; text-decoration-color: #000000; background-color: #006600\">                                                                                                                   </span>\n",
       "</pre>\n"
      ],
      "text/plain": [
       "\u001b[30;48;2;0;102;0m                                                                                                                   \u001b[0m\n"
      ]
     },
     "metadata": {},
     "output_type": "display_data"
    },
    {
     "data": {
      "text/html": [
       "<pre style=\"white-space:pre;overflow-x:auto;line-height:normal;font-family:Menlo,'DejaVu Sans Mono',consolas,'Courier New',monospace\"><span style=\"color: #000000; text-decoration-color: #000000; background-color: #006600\">**Response**                                                                                                       </span>\n",
       "</pre>\n"
      ],
      "text/plain": [
       "\u001b[30;48;2;0;102;0m**Response**                                                                                                       \u001b[0m\n"
      ]
     },
     "metadata": {},
     "output_type": "display_data"
    },
    {
     "data": {
      "text/html": [
       "<pre style=\"white-space:pre;overflow-x:auto;line-height:normal;font-family:Menlo,'DejaVu Sans Mono',consolas,'Courier New',monospace\"><span style=\"color: #000000; text-decoration-color: #000000; background-color: #006600\">                                                                                                                   </span>\n",
       "</pre>\n"
      ],
      "text/plain": [
       "\u001b[30;48;2;0;102;0m                                                                                                                   \u001b[0m\n"
      ]
     },
     "metadata": {},
     "output_type": "display_data"
    },
    {
     "data": {
      "text/html": [
       "<pre style=\"white-space:pre;overflow-x:auto;line-height:normal;font-family:Menlo,'DejaVu Sans Mono',consolas,'Courier New',monospace\"><span style=\"color: #000000; text-decoration-color: #000000; background-color: #006600\">**Generated Story in JSON Format**                                                                                 </span>\n",
       "</pre>\n"
      ],
      "text/plain": [
       "\u001b[30;48;2;0;102;0m**Generated Story in JSON Format**                                                                                 \u001b[0m\n"
      ]
     },
     "metadata": {},
     "output_type": "display_data"
    },
    {
     "data": {
      "text/html": [
       "<pre style=\"white-space:pre;overflow-x:auto;line-height:normal;font-family:Menlo,'DejaVu Sans Mono',consolas,'Courier New',monospace\"><span style=\"color: #000000; text-decoration-color: #000000; background-color: #006600\">                                                                                                                   </span>\n",
       "</pre>\n"
      ],
      "text/plain": [
       "\u001b[30;48;2;0;102;0m                                                                                                                   \u001b[0m\n"
      ]
     },
     "metadata": {},
     "output_type": "display_data"
    },
    {
     "data": {
      "text/html": [
       "<pre style=\"white-space:pre;overflow-x:auto;line-height:normal;font-family:Menlo,'DejaVu Sans Mono',consolas,'Courier New',monospace\"><span style=\"color: #000000; text-decoration-color: #000000; background-color: #006600\">```json                                                                                                            </span>\n",
       "</pre>\n"
      ],
      "text/plain": [
       "\u001b[30;48;2;0;102;0m```json                                                                                                            \u001b[0m\n"
      ]
     },
     "metadata": {},
     "output_type": "display_data"
    },
    {
     "data": {
      "text/html": [
       "<pre style=\"white-space:pre;overflow-x:auto;line-height:normal;font-family:Menlo,'DejaVu Sans Mono',consolas,'Courier New',monospace\"><span style=\"color: #000000; text-decoration-color: #000000; background-color: #006600\">{                                                                                                                  </span>\n",
       "</pre>\n"
      ],
      "text/plain": [
       "\u001b[30;48;2;0;102;0m{                                                                                                                  \u001b[0m\n"
      ]
     },
     "metadata": {},
     "output_type": "display_data"
    },
    {
     "data": {
      "text/html": [
       "<pre style=\"white-space:pre;overflow-x:auto;line-height:normal;font-family:Menlo,'DejaVu Sans Mono',consolas,'Courier New',monospace\"><span style=\"color: #000000; text-decoration-color: #000000; background-color: #006600\">  \"prompt\": \"A Magical Forest\",                                                                                    </span>\n",
       "</pre>\n"
      ],
      "text/plain": [
       "\u001b[30;48;2;0;102;0m  \"prompt\": \"A Magical Forest\",                                                                                    \u001b[0m\n"
      ]
     },
     "metadata": {},
     "output_type": "display_data"
    },
    {
     "data": {
      "text/html": [
       "<pre style=\"white-space:pre;overflow-x:auto;line-height:normal;font-family:Menlo,'DejaVu Sans Mono',consolas,'Courier New',monospace\"><span style=\"color: #000000; text-decoration-color: #000000; background-color: #006600\">  \"title\": \"Whispers of the Emerald Woods\",                                                                        </span>\n",
       "</pre>\n"
      ],
      "text/plain": [
       "\u001b[30;48;2;0;102;0m  \"title\": \"Whispers of the Emerald Woods\",                                                                        \u001b[0m\n"
      ]
     },
     "metadata": {},
     "output_type": "display_data"
    },
    {
     "data": {
      "text/html": [
       "<pre style=\"white-space:pre;overflow-x:auto;line-height:normal;font-family:Menlo,'DejaVu Sans Mono',consolas,'Courier New',monospace\"><span style=\"color: #000000; text-decoration-color: #000000; background-color: #006600\">  \"video\": false,                                                                                                  </span>\n",
       "</pre>\n"
      ],
      "text/plain": [
       "\u001b[30;48;2;0;102;0m  \"video\": false,                                                                                                  \u001b[0m\n"
      ]
     },
     "metadata": {},
     "output_type": "display_data"
    },
    {
     "data": {
      "text/html": [
       "<pre style=\"white-space:pre;overflow-x:auto;line-height:normal;font-family:Menlo,'DejaVu Sans Mono',consolas,'Courier New',monospace\"><span style=\"color: #000000; text-decoration-color: #000000; background-color: #006600\">  \"visual_style\": \"Vibrant, ethereal with soft luminescence\",                                                      </span>\n",
       "</pre>\n"
      ],
      "text/plain": [
       "\u001b[30;48;2;0;102;0m  \"visual_style\": \"Vibrant, ethereal with soft luminescence\",                                                      \u001b[0m\n"
      ]
     },
     "metadata": {},
     "output_type": "display_data"
    },
    {
     "data": {
      "text/html": [
       "<pre style=\"white-space:pre;overflow-x:auto;line-height:normal;font-family:Menlo,'DejaVu Sans Mono',consolas,'Courier New',monospace\"><span style=\"color: #000000; text-decoration-color: #000000; background-color: #006600\">  \"time_period\": \"Ancient, mystical era\",                                                                          </span>\n",
       "</pre>\n"
      ],
      "text/plain": [
       "\u001b[30;48;2;0;102;0m  \"time_period\": \"Ancient, mystical era\",                                                                          \u001b[0m\n"
      ]
     },
     "metadata": {},
     "output_type": "display_data"
    },
    {
     "data": {
      "text/html": [
       "<pre style=\"white-space:pre;overflow-x:auto;line-height:normal;font-family:Menlo,'DejaVu Sans Mono',consolas,'Courier New',monospace\"><span style=\"color: #000000; text-decoration-color: #000000; background-color: #006600\">  \"location\": \"The Heart of the Emerald Woods, a hidden realm\",                                                    </span>\n",
       "</pre>\n"
      ],
      "text/plain": [
       "\u001b[30;48;2;0;102;0m  \"location\": \"The Heart of the Emerald Woods, a hidden realm\",                                                    \u001b[0m\n"
      ]
     },
     "metadata": {},
     "output_type": "display_data"
    },
    {
     "data": {
      "text/html": [
       "<pre style=\"white-space:pre;overflow-x:auto;line-height:normal;font-family:Menlo,'DejaVu Sans Mono',consolas,'Courier New',monospace\"><span style=\"color: #000000; text-decoration-color: #000000; background-color: #006600\">  \"genre\": \"Fantasy, Adventure\",                                                                                   </span>\n",
       "</pre>\n"
      ],
      "text/plain": [
       "\u001b[30;48;2;0;102;0m  \"genre\": \"Fantasy, Adventure\",                                                                                   \u001b[0m\n"
      ]
     },
     "metadata": {},
     "output_type": "display_data"
    },
    {
     "data": {
      "text/html": [
       "<pre style=\"white-space:pre;overflow-x:auto;line-height:normal;font-family:Menlo,'DejaVu Sans Mono',consolas,'Courier New',monospace\"><span style=\"color: #000000; text-decoration-color: #000000; background-color: #006600\">  \"medium\": \"Novel\",                                                                                               </span>\n",
       "</pre>\n"
      ],
      "text/plain": [
       "\u001b[30;48;2;0;102;0m  \"medium\": \"Novel\",                                                                                               \u001b[0m\n"
      ]
     },
     "metadata": {},
     "output_type": "display_data"
    },
    {
     "data": {
      "text/html": [
       "<pre style=\"white-space:pre;overflow-x:auto;line-height:normal;font-family:Menlo,'DejaVu Sans Mono',consolas,'Courier New',monospace\"><span style=\"color: #000000; text-decoration-color: #000000; background-color: #006600\">  \"plot_overview\": \"In the depths of the enchanted Emerald Woods, where ancient magic whispers through the leaves, </span>\n",
       "<span style=\"color: #000000; text-decoration-color: #000000; background-color: #006600\">a young apprentice named Lyra discovers a forgotten prophecy. With the woods on the brink of eternal darkness, Lyra</span>\n",
       "<span style=\"color: #000000; text-decoration-color: #000000; background-color: #006600\">embarks on a perilous quest to unite the warring factions of the forest's guardians, forge an alliance with the </span>\n",
       "<span style=\"color: #000000; text-decoration-color: #000000; background-color: #006600\">mysterious Luminari, and claim her rightful place as the Woods' chosen protector.\",                                </span>\n",
       "</pre>\n"
      ],
      "text/plain": [
       "\u001b[30;48;2;0;102;0m  \"plot_overview\": \"In the depths of the enchanted Emerald Woods, where ancient magic whispers through the leaves, \u001b[0m\n",
       "\u001b[30;48;2;0;102;0ma young apprentice named Lyra discovers a forgotten prophecy. With the woods on the brink of eternal darkness, Lyra\u001b[0m\n",
       "\u001b[30;48;2;0;102;0membarks on a perilous quest to unite the warring factions of the forest's guardians, forge an alliance with the \u001b[0m\n",
       "\u001b[30;48;2;0;102;0mmysterious Luminari, and claim her rightful place as the Woods' chosen protector.\",                                \u001b[0m\n"
      ]
     },
     "metadata": {},
     "output_type": "display_data"
    },
    {
     "data": {
      "text/html": [
       "<pre style=\"white-space:pre;overflow-x:auto;line-height:normal;font-family:Menlo,'DejaVu Sans Mono',consolas,'Courier New',monospace\"><span style=\"color: #000000; text-decoration-color: #000000; background-color: #006600\">  \"narrative_perspective\": \"Third Person Limited\",                                                                 </span>\n",
       "</pre>\n"
      ],
      "text/plain": [
       "\u001b[30;48;2;0;102;0m  \"narrative_perspective\": \"Third Person Limited\",                                                                 \u001b[0m\n"
      ]
     },
     "metadata": {},
     "output_type": "display_data"
    },
    {
     "data": {
      "text/html": [
       "<pre style=\"white-space:pre;overflow-x:auto;line-height:normal;font-family:Menlo,'DejaVu Sans Mono',consolas,'Courier New',monospace\"><span style=\"color: #000000; text-decoration-color: #000000; background-color: #006600\">  \"conflict_type\": \"Internal &amp; External (Self-doubt vs. Saving the Emerald Woods)\",                                </span>\n",
       "</pre>\n"
      ],
      "text/plain": [
       "\u001b[30;48;2;0;102;0m  \"conflict_type\": \"Internal & External (Self-doubt vs. Saving the Emerald Woods)\",                                \u001b[0m\n"
      ]
     },
     "metadata": {},
     "output_type": "display_data"
    },
    {
     "data": {
      "text/html": [
       "<pre style=\"white-space:pre;overflow-x:auto;line-height:normal;font-family:Menlo,'DejaVu Sans Mono',consolas,'Courier New',monospace\"><span style=\"color: #000000; text-decoration-color: #000000; background-color: #006600\">  \"themes\": [\"Unity in Diversity\", \"Self-Discovery\", \"Balance with Nature\"],                                       </span>\n",
       "</pre>\n"
      ],
      "text/plain": [
       "\u001b[30;48;2;0;102;0m  \"themes\": [\"Unity in Diversity\", \"Self-Discovery\", \"Balance with Nature\"],                                       \u001b[0m\n"
      ]
     },
     "metadata": {},
     "output_type": "display_data"
    },
    {
     "data": {
      "text/html": [
       "<pre style=\"white-space:pre;overflow-x:auto;line-height:normal;font-family:Menlo,'DejaVu Sans Mono',consolas,'Courier New',monospace\"><span style=\"color: #000000; text-decoration-color: #000000; background-color: #006600\">  \"motifs\": [\"Light vs. Darkness\", \"Ancient Wisdom\"],                                                              </span>\n",
       "</pre>\n"
      ],
      "text/plain": [
       "\u001b[30;48;2;0;102;0m  \"motifs\": [\"Light vs. Darkness\", \"Ancient Wisdom\"],                                                              \u001b[0m\n"
      ]
     },
     "metadata": {},
     "output_type": "display_data"
    },
    {
     "data": {
      "text/html": [
       "<pre style=\"white-space:pre;overflow-x:auto;line-height:normal;font-family:Menlo,'DejaVu Sans Mono',consolas,'Courier New',monospace\"><span style=\"color: #000000; text-decoration-color: #000000; background-color: #006600\">  \"characters\": [                                                                                                  </span>\n",
       "</pre>\n"
      ],
      "text/plain": [
       "\u001b[30;48;2;0;102;0m  \"characters\": [                                                                                                  \u001b[0m\n"
      ]
     },
     "metadata": {},
     "output_type": "display_data"
    },
    {
     "data": {
      "text/html": [
       "<pre style=\"white-space:pre;overflow-x:auto;line-height:normal;font-family:Menlo,'DejaVu Sans Mono',consolas,'Courier New',monospace\"><span style=\"color: #000000; text-decoration-color: #000000; background-color: #006600\">    {                                                                                                              </span>\n",
       "</pre>\n"
      ],
      "text/plain": [
       "\u001b[30;48;2;0;102;0m    {                                                                                                              \u001b[0m\n"
      ]
     },
     "metadata": {},
     "output_type": "display_data"
    },
    {
     "data": {
      "text/html": [
       "<pre style=\"white-space:pre;overflow-x:auto;line-height:normal;font-family:Menlo,'DejaVu Sans Mono',consolas,'Courier New',monospace\"><span style=\"color: #000000; text-decoration-color: #000000; background-color: #006600\">      \"nickname\": \"The Whispering Apprentice\",                                                                     </span>\n",
       "</pre>\n"
      ],
      "text/plain": [
       "\u001b[30;48;2;0;102;0m      \"nickname\": \"The Whispering Apprentice\",                                                                     \u001b[0m\n"
      ]
     },
     "metadata": {},
     "output_type": "display_data"
    },
    {
     "data": {
      "text/html": [
       "<pre style=\"white-space:pre;overflow-x:auto;line-height:normal;font-family:Menlo,'DejaVu Sans Mono',consolas,'Courier New',monospace\"><span style=\"color: #000000; text-decoration-color: #000000; background-color: #006600\">      \"name\": \"Lyra Flynn\",                                                                                        </span>\n",
       "</pre>\n"
      ],
      "text/plain": [
       "\u001b[30;48;2;0;102;0m      \"name\": \"Lyra Flynn\",                                                                                        \u001b[0m\n"
      ]
     },
     "metadata": {},
     "output_type": "display_data"
    },
    {
     "data": {
      "text/html": [
       "<pre style=\"white-space:pre;overflow-x:auto;line-height:normal;font-family:Menlo,'DejaVu Sans Mono',consolas,'Courier New',monospace\"><span style=\"color: #000000; text-decoration-color: #000000; background-color: #006600\">      \"description\": \"A curious, determined young apprentice with a unique affinity for the Emerald Woods' magic.\",</span>\n",
       "</pre>\n"
      ],
      "text/plain": [
       "\u001b[30;48;2;0;102;0m      \"description\": \"A curious, determined young apprentice with a unique affinity for the Emerald Woods' magic.\",\u001b[0m\n"
      ]
     },
     "metadata": {},
     "output_type": "display_data"
    },
    {
     "data": {
      "text/html": [
       "<pre style=\"white-space:pre;overflow-x:auto;line-height:normal;font-family:Menlo,'DejaVu Sans Mono',consolas,'Courier New',monospace\"><span style=\"color: #000000; text-decoration-color: #000000; background-color: #006600\">      \"personality\": \"Compassionate, inquisitive, yet uncertain of her powers\",                                    </span>\n",
       "</pre>\n"
      ],
      "text/plain": [
       "\u001b[30;48;2;0;102;0m      \"personality\": \"Compassionate, inquisitive, yet uncertain of her powers\",                                    \u001b[0m\n"
      ]
     },
     "metadata": {},
     "output_type": "display_data"
    },
    {
     "data": {
      "text/html": [
       "<pre style=\"white-space:pre;overflow-x:auto;line-height:normal;font-family:Menlo,'DejaVu Sans Mono',consolas,'Courier New',monospace\"><span style=\"color: #000000; text-decoration-color: #000000; background-color: #006600\">      \"physical_appearance\": \"Slender, agile with hair as green as the woods and eyes shimmering like starlight\",  </span>\n",
       "</pre>\n"
      ],
      "text/plain": [
       "\u001b[30;48;2;0;102;0m      \"physical_appearance\": \"Slender, agile with hair as green as the woods and eyes shimmering like starlight\",  \u001b[0m\n"
      ]
     },
     "metadata": {},
     "output_type": "display_data"
    },
    {
     "data": {
      "text/html": [
       "<pre style=\"white-space:pre;overflow-x:auto;line-height:normal;font-family:Menlo,'DejaVu Sans Mono',consolas,'Courier New',monospace\"><span style=\"color: #000000; text-decoration-color: #000000; background-color: #006600\">      \"role\": \"Protagonist\",                                                                                       </span>\n",
       "</pre>\n"
      ],
      "text/plain": [
       "\u001b[30;48;2;0;102;0m      \"role\": \"Protagonist\",                                                                                       \u001b[0m\n"
      ]
     },
     "metadata": {},
     "output_type": "display_data"
    },
    {
     "data": {
      "text/html": [
       "<pre style=\"white-space:pre;overflow-x:auto;line-height:normal;font-family:Menlo,'DejaVu Sans Mono',consolas,'Courier New',monospace\"><span style=\"color: #000000; text-decoration-color: #000000; background-color: #006600\">      \"gender\": \"Female\",                                                                                          </span>\n",
       "</pre>\n"
      ],
      "text/plain": [
       "\u001b[30;48;2;0;102;0m      \"gender\": \"Female\",                                                                                          \u001b[0m\n"
      ]
     },
     "metadata": {},
     "output_type": "display_data"
    },
    {
     "data": {
      "text/html": [
       "<pre style=\"white-space:pre;overflow-x:auto;line-height:normal;font-family:Menlo,'DejaVu Sans Mono',consolas,'Courier New',monospace\"><span style=\"color: #000000; text-decoration-color: #000000; background-color: #006600\">      \"race\": \"Half-Elven\",                                                                                        </span>\n",
       "</pre>\n"
      ],
      "text/plain": [
       "\u001b[30;48;2;0;102;0m      \"race\": \"Half-Elven\",                                                                                        \u001b[0m\n"
      ]
     },
     "metadata": {},
     "output_type": "display_data"
    },
    {
     "data": {
      "text/html": [
       "<pre style=\"white-space:pre;overflow-x:auto;line-height:normal;font-family:Menlo,'DejaVu Sans Mono',consolas,'Courier New',monospace\"><span style=\"color: #000000; text-decoration-color: #000000; background-color: #006600\">      \"age\": \"22\",                                                                                                 </span>\n",
       "</pre>\n"
      ],
      "text/plain": [
       "\u001b[30;48;2;0;102;0m      \"age\": \"22\",                                                                                                 \u001b[0m\n"
      ]
     },
     "metadata": {},
     "output_type": "display_data"
    },
    {
     "data": {
      "text/html": [
       "<pre style=\"white-space:pre;overflow-x:auto;line-height:normal;font-family:Menlo,'DejaVu Sans Mono',consolas,'Courier New',monospace\"><span style=\"color: #000000; text-decoration-color: #000000; background-color: #006600\">      \"catch_phrase\": \"By the whispers of the woods...\",                                                           </span>\n",
       "</pre>\n"
      ],
      "text/plain": [
       "\u001b[30;48;2;0;102;0m      \"catch_phrase\": \"By the whispers of the woods...\",                                                           \u001b[0m\n"
      ]
     },
     "metadata": {},
     "output_type": "display_data"
    },
    {
     "data": {
      "text/html": [
       "<pre style=\"white-space:pre;overflow-x:auto;line-height:normal;font-family:Menlo,'DejaVu Sans Mono',consolas,'Courier New',monospace\"><span style=\"color: #000000; text-decoration-color: #000000; background-color: #006600\">      \"animation_description\": \"Moves with a silent, ethereal grace\",                                              </span>\n",
       "</pre>\n"
      ],
      "text/plain": [
       "\u001b[30;48;2;0;102;0m      \"animation_description\": \"Moves with a silent, ethereal grace\",                                              \u001b[0m\n"
      ]
     },
     "metadata": {},
     "output_type": "display_data"
    },
    {
     "data": {
      "text/html": [
       "<pre style=\"white-space:pre;overflow-x:auto;line-height:normal;font-family:Menlo,'DejaVu Sans Mono',consolas,'Courier New',monospace\"><span style=\"color: #000000; text-decoration-color: #000000; background-color: #006600\">      \"voice_description\": \"Soft, melodious with an undercurrent of ancient wisdom\",                               </span>\n",
       "</pre>\n"
      ],
      "text/plain": [
       "\u001b[30;48;2;0;102;0m      \"voice_description\": \"Soft, melodious with an undercurrent of ancient wisdom\",                               \u001b[0m\n"
      ]
     },
     "metadata": {},
     "output_type": "display_data"
    },
    {
     "data": {
      "text/html": [
       "<pre style=\"white-space:pre;overflow-x:auto;line-height:normal;font-family:Menlo,'DejaVu Sans Mono',consolas,'Courier New',monospace\"><span style=\"color: #000000; text-decoration-color: #000000; background-color: #006600\">      \"voice_sample\": null,                                                                                        </span>\n",
       "</pre>\n"
      ],
      "text/plain": [
       "\u001b[30;48;2;0;102;0m      \"voice_sample\": null,                                                                                        \u001b[0m\n"
      ]
     },
     "metadata": {},
     "output_type": "display_data"
    },
    {
     "data": {
      "text/html": [
       "<pre style=\"white-space:pre;overflow-x:auto;line-height:normal;font-family:Menlo,'DejaVu Sans Mono',consolas,'Courier New',monospace\"><span style=\"color: #000000; text-decoration-color: #000000; background-color: #006600\">      \"props\": [\"Staff of the Ancients\", \"Cloak of the Emerald Woods\"],                                            </span>\n",
       "</pre>\n"
      ],
      "text/plain": [
       "\u001b[30;48;2;0;102;0m      \"props\": [\"Staff of the Ancients\", \"Cloak of the Emerald Woods\"],                                            \u001b[0m\n"
      ]
     },
     "metadata": {},
     "output_type": "display_data"
    },
    {
     "data": {
      "text/html": [
       "<pre style=\"white-space:pre;overflow-x:auto;line-height:normal;font-family:Menlo,'DejaVu Sans Mono',consolas,'Courier New',monospace\"><span style=\"color: #000000; text-decoration-color: #000000; background-color: #006600\">      \"relationships\": [                                                                                           </span>\n",
       "</pre>\n"
      ],
      "text/plain": [
       "\u001b[30;48;2;0;102;0m      \"relationships\": [                                                                                           \u001b[0m\n"
      ]
     },
     "metadata": {},
     "output_type": "display_data"
    },
    {
     "data": {
      "text/html": [
       "<pre style=\"white-space:pre;overflow-x:auto;line-height:normal;font-family:Menlo,'DejaVu Sans Mono',consolas,'Courier New',monospace\"><span style=\"color: #000000; text-decoration-color: #000000; background-color: #006600\">        {                                                                                                          </span>\n",
       "</pre>\n"
      ],
      "text/plain": [
       "\u001b[30;48;2;0;102;0m        {                                                                                                          \u001b[0m\n"
      ]
     },
     "metadata": {},
     "output_type": "display_data"
    },
    {
     "data": {
      "text/html": [
       "<pre style=\"white-space:pre;overflow-x:auto;line-height:normal;font-family:Menlo,'DejaVu Sans Mono',consolas,'Courier New',monospace\"><span style=\"color: #000000; text-decoration-color: #000000; background-color: #006600\">          \"character_name\": \"Kael Darkshadow\",                                                                     </span>\n",
       "</pre>\n"
      ],
      "text/plain": [
       "\u001b[30;48;2;0;102;0m          \"character_name\": \"Kael Darkshadow\",                                                                     \u001b[0m\n"
      ]
     },
     "metadata": {},
     "output_type": "display_data"
    },
    {
     "data": {
      "text/html": [
       "<pre style=\"white-space:pre;overflow-x:auto;line-height:normal;font-family:Menlo,'DejaVu Sans Mono',consolas,'Courier New',monospace\"><span style=\"color: #000000; text-decoration-color: #000000; background-color: #006600\">          \"relationship_type\": \"Mentor &amp; Ally\",                                                                    </span>\n",
       "</pre>\n"
      ],
      "text/plain": [
       "\u001b[30;48;2;0;102;0m          \"relationship_type\": \"Mentor & Ally\",                                                                    \u001b[0m\n"
      ]
     },
     "metadata": {},
     "output_type": "display_data"
    },
    {
     "data": {
      "text/html": [
       "<pre style=\"white-space:pre;overflow-x:auto;line-height:normal;font-family:Menlo,'DejaVu Sans Mono',consolas,'Courier New',monospace\"><span style=\"color: #000000; text-decoration-color: #000000; background-color: #006600\">          \"description\": \"A wise, mysterious guardian who guides Lyra through her journey\"                         </span>\n",
       "</pre>\n"
      ],
      "text/plain": [
       "\u001b[30;48;2;0;102;0m          \"description\": \"A wise, mysterious guardian who guides Lyra through her journey\"                         \u001b[0m\n"
      ]
     },
     "metadata": {},
     "output_type": "display_data"
    },
    {
     "data": {
      "text/html": [
       "<pre style=\"white-space:pre;overflow-x:auto;line-height:normal;font-family:Menlo,'DejaVu Sans Mono',consolas,'Courier New',monospace\"><span style=\"color: #000000; text-decoration-color: #000000; background-color: #006600\">        }                                                                                                          </span>\n",
       "</pre>\n"
      ],
      "text/plain": [
       "\u001b[30;48;2;0;102;0m        }                                                                                                          \u001b[0m\n"
      ]
     },
     "metadata": {},
     "output_type": "display_data"
    },
    {
     "data": {
      "text/html": [
       "<pre style=\"white-space:pre;overflow-x:auto;line-height:normal;font-family:Menlo,'DejaVu Sans Mono',consolas,'Courier New',monospace\"><span style=\"color: #000000; text-decoration-color: #000000; background-color: #006600\">      ],                                                                                                           </span>\n",
       "</pre>\n"
      ],
      "text/plain": [
       "\u001b[30;48;2;0;102;0m      ],                                                                                                           \u001b[0m\n"
      ]
     },
     "metadata": {},
     "output_type": "display_data"
    },
    {
     "data": {
      "text/html": [
       "<pre style=\"white-space:pre;overflow-x:auto;line-height:normal;font-family:Menlo,'DejaVu Sans Mono',consolas,'Courier New',monospace\"><span style=\"color: #000000; text-decoration-color: #000000; background-color: #006600\">      \"internal_conflict\": \"Self-doubt in her ability to save the Emerald Woods\",                                  </span>\n",
       "</pre>\n"
      ],
      "text/plain": [
       "\u001b[30;48;2;0;102;0m      \"internal_conflict\": \"Self-doubt in her ability to save the Emerald Woods\",                                  \u001b[0m\n"
      ]
     },
     "metadata": {},
     "output_type": "display_data"
    },
    {
     "data": {
      "text/html": [
       "<pre style=\"white-space:pre;overflow-x:auto;line-height:normal;font-family:Menlo,'DejaVu Sans Mono',consolas,'Courier New',monospace\"><span style=\"color: #000000; text-decoration-color: #000000; background-color: #006600\">      \"character_arc\": {                                                                                           </span>\n",
       "</pre>\n"
      ],
      "text/plain": [
       "\u001b[30;48;2;0;102;0m      \"character_arc\": {                                                                                           \u001b[0m\n"
      ]
     },
     "metadata": {},
     "output_type": "display_data"
    },
    {
     "data": {
      "text/html": [
       "<pre style=\"white-space:pre;overflow-x:auto;line-height:normal;font-family:Menlo,'DejaVu Sans Mono',consolas,'Courier New',monospace\"><span style=\"color: #000000; text-decoration-color: #000000; background-color: #006600\">        \"initial_state\": \"Apprentice unsure of her place\",                                                         </span>\n",
       "</pre>\n"
      ],
      "text/plain": [
       "\u001b[30;48;2;0;102;0m        \"initial_state\": \"Apprentice unsure of her place\",                                                         \u001b[0m\n"
      ]
     },
     "metadata": {},
     "output_type": "display_data"
    },
    {
     "data": {
      "text/html": [
       "<pre style=\"white-space:pre;overflow-x:auto;line-height:normal;font-family:Menlo,'DejaVu Sans Mono',consolas,'Courier New',monospace\"><span style=\"color: #000000; text-decoration-color: #000000; background-color: #006600\">        \"final_state\": \"Confident Guardian of the Emerald Woods\",                                                  </span>\n",
       "</pre>\n"
      ],
      "text/plain": [
       "\u001b[30;48;2;0;102;0m        \"final_state\": \"Confident Guardian of the Emerald Woods\",                                                  \u001b[0m\n"
      ]
     },
     "metadata": {},
     "output_type": "display_data"
    },
    {
     "data": {
      "text/html": [
       "<pre style=\"white-space:pre;overflow-x:auto;line-height:normal;font-family:Menlo,'DejaVu Sans Mono',consolas,'Courier New',monospace\"><span style=\"color: #000000; text-decoration-color: #000000; background-color: #006600\">        \"key_moments\": [\"Discovery of the prophecy\", \"Alliance with the Luminari\"]                                 </span>\n",
       "</pre>\n"
      ],
      "text/plain": [
       "\u001b[30;48;2;0;102;0m        \"key_moments\": [\"Discovery of the prophecy\", \"Alliance with the Luminari\"]                                 \u001b[0m\n"
      ]
     },
     "metadata": {},
     "output_type": "display_data"
    },
    {
     "data": {
      "text/html": [
       "<pre style=\"white-space:pre;overflow-x:auto;line-height:normal;font-family:Menlo,'DejaVu Sans Mono',consolas,'Courier New',monospace\"><span style=\"color: #000000; text-decoration-color: #000000; background-color: #006600\">      },                                                                                                           </span>\n",
       "</pre>\n"
      ],
      "text/plain": [
       "\u001b[30;48;2;0;102;0m      },                                                                                                           \u001b[0m\n"
      ]
     },
     "metadata": {},
     "output_type": "display_data"
    },
    {
     "data": {
      "text/html": [
       "<pre style=\"white-space:pre;overflow-x:auto;line-height:normal;font-family:Menlo,'DejaVu Sans Mono',consolas,'Courier New',monospace\"><span style=\"color: #000000; text-decoration-color: #000000; background-color: #006600\">      \"image_prompt\": \"Lyra standing at the edge of a glowing clearing, staff in hand, with the woods' ancient </span>\n",
       "<span style=\"color: #000000; text-decoration-color: #000000; background-color: #006600\">magic swirling around her.\",                                                                                       </span>\n",
       "</pre>\n"
      ],
      "text/plain": [
       "\u001b[30;48;2;0;102;0m      \"image_prompt\": \"Lyra standing at the edge of a glowing clearing, staff in hand, with the woods' ancient \u001b[0m\n",
       "\u001b[30;48;2;0;102;0mmagic swirling around her.\",                                                                                       \u001b[0m\n"
      ]
     },
     "metadata": {},
     "output_type": "display_data"
    },
    {
     "data": {
      "text/html": [
       "<pre style=\"white-space:pre;overflow-x:auto;line-height:normal;font-family:Menlo,'DejaVu Sans Mono',consolas,'Courier New',monospace\"><span style=\"color: #000000; text-decoration-color: #000000; background-color: #006600\">      \"image_prompt_short\": \"Lyra amidst magical woods\"                                                            </span>\n",
       "</pre>\n"
      ],
      "text/plain": [
       "\u001b[30;48;2;0;102;0m      \"image_prompt_short\": \"Lyra amidst magical woods\"                                                            \u001b[0m\n"
      ]
     },
     "metadata": {},
     "output_type": "display_data"
    },
    {
     "data": {
      "text/html": [
       "<pre style=\"white-space:pre;overflow-x:auto;line-height:normal;font-family:Menlo,'DejaVu Sans Mono',consolas,'Courier New',monospace\"><span style=\"color: #000000; text-decoration-color: #000000; background-color: #006600\">    }                                                                                                              </span>\n",
       "</pre>\n"
      ],
      "text/plain": [
       "\u001b[30;48;2;0;102;0m    }                                                                                                              \u001b[0m\n"
      ]
     },
     "metadata": {},
     "output_type": "display_data"
    },
    {
     "data": {
      "text/html": [
       "<pre style=\"white-space:pre;overflow-x:auto;line-height:normal;font-family:Menlo,'DejaVu Sans Mono',consolas,'Courier New',monospace\"><span style=\"color: #000000; text-decoration-color: #000000; background-color: #006600\">  ],                                                                                                               </span>\n",
       "</pre>\n"
      ],
      "text/plain": [
       "\u001b[30;48;2;0;102;0m  ],                                                                                                               \u001b[0m\n"
      ]
     },
     "metadata": {},
     "output_type": "display_data"
    },
    {
     "data": {
      "text/html": [
       "<pre style=\"white-space:pre;overflow-x:auto;line-height:normal;font-family:Menlo,'DejaVu Sans Mono',consolas,'Courier New',monospace\"><span style=\"color: #000000; text-decoration-color: #000000; background-color: #006600\">  \"props\": [                                                                                                       </span>\n",
       "</pre>\n"
      ],
      "text/plain": [
       "\u001b[30;48;2;0;102;0m  \"props\": [                                                                                                       \u001b[0m\n"
      ]
     },
     "metadata": {},
     "output_type": "display_data"
    },
    {
     "data": {
      "text/html": [
       "<pre style=\"white-space:pre;overflow-x:auto;line-height:normal;font-family:Menlo,'DejaVu Sans Mono',consolas,'Courier New',monospace\"><span style=\"color: #000000; text-decoration-color: #000000; background-color: #006600\">    {                                                                                                              </span>\n",
       "</pre>\n"
      ],
      "text/plain": [
       "\u001b[30;48;2;0;102;0m    {                                                                                                              \u001b[0m\n"
      ]
     },
     "metadata": {},
     "output_type": "display_data"
    },
    {
     "data": {
      "text/html": [
       "<pre style=\"white-space:pre;overflow-x:auto;line-height:normal;font-family:Menlo,'DejaVu Sans Mono',consolas,'Courier New',monospace\"><span style=\"color: #000000; text-decoration-color: #000000; background-color: #006600\">      \"name\": \"Staff of the Ancients\",                                                                             </span>\n",
       "</pre>\n"
      ],
      "text/plain": [
       "\u001b[30;48;2;0;102;0m      \"name\": \"Staff of the Ancients\",                                                                             \u001b[0m\n"
      ]
     },
     "metadata": {},
     "output_type": "display_data"
    },
    {
     "data": {
      "text/html": [
       "<pre style=\"white-space:pre;overflow-x:auto;line-height:normal;font-family:Menlo,'DejaVu Sans Mono',consolas,'Courier New',monospace\"><span style=\"color: #000000; text-decoration-color: #000000; background-color: #006600\">      \"description\": \"A powerful, glowing staff passed down through the guardians of the Emerald Woods.\",          </span>\n",
       "</pre>\n"
      ],
      "text/plain": [
       "\u001b[30;48;2;0;102;0m      \"description\": \"A powerful, glowing staff passed down through the guardians of the Emerald Woods.\",          \u001b[0m\n"
      ]
     },
     "metadata": {},
     "output_type": "display_data"
    },
    {
     "data": {
      "text/html": [
       "<pre style=\"white-space:pre;overflow-x:auto;line-height:normal;font-family:Menlo,'DejaVu Sans Mono',consolas,'Courier New',monospace\"><span style=\"color: #000000; text-decoration-color: #000000; background-color: #006600\">      \"purpose\": \"Channeling and focusing magic\",                                                                  </span>\n",
       "</pre>\n"
      ],
      "text/plain": [
       "\u001b[30;48;2;0;102;0m      \"purpose\": \"Channeling and focusing magic\",                                                                  \u001b[0m\n"
      ]
     },
     "metadata": {},
     "output_type": "display_data"
    },
    {
     "data": {
      "text/html": [
       "<pre style=\"white-space:pre;overflow-x:auto;line-height:normal;font-family:Menlo,'DejaVu Sans Mono',consolas,'Courier New',monospace\"><span style=\"color: #000000; text-decoration-color: #000000; background-color: #006600\">      \"physical_appearance\": \"Tall, slender with intricate carvings that shimmer in the dark\",                     </span>\n",
       "</pre>\n"
      ],
      "text/plain": [
       "\u001b[30;48;2;0;102;0m      \"physical_appearance\": \"Tall, slender with intricate carvings that shimmer in the dark\",                     \u001b[0m\n"
      ]
     },
     "metadata": {},
     "output_type": "display_data"
    },
    {
     "data": {
      "text/html": [
       "<pre style=\"white-space:pre;overflow-x:auto;line-height:normal;font-family:Menlo,'DejaVu Sans Mono',consolas,'Courier New',monospace\"><span style=\"color: #000000; text-decoration-color: #000000; background-color: #006600\">      \"animation_description\": \"Glow intensifies when magic is channeled\"                                          </span>\n",
       "</pre>\n"
      ],
      "text/plain": [
       "\u001b[30;48;2;0;102;0m      \"animation_description\": \"Glow intensifies when magic is channeled\"                                          \u001b[0m\n"
      ]
     },
     "metadata": {},
     "output_type": "display_data"
    },
    {
     "data": {
      "text/html": [
       "<pre style=\"white-space:pre;overflow-x:auto;line-height:normal;font-family:Menlo,'DejaVu Sans Mono',consolas,'Courier New',monospace\"><span style=\"color: #000000; text-decoration-color: #000000; background-color: #006600\">    }                                                                                                              </span>\n",
       "</pre>\n"
      ],
      "text/plain": [
       "\u001b[30;48;2;0;102;0m    }                                                                                                              \u001b[0m\n"
      ]
     },
     "metadata": {},
     "output_type": "display_data"
    },
    {
     "data": {
      "text/html": [
       "<pre style=\"white-space:pre;overflow-x:auto;line-height:normal;font-family:Menlo,'DejaVu Sans Mono',consolas,'Courier New',monospace\"><span style=\"color: #000000; text-decoration-color: #000000; background-color: #006600\">  ],                                                                                                               </span>\n",
       "</pre>\n"
      ],
      "text/plain": [
       "\u001b[30;48;2;0;102;0m  ],                                                                                                               \u001b[0m\n"
      ]
     },
     "metadata": {},
     "output_type": "display_data"
    },
    {
     "data": {
      "text/html": [
       "<pre style=\"white-space:pre;overflow-x:auto;line-height:normal;font-family:Menlo,'DejaVu Sans Mono',consolas,'Courier New',monospace\"><span style=\"color: #000000; text-decoration-color: #000000; background-color: #006600\">  \"story_beats\": [                                                                                                 </span>\n",
       "</pre>\n"
      ],
      "text/plain": [
       "\u001b[30;48;2;0;102;0m  \"story_beats\": [                                                                                                 \u001b[0m\n"
      ]
     },
     "metadata": {},
     "output_type": "display_data"
    },
    {
     "data": {
      "text/html": [
       "<pre style=\"white-space:pre;overflow-x:auto;line-height:normal;font-family:Menlo,'DejaVu Sans Mono',consolas,'Courier New',monospace\"><span style=\"color: #000000; text-decoration-color: #000000; background-color: #006600\">    {                                                                                                              </span>\n",
       "</pre>\n"
      ],
      "text/plain": [
       "\u001b[30;48;2;0;102;0m    {                                                                                                              \u001b[0m\n"
      ]
     },
     "metadata": {},
     "output_type": "display_data"
    },
    {
     "data": {
      "text/html": [
       "<pre style=\"white-space:pre;overflow-x:auto;line-height:normal;font-family:Menlo,'DejaVu Sans Mono',consolas,'Courier New',monospace\"><span style=\"color: #000000; text-decoration-color: #000000; background-color: #006600\">      \"name\": \"The Discovery\",                                                                                     </span>\n",
       "</pre>\n"
      ],
      "text/plain": [
       "\u001b[30;48;2;0;102;0m      \"name\": \"The Discovery\",                                                                                     \u001b[0m\n"
      ]
     },
     "metadata": {},
     "output_type": "display_data"
    },
    {
     "data": {
      "text/html": [
       "<pre style=\"white-space:pre;overflow-x:auto;line-height:normal;font-family:Menlo,'DejaVu Sans Mono',consolas,'Courier New',monospace\"><span style=\"color: #000000; text-decoration-color: #000000; background-color: #006600\">      \"description\": \"Lyra finds the forgotten prophecy hidden deep within the woods.\",                            </span>\n",
       "</pre>\n"
      ],
      "text/plain": [
       "\u001b[30;48;2;0;102;0m      \"description\": \"Lyra finds the forgotten prophecy hidden deep within the woods.\",                            \u001b[0m\n"
      ]
     },
     "metadata": {},
     "output_type": "display_data"
    },
    {
     "data": {
      "text/html": [
       "<pre style=\"white-space:pre;overflow-x:auto;line-height:normal;font-family:Menlo,'DejaVu Sans Mono',consolas,'Courier New',monospace\"><span style=\"color: #000000; text-decoration-color: #000000; background-color: #006600\">      \"scene\": \"Ancient Ruins, under the light of a full moon\"                                                     </span>\n",
       "</pre>\n"
      ],
      "text/plain": [
       "\u001b[30;48;2;0;102;0m      \"scene\": \"Ancient Ruins, under the light of a full moon\"                                                     \u001b[0m\n"
      ]
     },
     "metadata": {},
     "output_type": "display_data"
    },
    {
     "data": {
      "text/html": [
       "<pre style=\"white-space:pre;overflow-x:auto;line-height:normal;font-family:Menlo,'DejaVu Sans Mono',consolas,'Courier New',monospace\"><span style=\"color: #000000; text-decoration-color: #000000; background-color: #006600\">    },                                                                                                             </span>\n",
       "</pre>\n"
      ],
      "text/plain": [
       "\u001b[30;48;2;0;102;0m    },                                                                                                             \u001b[0m\n"
      ]
     },
     "metadata": {},
     "output_type": "display_data"
    },
    {
     "data": {
      "text/html": [
       "<pre style=\"white-space:pre;overflow-x:auto;line-height:normal;font-family:Menlo,'DejaVu Sans Mono',consolas,'Courier New',monospace\"><span style=\"color: #000000; text-decoration-color: #000000; background-color: #006600\">    {                                                                                                              </span>\n",
       "</pre>\n"
      ],
      "text/plain": [
       "\u001b[30;48;2;0;102;0m    {                                                                                                              \u001b[0m\n"
      ]
     },
     "metadata": {},
     "output_type": "display_data"
    },
    {
     "data": {
      "text/html": [
       "<pre style=\"white-space:pre;overflow-x:auto;line-height:normal;font-family:Menlo,'DejaVu Sans Mono',consolas,'Courier New',monospace\"><span style=\"color: #000000; text-decoration-color: #000000; background-color: #006600\">      \"name\": \"The Quest Begins\",                                                                                  </span>\n",
       "</pre>\n"
      ],
      "text/plain": [
       "\u001b[30;48;2;0;102;0m      \"name\": \"The Quest Begins\",                                                                                  \u001b[0m\n"
      ]
     },
     "metadata": {},
     "output_type": "display_data"
    },
    {
     "data": {
      "text/html": [
       "<pre style=\"white-space:pre;overflow-x:auto;line-height:normal;font-family:Menlo,'DejaVu Sans Mono',consolas,'Courier New',monospace\"><span style=\"color: #000000; text-decoration-color: #000000; background-color: #006600\">      \"description\": \"Lyra sets out to unite the warring factions.\",                                               </span>\n",
       "</pre>\n"
      ],
      "text/plain": [
       "\u001b[30;48;2;0;102;0m      \"description\": \"Lyra sets out to unite the warring factions.\",                                               \u001b[0m\n"
      ]
     },
     "metadata": {},
     "output_type": "display_data"
    },
    {
     "data": {
      "text/html": [
       "<pre style=\"white-space:pre;overflow-x:auto;line-height:normal;font-family:Menlo,'DejaVu Sans Mono',consolas,'Courier New',monospace\"><span style=\"color: #000000; text-decoration-color: #000000; background-color: #006600\">      \"scene\": \"The Great Oak Council, at dawn\"                                                                    </span>\n",
       "</pre>\n"
      ],
      "text/plain": [
       "\u001b[30;48;2;0;102;0m      \"scene\": \"The Great Oak Council, at dawn\"                                                                    \u001b[0m\n"
      ]
     },
     "metadata": {},
     "output_type": "display_data"
    },
    {
     "data": {
      "text/html": [
       "<pre style=\"white-space:pre;overflow-x:auto;line-height:normal;font-family:Menlo,'DejaVu Sans Mono',consolas,'Courier New',monospace\"><span style=\"color: #000000; text-decoration-color: #000000; background-color: #006600\">    }                                                                                                              </span>\n",
       "</pre>\n"
      ],
      "text/plain": [
       "\u001b[30;48;2;0;102;0m    }                                                                                                              \u001b[0m\n"
      ]
     },
     "metadata": {},
     "output_type": "display_data"
    },
    {
     "data": {
      "text/html": [
       "<pre style=\"white-space:pre;overflow-x:auto;line-height:normal;font-family:Menlo,'DejaVu Sans Mono',consolas,'Courier New',monospace\"><span style=\"color: #000000; text-decoration-color: #000000; background-color: #006600\">  ],                                                                                                               </span>\n",
       "</pre>\n"
      ],
      "text/plain": [
       "\u001b[30;48;2;0;102;0m  ],                                                                                                               \u001b[0m\n"
      ]
     },
     "metadata": {},
     "output_type": "display_data"
    },
    {
     "data": {
      "text/html": [
       "<pre style=\"white-space:pre;overflow-x:auto;line-height:normal;font-family:Menlo,'DejaVu Sans Mono',consolas,'Courier New',monospace\"><span style=\"color: #000000; text-decoration-color: #000000; background-color: #006600\">  \"subplots\": [                                                                                                    </span>\n",
       "</pre>\n"
      ],
      "text/plain": [
       "\u001b[30;48;2;0;102;0m  \"subplots\": [                                                                                                    \u001b[0m\n"
      ]
     },
     "metadata": {},
     "output_type": "display_data"
    },
    {
     "data": {
      "text/html": [
       "<pre style=\"white-space:pre;overflow-x:auto;line-height:normal;font-family:Menlo,'DejaVu Sans Mono',consolas,'Courier New',monospace\"><span style=\"color: #000000; text-decoration-color: #000000; background-color: #006600\">    {                                                                                                              </span>\n",
       "</pre>\n"
      ],
      "text/plain": [
       "\u001b[30;48;2;0;102;0m    {                                                                                                              \u001b[0m\n"
      ]
     },
     "metadata": {},
     "output_type": "display_data"
    },
    {
     "data": {
      "text/html": [
       "<pre style=\"white-space:pre;overflow-x:auto;line-height:normal;font-family:Menlo,'DejaVu Sans Mono',consolas,'Courier New',monospace\"><span style=\"color: #000000; text-decoration-color: #000000; background-color: #006600\">      \"title\": \"The Shadow Within\",                                                                                </span>\n",
       "</pre>\n"
      ],
      "text/plain": [
       "\u001b[30;48;2;0;102;0m      \"title\": \"The Shadow Within\",                                                                                \u001b[0m\n"
      ]
     },
     "metadata": {},
     "output_type": "display_data"
    },
    {
     "data": {
      "text/html": [
       "<pre style=\"white-space:pre;overflow-x:auto;line-height:normal;font-family:Menlo,'DejaVu Sans Mono',consolas,'Courier New',monospace\"><span style=\"color: #000000; text-decoration-color: #000000; background-color: #006600\">      \"description\": \"Kael's mysterious past threatens to undermine Lyra's quest.\",                                </span>\n",
       "</pre>\n"
      ],
      "text/plain": [
       "\u001b[30;48;2;0;102;0m      \"description\": \"Kael's mysterious past threatens to undermine Lyra's quest.\",                                \u001b[0m\n"
      ]
     },
     "metadata": {},
     "output_type": "display_data"
    },
    {
     "data": {
      "text/html": [
       "<pre style=\"white-space:pre;overflow-x:auto;line-height:normal;font-family:Menlo,'DejaVu Sans Mono',consolas,'Courier New',monospace\"><span style=\"color: #000000; text-decoration-color: #000000; background-color: #006600\">      \"related_characters\": [\"Lyra Flynn\", \"Kael Darkshadow\"]                                                      </span>\n",
       "</pre>\n"
      ],
      "text/plain": [
       "\u001b[30;48;2;0;102;0m      \"related_characters\": [\"Lyra Flynn\", \"Kael Darkshadow\"]                                                      \u001b[0m\n"
      ]
     },
     "metadata": {},
     "output_type": "display_data"
    },
    {
     "data": {
      "text/html": [
       "<pre style=\"white-space:pre;overflow-x:auto;line-height:normal;font-family:Menlo,'DejaVu Sans Mono',consolas,'Courier New',monospace\"><span style=\"color: #000000; text-decoration-color: #000000; background-color: #006600\">    }                                                                                                              </span>\n",
       "</pre>\n"
      ],
      "text/plain": [
       "\u001b[30;48;2;0;102;0m    }                                                                                                              \u001b[0m\n"
      ]
     },
     "metadata": {},
     "output_type": "display_data"
    },
    {
     "data": {
      "text/html": [
       "<pre style=\"white-space:pre;overflow-x:auto;line-height:normal;font-family:Menlo,'DejaVu Sans Mono',consolas,'Courier New',monospace\"><span style=\"color: #000000; text-decoration-color: #000000; background-color: #006600\">  ],                                                                                                               </span>\n",
       "</pre>\n"
      ],
      "text/plain": [
       "\u001b[30;48;2;0;102;0m  ],                                                                                                               \u001b[0m\n"
      ]
     },
     "metadata": {},
     "output_type": "display_data"
    },
    {
     "data": {
      "text/html": [
       "<pre style=\"white-space:pre;overflow-x:auto;line-height:normal;font-family:Menlo,'DejaVu Sans Mono',consolas,'Courier New',monospace\"><span style=\"color: #000000; text-decoration-color: #000000; background-color: #006600\">  \"emotional_arc\": [                                                                                               </span>\n",
       "</pre>\n"
      ],
      "text/plain": [
       "\u001b[30;48;2;0;102;0m  \"emotional_arc\": [                                                                                               \u001b[0m\n"
      ]
     },
     "metadata": {},
     "output_type": "display_data"
    },
    {
     "data": {
      "text/html": [
       "<pre style=\"white-space:pre;overflow-x:auto;line-height:normal;font-family:Menlo,'DejaVu Sans Mono',consolas,'Courier New',monospace\"><span style=\"color: #000000; text-decoration-color: #000000; background-color: #006600\">    {                                                                                                              </span>\n",
       "</pre>\n"
      ],
      "text/plain": [
       "\u001b[30;48;2;0;102;0m    {                                                                                                              \u001b[0m\n"
      ]
     },
     "metadata": {},
     "output_type": "display_data"
    },
    {
     "data": {
      "text/html": [
       "<pre style=\"white-space:pre;overflow-x:auto;line-height:normal;font-family:Menlo,'DejaVu Sans Mono',consolas,'Courier New',monospace\"><span style=\"color: #000000; text-decoration-color: #000000; background-color: #006600\">      \"stage\": \"Uncertainty\",                                                                                      </span>\n",
       "</pre>\n"
      ],
      "text/plain": [
       "\u001b[30;48;2;0;102;0m      \"stage\": \"Uncertainty\",                                                                                      \u001b[0m\n"
      ]
     },
     "metadata": {},
     "output_type": "display_data"
    },
    {
     "data": {
      "text/html": [
       "<pre style=\"white-space:pre;overflow-x:auto;line-height:normal;font-family:Menlo,'DejaVu Sans Mono',consolas,'Courier New',monospace\"><span style=\"color: #000000; text-decoration-color: #000000; background-color: #006600\">      \"description\": \"Lyra doubts her ability to fulfill the prophecy\"                                             </span>\n",
       "</pre>\n"
      ],
      "text/plain": [
       "\u001b[30;48;2;0;102;0m      \"description\": \"Lyra doubts her ability to fulfill the prophecy\"                                             \u001b[0m\n"
      ]
     },
     "metadata": {},
     "output_type": "display_data"
    },
    {
     "data": {
      "text/html": [
       "<pre style=\"white-space:pre;overflow-x:auto;line-height:normal;font-family:Menlo,'DejaVu Sans Mono',consolas,'Courier New',monospace\"><span style=\"color: #000000; text-decoration-color: #000000; background-color: #006600\">    },                                                                                                             </span>\n",
       "</pre>\n"
      ],
      "text/plain": [
       "\u001b[30;48;2;0;102;0m    },                                                                                                             \u001b[0m\n"
      ]
     },
     "metadata": {},
     "output_type": "display_data"
    },
    {
     "data": {
      "text/html": [
       "<pre style=\"white-space:pre;overflow-x:auto;line-height:normal;font-family:Menlo,'DejaVu Sans Mono',consolas,'Courier New',monospace\"><span style=\"color: #000000; text-decoration-color: #000000; background-color: #006600\">    {                                                                                                              </span>\n",
       "</pre>\n"
      ],
      "text/plain": [
       "\u001b[30;48;2;0;102;0m    {                                                                                                              \u001b[0m\n"
      ]
     },
     "metadata": {},
     "output_type": "display_data"
    },
    {
     "data": {
      "text/html": [
       "<pre style=\"white-space:pre;overflow-x:auto;line-height:normal;font-family:Menlo,'DejaVu Sans Mono',consolas,'Courier New',monospace\"><span style=\"color: #000000; text-decoration-color: #000000; background-color: #006600\">      \"stage\": \"Empowerment\",                                                                                      </span>\n",
       "</pre>\n"
      ],
      "text/plain": [
       "\u001b[30;48;2;0;102;0m      \"stage\": \"Empowerment\",                                                                                      \u001b[0m\n"
      ]
     },
     "metadata": {},
     "output_type": "display_data"
    },
    {
     "data": {
      "text/html": [
       "<pre style=\"white-space:pre;overflow-x:auto;line-height:normal;font-family:Menlo,'DejaVu Sans Mono',consolas,'Courier New',monospace\"><span style=\"color: #000000; text-decoration-color: #000000; background-color: #006600\">      \"description\": \"Lyra, with newfound confidence, leads the final stand against darkness\"                      </span>\n",
       "</pre>\n"
      ],
      "text/plain": [
       "\u001b[30;48;2;0;102;0m      \"description\": \"Lyra, with newfound confidence, leads the final stand against darkness\"                      \u001b[0m\n"
      ]
     },
     "metadata": {},
     "output_type": "display_data"
    },
    {
     "data": {
      "text/html": [
       "<pre style=\"white-space:pre;overflow-x:auto;line-height:normal;font-family:Menlo,'DejaVu Sans Mono',consolas,'Courier New',monospace\"><span style=\"color: #000000; text-decoration-color: #000000; background-color: #006600\">    }                                                                                                              </span>\n",
       "</pre>\n"
      ],
      "text/plain": [
       "\u001b[30;48;2;0;102;0m    }                                                                                                              \u001b[0m\n"
      ]
     },
     "metadata": {},
     "output_type": "display_data"
    },
    {
     "data": {
      "text/html": [
       "<pre style=\"white-space:pre;overflow-x:auto;line-height:normal;font-family:Menlo,'DejaVu Sans Mono',consolas,'Courier New',monospace\"><span style=\"color: #000000; text-decoration-color: #000000; background-color: #006600\">  ],                                                                                                               </span>\n",
       "</pre>\n"
      ],
      "text/plain": [
       "\u001b[30;48;2;0;102;0m  ],                                                                                                               \u001b[0m\n"
      ]
     },
     "metadata": {},
     "output_type": "display_data"
    },
    {
     "data": {
      "text/html": [
       "<pre style=\"white-space:pre;overflow-x:auto;line-height:normal;font-family:Menlo,'DejaVu Sans Mono',consolas,'Courier New',monospace\"><span style=\"color: #000000; text-decoration-color: #000000; background-color: #006600\">  \"acts\": [                                                                                                        </span>\n",
       "</pre>\n"
      ],
      "text/plain": [
       "\u001b[30;48;2;0;102;0m  \"acts\": [                                                                                                        \u001b[0m\n"
      ]
     },
     "metadata": {},
     "output_type": "display_data"
    },
    {
     "data": {
      "text/html": [
       "<pre style=\"white-space:pre;overflow-x:auto;line-height:normal;font-family:Menlo,'DejaVu Sans Mono',consolas,'Courier New',monospace\"><span style=\"color: #000000; text-decoration-color: #000000; background-color: #006600\">    {                                                                                                              </span>\n",
       "</pre>\n"
      ],
      "text/plain": [
       "\u001b[30;48;2;0;102;0m    {                                                                                                              \u001b[0m\n"
      ]
     },
     "metadata": {},
     "output_type": "display_data"
    },
    {
     "data": {
      "text/html": [
       "<pre style=\"white-space:pre;overflow-x:auto;line-height:normal;font-family:Menlo,'DejaVu Sans Mono',consolas,'Courier New',monospace\"><span style=\"color: #000000; text-decoration-color: #000000; background-color: #006600\">      \"act_id\": \"1\",                                                                                               </span>\n",
       "</pre>\n"
      ],
      "text/plain": [
       "\u001b[30;48;2;0;102;0m      \"act_id\": \"1\",                                                                                               \u001b[0m\n"
      ]
     },
     "metadata": {},
     "output_type": "display_data"
    },
    {
     "data": {
      "text/html": [
       "<pre style=\"white-space:pre;overflow-x:auto;line-height:normal;font-family:Menlo,'DejaVu Sans Mono',consolas,'Courier New',monospace\"><span style=\"color: #000000; text-decoration-color: #000000; background-color: #006600\">      \"title\": \"The Awakening\",                                                                                    </span>\n",
       "</pre>\n"
      ],
      "text/plain": [
       "\u001b[30;48;2;0;102;0m      \"title\": \"The Awakening\",                                                                                    \u001b[0m\n"
      ]
     },
     "metadata": {},
     "output_type": "display_data"
    },
    {
     "data": {
      "text/html": [
       "<pre style=\"white-space:pre;overflow-x:auto;line-height:normal;font-family:Menlo,'DejaVu Sans Mono',consolas,'Courier New',monospace\"><span style=\"color: #000000; text-decoration-color: #000000; background-color: #006600\">      \"description\": \"Introduction to Lyra and the mystical Emerald Woods\",                                        </span>\n",
       "</pre>\n"
      ],
      "text/plain": [
       "\u001b[30;48;2;0;102;0m      \"description\": \"Introduction to Lyra and the mystical Emerald Woods\",                                        \u001b[0m\n"
      ]
     },
     "metadata": {},
     "output_type": "display_data"
    },
    {
     "data": {
      "text/html": [
       "<pre style=\"white-space:pre;overflow-x:auto;line-height:normal;font-family:Menlo,'DejaVu Sans Mono',consolas,'Courier New',monospace\"><span style=\"color: #000000; text-decoration-color: #000000; background-color: #006600\">      \"scenes\": [                                                                                                  </span>\n",
       "</pre>\n"
      ],
      "text/plain": [
       "\u001b[30;48;2;0;102;0m      \"scenes\": [                                                                                                  \u001b[0m\n"
      ]
     },
     "metadata": {},
     "output_type": "display_data"
    },
    {
     "data": {
      "text/html": [
       "<pre style=\"white-space:pre;overflow-x:auto;line-height:normal;font-family:Menlo,'DejaVu Sans Mono',consolas,'Courier New',monospace\"><span style=\"color: #000000; text-decoration-color: #000000; background-color: #006600\">        {                                                                                                          </span>\n",
       "</pre>\n"
      ],
      "text/plain": [
       "\u001b[30;48;2;0;102;0m        {                                                                                                          \u001b[0m\n"
      ]
     },
     "metadata": {},
     "output_type": "display_data"
    },
    {
     "data": {
      "text/html": [
       "<pre style=\"white-space:pre;overflow-x:auto;line-height:normal;font-family:Menlo,'DejaVu Sans Mono',consolas,'Courier New',monospace\"><span style=\"color: #000000; text-decoration-color: #000000; background-color: #006600\">          \"scene_id\": \"1.1\",                                                                                       </span>\n",
       "</pre>\n"
      ],
      "text/plain": [
       "\u001b[30;48;2;0;102;0m          \"scene_id\": \"1.1\",                                                                                       \u001b[0m\n"
      ]
     },
     "metadata": {},
     "output_type": "display_data"
    },
    {
     "data": {
      "text/html": [
       "<pre style=\"white-space:pre;overflow-x:auto;line-height:normal;font-family:Menlo,'DejaVu Sans Mono',consolas,'Courier New',monospace\"><span style=\"color: #000000; text-decoration-color: #000000; background-color: #006600\">          \"title\": \"Moonlit Discovery\",                                                                            </span>\n",
       "</pre>\n"
      ],
      "text/plain": [
       "\u001b[30;48;2;0;102;0m          \"title\": \"Moonlit Discovery\",                                                                            \u001b[0m\n"
      ]
     },
     "metadata": {},
     "output_type": "display_data"
    },
    {
     "data": {
      "text/html": [
       "<pre style=\"white-space:pre;overflow-x:auto;line-height:normal;font-family:Menlo,'DejaVu Sans Mono',consolas,'Courier New',monospace\"><span style=\"color: #000000; text-decoration-color: #000000; background-color: #006600\">          \"description\": \"Lyra stumbles upon an ancient, hidden text.\",                                            </span>\n",
       "</pre>\n"
      ],
      "text/plain": [
       "\u001b[30;48;2;0;102;0m          \"description\": \"Lyra stumbles upon an ancient, hidden text.\",                                            \u001b[0m\n"
      ]
     },
     "metadata": {},
     "output_type": "display_data"
    },
    {
     "data": {
      "text/html": [
       "<pre style=\"white-space:pre;overflow-x:auto;line-height:normal;font-family:Menlo,'DejaVu Sans Mono',consolas,'Courier New',monospace\"><span style=\"color: #000000; text-decoration-color: #000000; background-color: #006600\">          \"characters_involved\": [\"Lyra Flynn\"],                                                                   </span>\n",
       "</pre>\n"
      ],
      "text/plain": [
       "\u001b[30;48;2;0;102;0m          \"characters_involved\": [\"Lyra Flynn\"],                                                                   \u001b[0m\n"
      ]
     },
     "metadata": {},
     "output_type": "display_data"
    },
    {
     "data": {
      "text/html": [
       "<pre style=\"white-space:pre;overflow-x:auto;line-height:normal;font-family:Menlo,'DejaVu Sans Mono',consolas,'Courier New',monospace\"><span style=\"color: #000000; text-decoration-color: #000000; background-color: #006600\">          \"setting\": \"Ancient Ruins\",                                                                              </span>\n",
       "</pre>\n"
      ],
      "text/plain": [
       "\u001b[30;48;2;0;102;0m          \"setting\": \"Ancient Ruins\",                                                                              \u001b[0m\n"
      ]
     },
     "metadata": {},
     "output_type": "display_data"
    },
    {
     "data": {
      "text/html": [
       "<pre style=\"white-space:pre;overflow-x:auto;line-height:normal;font-family:Menlo,'DejaVu Sans Mono',consolas,'Courier New',monospace\"><span style=\"color: #000000; text-decoration-color: #000000; background-color: #006600\">          \"time_of_day\": \"Night\",                                                                                  </span>\n",
       "</pre>\n"
      ],
      "text/plain": [
       "\u001b[30;48;2;0;102;0m          \"time_of_day\": \"Night\",                                                                                  \u001b[0m\n"
      ]
     },
     "metadata": {},
     "output_type": "display_data"
    },
    {
     "data": {
      "text/html": [
       "<pre style=\"white-space:pre;overflow-x:auto;line-height:normal;font-family:Menlo,'DejaVu Sans Mono',consolas,'Courier New',monospace\"><span style=\"color: #000000; text-decoration-color: #000000; background-color: #006600\">          \"location\": \"Deep within the Emerald Woods\",                                                             </span>\n",
       "</pre>\n"
      ],
      "text/plain": [
       "\u001b[30;48;2;0;102;0m          \"location\": \"Deep within the Emerald Woods\",                                                             \u001b[0m\n"
      ]
     },
     "metadata": {},
     "output_type": "display_data"
    },
    {
     "data": {
      "text/html": [
       "<pre style=\"white-space:pre;overflow-x:auto;line-height:normal;font-family:Menlo,'DejaVu Sans Mono',consolas,'Courier New',monospace\"><span style=\"color: #000000; text-decoration-color: #000000; background-color: #006600\">          \"lighting\": \"Soft, moonlit glow\",                                                                        </span>\n",
       "</pre>\n"
      ],
      "text/plain": [
       "\u001b[30;48;2;0;102;0m          \"lighting\": \"Soft, moonlit glow\",                                                                        \u001b[0m\n"
      ]
     },
     "metadata": {},
     "output_type": "display_data"
    },
    {
     "data": {
      "text/html": [
       "<pre style=\"white-space:pre;overflow-x:auto;line-height:normal;font-family:Menlo,'DejaVu Sans Mono',consolas,'Courier New',monospace\"><span style=\"color: #000000; text-decoration-color: #000000; background-color: #006600\">          \"mood\": \"Mysterious, anticipatory\",                                                                      </span>\n",
       "</pre>\n"
      ],
      "text/plain": [
       "\u001b[30;48;2;0;102;0m          \"mood\": \"Mysterious, anticipatory\",                                                                      \u001b[0m\n"
      ]
     },
     "metadata": {},
     "output_type": "display_data"
    },
    {
     "data": {
      "text/html": [
       "<pre style=\"white-space:pre;overflow-x:auto;line-height:normal;font-family:Menlo,'DejaVu Sans Mono',consolas,'Courier New',monospace\"><span style=\"color: #000000; text-decoration-color: #000000; background-color: #006600\">          \"props\": [\"Ancient Texts\", \"Staff of the Ancients\"],                                                     </span>\n",
       "</pre>\n"
      ],
      "text/plain": [
       "\u001b[30;48;2;0;102;0m          \"props\": [\"Ancient Texts\", \"Staff of the Ancients\"],                                                     \u001b[0m\n"
      ]
     },
     "metadata": {},
     "output_type": "display_data"
    },
    {
     "data": {
      "text/html": [
       "<pre style=\"white-space:pre;overflow-x:auto;line-height:normal;font-family:Menlo,'DejaVu Sans Mono',consolas,'Courier New',monospace\"><span style=\"color: #000000; text-decoration-color: #000000; background-color: #006600\">          \"key_actions\": [\"Lyra deciphers the ancient text\", \"First glimpse of the prophecy\"],                     </span>\n",
       "</pre>\n"
      ],
      "text/plain": [
       "\u001b[30;48;2;0;102;0m          \"key_actions\": [\"Lyra deciphers the ancient text\", \"First glimpse of the prophecy\"],                     \u001b[0m\n"
      ]
     },
     "metadata": {},
     "output_type": "display_data"
    },
    {
     "data": {
      "text/html": [
       "<pre style=\"white-space:pre;overflow-x:auto;line-height:normal;font-family:Menlo,'DejaVu Sans Mono',consolas,'Courier New',monospace\"><span style=\"color: #000000; text-decoration-color: #000000; background-color: #006600\">          \"dialogue\": [                                                                                            </span>\n",
       "</pre>\n"
      ],
      "text/plain": [
       "\u001b[30;48;2;0;102;0m          \"dialogue\": [                                                                                            \u001b[0m\n"
      ]
     },
     "metadata": {},
     "output_type": "display_data"
    },
    {
     "data": {
      "text/html": [
       "<pre style=\"white-space:pre;overflow-x:auto;line-height:normal;font-family:Menlo,'DejaVu Sans Mono',consolas,'Courier New',monospace\"><span style=\"color: #000000; text-decoration-color: #000000; background-color: #006600\">            {\"character\": \"Lyra\", \"line\": \"What secrets lie within these ancient words?\"}                          </span>\n",
       "</pre>\n"
      ],
      "text/plain": [
       "\u001b[30;48;2;0;102;0m            {\"character\": \"Lyra\", \"line\": \"What secrets lie within these ancient words?\"}                          \u001b[0m\n"
      ]
     },
     "metadata": {},
     "output_type": "display_data"
    },
    {
     "data": {
      "text/html": [
       "<pre style=\"white-space:pre;overflow-x:auto;line-height:normal;font-family:Menlo,'DejaVu Sans Mono',consolas,'Courier New',monospace\"><span style=\"color: #000000; text-decoration-color: #000000; background-color: #006600\">          ],                                                                                                       </span>\n",
       "</pre>\n"
      ],
      "text/plain": [
       "\u001b[30;48;2;0;102;0m          ],                                                                                                       \u001b[0m\n"
      ]
     },
     "metadata": {},
     "output_type": "display_data"
    },
    {
     "data": {
      "text/html": [
       "<pre style=\"white-space:pre;overflow-x:auto;line-height:normal;font-family:Menlo,'DejaVu Sans Mono',consolas,'Courier New',monospace\"><span style=\"color: #000000; text-decoration-color: #000000; background-color: #006600\">          \"background_image_prompt\": \"A moonlit, misty scene with ruins in the background\",                        </span>\n",
       "</pre>\n"
      ],
      "text/plain": [
       "\u001b[30;48;2;0;102;0m          \"background_image_prompt\": \"A moonlit, misty scene with ruins in the background\",                        \u001b[0m\n"
      ]
     },
     "metadata": {},
     "output_type": "display_data"
    },
    {
     "data": {
      "text/html": [
       "<pre style=\"white-space:pre;overflow-x:auto;line-height:normal;font-family:Menlo,'DejaVu Sans Mono',consolas,'Courier New',monospace\"><span style=\"color: #000000; text-decoration-color: #000000; background-color: #006600\">          \"background_animation\": \"Soft, swirling mist\",                                                           </span>\n",
       "</pre>\n"
      ],
      "text/plain": [
       "\u001b[30;48;2;0;102;0m          \"background_animation\": \"Soft, swirling mist\",                                                           \u001b[0m\n"
      ]
     },
     "metadata": {},
     "output_type": "display_data"
    },
    {
     "data": {
      "text/html": [
       "<pre style=\"white-space:pre;overflow-x:auto;line-height:normal;font-family:Menlo,'DejaVu Sans Mono',consolas,'Courier New',monospace\"><span style=\"color: #000000; text-decoration-color: #000000; background-color: #006600\">          \"scene_image_prompt\": \"Lyra kneeling, surrounded by glowing texts\",                                      </span>\n",
       "</pre>\n"
      ],
      "text/plain": [
       "\u001b[30;48;2;0;102;0m          \"scene_image_prompt\": \"Lyra kneeling, surrounded by glowing texts\",                                      \u001b[0m\n"
      ]
     },
     "metadata": {},
     "output_type": "display_data"
    },
    {
     "data": {
      "text/html": [
       "<pre style=\"white-space:pre;overflow-x:auto;line-height:normal;font-family:Menlo,'DejaVu Sans Mono',consolas,'Courier New',monospace\"><span style=\"color: #000000; text-decoration-color: #000000; background-color: #006600\">          \"scene_image_prompt_short\": \"Lyra &amp; Ancient Texts\"                                                       </span>\n",
       "</pre>\n"
      ],
      "text/plain": [
       "\u001b[30;48;2;0;102;0m          \"scene_image_prompt_short\": \"Lyra & Ancient Texts\"                                                       \u001b[0m\n"
      ]
     },
     "metadata": {},
     "output_type": "display_data"
    },
    {
     "data": {
      "text/html": [
       "<pre style=\"white-space:pre;overflow-x:auto;line-height:normal;font-family:Menlo,'DejaVu Sans Mono',consolas,'Courier New',monospace\"><span style=\"color: #000000; text-decoration-color: #000000; background-color: #006600\">        }                                                                                                          </span>\n",
       "</pre>\n"
      ],
      "text/plain": [
       "\u001b[30;48;2;0;102;0m        }                                                                                                          \u001b[0m\n"
      ]
     },
     "metadata": {},
     "output_type": "display_data"
    },
    {
     "data": {
      "text/html": [
       "<pre style=\"white-space:pre;overflow-x:auto;line-height:normal;font-family:Menlo,'DejaVu Sans Mono',consolas,'Courier New',monospace\"><span style=\"color: #000000; text-decoration-color: #000000; background-color: #006600\">      ],                                                                                                           </span>\n",
       "</pre>\n"
      ],
      "text/plain": [
       "\u001b[30;48;2;0;102;0m      ],                                                                                                           \u001b[0m\n"
      ]
     },
     "metadata": {},
     "output_type": "display_data"
    },
    {
     "data": {
      "text/html": [
       "<pre style=\"white-space:pre;overflow-x:auto;line-height:normal;font-family:Menlo,'DejaVu Sans Mono',consolas,'Courier New',monospace\"><span style=\"color: #000000; text-decoration-color: #000000; background-color: #006600\">      \"props\": [\"Ancient Wisdom Scrolls\"]                                                                          </span>\n",
       "</pre>\n"
      ],
      "text/plain": [
       "\u001b[30;48;2;0;102;0m      \"props\": [\"Ancient Wisdom Scrolls\"]                                                                          \u001b[0m\n"
      ]
     },
     "metadata": {},
     "output_type": "display_data"
    },
    {
     "data": {
      "text/html": [
       "<pre style=\"white-space:pre;overflow-x:auto;line-height:normal;font-family:Menlo,'DejaVu Sans Mono',consolas,'Courier New',monospace\"><span style=\"color: #000000; text-decoration-color: #000000; background-color: #006600\">    }                                                                                                              </span>\n",
       "</pre>\n"
      ],
      "text/plain": [
       "\u001b[30;48;2;0;102;0m    }                                                                                                              \u001b[0m\n"
      ]
     },
     "metadata": {},
     "output_type": "display_data"
    },
    {
     "data": {
      "text/html": [
       "<pre style=\"white-space:pre;overflow-x:auto;line-height:normal;font-family:Menlo,'DejaVu Sans Mono',consolas,'Courier New',monospace\"><span style=\"color: #000000; text-decoration-color: #000000; background-color: #006600\">  ]                                                                                                                </span>\n",
       "</pre>\n"
      ],
      "text/plain": [
       "\u001b[30;48;2;0;102;0m  ]                                                                                                                \u001b[0m\n"
      ]
     },
     "metadata": {},
     "output_type": "display_data"
    },
    {
     "data": {
      "text/html": [
       "<pre style=\"white-space:pre;overflow-x:auto;line-height:normal;font-family:Menlo,'DejaVu Sans Mono',consolas,'Courier New',monospace\"><span style=\"color: #000000; text-decoration-color: #000000; background-color: #006600\">}                                                                                                                  </span>\n",
       "</pre>\n"
      ],
      "text/plain": [
       "\u001b[30;48;2;0;102;0m}                                                                                                                  \u001b[0m\n"
      ]
     },
     "metadata": {},
     "output_type": "display_data"
    },
    {
     "data": {
      "text/html": [
       "<pre style=\"white-space:pre;overflow-x:auto;line-height:normal;font-family:Menlo,'DejaVu Sans Mono',consolas,'Courier New',monospace\"><span style=\"color: #000000; text-decoration-color: #000000; background-color: #006600\">```                                                                                                                </span>\n",
       "</pre>\n"
      ],
      "text/plain": [
       "\u001b[30;48;2;0;102;0m```                                                                                                                \u001b[0m\n"
      ]
     },
     "metadata": {},
     "output_type": "display_data"
    },
    {
     "data": {
      "text/html": [
       "<pre style=\"white-space:pre;overflow-x:auto;line-height:normal;font-family:Menlo,'DejaVu Sans Mono',consolas,'Courier New',monospace\"><span style=\"color: #000000; text-decoration-color: #000000; background-color: #006600\">                                                                                                                   </span>\n",
       "</pre>\n"
      ],
      "text/plain": [
       "\u001b[30;48;2;0;102;0m                                                                                                                   \u001b[0m\n"
      ]
     },
     "metadata": {},
     "output_type": "display_data"
    },
    {
     "data": {
      "text/html": [
       "<pre style=\"white-space:pre;overflow-x:auto;line-height:normal;font-family:Menlo,'DejaVu Sans Mono',consolas,'Courier New',monospace\"><span style=\"color: #000000; text-decoration-color: #000000; background-color: #006600\">**Additional Narrative for Context (Beyond the JSON Format)**                                                      </span>\n",
       "</pre>\n"
      ],
      "text/plain": [
       "\u001b[30;48;2;0;102;0m**Additional Narrative for Context (Beyond the JSON Format)**                                                      \u001b[0m\n"
      ]
     },
     "metadata": {},
     "output_type": "display_data"
    },
    {
     "data": {
      "text/html": [
       "<pre style=\"white-space:pre;overflow-x:auto;line-height:normal;font-family:Menlo,'DejaVu Sans Mono',consolas,'Courier New',monospace\"><span style=\"color: #000000; text-decoration-color: #000000; background-color: #006600\">                                                                                                                   </span>\n",
       "</pre>\n"
      ],
      "text/plain": [
       "\u001b[30;48;2;0;102;0m                                                                                                                   \u001b[0m\n"
      ]
     },
     "metadata": {},
     "output_type": "display_data"
    },
    {
     "data": {
      "text/html": [
       "<pre style=\"white-space:pre;overflow-x:auto;line-height:normal;font-family:Menlo,'DejaVu Sans Mono',consolas,'Courier New',monospace\"><span style=\"color: #000000; text-decoration-color: #000000; background-color: #006600\">In a world where magic is tied to the health of nature, the Emerald Woods, a sanctuary of ancient power, begins to </span>\n",
       "<span style=\"color: #000000; text-decoration-color: #000000; background-color: #006600\">wither under a mysterious darkness. Lyra Flynn, a young half-elven apprentice with an unparalleled affinity for the</span>\n",
       "<span style=\"color: #000000; text-decoration-color: #000000; background-color: #006600\">woods' magic, discovers a forgotten prophecy that declares her the chosen one, destined to save the Emerald Woods </span>\n",
       "<span style=\"color: #000000; text-decoration-color: #000000; background-color: #006600\">and restore balance to the forces of nature.                                                                       </span>\n",
       "</pre>\n"
      ],
      "text/plain": [
       "\u001b[30;48;2;0;102;0mIn a world where magic is tied to the health of nature, the Emerald Woods, a sanctuary of ancient power, begins to \u001b[0m\n",
       "\u001b[30;48;2;0;102;0mwither under a mysterious darkness. Lyra Flynn, a young half-elven apprentice with an unparalleled affinity for the\u001b[0m\n",
       "\u001b[30;48;2;0;102;0mwoods' magic, discovers a forgotten prophecy that declares her the chosen one, destined to save the Emerald Woods \u001b[0m\n",
       "\u001b[30;48;2;0;102;0mand restore balance to the forces of nature.                                                                       \u001b[0m\n"
      ]
     },
     "metadata": {},
     "output_type": "display_data"
    },
    {
     "data": {
      "text/html": [
       "<pre style=\"white-space:pre;overflow-x:auto;line-height:normal;font-family:Menlo,'DejaVu Sans Mono',consolas,'Courier New',monospace\"><span style=\"color: #000000; text-decoration-color: #000000; background-color: #006600\">                                                                                                                   </span>\n",
       "</pre>\n"
      ],
      "text/plain": [
       "\u001b[30;48;2;0;102;0m                                                                                                                   \u001b[0m\n"
      ]
     },
     "metadata": {},
     "output_type": "display_data"
    },
    {
     "data": {
      "text/html": [
       "<pre style=\"white-space:pre;overflow-x:auto;line-height:normal;font-family:Menlo,'DejaVu Sans Mono',consolas,'Courier New',monospace\"><span style=\"color: #000000; text-decoration-color: #000000; background-color: #006600\">Guided by Kael Darkshadow, a wise and enigmatic guardian, Lyra embarks on a perilous quest to unite the fractured </span>\n",
       "<span style=\"color: #000000; text-decoration-color: #000000; background-color: #006600\">factions of the woods' protectors against their common enemy. Along her journey, Lyra must confront her own </span>\n",
       "<span style=\"color: #000000; text-decoration-color: #000000; background-color: #006600\">self-doubt and learn to harness the true extent of her powers, all while unraveling the mysteries of the prophecy </span>\n",
       "<span style=\"color: #000000; text-decoration-color: #000000; background-color: #006600\">and facing the darkness that threatens to consume everything.                                                      </span>\n",
       "</pre>\n"
      ],
      "text/plain": [
       "\u001b[30;48;2;0;102;0mGuided by Kael Darkshadow, a wise and enigmatic guardian, Lyra embarks on a perilous quest to unite the fractured \u001b[0m\n",
       "\u001b[30;48;2;0;102;0mfactions of the woods' protectors against their common enemy. Along her journey, Lyra must confront her own \u001b[0m\n",
       "\u001b[30;48;2;0;102;0mself-doubt and learn to harness the true extent of her powers, all while unraveling the mysteries of the prophecy \u001b[0m\n",
       "\u001b[30;48;2;0;102;0mand facing the darkness that threatens to consume everything.                                                      \u001b[0m\n"
      ]
     },
     "metadata": {},
     "output_type": "display_data"
    },
    {
     "data": {
      "text/html": [
       "<pre style=\"white-space:pre;overflow-x:auto;line-height:normal;font-family:Menlo,'DejaVu Sans Mono',consolas,'Courier New',monospace\"><span style=\"color: #000000; text-decoration-color: #000000; background-color: #006600\">                                                                                                                   </span>\n",
       "</pre>\n"
      ],
      "text/plain": [
       "\u001b[30;48;2;0;102;0m                                                                                                                   \u001b[0m\n"
      ]
     },
     "metadata": {},
     "output_type": "display_data"
    },
    {
     "data": {
      "text/html": [
       "<pre style=\"white-space:pre;overflow-x:auto;line-height:normal;font-family:Menlo,'DejaVu Sans Mono',consolas,'Courier New',monospace\"><span style=\"color: #000000; text-decoration-color: #000000; background-color: #006600\">As Lyra grows in strength and wisdom, she becomes the beacon of hope for the Emerald Woods and its inhabitants, </span>\n",
       "<span style=\"color: #000000; text-decoration-color: #000000; background-color: #006600\">leading the final stand against the forces of darkness in a climactic battle that will determine the fate of her </span>\n",
       "<span style=\"color: #000000; text-decoration-color: #000000; background-color: #006600\">world. Will Lyra's determination and the ancient magic of the Emerald Woods be enough to save their beloved </span>\n",
       "<span style=\"color: #000000; text-decoration-color: #000000; background-color: #006600\">sanctuary, or will the shadows prevail?                                                                            </span>\n",
       "</pre>\n"
      ],
      "text/plain": [
       "\u001b[30;48;2;0;102;0mAs Lyra grows in strength and wisdom, she becomes the beacon of hope for the Emerald Woods and its inhabitants, \u001b[0m\n",
       "\u001b[30;48;2;0;102;0mleading the final stand against the forces of darkness in a climactic battle that will determine the fate of her \u001b[0m\n",
       "\u001b[30;48;2;0;102;0mworld. Will Lyra's determination and the ancient magic of the Emerald Woods be enough to save their beloved \u001b[0m\n",
       "\u001b[30;48;2;0;102;0msanctuary, or will the shadows prevail?                                                                            \u001b[0m\n"
      ]
     },
     "metadata": {},
     "output_type": "display_data"
    },
    {
     "data": {
      "text/html": [
       "<pre style=\"white-space:pre;overflow-x:auto;line-height:normal;font-family:Menlo,'DejaVu Sans Mono',consolas,'Courier New',monospace\">\n",
       "</pre>\n"
      ],
      "text/plain": [
       "\n"
      ]
     },
     "metadata": {},
     "output_type": "display_data"
    },
    {
     "data": {
      "text/html": [
       "<pre style=\"white-space:pre;overflow-x:auto;line-height:normal;font-family:Menlo,'DejaVu Sans Mono',consolas,'Courier New',monospace\"><span style=\"color: #7f7f7f; text-decoration-color: #7f7f7f\">13:06:23.557</span> | <span style=\"color: #b7b7b7; text-decoration-color: #b7b7b7\">Output Stats</span><span style=\"color: #7f7f7f; text-decoration-color: #7f7f7f\"> </span><span style=\"color: #aaaaaa; text-decoration-color: #aaaaaa\">None</span>\n",
       "</pre>\n"
      ],
      "text/plain": [
       "\u001b[2m13:06:23.557\u001b[0m | \u001b[2;38;2;112;112;112mOutput Stats\u001b[0m\u001b[2m \u001b[0m\u001b[2;38;2;85;85;85mNone\u001b[0m\n"
      ]
     },
     "metadata": {},
     "output_type": "display_data"
    },
    {
     "data": {
      "text/html": [
       "<pre style=\"white-space:pre;overflow-x:auto;line-height:normal;font-family:Menlo,'DejaVu Sans Mono',consolas,'Courier New',monospace\"><span style=\"color: #7f7f7f; text-decoration-color: #7f7f7f\">13:06:23.557</span> | <span style=\"color: #aaaaaa; text-decoration-color: #aaaaaa\">LLM call took 92.82 seconds</span>\n",
       "</pre>\n"
      ],
      "text/plain": [
       "\u001b[2m13:06:23.557\u001b[0m | \u001b[2;38;2;85;85;85mLLM call took 92.82 seconds\u001b[0m\n"
      ]
     },
     "metadata": {},
     "output_type": "display_data"
    },
    {
     "data": {
      "text/html": [
       "<pre style=\"white-space:pre;overflow-x:auto;line-height:normal;font-family:Menlo,'DejaVu Sans Mono',consolas,'Courier New',monospace\"><span style=\"color: #7f7f7f; text-decoration-color: #7f7f7f\">13:06:23.558</span> | <span style=\"color: #7f7fbf; text-decoration-color: #7f7fbf\">Event</span><span style=\"color: #7f7f7f; text-decoration-color: #7f7f7f\"> </span><span style=\"color: #7f7f7f; text-decoration-color: #7f7f7f; font-weight: bold\">BotMessage</span> | <span style=\"color: #7f7f7f; text-decoration-color: #7f7f7f\">{'uid': 'e222...', 'text': 'It looks like the user provided an empty JSON </span>\n",
       "<span style=\"color: #7f7f7f; text-decoration-color: #7f7f7f\">template for the second prompt, expecting the AI assistant to fill in the details. Here\\'s a response from the </span>\n",
       "<span style=\"color: #7f7f7f; text-decoration-color: #7f7f7f\">talkative AI assistant, generating a fantasy story based on the prompt \"a magical forest\" and populating the </span>\n",
       "<span style=\"color: #7f7f7f; text-decoration-color: #7f7f7f\">provided JSON template with rich details:\\n\\n**Response**\\n\\n**Generated Story in JSON Format**\\n\\n```json\\n{\\n  </span>\n",
       "<span style=\"color: #7f7f7f; text-decoration-color: #7f7f7f\">\"prompt\": \"A Magical Forest\",\\n  \"title\": \"Whispers of the Emerald Woods\",\\n  \"video\": false,\\n  \"visual_style\": </span>\n",
       "<span style=\"color: #7f7f7f; text-decoration-color: #7f7f7f\">\"Vibrant, ethereal with soft luminescence\",\\n  \"time_period\": \"Ancient, mystical era\",\\n  \"location\": \"The Heart of</span>\n",
       "<span style=\"color: #7f7f7f; text-decoration-color: #7f7f7f\">the Emerald Woods, a hidden realm\",\\n  \"genre\": \"Fantasy, Adventure\",\\n  \"medium\": \"Novel\",\\n  \"plot_overview\": \"In</span>\n",
       "<span style=\"color: #7f7f7f; text-decoration-color: #7f7f7f\">the depths of the enchanted Emerald Woods, where ancient magic whispers through the leaves, a young apprentice </span>\n",
       "<span style=\"color: #7f7f7f; text-decoration-color: #7f7f7f\">named Lyra discovers a forgotten prophecy. With the woods on the brink of eternal darkness, Lyra embarks on a </span>\n",
       "<span style=\"color: #7f7f7f; text-decoration-color: #7f7f7f\">perilous quest to unite the warring factions of the forest\\'s guardians, forge an alliance with the mysterious </span>\n",
       "<span style=\"color: #7f7f7f; text-decoration-color: #7f7f7f\">Luminari, and claim her rightful place as the Woods\\' chosen protector.\",\\n  \"narrative_perspective\": \"Third Person</span>\n",
       "<span style=\"color: #7f7f7f; text-decoration-color: #7f7f7f\">Limited\",\\n  \"conflict_type\": \"Internal &amp; External (Self-doubt vs. Saving the Emerald Woods)\",\\n  \"themes\": [\"Unity</span>\n",
       "<span style=\"color: #7f7f7f; text-decoration-color: #7f7f7f\">in Diversity\", \"Self-Discovery\", \"Balance with Nature\"],\\n  \"motifs\": [\"Light vs. Darkness\", \"Ancient Wisdom\"],\\n  </span>\n",
       "<span style=\"color: #7f7f7f; text-decoration-color: #7f7f7f\">\"characters\": [\\n    {\\n      \"nickname\": \"The Whispering Apprentice\",\\n      \"name\": \"Lyra Flynn\",\\n      </span>\n",
       "<span style=\"color: #7f7f7f; text-decoration-color: #7f7f7f\">\"description\": \"A curious, determined young apprentice with a unique affinity for the Emerald Woods\\' magic.\",\\n   </span>\n",
       "<span style=\"color: #7f7f7f; text-decoration-color: #7f7f7f\">\"personality\": \"Compassionate, inquisitive, yet uncertain of her powers\",\\n      \"physical_appearance\": \"Slender, </span>\n",
       "<span style=\"color: #7f7f7f; text-decoration-color: #7f7f7f\">agile with hair as green as the woods and eyes shimmering like starlight\",\\n      \"role\": \"Protagonist\",\\n      </span>\n",
       "<span style=\"color: #7f7f7f; text-decoration-color: #7f7f7f\">\"gender\": \"Female\",\\n      \"race\": \"Half-Elven\",\\n      \"age\": \"22\",\\n      \"catch_phrase\": \"By the whispers of the</span>\n",
       "<span style=\"color: #7f7f7f; text-decoration-color: #7f7f7f\">woods...\",\\n      \"animation_description\": \"Moves with a silent, ethereal grace\",\\n      \"voice_description\": </span>\n",
       "<span style=\"color: #7f7f7f; text-decoration-color: #7f7f7f\">\"Soft, melodious with an undercurrent of ancient wisdom\",\\n      \"voice_sample\": null,\\n      \"props\": [\"Staff of </span>\n",
       "<span style=\"color: #7f7f7f; text-decoration-color: #7f7f7f\">the Ancients\", \"Cloak of the Emerald Woods\"],\\n      \"relationships\": [\\n        {\\n          \"character_name\": </span>\n",
       "<span style=\"color: #7f7f7f; text-decoration-color: #7f7f7f\">\"Kael Darkshadow\",\\n          \"relationship_type\": \"Mentor &amp; Ally\",\\n          \"description\": \"A wise, mysterious </span>\n",
       "<span style=\"color: #7f7f7f; text-decoration-color: #7f7f7f\">guardian who guides Lyra through her journey\"\\n        }\\n      ],\\n      \"internal_conflict\": \"Self-doubt in her </span>\n",
       "<span style=\"color: #7f7f7f; text-decoration-color: #7f7f7f\">ability to save the Emerald Woods\",\\n      \"character_arc\": {\\n        \"initial_state\": \"Apprentice unsure of her </span>\n",
       "<span style=\"color: #7f7f7f; text-decoration-color: #7f7f7f\">place\",\\n        \"final_state\": \"Confident Guardian of the Emerald Woods\",\\n        \"key_moments\": [\"Discovery of </span>\n",
       "<span style=\"color: #7f7f7f; text-decoration-color: #7f7f7f\">the prophecy\", \"Alliance with the Luminari\"]\\n      },\\n      \"image_prompt\": \"Lyra standing at the edge of a </span>\n",
       "<span style=\"color: #7f7f7f; text-decoration-color: #7f7f7f\">glowing clearing, staff in hand, with the woods\\' ancient magic swirling around her.\",\\n      \"image_prompt_short\":</span>\n",
       "<span style=\"color: #7f7f7f; text-decoration-color: #7f7f7f\">\"Lyra amidst magical woods\"\\n    }\\n  ],\\n  \"props\": [\\n    {\\n      \"name\": \"Staff of the Ancients\",\\n      </span>\n",
       "<span style=\"color: #7f7f7f; text-decoration-color: #7f7f7f\">\"description\": \"A powerful, glowing staff passed down through the guardians of the Emerald Woods.\",\\n      </span>\n",
       "<span style=\"color: #7f7f7f; text-decoration-color: #7f7f7f\">\"purpose\": \"Channeling and focusing magic\",\\n      \"physical_appearance\": \"Tall, slender with intricate carvings </span>\n",
       "<span style=\"color: #7f7f7f; text-decoration-color: #7f7f7f\">that shimmer in the dark\",\\n      \"animation_description\": \"Glow intensifies when magic is channeled\"\\n    }\\n  </span>\n",
       "<span style=\"color: #7f7f7f; text-decoration-color: #7f7f7f\">],\\n  \"story_beats\": [\\n    {\\n      \"name\": \"The Discovery\",\\n      \"description\": \"Lyra finds the forgotten </span>\n",
       "<span style=\"color: #7f7f7f; text-decoration-color: #7f7f7f\">prophecy hidden deep within the woods.\",\\n      \"scene\": \"Ancient Ruins, under the light of a full moon\"\\n    },\\n </span>\n",
       "<span style=\"color: #7f7f7f; text-decoration-color: #7f7f7f\">{\\n      \"name\": \"The Quest Begins\",\\n      \"description\": \"Lyra sets out to unite the warring factions.\",\\n      </span>\n",
       "<span style=\"color: #7f7f7f; text-decoration-color: #7f7f7f\">\"scene\": \"The Great Oak Council, at dawn\"\\n    }\\n  ],\\n  \"subplots\": [\\n    {\\n      \"title\": \"The Shadow </span>\n",
       "<span style=\"color: #7f7f7f; text-decoration-color: #7f7f7f\">Within\",\\n      \"description\": \"Kael\\'s mysterious past threatens to undermine Lyra\\'s quest.\",\\n      </span>\n",
       "<span style=\"color: #7f7f7f; text-decoration-color: #7f7f7f\">\"related_characters\": [\"Lyra Flynn\", \"Kael Darkshadow\"]\\n    }\\n  ],\\n  \"emotional_arc\": [\\n    {\\n      \"stage\": </span>\n",
       "<span style=\"color: #7f7f7f; text-decoration-color: #7f7f7f\">\"Uncertainty\",\\n      \"description\": \"Lyra doubts her ability to fulfill the prophecy\"\\n    },\\n    {\\n      </span>\n",
       "<span style=\"color: #7f7f7f; text-decoration-color: #7f7f7f\">\"stage\": \"Empowerment\",\\n      \"description\": \"Lyra, with newfound confidence, leads the final stand against </span>\n",
       "<span style=\"color: #7f7f7f; text-decoration-color: #7f7f7f\">darkness\"\\n    }\\n  ],\\n  \"acts\": [\\n    {\\n      \"act_id\": \"1\",\\n      \"title\": \"The Awakening\",\\n      </span>\n",
       "<span style=\"color: #7f7f7f; text-decoration-color: #7f7f7f\">\"description\": \"Introduction to Lyra and the mystical Emerald Woods\",\\n      \"scenes\": [\\n        {\\n          </span>\n",
       "<span style=\"color: #7f7f7f; text-decoration-color: #7f7f7f\">\"scene_id\": \"1.1\",\\n          \"title\": \"Moonlit Discovery\",\\n          \"description\": \"Lyra stumbles upon an </span>\n",
       "<span style=\"color: #7f7f7f; text-decoration-color: #7f7f7f\">ancient, hidden text.\",\\n          \"characters_involved\": [\"Lyra Flynn\"],\\n          \"setting\": \"Ancient Ruins\",\\n </span>\n",
       "<span style=\"color: #7f7f7f; text-decoration-color: #7f7f7f\">\"time_of_day\": \"Night\",\\n          \"location\": \"Deep within the Emerald Woods\",\\n          \"lighting\": \"Soft, </span>\n",
       "<span style=\"color: #7f7f7f; text-decoration-color: #7f7f7f\">moonlit glow\",\\n          \"mood\": \"Mysterious, anticipatory\",\\n          \"props\": [\"Ancient Texts\", \"Staff of the </span>\n",
       "<span style=\"color: #7f7f7f; text-decoration-color: #7f7f7f\">Ancients\"],\\n          \"key_actions\": [\"Lyra deciphers the ancient text\", \"First glimpse of the prophecy\"],\\n      </span>\n",
       "<span style=\"color: #7f7f7f; text-decoration-color: #7f7f7f\">\"dialogue\": [\\n            {\"character\": \"Lyra\", \"line\": \"What secrets lie within these ancient words?\"}\\n         </span>\n",
       "<span style=\"color: #7f7f7f; text-decoration-color: #7f7f7f\">],\\n          \"background_image_prompt\": \"A moonlit, misty scene with ruins in the background\",\\n          </span>\n",
       "<span style=\"color: #7f7f7f; text-decoration-color: #7f7f7f\">\"background_animation\": \"Soft, swirling mist\",\\n          \"scene_image_prompt\": \"Lyra kneeling, surrounded by </span>\n",
       "<span style=\"color: #7f7f7f; text-decoration-color: #7f7f7f\">glowing texts\",\\n          \"scene_image_prompt_short\": \"Lyra &amp; Ancient Texts\"\\n        }\\n      ],\\n      \"props\": </span>\n",
       "<span style=\"color: #7f7f7f; text-decoration-color: #7f7f7f\">[\"Ancient Wisdom Scrolls\"]\\n    }\\n  ]\\n}\\n```\\n\\n**Additional Narrative for Context (Beyond the JSON </span>\n",
       "<span style=\"color: #7f7f7f; text-decoration-color: #7f7f7f\">Format)**\\n\\nIn a world where magic is tied to the health of nature, the Emerald Woods, a sanctuary of ancient </span>\n",
       "<span style=\"color: #7f7f7f; text-decoration-color: #7f7f7f\">power, begins to wither under a mysterious darkness. Lyra Flynn, a young half-elven apprentice with an unparalleled</span>\n",
       "<span style=\"color: #7f7f7f; text-decoration-color: #7f7f7f\">affinity for the woods\\' magic, discovers a forgotten prophecy that declares her the chosen one, destined to save </span>\n",
       "<span style=\"color: #7f7f7f; text-decoration-color: #7f7f7f\">the Emerald Woods and restore balance to the forces of nature.\\n\\nGuided by Kael Darkshadow, a wise and enigmatic </span>\n",
       "<span style=\"color: #7f7f7f; text-decoration-color: #7f7f7f\">guardian, Lyra embarks on a perilous quest to unite the fractured factions of the woods\\' protectors against their </span>\n",
       "<span style=\"color: #7f7f7f; text-decoration-color: #7f7f7f\">common enemy. Along her journey, Lyra must confront her own self-doubt and learn to harness the true extent of her </span>\n",
       "<span style=\"color: #7f7f7f; text-decoration-color: #7f7f7f\">powers, all while unraveling the mysteries of the prophecy and facing the darkness that threatens to consume </span>\n",
       "<span style=\"color: #7f7f7f; text-decoration-color: #7f7f7f\">everything.\\n\\nAs Lyra grows in strength and wisdom, she becomes the beacon of hope for the Emerald Woods and its </span>\n",
       "<span style=\"color: #7f7f7f; text-decoration-color: #7f7f7f\">inhabitants, leading the final stand against the forces of darkness in a climactic battle that will determine the </span>\n",
       "<span style=\"color: #7f7f7f; text-decoration-color: #7f7f7f\">fate of her world. Will Lyra\\'s determination and the ancient magic of the Emerald Woods be enough to save their </span>\n",
       "<span style=\"color: #7f7f7f; text-decoration-color: #7f7f7f\">beloved sanctuary, or will the shadows prevail?'}</span>\n",
       "</pre>\n"
      ],
      "text/plain": [
       "\u001b[2m13:06:23.558\u001b[0m | \u001b[2;34mEvent\u001b[0m\u001b[2m \u001b[0m\u001b[1;2mBotMessage\u001b[0m | \u001b[2m{'uid': 'e222...', 'text': 'It looks like the user provided an empty JSON \u001b[0m\n",
       "\u001b[2mtemplate for the second prompt, expecting the AI assistant to fill in the details. Here\\'s a response from the \u001b[0m\n",
       "\u001b[2mtalkative AI assistant, generating a fantasy story based on the prompt \"a magical forest\" and populating the \u001b[0m\n",
       "\u001b[2mprovided JSON template with rich details:\\n\\n**Response**\\n\\n**Generated Story in JSON Format**\\n\\n```json\\n{\\n  \u001b[0m\n",
       "\u001b[2m\"prompt\": \"A Magical Forest\",\\n  \"title\": \"Whispers of the Emerald Woods\",\\n  \"video\": false,\\n  \"visual_style\": \u001b[0m\n",
       "\u001b[2m\"Vibrant, ethereal with soft luminescence\",\\n  \"time_period\": \"Ancient, mystical era\",\\n  \"location\": \"The Heart of\u001b[0m\n",
       "\u001b[2mthe Emerald Woods, a hidden realm\",\\n  \"genre\": \"Fantasy, Adventure\",\\n  \"medium\": \"Novel\",\\n  \"plot_overview\": \"In\u001b[0m\n",
       "\u001b[2mthe depths of the enchanted Emerald Woods, where ancient magic whispers through the leaves, a young apprentice \u001b[0m\n",
       "\u001b[2mnamed Lyra discovers a forgotten prophecy. With the woods on the brink of eternal darkness, Lyra embarks on a \u001b[0m\n",
       "\u001b[2mperilous quest to unite the warring factions of the forest\\'s guardians, forge an alliance with the mysterious \u001b[0m\n",
       "\u001b[2mLuminari, and claim her rightful place as the Woods\\' chosen protector.\",\\n  \"narrative_perspective\": \"Third Person\u001b[0m\n",
       "\u001b[2mLimited\",\\n  \"conflict_type\": \"Internal & External (Self-doubt vs. Saving the Emerald Woods)\",\\n  \"themes\": [\"Unity\u001b[0m\n",
       "\u001b[2min Diversity\", \"Self-Discovery\", \"Balance with Nature\"],\\n  \"motifs\": [\"Light vs. Darkness\", \"Ancient Wisdom\"],\\n  \u001b[0m\n",
       "\u001b[2m\"characters\": [\\n    {\\n      \"nickname\": \"The Whispering Apprentice\",\\n      \"name\": \"Lyra Flynn\",\\n      \u001b[0m\n",
       "\u001b[2m\"description\": \"A curious, determined young apprentice with a unique affinity for the Emerald Woods\\' magic.\",\\n   \u001b[0m\n",
       "\u001b[2m\"personality\": \"Compassionate, inquisitive, yet uncertain of her powers\",\\n      \"physical_appearance\": \"Slender, \u001b[0m\n",
       "\u001b[2magile with hair as green as the woods and eyes shimmering like starlight\",\\n      \"role\": \"Protagonist\",\\n      \u001b[0m\n",
       "\u001b[2m\"gender\": \"Female\",\\n      \"race\": \"Half-Elven\",\\n      \"age\": \"22\",\\n      \"catch_phrase\": \"By the whispers of the\u001b[0m\n",
       "\u001b[2mwoods...\",\\n      \"animation_description\": \"Moves with a silent, ethereal grace\",\\n      \"voice_description\": \u001b[0m\n",
       "\u001b[2m\"Soft, melodious with an undercurrent of ancient wisdom\",\\n      \"voice_sample\": null,\\n      \"props\": [\"Staff of \u001b[0m\n",
       "\u001b[2mthe Ancients\", \"Cloak of the Emerald Woods\"],\\n      \"relationships\": [\\n        {\\n          \"character_name\": \u001b[0m\n",
       "\u001b[2m\"Kael Darkshadow\",\\n          \"relationship_type\": \"Mentor & Ally\",\\n          \"description\": \"A wise, mysterious \u001b[0m\n",
       "\u001b[2mguardian who guides Lyra through her journey\"\\n        }\\n      ],\\n      \"internal_conflict\": \"Self-doubt in her \u001b[0m\n",
       "\u001b[2mability to save the Emerald Woods\",\\n      \"character_arc\": {\\n        \"initial_state\": \"Apprentice unsure of her \u001b[0m\n",
       "\u001b[2mplace\",\\n        \"final_state\": \"Confident Guardian of the Emerald Woods\",\\n        \"key_moments\": [\"Discovery of \u001b[0m\n",
       "\u001b[2mthe prophecy\", \"Alliance with the Luminari\"]\\n      },\\n      \"image_prompt\": \"Lyra standing at the edge of a \u001b[0m\n",
       "\u001b[2mglowing clearing, staff in hand, with the woods\\' ancient magic swirling around her.\",\\n      \"image_prompt_short\":\u001b[0m\n",
       "\u001b[2m\"Lyra amidst magical woods\"\\n    }\\n  ],\\n  \"props\": [\\n    {\\n      \"name\": \"Staff of the Ancients\",\\n      \u001b[0m\n",
       "\u001b[2m\"description\": \"A powerful, glowing staff passed down through the guardians of the Emerald Woods.\",\\n      \u001b[0m\n",
       "\u001b[2m\"purpose\": \"Channeling and focusing magic\",\\n      \"physical_appearance\": \"Tall, slender with intricate carvings \u001b[0m\n",
       "\u001b[2mthat shimmer in the dark\",\\n      \"animation_description\": \"Glow intensifies when magic is channeled\"\\n    }\\n  \u001b[0m\n",
       "\u001b[2m],\\n  \"story_beats\": [\\n    {\\n      \"name\": \"The Discovery\",\\n      \"description\": \"Lyra finds the forgotten \u001b[0m\n",
       "\u001b[2mprophecy hidden deep within the woods.\",\\n      \"scene\": \"Ancient Ruins, under the light of a full moon\"\\n    },\\n \u001b[0m\n",
       "\u001b[2m{\\n      \"name\": \"The Quest Begins\",\\n      \"description\": \"Lyra sets out to unite the warring factions.\",\\n      \u001b[0m\n",
       "\u001b[2m\"scene\": \"The Great Oak Council, at dawn\"\\n    }\\n  ],\\n  \"subplots\": [\\n    {\\n      \"title\": \"The Shadow \u001b[0m\n",
       "\u001b[2mWithin\",\\n      \"description\": \"Kael\\'s mysterious past threatens to undermine Lyra\\'s quest.\",\\n      \u001b[0m\n",
       "\u001b[2m\"related_characters\": [\"Lyra Flynn\", \"Kael Darkshadow\"]\\n    }\\n  ],\\n  \"emotional_arc\": [\\n    {\\n      \"stage\": \u001b[0m\n",
       "\u001b[2m\"Uncertainty\",\\n      \"description\": \"Lyra doubts her ability to fulfill the prophecy\"\\n    },\\n    {\\n      \u001b[0m\n",
       "\u001b[2m\"stage\": \"Empowerment\",\\n      \"description\": \"Lyra, with newfound confidence, leads the final stand against \u001b[0m\n",
       "\u001b[2mdarkness\"\\n    }\\n  ],\\n  \"acts\": [\\n    {\\n      \"act_id\": \"1\",\\n      \"title\": \"The Awakening\",\\n      \u001b[0m\n",
       "\u001b[2m\"description\": \"Introduction to Lyra and the mystical Emerald Woods\",\\n      \"scenes\": [\\n        {\\n          \u001b[0m\n",
       "\u001b[2m\"scene_id\": \"1.1\",\\n          \"title\": \"Moonlit Discovery\",\\n          \"description\": \"Lyra stumbles upon an \u001b[0m\n",
       "\u001b[2mancient, hidden text.\",\\n          \"characters_involved\": [\"Lyra Flynn\"],\\n          \"setting\": \"Ancient Ruins\",\\n \u001b[0m\n",
       "\u001b[2m\"time_of_day\": \"Night\",\\n          \"location\": \"Deep within the Emerald Woods\",\\n          \"lighting\": \"Soft, \u001b[0m\n",
       "\u001b[2mmoonlit glow\",\\n          \"mood\": \"Mysterious, anticipatory\",\\n          \"props\": [\"Ancient Texts\", \"Staff of the \u001b[0m\n",
       "\u001b[2mAncients\"],\\n          \"key_actions\": [\"Lyra deciphers the ancient text\", \"First glimpse of the prophecy\"],\\n      \u001b[0m\n",
       "\u001b[2m\"dialogue\": [\\n            {\"character\": \"Lyra\", \"line\": \"What secrets lie within these ancient words?\"}\\n         \u001b[0m\n",
       "\u001b[2m],\\n          \"background_image_prompt\": \"A moonlit, misty scene with ruins in the background\",\\n          \u001b[0m\n",
       "\u001b[2m\"background_animation\": \"Soft, swirling mist\",\\n          \"scene_image_prompt\": \"Lyra kneeling, surrounded by \u001b[0m\n",
       "\u001b[2mglowing texts\",\\n          \"scene_image_prompt_short\": \"Lyra & Ancient Texts\"\\n        }\\n      ],\\n      \"props\": \u001b[0m\n",
       "\u001b[2m[\"Ancient Wisdom Scrolls\"]\\n    }\\n  ]\\n}\\n```\\n\\n**Additional Narrative for Context (Beyond the JSON \u001b[0m\n",
       "\u001b[2mFormat)**\\n\\nIn a world where magic is tied to the health of nature, the Emerald Woods, a sanctuary of ancient \u001b[0m\n",
       "\u001b[2mpower, begins to wither under a mysterious darkness. Lyra Flynn, a young half-elven apprentice with an unparalleled\u001b[0m\n",
       "\u001b[2maffinity for the woods\\' magic, discovers a forgotten prophecy that declares her the chosen one, destined to save \u001b[0m\n",
       "\u001b[2mthe Emerald Woods and restore balance to the forces of nature.\\n\\nGuided by Kael Darkshadow, a wise and enigmatic \u001b[0m\n",
       "\u001b[2mguardian, Lyra embarks on a perilous quest to unite the fractured factions of the woods\\' protectors against their \u001b[0m\n",
       "\u001b[2mcommon enemy. Along her journey, Lyra must confront her own self-doubt and learn to harness the true extent of her \u001b[0m\n",
       "\u001b[2mpowers, all while unraveling the mysteries of the prophecy and facing the darkness that threatens to consume \u001b[0m\n",
       "\u001b[2meverything.\\n\\nAs Lyra grows in strength and wisdom, she becomes the beacon of hope for the Emerald Woods and its \u001b[0m\n",
       "\u001b[2minhabitants, leading the final stand against the forces of darkness in a climactic battle that will determine the \u001b[0m\n",
       "\u001b[2mfate of her world. Will Lyra\\'s determination and the ancient magic of the Emerald Woods be enough to save their \u001b[0m\n",
       "\u001b[2mbeloved sanctuary, or will the shadows prevail?'}\u001b[0m\n"
      ]
     },
     "metadata": {},
     "output_type": "display_data"
    },
    {
     "data": {
      "text/html": [
       "<pre style=\"white-space:pre;overflow-x:auto;line-height:normal;font-family:Menlo,'DejaVu Sans Mono',consolas,'Courier New',monospace\"><span style=\"color: #7f7f7f; text-decoration-color: #7f7f7f\">13:06:23.561</span> | <span style=\"color: #7f7fbf; text-decoration-color: #7f7fbf\">Event</span><span style=\"color: #7f7f7f; text-decoration-color: #7f7f7f\"> </span><span style=\"color: #7f7f7f; text-decoration-color: #7f7f7f; font-weight: bold\">StartInternalSystemAction</span> | <span style=\"color: #7f7f7f; text-decoration-color: #7f7f7f\">{'uid': '0f45...', 'action_name': 'create_event', 'action_params':</span>\n",
       "<span style=\"color: #7f7f7f; text-decoration-color: #7f7f7f\">{'event': {'_type': 'StartOutputRails'}}, 'action_result_key': None, 'action_uid': '1a87...', 'is_system_action': </span>\n",
       "<span style=\"color: #7f7f7f; text-decoration-color: #7f7f7f\">True}</span>\n",
       "</pre>\n"
      ],
      "text/plain": [
       "\u001b[2m13:06:23.561\u001b[0m | \u001b[2;34mEvent\u001b[0m\u001b[2m \u001b[0m\u001b[1;2mStartInternalSystemAction\u001b[0m | \u001b[2m{'uid': '0f45...', 'action_name': 'create_event', 'action_params':\u001b[0m\n",
       "\u001b[2m{'event': {'_type': 'StartOutputRails'}}, 'action_result_key': None, 'action_uid': '1a87...', 'is_system_action': \u001b[0m\n",
       "\u001b[2mTrue}\u001b[0m\n"
      ]
     },
     "metadata": {},
     "output_type": "display_data"
    },
    {
     "data": {
      "text/html": [
       "<pre style=\"white-space:pre;overflow-x:auto;line-height:normal;font-family:Menlo,'DejaVu Sans Mono',consolas,'Courier New',monospace\"><span style=\"color: #7f7f7f; text-decoration-color: #7f7f7f\">13:06:23.562</span> | <span style=\"color: #b7b7b7; text-decoration-color: #b7b7b7\">Executing action</span><span style=\"color: #7f7f7f; text-decoration-color: #7f7f7f\"> </span><span style=\"color: #aaaaaa; text-decoration-color: #aaaaaa\">create_event</span>\n",
       "</pre>\n"
      ],
      "text/plain": [
       "\u001b[2m13:06:23.562\u001b[0m | \u001b[2;38;2;112;112;112mExecuting action\u001b[0m\u001b[2m \u001b[0m\u001b[2;38;2;85;85;85mcreate_event\u001b[0m\n"
      ]
     },
     "metadata": {},
     "output_type": "display_data"
    },
    {
     "data": {
      "text/html": [
       "<pre style=\"white-space:pre;overflow-x:auto;line-height:normal;font-family:Menlo,'DejaVu Sans Mono',consolas,'Courier New',monospace\"><span style=\"color: #7f7f7f; text-decoration-color: #7f7f7f\">13:06:23.562</span> | <span style=\"color: #7f7fbf; text-decoration-color: #7f7fbf\">Event</span><span style=\"color: #7f7f7f; text-decoration-color: #7f7f7f\"> </span><span style=\"color: #7f7f7f; text-decoration-color: #7f7f7f; font-weight: bold\">StartOutputRails</span> | <span style=\"color: #7f7f7f; text-decoration-color: #7f7f7f\">{'uid': 'a28a...'}</span>\n",
       "</pre>\n"
      ],
      "text/plain": [
       "\u001b[2m13:06:23.562\u001b[0m | \u001b[2;34mEvent\u001b[0m\u001b[2m \u001b[0m\u001b[1;2mStartOutputRails\u001b[0m | \u001b[2m{'uid': 'a28a...'}\u001b[0m\n"
      ]
     },
     "metadata": {},
     "output_type": "display_data"
    },
    {
     "data": {
      "text/html": [
       "<pre style=\"white-space:pre;overflow-x:auto;line-height:normal;font-family:Menlo,'DejaVu Sans Mono',consolas,'Courier New',monospace\"><span style=\"color: #7f7f7f; text-decoration-color: #7f7f7f\">13:06:23.563</span> | <span style=\"color: #7f7fbf; text-decoration-color: #7f7fbf\">Event</span><span style=\"color: #7f7f7f; text-decoration-color: #7f7f7f\"> </span><span style=\"color: #7f7f7f; text-decoration-color: #7f7f7f; font-weight: bold\">StartInternalSystemAction</span> | <span style=\"color: #7f7f7f; text-decoration-color: #7f7f7f\">{'uid': '8309...', 'action_name': 'create_event', 'action_params':</span>\n",
       "<span style=\"color: #7f7f7f; text-decoration-color: #7f7f7f\">{'event': {'_type': 'StartOutputRail', 'flow_id': '$triggered_output_rail'}}, 'action_result_key': None, </span>\n",
       "<span style=\"color: #7f7f7f; text-decoration-color: #7f7f7f\">'action_uid': '0219...', 'is_system_action': True}</span>\n",
       "</pre>\n"
      ],
      "text/plain": [
       "\u001b[2m13:06:23.563\u001b[0m | \u001b[2;34mEvent\u001b[0m\u001b[2m \u001b[0m\u001b[1;2mStartInternalSystemAction\u001b[0m | \u001b[2m{'uid': '8309...', 'action_name': 'create_event', 'action_params':\u001b[0m\n",
       "\u001b[2m{'event': {'_type': 'StartOutputRail', 'flow_id': '$triggered_output_rail'}}, 'action_result_key': None, \u001b[0m\n",
       "\u001b[2m'action_uid': '0219...', 'is_system_action': True}\u001b[0m\n"
      ]
     },
     "metadata": {},
     "output_type": "display_data"
    },
    {
     "data": {
      "text/html": [
       "<pre style=\"white-space:pre;overflow-x:auto;line-height:normal;font-family:Menlo,'DejaVu Sans Mono',consolas,'Courier New',monospace\"><span style=\"color: #7f7f7f; text-decoration-color: #7f7f7f\">13:06:23.564</span> | <span style=\"color: #b7b7b7; text-decoration-color: #b7b7b7\">Executing action</span><span style=\"color: #7f7f7f; text-decoration-color: #7f7f7f\"> </span><span style=\"color: #aaaaaa; text-decoration-color: #aaaaaa\">create_event</span>\n",
       "</pre>\n"
      ],
      "text/plain": [
       "\u001b[2m13:06:23.564\u001b[0m | \u001b[2;38;2;112;112;112mExecuting action\u001b[0m\u001b[2m \u001b[0m\u001b[2;38;2;85;85;85mcreate_event\u001b[0m\n"
      ]
     },
     "metadata": {},
     "output_type": "display_data"
    },
    {
     "data": {
      "text/html": [
       "<pre style=\"white-space:pre;overflow-x:auto;line-height:normal;font-family:Menlo,'DejaVu Sans Mono',consolas,'Courier New',monospace\"><span style=\"color: #7f7f7f; text-decoration-color: #7f7f7f\">13:06:23.564</span> | <span style=\"color: #7f7fbf; text-decoration-color: #7f7fbf\">Event</span><span style=\"color: #7f7f7f; text-decoration-color: #7f7f7f\"> </span><span style=\"color: #7f7f7f; text-decoration-color: #7f7f7f; font-weight: bold\">StartOutputRail</span> | <span style=\"color: #7f7f7f; text-decoration-color: #7f7f7f\">{'uid': 'a147...', 'flow_id': 'retry json'}</span>\n",
       "</pre>\n"
      ],
      "text/plain": [
       "\u001b[2m13:06:23.564\u001b[0m | \u001b[2;34mEvent\u001b[0m\u001b[2m \u001b[0m\u001b[1;2mStartOutputRail\u001b[0m | \u001b[2m{'uid': 'a147...', 'flow_id': 'retry json'}\u001b[0m\n"
      ]
     },
     "metadata": {},
     "output_type": "display_data"
    },
    {
     "data": {
      "text/html": [
       "<pre style=\"white-space:pre;overflow-x:auto;line-height:normal;font-family:Menlo,'DejaVu Sans Mono',consolas,'Courier New',monospace\"><span style=\"color: #7f7f7f; text-decoration-color: #7f7f7f\">13:06:23.566</span> | <span style=\"color: #7f7fbf; text-decoration-color: #7f7fbf\">Event</span><span style=\"color: #7f7f7f; text-decoration-color: #7f7f7f\"> </span><span style=\"color: #7f7f7f; text-decoration-color: #7f7f7f; font-weight: bold\">StartInternalSystemAction</span> | <span style=\"color: #7f7f7f; text-decoration-color: #7f7f7f\">{'uid': '7dc4...', 'action_name': 'retry_json', 'action_params': </span>\n",
       "<span style=\"color: #7f7f7f; text-decoration-color: #7f7f7f\">{}, 'action_result_key': 'failed_json', 'action_uid': '21a9...', 'is_system_action': True}</span>\n",
       "</pre>\n"
      ],
      "text/plain": [
       "\u001b[2m13:06:23.566\u001b[0m | \u001b[2;34mEvent\u001b[0m\u001b[2m \u001b[0m\u001b[1;2mStartInternalSystemAction\u001b[0m | \u001b[2m{'uid': '7dc4...', 'action_name': 'retry_json', 'action_params': \u001b[0m\n",
       "\u001b[2m{}, 'action_result_key': 'failed_json', 'action_uid': '21a9...', 'is_system_action': True}\u001b[0m\n"
      ]
     },
     "metadata": {},
     "output_type": "display_data"
    },
    {
     "data": {
      "text/html": [
       "<pre style=\"white-space:pre;overflow-x:auto;line-height:normal;font-family:Menlo,'DejaVu Sans Mono',consolas,'Courier New',monospace\"><span style=\"color: #7f7f7f; text-decoration-color: #7f7f7f\">13:06:23.566</span> | <span style=\"color: #b7b7b7; text-decoration-color: #b7b7b7\">Executing action</span><span style=\"color: #7f7f7f; text-decoration-color: #7f7f7f\"> </span><span style=\"color: #aaaaaa; text-decoration-color: #aaaaaa\">retry_json</span>\n",
       "</pre>\n"
      ],
      "text/plain": [
       "\u001b[2m13:06:23.566\u001b[0m | \u001b[2;38;2;112;112;112mExecuting action\u001b[0m\u001b[2m \u001b[0m\u001b[2;38;2;85;85;85mretry_json\u001b[0m\n"
      ]
     },
     "metadata": {},
     "output_type": "display_data"
    },
    {
     "name": "stdout",
     "output_type": "stream",
     "text": [
      "!!!!!!!!!! call_llm !!!!!!!!!!!\n",
      "config: \n",
      "RailsConfig(models=[Model(type='main', engine='ollama', model='nemotron:70b', parameters={'model': 'nemotron:70b'})], user_messages={}, bot_messages={'inform cannot parse json': ['Unable to parse the Story JSON.'], 'refuse to respond': [\"I'm sorry, I can't respond to that.\"], 'response untrustworthy': ['$bot_message \\\\nCAUTION: THIS ANSWER HAS BEEN FLAGGED AS POTENTIALLY UNTRUSTWORTHY'], 'inform cannot engage in abusive or harmful behavior': ['I will not engage in any abusive or harmful behavior.'], 'inform cannot engage with inappropriate content': ['I will not engage with inappropriate content.'], 'inform cannot engage with sensitive content': ['I will not engage with sensitive content.'], 'inform answer unknown': [\"I don't know the answer to that.\"], 'inform cannot engage in self harm behavior': ['I will not engage in any self harm behavior.'], 'inform answer prone to hallucination': ['The previous answer is prone to hallucination and may not be accurate. Please double check the answer using additional sources.', 'The above response may have been hallucinated, and should be independently verified.']}, flows=[{'id': 'retry json', 'elements': [{'_type': 'meta', 'meta': {'subflow': True}}, {'_type': 'run_action', 'action_name': 'retry_json', 'action_params': {}, 'action_result_key': 'failed_json', '_source_mapping': {'filename': 'main.co', 'line_number': 7, 'line_text': '$failed_json = execute retry_json', 'comment': None}}, {'_type': 'if', 'expression': '$failed_json', '_source_mapping': {'filename': 'main.co', 'line_number': 9, 'line_text': 'if $failed_json', 'comment': None}, '_next_else': 3}, {'_type': 'run_action', 'action_name': 'utter', 'action_params': {'value': 'inform cannot parse json'}, '_source_mapping': {'filename': 'main.co', 'line_number': 10, 'line_text': 'bot inform cannot parse json', 'comment': None}}, {'_type': 'run_action', 'action_name': 'utter', 'action_params': {'value': 'stop'}, '_source_mapping': {'filename': 'main.co', 'line_number': 11, 'line_text': 'stop', 'comment': None}}], 'source_code': '$failed_json = execute retry_json\\nif $failed_json\\n    bot inform cannot parse json\\n    stop', 'is_system_flow': True, 'is_subflow': True}, {'id': 'process user input', 'elements': [{'_type': 'meta', 'meta': {'allow_multiple': True}}, {'_type': 'UtteranceUserActionFinished', 'final_transcript': '...', '_source_mapping': {'filename': 'llm_flows.co', 'line_number': 3, 'line_text': 'event UtteranceUserActionFinished(final_transcript=\"...\")', 'comment': 'Run all the input rails on the user input.'}}, {'_type': 'set', 'key': 'user_message', 'expression': '$event[\"final_transcript\"]', '_source_mapping': {'filename': 'llm_flows.co', 'line_number': 4, 'line_text': '$user_message = $event[\"final_transcript\"]', 'comment': None}}, {'_type': 'if', 'expression': '$config.rails.input.flows', '_source_mapping': {'filename': 'llm_flows.co', 'line_number': 7, 'line_text': 'if $config.rails.input.flows', 'comment': 'If we have input rails, we run them, otherwise we just create the user message event'}, '_next_else': 7}, {'_type': 'if', 'expression': '$generation_options is None or $generation_options.rails.input', '_source_mapping': {'filename': 'llm_flows.co', 'line_number': 9, 'line_text': 'if $generation_options is None or $generation_options.rails.input:', 'comment': 'If we have generation options, we make sure the input rails are enabled.'}, '_next_else': 6}, {'_type': 'run_action', 'action_name': 'create_event', 'action_params': {'event': {'_type': 'StartInputRails'}}, '_source_mapping': {'filename': 'llm_flows.co', 'line_number': 11, 'line_text': 'create event StartInputRails', 'comment': 'Create a marker event.'}}, {'_type': 'StartInputRails', '_source_mapping': {'filename': 'llm_flows.co', 'line_number': 12, 'line_text': 'event StartInputRails', 'comment': None}}, {'_type': 'flow', 'flow_name': 'run input rails', 'flow_parameters': {}, 'return_vars': [], '_source_mapping': {'filename': 'llm_flows.co', 'line_number': 16, 'line_text': 'do run input rails', 'comment': 'Run all the input rails\\nThis can potentially alter the $user_message'}}, {'_type': 'run_action', 'action_name': 'create_event', 'action_params': {'event': {'_type': 'InputRailsFinished'}}, '_source_mapping': {'filename': 'llm_flows.co', 'line_number': 19, 'line_text': 'create event InputRailsFinished', 'comment': 'Create a marker event.'}}, {'_type': 'InputRailsFinished', '_source_mapping': {'filename': 'llm_flows.co', 'line_number': 20, 'line_text': 'event InputRailsFinished', 'comment': None}}, {'_type': 'run_action', 'action_name': 'create_event', 'action_params': {'event': {'_type': 'UserMessage', 'text': '$user_message'}}, '_source_mapping': {'filename': 'llm_flows.co', 'line_number': 22, 'line_text': 'create event UserMessage(text=$user_message)', 'comment': None}}], 'source_code': 'event UtteranceUserActionFinished(final_transcript=\"...\")\\n$user_message = $event[\"final_transcript\"]\\n# If we have input rails, we run them, otherwise we just create the user message event\\nif $config.rails.input.flows\\n  # If we have generation options, we make sure the input rails are enabled.\\n  if $generation_options is None or $generation_options.rails.input:\\n    # Create a marker event.\\n    create event StartInputRails\\n    event StartInputRails\\n    # Run all the input rails\\n    # This can potentially alter the $user_message\\n    do run input rails\\n    # Create a marker event.\\n    create event InputRailsFinished\\n    event InputRailsFinished\\ncreate event UserMessage(text=$user_message)', 'is_system_flow': True, 'allow_multiple': True}, {'id': 'run dialog rails', 'elements': [{'_type': 'UserMessage', 'text': '...', '_source_mapping': {'filename': 'llm_flows.co', 'line_number': 27, 'line_text': 'event UserMessage(text=\"...\")', 'comment': \"Generate the user's intent based on the text.\"}}, {'_type': 'if', 'expression': '$generation_options and $generation_options.rails.dialog == False', '_source_mapping': {'filename': 'llm_flows.co', 'line_number': 30, 'line_text': 'if $generation_options and $generation_options.rails.dialog == False', 'comment': 'If the dialog_rails are disabled'}, '_next_else': 6}, {'_type': 'if', 'expression': '$generation_options.rails.output == False', '_source_mapping': {'filename': 'llm_flows.co', 'line_number': 32, 'line_text': 'if $generation_options.rails.output == False', 'comment': 'If the output rails are also disabled, we just return user message.'}, '_next_else': 3}, {'_type': 'run_action', 'action_name': 'create_event', 'action_params': {'event': {'_type': 'StartUtteranceBotAction', 'script': '$user_message'}}, '_source_mapping': {'filename': 'llm_flows.co', 'line_number': 33, 'line_text': 'create event StartUtteranceBotAction(script=$user_message)', 'comment': None}}, {'_type': 'jump', '_next': 2}, {'_type': 'run_action', 'action_name': 'create_event', 'action_params': {'event': {'_type': 'BotMessage', 'text': '$bot_message'}}, '_source_mapping': {'filename': 'llm_flows.co', 'line_number': 36, 'line_text': 'create event BotMessage(text=$bot_message)', 'comment': 'we take the $bot_message from context.'}}, {'_type': 'jump', '_next': 2}, {'_type': 'flow', 'flow_name': 'generate user intent', 'flow_parameters': {}, 'return_vars': [], '_source_mapping': {'filename': 'llm_flows.co', 'line_number': 39, 'line_text': 'do generate user intent', 'comment': 'If not, we continue the usual process'}}], 'source_code': 'event UserMessage(text=\"...\")\\n# If the dialog_rails are disabled\\nif $generation_options and $generation_options.rails.dialog == False\\n  # If the output rails are also disabled, we just return user message.\\n  if $generation_options.rails.output == False\\n    create event StartUtteranceBotAction(script=$user_message)\\n  else\\n    # we take the $bot_message from context.\\n    create event BotMessage(text=$bot_message)\\nelse\\n  # If not, we continue the usual process\\n  do generate user intent', 'is_system_flow': True}, {'id': 'generate user intent', 'elements': [{'_type': 'meta', 'meta': {'subflow': True}}, {'_type': 'run_action', 'action_name': 'generate_user_intent', 'action_params': {}, 'action_result_key': None, '_source_mapping': {'filename': 'llm_flows.co', 'line_number': 44, 'line_text': 'execute generate_user_intent', 'comment': 'Generates the user intent.'}}], 'source_code': 'execute generate_user_intent', 'is_system_flow': True, 'is_subflow': True}, {'id': 'run input rails', 'elements': [{'_type': 'meta', 'meta': {'subflow': True}}, {'_type': 'set', 'key': 'i', 'expression': '0', '_source_mapping': {'filename': 'llm_flows.co', 'line_number': 49, 'line_text': '$i = 0', 'comment': 'Runs all the input rails in a sequential order. '}}, {'_type': 'set', 'key': 'input_flows', 'expression': '$config.rails.input.flows', '_source_mapping': {'filename': 'llm_flows.co', 'line_number': 50, 'line_text': '$input_flows = $config.rails.input.flows', 'comment': None}}, {'_type': 'while', 'expression': '$i < len($input_flows)', '_source_mapping': {'filename': 'llm_flows.co', 'line_number': 51, 'line_text': 'while $i < len($input_flows)', 'comment': None}, '_next_on_break': 10}, {'_type': 'set', 'key': 'triggered_input_rail', 'expression': '$input_flows[$i]', '_source_mapping': {'filename': 'llm_flows.co', 'line_number': 53, 'line_text': '$triggered_input_rail = $input_flows[$i]', 'comment': 'We set the current rail as being triggered.'}, '_next_on_break': 9, '_next_on_continue': -1}, {'_type': 'run_action', 'action_name': 'create_event', 'action_params': {'event': {'_type': 'StartInputRail', 'flow_id': '$triggered_input_rail'}}, '_source_mapping': {'filename': 'llm_flows.co', 'line_number': 55, 'line_text': 'create event StartInputRail(flow_id=$triggered_input_rail)', 'comment': None}, '_next_on_break': 8, '_next_on_continue': -2}, {'_type': 'StartInputRail', '_source_mapping': {'filename': 'llm_flows.co', 'line_number': 56, 'line_text': 'event StartInputRail', 'comment': None}, '_next_on_break': 7, '_next_on_continue': -3}, {'_type': 'flow', 'flow_name': '$input_flows[$i]', 'flow_parameters': {}, 'return_vars': [], '_source_mapping': {'filename': 'llm_flows.co', 'line_number': 58, 'line_text': 'do $input_flows[$i]', 'comment': None}, '_next_on_break': 6, '_next_on_continue': -4}, {'_type': 'set', 'key': 'i', 'expression': '$i + 1', '_source_mapping': {'filename': 'llm_flows.co', 'line_number': 59, 'line_text': '$i = $i + 1', 'comment': None}, '_next_on_break': 5, '_next_on_continue': -5}, {'_type': 'run_action', 'action_name': 'create_event', 'action_params': {'event': {'_type': 'InputRailFinished', 'flow_id': '$triggered_input_rail'}}, '_source_mapping': {'filename': 'llm_flows.co', 'line_number': 61, 'line_text': 'create event InputRailFinished(flow_id=$triggered_input_rail)', 'comment': None}, '_next_on_break': 4, '_next_on_continue': -6}, {'_type': 'InputRailFinished', '_source_mapping': {'filename': 'llm_flows.co', 'line_number': 62, 'line_text': 'event InputRailFinished', 'comment': None}, '_next_on_break': 3, '_next_on_continue': -7}, {'_type': 'set', 'key': 'triggered_input_rail', 'expression': 'None', '_source_mapping': {'filename': 'llm_flows.co', 'line_number': 65, 'line_text': '$triggered_input_rail = None', 'comment': 'If all went smooth, we remove it.'}, '_next_on_break': 2, '_next_on_continue': -8}, {'_type': 'jump', '_next': -9}], 'source_code': '$i = 0\\n$input_flows = $config.rails.input.flows\\nwhile $i < len($input_flows)\\n  # We set the current rail as being triggered.\\n  $triggered_input_rail = $input_flows[$i]\\n  create event StartInputRail(flow_id=$triggered_input_rail)\\n  event StartInputRail\\n  do $input_flows[$i]\\n  $i = $i + 1\\n  create event InputRailFinished(flow_id=$triggered_input_rail)\\n  event InputRailFinished\\n  # If all went smooth, we remove it.\\n  $triggered_input_rail = None', 'is_system_flow': True, 'is_subflow': True}, {'id': 'generate next step', 'elements': [{'_type': 'meta', 'meta': {'priority': 0.9}}, {'_type': 'UserIntent', 'intent_name': '...', 'intent_params': {}, '_source_mapping': {'filename': 'llm_flows.co', 'line_number': 77, 'line_text': 'user ...', 'comment': None}}, {'_type': 'run_action', 'action_name': 'generate_next_step', 'action_params': {}, 'action_result_key': None, '_source_mapping': {'filename': 'llm_flows.co', 'line_number': 78, 'line_text': 'execute generate_next_step', 'comment': None}}], 'source_code': 'user ...\\nexecute generate_next_step', 'is_system_flow': True, 'priority': 0.9}, {'id': 'generate bot message', 'elements': [{'_type': 'meta', 'meta': {'is_extension': True, 'allow_multiple': True, 'priority': 100}}, {'_type': 'run_action', 'action_name': 'utter', 'action_params': {'value': '...'}, '_source_mapping': {'filename': 'llm_flows.co', 'line_number': 88, 'line_text': 'bot ...', 'comment': None}}, {'_type': 'run_action', 'action_name': 'retrieve_relevant_chunks', 'action_params': {}, 'action_result_key': None, '_source_mapping': {'filename': 'llm_flows.co', 'line_number': 89, 'line_text': 'execute retrieve_relevant_chunks', 'comment': None}}, {'_type': 'if', 'expression': '$config.rails.retrieval.flows', '_source_mapping': {'filename': 'llm_flows.co', 'line_number': 92, 'line_text': 'if $config.rails.retrieval.flows', 'comment': 'If we have any retrieval rails, we run them.'}, '_next_else': 3}, {'_type': 'if', 'expression': '$generation_options is None or $generation_options.rails.retrieval', '_source_mapping': {'filename': 'llm_flows.co', 'line_number': 94, 'line_text': 'if $generation_options is None or $generation_options.rails.retrieval:', 'comment': 'If we have generation options, we make sure the retrieval rails are enabled.'}, '_next_else': 2}, {'_type': 'flow', 'flow_name': 'run retrieval rails', 'flow_parameters': {}, 'return_vars': [], '_source_mapping': {'filename': 'llm_flows.co', 'line_number': 95, 'line_text': 'do run retrieval rails', 'comment': None}}, {'_type': 'run_action', 'action_name': 'generate_bot_message', 'action_params': {}, 'action_result_key': None, '_source_mapping': {'filename': 'llm_flows.co', 'line_number': 98, 'line_text': 'execute generate_bot_message', 'comment': '$output_rails_enabled = True'}}], 'source_code': 'bot ...\\nexecute retrieve_relevant_chunks\\n# If we have any retrieval rails, we run them.\\nif $config.rails.retrieval.flows\\n  # If we have generation options, we make sure the retrieval rails are enabled.\\n  if $generation_options is None or $generation_options.rails.retrieval:\\n    do run retrieval rails\\n# $output_rails_enabled = True\\nexecute generate_bot_message', 'is_system_flow': True, 'priority': 100, 'is_extension': True, 'allow_multiple': True}, {'id': 'process bot message', 'elements': [{'_type': 'meta', 'meta': {'is_extension': True, 'allow_multiple': True, 'priority': 100}}, {'_type': 'BotMessage', '_source_mapping': {'filename': 'llm_flows.co', 'line_number': 105, 'line_text': 'event BotMessage', 'comment': None}}, {'_type': 'set', 'key': 'bot_message', 'expression': '$event.text', '_source_mapping': {'filename': 'llm_flows.co', 'line_number': 107, 'line_text': '$bot_message = $event.text', 'comment': None}}, {'_type': 'if', 'expression': '$skip_output_rails', '_source_mapping': {'filename': 'llm_flows.co', 'line_number': 109, 'line_text': 'if $skip_output_rails', 'comment': None}, '_next_else': 3}, {'_type': 'set', 'key': 'skip_output_rails', 'expression': 'False', '_source_mapping': {'filename': 'llm_flows.co', 'line_number': 110, 'line_text': '$skip_output_rails = False', 'comment': None}}, {'_type': 'jump', '_next': 8}, {'_type': 'if', 'expression': '$config.rails.output.flows', '_source_mapping': {'filename': 'llm_flows.co', 'line_number': 113, 'line_text': 'if $config.rails.output.flows', 'comment': 'If we have any output flows, we run them.'}, '_next_else': 7}, {'_type': 'if', 'expression': '$generation_options is None or $generation_options.rails.output', '_source_mapping': {'filename': 'llm_flows.co', 'line_number': 115, 'line_text': 'if $generation_options is None or $generation_options.rails.output:', 'comment': 'If we have generation options, we make sure the output rails are enabled.'}, '_next_else': 6}, {'_type': 'run_action', 'action_name': 'create_event', 'action_params': {'event': {'_type': 'StartOutputRails'}}, '_source_mapping': {'filename': 'llm_flows.co', 'line_number': 117, 'line_text': 'create event StartOutputRails', 'comment': 'Create a marker event.'}}, {'_type': 'StartOutputRails', '_source_mapping': {'filename': 'llm_flows.co', 'line_number': 118, 'line_text': 'event StartOutputRails', 'comment': None}}, {'_type': 'flow', 'flow_name': 'run output rails', 'flow_parameters': {}, 'return_vars': [], '_source_mapping': {'filename': 'llm_flows.co', 'line_number': 122, 'line_text': 'do run output rails', 'comment': 'Run all the output rails\\nThis can potentially alter the $user_message'}}, {'_type': 'run_action', 'action_name': 'create_event', 'action_params': {'event': {'_type': 'OutputRailsFinished'}}, '_source_mapping': {'filename': 'llm_flows.co', 'line_number': 125, 'line_text': 'create event OutputRailsFinished', 'comment': 'Create a marker event.'}}, {'_type': 'OutputRailsFinished', '_source_mapping': {'filename': 'llm_flows.co', 'line_number': 126, 'line_text': 'event OutputRailsFinished', 'comment': None}}, {'_type': 'run_action', 'action_name': 'create_event', 'action_params': {'event': {'_type': 'StartUtteranceBotAction', 'script': '$bot_message'}}, '_source_mapping': {'filename': 'llm_flows.co', 'line_number': 128, 'line_text': 'create event StartUtteranceBotAction(script=$bot_message)', 'comment': None}}], 'source_code': 'event BotMessage\\n$bot_message = $event.text\\nif $skip_output_rails\\n  $skip_output_rails = False\\nelse\\n  # If we have any output flows, we run them.\\n  if $config.rails.output.flows\\n    # If we have generation options, we make sure the output rails are enabled.\\n    if $generation_options is None or $generation_options.rails.output:\\n      # Create a marker event.\\n      create event StartOutputRails\\n      event StartOutputRails\\n      # Run all the output rails\\n      # This can potentially alter the $user_message\\n      do run output rails\\n      # Create a marker event.\\n      create event OutputRailsFinished\\n      event OutputRailsFinished\\ncreate event StartUtteranceBotAction(script=$bot_message)', 'is_system_flow': True, 'priority': 100, 'is_extension': True, 'allow_multiple': True}, {'id': 'run output rails', 'elements': [{'_type': 'meta', 'meta': {'subflow': True}}, {'_type': 'set', 'key': 'i', 'expression': '0', '_source_mapping': {'filename': 'llm_flows.co', 'line_number': 133, 'line_text': '$i = 0', 'comment': 'Runs all the output rails in a sequential order. '}}, {'_type': 'set', 'key': 'output_flows', 'expression': '$config.rails.output.flows', '_source_mapping': {'filename': 'llm_flows.co', 'line_number': 134, 'line_text': '$output_flows = $config.rails.output.flows', 'comment': None}}, {'_type': 'while', 'expression': '$i < len($output_flows)', '_source_mapping': {'filename': 'llm_flows.co', 'line_number': 135, 'line_text': 'while $i < len($output_flows)', 'comment': None}, '_next_on_break': 10}, {'_type': 'set', 'key': 'triggered_output_rail', 'expression': '$output_flows[$i]', '_source_mapping': {'filename': 'llm_flows.co', 'line_number': 137, 'line_text': '$triggered_output_rail = $output_flows[$i]', 'comment': 'We set the current rail as being triggered.'}, '_next_on_break': 9, '_next_on_continue': -1}, {'_type': 'run_action', 'action_name': 'create_event', 'action_params': {'event': {'_type': 'StartOutputRail', 'flow_id': '$triggered_output_rail'}}, '_source_mapping': {'filename': 'llm_flows.co', 'line_number': 139, 'line_text': 'create event StartOutputRail(flow_id=$triggered_output_rail)', 'comment': None}, '_next_on_break': 8, '_next_on_continue': -2}, {'_type': 'StartOutputRail', '_source_mapping': {'filename': 'llm_flows.co', 'line_number': 140, 'line_text': 'event StartOutputRail', 'comment': None}, '_next_on_break': 7, '_next_on_continue': -3}, {'_type': 'flow', 'flow_name': '$output_flows[$i]', 'flow_parameters': {}, 'return_vars': [], '_source_mapping': {'filename': 'llm_flows.co', 'line_number': 142, 'line_text': 'do $output_flows[$i]', 'comment': None}, '_next_on_break': 6, '_next_on_continue': -4}, {'_type': 'set', 'key': 'i', 'expression': '$i + 1', '_source_mapping': {'filename': 'llm_flows.co', 'line_number': 143, 'line_text': '$i = $i + 1', 'comment': None}, '_next_on_break': 5, '_next_on_continue': -5}, {'_type': 'run_action', 'action_name': 'create_event', 'action_params': {'event': {'_type': 'OutputRailFinished', 'flow_id': '$triggered_output_rail'}}, '_source_mapping': {'filename': 'llm_flows.co', 'line_number': 145, 'line_text': 'create event OutputRailFinished(flow_id=$triggered_output_rail)', 'comment': None}, '_next_on_break': 4, '_next_on_continue': -6}, {'_type': 'OutputRailFinished', '_source_mapping': {'filename': 'llm_flows.co', 'line_number': 146, 'line_text': 'event OutputRailFinished', 'comment': None}, '_next_on_break': 3, '_next_on_continue': -7}, {'_type': 'set', 'key': 'triggered_output_rail', 'expression': 'None', '_source_mapping': {'filename': 'llm_flows.co', 'line_number': 149, 'line_text': '$triggered_output_rail = None', 'comment': 'If all went smooth, we remove it.'}, '_next_on_break': 2, '_next_on_continue': -8}, {'_type': 'jump', '_next': -9}], 'source_code': '$i = 0\\n$output_flows = $config.rails.output.flows\\nwhile $i < len($output_flows)\\n  # We set the current rail as being triggered.\\n  $triggered_output_rail = $output_flows[$i]\\n  create event StartOutputRail(flow_id=$triggered_output_rail)\\n  event StartOutputRail\\n  do $output_flows[$i]\\n  $i = $i + 1\\n  create event OutputRailFinished(flow_id=$triggered_output_rail)\\n  event OutputRailFinished\\n  # If all went smooth, we remove it.\\n  $triggered_output_rail = None', 'is_system_flow': True, 'is_subflow': True}, {'id': 'run retrieval rails', 'elements': [{'_type': 'meta', 'meta': {'subflow': True}}, {'_type': 'set', 'key': 'i', 'expression': '0', '_source_mapping': {'filename': 'llm_flows.co', 'line_number': 154, 'line_text': '$i = 0', 'comment': 'Runs all the retrieval rails in a sequential order. '}}, {'_type': 'set', 'key': 'retrieval_flows', 'expression': '$config.rails.retrieval.flows', '_source_mapping': {'filename': 'llm_flows.co', 'line_number': 155, 'line_text': '$retrieval_flows = $config.rails.retrieval.flows', 'comment': None}}, {'_type': 'while', 'expression': '$i < len($retrieval_flows)', '_source_mapping': {'filename': 'llm_flows.co', 'line_number': 156, 'line_text': 'while $i < len($retrieval_flows)', 'comment': None}, '_next_on_break': 4}, {'_type': 'flow', 'flow_name': '$retrieval_flows[$i]', 'flow_parameters': {}, 'return_vars': [], '_source_mapping': {'filename': 'llm_flows.co', 'line_number': 157, 'line_text': 'do $retrieval_flows[$i]', 'comment': None}, '_next_on_break': 3, '_next_on_continue': -1}, {'_type': 'set', 'key': 'i', 'expression': '$i + 1', '_source_mapping': {'filename': 'llm_flows.co', 'line_number': 158, 'line_text': '$i = $i + 1', 'comment': None}, '_next_on_break': 2, '_next_on_continue': -2}, {'_type': 'jump', '_next': -3}], 'source_code': '$i = 0\\n$retrieval_flows = $config.rails.retrieval.flows\\nwhile $i < len($retrieval_flows)\\n  do $retrieval_flows[$i]\\n  $i = $i + 1', 'is_system_flow': True, 'is_subflow': True}, {'id': 'llama guard check input', 'elements': [{'_type': 'run_action', 'action_name': 'llama_guard_check_input', 'action_params': {}, 'action_result_key': 'llama_guard_response', '_source_mapping': {'filename': 'flows.v1.co', 'line_number': 5, 'line_text': '$llama_guard_response = execute llama_guard_check_input', 'comment': None}}, {'_type': 'set', 'key': 'allowed', 'expression': '$llama_guard_response[\"allowed\"]', '_source_mapping': {'filename': 'flows.v1.co', 'line_number': 6, 'line_text': '$allowed = $llama_guard_response[\"allowed\"]', 'comment': None}}, {'_type': 'set', 'key': 'llama_guard_policy_violations', 'expression': '$llama_guard_response[\"policy_violations\"]', '_source_mapping': {'filename': 'flows.v1.co', 'line_number': 8, 'line_text': '$llama_guard_policy_violations = $llama_guard_response[\"policy_violations\"]', 'comment': 'Policy violations are currently unused, but can be used to better phrase the bot output'}}, {'_type': 'if', 'expression': 'not $allowed', '_source_mapping': {'filename': 'flows.v1.co', 'line_number': 10, 'line_text': 'if not $allowed', 'comment': None}, '_next_else': 6}, {'_type': 'if', 'expression': '$config.enable_rails_exceptions', '_source_mapping': {'filename': 'flows.v1.co', 'line_number': 11, 'line_text': 'if $config.enable_rails_exceptions', 'comment': None}, '_next_else': 3}, {'_type': 'run_action', 'action_name': 'create_event', 'action_params': {'event': {'_type': 'LlamaGuardInputRailException', 'message': \"Input not allowed. The input was blocked by the 'llama guard check input' flow. Please ensure your input meets the required criteria.\"}}, '_source_mapping': {'filename': 'flows.v1.co', 'line_number': 12, 'line_text': 'create event LlamaGuardInputRailException(message=\"Input not allowed. The input was blocked by the \\'llama guard check input\\' flow. Please ensure your input meets the required criteria.\")', 'comment': None}}, {'_type': 'jump', '_next': 2}, {'_type': 'run_action', 'action_name': 'utter', 'action_params': {'value': 'refuse to respond'}, '_source_mapping': {'filename': 'flows.v1.co', 'line_number': 14, 'line_text': 'bot refuse to respond', 'comment': None}}, {'_type': 'run_action', 'action_name': 'utter', 'action_params': {'value': 'stop'}, '_source_mapping': {'filename': 'flows.v1.co', 'line_number': 15, 'line_text': 'stop', 'comment': None}}], 'source_code': '$llama_guard_response = execute llama_guard_check_input\\n$allowed = $llama_guard_response[\"allowed\"]\\n# Policy violations are currently unused, but can be used to better phrase the bot output\\n$llama_guard_policy_violations = $llama_guard_response[\"policy_violations\"]\\nif not $allowed\\n  if $config.enable_rails_exceptions\\n    create event LlamaGuardInputRailException(message=\"Input not allowed. The input was blocked by the \\'llama guard check input\\' flow. Please ensure your input meets the required criteria.\")\\n  else\\n    bot refuse to respond\\n  stop', 'is_system_flow': True}, {'id': 'llama guard check output', 'elements': [{'_type': 'run_action', 'action_name': 'llama_guard_check_output', 'action_params': {}, 'action_result_key': 'llama_guard_response', '_source_mapping': {'filename': 'flows.v1.co', 'line_number': 18, 'line_text': '$llama_guard_response = execute llama_guard_check_output', 'comment': None}}, {'_type': 'set', 'key': 'allowed', 'expression': '$llama_guard_response[\"allowed\"]', '_source_mapping': {'filename': 'flows.v1.co', 'line_number': 19, 'line_text': '$allowed = $llama_guard_response[\"allowed\"]', 'comment': None}}, {'_type': 'set', 'key': 'llama_guard_policy_violations', 'expression': '$llama_guard_response[\"policy_violations\"]', '_source_mapping': {'filename': 'flows.v1.co', 'line_number': 20, 'line_text': '$llama_guard_policy_violations = $llama_guard_response[\"policy_violations\"]', 'comment': None}}, {'_type': 'if', 'expression': 'not $allowed', '_source_mapping': {'filename': 'flows.v1.co', 'line_number': 22, 'line_text': 'if not $allowed', 'comment': None}, '_next_else': 6}, {'_type': 'if', 'expression': '$config.enable_rails_exceptions', '_source_mapping': {'filename': 'flows.v1.co', 'line_number': 23, 'line_text': 'if $config.enable_rails_exceptions', 'comment': None}, '_next_else': 3}, {'_type': 'run_action', 'action_name': 'create_event', 'action_params': {'event': {'_type': 'LlamaGuardOutputRailException', 'message': \"Output not allowed. The output was blocked by the 'llama guard check output' flow. Please ensure your output meets the required criteria.\"}}, '_source_mapping': {'filename': 'flows.v1.co', 'line_number': 24, 'line_text': 'create event LlamaGuardOutputRailException(message=\"Output not allowed. The output was blocked by the \\'llama guard check output\\' flow. Please ensure your output meets the required criteria.\")', 'comment': None}}, {'_type': 'jump', '_next': 2}, {'_type': 'run_action', 'action_name': 'utter', 'action_params': {'value': 'refuse to respond'}, '_source_mapping': {'filename': 'flows.v1.co', 'line_number': 26, 'line_text': 'bot refuse to respond', 'comment': None}}, {'_type': 'run_action', 'action_name': 'utter', 'action_params': {'value': 'stop'}, '_source_mapping': {'filename': 'flows.v1.co', 'line_number': 27, 'line_text': 'stop', 'comment': None}}], 'source_code': '$llama_guard_response = execute llama_guard_check_output\\n$allowed = $llama_guard_response[\"allowed\"]\\n$llama_guard_policy_violations = $llama_guard_response[\"policy_violations\"]\\nif not $allowed\\n  if $config.enable_rails_exceptions\\n    create event LlamaGuardOutputRailException(message=\"Output not allowed. The output was blocked by the \\'llama guard check output\\' flow. Please ensure your output meets the required criteria.\")\\n  else\\n    bot refuse to respond\\n  stop', 'is_system_flow': True}, {'id': 'alignscore check facts', 'elements': [{'_type': 'meta', 'meta': {'subflow': True}}, {'_type': 'if', 'expression': '$check_facts == True', '_source_mapping': {'filename': 'flows.v1.co', 'line_number': 7, 'line_text': 'if $check_facts == True', 'comment': 'Check if the previous answer is accurate w.r.t. the relevant chunks.\\nThis output rail must be enabled explicitly per output message by setting\\nthe $check_facts context variable to True.\\n'}, '_next_else': 9}, {'_type': 'set', 'key': 'check_facts', 'expression': 'False', '_source_mapping': {'filename': 'flows.v1.co', 'line_number': 8, 'line_text': '$check_facts = False', 'comment': None}}, {'_type': 'run_action', 'action_name': 'alignscore_check_facts', 'action_params': {}, 'action_result_key': 'accuracy', '_source_mapping': {'filename': 'flows.v1.co', 'line_number': 10, 'line_text': '$accuracy = execute alignscore_check_facts', 'comment': None}}, {'_type': 'if', 'expression': '$accuracy < 0.5', '_source_mapping': {'filename': 'flows.v1.co', 'line_number': 11, 'line_text': 'if $accuracy < 0.5', 'comment': None}, '_next_else': 6}, {'_type': 'if', 'expression': '$config.enable_rails_exceptions', '_source_mapping': {'filename': 'flows.v1.co', 'line_number': 12, 'line_text': 'if $config.enable_rails_exceptions', 'comment': None}, '_next_else': 3}, {'_type': 'run_action', 'action_name': 'create_event', 'action_params': {'event': {'_type': 'AlignScoreCheckFactRailException', 'message': 'Fact check failed. The accuracy of the previous answer was below the required threshold.'}}, '_source_mapping': {'filename': 'flows.v1.co', 'line_number': 13, 'line_text': 'create event AlignScoreCheckFactRailException(message=\"Fact check failed. The accuracy of the previous answer was below the required threshold.\")', 'comment': None}}, {'_type': 'jump', '_next': 2}, {'_type': 'run_action', 'action_name': 'utter', 'action_params': {'value': 'inform answer unknown'}, '_source_mapping': {'filename': 'flows.v1.co', 'line_number': 15, 'line_text': 'bot inform answer unknown', 'comment': None}}, {'_type': 'run_action', 'action_name': 'utter', 'action_params': {'value': 'stop'}, '_source_mapping': {'filename': 'flows.v1.co', 'line_number': 16, 'line_text': 'stop', 'comment': None}}], 'source_code': 'if $check_facts == True\\n  $check_facts = False\\n  $accuracy = execute alignscore_check_facts\\n  if $accuracy < 0.5\\n    if $config.enable_rails_exceptions\\n      create event AlignScoreCheckFactRailException(message=\"Fact check failed. The accuracy of the previous answer was below the required threshold.\")\\n    else\\n      bot inform answer unknown\\n    stop', 'is_system_flow': True, 'is_subflow': True}, {'id': 'autoalign check input', 'elements': [{'_type': 'meta', 'meta': {'subflow': True}}, {'_type': 'run_action', 'action_name': 'autoalign_input_api', 'action_params': {'show_autoalign_message': True}, 'action_result_key': 'input_result', '_source_mapping': {'filename': 'flows.v1.co', 'line_number': 2, 'line_text': '$input_result = execute autoalign_input_api(show_autoalign_message=True)', 'comment': None}}, {'_type': 'if', 'expression': '$input_result[\"guardrails_triggered\"]', '_source_mapping': {'filename': 'flows.v1.co', 'line_number': 3, 'line_text': 'if $input_result[\"guardrails_triggered\"]', 'comment': None}, '_next_else': 8}, {'_type': 'set', 'key': 'autoalign_input_response', 'expression': \"$input_result['combined_response']\", '_source_mapping': {'filename': 'flows.v1.co', 'line_number': 4, 'line_text': \"$autoalign_input_response = $input_result['combined_response']\", 'comment': None}}, {'_type': 'if', 'expression': '$config.enable_rails_exceptions', '_source_mapping': {'filename': 'flows.v1.co', 'line_number': 5, 'line_text': 'if $config.enable_rails_exceptions', 'comment': None}, '_next_else': 3}, {'_type': 'run_action', 'action_name': 'create_event', 'action_params': {'event': {'_type': 'AutoAlignInputRailException', 'message': 'AutoAlign input guardrail triggered'}}, '_source_mapping': {'filename': 'flows.v1.co', 'line_number': 6, 'line_text': 'create event AutoAlignInputRailException(message=\"AutoAlign input guardrail triggered\")', 'comment': None}}, {'_type': 'jump', '_next': 2}, {'_type': 'run_action', 'action_name': 'utter', 'action_params': {'value': 'refuse to respond'}, '_source_mapping': {'filename': 'flows.v1.co', 'line_number': 8, 'line_text': 'bot refuse to respond', 'comment': None}}, {'_type': 'run_action', 'action_name': 'utter', 'action_params': {'value': 'stop'}, '_source_mapping': {'filename': 'flows.v1.co', 'line_number': 9, 'line_text': 'stop', 'comment': None}}, {'_type': 'jump', '_next': 3}, {'_type': 'if', 'expression': '$input_result[\"pii_fast\"] and $input_result[\"pii_fast\"][\"guarded\"]', '_source_mapping': {'filename': 'flows.v1.co', 'line_number': 10, 'line_text': 'else if $input_result[\"pii_fast\"] and $input_result[\"pii_fast\"][\"guarded\"]:', 'comment': None}, '_next_else': 2}, {'_type': 'set', 'key': 'user_message', 'expression': '$input_result[\"pii_fast\"][\"response\"]', '_source_mapping': {'filename': 'flows.v1.co', 'line_number': 11, 'line_text': '$user_message = $input_result[\"pii_fast\"][\"response\"]', 'comment': None}}], 'source_code': '$input_result = execute autoalign_input_api(show_autoalign_message=True)\\nif $input_result[\"guardrails_triggered\"]\\n  $autoalign_input_response = $input_result[\\'combined_response\\']\\n  if $config.enable_rails_exceptions\\n    create event AutoAlignInputRailException(message=\"AutoAlign input guardrail triggered\")\\n  else\\n    bot refuse to respond\\n  stop\\nelse if $input_result[\"pii_fast\"] and $input_result[\"pii_fast\"][\"guarded\"]:\\n  $user_message = $input_result[\"pii_fast\"][\"response\"]', 'is_system_flow': True, 'is_subflow': True}, {'id': 'autoalign check output', 'elements': [{'_type': 'meta', 'meta': {'subflow': True}}, {'_type': 'run_action', 'action_name': 'autoalign_output_api', 'action_params': {'show_autoalign_message': True}, 'action_result_key': 'output_result', '_source_mapping': {'filename': 'flows.v1.co', 'line_number': 14, 'line_text': '$output_result = execute autoalign_output_api(show_autoalign_message=True)', 'comment': None}}, {'_type': 'if', 'expression': '$output_result[\"guardrails_triggered\"]', '_source_mapping': {'filename': 'flows.v1.co', 'line_number': 15, 'line_text': 'if $output_result[\"guardrails_triggered\"]', 'comment': None}, '_next_else': 7}, {'_type': 'if', 'expression': '$config.enable_rails_exceptions', '_source_mapping': {'filename': 'flows.v1.co', 'line_number': 16, 'line_text': 'if $config.enable_rails_exceptions', 'comment': None}, '_next_else': 3}, {'_type': 'run_action', 'action_name': 'create_event', 'action_params': {'event': {'_type': 'AutoAlignOutputRailException', 'message': 'AutoAlign guardrail triggered'}}, '_source_mapping': {'filename': 'flows.v1.co', 'line_number': 17, 'line_text': 'create event AutoAlignOutputRailException(message=\"AutoAlign guardrail triggered\")', 'comment': None}}, {'_type': 'jump', '_next': 2}, {'_type': 'run_action', 'action_name': 'utter', 'action_params': {'value': 'refuse to respond'}, '_source_mapping': {'filename': 'flows.v1.co', 'line_number': 19, 'line_text': 'bot refuse to respond', 'comment': None}}, {'_type': 'run_action', 'action_name': 'utter', 'action_params': {'value': 'stop'}, '_source_mapping': {'filename': 'flows.v1.co', 'line_number': 20, 'line_text': 'stop', 'comment': None}}, {'_type': 'jump', '_next': 4}, {'_type': 'set', 'key': 'pii_message_output', 'expression': '$output_result[\"pii_fast\"][\"response\"]', '_source_mapping': {'filename': 'flows.v1.co', 'line_number': 22, 'line_text': '$pii_message_output = $output_result[\"pii_fast\"][\"response\"]', 'comment': None}}, {'_type': 'if', 'expression': '$output_result[\"pii_fast\"][\"guarded\"]', '_source_mapping': {'filename': 'flows.v1.co', 'line_number': 23, 'line_text': 'if $output_result[\"pii_fast\"][\"guarded\"]', 'comment': None}, '_next_else': 2}, {'_type': 'set', 'key': 'bot_message', 'expression': '$pii_message_output', '_source_mapping': {'filename': 'flows.v1.co', 'line_number': 24, 'line_text': '$bot_message = $pii_message_output', 'comment': None}}], 'source_code': '$output_result = execute autoalign_output_api(show_autoalign_message=True)\\nif $output_result[\"guardrails_triggered\"]\\n  if $config.enable_rails_exceptions\\n    create event AutoAlignOutputRailException(message=\"AutoAlign guardrail triggered\")\\n  else\\n    bot refuse to respond\\n  stop\\nelse\\n  $pii_message_output = $output_result[\"pii_fast\"][\"response\"]\\n  if $output_result[\"pii_fast\"][\"guarded\"]\\n    $bot_message = $pii_message_output', 'is_system_flow': True, 'is_subflow': True}, {'id': 'autoalign factcheck output', 'elements': [{'_type': 'meta', 'meta': {'subflow': True}}, {'_type': 'if', 'expression': '$check_facts == True', '_source_mapping': {'filename': 'flows.v1.co', 'line_number': 27, 'line_text': 'if $check_facts == True', 'comment': None}, '_next_else': 5}, {'_type': 'set', 'key': 'check_facts', 'expression': 'False', '_source_mapping': {'filename': 'flows.v1.co', 'line_number': 28, 'line_text': '$check_facts = False', 'comment': None}}, {'_type': 'set', 'key': 'threshold', 'expression': '0.5', '_source_mapping': {'filename': 'flows.v1.co', 'line_number': 29, 'line_text': '$threshold = 0.5', 'comment': None}}, {'_type': 'run_action', 'action_name': 'autoalign_factcheck_output_api', 'action_params': {'factcheck_threshold': '$threshold', 'show_autoalign_message': True}, 'action_result_key': 'output_result', '_source_mapping': {'filename': 'flows.v1.co', 'line_number': 30, 'line_text': '$output_result = execute autoalign_factcheck_output_api(factcheck_threshold=$threshold, show_autoalign_message=True)', 'comment': None}}, {'_type': 'run_action', 'action_name': 'utter', 'action_params': {'value': 'provide response'}, '_source_mapping': {'filename': 'flows.v1.co', 'line_number': 31, 'line_text': 'bot provide response', 'comment': None}}], 'source_code': 'if $check_facts == True\\n  $check_facts = False\\n  $threshold = 0.5\\n  $output_result = execute autoalign_factcheck_output_api(factcheck_threshold=$threshold, show_autoalign_message=True)\\n  bot provide response', 'is_system_flow': True, 'is_subflow': True}, {'id': 'cleanlab trustworthiness', 'elements': [{'_type': 'meta', 'meta': {'subflow': True}}, {'_type': 'run_action', 'action_name': 'call cleanlab api', 'action_params': {}, 'action_result_key': 'result', '_source_mapping': {'filename': 'flows.v1.co', 'line_number': 10, 'line_text': '$result = execute call cleanlab api', 'comment': 'Guardrail based on the trustworthiness score.'}}, {'_type': 'if', 'expression': '$result.trustworthiness_score < 0.6', '_source_mapping': {'filename': 'flows.v1.co', 'line_number': 12, 'line_text': 'if $result.trustworthiness_score < 0.6', 'comment': None}, '_next_else': 6}, {'_type': 'if', 'expression': '$config.enable_rails_exceptions', '_source_mapping': {'filename': 'flows.v1.co', 'line_number': 13, 'line_text': 'if $config.enable_rails_exceptions', 'comment': None}, '_next_else': 3}, {'_type': 'run_action', 'action_name': 'create_event', 'action_params': {'event': {'_type': 'CleanlabTrustworthinessRailException', 'message': 'Trustworthiness score is below threshold'}}, '_source_mapping': {'filename': 'flows.v1.co', 'line_number': 14, 'line_text': 'create event CleanlabTrustworthinessRailException(message=\"Trustworthiness score is below threshold\")', 'comment': None}}, {'_type': 'jump', '_next': 2}, {'_type': 'run_action', 'action_name': 'utter', 'action_params': {'value': 'response untrustworthy'}, '_source_mapping': {'filename': 'flows.v1.co', 'line_number': 16, 'line_text': 'bot response untrustworthy', 'comment': None}}, {'_type': 'run_action', 'action_name': 'utter', 'action_params': {'value': 'stop'}, '_source_mapping': {'filename': 'flows.v1.co', 'line_number': 17, 'line_text': 'stop', 'comment': None}}], 'source_code': '$result = execute call cleanlab api\\nif $result.trustworthiness_score < 0.6\\n  if $config.enable_rails_exceptions\\n    create event CleanlabTrustworthinessRailException(message=\"Trustworthiness score is below threshold\")\\n  else\\n    bot response untrustworthy\\n  stop', 'is_system_flow': True, 'is_subflow': True}, {'id': 'jailbreak detection heuristics', 'elements': [{'_type': 'meta', 'meta': {'subflow': True}}, {'_type': 'run_action', 'action_name': 'jailbreak_detection_heuristics', 'action_params': {}, 'action_result_key': 'is_jailbreak', '_source_mapping': {'filename': 'flows.v1.co', 'line_number': 8, 'line_text': '$is_jailbreak = execute jailbreak_detection_heuristics', 'comment': \"\\nHeuristic checks to assess whether the user's prompt is an attempted jailbreak.\\n\"}}, {'_type': 'if', 'expression': '$is_jailbreak', '_source_mapping': {'filename': 'flows.v1.co', 'line_number': 10, 'line_text': 'if $is_jailbreak', 'comment': None}, '_next_else': 6}, {'_type': 'if', 'expression': '$config.enable_rails_exceptions', '_source_mapping': {'filename': 'flows.v1.co', 'line_number': 11, 'line_text': 'if $config.enable_rails_exceptions', 'comment': None}, '_next_else': 3}, {'_type': 'run_action', 'action_name': 'create_event', 'action_params': {'event': {'_type': 'JailbreakDetectionRailException', 'message': \"Jailbreak attempt detected. The user's prompt was identified as an attempted jailbreak. Please ensure your prompt adheres to the guidelines.\"}}, '_source_mapping': {'filename': 'flows.v1.co', 'line_number': 12, 'line_text': 'create event JailbreakDetectionRailException(message=\"Jailbreak attempt detected. The user\\'s prompt was identified as an attempted jailbreak. Please ensure your prompt adheres to the guidelines.\")', 'comment': None}}, {'_type': 'jump', '_next': 2}, {'_type': 'run_action', 'action_name': 'utter', 'action_params': {'value': 'refuse to respond'}, '_source_mapping': {'filename': 'flows.v1.co', 'line_number': 14, 'line_text': 'bot refuse to respond', 'comment': None}}, {'_type': 'run_action', 'action_name': 'utter', 'action_params': {'value': 'stop'}, '_source_mapping': {'filename': 'flows.v1.co', 'line_number': 15, 'line_text': 'stop', 'comment': None}}], 'source_code': '$is_jailbreak = execute jailbreak_detection_heuristics\\nif $is_jailbreak\\n  if $config.enable_rails_exceptions\\n    create event JailbreakDetectionRailException(message=\"Jailbreak attempt detected. The user\\'s prompt was identified as an attempted jailbreak. Please ensure your prompt adheres to the guidelines.\")\\n  else\\n    bot refuse to respond\\n  stop', 'is_system_flow': True, 'is_subflow': True}, {'id': 'gotitai rag truthcheck', 'elements': [{'_type': 'meta', 'meta': {'subflow': True}}, {'_type': 'if', 'expression': '$check_facts == True', '_source_mapping': {'filename': 'flows.v1.co', 'line_number': 3, 'line_text': 'if $check_facts == True', 'comment': 'Guardrail based on the maximum risk score.'}, '_next_else': 9}, {'_type': 'set', 'key': 'check_facts', 'expression': 'False', '_source_mapping': {'filename': 'flows.v1.co', 'line_number': 4, 'line_text': '$check_facts = False', 'comment': None}}, {'_type': 'run_action', 'action_name': 'call gotitai truthchecker api', 'action_params': {}, 'action_result_key': 'result', '_source_mapping': {'filename': 'flows.v1.co', 'line_number': 6, 'line_text': '$result = execute call gotitai truthchecker api', 'comment': None}}, {'_type': 'if', 'expression': '$result.hallucination == \"yes\"', '_source_mapping': {'filename': 'flows.v1.co', 'line_number': 8, 'line_text': 'if $result.hallucination == \"yes\"', 'comment': None}, '_next_else': 6}, {'_type': 'if', 'expression': '$config.enable_rails_exceptions', '_source_mapping': {'filename': 'flows.v1.co', 'line_number': 9, 'line_text': 'if $config.enable_rails_exceptions', 'comment': None}, '_next_else': 3}, {'_type': 'run_action', 'action_name': 'create_event', 'action_params': {'event': {'_type': 'GotitaiHallucinationRailException', 'message': 'Hallucination detected. The previous answer may not be accurate'}}, '_source_mapping': {'filename': 'flows.v1.co', 'line_number': 10, 'line_text': 'create event GotitaiHallucinationRailException(message=\"Hallucination detected. The previous answer may not be accurate\")', 'comment': None}}, {'_type': 'jump', '_next': 2}, {'_type': 'run_action', 'action_name': 'utter', 'action_params': {'value': 'inform answer unknown'}, '_source_mapping': {'filename': 'flows.v1.co', 'line_number': 12, 'line_text': 'bot inform answer unknown', 'comment': None}}, {'_type': 'run_action', 'action_name': 'utter', 'action_params': {'value': 'stop'}, '_source_mapping': {'filename': 'flows.v1.co', 'line_number': 13, 'line_text': 'stop', 'comment': None}}], 'source_code': 'if $check_facts == True\\n  $check_facts = False\\n  $result = execute call gotitai truthchecker api\\n  if $result.hallucination == \"yes\"\\n    if $config.enable_rails_exceptions\\n      create event GotitaiHallucinationRailException(message=\"Hallucination detected. The previous answer may not be accurate\")\\n    else\\n      bot inform answer unknown\\n    stop', 'is_system_flow': True, 'is_subflow': True}, {'id': 'gcpnlp moderation', 'elements': [{'_type': 'meta', 'meta': {'subflow': True}}, {'_type': 'run_action', 'action_name': 'call gcpnlp api', 'action_params': {}, 'action_result_key': 'result', '_source_mapping': {'filename': 'flows.co', 'line_number': 30, 'line_text': '$result = execute call gcpnlp api', 'comment': 'Guardrail based on the maximum risk score.'}}, {'_type': 'if', 'expression': '$result.max_risk_score > 0.8', '_source_mapping': {'filename': 'flows.co', 'line_number': 32, 'line_text': 'if $result.max_risk_score > 0.8', 'comment': None}, '_next_else': 3}, {'_type': 'run_action', 'action_name': 'utter', 'action_params': {'value': 'refuse to respond'}, '_source_mapping': {'filename': 'flows.co', 'line_number': 33, 'line_text': 'bot refuse to respond', 'comment': None}}, {'_type': 'run_action', 'action_name': 'utter', 'action_params': {'value': 'stop'}, '_source_mapping': {'filename': 'flows.co', 'line_number': 34, 'line_text': 'stop', 'comment': None}}], 'source_code': '$result = execute call gcpnlp api\\nif $result.max_risk_score > 0.8\\n  bot refuse to respond\\n  stop', 'is_system_flow': True, 'is_subflow': True}, {'id': 'gcpnlp moderation detailed', 'elements': [{'_type': 'meta', 'meta': {'subflow': True}}, {'_type': 'run_action', 'action_name': 'call gcpnlp api', 'action_params': {}, 'action_result_key': 'result', '_source_mapping': {'filename': 'flows.co', 'line_number': 38, 'line_text': '$result = execute call gcpnlp api', 'comment': 'Guardrail based on individual risk scores.'}}, {'_type': 'if', 'expression': '$result.violations.get(\"Toxic\", 0) > 0.8', '_source_mapping': {'filename': 'flows.co', 'line_number': 40, 'line_text': 'if $result.violations.get(\"Toxic\", 0) > 0.8', 'comment': None}, '_next_else': 3}, {'_type': 'run_action', 'action_name': 'utter', 'action_params': {'value': 'inform cannot engage in abusive or harmful behavior'}, '_source_mapping': {'filename': 'flows.co', 'line_number': 41, 'line_text': 'bot inform cannot engage in abusive or harmful behavior', 'comment': None}}, {'_type': 'run_action', 'action_name': 'utter', 'action_params': {'value': 'stop'}, '_source_mapping': {'filename': 'flows.co', 'line_number': 42, 'line_text': 'stop', 'comment': None}}, {'_type': 'if', 'expression': '$result.violations.get(\"Insult\", 0) > 0.7', '_source_mapping': {'filename': 'flows.co', 'line_number': 44, 'line_text': 'if $result.violations.get(\"Insult\", 0) > 0.7', 'comment': None}, '_next_else': 3}, {'_type': 'run_action', 'action_name': 'utter', 'action_params': {'value': 'inform cannot engage in abusive or harmful behavior'}, '_source_mapping': {'filename': 'flows.co', 'line_number': 45, 'line_text': 'bot inform cannot engage in abusive or harmful behavior', 'comment': None}}, {'_type': 'run_action', 'action_name': 'utter', 'action_params': {'value': 'stop'}, '_source_mapping': {'filename': 'flows.co', 'line_number': 46, 'line_text': 'stop', 'comment': None}}, {'_type': 'if', 'expression': '$result.violations.get(\"Profanity\", 0) > 0.6', '_source_mapping': {'filename': 'flows.co', 'line_number': 48, 'line_text': 'if $result.violations.get(\"Profanity\", 0) > 0.6', 'comment': None}, '_next_else': 3}, {'_type': 'run_action', 'action_name': 'utter', 'action_params': {'value': 'inform cannot engage in abusive or harmful behavior'}, '_source_mapping': {'filename': 'flows.co', 'line_number': 49, 'line_text': 'bot inform cannot engage in abusive or harmful behavior', 'comment': None}}, {'_type': 'run_action', 'action_name': 'utter', 'action_params': {'value': 'stop'}, '_source_mapping': {'filename': 'flows.co', 'line_number': 50, 'line_text': 'stop', 'comment': None}}, {'_type': 'if', 'expression': '$result.violations.get(\"Derogatory\", 0) > 0.4', '_source_mapping': {'filename': 'flows.co', 'line_number': 52, 'line_text': 'if $result.violations.get(\"Derogatory\", 0) > 0.4', 'comment': None}, '_next_else': 3}, {'_type': 'run_action', 'action_name': 'utter', 'action_params': {'value': 'inform cannot engage in abusive or harmful behavior'}, '_source_mapping': {'filename': 'flows.co', 'line_number': 53, 'line_text': 'bot inform cannot engage in abusive or harmful behavior', 'comment': None}}, {'_type': 'run_action', 'action_name': 'utter', 'action_params': {'value': 'stop'}, '_source_mapping': {'filename': 'flows.co', 'line_number': 54, 'line_text': 'stop', 'comment': None}}, {'_type': 'if', 'expression': '$result.violations.get(\"Violent\", 0) > 0.8', '_source_mapping': {'filename': 'flows.co', 'line_number': 56, 'line_text': 'if $result.violations.get(\"Violent\", 0) > 0.8', 'comment': None}, '_next_else': 3}, {'_type': 'run_action', 'action_name': 'utter', 'action_params': {'value': 'inform cannot engage in abusive or harmful behavior'}, '_source_mapping': {'filename': 'flows.co', 'line_number': 57, 'line_text': 'bot inform cannot engage in abusive or harmful behavior', 'comment': None}}, {'_type': 'run_action', 'action_name': 'utter', 'action_params': {'value': 'stop'}, '_source_mapping': {'filename': 'flows.co', 'line_number': 58, 'line_text': 'stop', 'comment': None}}, {'_type': 'if', 'expression': '$result.violations.get(\"Sexual\", 0) > 0.7', '_source_mapping': {'filename': 'flows.co', 'line_number': 60, 'line_text': 'if $result.violations.get(\"Sexual\", 0) > 0.7', 'comment': None}, '_next_else': 3}, {'_type': 'run_action', 'action_name': 'utter', 'action_params': {'value': 'inform cannot engage in inappropriate content'}, '_source_mapping': {'filename': 'flows.co', 'line_number': 61, 'line_text': 'bot inform cannot engage in inappropriate content', 'comment': None}}, {'_type': 'run_action', 'action_name': 'utter', 'action_params': {'value': 'stop'}, '_source_mapping': {'filename': 'flows.co', 'line_number': 62, 'line_text': 'stop', 'comment': None}}, {'_type': 'if', 'expression': '$result.violations.get(\"Death, Harm & Tragedy\", 0) > 0.8', '_source_mapping': {'filename': 'flows.co', 'line_number': 64, 'line_text': 'if $result.violations.get(\"Death, Harm & Tragedy\", 0) > 0.8', 'comment': None}, '_next_else': 3}, {'_type': 'run_action', 'action_name': 'utter', 'action_params': {'value': 'inform cannot engage in inappropriate content'}, '_source_mapping': {'filename': 'flows.co', 'line_number': 65, 'line_text': 'bot inform cannot engage in inappropriate content', 'comment': None}}, {'_type': 'run_action', 'action_name': 'utter', 'action_params': {'value': 'stop'}, '_source_mapping': {'filename': 'flows.co', 'line_number': 66, 'line_text': 'stop', 'comment': None}}, {'_type': 'if', 'expression': '$result.violations.get(\"Firearms & Weapons\", 0) > 0.8', '_source_mapping': {'filename': 'flows.co', 'line_number': 68, 'line_text': 'if $result.violations.get(\"Firearms & Weapons\", 0) > 0.8', 'comment': None}, '_next_else': 3}, {'_type': 'run_action', 'action_name': 'utter', 'action_params': {'value': 'inform cannot engage in inappropriate content'}, '_source_mapping': {'filename': 'flows.co', 'line_number': 69, 'line_text': 'bot inform cannot engage in inappropriate content', 'comment': None}}, {'_type': 'run_action', 'action_name': 'utter', 'action_params': {'value': 'stop'}, '_source_mapping': {'filename': 'flows.co', 'line_number': 70, 'line_text': 'stop', 'comment': None}}, {'_type': 'if', 'expression': '$result.violations.get(\"Illicit Drugs\", 0) > 0.8', '_source_mapping': {'filename': 'flows.co', 'line_number': 72, 'line_text': 'if $result.violations.get(\"Illicit Drugs\", 0) > 0.8', 'comment': None}, '_next_else': 3}, {'_type': 'run_action', 'action_name': 'utter', 'action_params': {'value': 'inform cannot engage with sensitive content'}, '_source_mapping': {'filename': 'flows.co', 'line_number': 73, 'line_text': 'bot inform cannot engage with sensitive content', 'comment': None}}, {'_type': 'run_action', 'action_name': 'utter', 'action_params': {'value': 'stop'}, '_source_mapping': {'filename': 'flows.co', 'line_number': 74, 'line_text': 'stop', 'comment': None}}, {'_type': 'if', 'expression': '$result.violations.get(\"Public Safety\", 0) > 0.8', '_source_mapping': {'filename': 'flows.co', 'line_number': 76, 'line_text': 'if $result.violations.get(\"Public Safety\", 0) > 0.8', 'comment': None}, '_next_else': 3}, {'_type': 'run_action', 'action_name': 'utter', 'action_params': {'value': 'inform cannot engage with sensitive content'}, '_source_mapping': {'filename': 'flows.co', 'line_number': 77, 'line_text': 'bot inform cannot engage with sensitive content', 'comment': None}}, {'_type': 'run_action', 'action_name': 'utter', 'action_params': {'value': 'stop'}, '_source_mapping': {'filename': 'flows.co', 'line_number': 78, 'line_text': 'stop', 'comment': None}}, {'_type': 'if', 'expression': '$result.violations.get(\"Health\", 0) > 0.8', '_source_mapping': {'filename': 'flows.co', 'line_number': 80, 'line_text': 'if $result.violations.get(\"Health\", 0) > 0.8', 'comment': None}, '_next_else': 3}, {'_type': 'run_action', 'action_name': 'utter', 'action_params': {'value': 'inform cannot engage with sensitive content'}, '_source_mapping': {'filename': 'flows.co', 'line_number': 81, 'line_text': 'bot inform cannot engage with sensitive content', 'comment': None}}, {'_type': 'run_action', 'action_name': 'utter', 'action_params': {'value': 'stop'}, '_source_mapping': {'filename': 'flows.co', 'line_number': 82, 'line_text': 'stop', 'comment': None}}, {'_type': 'if', 'expression': '$result.violations.get(\"Religion & Belief\", 0) > 0.8', '_source_mapping': {'filename': 'flows.co', 'line_number': 84, 'line_text': 'if $result.violations.get(\"Religion & Belief\", 0) > 0.8', 'comment': None}, '_next_else': 3}, {'_type': 'run_action', 'action_name': 'utter', 'action_params': {'value': 'inform cannot engage with sensitive content'}, '_source_mapping': {'filename': 'flows.co', 'line_number': 85, 'line_text': 'bot inform cannot engage with sensitive content', 'comment': None}}, {'_type': 'run_action', 'action_name': 'utter', 'action_params': {'value': 'stop'}, '_source_mapping': {'filename': 'flows.co', 'line_number': 86, 'line_text': 'stop', 'comment': None}}, {'_type': 'if', 'expression': '$result.violations.get(\"War & Conflict\", 0) > 0.8', '_source_mapping': {'filename': 'flows.co', 'line_number': 88, 'line_text': 'if $result.violations.get(\"War & Conflict\", 0) > 0.8', 'comment': None}, '_next_else': 3}, {'_type': 'run_action', 'action_name': 'utter', 'action_params': {'value': 'inform cannot engage with sensitive content'}, '_source_mapping': {'filename': 'flows.co', 'line_number': 89, 'line_text': 'bot inform cannot engage with sensitive content', 'comment': None}}, {'_type': 'run_action', 'action_name': 'utter', 'action_params': {'value': 'stop'}, '_source_mapping': {'filename': 'flows.co', 'line_number': 90, 'line_text': 'stop', 'comment': None}}, {'_type': 'if', 'expression': '$result.violations.get(\"Politics\", 0) > 0.8', '_source_mapping': {'filename': 'flows.co', 'line_number': 92, 'line_text': 'if $result.violations.get(\"Politics\", 0) > 0.8', 'comment': None}, '_next_else': 3}, {'_type': 'run_action', 'action_name': 'utter', 'action_params': {'value': 'inform cannot engage with sensitive content'}, '_source_mapping': {'filename': 'flows.co', 'line_number': 93, 'line_text': 'bot inform cannot engage with sensitive content', 'comment': None}}, {'_type': 'run_action', 'action_name': 'utter', 'action_params': {'value': 'stop'}, '_source_mapping': {'filename': 'flows.co', 'line_number': 94, 'line_text': 'stop', 'comment': None}}, {'_type': 'if', 'expression': '$result.violations.get(\"Finance\", 0) > 0.8', '_source_mapping': {'filename': 'flows.co', 'line_number': 96, 'line_text': 'if $result.violations.get(\"Finance\", 0) > 0.8', 'comment': None}, '_next_else': 3}, {'_type': 'run_action', 'action_name': 'utter', 'action_params': {'value': 'inform cannot engage with sensitive content'}, '_source_mapping': {'filename': 'flows.co', 'line_number': 97, 'line_text': 'bot inform cannot engage with sensitive content', 'comment': None}}, {'_type': 'run_action', 'action_name': 'utter', 'action_params': {'value': 'stop'}, '_source_mapping': {'filename': 'flows.co', 'line_number': 98, 'line_text': 'stop', 'comment': None}}, {'_type': 'if', 'expression': '$result.violations.get(\"Legal\", 0) > 0.8', '_source_mapping': {'filename': 'flows.co', 'line_number': 100, 'line_text': 'if $result.violations.get(\"Legal\", 0) > 0.8', 'comment': None}, '_next_else': 3}, {'_type': 'run_action', 'action_name': 'utter', 'action_params': {'value': 'inform cannot engage with sensitive content'}, '_source_mapping': {'filename': 'flows.co', 'line_number': 101, 'line_text': 'bot inform cannot engage with sensitive content', 'comment': None}}, {'_type': 'run_action', 'action_name': 'utter', 'action_params': {'value': 'stop'}, '_source_mapping': {'filename': 'flows.co', 'line_number': 102, 'line_text': 'stop', 'comment': None}}], 'source_code': '$result = execute call gcpnlp api\\nif $result.violations.get(\"Toxic\", 0) > 0.8\\n  bot inform cannot engage in abusive or harmful behavior\\n  stop\\nif $result.violations.get(\"Insult\", 0) > 0.7\\n  bot inform cannot engage in abusive or harmful behavior\\n  stop\\nif $result.violations.get(\"Profanity\", 0) > 0.6\\n  bot inform cannot engage in abusive or harmful behavior\\n  stop\\nif $result.violations.get(\"Derogatory\", 0) > 0.4\\n  bot inform cannot engage in abusive or harmful behavior\\n  stop\\nif $result.violations.get(\"Violent\", 0) > 0.8\\n  bot inform cannot engage in abusive or harmful behavior\\n  stop\\nif $result.violations.get(\"Sexual\", 0) > 0.7\\n  bot inform cannot engage in inappropriate content\\n  stop\\nif $result.violations.get(\"Death, Harm & Tragedy\", 0) > 0.8\\n  bot inform cannot engage in inappropriate content\\n  stop\\nif $result.violations.get(\"Firearms & Weapons\", 0) > 0.8\\n  bot inform cannot engage in inappropriate content\\n  stop\\nif $result.violations.get(\"Illicit Drugs\", 0) > 0.8\\n  bot inform cannot engage with sensitive content\\n  stop\\nif $result.violations.get(\"Public Safety\", 0) > 0.8\\n  bot inform cannot engage with sensitive content\\n  stop\\nif $result.violations.get(\"Health\", 0) > 0.8\\n  bot inform cannot engage with sensitive content\\n  stop\\nif $result.violations.get(\"Religion & Belief\", 0) > 0.8\\n  bot inform cannot engage with sensitive content\\n  stop\\nif $result.violations.get(\"War & Conflict\", 0) > 0.8\\n  bot inform cannot engage with sensitive content\\n  stop\\nif $result.violations.get(\"Politics\", 0) > 0.8\\n  bot inform cannot engage with sensitive content\\n  stop\\nif $result.violations.get(\"Finance\", 0) > 0.8\\n  bot inform cannot engage with sensitive content\\n  stop\\nif $result.violations.get(\"Legal\", 0) > 0.8\\n  bot inform cannot engage with sensitive content\\n  stop', 'is_system_flow': True, 'is_subflow': True}, {'id': 'self check input', 'elements': [{'_type': 'run_action', 'action_name': 'self_check_input', 'action_params': {}, 'action_result_key': 'allowed', '_source_mapping': {'filename': 'flows.v1.co', 'line_number': 5, 'line_text': '$allowed = execute self_check_input', 'comment': None}}, {'_type': 'if', 'expression': 'not $allowed', '_source_mapping': {'filename': 'flows.v1.co', 'line_number': 7, 'line_text': 'if not $allowed', 'comment': None}, '_next_else': 6}, {'_type': 'if', 'expression': '$config.enable_rails_exceptions', '_source_mapping': {'filename': 'flows.v1.co', 'line_number': 8, 'line_text': 'if $config.enable_rails_exceptions', 'comment': None}, '_next_else': 3}, {'_type': 'run_action', 'action_name': 'create_event', 'action_params': {'event': {'_type': 'InputRailException', 'message': \"Input not allowed. The input was blocked by the 'self check input' flow.\"}}, '_source_mapping': {'filename': 'flows.v1.co', 'line_number': 9, 'line_text': 'create event InputRailException(message=\"Input not allowed. The input was blocked by the \\'self check input\\' flow.\")', 'comment': None}}, {'_type': 'jump', '_next': 2}, {'_type': 'run_action', 'action_name': 'utter', 'action_params': {'value': 'refuse to respond'}, '_source_mapping': {'filename': 'flows.v1.co', 'line_number': 11, 'line_text': 'bot refuse to respond', 'comment': None}}, {'_type': 'run_action', 'action_name': 'utter', 'action_params': {'value': 'stop'}, '_source_mapping': {'filename': 'flows.v1.co', 'line_number': 12, 'line_text': 'stop', 'comment': None}}], 'source_code': '$allowed = execute self_check_input\\nif not $allowed\\n  if $config.enable_rails_exceptions\\n    create event InputRailException(message=\"Input not allowed. The input was blocked by the \\'self check input\\' flow.\")\\n  else\\n    bot refuse to respond\\n  stop', 'is_system_flow': True}, {'id': 'self check facts', 'elements': [{'_type': 'meta', 'meta': {'subflow': True}}, {'_type': 'if', 'expression': '$check_facts == True', '_source_mapping': {'filename': 'flows.v1.co', 'line_number': 10, 'line_text': 'if $check_facts == True', 'comment': 'Check if the previous answer is accurate w.r.t. the relevant chunks.\\nThis output rail must be enabled explicitly per output message by setting\\nthe $check_facts context variable to True.\\n'}, '_next_else': 9}, {'_type': 'set', 'key': 'check_facts', 'expression': 'False', '_source_mapping': {'filename': 'flows.v1.co', 'line_number': 11, 'line_text': '$check_facts = False', 'comment': None}}, {'_type': 'run_action', 'action_name': 'self_check_facts', 'action_params': {}, 'action_result_key': 'accuracy', '_source_mapping': {'filename': 'flows.v1.co', 'line_number': 13, 'line_text': '$accuracy = execute self_check_facts', 'comment': None}}, {'_type': 'if', 'expression': '$accuracy < 0.5', '_source_mapping': {'filename': 'flows.v1.co', 'line_number': 14, 'line_text': 'if $accuracy < 0.5', 'comment': None}, '_next_else': 6}, {'_type': 'if', 'expression': '$config.enable_rails_exceptions', '_source_mapping': {'filename': 'flows.v1.co', 'line_number': 15, 'line_text': 'if $config.enable_rails_exceptions', 'comment': None}, '_next_else': 3}, {'_type': 'run_action', 'action_name': 'create_event', 'action_params': {'event': {'_type': 'FactCheckRailException', 'message': 'Fact check failed. The accuracy of the previous answer was below the required threshold.'}}, '_source_mapping': {'filename': 'flows.v1.co', 'line_number': 16, 'line_text': 'create event FactCheckRailException(message=\"Fact check failed. The accuracy of the previous answer was below the required threshold.\")', 'comment': None}}, {'_type': 'jump', '_next': 2}, {'_type': 'run_action', 'action_name': 'utter', 'action_params': {'value': 'refuse to respond'}, '_source_mapping': {'filename': 'flows.v1.co', 'line_number': 18, 'line_text': 'bot refuse to respond', 'comment': None}}, {'_type': 'run_action', 'action_name': 'utter', 'action_params': {'value': 'stop'}, '_source_mapping': {'filename': 'flows.v1.co', 'line_number': 19, 'line_text': 'stop', 'comment': None}}], 'source_code': 'if $check_facts == True\\n  $check_facts = False\\n  $accuracy = execute self_check_facts\\n  if $accuracy < 0.5\\n    if $config.enable_rails_exceptions\\n      create event FactCheckRailException(message=\"Fact check failed. The accuracy of the previous answer was below the required threshold.\")\\n    else\\n      bot refuse to respond\\n    stop', 'is_system_flow': True, 'is_subflow': True}, {'id': 'self check output', 'elements': [{'_type': 'run_action', 'action_name': 'self_check_output', 'action_params': {}, 'action_result_key': 'allowed', '_source_mapping': {'filename': 'flows.v1.co', 'line_number': 5, 'line_text': '$allowed = execute self_check_output', 'comment': None}}, {'_type': 'if', 'expression': 'not $allowed', '_source_mapping': {'filename': 'flows.v1.co', 'line_number': 7, 'line_text': 'if not $allowed', 'comment': None}, '_next_else': 6}, {'_type': 'if', 'expression': '$config.enable_rails_exceptions', '_source_mapping': {'filename': 'flows.v1.co', 'line_number': 8, 'line_text': 'if $config.enable_rails_exceptions', 'comment': None}, '_next_else': 3}, {'_type': 'run_action', 'action_name': 'create_event', 'action_params': {'event': {'_type': 'OutputRailException', 'message': \"Output not allowed. The output was blocked by the 'self check output' flow.\"}}, '_source_mapping': {'filename': 'flows.v1.co', 'line_number': 9, 'line_text': 'create event OutputRailException(message=\"Output not allowed. The output was blocked by the \\'self check output\\' flow.\")', 'comment': None}}, {'_type': 'jump', '_next': 3}, {'_type': 'run_action', 'action_name': 'utter', 'action_params': {'value': 'refuse to respond'}, '_source_mapping': {'filename': 'flows.v1.co', 'line_number': 11, 'line_text': 'bot refuse to respond', 'comment': None}}, {'_type': 'run_action', 'action_name': 'utter', 'action_params': {'value': 'stop'}, '_source_mapping': {'filename': 'flows.v1.co', 'line_number': 12, 'line_text': 'stop', 'comment': None}}], 'source_code': '$allowed = execute self_check_output\\nif not $allowed\\n  if $config.enable_rails_exceptions\\n    create event OutputRailException(message=\"Output not allowed. The output was blocked by the \\'self check output\\' flow.\")\\n  else\\n    bot refuse to respond\\n    stop', 'is_system_flow': True}, {'id': 'patronus lynx check output hallucination', 'elements': [{'_type': 'run_action', 'action_name': 'patronus_lynx_check_output_hallucination', 'action_params': {}, 'action_result_key': 'patronus_lynx_response', '_source_mapping': {'filename': 'flows.v1.co', 'line_number': 5, 'line_text': '$patronus_lynx_response = execute patronus_lynx_check_output_hallucination', 'comment': None}}, {'_type': 'set', 'key': 'hallucination', 'expression': '$patronus_lynx_response[\"hallucination\"]', '_source_mapping': {'filename': 'flows.v1.co', 'line_number': 6, 'line_text': '$hallucination = $patronus_lynx_response[\"hallucination\"]', 'comment': None}}, {'_type': 'set', 'key': 'reasoning', 'expression': '$patronus_lynx_response[\"reasoning\"]', '_source_mapping': {'filename': 'flows.v1.co', 'line_number': 8, 'line_text': '$reasoning = $patronus_lynx_response[\"reasoning\"]', 'comment': 'The Reasoning trace is currently unused, but can be used to modify the bot output'}}, {'_type': 'if', 'expression': '$hallucination', '_source_mapping': {'filename': 'flows.v1.co', 'line_number': 10, 'line_text': 'if $hallucination', 'comment': None}, '_next_else': 6}, {'_type': 'if', 'expression': '$config.enable_rails_exceptions', '_source_mapping': {'filename': 'flows.v1.co', 'line_number': 11, 'line_text': 'if $config.enable_rails_exceptions', 'comment': None}, '_next_else': 3}, {'_type': 'run_action', 'action_name': 'create_event', 'action_params': {'event': {'_type': 'PatronusAIHallucinationException', 'message': 'Hallucination detected. The previous answer may not be accurate'}}, '_source_mapping': {'filename': 'flows.v1.co', 'line_number': 12, 'line_text': 'create event PatronusAIHallucinationException(message=\"Hallucination detected. The previous answer may not be accurate\")', 'comment': None}}, {'_type': 'jump', '_next': 2}, {'_type': 'run_action', 'action_name': 'utter', 'action_params': {'value': 'inform answer unknown'}, '_source_mapping': {'filename': 'flows.v1.co', 'line_number': 14, 'line_text': 'bot inform answer unknown', 'comment': None}}, {'_type': 'run_action', 'action_name': 'utter', 'action_params': {'value': 'stop'}, '_source_mapping': {'filename': 'flows.v1.co', 'line_number': 15, 'line_text': 'stop', 'comment': None}}], 'source_code': '$patronus_lynx_response = execute patronus_lynx_check_output_hallucination\\n$hallucination = $patronus_lynx_response[\"hallucination\"]\\n# The Reasoning trace is currently unused, but can be used to modify the bot output\\n$reasoning = $patronus_lynx_response[\"reasoning\"]\\nif $hallucination\\n  if $config.enable_rails_exceptions\\n    create event PatronusAIHallucinationException(message=\"Hallucination detected. The previous answer may not be accurate\")\\n  else\\n    bot inform answer unknown\\n  stop', 'is_system_flow': True}, {'id': 'detect sensitive data on input', 'elements': [{'_type': 'meta', 'meta': {'subflow': True}}, {'_type': 'run_action', 'action_name': 'detect_sensitive_data', 'action_params': {'source': 'input', 'text': '$user_message'}, 'action_result_key': 'has_sensitive_data', '_source_mapping': {'filename': 'flows.v1.co', 'line_number': 5, 'line_text': '$has_sensitive_data = execute detect_sensitive_data(source=\"input\", text=$user_message)', 'comment': 'Check if the user input has any sensitive data.'}}, {'_type': 'if', 'expression': '$has_sensitive_data', '_source_mapping': {'filename': 'flows.v1.co', 'line_number': 7, 'line_text': 'if $has_sensitive_data', 'comment': None}, '_next_else': 3}, {'_type': 'run_action', 'action_name': 'utter', 'action_params': {'value': 'inform answer unknown'}, '_source_mapping': {'filename': 'flows.v1.co', 'line_number': 8, 'line_text': 'bot inform answer unknown', 'comment': None}}, {'_type': 'run_action', 'action_name': 'utter', 'action_params': {'value': 'stop'}, '_source_mapping': {'filename': 'flows.v1.co', 'line_number': 9, 'line_text': 'stop', 'comment': None}}], 'source_code': '$has_sensitive_data = execute detect_sensitive_data(source=\"input\", text=$user_message)\\nif $has_sensitive_data\\n  bot inform answer unknown\\n  stop', 'is_system_flow': True, 'is_subflow': True}, {'id': 'mask sensitive data on input', 'elements': [{'_type': 'meta', 'meta': {'subflow': True}}, {'_type': 'run_action', 'action_name': 'mask_sensitive_data', 'action_params': {'source': 'input', 'text': '$user_message'}, 'action_result_key': 'user_message', '_source_mapping': {'filename': 'flows.v1.co', 'line_number': 14, 'line_text': '$user_message = execute mask_sensitive_data(source=\"input\", text=$user_message)', 'comment': 'Mask any sensitive data found in the user input.'}}], 'source_code': '$user_message = execute mask_sensitive_data(source=\"input\", text=$user_message)', 'is_system_flow': True, 'is_subflow': True}, {'id': 'detect sensitive data on output', 'elements': [{'_type': 'meta', 'meta': {'subflow': True}}, {'_type': 'run_action', 'action_name': 'detect_sensitive_data', 'action_params': {'source': 'output', 'text': '$bot_message'}, 'action_result_key': 'has_sensitive_data', '_source_mapping': {'filename': 'flows.v1.co', 'line_number': 22, 'line_text': '$has_sensitive_data = execute detect_sensitive_data(source=\"output\", text=$bot_message)', 'comment': 'Check if the bot output has any sensitive data.'}}, {'_type': 'if', 'expression': '$has_sensitive_data', '_source_mapping': {'filename': 'flows.v1.co', 'line_number': 24, 'line_text': 'if $has_sensitive_data', 'comment': None}, '_next_else': 3}, {'_type': 'run_action', 'action_name': 'utter', 'action_params': {'value': 'inform answer unknown'}, '_source_mapping': {'filename': 'flows.v1.co', 'line_number': 25, 'line_text': 'bot inform answer unknown', 'comment': None}}, {'_type': 'run_action', 'action_name': 'utter', 'action_params': {'value': 'stop'}, '_source_mapping': {'filename': 'flows.v1.co', 'line_number': 26, 'line_text': 'stop', 'comment': None}}], 'source_code': '$has_sensitive_data = execute detect_sensitive_data(source=\"output\", text=$bot_message)\\nif $has_sensitive_data\\n  bot inform answer unknown\\n  stop', 'is_system_flow': True, 'is_subflow': True}, {'id': 'mask sensitive data on output', 'elements': [{'_type': 'meta', 'meta': {'subflow': True}}, {'_type': 'run_action', 'action_name': 'mask_sensitive_data', 'action_params': {'source': 'output', 'text': '$bot_message'}, 'action_result_key': 'bot_message', '_source_mapping': {'filename': 'flows.v1.co', 'line_number': 31, 'line_text': '$bot_message = execute mask_sensitive_data(source=\"output\", text=$bot_message)', 'comment': 'Mask any sensitive data found in the bot output.'}}], 'source_code': '$bot_message = execute mask_sensitive_data(source=\"output\", text=$bot_message)', 'is_system_flow': True, 'is_subflow': True}, {'id': 'detect sensitive data on retrieval', 'elements': [{'_type': 'meta', 'meta': {'subflow': True}}, {'_type': 'run_action', 'action_name': 'detect_sensitive_data', 'action_params': {'source': 'retrieval', 'text': '$relevant_chunks'}, 'action_result_key': 'has_sensitive_data', '_source_mapping': {'filename': 'flows.v1.co', 'line_number': 39, 'line_text': '$has_sensitive_data = execute detect_sensitive_data(source=\"retrieval\", text=$relevant_chunks)', 'comment': 'Check if the relevant chunks from the knowledge base have any sensitive data.'}}, {'_type': 'if', 'expression': '$has_sensitive_data', '_source_mapping': {'filename': 'flows.v1.co', 'line_number': 41, 'line_text': 'if $has_sensitive_data', 'comment': None}, '_next_else': 3}, {'_type': 'run_action', 'action_name': 'utter', 'action_params': {'value': 'inform answer unknown'}, '_source_mapping': {'filename': 'flows.v1.co', 'line_number': 42, 'line_text': 'bot inform answer unknown', 'comment': None}}, {'_type': 'run_action', 'action_name': 'utter', 'action_params': {'value': 'stop'}, '_source_mapping': {'filename': 'flows.v1.co', 'line_number': 43, 'line_text': 'stop', 'comment': None}}], 'source_code': '$has_sensitive_data = execute detect_sensitive_data(source=\"retrieval\", text=$relevant_chunks)\\nif $has_sensitive_data\\n  bot inform answer unknown\\n  stop', 'is_system_flow': True, 'is_subflow': True}, {'id': 'mask sensitive data on retrieval', 'elements': [{'_type': 'meta', 'meta': {'subflow': True}}, {'_type': 'run_action', 'action_name': 'mask_sensitive_data', 'action_params': {'source': 'retrieval', 'text': '$relevant_chunks'}, 'action_result_key': 'relevant_chunks', '_source_mapping': {'filename': 'flows.v1.co', 'line_number': 48, 'line_text': '$relevant_chunks = execute mask_sensitive_data(source=\"retrieval\", text=$relevant_chunks)', 'comment': 'Mask any sensitive data found in the relevant chunks from the knowledge base.'}}], 'source_code': '$relevant_chunks = execute mask_sensitive_data(source=\"retrieval\", text=$relevant_chunks)', 'is_system_flow': True, 'is_subflow': True}, {'id': 'content safety check input', 'elements': [{'_type': 'run_action', 'action_name': 'content_safety_check_input', 'action_params': {}, 'action_result_key': 'response', '_source_mapping': {'filename': 'flows.v1.co', 'line_number': 7, 'line_text': '$response = execute content_safety_check_input', 'comment': None}}, {'_type': 'set', 'key': 'allowed', 'expression': '$response[\"allowed\"]', '_source_mapping': {'filename': 'flows.v1.co', 'line_number': 9, 'line_text': '$allowed = $response[\"allowed\"]', 'comment': None}}, {'_type': 'set', 'key': 'policy_violations', 'expression': '$response[\"policy_violations\"]', '_source_mapping': {'filename': 'flows.v1.co', 'line_number': 11, 'line_text': '$policy_violations = $response[\"policy_violations\"]', 'comment': 'Policy violations are currently unused, but can be used to better phrase the bot output'}}, {'_type': 'if', 'expression': 'not $allowed', '_source_mapping': {'filename': 'flows.v1.co', 'line_number': 13, 'line_text': 'if not $allowed', 'comment': None}, '_next_else': 6}, {'_type': 'if', 'expression': '$config.enable_rails_exceptions', '_source_mapping': {'filename': 'flows.v1.co', 'line_number': 14, 'line_text': 'if $config.enable_rails_exceptions', 'comment': None}, '_next_else': 3}, {'_type': 'run_action', 'action_name': 'create_event', 'action_params': {'event': {'_type': 'ContentSafetyCheckInputException', 'message': \"Input not allowed. The input was blocked by the 'content safety check input $model='{$model}'' flow.\"}}, '_source_mapping': {'filename': 'flows.v1.co', 'line_number': 15, 'line_text': 'create event ContentSafetyCheckInputException(message=\"Input not allowed. The input was blocked by the \\'content safety check input $model=\\'{$model}\\'\\' flow.\")', 'comment': None}}, {'_type': 'jump', '_next': 2}, {'_type': 'run_action', 'action_name': 'utter', 'action_params': {'value': 'refuse to respond'}, '_source_mapping': {'filename': 'flows.v1.co', 'line_number': 17, 'line_text': 'bot refuse to respond', 'comment': None}}, {'_type': 'run_action', 'action_name': 'utter', 'action_params': {'value': 'stop'}, '_source_mapping': {'filename': 'flows.v1.co', 'line_number': 18, 'line_text': 'stop', 'comment': None}}], 'source_code': '$response = execute content_safety_check_input\\n$allowed = $response[\"allowed\"]\\n# Policy violations are currently unused, but can be used to better phrase the bot output\\n$policy_violations = $response[\"policy_violations\"]\\nif not $allowed\\n  if $config.enable_rails_exceptions\\n    create event ContentSafetyCheckInputException(message=\"Input not allowed. The input was blocked by the \\'content safety check input $model=\\'{$model}\\'\\' flow.\")\\n  else\\n    bot refuse to respond\\n  stop', 'is_system_flow': True}, {'id': 'content safety check output', 'elements': [{'_type': 'run_action', 'action_name': 'content_safety_check_output', 'action_params': {}, 'action_result_key': 'response', '_source_mapping': {'filename': 'flows.v1.co', 'line_number': 21, 'line_text': '$response = execute content_safety_check_output', 'comment': None}}, {'_type': 'set', 'key': 'allowed', 'expression': '$response[\"allowed\"]', '_source_mapping': {'filename': 'flows.v1.co', 'line_number': 22, 'line_text': '$allowed = $response[\"allowed\"]', 'comment': None}}, {'_type': 'set', 'key': 'policy_violations', 'expression': '$response[\"policy_violations\"]', '_source_mapping': {'filename': 'flows.v1.co', 'line_number': 23, 'line_text': '$policy_violations = $response[\"policy_violations\"]', 'comment': None}}, {'_type': 'if', 'expression': 'not $allowed', '_source_mapping': {'filename': 'flows.v1.co', 'line_number': 25, 'line_text': 'if not $allowed', 'comment': None}, '_next_else': 6}, {'_type': 'if', 'expression': '$config.enable_rails_exceptions', '_source_mapping': {'filename': 'flows.v1.co', 'line_number': 26, 'line_text': 'if $config.enable_rails_exceptions', 'comment': None}, '_next_else': 3}, {'_type': 'run_action', 'action_name': 'create_event', 'action_params': {'event': {'_type': 'ContentSafetyCheckOuputException', 'message': \"Output not allowed. The output was blocked by the 'content safety check output $model='{$model}'' flow.\"}}, '_source_mapping': {'filename': 'flows.v1.co', 'line_number': 27, 'line_text': 'create event ContentSafetyCheckOuputException(message=\"Output not allowed. The output was blocked by the \\'content safety check output $model=\\'{$model}\\'\\' flow.\")', 'comment': None}}, {'_type': 'jump', '_next': 2}, {'_type': 'run_action', 'action_name': 'utter', 'action_params': {'value': 'refuse to respond'}, '_source_mapping': {'filename': 'flows.v1.co', 'line_number': 29, 'line_text': 'bot refuse to respond', 'comment': None}}, {'_type': 'run_action', 'action_name': 'utter', 'action_params': {'value': 'stop'}, '_source_mapping': {'filename': 'flows.v1.co', 'line_number': 30, 'line_text': 'stop', 'comment': None}}], 'source_code': '$response = execute content_safety_check_output\\n$allowed = $response[\"allowed\"]\\n$policy_violations = $response[\"policy_violations\"]\\nif not $allowed\\n  if $config.enable_rails_exceptions\\n    create event ContentSafetyCheckOuputException(message=\"Output not allowed. The output was blocked by the \\'content safety check output $model=\\'{$model}\\'\\' flow.\")\\n  else\\n    bot refuse to respond\\n  stop', 'is_system_flow': True}, {'id': 'activefence moderation', 'elements': [{'_type': 'meta', 'meta': {'subflow': True}}, {'_type': 'run_action', 'action_name': 'call activefence api', 'action_params': {}, 'action_result_key': 'result', '_source_mapping': {'filename': 'flows.v1.co', 'line_number': 18, 'line_text': '$result = execute call activefence api', 'comment': 'Guardrail based on the maximum risk score.'}}, {'_type': 'if', 'expression': '$result.max_risk_score > 0.7', '_source_mapping': {'filename': 'flows.v1.co', 'line_number': 20, 'line_text': 'if $result.max_risk_score > 0.7', 'comment': None}, '_next_else': 6}, {'_type': 'if', 'expression': '$config.enable_rails_exceptions', '_source_mapping': {'filename': 'flows.v1.co', 'line_number': 21, 'line_text': 'if $config.enable_rails_exceptions', 'comment': None}, '_next_else': 3}, {'_type': 'run_action', 'action_name': 'create_event', 'action_params': {'event': {'_type': 'ActiveFenceModerationRailException', 'message': 'ActiveFence moderation triggered. The maximum risk score exceeded the threshold.'}}, '_source_mapping': {'filename': 'flows.v1.co', 'line_number': 22, 'line_text': 'create event ActiveFenceModerationRailException(message=\"ActiveFence moderation triggered. The maximum risk score exceeded the threshold.\")', 'comment': None}}, {'_type': 'jump', '_next': 2}, {'_type': 'run_action', 'action_name': 'utter', 'action_params': {'value': 'refuse to respond'}, '_source_mapping': {'filename': 'flows.v1.co', 'line_number': 24, 'line_text': 'bot refuse to respond', 'comment': None}}, {'_type': 'run_action', 'action_name': 'utter', 'action_params': {'value': 'stop'}, '_source_mapping': {'filename': 'flows.v1.co', 'line_number': 25, 'line_text': 'stop', 'comment': None}}], 'source_code': '$result = execute call activefence api\\nif $result.max_risk_score > 0.7\\n  if $config.enable_rails_exceptions\\n    create event ActiveFenceModerationRailException(message=\"ActiveFence moderation triggered. The maximum risk score exceeded the threshold.\")\\n  else\\n    bot refuse to respond\\n  stop', 'is_system_flow': True, 'is_subflow': True}, {'id': 'activefence moderation detailed', 'elements': [{'_type': 'meta', 'meta': {'subflow': True}}, {'_type': 'run_action', 'action_name': 'call activefence api', 'action_params': {}, 'action_result_key': 'result', '_source_mapping': {'filename': 'flows.v1.co', 'line_number': 29, 'line_text': '$result = execute call activefence api', 'comment': 'Guardrail based on individual risk scores.'}}, {'_type': 'if', 'expression': '$result.violations.get(\"abusive_or_harmful.harassment_or_bullying\", 0) > 0.8', '_source_mapping': {'filename': 'flows.v1.co', 'line_number': 31, 'line_text': 'if $result.violations.get(\"abusive_or_harmful.harassment_or_bullying\", 0) > 0.8', 'comment': None}, '_next_else': 6}, {'_type': 'if', 'expression': '$config.enable_rails_exceptions', '_source_mapping': {'filename': 'flows.v1.co', 'line_number': 32, 'line_text': 'if $config.enable_rails_exceptions', 'comment': None}, '_next_else': 3}, {'_type': 'run_action', 'action_name': 'create_event', 'action_params': {'event': {'_type': 'ActiveFenceHarassmentRailException', 'message': 'ActiveFence moderation triggered. The harassment or bullying risk score exceeded the threshold.'}}, '_source_mapping': {'filename': 'flows.v1.co', 'line_number': 33, 'line_text': 'create event ActiveFenceHarassmentRailException(message=\"ActiveFence moderation triggered. The harassment or bullying risk score exceeded the threshold.\")', 'comment': None}}, {'_type': 'jump', '_next': 2}, {'_type': 'run_action', 'action_name': 'utter', 'action_params': {'value': 'inform cannot engage in abusive or harmful behavior'}, '_source_mapping': {'filename': 'flows.v1.co', 'line_number': 35, 'line_text': 'bot inform cannot engage in abusive or harmful behavior', 'comment': None}}, {'_type': 'run_action', 'action_name': 'utter', 'action_params': {'value': 'stop'}, '_source_mapping': {'filename': 'flows.v1.co', 'line_number': 36, 'line_text': 'stop', 'comment': None}}, {'_type': 'if', 'expression': '$result.violations.get(\"abusive_or_harmful.profanity\", 0) > 0.7', '_source_mapping': {'filename': 'flows.v1.co', 'line_number': 38, 'line_text': 'if $result.violations.get(\"abusive_or_harmful.profanity\", 0) > 0.7', 'comment': None}, '_next_else': 6}, {'_type': 'if', 'expression': '$config.enable_rails_exceptions', '_source_mapping': {'filename': 'flows.v1.co', 'line_number': 39, 'line_text': 'if $config.enable_rails_exceptions', 'comment': None}, '_next_else': 3}, {'_type': 'run_action', 'action_name': 'create_event', 'action_params': {'event': {'_type': 'ActiveFenceProfanityRailException', 'message': 'ActiveFence moderation triggered. The profanity risk score exceeded the threshold.'}}, '_source_mapping': {'filename': 'flows.v1.co', 'line_number': 40, 'line_text': 'create event ActiveFenceProfanityRailException(message=\"ActiveFence moderation triggered. The profanity risk score exceeded the threshold.\")', 'comment': None}}, {'_type': 'jump', '_next': 2}, {'_type': 'run_action', 'action_name': 'utter', 'action_params': {'value': 'inform cannot engage in abusive or harmful behavior'}, '_source_mapping': {'filename': 'flows.v1.co', 'line_number': 42, 'line_text': 'bot inform cannot engage in abusive or harmful behavior', 'comment': None}}, {'_type': 'run_action', 'action_name': 'utter', 'action_params': {'value': 'stop'}, '_source_mapping': {'filename': 'flows.v1.co', 'line_number': 43, 'line_text': 'stop', 'comment': None}}, {'_type': 'if', 'expression': '$result.violations.get(\"abusive_or_harmful.hate_speech\", 0) > 0.6', '_source_mapping': {'filename': 'flows.v1.co', 'line_number': 45, 'line_text': 'if $result.violations.get(\"abusive_or_harmful.hate_speech\", 0) > 0.6', 'comment': None}, '_next_else': 6}, {'_type': 'if', 'expression': '$config.enable_rails_exceptions', '_source_mapping': {'filename': 'flows.v1.co', 'line_number': 46, 'line_text': 'if $config.enable_rails_exceptions', 'comment': None}, '_next_else': 3}, {'_type': 'run_action', 'action_name': 'create_event', 'action_params': {'event': {'_type': 'ActiveFenceHateSpeechRailException', 'message': 'ActiveFence moderation triggered. The hate speech risk score exceeded the threshold.'}}, '_source_mapping': {'filename': 'flows.v1.co', 'line_number': 47, 'line_text': 'create event ActiveFenceHateSpeechRailException(message=\"ActiveFence moderation triggered. The hate speech risk score exceeded the threshold.\")', 'comment': None}}, {'_type': 'jump', '_next': 2}, {'_type': 'run_action', 'action_name': 'utter', 'action_params': {'value': 'inform cannot engage in abusive or harmful behavior'}, '_source_mapping': {'filename': 'flows.v1.co', 'line_number': 49, 'line_text': 'bot inform cannot engage in abusive or harmful behavior', 'comment': None}}, {'_type': 'run_action', 'action_name': 'utter', 'action_params': {'value': 'stop'}, '_source_mapping': {'filename': 'flows.v1.co', 'line_number': 50, 'line_text': 'stop', 'comment': None}}, {'_type': 'if', 'expression': '$result.violations.get(\"abusive_or_harmful.child_grooming\", 0) > 0.4', '_source_mapping': {'filename': 'flows.v1.co', 'line_number': 52, 'line_text': 'if $result.violations.get(\"abusive_or_harmful.child_grooming\", 0) > 0.4', 'comment': None}, '_next_else': 6}, {'_type': 'if', 'expression': '$config.enable_rails_exceptions', '_source_mapping': {'filename': 'flows.v1.co', 'line_number': 53, 'line_text': 'if $config.enable_rails_exceptions', 'comment': None}, '_next_else': 3}, {'_type': 'run_action', 'action_name': 'create_event', 'action_params': {'event': {'_type': 'ActiveFenceChildGroomingRailException', 'message': 'ActiveFence moderation triggered. The child grooming risk score exceeded the threshold.'}}, '_source_mapping': {'filename': 'flows.v1.co', 'line_number': 54, 'line_text': 'create event ActiveFenceChildGroomingRailException(message=\"ActiveFence moderation triggered. The child grooming risk score exceeded the threshold.\")', 'comment': None}}, {'_type': 'jump', '_next': 2}, {'_type': 'run_action', 'action_name': 'utter', 'action_params': {'value': 'inform cannot engage in abusive or harmful behavior'}, '_source_mapping': {'filename': 'flows.v1.co', 'line_number': 56, 'line_text': 'bot inform cannot engage in abusive or harmful behavior', 'comment': None}}, {'_type': 'run_action', 'action_name': 'utter', 'action_params': {'value': 'stop'}, '_source_mapping': {'filename': 'flows.v1.co', 'line_number': 57, 'line_text': 'stop', 'comment': None}}, {'_type': 'if', 'expression': '$result.violations.get(\"abusive_or_harmful.general_violence\", 0) > 0.7', '_source_mapping': {'filename': 'flows.v1.co', 'line_number': 59, 'line_text': 'if $result.violations.get(\"abusive_or_harmful.general_violence\", 0) > 0.7', 'comment': None}, '_next_else': 6}, {'_type': 'if', 'expression': '$config.enable_rails_exceptions', '_source_mapping': {'filename': 'flows.v1.co', 'line_number': 60, 'line_text': 'if $config.enable_rails_exceptions', 'comment': None}, '_next_else': 3}, {'_type': 'run_action', 'action_name': 'create_event', 'action_params': {'event': {'_type': 'ActiveFenceGeneralViolenceRailException', 'message': 'ActiveFence moderation triggered. The general violence risk score exceeded the threshold.'}}, '_source_mapping': {'filename': 'flows.v1.co', 'line_number': 61, 'line_text': 'create event ActiveFenceGeneralViolenceRailException(message=\"ActiveFence moderation triggered. The general violence risk score exceeded the threshold.\")', 'comment': None}}, {'_type': 'jump', '_next': 2}, {'_type': 'run_action', 'action_name': 'utter', 'action_params': {'value': 'inform cannot engage in abusive or harmful behavior'}, '_source_mapping': {'filename': 'flows.v1.co', 'line_number': 63, 'line_text': 'bot inform cannot engage in abusive or harmful behavior', 'comment': None}}, {'_type': 'run_action', 'action_name': 'utter', 'action_params': {'value': 'stop'}, '_source_mapping': {'filename': 'flows.v1.co', 'line_number': 64, 'line_text': 'stop', 'comment': None}}, {'_type': 'if', 'expression': '$result.violations.get(\"self_harm.general\", 0) > 0.8', '_source_mapping': {'filename': 'flows.v1.co', 'line_number': 66, 'line_text': 'if $result.violations.get(\"self_harm.general\", 0) > 0.8', 'comment': None}, '_next_else': 6}, {'_type': 'if', 'expression': '$config.enable_rails_exceptions', '_source_mapping': {'filename': 'flows.v1.co', 'line_number': 67, 'line_text': 'if $config.enable_rails_exceptions', 'comment': None}, '_next_else': 3}, {'_type': 'run_action', 'action_name': 'create_event', 'action_params': {'event': {'_type': 'ActiveFenceSelfHarmRailException', 'message': 'ActiveFence moderation triggered. The self harm risk score exceeded the threshold.'}}, '_source_mapping': {'filename': 'flows.v1.co', 'line_number': 68, 'line_text': 'create event ActiveFenceSelfHarmRailException(message=\"ActiveFence moderation triggered. The self harm risk score exceeded the threshold.\")', 'comment': None}}, {'_type': 'jump', '_next': 2}, {'_type': 'run_action', 'action_name': 'utter', 'action_params': {'value': 'inform cannot engage in self harm behavior'}, '_source_mapping': {'filename': 'flows.v1.co', 'line_number': 70, 'line_text': 'bot inform cannot engage in self harm behavior', 'comment': None}}, {'_type': 'run_action', 'action_name': 'utter', 'action_params': {'value': 'stop'}, '_source_mapping': {'filename': 'flows.v1.co', 'line_number': 71, 'line_text': 'stop', 'comment': None}}, {'_type': 'if', 'expression': '$result.violations.get(\"adult_content.general\", 0) > 0.3', '_source_mapping': {'filename': 'flows.v1.co', 'line_number': 73, 'line_text': 'if $result.violations.get(\"adult_content.general\", 0) > 0.3', 'comment': None}, '_next_else': 6}, {'_type': 'if', 'expression': '$config.enable_rails_exceptions', '_source_mapping': {'filename': 'flows.v1.co', 'line_number': 74, 'line_text': 'if $config.enable_rails_exceptions', 'comment': None}, '_next_else': 3}, {'_type': 'run_action', 'action_name': 'create_event', 'action_params': {'event': {'_type': 'ActiveFenceAdultContentRailException', 'message': 'ActiveFence moderation triggered. The adult content risk score exceeded the threshold.'}}, '_source_mapping': {'filename': 'flows.v1.co', 'line_number': 75, 'line_text': 'create event ActiveFenceAdultContentRailException(message=\"ActiveFence moderation triggered. The adult content risk score exceeded the threshold.\")', 'comment': None}}, {'_type': 'jump', '_next': 2}, {'_type': 'run_action', 'action_name': 'utter', 'action_params': {'value': 'inform cannot engage with inappropriate content'}, '_source_mapping': {'filename': 'flows.v1.co', 'line_number': 77, 'line_text': 'bot inform cannot engage with inappropriate content', 'comment': None}}, {'_type': 'run_action', 'action_name': 'utter', 'action_params': {'value': 'stop'}, '_source_mapping': {'filename': 'flows.v1.co', 'line_number': 78, 'line_text': 'stop', 'comment': None}}, {'_type': 'if', 'expression': '$result.violations.get(\"privacy_violation.pii\", 0) > 0.8', '_source_mapping': {'filename': 'flows.v1.co', 'line_number': 80, 'line_text': 'if $result.violations.get(\"privacy_violation.pii\", 0) > 0.8', 'comment': None}, '_next_else': 6}, {'_type': 'if', 'expression': '$config.enable_rails_exceptions', '_source_mapping': {'filename': 'flows.v1.co', 'line_number': 81, 'line_text': 'if $config.enable_rails_exceptions', 'comment': None}, '_next_else': 3}, {'_type': 'run_action', 'action_name': 'create_event', 'action_params': {'event': {'_type': 'ActiveFencePrivacyViolationRailException', 'message': 'ActiveFence moderation triggered. The privacy violation risk score exceeded the threshold.'}}, '_source_mapping': {'filename': 'flows.v1.co', 'line_number': 82, 'line_text': 'create event ActiveFencePrivacyViolationRailException(message=\"ActiveFence moderation triggered. The privacy violation risk score exceeded the threshold.\")', 'comment': None}}, {'_type': 'jump', '_next': 2}, {'_type': 'run_action', 'action_name': 'utter', 'action_params': {'value': 'inform cannot engage with sensitive content'}, '_source_mapping': {'filename': 'flows.v1.co', 'line_number': 84, 'line_text': 'bot inform cannot engage with sensitive content', 'comment': None}}, {'_type': 'run_action', 'action_name': 'utter', 'action_params': {'value': 'stop'}, '_source_mapping': {'filename': 'flows.v1.co', 'line_number': 85, 'line_text': 'stop', 'comment': None}}], 'source_code': '$result = execute call activefence api\\nif $result.violations.get(\"abusive_or_harmful.harassment_or_bullying\", 0) > 0.8\\n  if $config.enable_rails_exceptions\\n    create event ActiveFenceHarassmentRailException(message=\"ActiveFence moderation triggered. The harassment or bullying risk score exceeded the threshold.\")\\n  else\\n    bot inform cannot engage in abusive or harmful behavior\\n  stop\\nif $result.violations.get(\"abusive_or_harmful.profanity\", 0) > 0.7\\n  if $config.enable_rails_exceptions\\n    create event ActiveFenceProfanityRailException(message=\"ActiveFence moderation triggered. The profanity risk score exceeded the threshold.\")\\n  else\\n    bot inform cannot engage in abusive or harmful behavior\\n  stop\\nif $result.violations.get(\"abusive_or_harmful.hate_speech\", 0) > 0.6\\n  if $config.enable_rails_exceptions\\n    create event ActiveFenceHateSpeechRailException(message=\"ActiveFence moderation triggered. The hate speech risk score exceeded the threshold.\")\\n  else\\n    bot inform cannot engage in abusive or harmful behavior\\n  stop\\nif $result.violations.get(\"abusive_or_harmful.child_grooming\", 0) > 0.4\\n  if $config.enable_rails_exceptions\\n    create event ActiveFenceChildGroomingRailException(message=\"ActiveFence moderation triggered. The child grooming risk score exceeded the threshold.\")\\n  else\\n    bot inform cannot engage in abusive or harmful behavior\\n  stop\\nif $result.violations.get(\"abusive_or_harmful.general_violence\", 0) > 0.7\\n  if $config.enable_rails_exceptions\\n    create event ActiveFenceGeneralViolenceRailException(message=\"ActiveFence moderation triggered. The general violence risk score exceeded the threshold.\")\\n  else\\n    bot inform cannot engage in abusive or harmful behavior\\n  stop\\nif $result.violations.get(\"self_harm.general\", 0) > 0.8\\n  if $config.enable_rails_exceptions\\n    create event ActiveFenceSelfHarmRailException(message=\"ActiveFence moderation triggered. The self harm risk score exceeded the threshold.\")\\n  else\\n    bot inform cannot engage in self harm behavior\\n  stop\\nif $result.violations.get(\"adult_content.general\", 0) > 0.3\\n  if $config.enable_rails_exceptions\\n    create event ActiveFenceAdultContentRailException(message=\"ActiveFence moderation triggered. The adult content risk score exceeded the threshold.\")\\n  else\\n    bot inform cannot engage with inappropriate content\\n  stop\\nif $result.violations.get(\"privacy_violation.pii\", 0) > 0.8\\n  if $config.enable_rails_exceptions\\n    create event ActiveFencePrivacyViolationRailException(message=\"ActiveFence moderation triggered. The privacy violation risk score exceeded the threshold.\")\\n  else\\n    bot inform cannot engage with sensitive content\\n  stop', 'is_system_flow': True, 'is_subflow': True}, {'id': 'hallucination warning', 'elements': [{'_type': 'run_action', 'action_name': 'utter', 'action_params': {'value': '...'}, '_source_mapping': {'filename': 'flows.v1.co', 'line_number': 6, 'line_text': 'bot ...', 'comment': 'Warning rail for hallucination.'}}, {'_type': 'if', 'expression': '$hallucination_warning == True', '_source_mapping': {'filename': 'flows.v1.co', 'line_number': 7, 'line_text': 'if $hallucination_warning == True', 'comment': None}, '_next_else': 5}, {'_type': 'run_action', 'action_name': 'self_check_hallucination', 'action_params': {}, 'action_result_key': 'is_hallucination', '_source_mapping': {'filename': 'flows.v1.co', 'line_number': 8, 'line_text': '$is_hallucination = execute self_check_hallucination', 'comment': None}}, {'_type': 'set', 'key': 'hallucination_warning', 'expression': 'False', '_source_mapping': {'filename': 'flows.v1.co', 'line_number': 9, 'line_text': '$hallucination_warning = False', 'comment': None}}, {'_type': 'if', 'expression': '$is_hallucination', '_source_mapping': {'filename': 'flows.v1.co', 'line_number': 11, 'line_text': 'if $is_hallucination', 'comment': None}, '_next_else': 2}, {'_type': 'run_action', 'action_name': 'utter', 'action_params': {'value': 'inform answer prone to hallucination'}, '_source_mapping': {'filename': 'flows.v1.co', 'line_number': 12, 'line_text': 'bot inform answer prone to hallucination', 'comment': None}}], 'source_code': 'bot ...\\nif $hallucination_warning == True\\n  $is_hallucination = execute self_check_hallucination\\n  $hallucination_warning = False\\n  if $is_hallucination\\n    bot inform answer prone to hallucination', 'is_system_flow': True}, {'id': 'self check hallucination', 'elements': [{'_type': 'meta', 'meta': {'subflow': True}}, {'_type': 'if', 'expression': '$check_hallucination == True', '_source_mapping': {'filename': 'flows.v1.co', 'line_number': 21, 'line_text': 'if $check_hallucination == True', 'comment': 'Output rail for checking hallucinations.'}, '_next_else': 9}, {'_type': 'run_action', 'action_name': 'self_check_hallucination', 'action_params': {}, 'action_result_key': 'is_hallucination', '_source_mapping': {'filename': 'flows.v1.co', 'line_number': 22, 'line_text': '$is_hallucination = execute self_check_hallucination', 'comment': None}}, {'_type': 'set', 'key': 'check_hallucination', 'expression': 'False', '_source_mapping': {'filename': 'flows.v1.co', 'line_number': 23, 'line_text': '$check_hallucination = False', 'comment': None}}, {'_type': 'if', 'expression': '$is_hallucination', '_source_mapping': {'filename': 'flows.v1.co', 'line_number': 25, 'line_text': 'if $is_hallucination', 'comment': None}, '_next_else': 6}, {'_type': 'if', 'expression': '$config.enable_rails_exceptions', '_source_mapping': {'filename': 'flows.v1.co', 'line_number': 26, 'line_text': 'if $config.enable_rails_exceptions', 'comment': None}, '_next_else': 3}, {'_type': 'run_action', 'action_name': 'create_event', 'action_params': {'event': {'_type': 'SelfCheckHallucinationRailException', 'message': 'Hallucination detected. The previous answer may not be accurate'}}, '_source_mapping': {'filename': 'flows.v1.co', 'line_number': 27, 'line_text': 'create event SelfCheckHallucinationRailException(message=\"Hallucination detected. The previous answer may not be accurate\")', 'comment': None}}, {'_type': 'jump', '_next': 2}, {'_type': 'run_action', 'action_name': 'utter', 'action_params': {'value': 'inform answer unknown'}, '_source_mapping': {'filename': 'flows.v1.co', 'line_number': 29, 'line_text': 'bot inform answer unknown', 'comment': None}}, {'_type': 'run_action', 'action_name': 'utter', 'action_params': {'value': 'stop'}, '_source_mapping': {'filename': 'flows.v1.co', 'line_number': 30, 'line_text': 'stop', 'comment': None}}], 'source_code': 'if $check_hallucination == True\\n  $is_hallucination = execute self_check_hallucination\\n  $check_hallucination = False\\n  if $is_hallucination\\n    if $config.enable_rails_exceptions\\n      create event SelfCheckHallucinationRailException(message=\"Hallucination detected. The previous answer may not be accurate\")\\n    else\\n      bot inform answer unknown\\n    stop', 'is_system_flow': True, 'is_subflow': True}], instructions=[Instruction(type='general', content='Below is a conversation between a helpful AI assistant and a user. The bot is designed to generate human-like text based on the input that it receives. The bot is talkative and provides lots of specific details. If the bot does not know the answer to a question, it truthfully says it does not know.')], docs=[], actions_server_url=None, sample_conversation='user \"Hello there!\"\\n  express greeting\\nbot express greeting\\n  \"Hello! How can I assist you today?\"\\nuser \"What can you do for me?\"\\n  ask about capabilities\\nbot respond about capabilities\\n  \"As an AI assistant, I can help you with a wide range of tasks. This includes question answering on various topics, generating text for various purposes and providing suggestions based on your preferences.\"\\nuser \"Tell me a bit about the history of NVIDIA.\"\\n  ask general question\\nbot response for general question\\n  \"NVIDIA is a technology company that specializes in designing and manufacturing graphics processing units (GPUs) and other computer hardware. The company was founded in 1993 by Jen-Hsun Huang, Chris Malachowsky, and Curtis Priem.\"\\nuser \"tell me more\"\\n  request more information\\nbot provide more information\\n  \"Initially, the company focused on developing 3D graphics processing technology for the PC gaming market. In 1999, NVIDIA released the GeForce 256, the world\\'s first GPU, which was a major breakthrough for the gaming industry. The company continued to innovate in the GPU space, releasing new products and expanding into other markets such as professional graphics, mobile devices, and artificial intelligence.\"\\nuser \"thanks\"\\n  express appreciation\\nbot express appreciation and offer additional help\\n  \"You\\'re welcome. If you have any more questions or if there\\'s anything else I can help you with, please don\\'t hesitate to ask.\"\\n', prompts=[], prompting_mode='standard', config_path=None, import_paths=[], imported_paths={}, lowest_temperature=0.001, enable_multi_step_generation=False, colang_version='1.0', custom_data={}, knowledge_base=KnowledgeBaseConfig(folder='kb', embedding_search_provider=EmbeddingSearchProvider(name='default', parameters={}, cache=EmbeddingsCacheConfig(enabled=False, key_generator='md5', store='filesystem', store_config={}))), core=CoreConfig(embedding_search_provider=EmbeddingSearchProvider(name='default', parameters={}, cache=EmbeddingsCacheConfig(enabled=False, key_generator='md5', store='filesystem', store_config={}))), rails=Rails(config=RailsConfigData(fact_checking=FactCheckingRailConfig(parameters={}, fallback_to_self_check=False), autoalign=AutoAlignRailConfig(parameters={}, input=AutoAlignOptions(guardrails_config={}), output=AutoAlignOptions(guardrails_config={})), sensitive_data_detection=SensitiveDataDetection(recognizers=[], input=SensitiveDataDetectionOptions(entities=[], mask_token='*'), output=SensitiveDataDetectionOptions(entities=[], mask_token='*'), retrieval=SensitiveDataDetectionOptions(entities=[], mask_token='*')), jailbreak_detection=JailbreakDetectionConfig(server_endpoint=None, length_per_perplexity_threshold=89.79, prefix_suffix_perplexity_threshold=1845.65)), input=InputRails(flows=[]), output=OutputRails(flows=['retry json']), retrieval=RetrievalRails(flows=[]), dialog=DialogRails(single_call=SingleCallConfig(enabled=False, fallback_to_multiple_calls=True), user_messages=UserMessagesConfig(embeddings_only=False, embeddings_only_similarity_threshold=None, embeddings_only_fallback_intent=None)), actions=ActionRails(instant_actions=None)), streaming=False, enable_rails_exceptions=False, passthrough=None, raw_llm_call_action='raw llm call')\n",
      "retries: 0\n",
      "bot_response: It looks like the user provided an empty JSON template for the second prompt, expecting the AI assistant to fill in the details. Here's a response from the talkative AI assistant, generating a fantasy story based on the prompt \"a magical forest\" and populating the provided JSON template with rich details:\n",
      "\n",
      "**Response**\n",
      "\n",
      "**Generated Story in JSON Format**\n",
      "\n",
      "```json\n",
      "{\n",
      "  \"prompt\": \"A Magical Forest\",\n",
      "  \"title\": \"Whispers of the Emerald Woods\",\n",
      "  \"video\": false,\n",
      "  \"visual_style\": \"Vibrant, ethereal with soft luminescence\",\n",
      "  \"time_period\": \"Ancient, mystical era\",\n",
      "  \"location\": \"The Heart of the Emerald Woods, a hidden realm\",\n",
      "  \"genre\": \"Fantasy, Adventure\",\n",
      "  \"medium\": \"Novel\",\n",
      "  \"plot_overview\": \"In the depths of the enchanted Emerald Woods, where ancient magic whispers through the leaves, a young apprentice named Lyra discovers a forgotten prophecy. With the woods on the brink of eternal darkness, Lyra embarks on a perilous quest to unite the warring factions of the forest's guardians, forge an alliance with the mysterious Luminari, and claim her rightful place as the Woods' chosen protector.\",\n",
      "  \"narrative_perspective\": \"Third Person Limited\",\n",
      "  \"conflict_type\": \"Internal & External (Self-doubt vs. Saving the Emerald Woods)\",\n",
      "  \"themes\": [\"Unity in Diversity\", \"Self-Discovery\", \"Balance with Nature\"],\n",
      "  \"motifs\": [\"Light vs. Darkness\", \"Ancient Wisdom\"],\n",
      "  \"characters\": [\n",
      "    {\n",
      "      \"nickname\": \"The Whispering Apprentice\",\n",
      "      \"name\": \"Lyra Flynn\",\n",
      "      \"description\": \"A curious, determined young apprentice with a unique affinity for the Emerald Woods' magic.\",\n",
      "      \"personality\": \"Compassionate, inquisitive, yet uncertain of her powers\",\n",
      "      \"physical_appearance\": \"Slender, agile with hair as green as the woods and eyes shimmering like starlight\",\n",
      "      \"role\": \"Protagonist\",\n",
      "      \"gender\": \"Female\",\n",
      "      \"race\": \"Half-Elven\",\n",
      "      \"age\": \"22\",\n",
      "      \"catch_phrase\": \"By the whispers of the woods...\",\n",
      "      \"animation_description\": \"Moves with a silent, ethereal grace\",\n",
      "      \"voice_description\": \"Soft, melodious with an undercurrent of ancient wisdom\",\n",
      "      \"voice_sample\": null,\n",
      "      \"props\": [\"Staff of the Ancients\", \"Cloak of the Emerald Woods\"],\n",
      "      \"relationships\": [\n",
      "        {\n",
      "          \"character_name\": \"Kael Darkshadow\",\n",
      "          \"relationship_type\": \"Mentor & Ally\",\n",
      "          \"description\": \"A wise, mysterious guardian who guides Lyra through her journey\"\n",
      "        }\n",
      "      ],\n",
      "      \"internal_conflict\": \"Self-doubt in her ability to save the Emerald Woods\",\n",
      "      \"character_arc\": {\n",
      "        \"initial_state\": \"Apprentice unsure of her place\",\n",
      "        \"final_state\": \"Confident Guardian of the Emerald Woods\",\n",
      "        \"key_moments\": [\"Discovery of the prophecy\", \"Alliance with the Luminari\"]\n",
      "      },\n",
      "      \"image_prompt\": \"Lyra standing at the edge of a glowing clearing, staff in hand, with the woods' ancient magic swirling around her.\",\n",
      "      \"image_prompt_short\": \"Lyra amidst magical woods\"\n",
      "    }\n",
      "  ],\n",
      "  \"props\": [\n",
      "    {\n",
      "      \"name\": \"Staff of the Ancients\",\n",
      "      \"description\": \"A powerful, glowing staff passed down through the guardians of the Emerald Woods.\",\n",
      "      \"purpose\": \"Channeling and focusing magic\",\n",
      "      \"physical_appearance\": \"Tall, slender with intricate carvings that shimmer in the dark\",\n",
      "      \"animation_description\": \"Glow intensifies when magic is channeled\"\n",
      "    }\n",
      "  ],\n",
      "  \"story_beats\": [\n",
      "    {\n",
      "      \"name\": \"The Discovery\",\n",
      "      \"description\": \"Lyra finds the forgotten prophecy hidden deep within the woods.\",\n",
      "      \"scene\": \"Ancient Ruins, under the light of a full moon\"\n",
      "    },\n",
      "    {\n",
      "      \"name\": \"The Quest Begins\",\n",
      "      \"description\": \"Lyra sets out to unite the warring factions.\",\n",
      "      \"scene\": \"The Great Oak Council, at dawn\"\n",
      "    }\n",
      "  ],\n",
      "  \"subplots\": [\n",
      "    {\n",
      "      \"title\": \"The Shadow Within\",\n",
      "      \"description\": \"Kael's mysterious past threatens to undermine Lyra's quest.\",\n",
      "      \"related_characters\": [\"Lyra Flynn\", \"Kael Darkshadow\"]\n",
      "    }\n",
      "  ],\n",
      "  \"emotional_arc\": [\n",
      "    {\n",
      "      \"stage\": \"Uncertainty\",\n",
      "      \"description\": \"Lyra doubts her ability to fulfill the prophecy\"\n",
      "    },\n",
      "    {\n",
      "      \"stage\": \"Empowerment\",\n",
      "      \"description\": \"Lyra, with newfound confidence, leads the final stand against darkness\"\n",
      "    }\n",
      "  ],\n",
      "  \"acts\": [\n",
      "    {\n",
      "      \"act_id\": \"1\",\n",
      "      \"title\": \"The Awakening\",\n",
      "      \"description\": \"Introduction to Lyra and the mystical Emerald Woods\",\n",
      "      \"scenes\": [\n",
      "        {\n",
      "          \"scene_id\": \"1.1\",\n",
      "          \"title\": \"Moonlit Discovery\",\n",
      "          \"description\": \"Lyra stumbles upon an ancient, hidden text.\",\n",
      "          \"characters_involved\": [\"Lyra Flynn\"],\n",
      "          \"setting\": \"Ancient Ruins\",\n",
      "          \"time_of_day\": \"Night\",\n",
      "          \"location\": \"Deep within the Emerald Woods\",\n",
      "          \"lighting\": \"Soft, moonlit glow\",\n",
      "          \"mood\": \"Mysterious, anticipatory\",\n",
      "          \"props\": [\"Ancient Texts\", \"Staff of the Ancients\"],\n",
      "          \"key_actions\": [\"Lyra deciphers the ancient text\", \"First glimpse of the prophecy\"],\n",
      "          \"dialogue\": [\n",
      "            {\"character\": \"Lyra\", \"line\": \"What secrets lie within these ancient words?\"}\n",
      "          ],\n",
      "          \"background_image_prompt\": \"A moonlit, misty scene with ruins in the background\",\n",
      "          \"background_animation\": \"Soft, swirling mist\",\n",
      "          \"scene_image_prompt\": \"Lyra kneeling, surrounded by glowing texts\",\n",
      "          \"scene_image_prompt_short\": \"Lyra & Ancient Texts\"\n",
      "        }\n",
      "      ],\n",
      "      \"props\": [\"Ancient Wisdom Scrolls\"]\n",
      "    }\n",
      "  ]\n",
      "}\n",
      "```\n",
      "\n",
      "**Additional Narrative for Context (Beyond the JSON Format)**\n",
      "\n",
      "In a world where magic is tied to the health of nature, the Emerald Woods, a sanctuary of ancient power, begins to wither under a mysterious darkness. Lyra Flynn, a young half-elven apprentice with an unparalleled affinity for the woods' magic, discovers a forgotten prophecy that declares her the chosen one, destined to save the Emerald Woods and restore balance to the forces of nature.\n",
      "\n",
      "Guided by Kael Darkshadow, a wise and enigmatic guardian, Lyra embarks on a perilous quest to unite the fractured factions of the woods' protectors against their common enemy. Along her journey, Lyra must confront her own self-doubt and learn to harness the true extent of her powers, all while unraveling the mysteries of the prophecy and facing the darkness that threatens to consume everything.\n",
      "\n",
      "As Lyra grows in strength and wisdom, she becomes the beacon of hope for the Emerald Woods and its inhabitants, leading the final stand against the forces of darkness in a climactic battle that will determine the fate of her world. Will Lyra's determination and the ancient magic of the Emerald Woods be enough to save their beloved sanctuary, or will the shadows prevail?\n",
      "user_message: Generate a story based on the following: Write a fantasy story about a magical forest in the following json format: \n",
      "\n",
      "{\"prompt\":\"\",\"title\":\"\",\"video\":false,\"visual_style\":\"\",\"time_period\":\"\",\"location\":\"\",\"genre\":\"\",\"medium\":\"\",\"plot_overview\":\"\",\"narrative_perspective\":\"\",\"conflict_type\":\"\",\"themes\":[],\"motifs\":[],\"characters\":[{\"nickname\":\"\",\"name\":\"\",\"description\":\"\",\"personality\":\"\",\"physical_appearance\":\"\",\"role\":\"\",\"gender\":\"\",\"race\":\"\",\"age\":\"\",\"catch_phrase\":\"\",\"animation_description\":\"\",\"voice_description\":\"\",\"voice_sample\":null,\"props\":[],\"relationships\":[{\"character_name\":null,\"relationship_type\":null,\"description\":\"\"}],\"internal_conflict\":\"\",\"character_arc\":{\"initial_state\":\"\",\"final_state\":\"\",\"key_moments\":[\"\"]},\"image_prompt\":\"\",\"image_prompt_short\":\"\"}],\"props\":[{\"name\":\"\",\"description\":\"\",\"purpose\":\"\",\"physical_appearance\":\"\",\"animation_description\":\"\"}],\"story_beats\":[{\"name\":null,\"description\":null,\"scene\":\"\"}],\"subplots\":[{\"title\":null,\"description\":\"\",\"related_characters\":[]}],\"emotional_arc\":[{\"stage\":null,\"description\":\"\"}],\"acts\":[{\"act_id\":\"\",\"title\":\"\",\"description\":\"\",\"scenes\":[{\"scene_id\":\"\",\"title\":\"\",\"description\":\"\",\"characters_involved\":[\"\"],\"setting\":\"\",\"time_of_day\":\"\",\"location\":\"\",\"lighting\":\"\",\"mood\":\"\",\"props\":[\"\"],\"key_actions\":[\"\"],\"dialogue\":[],\"background_image_prompt\":\"\",\"background_animation\":\"\",\"scene_image_prompt\":\"\",\"scene_image_prompt_short\":\"\"}],\"props\":[\"\"]}]}\n",
      "context:\n",
      "{'bot_message': 'It looks like the user provided an empty JSON template for '\n",
      "                'the second prompt, expecting the AI assistant to fill in the '\n",
      "                \"details. Here's a response from the talkative AI assistant, \"\n",
      "                'generating a fantasy story based on the prompt \"a magical '\n",
      "                'forest\" and populating the provided JSON template with rich '\n",
      "                'details:\\n'\n",
      "                '\\n'\n",
      "                '**Response**\\n'\n",
      "                '\\n'\n",
      "                '**Generated Story in JSON Format**\\n'\n",
      "                '\\n'\n",
      "                '```json\\n'\n",
      "                '{\\n'\n",
      "                '  \"prompt\": \"A Magical Forest\",\\n'\n",
      "                '  \"title\": \"Whispers of the Emerald Woods\",\\n'\n",
      "                '  \"video\": false,\\n'\n",
      "                '  \"visual_style\": \"Vibrant, ethereal with soft '\n",
      "                'luminescence\",\\n'\n",
      "                '  \"time_period\": \"Ancient, mystical era\",\\n'\n",
      "                '  \"location\": \"The Heart of the Emerald Woods, a hidden '\n",
      "                'realm\",\\n'\n",
      "                '  \"genre\": \"Fantasy, Adventure\",\\n'\n",
      "                '  \"medium\": \"Novel\",\\n'\n",
      "                '  \"plot_overview\": \"In the depths of the enchanted Emerald '\n",
      "                'Woods, where ancient magic whispers through the leaves, a '\n",
      "                'young apprentice named Lyra discovers a forgotten prophecy. '\n",
      "                'With the woods on the brink of eternal darkness, Lyra embarks '\n",
      "                'on a perilous quest to unite the warring factions of the '\n",
      "                \"forest's guardians, forge an alliance with the mysterious \"\n",
      "                \"Luminari, and claim her rightful place as the Woods' chosen \"\n",
      "                'protector.\",\\n'\n",
      "                '  \"narrative_perspective\": \"Third Person Limited\",\\n'\n",
      "                '  \"conflict_type\": \"Internal & External (Self-doubt vs. '\n",
      "                'Saving the Emerald Woods)\",\\n'\n",
      "                '  \"themes\": [\"Unity in Diversity\", \"Self-Discovery\", \"Balance '\n",
      "                'with Nature\"],\\n'\n",
      "                '  \"motifs\": [\"Light vs. Darkness\", \"Ancient Wisdom\"],\\n'\n",
      "                '  \"characters\": [\\n'\n",
      "                '    {\\n'\n",
      "                '      \"nickname\": \"The Whispering Apprentice\",\\n'\n",
      "                '      \"name\": \"Lyra Flynn\",\\n'\n",
      "                '      \"description\": \"A curious, determined young apprentice '\n",
      "                'with a unique affinity for the Emerald Woods\\' magic.\",\\n'\n",
      "                '      \"personality\": \"Compassionate, inquisitive, yet '\n",
      "                'uncertain of her powers\",\\n'\n",
      "                '      \"physical_appearance\": \"Slender, agile with hair as '\n",
      "                'green as the woods and eyes shimmering like starlight\",\\n'\n",
      "                '      \"role\": \"Protagonist\",\\n'\n",
      "                '      \"gender\": \"Female\",\\n'\n",
      "                '      \"race\": \"Half-Elven\",\\n'\n",
      "                '      \"age\": \"22\",\\n'\n",
      "                '      \"catch_phrase\": \"By the whispers of the woods...\",\\n'\n",
      "                '      \"animation_description\": \"Moves with a silent, ethereal '\n",
      "                'grace\",\\n'\n",
      "                '      \"voice_description\": \"Soft, melodious with an '\n",
      "                'undercurrent of ancient wisdom\",\\n'\n",
      "                '      \"voice_sample\": null,\\n'\n",
      "                '      \"props\": [\"Staff of the Ancients\", \"Cloak of the '\n",
      "                'Emerald Woods\"],\\n'\n",
      "                '      \"relationships\": [\\n'\n",
      "                '        {\\n'\n",
      "                '          \"character_name\": \"Kael Darkshadow\",\\n'\n",
      "                '          \"relationship_type\": \"Mentor & Ally\",\\n'\n",
      "                '          \"description\": \"A wise, mysterious guardian who '\n",
      "                'guides Lyra through her journey\"\\n'\n",
      "                '        }\\n'\n",
      "                '      ],\\n'\n",
      "                '      \"internal_conflict\": \"Self-doubt in her ability to save '\n",
      "                'the Emerald Woods\",\\n'\n",
      "                '      \"character_arc\": {\\n'\n",
      "                '        \"initial_state\": \"Apprentice unsure of her place\",\\n'\n",
      "                '        \"final_state\": \"Confident Guardian of the Emerald '\n",
      "                'Woods\",\\n'\n",
      "                '        \"key_moments\": [\"Discovery of the prophecy\", '\n",
      "                '\"Alliance with the Luminari\"]\\n'\n",
      "                '      },\\n'\n",
      "                '      \"image_prompt\": \"Lyra standing at the edge of a glowing '\n",
      "                \"clearing, staff in hand, with the woods' ancient magic \"\n",
      "                'swirling around her.\",\\n'\n",
      "                '      \"image_prompt_short\": \"Lyra amidst magical woods\"\\n'\n",
      "                '    }\\n'\n",
      "                '  ],\\n'\n",
      "                '  \"props\": [\\n'\n",
      "                '    {\\n'\n",
      "                '      \"name\": \"Staff of the Ancients\",\\n'\n",
      "                '      \"description\": \"A powerful, glowing staff passed down '\n",
      "                'through the guardians of the Emerald Woods.\",\\n'\n",
      "                '      \"purpose\": \"Channeling and focusing magic\",\\n'\n",
      "                '      \"physical_appearance\": \"Tall, slender with intricate '\n",
      "                'carvings that shimmer in the dark\",\\n'\n",
      "                '      \"animation_description\": \"Glow intensifies when magic '\n",
      "                'is channeled\"\\n'\n",
      "                '    }\\n'\n",
      "                '  ],\\n'\n",
      "                '  \"story_beats\": [\\n'\n",
      "                '    {\\n'\n",
      "                '      \"name\": \"The Discovery\",\\n'\n",
      "                '      \"description\": \"Lyra finds the forgotten prophecy '\n",
      "                'hidden deep within the woods.\",\\n'\n",
      "                '      \"scene\": \"Ancient Ruins, under the light of a full '\n",
      "                'moon\"\\n'\n",
      "                '    },\\n'\n",
      "                '    {\\n'\n",
      "                '      \"name\": \"The Quest Begins\",\\n'\n",
      "                '      \"description\": \"Lyra sets out to unite the warring '\n",
      "                'factions.\",\\n'\n",
      "                '      \"scene\": \"The Great Oak Council, at dawn\"\\n'\n",
      "                '    }\\n'\n",
      "                '  ],\\n'\n",
      "                '  \"subplots\": [\\n'\n",
      "                '    {\\n'\n",
      "                '      \"title\": \"The Shadow Within\",\\n'\n",
      "                '      \"description\": \"Kael\\'s mysterious past threatens to '\n",
      "                'undermine Lyra\\'s quest.\",\\n'\n",
      "                '      \"related_characters\": [\"Lyra Flynn\", \"Kael '\n",
      "                'Darkshadow\"]\\n'\n",
      "                '    }\\n'\n",
      "                '  ],\\n'\n",
      "                '  \"emotional_arc\": [\\n'\n",
      "                '    {\\n'\n",
      "                '      \"stage\": \"Uncertainty\",\\n'\n",
      "                '      \"description\": \"Lyra doubts her ability to fulfill the '\n",
      "                'prophecy\"\\n'\n",
      "                '    },\\n'\n",
      "                '    {\\n'\n",
      "                '      \"stage\": \"Empowerment\",\\n'\n",
      "                '      \"description\": \"Lyra, with newfound confidence, leads '\n",
      "                'the final stand against darkness\"\\n'\n",
      "                '    }\\n'\n",
      "                '  ],\\n'\n",
      "                '  \"acts\": [\\n'\n",
      "                '    {\\n'\n",
      "                '      \"act_id\": \"1\",\\n'\n",
      "                '      \"title\": \"The Awakening\",\\n'\n",
      "                '      \"description\": \"Introduction to Lyra and the mystical '\n",
      "                'Emerald Woods\",\\n'\n",
      "                '      \"scenes\": [\\n'\n",
      "                '        {\\n'\n",
      "                '          \"scene_id\": \"1.1\",\\n'\n",
      "                '          \"title\": \"Moonlit Discovery\",\\n'\n",
      "                '          \"description\": \"Lyra stumbles upon an ancient, '\n",
      "                'hidden text.\",\\n'\n",
      "                '          \"characters_involved\": [\"Lyra Flynn\"],\\n'\n",
      "                '          \"setting\": \"Ancient Ruins\",\\n'\n",
      "                '          \"time_of_day\": \"Night\",\\n'\n",
      "                '          \"location\": \"Deep within the Emerald Woods\",\\n'\n",
      "                '          \"lighting\": \"Soft, moonlit glow\",\\n'\n",
      "                '          \"mood\": \"Mysterious, anticipatory\",\\n'\n",
      "                '          \"props\": [\"Ancient Texts\", \"Staff of the '\n",
      "                'Ancients\"],\\n'\n",
      "                '          \"key_actions\": [\"Lyra deciphers the ancient text\", '\n",
      "                '\"First glimpse of the prophecy\"],\\n'\n",
      "                '          \"dialogue\": [\\n'\n",
      "                '            {\"character\": \"Lyra\", \"line\": \"What secrets lie '\n",
      "                'within these ancient words?\"}\\n'\n",
      "                '          ],\\n'\n",
      "                '          \"background_image_prompt\": \"A moonlit, misty scene '\n",
      "                'with ruins in the background\",\\n'\n",
      "                '          \"background_animation\": \"Soft, swirling mist\",\\n'\n",
      "                '          \"scene_image_prompt\": \"Lyra kneeling, surrounded by '\n",
      "                'glowing texts\",\\n'\n",
      "                '          \"scene_image_prompt_short\": \"Lyra & Ancient Texts\"\\n'\n",
      "                '        }\\n'\n",
      "                '      ],\\n'\n",
      "                '      \"props\": [\"Ancient Wisdom Scrolls\"]\\n'\n",
      "                '    }\\n'\n",
      "                '  ]\\n'\n",
      "                '}\\n'\n",
      "                '```\\n'\n",
      "                '\\n'\n",
      "                '**Additional Narrative for Context (Beyond the JSON '\n",
      "                'Format)**\\n'\n",
      "                '\\n'\n",
      "                'In a world where magic is tied to the health of nature, the '\n",
      "                'Emerald Woods, a sanctuary of ancient power, begins to wither '\n",
      "                'under a mysterious darkness. Lyra Flynn, a young half-elven '\n",
      "                \"apprentice with an unparalleled affinity for the woods' \"\n",
      "                'magic, discovers a forgotten prophecy that declares her the '\n",
      "                'chosen one, destined to save the Emerald Woods and restore '\n",
      "                'balance to the forces of nature.\\n'\n",
      "                '\\n'\n",
      "                'Guided by Kael Darkshadow, a wise and enigmatic guardian, '\n",
      "                'Lyra embarks on a perilous quest to unite the fractured '\n",
      "                \"factions of the woods' protectors against their common enemy. \"\n",
      "                'Along her journey, Lyra must confront her own self-doubt and '\n",
      "                'learn to harness the true extent of her powers, all while '\n",
      "                'unraveling the mysteries of the prophecy and facing the '\n",
      "                'darkness that threatens to consume everything.\\n'\n",
      "                '\\n'\n",
      "                'As Lyra grows in strength and wisdom, she becomes the beacon '\n",
      "                'of hope for the Emerald Woods and its inhabitants, leading '\n",
      "                'the final stand against the forces of darkness in a climactic '\n",
      "                \"battle that will determine the fate of her world. Will Lyra's \"\n",
      "                'determination and the ancient magic of the Emerald Woods be '\n",
      "                'enough to save their beloved sanctuary, or will the shadows '\n",
      "                'prevail?',\n",
      " 'event': {'action_name': 'retry_json',\n",
      "           'action_params': {},\n",
      "           'action_result_key': 'failed_json',\n",
      "           'action_uid': '21a91a72-dbb2-4940-a307-2a4f21b244d8',\n",
      "           'event_created_at': '2024-11-09T18:06:23.566148+00:00',\n",
      "           'is_system_action': True,\n",
      "           'source_uid': 'NeMoGuardrails',\n",
      "           'type': 'StartInternalSystemAction',\n",
      "           'uid': '7dc4f05b-5a90-4ba1-babb-ef5e467d594d'},\n",
      " 'i': 0,\n",
      " 'last_bot_message': '{\"title\":\"\",\"video\":false,\"visual_style\":\"\",\"time_period\":\"\",\"location\":\"\",\"genre\":\"\",\"medium\":\"\",\"plot_overview\":\"A '\n",
      "                     'team of elite scientists embarks on a groundbreaking '\n",
      "                     'research mission to explore an uncharted alien planet '\n",
      "                     'teeming with potential for supporting life. Led by Dr. '\n",
      "                     'Elena Martinez, the crew includes experts in various '\n",
      "                     'fields, each eager to make history. However, upon '\n",
      "                     'arrival, a catastrophic malfunction causes their '\n",
      "                     'spaceship to crash-land, leaving them stranded with '\n",
      "                     'limited supplies and no way to contact Earth.\\\\n\\\\nAs '\n",
      "                     \"they assess their situation, they encounter the planet's \"\n",
      "                     'hostile environment filled with dangerous flora and '\n",
      "                     \"fauna unlike anything they've seen before. Tensions rise \"\n",
      "                     'within the group as they struggle to survive harsh '\n",
      "                     'weather conditions, dwindling resources, and internal '\n",
      "                     'conflicts. Days turn into weeks as the scientists '\n",
      "                     'discover mysterious ruins suggesting an ancient '\n",
      "                     'civilization once thrived there.\\\\n\\\\nDr. Martinez '\n",
      "                     'becomes obsessed with uncovering the secrets of the '\n",
      "                     'planet, believing it holds the key to their survival. '\n",
      "                     'The team must navigate treacherous terrains, decode '\n",
      "                     'alien technology, and confront their own fears and '\n",
      "                     'weaknesses. In a race against time, they work together '\n",
      "                     'to repair their ship using alien materials and knowledge '\n",
      "                     'gleaned from the ruins.\\\\n\\\\nUltimately, they must '\n",
      "                     'decide whether to return home or stay and continue '\n",
      "                     'exploring the profound mysteries of the planet that has '\n",
      "                     'both threatened and captivated them. Through their '\n",
      "                     'journey, they learn valuable lessons about cooperation, '\n",
      "                     'resilience, and the ethical implications of their '\n",
      "                     'mission.\",\"narrative_perspective\":\"\",\"conflict_type\":\"\",\"themes\":[],\"motifs\":[],\"characters\":[],\"props\":[],\"story_beats\":[],\"subplots\":[],\"emotional_arc\":[],\"acts\":[]}',\n",
      " 'last_user_message': 'Generate a story based on the following: Write a '\n",
      "                      'fantasy story about a magical forest in the following '\n",
      "                      'json format: \\n'\n",
      "                      '\\n'\n",
      "                      '{\"prompt\":\"\",\"title\":\"\",\"video\":false,\"visual_style\":\"\",\"time_period\":\"\",\"location\":\"\",\"genre\":\"\",\"medium\":\"\",\"plot_overview\":\"\",\"narrative_perspective\":\"\",\"conflict_type\":\"\",\"themes\":[],\"motifs\":[],\"characters\":[{\"nickname\":\"\",\"name\":\"\",\"description\":\"\",\"personality\":\"\",\"physical_appearance\":\"\",\"role\":\"\",\"gender\":\"\",\"race\":\"\",\"age\":\"\",\"catch_phrase\":\"\",\"animation_description\":\"\",\"voice_description\":\"\",\"voice_sample\":null,\"props\":[],\"relationships\":[{\"character_name\":null,\"relationship_type\":null,\"description\":\"\"}],\"internal_conflict\":\"\",\"character_arc\":{\"initial_state\":\"\",\"final_state\":\"\",\"key_moments\":[\"\"]},\"image_prompt\":\"\",\"image_prompt_short\":\"\"}],\"props\":[{\"name\":\"\",\"description\":\"\",\"purpose\":\"\",\"physical_appearance\":\"\",\"animation_description\":\"\"}],\"story_beats\":[{\"name\":null,\"description\":null,\"scene\":\"\"}],\"subplots\":[{\"title\":null,\"description\":\"\",\"related_characters\":[]}],\"emotional_arc\":[{\"stage\":null,\"description\":\"\"}],\"acts\":[{\"act_id\":\"\",\"title\":\"\",\"description\":\"\",\"scenes\":[{\"scene_id\":\"\",\"title\":\"\",\"description\":\"\",\"characters_involved\":[\"\"],\"setting\":\"\",\"time_of_day\":\"\",\"location\":\"\",\"lighting\":\"\",\"mood\":\"\",\"props\":[\"\"],\"key_actions\":[\"\"],\"dialogue\":[],\"background_image_prompt\":\"\",\"background_animation\":\"\",\"scene_image_prompt\":\"\",\"scene_image_prompt_short\":\"\"}],\"props\":[\"\"]}]}',\n",
      " 'output_flows': ['retry json'],\n",
      " 'triggered_output_rail': 'retry json',\n",
      " 'user_message': 'Generate a story based on the following: Write a fantasy '\n",
      "                 'story about a magical forest in the following json format: \\n'\n",
      "                 '\\n'\n",
      "                 '{\"prompt\":\"\",\"title\":\"\",\"video\":false,\"visual_style\":\"\",\"time_period\":\"\",\"location\":\"\",\"genre\":\"\",\"medium\":\"\",\"plot_overview\":\"\",\"narrative_perspective\":\"\",\"conflict_type\":\"\",\"themes\":[],\"motifs\":[],\"characters\":[{\"nickname\":\"\",\"name\":\"\",\"description\":\"\",\"personality\":\"\",\"physical_appearance\":\"\",\"role\":\"\",\"gender\":\"\",\"race\":\"\",\"age\":\"\",\"catch_phrase\":\"\",\"animation_description\":\"\",\"voice_description\":\"\",\"voice_sample\":null,\"props\":[],\"relationships\":[{\"character_name\":null,\"relationship_type\":null,\"description\":\"\"}],\"internal_conflict\":\"\",\"character_arc\":{\"initial_state\":\"\",\"final_state\":\"\",\"key_moments\":[\"\"]},\"image_prompt\":\"\",\"image_prompt_short\":\"\"}],\"props\":[{\"name\":\"\",\"description\":\"\",\"purpose\":\"\",\"physical_appearance\":\"\",\"animation_description\":\"\"}],\"story_beats\":[{\"name\":null,\"description\":null,\"scene\":\"\"}],\"subplots\":[{\"title\":null,\"description\":\"\",\"related_characters\":[]}],\"emotional_arc\":[{\"stage\":null,\"description\":\"\"}],\"acts\":[{\"act_id\":\"\",\"title\":\"\",\"description\":\"\",\"scenes\":[{\"scene_id\":\"\",\"title\":\"\",\"description\":\"\",\"characters_involved\":[\"\"],\"setting\":\"\",\"time_of_day\":\"\",\"location\":\"\",\"lighting\":\"\",\"mood\":\"\",\"props\":[\"\"],\"key_actions\":[\"\"],\"dialogue\":[],\"background_image_prompt\":\"\",\"background_animation\":\"\",\"scene_image_prompt\":\"\",\"scene_image_prompt_short\":\"\"}],\"props\":[\"\"]}]}'}\n",
      "Failed to parse Story JSON. Trying to repair json. Attempt 1\n",
      "Failed to parse Story JSON. Attempt 1\n",
      "1 validation error for Story\n",
      "acts.0.scenes.0.dialogue.0.character_nickname\n",
      "  Field required [type=missing, input_value={'character': 'Lyra', 'li...n these ancient words?'}, input_type=dict]\n",
      "    For further information visit https://errors.pydantic.dev/2.9/v/missing\n",
      "!!!!!!!!!! call_llm !!!!!!!!!!!\n",
      "Retry 1\n",
      "config: \n",
      "RailsConfig(models=[Model(type='main', engine='ollama', model='nemotron:70b', parameters={'model': 'nemotron:70b'})], user_messages={}, bot_messages={'inform cannot parse json': ['Unable to parse the Story JSON.'], 'refuse to respond': [\"I'm sorry, I can't respond to that.\"], 'response untrustworthy': ['$bot_message \\\\nCAUTION: THIS ANSWER HAS BEEN FLAGGED AS POTENTIALLY UNTRUSTWORTHY'], 'inform cannot engage in abusive or harmful behavior': ['I will not engage in any abusive or harmful behavior.'], 'inform cannot engage with inappropriate content': ['I will not engage with inappropriate content.'], 'inform cannot engage with sensitive content': ['I will not engage with sensitive content.'], 'inform answer unknown': [\"I don't know the answer to that.\"], 'inform cannot engage in self harm behavior': ['I will not engage in any self harm behavior.'], 'inform answer prone to hallucination': ['The previous answer is prone to hallucination and may not be accurate. Please double check the answer using additional sources.', 'The above response may have been hallucinated, and should be independently verified.']}, flows=[{'id': 'retry json', 'elements': [{'_type': 'meta', 'meta': {'subflow': True}}, {'_type': 'run_action', 'action_name': 'retry_json', 'action_params': {}, 'action_result_key': 'failed_json', '_source_mapping': {'filename': 'main.co', 'line_number': 7, 'line_text': '$failed_json = execute retry_json', 'comment': None}}, {'_type': 'if', 'expression': '$failed_json', '_source_mapping': {'filename': 'main.co', 'line_number': 9, 'line_text': 'if $failed_json', 'comment': None}, '_next_else': 3}, {'_type': 'run_action', 'action_name': 'utter', 'action_params': {'value': 'inform cannot parse json'}, '_source_mapping': {'filename': 'main.co', 'line_number': 10, 'line_text': 'bot inform cannot parse json', 'comment': None}}, {'_type': 'run_action', 'action_name': 'utter', 'action_params': {'value': 'stop'}, '_source_mapping': {'filename': 'main.co', 'line_number': 11, 'line_text': 'stop', 'comment': None}}], 'source_code': '$failed_json = execute retry_json\\nif $failed_json\\n    bot inform cannot parse json\\n    stop', 'is_system_flow': True, 'is_subflow': True}, {'id': 'process user input', 'elements': [{'_type': 'meta', 'meta': {'allow_multiple': True}}, {'_type': 'UtteranceUserActionFinished', 'final_transcript': '...', '_source_mapping': {'filename': 'llm_flows.co', 'line_number': 3, 'line_text': 'event UtteranceUserActionFinished(final_transcript=\"...\")', 'comment': 'Run all the input rails on the user input.'}}, {'_type': 'set', 'key': 'user_message', 'expression': '$event[\"final_transcript\"]', '_source_mapping': {'filename': 'llm_flows.co', 'line_number': 4, 'line_text': '$user_message = $event[\"final_transcript\"]', 'comment': None}}, {'_type': 'if', 'expression': '$config.rails.input.flows', '_source_mapping': {'filename': 'llm_flows.co', 'line_number': 7, 'line_text': 'if $config.rails.input.flows', 'comment': 'If we have input rails, we run them, otherwise we just create the user message event'}, '_next_else': 7}, {'_type': 'if', 'expression': '$generation_options is None or $generation_options.rails.input', '_source_mapping': {'filename': 'llm_flows.co', 'line_number': 9, 'line_text': 'if $generation_options is None or $generation_options.rails.input:', 'comment': 'If we have generation options, we make sure the input rails are enabled.'}, '_next_else': 6}, {'_type': 'run_action', 'action_name': 'create_event', 'action_params': {'event': {'_type': 'StartInputRails'}}, '_source_mapping': {'filename': 'llm_flows.co', 'line_number': 11, 'line_text': 'create event StartInputRails', 'comment': 'Create a marker event.'}}, {'_type': 'StartInputRails', '_source_mapping': {'filename': 'llm_flows.co', 'line_number': 12, 'line_text': 'event StartInputRails', 'comment': None}}, {'_type': 'flow', 'flow_name': 'run input rails', 'flow_parameters': {}, 'return_vars': [], '_source_mapping': {'filename': 'llm_flows.co', 'line_number': 16, 'line_text': 'do run input rails', 'comment': 'Run all the input rails\\nThis can potentially alter the $user_message'}}, {'_type': 'run_action', 'action_name': 'create_event', 'action_params': {'event': {'_type': 'InputRailsFinished'}}, '_source_mapping': {'filename': 'llm_flows.co', 'line_number': 19, 'line_text': 'create event InputRailsFinished', 'comment': 'Create a marker event.'}}, {'_type': 'InputRailsFinished', '_source_mapping': {'filename': 'llm_flows.co', 'line_number': 20, 'line_text': 'event InputRailsFinished', 'comment': None}}, {'_type': 'run_action', 'action_name': 'create_event', 'action_params': {'event': {'_type': 'UserMessage', 'text': '$user_message'}}, '_source_mapping': {'filename': 'llm_flows.co', 'line_number': 22, 'line_text': 'create event UserMessage(text=$user_message)', 'comment': None}}], 'source_code': 'event UtteranceUserActionFinished(final_transcript=\"...\")\\n$user_message = $event[\"final_transcript\"]\\n# If we have input rails, we run them, otherwise we just create the user message event\\nif $config.rails.input.flows\\n  # If we have generation options, we make sure the input rails are enabled.\\n  if $generation_options is None or $generation_options.rails.input:\\n    # Create a marker event.\\n    create event StartInputRails\\n    event StartInputRails\\n    # Run all the input rails\\n    # This can potentially alter the $user_message\\n    do run input rails\\n    # Create a marker event.\\n    create event InputRailsFinished\\n    event InputRailsFinished\\ncreate event UserMessage(text=$user_message)', 'is_system_flow': True, 'allow_multiple': True}, {'id': 'run dialog rails', 'elements': [{'_type': 'UserMessage', 'text': '...', '_source_mapping': {'filename': 'llm_flows.co', 'line_number': 27, 'line_text': 'event UserMessage(text=\"...\")', 'comment': \"Generate the user's intent based on the text.\"}}, {'_type': 'if', 'expression': '$generation_options and $generation_options.rails.dialog == False', '_source_mapping': {'filename': 'llm_flows.co', 'line_number': 30, 'line_text': 'if $generation_options and $generation_options.rails.dialog == False', 'comment': 'If the dialog_rails are disabled'}, '_next_else': 6}, {'_type': 'if', 'expression': '$generation_options.rails.output == False', '_source_mapping': {'filename': 'llm_flows.co', 'line_number': 32, 'line_text': 'if $generation_options.rails.output == False', 'comment': 'If the output rails are also disabled, we just return user message.'}, '_next_else': 3}, {'_type': 'run_action', 'action_name': 'create_event', 'action_params': {'event': {'_type': 'StartUtteranceBotAction', 'script': '$user_message'}}, '_source_mapping': {'filename': 'llm_flows.co', 'line_number': 33, 'line_text': 'create event StartUtteranceBotAction(script=$user_message)', 'comment': None}}, {'_type': 'jump', '_next': 2}, {'_type': 'run_action', 'action_name': 'create_event', 'action_params': {'event': {'_type': 'BotMessage', 'text': '$bot_message'}}, '_source_mapping': {'filename': 'llm_flows.co', 'line_number': 36, 'line_text': 'create event BotMessage(text=$bot_message)', 'comment': 'we take the $bot_message from context.'}}, {'_type': 'jump', '_next': 2}, {'_type': 'flow', 'flow_name': 'generate user intent', 'flow_parameters': {}, 'return_vars': [], '_source_mapping': {'filename': 'llm_flows.co', 'line_number': 39, 'line_text': 'do generate user intent', 'comment': 'If not, we continue the usual process'}}], 'source_code': 'event UserMessage(text=\"...\")\\n# If the dialog_rails are disabled\\nif $generation_options and $generation_options.rails.dialog == False\\n  # If the output rails are also disabled, we just return user message.\\n  if $generation_options.rails.output == False\\n    create event StartUtteranceBotAction(script=$user_message)\\n  else\\n    # we take the $bot_message from context.\\n    create event BotMessage(text=$bot_message)\\nelse\\n  # If not, we continue the usual process\\n  do generate user intent', 'is_system_flow': True}, {'id': 'generate user intent', 'elements': [{'_type': 'meta', 'meta': {'subflow': True}}, {'_type': 'run_action', 'action_name': 'generate_user_intent', 'action_params': {}, 'action_result_key': None, '_source_mapping': {'filename': 'llm_flows.co', 'line_number': 44, 'line_text': 'execute generate_user_intent', 'comment': 'Generates the user intent.'}}], 'source_code': 'execute generate_user_intent', 'is_system_flow': True, 'is_subflow': True}, {'id': 'run input rails', 'elements': [{'_type': 'meta', 'meta': {'subflow': True}}, {'_type': 'set', 'key': 'i', 'expression': '0', '_source_mapping': {'filename': 'llm_flows.co', 'line_number': 49, 'line_text': '$i = 0', 'comment': 'Runs all the input rails in a sequential order. '}}, {'_type': 'set', 'key': 'input_flows', 'expression': '$config.rails.input.flows', '_source_mapping': {'filename': 'llm_flows.co', 'line_number': 50, 'line_text': '$input_flows = $config.rails.input.flows', 'comment': None}}, {'_type': 'while', 'expression': '$i < len($input_flows)', '_source_mapping': {'filename': 'llm_flows.co', 'line_number': 51, 'line_text': 'while $i < len($input_flows)', 'comment': None}, '_next_on_break': 10}, {'_type': 'set', 'key': 'triggered_input_rail', 'expression': '$input_flows[$i]', '_source_mapping': {'filename': 'llm_flows.co', 'line_number': 53, 'line_text': '$triggered_input_rail = $input_flows[$i]', 'comment': 'We set the current rail as being triggered.'}, '_next_on_break': 9, '_next_on_continue': -1}, {'_type': 'run_action', 'action_name': 'create_event', 'action_params': {'event': {'_type': 'StartInputRail', 'flow_id': '$triggered_input_rail'}}, '_source_mapping': {'filename': 'llm_flows.co', 'line_number': 55, 'line_text': 'create event StartInputRail(flow_id=$triggered_input_rail)', 'comment': None}, '_next_on_break': 8, '_next_on_continue': -2}, {'_type': 'StartInputRail', '_source_mapping': {'filename': 'llm_flows.co', 'line_number': 56, 'line_text': 'event StartInputRail', 'comment': None}, '_next_on_break': 7, '_next_on_continue': -3}, {'_type': 'flow', 'flow_name': '$input_flows[$i]', 'flow_parameters': {}, 'return_vars': [], '_source_mapping': {'filename': 'llm_flows.co', 'line_number': 58, 'line_text': 'do $input_flows[$i]', 'comment': None}, '_next_on_break': 6, '_next_on_continue': -4}, {'_type': 'set', 'key': 'i', 'expression': '$i + 1', '_source_mapping': {'filename': 'llm_flows.co', 'line_number': 59, 'line_text': '$i = $i + 1', 'comment': None}, '_next_on_break': 5, '_next_on_continue': -5}, {'_type': 'run_action', 'action_name': 'create_event', 'action_params': {'event': {'_type': 'InputRailFinished', 'flow_id': '$triggered_input_rail'}}, '_source_mapping': {'filename': 'llm_flows.co', 'line_number': 61, 'line_text': 'create event InputRailFinished(flow_id=$triggered_input_rail)', 'comment': None}, '_next_on_break': 4, '_next_on_continue': -6}, {'_type': 'InputRailFinished', '_source_mapping': {'filename': 'llm_flows.co', 'line_number': 62, 'line_text': 'event InputRailFinished', 'comment': None}, '_next_on_break': 3, '_next_on_continue': -7}, {'_type': 'set', 'key': 'triggered_input_rail', 'expression': 'None', '_source_mapping': {'filename': 'llm_flows.co', 'line_number': 65, 'line_text': '$triggered_input_rail = None', 'comment': 'If all went smooth, we remove it.'}, '_next_on_break': 2, '_next_on_continue': -8}, {'_type': 'jump', '_next': -9}], 'source_code': '$i = 0\\n$input_flows = $config.rails.input.flows\\nwhile $i < len($input_flows)\\n  # We set the current rail as being triggered.\\n  $triggered_input_rail = $input_flows[$i]\\n  create event StartInputRail(flow_id=$triggered_input_rail)\\n  event StartInputRail\\n  do $input_flows[$i]\\n  $i = $i + 1\\n  create event InputRailFinished(flow_id=$triggered_input_rail)\\n  event InputRailFinished\\n  # If all went smooth, we remove it.\\n  $triggered_input_rail = None', 'is_system_flow': True, 'is_subflow': True}, {'id': 'generate next step', 'elements': [{'_type': 'meta', 'meta': {'priority': 0.9}}, {'_type': 'UserIntent', 'intent_name': '...', 'intent_params': {}, '_source_mapping': {'filename': 'llm_flows.co', 'line_number': 77, 'line_text': 'user ...', 'comment': None}}, {'_type': 'run_action', 'action_name': 'generate_next_step', 'action_params': {}, 'action_result_key': None, '_source_mapping': {'filename': 'llm_flows.co', 'line_number': 78, 'line_text': 'execute generate_next_step', 'comment': None}}], 'source_code': 'user ...\\nexecute generate_next_step', 'is_system_flow': True, 'priority': 0.9}, {'id': 'generate bot message', 'elements': [{'_type': 'meta', 'meta': {'is_extension': True, 'allow_multiple': True, 'priority': 100}}, {'_type': 'run_action', 'action_name': 'utter', 'action_params': {'value': '...'}, '_source_mapping': {'filename': 'llm_flows.co', 'line_number': 88, 'line_text': 'bot ...', 'comment': None}}, {'_type': 'run_action', 'action_name': 'retrieve_relevant_chunks', 'action_params': {}, 'action_result_key': None, '_source_mapping': {'filename': 'llm_flows.co', 'line_number': 89, 'line_text': 'execute retrieve_relevant_chunks', 'comment': None}}, {'_type': 'if', 'expression': '$config.rails.retrieval.flows', '_source_mapping': {'filename': 'llm_flows.co', 'line_number': 92, 'line_text': 'if $config.rails.retrieval.flows', 'comment': 'If we have any retrieval rails, we run them.'}, '_next_else': 3}, {'_type': 'if', 'expression': '$generation_options is None or $generation_options.rails.retrieval', '_source_mapping': {'filename': 'llm_flows.co', 'line_number': 94, 'line_text': 'if $generation_options is None or $generation_options.rails.retrieval:', 'comment': 'If we have generation options, we make sure the retrieval rails are enabled.'}, '_next_else': 2}, {'_type': 'flow', 'flow_name': 'run retrieval rails', 'flow_parameters': {}, 'return_vars': [], '_source_mapping': {'filename': 'llm_flows.co', 'line_number': 95, 'line_text': 'do run retrieval rails', 'comment': None}}, {'_type': 'run_action', 'action_name': 'generate_bot_message', 'action_params': {}, 'action_result_key': None, '_source_mapping': {'filename': 'llm_flows.co', 'line_number': 98, 'line_text': 'execute generate_bot_message', 'comment': '$output_rails_enabled = True'}}], 'source_code': 'bot ...\\nexecute retrieve_relevant_chunks\\n# If we have any retrieval rails, we run them.\\nif $config.rails.retrieval.flows\\n  # If we have generation options, we make sure the retrieval rails are enabled.\\n  if $generation_options is None or $generation_options.rails.retrieval:\\n    do run retrieval rails\\n# $output_rails_enabled = True\\nexecute generate_bot_message', 'is_system_flow': True, 'priority': 100, 'is_extension': True, 'allow_multiple': True}, {'id': 'process bot message', 'elements': [{'_type': 'meta', 'meta': {'is_extension': True, 'allow_multiple': True, 'priority': 100}}, {'_type': 'BotMessage', '_source_mapping': {'filename': 'llm_flows.co', 'line_number': 105, 'line_text': 'event BotMessage', 'comment': None}}, {'_type': 'set', 'key': 'bot_message', 'expression': '$event.text', '_source_mapping': {'filename': 'llm_flows.co', 'line_number': 107, 'line_text': '$bot_message = $event.text', 'comment': None}}, {'_type': 'if', 'expression': '$skip_output_rails', '_source_mapping': {'filename': 'llm_flows.co', 'line_number': 109, 'line_text': 'if $skip_output_rails', 'comment': None}, '_next_else': 3}, {'_type': 'set', 'key': 'skip_output_rails', 'expression': 'False', '_source_mapping': {'filename': 'llm_flows.co', 'line_number': 110, 'line_text': '$skip_output_rails = False', 'comment': None}}, {'_type': 'jump', '_next': 8}, {'_type': 'if', 'expression': '$config.rails.output.flows', '_source_mapping': {'filename': 'llm_flows.co', 'line_number': 113, 'line_text': 'if $config.rails.output.flows', 'comment': 'If we have any output flows, we run them.'}, '_next_else': 7}, {'_type': 'if', 'expression': '$generation_options is None or $generation_options.rails.output', '_source_mapping': {'filename': 'llm_flows.co', 'line_number': 115, 'line_text': 'if $generation_options is None or $generation_options.rails.output:', 'comment': 'If we have generation options, we make sure the output rails are enabled.'}, '_next_else': 6}, {'_type': 'run_action', 'action_name': 'create_event', 'action_params': {'event': {'_type': 'StartOutputRails'}}, '_source_mapping': {'filename': 'llm_flows.co', 'line_number': 117, 'line_text': 'create event StartOutputRails', 'comment': 'Create a marker event.'}}, {'_type': 'StartOutputRails', '_source_mapping': {'filename': 'llm_flows.co', 'line_number': 118, 'line_text': 'event StartOutputRails', 'comment': None}}, {'_type': 'flow', 'flow_name': 'run output rails', 'flow_parameters': {}, 'return_vars': [], '_source_mapping': {'filename': 'llm_flows.co', 'line_number': 122, 'line_text': 'do run output rails', 'comment': 'Run all the output rails\\nThis can potentially alter the $user_message'}}, {'_type': 'run_action', 'action_name': 'create_event', 'action_params': {'event': {'_type': 'OutputRailsFinished'}}, '_source_mapping': {'filename': 'llm_flows.co', 'line_number': 125, 'line_text': 'create event OutputRailsFinished', 'comment': 'Create a marker event.'}}, {'_type': 'OutputRailsFinished', '_source_mapping': {'filename': 'llm_flows.co', 'line_number': 126, 'line_text': 'event OutputRailsFinished', 'comment': None}}, {'_type': 'run_action', 'action_name': 'create_event', 'action_params': {'event': {'_type': 'StartUtteranceBotAction', 'script': '$bot_message'}}, '_source_mapping': {'filename': 'llm_flows.co', 'line_number': 128, 'line_text': 'create event StartUtteranceBotAction(script=$bot_message)', 'comment': None}}], 'source_code': 'event BotMessage\\n$bot_message = $event.text\\nif $skip_output_rails\\n  $skip_output_rails = False\\nelse\\n  # If we have any output flows, we run them.\\n  if $config.rails.output.flows\\n    # If we have generation options, we make sure the output rails are enabled.\\n    if $generation_options is None or $generation_options.rails.output:\\n      # Create a marker event.\\n      create event StartOutputRails\\n      event StartOutputRails\\n      # Run all the output rails\\n      # This can potentially alter the $user_message\\n      do run output rails\\n      # Create a marker event.\\n      create event OutputRailsFinished\\n      event OutputRailsFinished\\ncreate event StartUtteranceBotAction(script=$bot_message)', 'is_system_flow': True, 'priority': 100, 'is_extension': True, 'allow_multiple': True}, {'id': 'run output rails', 'elements': [{'_type': 'meta', 'meta': {'subflow': True}}, {'_type': 'set', 'key': 'i', 'expression': '0', '_source_mapping': {'filename': 'llm_flows.co', 'line_number': 133, 'line_text': '$i = 0', 'comment': 'Runs all the output rails in a sequential order. '}}, {'_type': 'set', 'key': 'output_flows', 'expression': '$config.rails.output.flows', '_source_mapping': {'filename': 'llm_flows.co', 'line_number': 134, 'line_text': '$output_flows = $config.rails.output.flows', 'comment': None}}, {'_type': 'while', 'expression': '$i < len($output_flows)', '_source_mapping': {'filename': 'llm_flows.co', 'line_number': 135, 'line_text': 'while $i < len($output_flows)', 'comment': None}, '_next_on_break': 10}, {'_type': 'set', 'key': 'triggered_output_rail', 'expression': '$output_flows[$i]', '_source_mapping': {'filename': 'llm_flows.co', 'line_number': 137, 'line_text': '$triggered_output_rail = $output_flows[$i]', 'comment': 'We set the current rail as being triggered.'}, '_next_on_break': 9, '_next_on_continue': -1}, {'_type': 'run_action', 'action_name': 'create_event', 'action_params': {'event': {'_type': 'StartOutputRail', 'flow_id': '$triggered_output_rail'}}, '_source_mapping': {'filename': 'llm_flows.co', 'line_number': 139, 'line_text': 'create event StartOutputRail(flow_id=$triggered_output_rail)', 'comment': None}, '_next_on_break': 8, '_next_on_continue': -2}, {'_type': 'StartOutputRail', '_source_mapping': {'filename': 'llm_flows.co', 'line_number': 140, 'line_text': 'event StartOutputRail', 'comment': None}, '_next_on_break': 7, '_next_on_continue': -3}, {'_type': 'flow', 'flow_name': '$output_flows[$i]', 'flow_parameters': {}, 'return_vars': [], '_source_mapping': {'filename': 'llm_flows.co', 'line_number': 142, 'line_text': 'do $output_flows[$i]', 'comment': None}, '_next_on_break': 6, '_next_on_continue': -4}, {'_type': 'set', 'key': 'i', 'expression': '$i + 1', '_source_mapping': {'filename': 'llm_flows.co', 'line_number': 143, 'line_text': '$i = $i + 1', 'comment': None}, '_next_on_break': 5, '_next_on_continue': -5}, {'_type': 'run_action', 'action_name': 'create_event', 'action_params': {'event': {'_type': 'OutputRailFinished', 'flow_id': '$triggered_output_rail'}}, '_source_mapping': {'filename': 'llm_flows.co', 'line_number': 145, 'line_text': 'create event OutputRailFinished(flow_id=$triggered_output_rail)', 'comment': None}, '_next_on_break': 4, '_next_on_continue': -6}, {'_type': 'OutputRailFinished', '_source_mapping': {'filename': 'llm_flows.co', 'line_number': 146, 'line_text': 'event OutputRailFinished', 'comment': None}, '_next_on_break': 3, '_next_on_continue': -7}, {'_type': 'set', 'key': 'triggered_output_rail', 'expression': 'None', '_source_mapping': {'filename': 'llm_flows.co', 'line_number': 149, 'line_text': '$triggered_output_rail = None', 'comment': 'If all went smooth, we remove it.'}, '_next_on_break': 2, '_next_on_continue': -8}, {'_type': 'jump', '_next': -9}], 'source_code': '$i = 0\\n$output_flows = $config.rails.output.flows\\nwhile $i < len($output_flows)\\n  # We set the current rail as being triggered.\\n  $triggered_output_rail = $output_flows[$i]\\n  create event StartOutputRail(flow_id=$triggered_output_rail)\\n  event StartOutputRail\\n  do $output_flows[$i]\\n  $i = $i + 1\\n  create event OutputRailFinished(flow_id=$triggered_output_rail)\\n  event OutputRailFinished\\n  # If all went smooth, we remove it.\\n  $triggered_output_rail = None', 'is_system_flow': True, 'is_subflow': True}, {'id': 'run retrieval rails', 'elements': [{'_type': 'meta', 'meta': {'subflow': True}}, {'_type': 'set', 'key': 'i', 'expression': '0', '_source_mapping': {'filename': 'llm_flows.co', 'line_number': 154, 'line_text': '$i = 0', 'comment': 'Runs all the retrieval rails in a sequential order. '}}, {'_type': 'set', 'key': 'retrieval_flows', 'expression': '$config.rails.retrieval.flows', '_source_mapping': {'filename': 'llm_flows.co', 'line_number': 155, 'line_text': '$retrieval_flows = $config.rails.retrieval.flows', 'comment': None}}, {'_type': 'while', 'expression': '$i < len($retrieval_flows)', '_source_mapping': {'filename': 'llm_flows.co', 'line_number': 156, 'line_text': 'while $i < len($retrieval_flows)', 'comment': None}, '_next_on_break': 4}, {'_type': 'flow', 'flow_name': '$retrieval_flows[$i]', 'flow_parameters': {}, 'return_vars': [], '_source_mapping': {'filename': 'llm_flows.co', 'line_number': 157, 'line_text': 'do $retrieval_flows[$i]', 'comment': None}, '_next_on_break': 3, '_next_on_continue': -1}, {'_type': 'set', 'key': 'i', 'expression': '$i + 1', '_source_mapping': {'filename': 'llm_flows.co', 'line_number': 158, 'line_text': '$i = $i + 1', 'comment': None}, '_next_on_break': 2, '_next_on_continue': -2}, {'_type': 'jump', '_next': -3}], 'source_code': '$i = 0\\n$retrieval_flows = $config.rails.retrieval.flows\\nwhile $i < len($retrieval_flows)\\n  do $retrieval_flows[$i]\\n  $i = $i + 1', 'is_system_flow': True, 'is_subflow': True}, {'id': 'llama guard check input', 'elements': [{'_type': 'run_action', 'action_name': 'llama_guard_check_input', 'action_params': {}, 'action_result_key': 'llama_guard_response', '_source_mapping': {'filename': 'flows.v1.co', 'line_number': 5, 'line_text': '$llama_guard_response = execute llama_guard_check_input', 'comment': None}}, {'_type': 'set', 'key': 'allowed', 'expression': '$llama_guard_response[\"allowed\"]', '_source_mapping': {'filename': 'flows.v1.co', 'line_number': 6, 'line_text': '$allowed = $llama_guard_response[\"allowed\"]', 'comment': None}}, {'_type': 'set', 'key': 'llama_guard_policy_violations', 'expression': '$llama_guard_response[\"policy_violations\"]', '_source_mapping': {'filename': 'flows.v1.co', 'line_number': 8, 'line_text': '$llama_guard_policy_violations = $llama_guard_response[\"policy_violations\"]', 'comment': 'Policy violations are currently unused, but can be used to better phrase the bot output'}}, {'_type': 'if', 'expression': 'not $allowed', '_source_mapping': {'filename': 'flows.v1.co', 'line_number': 10, 'line_text': 'if not $allowed', 'comment': None}, '_next_else': 6}, {'_type': 'if', 'expression': '$config.enable_rails_exceptions', '_source_mapping': {'filename': 'flows.v1.co', 'line_number': 11, 'line_text': 'if $config.enable_rails_exceptions', 'comment': None}, '_next_else': 3}, {'_type': 'run_action', 'action_name': 'create_event', 'action_params': {'event': {'_type': 'LlamaGuardInputRailException', 'message': \"Input not allowed. The input was blocked by the 'llama guard check input' flow. Please ensure your input meets the required criteria.\"}}, '_source_mapping': {'filename': 'flows.v1.co', 'line_number': 12, 'line_text': 'create event LlamaGuardInputRailException(message=\"Input not allowed. The input was blocked by the \\'llama guard check input\\' flow. Please ensure your input meets the required criteria.\")', 'comment': None}}, {'_type': 'jump', '_next': 2}, {'_type': 'run_action', 'action_name': 'utter', 'action_params': {'value': 'refuse to respond'}, '_source_mapping': {'filename': 'flows.v1.co', 'line_number': 14, 'line_text': 'bot refuse to respond', 'comment': None}}, {'_type': 'run_action', 'action_name': 'utter', 'action_params': {'value': 'stop'}, '_source_mapping': {'filename': 'flows.v1.co', 'line_number': 15, 'line_text': 'stop', 'comment': None}}], 'source_code': '$llama_guard_response = execute llama_guard_check_input\\n$allowed = $llama_guard_response[\"allowed\"]\\n# Policy violations are currently unused, but can be used to better phrase the bot output\\n$llama_guard_policy_violations = $llama_guard_response[\"policy_violations\"]\\nif not $allowed\\n  if $config.enable_rails_exceptions\\n    create event LlamaGuardInputRailException(message=\"Input not allowed. The input was blocked by the \\'llama guard check input\\' flow. Please ensure your input meets the required criteria.\")\\n  else\\n    bot refuse to respond\\n  stop', 'is_system_flow': True}, {'id': 'llama guard check output', 'elements': [{'_type': 'run_action', 'action_name': 'llama_guard_check_output', 'action_params': {}, 'action_result_key': 'llama_guard_response', '_source_mapping': {'filename': 'flows.v1.co', 'line_number': 18, 'line_text': '$llama_guard_response = execute llama_guard_check_output', 'comment': None}}, {'_type': 'set', 'key': 'allowed', 'expression': '$llama_guard_response[\"allowed\"]', '_source_mapping': {'filename': 'flows.v1.co', 'line_number': 19, 'line_text': '$allowed = $llama_guard_response[\"allowed\"]', 'comment': None}}, {'_type': 'set', 'key': 'llama_guard_policy_violations', 'expression': '$llama_guard_response[\"policy_violations\"]', '_source_mapping': {'filename': 'flows.v1.co', 'line_number': 20, 'line_text': '$llama_guard_policy_violations = $llama_guard_response[\"policy_violations\"]', 'comment': None}}, {'_type': 'if', 'expression': 'not $allowed', '_source_mapping': {'filename': 'flows.v1.co', 'line_number': 22, 'line_text': 'if not $allowed', 'comment': None}, '_next_else': 6}, {'_type': 'if', 'expression': '$config.enable_rails_exceptions', '_source_mapping': {'filename': 'flows.v1.co', 'line_number': 23, 'line_text': 'if $config.enable_rails_exceptions', 'comment': None}, '_next_else': 3}, {'_type': 'run_action', 'action_name': 'create_event', 'action_params': {'event': {'_type': 'LlamaGuardOutputRailException', 'message': \"Output not allowed. The output was blocked by the 'llama guard check output' flow. Please ensure your output meets the required criteria.\"}}, '_source_mapping': {'filename': 'flows.v1.co', 'line_number': 24, 'line_text': 'create event LlamaGuardOutputRailException(message=\"Output not allowed. The output was blocked by the \\'llama guard check output\\' flow. Please ensure your output meets the required criteria.\")', 'comment': None}}, {'_type': 'jump', '_next': 2}, {'_type': 'run_action', 'action_name': 'utter', 'action_params': {'value': 'refuse to respond'}, '_source_mapping': {'filename': 'flows.v1.co', 'line_number': 26, 'line_text': 'bot refuse to respond', 'comment': None}}, {'_type': 'run_action', 'action_name': 'utter', 'action_params': {'value': 'stop'}, '_source_mapping': {'filename': 'flows.v1.co', 'line_number': 27, 'line_text': 'stop', 'comment': None}}], 'source_code': '$llama_guard_response = execute llama_guard_check_output\\n$allowed = $llama_guard_response[\"allowed\"]\\n$llama_guard_policy_violations = $llama_guard_response[\"policy_violations\"]\\nif not $allowed\\n  if $config.enable_rails_exceptions\\n    create event LlamaGuardOutputRailException(message=\"Output not allowed. The output was blocked by the \\'llama guard check output\\' flow. Please ensure your output meets the required criteria.\")\\n  else\\n    bot refuse to respond\\n  stop', 'is_system_flow': True}, {'id': 'alignscore check facts', 'elements': [{'_type': 'meta', 'meta': {'subflow': True}}, {'_type': 'if', 'expression': '$check_facts == True', '_source_mapping': {'filename': 'flows.v1.co', 'line_number': 7, 'line_text': 'if $check_facts == True', 'comment': 'Check if the previous answer is accurate w.r.t. the relevant chunks.\\nThis output rail must be enabled explicitly per output message by setting\\nthe $check_facts context variable to True.\\n'}, '_next_else': 9}, {'_type': 'set', 'key': 'check_facts', 'expression': 'False', '_source_mapping': {'filename': 'flows.v1.co', 'line_number': 8, 'line_text': '$check_facts = False', 'comment': None}}, {'_type': 'run_action', 'action_name': 'alignscore_check_facts', 'action_params': {}, 'action_result_key': 'accuracy', '_source_mapping': {'filename': 'flows.v1.co', 'line_number': 10, 'line_text': '$accuracy = execute alignscore_check_facts', 'comment': None}}, {'_type': 'if', 'expression': '$accuracy < 0.5', '_source_mapping': {'filename': 'flows.v1.co', 'line_number': 11, 'line_text': 'if $accuracy < 0.5', 'comment': None}, '_next_else': 6}, {'_type': 'if', 'expression': '$config.enable_rails_exceptions', '_source_mapping': {'filename': 'flows.v1.co', 'line_number': 12, 'line_text': 'if $config.enable_rails_exceptions', 'comment': None}, '_next_else': 3}, {'_type': 'run_action', 'action_name': 'create_event', 'action_params': {'event': {'_type': 'AlignScoreCheckFactRailException', 'message': 'Fact check failed. The accuracy of the previous answer was below the required threshold.'}}, '_source_mapping': {'filename': 'flows.v1.co', 'line_number': 13, 'line_text': 'create event AlignScoreCheckFactRailException(message=\"Fact check failed. The accuracy of the previous answer was below the required threshold.\")', 'comment': None}}, {'_type': 'jump', '_next': 2}, {'_type': 'run_action', 'action_name': 'utter', 'action_params': {'value': 'inform answer unknown'}, '_source_mapping': {'filename': 'flows.v1.co', 'line_number': 15, 'line_text': 'bot inform answer unknown', 'comment': None}}, {'_type': 'run_action', 'action_name': 'utter', 'action_params': {'value': 'stop'}, '_source_mapping': {'filename': 'flows.v1.co', 'line_number': 16, 'line_text': 'stop', 'comment': None}}], 'source_code': 'if $check_facts == True\\n  $check_facts = False\\n  $accuracy = execute alignscore_check_facts\\n  if $accuracy < 0.5\\n    if $config.enable_rails_exceptions\\n      create event AlignScoreCheckFactRailException(message=\"Fact check failed. The accuracy of the previous answer was below the required threshold.\")\\n    else\\n      bot inform answer unknown\\n    stop', 'is_system_flow': True, 'is_subflow': True}, {'id': 'autoalign check input', 'elements': [{'_type': 'meta', 'meta': {'subflow': True}}, {'_type': 'run_action', 'action_name': 'autoalign_input_api', 'action_params': {'show_autoalign_message': True}, 'action_result_key': 'input_result', '_source_mapping': {'filename': 'flows.v1.co', 'line_number': 2, 'line_text': '$input_result = execute autoalign_input_api(show_autoalign_message=True)', 'comment': None}}, {'_type': 'if', 'expression': '$input_result[\"guardrails_triggered\"]', '_source_mapping': {'filename': 'flows.v1.co', 'line_number': 3, 'line_text': 'if $input_result[\"guardrails_triggered\"]', 'comment': None}, '_next_else': 8}, {'_type': 'set', 'key': 'autoalign_input_response', 'expression': \"$input_result['combined_response']\", '_source_mapping': {'filename': 'flows.v1.co', 'line_number': 4, 'line_text': \"$autoalign_input_response = $input_result['combined_response']\", 'comment': None}}, {'_type': 'if', 'expression': '$config.enable_rails_exceptions', '_source_mapping': {'filename': 'flows.v1.co', 'line_number': 5, 'line_text': 'if $config.enable_rails_exceptions', 'comment': None}, '_next_else': 3}, {'_type': 'run_action', 'action_name': 'create_event', 'action_params': {'event': {'_type': 'AutoAlignInputRailException', 'message': 'AutoAlign input guardrail triggered'}}, '_source_mapping': {'filename': 'flows.v1.co', 'line_number': 6, 'line_text': 'create event AutoAlignInputRailException(message=\"AutoAlign input guardrail triggered\")', 'comment': None}}, {'_type': 'jump', '_next': 2}, {'_type': 'run_action', 'action_name': 'utter', 'action_params': {'value': 'refuse to respond'}, '_source_mapping': {'filename': 'flows.v1.co', 'line_number': 8, 'line_text': 'bot refuse to respond', 'comment': None}}, {'_type': 'run_action', 'action_name': 'utter', 'action_params': {'value': 'stop'}, '_source_mapping': {'filename': 'flows.v1.co', 'line_number': 9, 'line_text': 'stop', 'comment': None}}, {'_type': 'jump', '_next': 3}, {'_type': 'if', 'expression': '$input_result[\"pii_fast\"] and $input_result[\"pii_fast\"][\"guarded\"]', '_source_mapping': {'filename': 'flows.v1.co', 'line_number': 10, 'line_text': 'else if $input_result[\"pii_fast\"] and $input_result[\"pii_fast\"][\"guarded\"]:', 'comment': None}, '_next_else': 2}, {'_type': 'set', 'key': 'user_message', 'expression': '$input_result[\"pii_fast\"][\"response\"]', '_source_mapping': {'filename': 'flows.v1.co', 'line_number': 11, 'line_text': '$user_message = $input_result[\"pii_fast\"][\"response\"]', 'comment': None}}], 'source_code': '$input_result = execute autoalign_input_api(show_autoalign_message=True)\\nif $input_result[\"guardrails_triggered\"]\\n  $autoalign_input_response = $input_result[\\'combined_response\\']\\n  if $config.enable_rails_exceptions\\n    create event AutoAlignInputRailException(message=\"AutoAlign input guardrail triggered\")\\n  else\\n    bot refuse to respond\\n  stop\\nelse if $input_result[\"pii_fast\"] and $input_result[\"pii_fast\"][\"guarded\"]:\\n  $user_message = $input_result[\"pii_fast\"][\"response\"]', 'is_system_flow': True, 'is_subflow': True}, {'id': 'autoalign check output', 'elements': [{'_type': 'meta', 'meta': {'subflow': True}}, {'_type': 'run_action', 'action_name': 'autoalign_output_api', 'action_params': {'show_autoalign_message': True}, 'action_result_key': 'output_result', '_source_mapping': {'filename': 'flows.v1.co', 'line_number': 14, 'line_text': '$output_result = execute autoalign_output_api(show_autoalign_message=True)', 'comment': None}}, {'_type': 'if', 'expression': '$output_result[\"guardrails_triggered\"]', '_source_mapping': {'filename': 'flows.v1.co', 'line_number': 15, 'line_text': 'if $output_result[\"guardrails_triggered\"]', 'comment': None}, '_next_else': 7}, {'_type': 'if', 'expression': '$config.enable_rails_exceptions', '_source_mapping': {'filename': 'flows.v1.co', 'line_number': 16, 'line_text': 'if $config.enable_rails_exceptions', 'comment': None}, '_next_else': 3}, {'_type': 'run_action', 'action_name': 'create_event', 'action_params': {'event': {'_type': 'AutoAlignOutputRailException', 'message': 'AutoAlign guardrail triggered'}}, '_source_mapping': {'filename': 'flows.v1.co', 'line_number': 17, 'line_text': 'create event AutoAlignOutputRailException(message=\"AutoAlign guardrail triggered\")', 'comment': None}}, {'_type': 'jump', '_next': 2}, {'_type': 'run_action', 'action_name': 'utter', 'action_params': {'value': 'refuse to respond'}, '_source_mapping': {'filename': 'flows.v1.co', 'line_number': 19, 'line_text': 'bot refuse to respond', 'comment': None}}, {'_type': 'run_action', 'action_name': 'utter', 'action_params': {'value': 'stop'}, '_source_mapping': {'filename': 'flows.v1.co', 'line_number': 20, 'line_text': 'stop', 'comment': None}}, {'_type': 'jump', '_next': 4}, {'_type': 'set', 'key': 'pii_message_output', 'expression': '$output_result[\"pii_fast\"][\"response\"]', '_source_mapping': {'filename': 'flows.v1.co', 'line_number': 22, 'line_text': '$pii_message_output = $output_result[\"pii_fast\"][\"response\"]', 'comment': None}}, {'_type': 'if', 'expression': '$output_result[\"pii_fast\"][\"guarded\"]', '_source_mapping': {'filename': 'flows.v1.co', 'line_number': 23, 'line_text': 'if $output_result[\"pii_fast\"][\"guarded\"]', 'comment': None}, '_next_else': 2}, {'_type': 'set', 'key': 'bot_message', 'expression': '$pii_message_output', '_source_mapping': {'filename': 'flows.v1.co', 'line_number': 24, 'line_text': '$bot_message = $pii_message_output', 'comment': None}}], 'source_code': '$output_result = execute autoalign_output_api(show_autoalign_message=True)\\nif $output_result[\"guardrails_triggered\"]\\n  if $config.enable_rails_exceptions\\n    create event AutoAlignOutputRailException(message=\"AutoAlign guardrail triggered\")\\n  else\\n    bot refuse to respond\\n  stop\\nelse\\n  $pii_message_output = $output_result[\"pii_fast\"][\"response\"]\\n  if $output_result[\"pii_fast\"][\"guarded\"]\\n    $bot_message = $pii_message_output', 'is_system_flow': True, 'is_subflow': True}, {'id': 'autoalign factcheck output', 'elements': [{'_type': 'meta', 'meta': {'subflow': True}}, {'_type': 'if', 'expression': '$check_facts == True', '_source_mapping': {'filename': 'flows.v1.co', 'line_number': 27, 'line_text': 'if $check_facts == True', 'comment': None}, '_next_else': 5}, {'_type': 'set', 'key': 'check_facts', 'expression': 'False', '_source_mapping': {'filename': 'flows.v1.co', 'line_number': 28, 'line_text': '$check_facts = False', 'comment': None}}, {'_type': 'set', 'key': 'threshold', 'expression': '0.5', '_source_mapping': {'filename': 'flows.v1.co', 'line_number': 29, 'line_text': '$threshold = 0.5', 'comment': None}}, {'_type': 'run_action', 'action_name': 'autoalign_factcheck_output_api', 'action_params': {'factcheck_threshold': '$threshold', 'show_autoalign_message': True}, 'action_result_key': 'output_result', '_source_mapping': {'filename': 'flows.v1.co', 'line_number': 30, 'line_text': '$output_result = execute autoalign_factcheck_output_api(factcheck_threshold=$threshold, show_autoalign_message=True)', 'comment': None}}, {'_type': 'run_action', 'action_name': 'utter', 'action_params': {'value': 'provide response'}, '_source_mapping': {'filename': 'flows.v1.co', 'line_number': 31, 'line_text': 'bot provide response', 'comment': None}}], 'source_code': 'if $check_facts == True\\n  $check_facts = False\\n  $threshold = 0.5\\n  $output_result = execute autoalign_factcheck_output_api(factcheck_threshold=$threshold, show_autoalign_message=True)\\n  bot provide response', 'is_system_flow': True, 'is_subflow': True}, {'id': 'cleanlab trustworthiness', 'elements': [{'_type': 'meta', 'meta': {'subflow': True}}, {'_type': 'run_action', 'action_name': 'call cleanlab api', 'action_params': {}, 'action_result_key': 'result', '_source_mapping': {'filename': 'flows.v1.co', 'line_number': 10, 'line_text': '$result = execute call cleanlab api', 'comment': 'Guardrail based on the trustworthiness score.'}}, {'_type': 'if', 'expression': '$result.trustworthiness_score < 0.6', '_source_mapping': {'filename': 'flows.v1.co', 'line_number': 12, 'line_text': 'if $result.trustworthiness_score < 0.6', 'comment': None}, '_next_else': 6}, {'_type': 'if', 'expression': '$config.enable_rails_exceptions', '_source_mapping': {'filename': 'flows.v1.co', 'line_number': 13, 'line_text': 'if $config.enable_rails_exceptions', 'comment': None}, '_next_else': 3}, {'_type': 'run_action', 'action_name': 'create_event', 'action_params': {'event': {'_type': 'CleanlabTrustworthinessRailException', 'message': 'Trustworthiness score is below threshold'}}, '_source_mapping': {'filename': 'flows.v1.co', 'line_number': 14, 'line_text': 'create event CleanlabTrustworthinessRailException(message=\"Trustworthiness score is below threshold\")', 'comment': None}}, {'_type': 'jump', '_next': 2}, {'_type': 'run_action', 'action_name': 'utter', 'action_params': {'value': 'response untrustworthy'}, '_source_mapping': {'filename': 'flows.v1.co', 'line_number': 16, 'line_text': 'bot response untrustworthy', 'comment': None}}, {'_type': 'run_action', 'action_name': 'utter', 'action_params': {'value': 'stop'}, '_source_mapping': {'filename': 'flows.v1.co', 'line_number': 17, 'line_text': 'stop', 'comment': None}}], 'source_code': '$result = execute call cleanlab api\\nif $result.trustworthiness_score < 0.6\\n  if $config.enable_rails_exceptions\\n    create event CleanlabTrustworthinessRailException(message=\"Trustworthiness score is below threshold\")\\n  else\\n    bot response untrustworthy\\n  stop', 'is_system_flow': True, 'is_subflow': True}, {'id': 'jailbreak detection heuristics', 'elements': [{'_type': 'meta', 'meta': {'subflow': True}}, {'_type': 'run_action', 'action_name': 'jailbreak_detection_heuristics', 'action_params': {}, 'action_result_key': 'is_jailbreak', '_source_mapping': {'filename': 'flows.v1.co', 'line_number': 8, 'line_text': '$is_jailbreak = execute jailbreak_detection_heuristics', 'comment': \"\\nHeuristic checks to assess whether the user's prompt is an attempted jailbreak.\\n\"}}, {'_type': 'if', 'expression': '$is_jailbreak', '_source_mapping': {'filename': 'flows.v1.co', 'line_number': 10, 'line_text': 'if $is_jailbreak', 'comment': None}, '_next_else': 6}, {'_type': 'if', 'expression': '$config.enable_rails_exceptions', '_source_mapping': {'filename': 'flows.v1.co', 'line_number': 11, 'line_text': 'if $config.enable_rails_exceptions', 'comment': None}, '_next_else': 3}, {'_type': 'run_action', 'action_name': 'create_event', 'action_params': {'event': {'_type': 'JailbreakDetectionRailException', 'message': \"Jailbreak attempt detected. The user's prompt was identified as an attempted jailbreak. Please ensure your prompt adheres to the guidelines.\"}}, '_source_mapping': {'filename': 'flows.v1.co', 'line_number': 12, 'line_text': 'create event JailbreakDetectionRailException(message=\"Jailbreak attempt detected. The user\\'s prompt was identified as an attempted jailbreak. Please ensure your prompt adheres to the guidelines.\")', 'comment': None}}, {'_type': 'jump', '_next': 2}, {'_type': 'run_action', 'action_name': 'utter', 'action_params': {'value': 'refuse to respond'}, '_source_mapping': {'filename': 'flows.v1.co', 'line_number': 14, 'line_text': 'bot refuse to respond', 'comment': None}}, {'_type': 'run_action', 'action_name': 'utter', 'action_params': {'value': 'stop'}, '_source_mapping': {'filename': 'flows.v1.co', 'line_number': 15, 'line_text': 'stop', 'comment': None}}], 'source_code': '$is_jailbreak = execute jailbreak_detection_heuristics\\nif $is_jailbreak\\n  if $config.enable_rails_exceptions\\n    create event JailbreakDetectionRailException(message=\"Jailbreak attempt detected. The user\\'s prompt was identified as an attempted jailbreak. Please ensure your prompt adheres to the guidelines.\")\\n  else\\n    bot refuse to respond\\n  stop', 'is_system_flow': True, 'is_subflow': True}, {'id': 'gotitai rag truthcheck', 'elements': [{'_type': 'meta', 'meta': {'subflow': True}}, {'_type': 'if', 'expression': '$check_facts == True', '_source_mapping': {'filename': 'flows.v1.co', 'line_number': 3, 'line_text': 'if $check_facts == True', 'comment': 'Guardrail based on the maximum risk score.'}, '_next_else': 9}, {'_type': 'set', 'key': 'check_facts', 'expression': 'False', '_source_mapping': {'filename': 'flows.v1.co', 'line_number': 4, 'line_text': '$check_facts = False', 'comment': None}}, {'_type': 'run_action', 'action_name': 'call gotitai truthchecker api', 'action_params': {}, 'action_result_key': 'result', '_source_mapping': {'filename': 'flows.v1.co', 'line_number': 6, 'line_text': '$result = execute call gotitai truthchecker api', 'comment': None}}, {'_type': 'if', 'expression': '$result.hallucination == \"yes\"', '_source_mapping': {'filename': 'flows.v1.co', 'line_number': 8, 'line_text': 'if $result.hallucination == \"yes\"', 'comment': None}, '_next_else': 6}, {'_type': 'if', 'expression': '$config.enable_rails_exceptions', '_source_mapping': {'filename': 'flows.v1.co', 'line_number': 9, 'line_text': 'if $config.enable_rails_exceptions', 'comment': None}, '_next_else': 3}, {'_type': 'run_action', 'action_name': 'create_event', 'action_params': {'event': {'_type': 'GotitaiHallucinationRailException', 'message': 'Hallucination detected. The previous answer may not be accurate'}}, '_source_mapping': {'filename': 'flows.v1.co', 'line_number': 10, 'line_text': 'create event GotitaiHallucinationRailException(message=\"Hallucination detected. The previous answer may not be accurate\")', 'comment': None}}, {'_type': 'jump', '_next': 2}, {'_type': 'run_action', 'action_name': 'utter', 'action_params': {'value': 'inform answer unknown'}, '_source_mapping': {'filename': 'flows.v1.co', 'line_number': 12, 'line_text': 'bot inform answer unknown', 'comment': None}}, {'_type': 'run_action', 'action_name': 'utter', 'action_params': {'value': 'stop'}, '_source_mapping': {'filename': 'flows.v1.co', 'line_number': 13, 'line_text': 'stop', 'comment': None}}], 'source_code': 'if $check_facts == True\\n  $check_facts = False\\n  $result = execute call gotitai truthchecker api\\n  if $result.hallucination == \"yes\"\\n    if $config.enable_rails_exceptions\\n      create event GotitaiHallucinationRailException(message=\"Hallucination detected. The previous answer may not be accurate\")\\n    else\\n      bot inform answer unknown\\n    stop', 'is_system_flow': True, 'is_subflow': True}, {'id': 'gcpnlp moderation', 'elements': [{'_type': 'meta', 'meta': {'subflow': True}}, {'_type': 'run_action', 'action_name': 'call gcpnlp api', 'action_params': {}, 'action_result_key': 'result', '_source_mapping': {'filename': 'flows.co', 'line_number': 30, 'line_text': '$result = execute call gcpnlp api', 'comment': 'Guardrail based on the maximum risk score.'}}, {'_type': 'if', 'expression': '$result.max_risk_score > 0.8', '_source_mapping': {'filename': 'flows.co', 'line_number': 32, 'line_text': 'if $result.max_risk_score > 0.8', 'comment': None}, '_next_else': 3}, {'_type': 'run_action', 'action_name': 'utter', 'action_params': {'value': 'refuse to respond'}, '_source_mapping': {'filename': 'flows.co', 'line_number': 33, 'line_text': 'bot refuse to respond', 'comment': None}}, {'_type': 'run_action', 'action_name': 'utter', 'action_params': {'value': 'stop'}, '_source_mapping': {'filename': 'flows.co', 'line_number': 34, 'line_text': 'stop', 'comment': None}}], 'source_code': '$result = execute call gcpnlp api\\nif $result.max_risk_score > 0.8\\n  bot refuse to respond\\n  stop', 'is_system_flow': True, 'is_subflow': True}, {'id': 'gcpnlp moderation detailed', 'elements': [{'_type': 'meta', 'meta': {'subflow': True}}, {'_type': 'run_action', 'action_name': 'call gcpnlp api', 'action_params': {}, 'action_result_key': 'result', '_source_mapping': {'filename': 'flows.co', 'line_number': 38, 'line_text': '$result = execute call gcpnlp api', 'comment': 'Guardrail based on individual risk scores.'}}, {'_type': 'if', 'expression': '$result.violations.get(\"Toxic\", 0) > 0.8', '_source_mapping': {'filename': 'flows.co', 'line_number': 40, 'line_text': 'if $result.violations.get(\"Toxic\", 0) > 0.8', 'comment': None}, '_next_else': 3}, {'_type': 'run_action', 'action_name': 'utter', 'action_params': {'value': 'inform cannot engage in abusive or harmful behavior'}, '_source_mapping': {'filename': 'flows.co', 'line_number': 41, 'line_text': 'bot inform cannot engage in abusive or harmful behavior', 'comment': None}}, {'_type': 'run_action', 'action_name': 'utter', 'action_params': {'value': 'stop'}, '_source_mapping': {'filename': 'flows.co', 'line_number': 42, 'line_text': 'stop', 'comment': None}}, {'_type': 'if', 'expression': '$result.violations.get(\"Insult\", 0) > 0.7', '_source_mapping': {'filename': 'flows.co', 'line_number': 44, 'line_text': 'if $result.violations.get(\"Insult\", 0) > 0.7', 'comment': None}, '_next_else': 3}, {'_type': 'run_action', 'action_name': 'utter', 'action_params': {'value': 'inform cannot engage in abusive or harmful behavior'}, '_source_mapping': {'filename': 'flows.co', 'line_number': 45, 'line_text': 'bot inform cannot engage in abusive or harmful behavior', 'comment': None}}, {'_type': 'run_action', 'action_name': 'utter', 'action_params': {'value': 'stop'}, '_source_mapping': {'filename': 'flows.co', 'line_number': 46, 'line_text': 'stop', 'comment': None}}, {'_type': 'if', 'expression': '$result.violations.get(\"Profanity\", 0) > 0.6', '_source_mapping': {'filename': 'flows.co', 'line_number': 48, 'line_text': 'if $result.violations.get(\"Profanity\", 0) > 0.6', 'comment': None}, '_next_else': 3}, {'_type': 'run_action', 'action_name': 'utter', 'action_params': {'value': 'inform cannot engage in abusive or harmful behavior'}, '_source_mapping': {'filename': 'flows.co', 'line_number': 49, 'line_text': 'bot inform cannot engage in abusive or harmful behavior', 'comment': None}}, {'_type': 'run_action', 'action_name': 'utter', 'action_params': {'value': 'stop'}, '_source_mapping': {'filename': 'flows.co', 'line_number': 50, 'line_text': 'stop', 'comment': None}}, {'_type': 'if', 'expression': '$result.violations.get(\"Derogatory\", 0) > 0.4', '_source_mapping': {'filename': 'flows.co', 'line_number': 52, 'line_text': 'if $result.violations.get(\"Derogatory\", 0) > 0.4', 'comment': None}, '_next_else': 3}, {'_type': 'run_action', 'action_name': 'utter', 'action_params': {'value': 'inform cannot engage in abusive or harmful behavior'}, '_source_mapping': {'filename': 'flows.co', 'line_number': 53, 'line_text': 'bot inform cannot engage in abusive or harmful behavior', 'comment': None}}, {'_type': 'run_action', 'action_name': 'utter', 'action_params': {'value': 'stop'}, '_source_mapping': {'filename': 'flows.co', 'line_number': 54, 'line_text': 'stop', 'comment': None}}, {'_type': 'if', 'expression': '$result.violations.get(\"Violent\", 0) > 0.8', '_source_mapping': {'filename': 'flows.co', 'line_number': 56, 'line_text': 'if $result.violations.get(\"Violent\", 0) > 0.8', 'comment': None}, '_next_else': 3}, {'_type': 'run_action', 'action_name': 'utter', 'action_params': {'value': 'inform cannot engage in abusive or harmful behavior'}, '_source_mapping': {'filename': 'flows.co', 'line_number': 57, 'line_text': 'bot inform cannot engage in abusive or harmful behavior', 'comment': None}}, {'_type': 'run_action', 'action_name': 'utter', 'action_params': {'value': 'stop'}, '_source_mapping': {'filename': 'flows.co', 'line_number': 58, 'line_text': 'stop', 'comment': None}}, {'_type': 'if', 'expression': '$result.violations.get(\"Sexual\", 0) > 0.7', '_source_mapping': {'filename': 'flows.co', 'line_number': 60, 'line_text': 'if $result.violations.get(\"Sexual\", 0) > 0.7', 'comment': None}, '_next_else': 3}, {'_type': 'run_action', 'action_name': 'utter', 'action_params': {'value': 'inform cannot engage in inappropriate content'}, '_source_mapping': {'filename': 'flows.co', 'line_number': 61, 'line_text': 'bot inform cannot engage in inappropriate content', 'comment': None}}, {'_type': 'run_action', 'action_name': 'utter', 'action_params': {'value': 'stop'}, '_source_mapping': {'filename': 'flows.co', 'line_number': 62, 'line_text': 'stop', 'comment': None}}, {'_type': 'if', 'expression': '$result.violations.get(\"Death, Harm & Tragedy\", 0) > 0.8', '_source_mapping': {'filename': 'flows.co', 'line_number': 64, 'line_text': 'if $result.violations.get(\"Death, Harm & Tragedy\", 0) > 0.8', 'comment': None}, '_next_else': 3}, {'_type': 'run_action', 'action_name': 'utter', 'action_params': {'value': 'inform cannot engage in inappropriate content'}, '_source_mapping': {'filename': 'flows.co', 'line_number': 65, 'line_text': 'bot inform cannot engage in inappropriate content', 'comment': None}}, {'_type': 'run_action', 'action_name': 'utter', 'action_params': {'value': 'stop'}, '_source_mapping': {'filename': 'flows.co', 'line_number': 66, 'line_text': 'stop', 'comment': None}}, {'_type': 'if', 'expression': '$result.violations.get(\"Firearms & Weapons\", 0) > 0.8', '_source_mapping': {'filename': 'flows.co', 'line_number': 68, 'line_text': 'if $result.violations.get(\"Firearms & Weapons\", 0) > 0.8', 'comment': None}, '_next_else': 3}, {'_type': 'run_action', 'action_name': 'utter', 'action_params': {'value': 'inform cannot engage in inappropriate content'}, '_source_mapping': {'filename': 'flows.co', 'line_number': 69, 'line_text': 'bot inform cannot engage in inappropriate content', 'comment': None}}, {'_type': 'run_action', 'action_name': 'utter', 'action_params': {'value': 'stop'}, '_source_mapping': {'filename': 'flows.co', 'line_number': 70, 'line_text': 'stop', 'comment': None}}, {'_type': 'if', 'expression': '$result.violations.get(\"Illicit Drugs\", 0) > 0.8', '_source_mapping': {'filename': 'flows.co', 'line_number': 72, 'line_text': 'if $result.violations.get(\"Illicit Drugs\", 0) > 0.8', 'comment': None}, '_next_else': 3}, {'_type': 'run_action', 'action_name': 'utter', 'action_params': {'value': 'inform cannot engage with sensitive content'}, '_source_mapping': {'filename': 'flows.co', 'line_number': 73, 'line_text': 'bot inform cannot engage with sensitive content', 'comment': None}}, {'_type': 'run_action', 'action_name': 'utter', 'action_params': {'value': 'stop'}, '_source_mapping': {'filename': 'flows.co', 'line_number': 74, 'line_text': 'stop', 'comment': None}}, {'_type': 'if', 'expression': '$result.violations.get(\"Public Safety\", 0) > 0.8', '_source_mapping': {'filename': 'flows.co', 'line_number': 76, 'line_text': 'if $result.violations.get(\"Public Safety\", 0) > 0.8', 'comment': None}, '_next_else': 3}, {'_type': 'run_action', 'action_name': 'utter', 'action_params': {'value': 'inform cannot engage with sensitive content'}, '_source_mapping': {'filename': 'flows.co', 'line_number': 77, 'line_text': 'bot inform cannot engage with sensitive content', 'comment': None}}, {'_type': 'run_action', 'action_name': 'utter', 'action_params': {'value': 'stop'}, '_source_mapping': {'filename': 'flows.co', 'line_number': 78, 'line_text': 'stop', 'comment': None}}, {'_type': 'if', 'expression': '$result.violations.get(\"Health\", 0) > 0.8', '_source_mapping': {'filename': 'flows.co', 'line_number': 80, 'line_text': 'if $result.violations.get(\"Health\", 0) > 0.8', 'comment': None}, '_next_else': 3}, {'_type': 'run_action', 'action_name': 'utter', 'action_params': {'value': 'inform cannot engage with sensitive content'}, '_source_mapping': {'filename': 'flows.co', 'line_number': 81, 'line_text': 'bot inform cannot engage with sensitive content', 'comment': None}}, {'_type': 'run_action', 'action_name': 'utter', 'action_params': {'value': 'stop'}, '_source_mapping': {'filename': 'flows.co', 'line_number': 82, 'line_text': 'stop', 'comment': None}}, {'_type': 'if', 'expression': '$result.violations.get(\"Religion & Belief\", 0) > 0.8', '_source_mapping': {'filename': 'flows.co', 'line_number': 84, 'line_text': 'if $result.violations.get(\"Religion & Belief\", 0) > 0.8', 'comment': None}, '_next_else': 3}, {'_type': 'run_action', 'action_name': 'utter', 'action_params': {'value': 'inform cannot engage with sensitive content'}, '_source_mapping': {'filename': 'flows.co', 'line_number': 85, 'line_text': 'bot inform cannot engage with sensitive content', 'comment': None}}, {'_type': 'run_action', 'action_name': 'utter', 'action_params': {'value': 'stop'}, '_source_mapping': {'filename': 'flows.co', 'line_number': 86, 'line_text': 'stop', 'comment': None}}, {'_type': 'if', 'expression': '$result.violations.get(\"War & Conflict\", 0) > 0.8', '_source_mapping': {'filename': 'flows.co', 'line_number': 88, 'line_text': 'if $result.violations.get(\"War & Conflict\", 0) > 0.8', 'comment': None}, '_next_else': 3}, {'_type': 'run_action', 'action_name': 'utter', 'action_params': {'value': 'inform cannot engage with sensitive content'}, '_source_mapping': {'filename': 'flows.co', 'line_number': 89, 'line_text': 'bot inform cannot engage with sensitive content', 'comment': None}}, {'_type': 'run_action', 'action_name': 'utter', 'action_params': {'value': 'stop'}, '_source_mapping': {'filename': 'flows.co', 'line_number': 90, 'line_text': 'stop', 'comment': None}}, {'_type': 'if', 'expression': '$result.violations.get(\"Politics\", 0) > 0.8', '_source_mapping': {'filename': 'flows.co', 'line_number': 92, 'line_text': 'if $result.violations.get(\"Politics\", 0) > 0.8', 'comment': None}, '_next_else': 3}, {'_type': 'run_action', 'action_name': 'utter', 'action_params': {'value': 'inform cannot engage with sensitive content'}, '_source_mapping': {'filename': 'flows.co', 'line_number': 93, 'line_text': 'bot inform cannot engage with sensitive content', 'comment': None}}, {'_type': 'run_action', 'action_name': 'utter', 'action_params': {'value': 'stop'}, '_source_mapping': {'filename': 'flows.co', 'line_number': 94, 'line_text': 'stop', 'comment': None}}, {'_type': 'if', 'expression': '$result.violations.get(\"Finance\", 0) > 0.8', '_source_mapping': {'filename': 'flows.co', 'line_number': 96, 'line_text': 'if $result.violations.get(\"Finance\", 0) > 0.8', 'comment': None}, '_next_else': 3}, {'_type': 'run_action', 'action_name': 'utter', 'action_params': {'value': 'inform cannot engage with sensitive content'}, '_source_mapping': {'filename': 'flows.co', 'line_number': 97, 'line_text': 'bot inform cannot engage with sensitive content', 'comment': None}}, {'_type': 'run_action', 'action_name': 'utter', 'action_params': {'value': 'stop'}, '_source_mapping': {'filename': 'flows.co', 'line_number': 98, 'line_text': 'stop', 'comment': None}}, {'_type': 'if', 'expression': '$result.violations.get(\"Legal\", 0) > 0.8', '_source_mapping': {'filename': 'flows.co', 'line_number': 100, 'line_text': 'if $result.violations.get(\"Legal\", 0) > 0.8', 'comment': None}, '_next_else': 3}, {'_type': 'run_action', 'action_name': 'utter', 'action_params': {'value': 'inform cannot engage with sensitive content'}, '_source_mapping': {'filename': 'flows.co', 'line_number': 101, 'line_text': 'bot inform cannot engage with sensitive content', 'comment': None}}, {'_type': 'run_action', 'action_name': 'utter', 'action_params': {'value': 'stop'}, '_source_mapping': {'filename': 'flows.co', 'line_number': 102, 'line_text': 'stop', 'comment': None}}], 'source_code': '$result = execute call gcpnlp api\\nif $result.violations.get(\"Toxic\", 0) > 0.8\\n  bot inform cannot engage in abusive or harmful behavior\\n  stop\\nif $result.violations.get(\"Insult\", 0) > 0.7\\n  bot inform cannot engage in abusive or harmful behavior\\n  stop\\nif $result.violations.get(\"Profanity\", 0) > 0.6\\n  bot inform cannot engage in abusive or harmful behavior\\n  stop\\nif $result.violations.get(\"Derogatory\", 0) > 0.4\\n  bot inform cannot engage in abusive or harmful behavior\\n  stop\\nif $result.violations.get(\"Violent\", 0) > 0.8\\n  bot inform cannot engage in abusive or harmful behavior\\n  stop\\nif $result.violations.get(\"Sexual\", 0) > 0.7\\n  bot inform cannot engage in inappropriate content\\n  stop\\nif $result.violations.get(\"Death, Harm & Tragedy\", 0) > 0.8\\n  bot inform cannot engage in inappropriate content\\n  stop\\nif $result.violations.get(\"Firearms & Weapons\", 0) > 0.8\\n  bot inform cannot engage in inappropriate content\\n  stop\\nif $result.violations.get(\"Illicit Drugs\", 0) > 0.8\\n  bot inform cannot engage with sensitive content\\n  stop\\nif $result.violations.get(\"Public Safety\", 0) > 0.8\\n  bot inform cannot engage with sensitive content\\n  stop\\nif $result.violations.get(\"Health\", 0) > 0.8\\n  bot inform cannot engage with sensitive content\\n  stop\\nif $result.violations.get(\"Religion & Belief\", 0) > 0.8\\n  bot inform cannot engage with sensitive content\\n  stop\\nif $result.violations.get(\"War & Conflict\", 0) > 0.8\\n  bot inform cannot engage with sensitive content\\n  stop\\nif $result.violations.get(\"Politics\", 0) > 0.8\\n  bot inform cannot engage with sensitive content\\n  stop\\nif $result.violations.get(\"Finance\", 0) > 0.8\\n  bot inform cannot engage with sensitive content\\n  stop\\nif $result.violations.get(\"Legal\", 0) > 0.8\\n  bot inform cannot engage with sensitive content\\n  stop', 'is_system_flow': True, 'is_subflow': True}, {'id': 'self check input', 'elements': [{'_type': 'run_action', 'action_name': 'self_check_input', 'action_params': {}, 'action_result_key': 'allowed', '_source_mapping': {'filename': 'flows.v1.co', 'line_number': 5, 'line_text': '$allowed = execute self_check_input', 'comment': None}}, {'_type': 'if', 'expression': 'not $allowed', '_source_mapping': {'filename': 'flows.v1.co', 'line_number': 7, 'line_text': 'if not $allowed', 'comment': None}, '_next_else': 6}, {'_type': 'if', 'expression': '$config.enable_rails_exceptions', '_source_mapping': {'filename': 'flows.v1.co', 'line_number': 8, 'line_text': 'if $config.enable_rails_exceptions', 'comment': None}, '_next_else': 3}, {'_type': 'run_action', 'action_name': 'create_event', 'action_params': {'event': {'_type': 'InputRailException', 'message': \"Input not allowed. The input was blocked by the 'self check input' flow.\"}}, '_source_mapping': {'filename': 'flows.v1.co', 'line_number': 9, 'line_text': 'create event InputRailException(message=\"Input not allowed. The input was blocked by the \\'self check input\\' flow.\")', 'comment': None}}, {'_type': 'jump', '_next': 2}, {'_type': 'run_action', 'action_name': 'utter', 'action_params': {'value': 'refuse to respond'}, '_source_mapping': {'filename': 'flows.v1.co', 'line_number': 11, 'line_text': 'bot refuse to respond', 'comment': None}}, {'_type': 'run_action', 'action_name': 'utter', 'action_params': {'value': 'stop'}, '_source_mapping': {'filename': 'flows.v1.co', 'line_number': 12, 'line_text': 'stop', 'comment': None}}], 'source_code': '$allowed = execute self_check_input\\nif not $allowed\\n  if $config.enable_rails_exceptions\\n    create event InputRailException(message=\"Input not allowed. The input was blocked by the \\'self check input\\' flow.\")\\n  else\\n    bot refuse to respond\\n  stop', 'is_system_flow': True}, {'id': 'self check facts', 'elements': [{'_type': 'meta', 'meta': {'subflow': True}}, {'_type': 'if', 'expression': '$check_facts == True', '_source_mapping': {'filename': 'flows.v1.co', 'line_number': 10, 'line_text': 'if $check_facts == True', 'comment': 'Check if the previous answer is accurate w.r.t. the relevant chunks.\\nThis output rail must be enabled explicitly per output message by setting\\nthe $check_facts context variable to True.\\n'}, '_next_else': 9}, {'_type': 'set', 'key': 'check_facts', 'expression': 'False', '_source_mapping': {'filename': 'flows.v1.co', 'line_number': 11, 'line_text': '$check_facts = False', 'comment': None}}, {'_type': 'run_action', 'action_name': 'self_check_facts', 'action_params': {}, 'action_result_key': 'accuracy', '_source_mapping': {'filename': 'flows.v1.co', 'line_number': 13, 'line_text': '$accuracy = execute self_check_facts', 'comment': None}}, {'_type': 'if', 'expression': '$accuracy < 0.5', '_source_mapping': {'filename': 'flows.v1.co', 'line_number': 14, 'line_text': 'if $accuracy < 0.5', 'comment': None}, '_next_else': 6}, {'_type': 'if', 'expression': '$config.enable_rails_exceptions', '_source_mapping': {'filename': 'flows.v1.co', 'line_number': 15, 'line_text': 'if $config.enable_rails_exceptions', 'comment': None}, '_next_else': 3}, {'_type': 'run_action', 'action_name': 'create_event', 'action_params': {'event': {'_type': 'FactCheckRailException', 'message': 'Fact check failed. The accuracy of the previous answer was below the required threshold.'}}, '_source_mapping': {'filename': 'flows.v1.co', 'line_number': 16, 'line_text': 'create event FactCheckRailException(message=\"Fact check failed. The accuracy of the previous answer was below the required threshold.\")', 'comment': None}}, {'_type': 'jump', '_next': 2}, {'_type': 'run_action', 'action_name': 'utter', 'action_params': {'value': 'refuse to respond'}, '_source_mapping': {'filename': 'flows.v1.co', 'line_number': 18, 'line_text': 'bot refuse to respond', 'comment': None}}, {'_type': 'run_action', 'action_name': 'utter', 'action_params': {'value': 'stop'}, '_source_mapping': {'filename': 'flows.v1.co', 'line_number': 19, 'line_text': 'stop', 'comment': None}}], 'source_code': 'if $check_facts == True\\n  $check_facts = False\\n  $accuracy = execute self_check_facts\\n  if $accuracy < 0.5\\n    if $config.enable_rails_exceptions\\n      create event FactCheckRailException(message=\"Fact check failed. The accuracy of the previous answer was below the required threshold.\")\\n    else\\n      bot refuse to respond\\n    stop', 'is_system_flow': True, 'is_subflow': True}, {'id': 'self check output', 'elements': [{'_type': 'run_action', 'action_name': 'self_check_output', 'action_params': {}, 'action_result_key': 'allowed', '_source_mapping': {'filename': 'flows.v1.co', 'line_number': 5, 'line_text': '$allowed = execute self_check_output', 'comment': None}}, {'_type': 'if', 'expression': 'not $allowed', '_source_mapping': {'filename': 'flows.v1.co', 'line_number': 7, 'line_text': 'if not $allowed', 'comment': None}, '_next_else': 6}, {'_type': 'if', 'expression': '$config.enable_rails_exceptions', '_source_mapping': {'filename': 'flows.v1.co', 'line_number': 8, 'line_text': 'if $config.enable_rails_exceptions', 'comment': None}, '_next_else': 3}, {'_type': 'run_action', 'action_name': 'create_event', 'action_params': {'event': {'_type': 'OutputRailException', 'message': \"Output not allowed. The output was blocked by the 'self check output' flow.\"}}, '_source_mapping': {'filename': 'flows.v1.co', 'line_number': 9, 'line_text': 'create event OutputRailException(message=\"Output not allowed. The output was blocked by the \\'self check output\\' flow.\")', 'comment': None}}, {'_type': 'jump', '_next': 3}, {'_type': 'run_action', 'action_name': 'utter', 'action_params': {'value': 'refuse to respond'}, '_source_mapping': {'filename': 'flows.v1.co', 'line_number': 11, 'line_text': 'bot refuse to respond', 'comment': None}}, {'_type': 'run_action', 'action_name': 'utter', 'action_params': {'value': 'stop'}, '_source_mapping': {'filename': 'flows.v1.co', 'line_number': 12, 'line_text': 'stop', 'comment': None}}], 'source_code': '$allowed = execute self_check_output\\nif not $allowed\\n  if $config.enable_rails_exceptions\\n    create event OutputRailException(message=\"Output not allowed. The output was blocked by the \\'self check output\\' flow.\")\\n  else\\n    bot refuse to respond\\n    stop', 'is_system_flow': True}, {'id': 'patronus lynx check output hallucination', 'elements': [{'_type': 'run_action', 'action_name': 'patronus_lynx_check_output_hallucination', 'action_params': {}, 'action_result_key': 'patronus_lynx_response', '_source_mapping': {'filename': 'flows.v1.co', 'line_number': 5, 'line_text': '$patronus_lynx_response = execute patronus_lynx_check_output_hallucination', 'comment': None}}, {'_type': 'set', 'key': 'hallucination', 'expression': '$patronus_lynx_response[\"hallucination\"]', '_source_mapping': {'filename': 'flows.v1.co', 'line_number': 6, 'line_text': '$hallucination = $patronus_lynx_response[\"hallucination\"]', 'comment': None}}, {'_type': 'set', 'key': 'reasoning', 'expression': '$patronus_lynx_response[\"reasoning\"]', '_source_mapping': {'filename': 'flows.v1.co', 'line_number': 8, 'line_text': '$reasoning = $patronus_lynx_response[\"reasoning\"]', 'comment': 'The Reasoning trace is currently unused, but can be used to modify the bot output'}}, {'_type': 'if', 'expression': '$hallucination', '_source_mapping': {'filename': 'flows.v1.co', 'line_number': 10, 'line_text': 'if $hallucination', 'comment': None}, '_next_else': 6}, {'_type': 'if', 'expression': '$config.enable_rails_exceptions', '_source_mapping': {'filename': 'flows.v1.co', 'line_number': 11, 'line_text': 'if $config.enable_rails_exceptions', 'comment': None}, '_next_else': 3}, {'_type': 'run_action', 'action_name': 'create_event', 'action_params': {'event': {'_type': 'PatronusAIHallucinationException', 'message': 'Hallucination detected. The previous answer may not be accurate'}}, '_source_mapping': {'filename': 'flows.v1.co', 'line_number': 12, 'line_text': 'create event PatronusAIHallucinationException(message=\"Hallucination detected. The previous answer may not be accurate\")', 'comment': None}}, {'_type': 'jump', '_next': 2}, {'_type': 'run_action', 'action_name': 'utter', 'action_params': {'value': 'inform answer unknown'}, '_source_mapping': {'filename': 'flows.v1.co', 'line_number': 14, 'line_text': 'bot inform answer unknown', 'comment': None}}, {'_type': 'run_action', 'action_name': 'utter', 'action_params': {'value': 'stop'}, '_source_mapping': {'filename': 'flows.v1.co', 'line_number': 15, 'line_text': 'stop', 'comment': None}}], 'source_code': '$patronus_lynx_response = execute patronus_lynx_check_output_hallucination\\n$hallucination = $patronus_lynx_response[\"hallucination\"]\\n# The Reasoning trace is currently unused, but can be used to modify the bot output\\n$reasoning = $patronus_lynx_response[\"reasoning\"]\\nif $hallucination\\n  if $config.enable_rails_exceptions\\n    create event PatronusAIHallucinationException(message=\"Hallucination detected. The previous answer may not be accurate\")\\n  else\\n    bot inform answer unknown\\n  stop', 'is_system_flow': True}, {'id': 'detect sensitive data on input', 'elements': [{'_type': 'meta', 'meta': {'subflow': True}}, {'_type': 'run_action', 'action_name': 'detect_sensitive_data', 'action_params': {'source': 'input', 'text': '$user_message'}, 'action_result_key': 'has_sensitive_data', '_source_mapping': {'filename': 'flows.v1.co', 'line_number': 5, 'line_text': '$has_sensitive_data = execute detect_sensitive_data(source=\"input\", text=$user_message)', 'comment': 'Check if the user input has any sensitive data.'}}, {'_type': 'if', 'expression': '$has_sensitive_data', '_source_mapping': {'filename': 'flows.v1.co', 'line_number': 7, 'line_text': 'if $has_sensitive_data', 'comment': None}, '_next_else': 3}, {'_type': 'run_action', 'action_name': 'utter', 'action_params': {'value': 'inform answer unknown'}, '_source_mapping': {'filename': 'flows.v1.co', 'line_number': 8, 'line_text': 'bot inform answer unknown', 'comment': None}}, {'_type': 'run_action', 'action_name': 'utter', 'action_params': {'value': 'stop'}, '_source_mapping': {'filename': 'flows.v1.co', 'line_number': 9, 'line_text': 'stop', 'comment': None}}], 'source_code': '$has_sensitive_data = execute detect_sensitive_data(source=\"input\", text=$user_message)\\nif $has_sensitive_data\\n  bot inform answer unknown\\n  stop', 'is_system_flow': True, 'is_subflow': True}, {'id': 'mask sensitive data on input', 'elements': [{'_type': 'meta', 'meta': {'subflow': True}}, {'_type': 'run_action', 'action_name': 'mask_sensitive_data', 'action_params': {'source': 'input', 'text': '$user_message'}, 'action_result_key': 'user_message', '_source_mapping': {'filename': 'flows.v1.co', 'line_number': 14, 'line_text': '$user_message = execute mask_sensitive_data(source=\"input\", text=$user_message)', 'comment': 'Mask any sensitive data found in the user input.'}}], 'source_code': '$user_message = execute mask_sensitive_data(source=\"input\", text=$user_message)', 'is_system_flow': True, 'is_subflow': True}, {'id': 'detect sensitive data on output', 'elements': [{'_type': 'meta', 'meta': {'subflow': True}}, {'_type': 'run_action', 'action_name': 'detect_sensitive_data', 'action_params': {'source': 'output', 'text': '$bot_message'}, 'action_result_key': 'has_sensitive_data', '_source_mapping': {'filename': 'flows.v1.co', 'line_number': 22, 'line_text': '$has_sensitive_data = execute detect_sensitive_data(source=\"output\", text=$bot_message)', 'comment': 'Check if the bot output has any sensitive data.'}}, {'_type': 'if', 'expression': '$has_sensitive_data', '_source_mapping': {'filename': 'flows.v1.co', 'line_number': 24, 'line_text': 'if $has_sensitive_data', 'comment': None}, '_next_else': 3}, {'_type': 'run_action', 'action_name': 'utter', 'action_params': {'value': 'inform answer unknown'}, '_source_mapping': {'filename': 'flows.v1.co', 'line_number': 25, 'line_text': 'bot inform answer unknown', 'comment': None}}, {'_type': 'run_action', 'action_name': 'utter', 'action_params': {'value': 'stop'}, '_source_mapping': {'filename': 'flows.v1.co', 'line_number': 26, 'line_text': 'stop', 'comment': None}}], 'source_code': '$has_sensitive_data = execute detect_sensitive_data(source=\"output\", text=$bot_message)\\nif $has_sensitive_data\\n  bot inform answer unknown\\n  stop', 'is_system_flow': True, 'is_subflow': True}, {'id': 'mask sensitive data on output', 'elements': [{'_type': 'meta', 'meta': {'subflow': True}}, {'_type': 'run_action', 'action_name': 'mask_sensitive_data', 'action_params': {'source': 'output', 'text': '$bot_message'}, 'action_result_key': 'bot_message', '_source_mapping': {'filename': 'flows.v1.co', 'line_number': 31, 'line_text': '$bot_message = execute mask_sensitive_data(source=\"output\", text=$bot_message)', 'comment': 'Mask any sensitive data found in the bot output.'}}], 'source_code': '$bot_message = execute mask_sensitive_data(source=\"output\", text=$bot_message)', 'is_system_flow': True, 'is_subflow': True}, {'id': 'detect sensitive data on retrieval', 'elements': [{'_type': 'meta', 'meta': {'subflow': True}}, {'_type': 'run_action', 'action_name': 'detect_sensitive_data', 'action_params': {'source': 'retrieval', 'text': '$relevant_chunks'}, 'action_result_key': 'has_sensitive_data', '_source_mapping': {'filename': 'flows.v1.co', 'line_number': 39, 'line_text': '$has_sensitive_data = execute detect_sensitive_data(source=\"retrieval\", text=$relevant_chunks)', 'comment': 'Check if the relevant chunks from the knowledge base have any sensitive data.'}}, {'_type': 'if', 'expression': '$has_sensitive_data', '_source_mapping': {'filename': 'flows.v1.co', 'line_number': 41, 'line_text': 'if $has_sensitive_data', 'comment': None}, '_next_else': 3}, {'_type': 'run_action', 'action_name': 'utter', 'action_params': {'value': 'inform answer unknown'}, '_source_mapping': {'filename': 'flows.v1.co', 'line_number': 42, 'line_text': 'bot inform answer unknown', 'comment': None}}, {'_type': 'run_action', 'action_name': 'utter', 'action_params': {'value': 'stop'}, '_source_mapping': {'filename': 'flows.v1.co', 'line_number': 43, 'line_text': 'stop', 'comment': None}}], 'source_code': '$has_sensitive_data = execute detect_sensitive_data(source=\"retrieval\", text=$relevant_chunks)\\nif $has_sensitive_data\\n  bot inform answer unknown\\n  stop', 'is_system_flow': True, 'is_subflow': True}, {'id': 'mask sensitive data on retrieval', 'elements': [{'_type': 'meta', 'meta': {'subflow': True}}, {'_type': 'run_action', 'action_name': 'mask_sensitive_data', 'action_params': {'source': 'retrieval', 'text': '$relevant_chunks'}, 'action_result_key': 'relevant_chunks', '_source_mapping': {'filename': 'flows.v1.co', 'line_number': 48, 'line_text': '$relevant_chunks = execute mask_sensitive_data(source=\"retrieval\", text=$relevant_chunks)', 'comment': 'Mask any sensitive data found in the relevant chunks from the knowledge base.'}}], 'source_code': '$relevant_chunks = execute mask_sensitive_data(source=\"retrieval\", text=$relevant_chunks)', 'is_system_flow': True, 'is_subflow': True}, {'id': 'content safety check input', 'elements': [{'_type': 'run_action', 'action_name': 'content_safety_check_input', 'action_params': {}, 'action_result_key': 'response', '_source_mapping': {'filename': 'flows.v1.co', 'line_number': 7, 'line_text': '$response = execute content_safety_check_input', 'comment': None}}, {'_type': 'set', 'key': 'allowed', 'expression': '$response[\"allowed\"]', '_source_mapping': {'filename': 'flows.v1.co', 'line_number': 9, 'line_text': '$allowed = $response[\"allowed\"]', 'comment': None}}, {'_type': 'set', 'key': 'policy_violations', 'expression': '$response[\"policy_violations\"]', '_source_mapping': {'filename': 'flows.v1.co', 'line_number': 11, 'line_text': '$policy_violations = $response[\"policy_violations\"]', 'comment': 'Policy violations are currently unused, but can be used to better phrase the bot output'}}, {'_type': 'if', 'expression': 'not $allowed', '_source_mapping': {'filename': 'flows.v1.co', 'line_number': 13, 'line_text': 'if not $allowed', 'comment': None}, '_next_else': 6}, {'_type': 'if', 'expression': '$config.enable_rails_exceptions', '_source_mapping': {'filename': 'flows.v1.co', 'line_number': 14, 'line_text': 'if $config.enable_rails_exceptions', 'comment': None}, '_next_else': 3}, {'_type': 'run_action', 'action_name': 'create_event', 'action_params': {'event': {'_type': 'ContentSafetyCheckInputException', 'message': \"Input not allowed. The input was blocked by the 'content safety check input $model='{$model}'' flow.\"}}, '_source_mapping': {'filename': 'flows.v1.co', 'line_number': 15, 'line_text': 'create event ContentSafetyCheckInputException(message=\"Input not allowed. The input was blocked by the \\'content safety check input $model=\\'{$model}\\'\\' flow.\")', 'comment': None}}, {'_type': 'jump', '_next': 2}, {'_type': 'run_action', 'action_name': 'utter', 'action_params': {'value': 'refuse to respond'}, '_source_mapping': {'filename': 'flows.v1.co', 'line_number': 17, 'line_text': 'bot refuse to respond', 'comment': None}}, {'_type': 'run_action', 'action_name': 'utter', 'action_params': {'value': 'stop'}, '_source_mapping': {'filename': 'flows.v1.co', 'line_number': 18, 'line_text': 'stop', 'comment': None}}], 'source_code': '$response = execute content_safety_check_input\\n$allowed = $response[\"allowed\"]\\n# Policy violations are currently unused, but can be used to better phrase the bot output\\n$policy_violations = $response[\"policy_violations\"]\\nif not $allowed\\n  if $config.enable_rails_exceptions\\n    create event ContentSafetyCheckInputException(message=\"Input not allowed. The input was blocked by the \\'content safety check input $model=\\'{$model}\\'\\' flow.\")\\n  else\\n    bot refuse to respond\\n  stop', 'is_system_flow': True}, {'id': 'content safety check output', 'elements': [{'_type': 'run_action', 'action_name': 'content_safety_check_output', 'action_params': {}, 'action_result_key': 'response', '_source_mapping': {'filename': 'flows.v1.co', 'line_number': 21, 'line_text': '$response = execute content_safety_check_output', 'comment': None}}, {'_type': 'set', 'key': 'allowed', 'expression': '$response[\"allowed\"]', '_source_mapping': {'filename': 'flows.v1.co', 'line_number': 22, 'line_text': '$allowed = $response[\"allowed\"]', 'comment': None}}, {'_type': 'set', 'key': 'policy_violations', 'expression': '$response[\"policy_violations\"]', '_source_mapping': {'filename': 'flows.v1.co', 'line_number': 23, 'line_text': '$policy_violations = $response[\"policy_violations\"]', 'comment': None}}, {'_type': 'if', 'expression': 'not $allowed', '_source_mapping': {'filename': 'flows.v1.co', 'line_number': 25, 'line_text': 'if not $allowed', 'comment': None}, '_next_else': 6}, {'_type': 'if', 'expression': '$config.enable_rails_exceptions', '_source_mapping': {'filename': 'flows.v1.co', 'line_number': 26, 'line_text': 'if $config.enable_rails_exceptions', 'comment': None}, '_next_else': 3}, {'_type': 'run_action', 'action_name': 'create_event', 'action_params': {'event': {'_type': 'ContentSafetyCheckOuputException', 'message': \"Output not allowed. The output was blocked by the 'content safety check output $model='{$model}'' flow.\"}}, '_source_mapping': {'filename': 'flows.v1.co', 'line_number': 27, 'line_text': 'create event ContentSafetyCheckOuputException(message=\"Output not allowed. The output was blocked by the \\'content safety check output $model=\\'{$model}\\'\\' flow.\")', 'comment': None}}, {'_type': 'jump', '_next': 2}, {'_type': 'run_action', 'action_name': 'utter', 'action_params': {'value': 'refuse to respond'}, '_source_mapping': {'filename': 'flows.v1.co', 'line_number': 29, 'line_text': 'bot refuse to respond', 'comment': None}}, {'_type': 'run_action', 'action_name': 'utter', 'action_params': {'value': 'stop'}, '_source_mapping': {'filename': 'flows.v1.co', 'line_number': 30, 'line_text': 'stop', 'comment': None}}], 'source_code': '$response = execute content_safety_check_output\\n$allowed = $response[\"allowed\"]\\n$policy_violations = $response[\"policy_violations\"]\\nif not $allowed\\n  if $config.enable_rails_exceptions\\n    create event ContentSafetyCheckOuputException(message=\"Output not allowed. The output was blocked by the \\'content safety check output $model=\\'{$model}\\'\\' flow.\")\\n  else\\n    bot refuse to respond\\n  stop', 'is_system_flow': True}, {'id': 'activefence moderation', 'elements': [{'_type': 'meta', 'meta': {'subflow': True}}, {'_type': 'run_action', 'action_name': 'call activefence api', 'action_params': {}, 'action_result_key': 'result', '_source_mapping': {'filename': 'flows.v1.co', 'line_number': 18, 'line_text': '$result = execute call activefence api', 'comment': 'Guardrail based on the maximum risk score.'}}, {'_type': 'if', 'expression': '$result.max_risk_score > 0.7', '_source_mapping': {'filename': 'flows.v1.co', 'line_number': 20, 'line_text': 'if $result.max_risk_score > 0.7', 'comment': None}, '_next_else': 6}, {'_type': 'if', 'expression': '$config.enable_rails_exceptions', '_source_mapping': {'filename': 'flows.v1.co', 'line_number': 21, 'line_text': 'if $config.enable_rails_exceptions', 'comment': None}, '_next_else': 3}, {'_type': 'run_action', 'action_name': 'create_event', 'action_params': {'event': {'_type': 'ActiveFenceModerationRailException', 'message': 'ActiveFence moderation triggered. The maximum risk score exceeded the threshold.'}}, '_source_mapping': {'filename': 'flows.v1.co', 'line_number': 22, 'line_text': 'create event ActiveFenceModerationRailException(message=\"ActiveFence moderation triggered. The maximum risk score exceeded the threshold.\")', 'comment': None}}, {'_type': 'jump', '_next': 2}, {'_type': 'run_action', 'action_name': 'utter', 'action_params': {'value': 'refuse to respond'}, '_source_mapping': {'filename': 'flows.v1.co', 'line_number': 24, 'line_text': 'bot refuse to respond', 'comment': None}}, {'_type': 'run_action', 'action_name': 'utter', 'action_params': {'value': 'stop'}, '_source_mapping': {'filename': 'flows.v1.co', 'line_number': 25, 'line_text': 'stop', 'comment': None}}], 'source_code': '$result = execute call activefence api\\nif $result.max_risk_score > 0.7\\n  if $config.enable_rails_exceptions\\n    create event ActiveFenceModerationRailException(message=\"ActiveFence moderation triggered. The maximum risk score exceeded the threshold.\")\\n  else\\n    bot refuse to respond\\n  stop', 'is_system_flow': True, 'is_subflow': True}, {'id': 'activefence moderation detailed', 'elements': [{'_type': 'meta', 'meta': {'subflow': True}}, {'_type': 'run_action', 'action_name': 'call activefence api', 'action_params': {}, 'action_result_key': 'result', '_source_mapping': {'filename': 'flows.v1.co', 'line_number': 29, 'line_text': '$result = execute call activefence api', 'comment': 'Guardrail based on individual risk scores.'}}, {'_type': 'if', 'expression': '$result.violations.get(\"abusive_or_harmful.harassment_or_bullying\", 0) > 0.8', '_source_mapping': {'filename': 'flows.v1.co', 'line_number': 31, 'line_text': 'if $result.violations.get(\"abusive_or_harmful.harassment_or_bullying\", 0) > 0.8', 'comment': None}, '_next_else': 6}, {'_type': 'if', 'expression': '$config.enable_rails_exceptions', '_source_mapping': {'filename': 'flows.v1.co', 'line_number': 32, 'line_text': 'if $config.enable_rails_exceptions', 'comment': None}, '_next_else': 3}, {'_type': 'run_action', 'action_name': 'create_event', 'action_params': {'event': {'_type': 'ActiveFenceHarassmentRailException', 'message': 'ActiveFence moderation triggered. The harassment or bullying risk score exceeded the threshold.'}}, '_source_mapping': {'filename': 'flows.v1.co', 'line_number': 33, 'line_text': 'create event ActiveFenceHarassmentRailException(message=\"ActiveFence moderation triggered. The harassment or bullying risk score exceeded the threshold.\")', 'comment': None}}, {'_type': 'jump', '_next': 2}, {'_type': 'run_action', 'action_name': 'utter', 'action_params': {'value': 'inform cannot engage in abusive or harmful behavior'}, '_source_mapping': {'filename': 'flows.v1.co', 'line_number': 35, 'line_text': 'bot inform cannot engage in abusive or harmful behavior', 'comment': None}}, {'_type': 'run_action', 'action_name': 'utter', 'action_params': {'value': 'stop'}, '_source_mapping': {'filename': 'flows.v1.co', 'line_number': 36, 'line_text': 'stop', 'comment': None}}, {'_type': 'if', 'expression': '$result.violations.get(\"abusive_or_harmful.profanity\", 0) > 0.7', '_source_mapping': {'filename': 'flows.v1.co', 'line_number': 38, 'line_text': 'if $result.violations.get(\"abusive_or_harmful.profanity\", 0) > 0.7', 'comment': None}, '_next_else': 6}, {'_type': 'if', 'expression': '$config.enable_rails_exceptions', '_source_mapping': {'filename': 'flows.v1.co', 'line_number': 39, 'line_text': 'if $config.enable_rails_exceptions', 'comment': None}, '_next_else': 3}, {'_type': 'run_action', 'action_name': 'create_event', 'action_params': {'event': {'_type': 'ActiveFenceProfanityRailException', 'message': 'ActiveFence moderation triggered. The profanity risk score exceeded the threshold.'}}, '_source_mapping': {'filename': 'flows.v1.co', 'line_number': 40, 'line_text': 'create event ActiveFenceProfanityRailException(message=\"ActiveFence moderation triggered. The profanity risk score exceeded the threshold.\")', 'comment': None}}, {'_type': 'jump', '_next': 2}, {'_type': 'run_action', 'action_name': 'utter', 'action_params': {'value': 'inform cannot engage in abusive or harmful behavior'}, '_source_mapping': {'filename': 'flows.v1.co', 'line_number': 42, 'line_text': 'bot inform cannot engage in abusive or harmful behavior', 'comment': None}}, {'_type': 'run_action', 'action_name': 'utter', 'action_params': {'value': 'stop'}, '_source_mapping': {'filename': 'flows.v1.co', 'line_number': 43, 'line_text': 'stop', 'comment': None}}, {'_type': 'if', 'expression': '$result.violations.get(\"abusive_or_harmful.hate_speech\", 0) > 0.6', '_source_mapping': {'filename': 'flows.v1.co', 'line_number': 45, 'line_text': 'if $result.violations.get(\"abusive_or_harmful.hate_speech\", 0) > 0.6', 'comment': None}, '_next_else': 6}, {'_type': 'if', 'expression': '$config.enable_rails_exceptions', '_source_mapping': {'filename': 'flows.v1.co', 'line_number': 46, 'line_text': 'if $config.enable_rails_exceptions', 'comment': None}, '_next_else': 3}, {'_type': 'run_action', 'action_name': 'create_event', 'action_params': {'event': {'_type': 'ActiveFenceHateSpeechRailException', 'message': 'ActiveFence moderation triggered. The hate speech risk score exceeded the threshold.'}}, '_source_mapping': {'filename': 'flows.v1.co', 'line_number': 47, 'line_text': 'create event ActiveFenceHateSpeechRailException(message=\"ActiveFence moderation triggered. The hate speech risk score exceeded the threshold.\")', 'comment': None}}, {'_type': 'jump', '_next': 2}, {'_type': 'run_action', 'action_name': 'utter', 'action_params': {'value': 'inform cannot engage in abusive or harmful behavior'}, '_source_mapping': {'filename': 'flows.v1.co', 'line_number': 49, 'line_text': 'bot inform cannot engage in abusive or harmful behavior', 'comment': None}}, {'_type': 'run_action', 'action_name': 'utter', 'action_params': {'value': 'stop'}, '_source_mapping': {'filename': 'flows.v1.co', 'line_number': 50, 'line_text': 'stop', 'comment': None}}, {'_type': 'if', 'expression': '$result.violations.get(\"abusive_or_harmful.child_grooming\", 0) > 0.4', '_source_mapping': {'filename': 'flows.v1.co', 'line_number': 52, 'line_text': 'if $result.violations.get(\"abusive_or_harmful.child_grooming\", 0) > 0.4', 'comment': None}, '_next_else': 6}, {'_type': 'if', 'expression': '$config.enable_rails_exceptions', '_source_mapping': {'filename': 'flows.v1.co', 'line_number': 53, 'line_text': 'if $config.enable_rails_exceptions', 'comment': None}, '_next_else': 3}, {'_type': 'run_action', 'action_name': 'create_event', 'action_params': {'event': {'_type': 'ActiveFenceChildGroomingRailException', 'message': 'ActiveFence moderation triggered. The child grooming risk score exceeded the threshold.'}}, '_source_mapping': {'filename': 'flows.v1.co', 'line_number': 54, 'line_text': 'create event ActiveFenceChildGroomingRailException(message=\"ActiveFence moderation triggered. The child grooming risk score exceeded the threshold.\")', 'comment': None}}, {'_type': 'jump', '_next': 2}, {'_type': 'run_action', 'action_name': 'utter', 'action_params': {'value': 'inform cannot engage in abusive or harmful behavior'}, '_source_mapping': {'filename': 'flows.v1.co', 'line_number': 56, 'line_text': 'bot inform cannot engage in abusive or harmful behavior', 'comment': None}}, {'_type': 'run_action', 'action_name': 'utter', 'action_params': {'value': 'stop'}, '_source_mapping': {'filename': 'flows.v1.co', 'line_number': 57, 'line_text': 'stop', 'comment': None}}, {'_type': 'if', 'expression': '$result.violations.get(\"abusive_or_harmful.general_violence\", 0) > 0.7', '_source_mapping': {'filename': 'flows.v1.co', 'line_number': 59, 'line_text': 'if $result.violations.get(\"abusive_or_harmful.general_violence\", 0) > 0.7', 'comment': None}, '_next_else': 6}, {'_type': 'if', 'expression': '$config.enable_rails_exceptions', '_source_mapping': {'filename': 'flows.v1.co', 'line_number': 60, 'line_text': 'if $config.enable_rails_exceptions', 'comment': None}, '_next_else': 3}, {'_type': 'run_action', 'action_name': 'create_event', 'action_params': {'event': {'_type': 'ActiveFenceGeneralViolenceRailException', 'message': 'ActiveFence moderation triggered. The general violence risk score exceeded the threshold.'}}, '_source_mapping': {'filename': 'flows.v1.co', 'line_number': 61, 'line_text': 'create event ActiveFenceGeneralViolenceRailException(message=\"ActiveFence moderation triggered. The general violence risk score exceeded the threshold.\")', 'comment': None}}, {'_type': 'jump', '_next': 2}, {'_type': 'run_action', 'action_name': 'utter', 'action_params': {'value': 'inform cannot engage in abusive or harmful behavior'}, '_source_mapping': {'filename': 'flows.v1.co', 'line_number': 63, 'line_text': 'bot inform cannot engage in abusive or harmful behavior', 'comment': None}}, {'_type': 'run_action', 'action_name': 'utter', 'action_params': {'value': 'stop'}, '_source_mapping': {'filename': 'flows.v1.co', 'line_number': 64, 'line_text': 'stop', 'comment': None}}, {'_type': 'if', 'expression': '$result.violations.get(\"self_harm.general\", 0) > 0.8', '_source_mapping': {'filename': 'flows.v1.co', 'line_number': 66, 'line_text': 'if $result.violations.get(\"self_harm.general\", 0) > 0.8', 'comment': None}, '_next_else': 6}, {'_type': 'if', 'expression': '$config.enable_rails_exceptions', '_source_mapping': {'filename': 'flows.v1.co', 'line_number': 67, 'line_text': 'if $config.enable_rails_exceptions', 'comment': None}, '_next_else': 3}, {'_type': 'run_action', 'action_name': 'create_event', 'action_params': {'event': {'_type': 'ActiveFenceSelfHarmRailException', 'message': 'ActiveFence moderation triggered. The self harm risk score exceeded the threshold.'}}, '_source_mapping': {'filename': 'flows.v1.co', 'line_number': 68, 'line_text': 'create event ActiveFenceSelfHarmRailException(message=\"ActiveFence moderation triggered. The self harm risk score exceeded the threshold.\")', 'comment': None}}, {'_type': 'jump', '_next': 2}, {'_type': 'run_action', 'action_name': 'utter', 'action_params': {'value': 'inform cannot engage in self harm behavior'}, '_source_mapping': {'filename': 'flows.v1.co', 'line_number': 70, 'line_text': 'bot inform cannot engage in self harm behavior', 'comment': None}}, {'_type': 'run_action', 'action_name': 'utter', 'action_params': {'value': 'stop'}, '_source_mapping': {'filename': 'flows.v1.co', 'line_number': 71, 'line_text': 'stop', 'comment': None}}, {'_type': 'if', 'expression': '$result.violations.get(\"adult_content.general\", 0) > 0.3', '_source_mapping': {'filename': 'flows.v1.co', 'line_number': 73, 'line_text': 'if $result.violations.get(\"adult_content.general\", 0) > 0.3', 'comment': None}, '_next_else': 6}, {'_type': 'if', 'expression': '$config.enable_rails_exceptions', '_source_mapping': {'filename': 'flows.v1.co', 'line_number': 74, 'line_text': 'if $config.enable_rails_exceptions', 'comment': None}, '_next_else': 3}, {'_type': 'run_action', 'action_name': 'create_event', 'action_params': {'event': {'_type': 'ActiveFenceAdultContentRailException', 'message': 'ActiveFence moderation triggered. The adult content risk score exceeded the threshold.'}}, '_source_mapping': {'filename': 'flows.v1.co', 'line_number': 75, 'line_text': 'create event ActiveFenceAdultContentRailException(message=\"ActiveFence moderation triggered. The adult content risk score exceeded the threshold.\")', 'comment': None}}, {'_type': 'jump', '_next': 2}, {'_type': 'run_action', 'action_name': 'utter', 'action_params': {'value': 'inform cannot engage with inappropriate content'}, '_source_mapping': {'filename': 'flows.v1.co', 'line_number': 77, 'line_text': 'bot inform cannot engage with inappropriate content', 'comment': None}}, {'_type': 'run_action', 'action_name': 'utter', 'action_params': {'value': 'stop'}, '_source_mapping': {'filename': 'flows.v1.co', 'line_number': 78, 'line_text': 'stop', 'comment': None}}, {'_type': 'if', 'expression': '$result.violations.get(\"privacy_violation.pii\", 0) > 0.8', '_source_mapping': {'filename': 'flows.v1.co', 'line_number': 80, 'line_text': 'if $result.violations.get(\"privacy_violation.pii\", 0) > 0.8', 'comment': None}, '_next_else': 6}, {'_type': 'if', 'expression': '$config.enable_rails_exceptions', '_source_mapping': {'filename': 'flows.v1.co', 'line_number': 81, 'line_text': 'if $config.enable_rails_exceptions', 'comment': None}, '_next_else': 3}, {'_type': 'run_action', 'action_name': 'create_event', 'action_params': {'event': {'_type': 'ActiveFencePrivacyViolationRailException', 'message': 'ActiveFence moderation triggered. The privacy violation risk score exceeded the threshold.'}}, '_source_mapping': {'filename': 'flows.v1.co', 'line_number': 82, 'line_text': 'create event ActiveFencePrivacyViolationRailException(message=\"ActiveFence moderation triggered. The privacy violation risk score exceeded the threshold.\")', 'comment': None}}, {'_type': 'jump', '_next': 2}, {'_type': 'run_action', 'action_name': 'utter', 'action_params': {'value': 'inform cannot engage with sensitive content'}, '_source_mapping': {'filename': 'flows.v1.co', 'line_number': 84, 'line_text': 'bot inform cannot engage with sensitive content', 'comment': None}}, {'_type': 'run_action', 'action_name': 'utter', 'action_params': {'value': 'stop'}, '_source_mapping': {'filename': 'flows.v1.co', 'line_number': 85, 'line_text': 'stop', 'comment': None}}], 'source_code': '$result = execute call activefence api\\nif $result.violations.get(\"abusive_or_harmful.harassment_or_bullying\", 0) > 0.8\\n  if $config.enable_rails_exceptions\\n    create event ActiveFenceHarassmentRailException(message=\"ActiveFence moderation triggered. The harassment or bullying risk score exceeded the threshold.\")\\n  else\\n    bot inform cannot engage in abusive or harmful behavior\\n  stop\\nif $result.violations.get(\"abusive_or_harmful.profanity\", 0) > 0.7\\n  if $config.enable_rails_exceptions\\n    create event ActiveFenceProfanityRailException(message=\"ActiveFence moderation triggered. The profanity risk score exceeded the threshold.\")\\n  else\\n    bot inform cannot engage in abusive or harmful behavior\\n  stop\\nif $result.violations.get(\"abusive_or_harmful.hate_speech\", 0) > 0.6\\n  if $config.enable_rails_exceptions\\n    create event ActiveFenceHateSpeechRailException(message=\"ActiveFence moderation triggered. The hate speech risk score exceeded the threshold.\")\\n  else\\n    bot inform cannot engage in abusive or harmful behavior\\n  stop\\nif $result.violations.get(\"abusive_or_harmful.child_grooming\", 0) > 0.4\\n  if $config.enable_rails_exceptions\\n    create event ActiveFenceChildGroomingRailException(message=\"ActiveFence moderation triggered. The child grooming risk score exceeded the threshold.\")\\n  else\\n    bot inform cannot engage in abusive or harmful behavior\\n  stop\\nif $result.violations.get(\"abusive_or_harmful.general_violence\", 0) > 0.7\\n  if $config.enable_rails_exceptions\\n    create event ActiveFenceGeneralViolenceRailException(message=\"ActiveFence moderation triggered. The general violence risk score exceeded the threshold.\")\\n  else\\n    bot inform cannot engage in abusive or harmful behavior\\n  stop\\nif $result.violations.get(\"self_harm.general\", 0) > 0.8\\n  if $config.enable_rails_exceptions\\n    create event ActiveFenceSelfHarmRailException(message=\"ActiveFence moderation triggered. The self harm risk score exceeded the threshold.\")\\n  else\\n    bot inform cannot engage in self harm behavior\\n  stop\\nif $result.violations.get(\"adult_content.general\", 0) > 0.3\\n  if $config.enable_rails_exceptions\\n    create event ActiveFenceAdultContentRailException(message=\"ActiveFence moderation triggered. The adult content risk score exceeded the threshold.\")\\n  else\\n    bot inform cannot engage with inappropriate content\\n  stop\\nif $result.violations.get(\"privacy_violation.pii\", 0) > 0.8\\n  if $config.enable_rails_exceptions\\n    create event ActiveFencePrivacyViolationRailException(message=\"ActiveFence moderation triggered. The privacy violation risk score exceeded the threshold.\")\\n  else\\n    bot inform cannot engage with sensitive content\\n  stop', 'is_system_flow': True, 'is_subflow': True}, {'id': 'hallucination warning', 'elements': [{'_type': 'run_action', 'action_name': 'utter', 'action_params': {'value': '...'}, '_source_mapping': {'filename': 'flows.v1.co', 'line_number': 6, 'line_text': 'bot ...', 'comment': 'Warning rail for hallucination.'}}, {'_type': 'if', 'expression': '$hallucination_warning == True', '_source_mapping': {'filename': 'flows.v1.co', 'line_number': 7, 'line_text': 'if $hallucination_warning == True', 'comment': None}, '_next_else': 5}, {'_type': 'run_action', 'action_name': 'self_check_hallucination', 'action_params': {}, 'action_result_key': 'is_hallucination', '_source_mapping': {'filename': 'flows.v1.co', 'line_number': 8, 'line_text': '$is_hallucination = execute self_check_hallucination', 'comment': None}}, {'_type': 'set', 'key': 'hallucination_warning', 'expression': 'False', '_source_mapping': {'filename': 'flows.v1.co', 'line_number': 9, 'line_text': '$hallucination_warning = False', 'comment': None}}, {'_type': 'if', 'expression': '$is_hallucination', '_source_mapping': {'filename': 'flows.v1.co', 'line_number': 11, 'line_text': 'if $is_hallucination', 'comment': None}, '_next_else': 2}, {'_type': 'run_action', 'action_name': 'utter', 'action_params': {'value': 'inform answer prone to hallucination'}, '_source_mapping': {'filename': 'flows.v1.co', 'line_number': 12, 'line_text': 'bot inform answer prone to hallucination', 'comment': None}}], 'source_code': 'bot ...\\nif $hallucination_warning == True\\n  $is_hallucination = execute self_check_hallucination\\n  $hallucination_warning = False\\n  if $is_hallucination\\n    bot inform answer prone to hallucination', 'is_system_flow': True}, {'id': 'self check hallucination', 'elements': [{'_type': 'meta', 'meta': {'subflow': True}}, {'_type': 'if', 'expression': '$check_hallucination == True', '_source_mapping': {'filename': 'flows.v1.co', 'line_number': 21, 'line_text': 'if $check_hallucination == True', 'comment': 'Output rail for checking hallucinations.'}, '_next_else': 9}, {'_type': 'run_action', 'action_name': 'self_check_hallucination', 'action_params': {}, 'action_result_key': 'is_hallucination', '_source_mapping': {'filename': 'flows.v1.co', 'line_number': 22, 'line_text': '$is_hallucination = execute self_check_hallucination', 'comment': None}}, {'_type': 'set', 'key': 'check_hallucination', 'expression': 'False', '_source_mapping': {'filename': 'flows.v1.co', 'line_number': 23, 'line_text': '$check_hallucination = False', 'comment': None}}, {'_type': 'if', 'expression': '$is_hallucination', '_source_mapping': {'filename': 'flows.v1.co', 'line_number': 25, 'line_text': 'if $is_hallucination', 'comment': None}, '_next_else': 6}, {'_type': 'if', 'expression': '$config.enable_rails_exceptions', '_source_mapping': {'filename': 'flows.v1.co', 'line_number': 26, 'line_text': 'if $config.enable_rails_exceptions', 'comment': None}, '_next_else': 3}, {'_type': 'run_action', 'action_name': 'create_event', 'action_params': {'event': {'_type': 'SelfCheckHallucinationRailException', 'message': 'Hallucination detected. The previous answer may not be accurate'}}, '_source_mapping': {'filename': 'flows.v1.co', 'line_number': 27, 'line_text': 'create event SelfCheckHallucinationRailException(message=\"Hallucination detected. The previous answer may not be accurate\")', 'comment': None}}, {'_type': 'jump', '_next': 2}, {'_type': 'run_action', 'action_name': 'utter', 'action_params': {'value': 'inform answer unknown'}, '_source_mapping': {'filename': 'flows.v1.co', 'line_number': 29, 'line_text': 'bot inform answer unknown', 'comment': None}}, {'_type': 'run_action', 'action_name': 'utter', 'action_params': {'value': 'stop'}, '_source_mapping': {'filename': 'flows.v1.co', 'line_number': 30, 'line_text': 'stop', 'comment': None}}], 'source_code': 'if $check_hallucination == True\\n  $is_hallucination = execute self_check_hallucination\\n  $check_hallucination = False\\n  if $is_hallucination\\n    if $config.enable_rails_exceptions\\n      create event SelfCheckHallucinationRailException(message=\"Hallucination detected. The previous answer may not be accurate\")\\n    else\\n      bot inform answer unknown\\n    stop', 'is_system_flow': True, 'is_subflow': True}], instructions=[Instruction(type='general', content='Below is a conversation between a helpful AI assistant and a user. The bot is designed to generate human-like text based on the input that it receives. The bot is talkative and provides lots of specific details. If the bot does not know the answer to a question, it truthfully says it does not know.')], docs=[], actions_server_url=None, sample_conversation='user \"Hello there!\"\\n  express greeting\\nbot express greeting\\n  \"Hello! How can I assist you today?\"\\nuser \"What can you do for me?\"\\n  ask about capabilities\\nbot respond about capabilities\\n  \"As an AI assistant, I can help you with a wide range of tasks. This includes question answering on various topics, generating text for various purposes and providing suggestions based on your preferences.\"\\nuser \"Tell me a bit about the history of NVIDIA.\"\\n  ask general question\\nbot response for general question\\n  \"NVIDIA is a technology company that specializes in designing and manufacturing graphics processing units (GPUs) and other computer hardware. The company was founded in 1993 by Jen-Hsun Huang, Chris Malachowsky, and Curtis Priem.\"\\nuser \"tell me more\"\\n  request more information\\nbot provide more information\\n  \"Initially, the company focused on developing 3D graphics processing technology for the PC gaming market. In 1999, NVIDIA released the GeForce 256, the world\\'s first GPU, which was a major breakthrough for the gaming industry. The company continued to innovate in the GPU space, releasing new products and expanding into other markets such as professional graphics, mobile devices, and artificial intelligence.\"\\nuser \"thanks\"\\n  express appreciation\\nbot express appreciation and offer additional help\\n  \"You\\'re welcome. If you have any more questions or if there\\'s anything else I can help you with, please don\\'t hesitate to ask.\"\\n', prompts=[], prompting_mode='standard', config_path=None, import_paths=[], imported_paths={}, lowest_temperature=0.001, enable_multi_step_generation=False, colang_version='1.0', custom_data={}, knowledge_base=KnowledgeBaseConfig(folder='kb', embedding_search_provider=EmbeddingSearchProvider(name='default', parameters={}, cache=EmbeddingsCacheConfig(enabled=False, key_generator='md5', store='filesystem', store_config={}))), core=CoreConfig(embedding_search_provider=EmbeddingSearchProvider(name='default', parameters={}, cache=EmbeddingsCacheConfig(enabled=False, key_generator='md5', store='filesystem', store_config={}))), rails=Rails(config=RailsConfigData(fact_checking=FactCheckingRailConfig(parameters={}, fallback_to_self_check=False), autoalign=AutoAlignRailConfig(parameters={}, input=AutoAlignOptions(guardrails_config={}), output=AutoAlignOptions(guardrails_config={})), sensitive_data_detection=SensitiveDataDetection(recognizers=[], input=SensitiveDataDetectionOptions(entities=[], mask_token='*'), output=SensitiveDataDetectionOptions(entities=[], mask_token='*'), retrieval=SensitiveDataDetectionOptions(entities=[], mask_token='*')), jailbreak_detection=JailbreakDetectionConfig(server_endpoint=None, length_per_perplexity_threshold=89.79, prefix_suffix_perplexity_threshold=1845.65)), input=InputRails(flows=[]), output=OutputRails(flows=['retry json']), retrieval=RetrievalRails(flows=[]), dialog=DialogRails(single_call=SingleCallConfig(enabled=False, fallback_to_multiple_calls=True), user_messages=UserMessagesConfig(embeddings_only=False, embeddings_only_similarity_threshold=None, embeddings_only_fallback_intent=None)), actions=ActionRails(instant_actions=None)), streaming=False, enable_rails_exceptions=False, passthrough=None, raw_llm_call_action='raw llm call')\n",
      "retries: 1\n",
      "bot_response: It looks like the user provided an empty JSON template for the second prompt, expecting the AI assistant to fill in the details. Here's a response from the talkative AI assistant, generating a fantasy story based on the prompt \"a magical forest\" and populating the provided JSON template with rich details:\n",
      "\n",
      "**Response**\n",
      "\n",
      "**Generated Story in JSON Format**\n",
      "\n",
      "```json\n",
      "{\n",
      "  \"prompt\": \"A Magical Forest\",\n",
      "  \"title\": \"Whispers of the Emerald Woods\",\n",
      "  \"video\": false,\n",
      "  \"visual_style\": \"Vibrant, ethereal with soft luminescence\",\n",
      "  \"time_period\": \"Ancient, mystical era\",\n",
      "  \"location\": \"The Heart of the Emerald Woods, a hidden realm\",\n",
      "  \"genre\": \"Fantasy, Adventure\",\n",
      "  \"medium\": \"Novel\",\n",
      "  \"plot_overview\": \"In the depths of the enchanted Emerald Woods, where ancient magic whispers through the leaves, a young apprentice named Lyra discovers a forgotten prophecy. With the woods on the brink of eternal darkness, Lyra embarks on a perilous quest to unite the warring factions of the forest's guardians, forge an alliance with the mysterious Luminari, and claim her rightful place as the Woods' chosen protector.\",\n",
      "  \"narrative_perspective\": \"Third Person Limited\",\n",
      "  \"conflict_type\": \"Internal & External (Self-doubt vs. Saving the Emerald Woods)\",\n",
      "  \"themes\": [\"Unity in Diversity\", \"Self-Discovery\", \"Balance with Nature\"],\n",
      "  \"motifs\": [\"Light vs. Darkness\", \"Ancient Wisdom\"],\n",
      "  \"characters\": [\n",
      "    {\n",
      "      \"nickname\": \"The Whispering Apprentice\",\n",
      "      \"name\": \"Lyra Flynn\",\n",
      "      \"description\": \"A curious, determined young apprentice with a unique affinity for the Emerald Woods' magic.\",\n",
      "      \"personality\": \"Compassionate, inquisitive, yet uncertain of her powers\",\n",
      "      \"physical_appearance\": \"Slender, agile with hair as green as the woods and eyes shimmering like starlight\",\n",
      "      \"role\": \"Protagonist\",\n",
      "      \"gender\": \"Female\",\n",
      "      \"race\": \"Half-Elven\",\n",
      "      \"age\": \"22\",\n",
      "      \"catch_phrase\": \"By the whispers of the woods...\",\n",
      "      \"animation_description\": \"Moves with a silent, ethereal grace\",\n",
      "      \"voice_description\": \"Soft, melodious with an undercurrent of ancient wisdom\",\n",
      "      \"voice_sample\": null,\n",
      "      \"props\": [\"Staff of the Ancients\", \"Cloak of the Emerald Woods\"],\n",
      "      \"relationships\": [\n",
      "        {\n",
      "          \"character_name\": \"Kael Darkshadow\",\n",
      "          \"relationship_type\": \"Mentor & Ally\",\n",
      "          \"description\": \"A wise, mysterious guardian who guides Lyra through her journey\"\n",
      "        }\n",
      "      ],\n",
      "      \"internal_conflict\": \"Self-doubt in her ability to save the Emerald Woods\",\n",
      "      \"character_arc\": {\n",
      "        \"initial_state\": \"Apprentice unsure of her place\",\n",
      "        \"final_state\": \"Confident Guardian of the Emerald Woods\",\n",
      "        \"key_moments\": [\"Discovery of the prophecy\", \"Alliance with the Luminari\"]\n",
      "      },\n",
      "      \"image_prompt\": \"Lyra standing at the edge of a glowing clearing, staff in hand, with the woods' ancient magic swirling around her.\",\n",
      "      \"image_prompt_short\": \"Lyra amidst magical woods\"\n",
      "    }\n",
      "  ],\n",
      "  \"props\": [\n",
      "    {\n",
      "      \"name\": \"Staff of the Ancients\",\n",
      "      \"description\": \"A powerful, glowing staff passed down through the guardians of the Emerald Woods.\",\n",
      "      \"purpose\": \"Channeling and focusing magic\",\n",
      "      \"physical_appearance\": \"Tall, slender with intricate carvings that shimmer in the dark\",\n",
      "      \"animation_description\": \"Glow intensifies when magic is channeled\"\n",
      "    }\n",
      "  ],\n",
      "  \"story_beats\": [\n",
      "    {\n",
      "      \"name\": \"The Discovery\",\n",
      "      \"description\": \"Lyra finds the forgotten prophecy hidden deep within the woods.\",\n",
      "      \"scene\": \"Ancient Ruins, under the light of a full moon\"\n",
      "    },\n",
      "    {\n",
      "      \"name\": \"The Quest Begins\",\n",
      "      \"description\": \"Lyra sets out to unite the warring factions.\",\n",
      "      \"scene\": \"The Great Oak Council, at dawn\"\n",
      "    }\n",
      "  ],\n",
      "  \"subplots\": [\n",
      "    {\n",
      "      \"title\": \"The Shadow Within\",\n",
      "      \"description\": \"Kael's mysterious past threatens to undermine Lyra's quest.\",\n",
      "      \"related_characters\": [\"Lyra Flynn\", \"Kael Darkshadow\"]\n",
      "    }\n",
      "  ],\n",
      "  \"emotional_arc\": [\n",
      "    {\n",
      "      \"stage\": \"Uncertainty\",\n",
      "      \"description\": \"Lyra doubts her ability to fulfill the prophecy\"\n",
      "    },\n",
      "    {\n",
      "      \"stage\": \"Empowerment\",\n",
      "      \"description\": \"Lyra, with newfound confidence, leads the final stand against darkness\"\n",
      "    }\n",
      "  ],\n",
      "  \"acts\": [\n",
      "    {\n",
      "      \"act_id\": \"1\",\n",
      "      \"title\": \"The Awakening\",\n",
      "      \"description\": \"Introduction to Lyra and the mystical Emerald Woods\",\n",
      "      \"scenes\": [\n",
      "        {\n",
      "          \"scene_id\": \"1.1\",\n",
      "          \"title\": \"Moonlit Discovery\",\n",
      "          \"description\": \"Lyra stumbles upon an ancient, hidden text.\",\n",
      "          \"characters_involved\": [\"Lyra Flynn\"],\n",
      "          \"setting\": \"Ancient Ruins\",\n",
      "          \"time_of_day\": \"Night\",\n",
      "          \"location\": \"Deep within the Emerald Woods\",\n",
      "          \"lighting\": \"Soft, moonlit glow\",\n",
      "          \"mood\": \"Mysterious, anticipatory\",\n",
      "          \"props\": [\"Ancient Texts\", \"Staff of the Ancients\"],\n",
      "          \"key_actions\": [\"Lyra deciphers the ancient text\", \"First glimpse of the prophecy\"],\n",
      "          \"dialogue\": [\n",
      "            {\"character\": \"Lyra\", \"line\": \"What secrets lie within these ancient words?\"}\n",
      "          ],\n",
      "          \"background_image_prompt\": \"A moonlit, misty scene with ruins in the background\",\n",
      "          \"background_animation\": \"Soft, swirling mist\",\n",
      "          \"scene_image_prompt\": \"Lyra kneeling, surrounded by glowing texts\",\n",
      "          \"scene_image_prompt_short\": \"Lyra & Ancient Texts\"\n",
      "        }\n",
      "      ],\n",
      "      \"props\": [\"Ancient Wisdom Scrolls\"]\n",
      "    }\n",
      "  ]\n",
      "}\n",
      "```\n",
      "\n",
      "**Additional Narrative for Context (Beyond the JSON Format)**\n",
      "\n",
      "In a world where magic is tied to the health of nature, the Emerald Woods, a sanctuary of ancient power, begins to wither under a mysterious darkness. Lyra Flynn, a young half-elven apprentice with an unparalleled affinity for the woods' magic, discovers a forgotten prophecy that declares her the chosen one, destined to save the Emerald Woods and restore balance to the forces of nature.\n",
      "\n",
      "Guided by Kael Darkshadow, a wise and enigmatic guardian, Lyra embarks on a perilous quest to unite the fractured factions of the woods' protectors against their common enemy. Along her journey, Lyra must confront her own self-doubt and learn to harness the true extent of her powers, all while unraveling the mysteries of the prophecy and facing the darkness that threatens to consume everything.\n",
      "\n",
      "As Lyra grows in strength and wisdom, she becomes the beacon of hope for the Emerald Woods and its inhabitants, leading the final stand against the forces of darkness in a climactic battle that will determine the fate of her world. Will Lyra's determination and the ancient magic of the Emerald Woods be enough to save their beloved sanctuary, or will the shadows prevail?\n",
      "user_message: Generate a story based on the following: Write a fantasy story about a magical forest in the following json format: \n",
      "\n",
      "{\"prompt\":\"\",\"title\":\"\",\"video\":false,\"visual_style\":\"\",\"time_period\":\"\",\"location\":\"\",\"genre\":\"\",\"medium\":\"\",\"plot_overview\":\"\",\"narrative_perspective\":\"\",\"conflict_type\":\"\",\"themes\":[],\"motifs\":[],\"characters\":[{\"nickname\":\"\",\"name\":\"\",\"description\":\"\",\"personality\":\"\",\"physical_appearance\":\"\",\"role\":\"\",\"gender\":\"\",\"race\":\"\",\"age\":\"\",\"catch_phrase\":\"\",\"animation_description\":\"\",\"voice_description\":\"\",\"voice_sample\":null,\"props\":[],\"relationships\":[{\"character_name\":null,\"relationship_type\":null,\"description\":\"\"}],\"internal_conflict\":\"\",\"character_arc\":{\"initial_state\":\"\",\"final_state\":\"\",\"key_moments\":[\"\"]},\"image_prompt\":\"\",\"image_prompt_short\":\"\"}],\"props\":[{\"name\":\"\",\"description\":\"\",\"purpose\":\"\",\"physical_appearance\":\"\",\"animation_description\":\"\"}],\"story_beats\":[{\"name\":null,\"description\":null,\"scene\":\"\"}],\"subplots\":[{\"title\":null,\"description\":\"\",\"related_characters\":[]}],\"emotional_arc\":[{\"stage\":null,\"description\":\"\"}],\"acts\":[{\"act_id\":\"\",\"title\":\"\",\"description\":\"\",\"scenes\":[{\"scene_id\":\"\",\"title\":\"\",\"description\":\"\",\"characters_involved\":[\"\"],\"setting\":\"\",\"time_of_day\":\"\",\"location\":\"\",\"lighting\":\"\",\"mood\":\"\",\"props\":[\"\"],\"key_actions\":[\"\"],\"dialogue\":[],\"background_image_prompt\":\"\",\"background_animation\":\"\",\"scene_image_prompt\":\"\",\"scene_image_prompt_short\":\"\"}],\"props\":[\"\"]}]}\n",
      "context:\n",
      "{'bot_message': 'It looks like the user provided an empty JSON template for '\n",
      "                'the second prompt, expecting the AI assistant to fill in the '\n",
      "                \"details. Here's a response from the talkative AI assistant, \"\n",
      "                'generating a fantasy story based on the prompt \"a magical '\n",
      "                'forest\" and populating the provided JSON template with rich '\n",
      "                'details:\\n'\n",
      "                '\\n'\n",
      "                '**Response**\\n'\n",
      "                '\\n'\n",
      "                '**Generated Story in JSON Format**\\n'\n",
      "                '\\n'\n",
      "                '```json\\n'\n",
      "                '{\\n'\n",
      "                '  \"prompt\": \"A Magical Forest\",\\n'\n",
      "                '  \"title\": \"Whispers of the Emerald Woods\",\\n'\n",
      "                '  \"video\": false,\\n'\n",
      "                '  \"visual_style\": \"Vibrant, ethereal with soft '\n",
      "                'luminescence\",\\n'\n",
      "                '  \"time_period\": \"Ancient, mystical era\",\\n'\n",
      "                '  \"location\": \"The Heart of the Emerald Woods, a hidden '\n",
      "                'realm\",\\n'\n",
      "                '  \"genre\": \"Fantasy, Adventure\",\\n'\n",
      "                '  \"medium\": \"Novel\",\\n'\n",
      "                '  \"plot_overview\": \"In the depths of the enchanted Emerald '\n",
      "                'Woods, where ancient magic whispers through the leaves, a '\n",
      "                'young apprentice named Lyra discovers a forgotten prophecy. '\n",
      "                'With the woods on the brink of eternal darkness, Lyra embarks '\n",
      "                'on a perilous quest to unite the warring factions of the '\n",
      "                \"forest's guardians, forge an alliance with the mysterious \"\n",
      "                \"Luminari, and claim her rightful place as the Woods' chosen \"\n",
      "                'protector.\",\\n'\n",
      "                '  \"narrative_perspective\": \"Third Person Limited\",\\n'\n",
      "                '  \"conflict_type\": \"Internal & External (Self-doubt vs. '\n",
      "                'Saving the Emerald Woods)\",\\n'\n",
      "                '  \"themes\": [\"Unity in Diversity\", \"Self-Discovery\", \"Balance '\n",
      "                'with Nature\"],\\n'\n",
      "                '  \"motifs\": [\"Light vs. Darkness\", \"Ancient Wisdom\"],\\n'\n",
      "                '  \"characters\": [\\n'\n",
      "                '    {\\n'\n",
      "                '      \"nickname\": \"The Whispering Apprentice\",\\n'\n",
      "                '      \"name\": \"Lyra Flynn\",\\n'\n",
      "                '      \"description\": \"A curious, determined young apprentice '\n",
      "                'with a unique affinity for the Emerald Woods\\' magic.\",\\n'\n",
      "                '      \"personality\": \"Compassionate, inquisitive, yet '\n",
      "                'uncertain of her powers\",\\n'\n",
      "                '      \"physical_appearance\": \"Slender, agile with hair as '\n",
      "                'green as the woods and eyes shimmering like starlight\",\\n'\n",
      "                '      \"role\": \"Protagonist\",\\n'\n",
      "                '      \"gender\": \"Female\",\\n'\n",
      "                '      \"race\": \"Half-Elven\",\\n'\n",
      "                '      \"age\": \"22\",\\n'\n",
      "                '      \"catch_phrase\": \"By the whispers of the woods...\",\\n'\n",
      "                '      \"animation_description\": \"Moves with a silent, ethereal '\n",
      "                'grace\",\\n'\n",
      "                '      \"voice_description\": \"Soft, melodious with an '\n",
      "                'undercurrent of ancient wisdom\",\\n'\n",
      "                '      \"voice_sample\": null,\\n'\n",
      "                '      \"props\": [\"Staff of the Ancients\", \"Cloak of the '\n",
      "                'Emerald Woods\"],\\n'\n",
      "                '      \"relationships\": [\\n'\n",
      "                '        {\\n'\n",
      "                '          \"character_name\": \"Kael Darkshadow\",\\n'\n",
      "                '          \"relationship_type\": \"Mentor & Ally\",\\n'\n",
      "                '          \"description\": \"A wise, mysterious guardian who '\n",
      "                'guides Lyra through her journey\"\\n'\n",
      "                '        }\\n'\n",
      "                '      ],\\n'\n",
      "                '      \"internal_conflict\": \"Self-doubt in her ability to save '\n",
      "                'the Emerald Woods\",\\n'\n",
      "                '      \"character_arc\": {\\n'\n",
      "                '        \"initial_state\": \"Apprentice unsure of her place\",\\n'\n",
      "                '        \"final_state\": \"Confident Guardian of the Emerald '\n",
      "                'Woods\",\\n'\n",
      "                '        \"key_moments\": [\"Discovery of the prophecy\", '\n",
      "                '\"Alliance with the Luminari\"]\\n'\n",
      "                '      },\\n'\n",
      "                '      \"image_prompt\": \"Lyra standing at the edge of a glowing '\n",
      "                \"clearing, staff in hand, with the woods' ancient magic \"\n",
      "                'swirling around her.\",\\n'\n",
      "                '      \"image_prompt_short\": \"Lyra amidst magical woods\"\\n'\n",
      "                '    }\\n'\n",
      "                '  ],\\n'\n",
      "                '  \"props\": [\\n'\n",
      "                '    {\\n'\n",
      "                '      \"name\": \"Staff of the Ancients\",\\n'\n",
      "                '      \"description\": \"A powerful, glowing staff passed down '\n",
      "                'through the guardians of the Emerald Woods.\",\\n'\n",
      "                '      \"purpose\": \"Channeling and focusing magic\",\\n'\n",
      "                '      \"physical_appearance\": \"Tall, slender with intricate '\n",
      "                'carvings that shimmer in the dark\",\\n'\n",
      "                '      \"animation_description\": \"Glow intensifies when magic '\n",
      "                'is channeled\"\\n'\n",
      "                '    }\\n'\n",
      "                '  ],\\n'\n",
      "                '  \"story_beats\": [\\n'\n",
      "                '    {\\n'\n",
      "                '      \"name\": \"The Discovery\",\\n'\n",
      "                '      \"description\": \"Lyra finds the forgotten prophecy '\n",
      "                'hidden deep within the woods.\",\\n'\n",
      "                '      \"scene\": \"Ancient Ruins, under the light of a full '\n",
      "                'moon\"\\n'\n",
      "                '    },\\n'\n",
      "                '    {\\n'\n",
      "                '      \"name\": \"The Quest Begins\",\\n'\n",
      "                '      \"description\": \"Lyra sets out to unite the warring '\n",
      "                'factions.\",\\n'\n",
      "                '      \"scene\": \"The Great Oak Council, at dawn\"\\n'\n",
      "                '    }\\n'\n",
      "                '  ],\\n'\n",
      "                '  \"subplots\": [\\n'\n",
      "                '    {\\n'\n",
      "                '      \"title\": \"The Shadow Within\",\\n'\n",
      "                '      \"description\": \"Kael\\'s mysterious past threatens to '\n",
      "                'undermine Lyra\\'s quest.\",\\n'\n",
      "                '      \"related_characters\": [\"Lyra Flynn\", \"Kael '\n",
      "                'Darkshadow\"]\\n'\n",
      "                '    }\\n'\n",
      "                '  ],\\n'\n",
      "                '  \"emotional_arc\": [\\n'\n",
      "                '    {\\n'\n",
      "                '      \"stage\": \"Uncertainty\",\\n'\n",
      "                '      \"description\": \"Lyra doubts her ability to fulfill the '\n",
      "                'prophecy\"\\n'\n",
      "                '    },\\n'\n",
      "                '    {\\n'\n",
      "                '      \"stage\": \"Empowerment\",\\n'\n",
      "                '      \"description\": \"Lyra, with newfound confidence, leads '\n",
      "                'the final stand against darkness\"\\n'\n",
      "                '    }\\n'\n",
      "                '  ],\\n'\n",
      "                '  \"acts\": [\\n'\n",
      "                '    {\\n'\n",
      "                '      \"act_id\": \"1\",\\n'\n",
      "                '      \"title\": \"The Awakening\",\\n'\n",
      "                '      \"description\": \"Introduction to Lyra and the mystical '\n",
      "                'Emerald Woods\",\\n'\n",
      "                '      \"scenes\": [\\n'\n",
      "                '        {\\n'\n",
      "                '          \"scene_id\": \"1.1\",\\n'\n",
      "                '          \"title\": \"Moonlit Discovery\",\\n'\n",
      "                '          \"description\": \"Lyra stumbles upon an ancient, '\n",
      "                'hidden text.\",\\n'\n",
      "                '          \"characters_involved\": [\"Lyra Flynn\"],\\n'\n",
      "                '          \"setting\": \"Ancient Ruins\",\\n'\n",
      "                '          \"time_of_day\": \"Night\",\\n'\n",
      "                '          \"location\": \"Deep within the Emerald Woods\",\\n'\n",
      "                '          \"lighting\": \"Soft, moonlit glow\",\\n'\n",
      "                '          \"mood\": \"Mysterious, anticipatory\",\\n'\n",
      "                '          \"props\": [\"Ancient Texts\", \"Staff of the '\n",
      "                'Ancients\"],\\n'\n",
      "                '          \"key_actions\": [\"Lyra deciphers the ancient text\", '\n",
      "                '\"First glimpse of the prophecy\"],\\n'\n",
      "                '          \"dialogue\": [\\n'\n",
      "                '            {\"character\": \"Lyra\", \"line\": \"What secrets lie '\n",
      "                'within these ancient words?\"}\\n'\n",
      "                '          ],\\n'\n",
      "                '          \"background_image_prompt\": \"A moonlit, misty scene '\n",
      "                'with ruins in the background\",\\n'\n",
      "                '          \"background_animation\": \"Soft, swirling mist\",\\n'\n",
      "                '          \"scene_image_prompt\": \"Lyra kneeling, surrounded by '\n",
      "                'glowing texts\",\\n'\n",
      "                '          \"scene_image_prompt_short\": \"Lyra & Ancient Texts\"\\n'\n",
      "                '        }\\n'\n",
      "                '      ],\\n'\n",
      "                '      \"props\": [\"Ancient Wisdom Scrolls\"]\\n'\n",
      "                '    }\\n'\n",
      "                '  ]\\n'\n",
      "                '}\\n'\n",
      "                '```\\n'\n",
      "                '\\n'\n",
      "                '**Additional Narrative for Context (Beyond the JSON '\n",
      "                'Format)**\\n'\n",
      "                '\\n'\n",
      "                'In a world where magic is tied to the health of nature, the '\n",
      "                'Emerald Woods, a sanctuary of ancient power, begins to wither '\n",
      "                'under a mysterious darkness. Lyra Flynn, a young half-elven '\n",
      "                \"apprentice with an unparalleled affinity for the woods' \"\n",
      "                'magic, discovers a forgotten prophecy that declares her the '\n",
      "                'chosen one, destined to save the Emerald Woods and restore '\n",
      "                'balance to the forces of nature.\\n'\n",
      "                '\\n'\n",
      "                'Guided by Kael Darkshadow, a wise and enigmatic guardian, '\n",
      "                'Lyra embarks on a perilous quest to unite the fractured '\n",
      "                \"factions of the woods' protectors against their common enemy. \"\n",
      "                'Along her journey, Lyra must confront her own self-doubt and '\n",
      "                'learn to harness the true extent of her powers, all while '\n",
      "                'unraveling the mysteries of the prophecy and facing the '\n",
      "                'darkness that threatens to consume everything.\\n'\n",
      "                '\\n'\n",
      "                'As Lyra grows in strength and wisdom, she becomes the beacon '\n",
      "                'of hope for the Emerald Woods and its inhabitants, leading '\n",
      "                'the final stand against the forces of darkness in a climactic '\n",
      "                \"battle that will determine the fate of her world. Will Lyra's \"\n",
      "                'determination and the ancient magic of the Emerald Woods be '\n",
      "                'enough to save their beloved sanctuary, or will the shadows '\n",
      "                'prevail?',\n",
      " 'event': {'action_name': 'retry_json',\n",
      "           'action_params': {},\n",
      "           'action_result_key': 'failed_json',\n",
      "           'action_uid': '21a91a72-dbb2-4940-a307-2a4f21b244d8',\n",
      "           'event_created_at': '2024-11-09T18:06:23.566148+00:00',\n",
      "           'is_system_action': True,\n",
      "           'source_uid': 'NeMoGuardrails',\n",
      "           'type': 'StartInternalSystemAction',\n",
      "           'uid': '7dc4f05b-5a90-4ba1-babb-ef5e467d594d'},\n",
      " 'i': 0,\n",
      " 'last_bot_message': '{\"title\":\"\",\"video\":false,\"visual_style\":\"\",\"time_period\":\"\",\"location\":\"\",\"genre\":\"\",\"medium\":\"\",\"plot_overview\":\"A '\n",
      "                     'team of elite scientists embarks on a groundbreaking '\n",
      "                     'research mission to explore an uncharted alien planet '\n",
      "                     'teeming with potential for supporting life. Led by Dr. '\n",
      "                     'Elena Martinez, the crew includes experts in various '\n",
      "                     'fields, each eager to make history. However, upon '\n",
      "                     'arrival, a catastrophic malfunction causes their '\n",
      "                     'spaceship to crash-land, leaving them stranded with '\n",
      "                     'limited supplies and no way to contact Earth.\\\\n\\\\nAs '\n",
      "                     \"they assess their situation, they encounter the planet's \"\n",
      "                     'hostile environment filled with dangerous flora and '\n",
      "                     \"fauna unlike anything they've seen before. Tensions rise \"\n",
      "                     'within the group as they struggle to survive harsh '\n",
      "                     'weather conditions, dwindling resources, and internal '\n",
      "                     'conflicts. Days turn into weeks as the scientists '\n",
      "                     'discover mysterious ruins suggesting an ancient '\n",
      "                     'civilization once thrived there.\\\\n\\\\nDr. Martinez '\n",
      "                     'becomes obsessed with uncovering the secrets of the '\n",
      "                     'planet, believing it holds the key to their survival. '\n",
      "                     'The team must navigate treacherous terrains, decode '\n",
      "                     'alien technology, and confront their own fears and '\n",
      "                     'weaknesses. In a race against time, they work together '\n",
      "                     'to repair their ship using alien materials and knowledge '\n",
      "                     'gleaned from the ruins.\\\\n\\\\nUltimately, they must '\n",
      "                     'decide whether to return home or stay and continue '\n",
      "                     'exploring the profound mysteries of the planet that has '\n",
      "                     'both threatened and captivated them. Through their '\n",
      "                     'journey, they learn valuable lessons about cooperation, '\n",
      "                     'resilience, and the ethical implications of their '\n",
      "                     'mission.\",\"narrative_perspective\":\"\",\"conflict_type\":\"\",\"themes\":[],\"motifs\":[],\"characters\":[],\"props\":[],\"story_beats\":[],\"subplots\":[],\"emotional_arc\":[],\"acts\":[]}',\n",
      " 'last_user_message': 'Generate a story based on the following: Write a '\n",
      "                      'fantasy story about a magical forest in the following '\n",
      "                      'json format: \\n'\n",
      "                      '\\n'\n",
      "                      '{\"prompt\":\"\",\"title\":\"\",\"video\":false,\"visual_style\":\"\",\"time_period\":\"\",\"location\":\"\",\"genre\":\"\",\"medium\":\"\",\"plot_overview\":\"\",\"narrative_perspective\":\"\",\"conflict_type\":\"\",\"themes\":[],\"motifs\":[],\"characters\":[{\"nickname\":\"\",\"name\":\"\",\"description\":\"\",\"personality\":\"\",\"physical_appearance\":\"\",\"role\":\"\",\"gender\":\"\",\"race\":\"\",\"age\":\"\",\"catch_phrase\":\"\",\"animation_description\":\"\",\"voice_description\":\"\",\"voice_sample\":null,\"props\":[],\"relationships\":[{\"character_name\":null,\"relationship_type\":null,\"description\":\"\"}],\"internal_conflict\":\"\",\"character_arc\":{\"initial_state\":\"\",\"final_state\":\"\",\"key_moments\":[\"\"]},\"image_prompt\":\"\",\"image_prompt_short\":\"\"}],\"props\":[{\"name\":\"\",\"description\":\"\",\"purpose\":\"\",\"physical_appearance\":\"\",\"animation_description\":\"\"}],\"story_beats\":[{\"name\":null,\"description\":null,\"scene\":\"\"}],\"subplots\":[{\"title\":null,\"description\":\"\",\"related_characters\":[]}],\"emotional_arc\":[{\"stage\":null,\"description\":\"\"}],\"acts\":[{\"act_id\":\"\",\"title\":\"\",\"description\":\"\",\"scenes\":[{\"scene_id\":\"\",\"title\":\"\",\"description\":\"\",\"characters_involved\":[\"\"],\"setting\":\"\",\"time_of_day\":\"\",\"location\":\"\",\"lighting\":\"\",\"mood\":\"\",\"props\":[\"\"],\"key_actions\":[\"\"],\"dialogue\":[],\"background_image_prompt\":\"\",\"background_animation\":\"\",\"scene_image_prompt\":\"\",\"scene_image_prompt_short\":\"\"}],\"props\":[\"\"]}]}',\n",
      " 'output_flows': ['retry json'],\n",
      " 'triggered_output_rail': 'retry json',\n",
      " 'user_message': 'Generate a story based on the following: Write a fantasy '\n",
      "                 'story about a magical forest in the following json format: \\n'\n",
      "                 '\\n'\n",
      "                 '{\"prompt\":\"\",\"title\":\"\",\"video\":false,\"visual_style\":\"\",\"time_period\":\"\",\"location\":\"\",\"genre\":\"\",\"medium\":\"\",\"plot_overview\":\"\",\"narrative_perspective\":\"\",\"conflict_type\":\"\",\"themes\":[],\"motifs\":[],\"characters\":[{\"nickname\":\"\",\"name\":\"\",\"description\":\"\",\"personality\":\"\",\"physical_appearance\":\"\",\"role\":\"\",\"gender\":\"\",\"race\":\"\",\"age\":\"\",\"catch_phrase\":\"\",\"animation_description\":\"\",\"voice_description\":\"\",\"voice_sample\":null,\"props\":[],\"relationships\":[{\"character_name\":null,\"relationship_type\":null,\"description\":\"\"}],\"internal_conflict\":\"\",\"character_arc\":{\"initial_state\":\"\",\"final_state\":\"\",\"key_moments\":[\"\"]},\"image_prompt\":\"\",\"image_prompt_short\":\"\"}],\"props\":[{\"name\":\"\",\"description\":\"\",\"purpose\":\"\",\"physical_appearance\":\"\",\"animation_description\":\"\"}],\"story_beats\":[{\"name\":null,\"description\":null,\"scene\":\"\"}],\"subplots\":[{\"title\":null,\"description\":\"\",\"related_characters\":[]}],\"emotional_arc\":[{\"stage\":null,\"description\":\"\"}],\"acts\":[{\"act_id\":\"\",\"title\":\"\",\"description\":\"\",\"scenes\":[{\"scene_id\":\"\",\"title\":\"\",\"description\":\"\",\"characters_involved\":[\"\"],\"setting\":\"\",\"time_of_day\":\"\",\"location\":\"\",\"lighting\":\"\",\"mood\":\"\",\"props\":[\"\"],\"key_actions\":[\"\"],\"dialogue\":[],\"background_image_prompt\":\"\",\"background_animation\":\"\",\"scene_image_prompt\":\"\",\"scene_image_prompt_short\":\"\"}],\"props\":[\"\"]}]}'}\n",
      "Failed to parse Story JSON. Trying to repair json. Attempt 2\n",
      "Failed to parse Story JSON. Attempt 2\n",
      "1 validation error for Story\n",
      "acts.0.scenes.0.dialogue.0.character_nickname\n",
      "  Field required [type=missing, input_value={'character': 'Lyra', 'li...n these ancient words?'}, input_type=dict]\n",
      "    For further information visit https://errors.pydantic.dev/2.9/v/missing\n",
      "!!!!!!!!!! call_llm !!!!!!!!!!!\n",
      "Retry 2\n",
      "config: \n",
      "RailsConfig(models=[Model(type='main', engine='ollama', model='nemotron:70b', parameters={'model': 'nemotron:70b'})], user_messages={}, bot_messages={'inform cannot parse json': ['Unable to parse the Story JSON.'], 'refuse to respond': [\"I'm sorry, I can't respond to that.\"], 'response untrustworthy': ['$bot_message \\\\nCAUTION: THIS ANSWER HAS BEEN FLAGGED AS POTENTIALLY UNTRUSTWORTHY'], 'inform cannot engage in abusive or harmful behavior': ['I will not engage in any abusive or harmful behavior.'], 'inform cannot engage with inappropriate content': ['I will not engage with inappropriate content.'], 'inform cannot engage with sensitive content': ['I will not engage with sensitive content.'], 'inform answer unknown': [\"I don't know the answer to that.\"], 'inform cannot engage in self harm behavior': ['I will not engage in any self harm behavior.'], 'inform answer prone to hallucination': ['The previous answer is prone to hallucination and may not be accurate. Please double check the answer using additional sources.', 'The above response may have been hallucinated, and should be independently verified.']}, flows=[{'id': 'retry json', 'elements': [{'_type': 'meta', 'meta': {'subflow': True}}, {'_type': 'run_action', 'action_name': 'retry_json', 'action_params': {}, 'action_result_key': 'failed_json', '_source_mapping': {'filename': 'main.co', 'line_number': 7, 'line_text': '$failed_json = execute retry_json', 'comment': None}}, {'_type': 'if', 'expression': '$failed_json', '_source_mapping': {'filename': 'main.co', 'line_number': 9, 'line_text': 'if $failed_json', 'comment': None}, '_next_else': 3}, {'_type': 'run_action', 'action_name': 'utter', 'action_params': {'value': 'inform cannot parse json'}, '_source_mapping': {'filename': 'main.co', 'line_number': 10, 'line_text': 'bot inform cannot parse json', 'comment': None}}, {'_type': 'run_action', 'action_name': 'utter', 'action_params': {'value': 'stop'}, '_source_mapping': {'filename': 'main.co', 'line_number': 11, 'line_text': 'stop', 'comment': None}}], 'source_code': '$failed_json = execute retry_json\\nif $failed_json\\n    bot inform cannot parse json\\n    stop', 'is_system_flow': True, 'is_subflow': True}, {'id': 'process user input', 'elements': [{'_type': 'meta', 'meta': {'allow_multiple': True}}, {'_type': 'UtteranceUserActionFinished', 'final_transcript': '...', '_source_mapping': {'filename': 'llm_flows.co', 'line_number': 3, 'line_text': 'event UtteranceUserActionFinished(final_transcript=\"...\")', 'comment': 'Run all the input rails on the user input.'}}, {'_type': 'set', 'key': 'user_message', 'expression': '$event[\"final_transcript\"]', '_source_mapping': {'filename': 'llm_flows.co', 'line_number': 4, 'line_text': '$user_message = $event[\"final_transcript\"]', 'comment': None}}, {'_type': 'if', 'expression': '$config.rails.input.flows', '_source_mapping': {'filename': 'llm_flows.co', 'line_number': 7, 'line_text': 'if $config.rails.input.flows', 'comment': 'If we have input rails, we run them, otherwise we just create the user message event'}, '_next_else': 7}, {'_type': 'if', 'expression': '$generation_options is None or $generation_options.rails.input', '_source_mapping': {'filename': 'llm_flows.co', 'line_number': 9, 'line_text': 'if $generation_options is None or $generation_options.rails.input:', 'comment': 'If we have generation options, we make sure the input rails are enabled.'}, '_next_else': 6}, {'_type': 'run_action', 'action_name': 'create_event', 'action_params': {'event': {'_type': 'StartInputRails'}}, '_source_mapping': {'filename': 'llm_flows.co', 'line_number': 11, 'line_text': 'create event StartInputRails', 'comment': 'Create a marker event.'}}, {'_type': 'StartInputRails', '_source_mapping': {'filename': 'llm_flows.co', 'line_number': 12, 'line_text': 'event StartInputRails', 'comment': None}}, {'_type': 'flow', 'flow_name': 'run input rails', 'flow_parameters': {}, 'return_vars': [], '_source_mapping': {'filename': 'llm_flows.co', 'line_number': 16, 'line_text': 'do run input rails', 'comment': 'Run all the input rails\\nThis can potentially alter the $user_message'}}, {'_type': 'run_action', 'action_name': 'create_event', 'action_params': {'event': {'_type': 'InputRailsFinished'}}, '_source_mapping': {'filename': 'llm_flows.co', 'line_number': 19, 'line_text': 'create event InputRailsFinished', 'comment': 'Create a marker event.'}}, {'_type': 'InputRailsFinished', '_source_mapping': {'filename': 'llm_flows.co', 'line_number': 20, 'line_text': 'event InputRailsFinished', 'comment': None}}, {'_type': 'run_action', 'action_name': 'create_event', 'action_params': {'event': {'_type': 'UserMessage', 'text': '$user_message'}}, '_source_mapping': {'filename': 'llm_flows.co', 'line_number': 22, 'line_text': 'create event UserMessage(text=$user_message)', 'comment': None}}], 'source_code': 'event UtteranceUserActionFinished(final_transcript=\"...\")\\n$user_message = $event[\"final_transcript\"]\\n# If we have input rails, we run them, otherwise we just create the user message event\\nif $config.rails.input.flows\\n  # If we have generation options, we make sure the input rails are enabled.\\n  if $generation_options is None or $generation_options.rails.input:\\n    # Create a marker event.\\n    create event StartInputRails\\n    event StartInputRails\\n    # Run all the input rails\\n    # This can potentially alter the $user_message\\n    do run input rails\\n    # Create a marker event.\\n    create event InputRailsFinished\\n    event InputRailsFinished\\ncreate event UserMessage(text=$user_message)', 'is_system_flow': True, 'allow_multiple': True}, {'id': 'run dialog rails', 'elements': [{'_type': 'UserMessage', 'text': '...', '_source_mapping': {'filename': 'llm_flows.co', 'line_number': 27, 'line_text': 'event UserMessage(text=\"...\")', 'comment': \"Generate the user's intent based on the text.\"}}, {'_type': 'if', 'expression': '$generation_options and $generation_options.rails.dialog == False', '_source_mapping': {'filename': 'llm_flows.co', 'line_number': 30, 'line_text': 'if $generation_options and $generation_options.rails.dialog == False', 'comment': 'If the dialog_rails are disabled'}, '_next_else': 6}, {'_type': 'if', 'expression': '$generation_options.rails.output == False', '_source_mapping': {'filename': 'llm_flows.co', 'line_number': 32, 'line_text': 'if $generation_options.rails.output == False', 'comment': 'If the output rails are also disabled, we just return user message.'}, '_next_else': 3}, {'_type': 'run_action', 'action_name': 'create_event', 'action_params': {'event': {'_type': 'StartUtteranceBotAction', 'script': '$user_message'}}, '_source_mapping': {'filename': 'llm_flows.co', 'line_number': 33, 'line_text': 'create event StartUtteranceBotAction(script=$user_message)', 'comment': None}}, {'_type': 'jump', '_next': 2}, {'_type': 'run_action', 'action_name': 'create_event', 'action_params': {'event': {'_type': 'BotMessage', 'text': '$bot_message'}}, '_source_mapping': {'filename': 'llm_flows.co', 'line_number': 36, 'line_text': 'create event BotMessage(text=$bot_message)', 'comment': 'we take the $bot_message from context.'}}, {'_type': 'jump', '_next': 2}, {'_type': 'flow', 'flow_name': 'generate user intent', 'flow_parameters': {}, 'return_vars': [], '_source_mapping': {'filename': 'llm_flows.co', 'line_number': 39, 'line_text': 'do generate user intent', 'comment': 'If not, we continue the usual process'}}], 'source_code': 'event UserMessage(text=\"...\")\\n# If the dialog_rails are disabled\\nif $generation_options and $generation_options.rails.dialog == False\\n  # If the output rails are also disabled, we just return user message.\\n  if $generation_options.rails.output == False\\n    create event StartUtteranceBotAction(script=$user_message)\\n  else\\n    # we take the $bot_message from context.\\n    create event BotMessage(text=$bot_message)\\nelse\\n  # If not, we continue the usual process\\n  do generate user intent', 'is_system_flow': True}, {'id': 'generate user intent', 'elements': [{'_type': 'meta', 'meta': {'subflow': True}}, {'_type': 'run_action', 'action_name': 'generate_user_intent', 'action_params': {}, 'action_result_key': None, '_source_mapping': {'filename': 'llm_flows.co', 'line_number': 44, 'line_text': 'execute generate_user_intent', 'comment': 'Generates the user intent.'}}], 'source_code': 'execute generate_user_intent', 'is_system_flow': True, 'is_subflow': True}, {'id': 'run input rails', 'elements': [{'_type': 'meta', 'meta': {'subflow': True}}, {'_type': 'set', 'key': 'i', 'expression': '0', '_source_mapping': {'filename': 'llm_flows.co', 'line_number': 49, 'line_text': '$i = 0', 'comment': 'Runs all the input rails in a sequential order. '}}, {'_type': 'set', 'key': 'input_flows', 'expression': '$config.rails.input.flows', '_source_mapping': {'filename': 'llm_flows.co', 'line_number': 50, 'line_text': '$input_flows = $config.rails.input.flows', 'comment': None}}, {'_type': 'while', 'expression': '$i < len($input_flows)', '_source_mapping': {'filename': 'llm_flows.co', 'line_number': 51, 'line_text': 'while $i < len($input_flows)', 'comment': None}, '_next_on_break': 10}, {'_type': 'set', 'key': 'triggered_input_rail', 'expression': '$input_flows[$i]', '_source_mapping': {'filename': 'llm_flows.co', 'line_number': 53, 'line_text': '$triggered_input_rail = $input_flows[$i]', 'comment': 'We set the current rail as being triggered.'}, '_next_on_break': 9, '_next_on_continue': -1}, {'_type': 'run_action', 'action_name': 'create_event', 'action_params': {'event': {'_type': 'StartInputRail', 'flow_id': '$triggered_input_rail'}}, '_source_mapping': {'filename': 'llm_flows.co', 'line_number': 55, 'line_text': 'create event StartInputRail(flow_id=$triggered_input_rail)', 'comment': None}, '_next_on_break': 8, '_next_on_continue': -2}, {'_type': 'StartInputRail', '_source_mapping': {'filename': 'llm_flows.co', 'line_number': 56, 'line_text': 'event StartInputRail', 'comment': None}, '_next_on_break': 7, '_next_on_continue': -3}, {'_type': 'flow', 'flow_name': '$input_flows[$i]', 'flow_parameters': {}, 'return_vars': [], '_source_mapping': {'filename': 'llm_flows.co', 'line_number': 58, 'line_text': 'do $input_flows[$i]', 'comment': None}, '_next_on_break': 6, '_next_on_continue': -4}, {'_type': 'set', 'key': 'i', 'expression': '$i + 1', '_source_mapping': {'filename': 'llm_flows.co', 'line_number': 59, 'line_text': '$i = $i + 1', 'comment': None}, '_next_on_break': 5, '_next_on_continue': -5}, {'_type': 'run_action', 'action_name': 'create_event', 'action_params': {'event': {'_type': 'InputRailFinished', 'flow_id': '$triggered_input_rail'}}, '_source_mapping': {'filename': 'llm_flows.co', 'line_number': 61, 'line_text': 'create event InputRailFinished(flow_id=$triggered_input_rail)', 'comment': None}, '_next_on_break': 4, '_next_on_continue': -6}, {'_type': 'InputRailFinished', '_source_mapping': {'filename': 'llm_flows.co', 'line_number': 62, 'line_text': 'event InputRailFinished', 'comment': None}, '_next_on_break': 3, '_next_on_continue': -7}, {'_type': 'set', 'key': 'triggered_input_rail', 'expression': 'None', '_source_mapping': {'filename': 'llm_flows.co', 'line_number': 65, 'line_text': '$triggered_input_rail = None', 'comment': 'If all went smooth, we remove it.'}, '_next_on_break': 2, '_next_on_continue': -8}, {'_type': 'jump', '_next': -9}], 'source_code': '$i = 0\\n$input_flows = $config.rails.input.flows\\nwhile $i < len($input_flows)\\n  # We set the current rail as being triggered.\\n  $triggered_input_rail = $input_flows[$i]\\n  create event StartInputRail(flow_id=$triggered_input_rail)\\n  event StartInputRail\\n  do $input_flows[$i]\\n  $i = $i + 1\\n  create event InputRailFinished(flow_id=$triggered_input_rail)\\n  event InputRailFinished\\n  # If all went smooth, we remove it.\\n  $triggered_input_rail = None', 'is_system_flow': True, 'is_subflow': True}, {'id': 'generate next step', 'elements': [{'_type': 'meta', 'meta': {'priority': 0.9}}, {'_type': 'UserIntent', 'intent_name': '...', 'intent_params': {}, '_source_mapping': {'filename': 'llm_flows.co', 'line_number': 77, 'line_text': 'user ...', 'comment': None}}, {'_type': 'run_action', 'action_name': 'generate_next_step', 'action_params': {}, 'action_result_key': None, '_source_mapping': {'filename': 'llm_flows.co', 'line_number': 78, 'line_text': 'execute generate_next_step', 'comment': None}}], 'source_code': 'user ...\\nexecute generate_next_step', 'is_system_flow': True, 'priority': 0.9}, {'id': 'generate bot message', 'elements': [{'_type': 'meta', 'meta': {'is_extension': True, 'allow_multiple': True, 'priority': 100}}, {'_type': 'run_action', 'action_name': 'utter', 'action_params': {'value': '...'}, '_source_mapping': {'filename': 'llm_flows.co', 'line_number': 88, 'line_text': 'bot ...', 'comment': None}}, {'_type': 'run_action', 'action_name': 'retrieve_relevant_chunks', 'action_params': {}, 'action_result_key': None, '_source_mapping': {'filename': 'llm_flows.co', 'line_number': 89, 'line_text': 'execute retrieve_relevant_chunks', 'comment': None}}, {'_type': 'if', 'expression': '$config.rails.retrieval.flows', '_source_mapping': {'filename': 'llm_flows.co', 'line_number': 92, 'line_text': 'if $config.rails.retrieval.flows', 'comment': 'If we have any retrieval rails, we run them.'}, '_next_else': 3}, {'_type': 'if', 'expression': '$generation_options is None or $generation_options.rails.retrieval', '_source_mapping': {'filename': 'llm_flows.co', 'line_number': 94, 'line_text': 'if $generation_options is None or $generation_options.rails.retrieval:', 'comment': 'If we have generation options, we make sure the retrieval rails are enabled.'}, '_next_else': 2}, {'_type': 'flow', 'flow_name': 'run retrieval rails', 'flow_parameters': {}, 'return_vars': [], '_source_mapping': {'filename': 'llm_flows.co', 'line_number': 95, 'line_text': 'do run retrieval rails', 'comment': None}}, {'_type': 'run_action', 'action_name': 'generate_bot_message', 'action_params': {}, 'action_result_key': None, '_source_mapping': {'filename': 'llm_flows.co', 'line_number': 98, 'line_text': 'execute generate_bot_message', 'comment': '$output_rails_enabled = True'}}], 'source_code': 'bot ...\\nexecute retrieve_relevant_chunks\\n# If we have any retrieval rails, we run them.\\nif $config.rails.retrieval.flows\\n  # If we have generation options, we make sure the retrieval rails are enabled.\\n  if $generation_options is None or $generation_options.rails.retrieval:\\n    do run retrieval rails\\n# $output_rails_enabled = True\\nexecute generate_bot_message', 'is_system_flow': True, 'priority': 100, 'is_extension': True, 'allow_multiple': True}, {'id': 'process bot message', 'elements': [{'_type': 'meta', 'meta': {'is_extension': True, 'allow_multiple': True, 'priority': 100}}, {'_type': 'BotMessage', '_source_mapping': {'filename': 'llm_flows.co', 'line_number': 105, 'line_text': 'event BotMessage', 'comment': None}}, {'_type': 'set', 'key': 'bot_message', 'expression': '$event.text', '_source_mapping': {'filename': 'llm_flows.co', 'line_number': 107, 'line_text': '$bot_message = $event.text', 'comment': None}}, {'_type': 'if', 'expression': '$skip_output_rails', '_source_mapping': {'filename': 'llm_flows.co', 'line_number': 109, 'line_text': 'if $skip_output_rails', 'comment': None}, '_next_else': 3}, {'_type': 'set', 'key': 'skip_output_rails', 'expression': 'False', '_source_mapping': {'filename': 'llm_flows.co', 'line_number': 110, 'line_text': '$skip_output_rails = False', 'comment': None}}, {'_type': 'jump', '_next': 8}, {'_type': 'if', 'expression': '$config.rails.output.flows', '_source_mapping': {'filename': 'llm_flows.co', 'line_number': 113, 'line_text': 'if $config.rails.output.flows', 'comment': 'If we have any output flows, we run them.'}, '_next_else': 7}, {'_type': 'if', 'expression': '$generation_options is None or $generation_options.rails.output', '_source_mapping': {'filename': 'llm_flows.co', 'line_number': 115, 'line_text': 'if $generation_options is None or $generation_options.rails.output:', 'comment': 'If we have generation options, we make sure the output rails are enabled.'}, '_next_else': 6}, {'_type': 'run_action', 'action_name': 'create_event', 'action_params': {'event': {'_type': 'StartOutputRails'}}, '_source_mapping': {'filename': 'llm_flows.co', 'line_number': 117, 'line_text': 'create event StartOutputRails', 'comment': 'Create a marker event.'}}, {'_type': 'StartOutputRails', '_source_mapping': {'filename': 'llm_flows.co', 'line_number': 118, 'line_text': 'event StartOutputRails', 'comment': None}}, {'_type': 'flow', 'flow_name': 'run output rails', 'flow_parameters': {}, 'return_vars': [], '_source_mapping': {'filename': 'llm_flows.co', 'line_number': 122, 'line_text': 'do run output rails', 'comment': 'Run all the output rails\\nThis can potentially alter the $user_message'}}, {'_type': 'run_action', 'action_name': 'create_event', 'action_params': {'event': {'_type': 'OutputRailsFinished'}}, '_source_mapping': {'filename': 'llm_flows.co', 'line_number': 125, 'line_text': 'create event OutputRailsFinished', 'comment': 'Create a marker event.'}}, {'_type': 'OutputRailsFinished', '_source_mapping': {'filename': 'llm_flows.co', 'line_number': 126, 'line_text': 'event OutputRailsFinished', 'comment': None}}, {'_type': 'run_action', 'action_name': 'create_event', 'action_params': {'event': {'_type': 'StartUtteranceBotAction', 'script': '$bot_message'}}, '_source_mapping': {'filename': 'llm_flows.co', 'line_number': 128, 'line_text': 'create event StartUtteranceBotAction(script=$bot_message)', 'comment': None}}], 'source_code': 'event BotMessage\\n$bot_message = $event.text\\nif $skip_output_rails\\n  $skip_output_rails = False\\nelse\\n  # If we have any output flows, we run them.\\n  if $config.rails.output.flows\\n    # If we have generation options, we make sure the output rails are enabled.\\n    if $generation_options is None or $generation_options.rails.output:\\n      # Create a marker event.\\n      create event StartOutputRails\\n      event StartOutputRails\\n      # Run all the output rails\\n      # This can potentially alter the $user_message\\n      do run output rails\\n      # Create a marker event.\\n      create event OutputRailsFinished\\n      event OutputRailsFinished\\ncreate event StartUtteranceBotAction(script=$bot_message)', 'is_system_flow': True, 'priority': 100, 'is_extension': True, 'allow_multiple': True}, {'id': 'run output rails', 'elements': [{'_type': 'meta', 'meta': {'subflow': True}}, {'_type': 'set', 'key': 'i', 'expression': '0', '_source_mapping': {'filename': 'llm_flows.co', 'line_number': 133, 'line_text': '$i = 0', 'comment': 'Runs all the output rails in a sequential order. '}}, {'_type': 'set', 'key': 'output_flows', 'expression': '$config.rails.output.flows', '_source_mapping': {'filename': 'llm_flows.co', 'line_number': 134, 'line_text': '$output_flows = $config.rails.output.flows', 'comment': None}}, {'_type': 'while', 'expression': '$i < len($output_flows)', '_source_mapping': {'filename': 'llm_flows.co', 'line_number': 135, 'line_text': 'while $i < len($output_flows)', 'comment': None}, '_next_on_break': 10}, {'_type': 'set', 'key': 'triggered_output_rail', 'expression': '$output_flows[$i]', '_source_mapping': {'filename': 'llm_flows.co', 'line_number': 137, 'line_text': '$triggered_output_rail = $output_flows[$i]', 'comment': 'We set the current rail as being triggered.'}, '_next_on_break': 9, '_next_on_continue': -1}, {'_type': 'run_action', 'action_name': 'create_event', 'action_params': {'event': {'_type': 'StartOutputRail', 'flow_id': '$triggered_output_rail'}}, '_source_mapping': {'filename': 'llm_flows.co', 'line_number': 139, 'line_text': 'create event StartOutputRail(flow_id=$triggered_output_rail)', 'comment': None}, '_next_on_break': 8, '_next_on_continue': -2}, {'_type': 'StartOutputRail', '_source_mapping': {'filename': 'llm_flows.co', 'line_number': 140, 'line_text': 'event StartOutputRail', 'comment': None}, '_next_on_break': 7, '_next_on_continue': -3}, {'_type': 'flow', 'flow_name': '$output_flows[$i]', 'flow_parameters': {}, 'return_vars': [], '_source_mapping': {'filename': 'llm_flows.co', 'line_number': 142, 'line_text': 'do $output_flows[$i]', 'comment': None}, '_next_on_break': 6, '_next_on_continue': -4}, {'_type': 'set', 'key': 'i', 'expression': '$i + 1', '_source_mapping': {'filename': 'llm_flows.co', 'line_number': 143, 'line_text': '$i = $i + 1', 'comment': None}, '_next_on_break': 5, '_next_on_continue': -5}, {'_type': 'run_action', 'action_name': 'create_event', 'action_params': {'event': {'_type': 'OutputRailFinished', 'flow_id': '$triggered_output_rail'}}, '_source_mapping': {'filename': 'llm_flows.co', 'line_number': 145, 'line_text': 'create event OutputRailFinished(flow_id=$triggered_output_rail)', 'comment': None}, '_next_on_break': 4, '_next_on_continue': -6}, {'_type': 'OutputRailFinished', '_source_mapping': {'filename': 'llm_flows.co', 'line_number': 146, 'line_text': 'event OutputRailFinished', 'comment': None}, '_next_on_break': 3, '_next_on_continue': -7}, {'_type': 'set', 'key': 'triggered_output_rail', 'expression': 'None', '_source_mapping': {'filename': 'llm_flows.co', 'line_number': 149, 'line_text': '$triggered_output_rail = None', 'comment': 'If all went smooth, we remove it.'}, '_next_on_break': 2, '_next_on_continue': -8}, {'_type': 'jump', '_next': -9}], 'source_code': '$i = 0\\n$output_flows = $config.rails.output.flows\\nwhile $i < len($output_flows)\\n  # We set the current rail as being triggered.\\n  $triggered_output_rail = $output_flows[$i]\\n  create event StartOutputRail(flow_id=$triggered_output_rail)\\n  event StartOutputRail\\n  do $output_flows[$i]\\n  $i = $i + 1\\n  create event OutputRailFinished(flow_id=$triggered_output_rail)\\n  event OutputRailFinished\\n  # If all went smooth, we remove it.\\n  $triggered_output_rail = None', 'is_system_flow': True, 'is_subflow': True}, {'id': 'run retrieval rails', 'elements': [{'_type': 'meta', 'meta': {'subflow': True}}, {'_type': 'set', 'key': 'i', 'expression': '0', '_source_mapping': {'filename': 'llm_flows.co', 'line_number': 154, 'line_text': '$i = 0', 'comment': 'Runs all the retrieval rails in a sequential order. '}}, {'_type': 'set', 'key': 'retrieval_flows', 'expression': '$config.rails.retrieval.flows', '_source_mapping': {'filename': 'llm_flows.co', 'line_number': 155, 'line_text': '$retrieval_flows = $config.rails.retrieval.flows', 'comment': None}}, {'_type': 'while', 'expression': '$i < len($retrieval_flows)', '_source_mapping': {'filename': 'llm_flows.co', 'line_number': 156, 'line_text': 'while $i < len($retrieval_flows)', 'comment': None}, '_next_on_break': 4}, {'_type': 'flow', 'flow_name': '$retrieval_flows[$i]', 'flow_parameters': {}, 'return_vars': [], '_source_mapping': {'filename': 'llm_flows.co', 'line_number': 157, 'line_text': 'do $retrieval_flows[$i]', 'comment': None}, '_next_on_break': 3, '_next_on_continue': -1}, {'_type': 'set', 'key': 'i', 'expression': '$i + 1', '_source_mapping': {'filename': 'llm_flows.co', 'line_number': 158, 'line_text': '$i = $i + 1', 'comment': None}, '_next_on_break': 2, '_next_on_continue': -2}, {'_type': 'jump', '_next': -3}], 'source_code': '$i = 0\\n$retrieval_flows = $config.rails.retrieval.flows\\nwhile $i < len($retrieval_flows)\\n  do $retrieval_flows[$i]\\n  $i = $i + 1', 'is_system_flow': True, 'is_subflow': True}, {'id': 'llama guard check input', 'elements': [{'_type': 'run_action', 'action_name': 'llama_guard_check_input', 'action_params': {}, 'action_result_key': 'llama_guard_response', '_source_mapping': {'filename': 'flows.v1.co', 'line_number': 5, 'line_text': '$llama_guard_response = execute llama_guard_check_input', 'comment': None}}, {'_type': 'set', 'key': 'allowed', 'expression': '$llama_guard_response[\"allowed\"]', '_source_mapping': {'filename': 'flows.v1.co', 'line_number': 6, 'line_text': '$allowed = $llama_guard_response[\"allowed\"]', 'comment': None}}, {'_type': 'set', 'key': 'llama_guard_policy_violations', 'expression': '$llama_guard_response[\"policy_violations\"]', '_source_mapping': {'filename': 'flows.v1.co', 'line_number': 8, 'line_text': '$llama_guard_policy_violations = $llama_guard_response[\"policy_violations\"]', 'comment': 'Policy violations are currently unused, but can be used to better phrase the bot output'}}, {'_type': 'if', 'expression': 'not $allowed', '_source_mapping': {'filename': 'flows.v1.co', 'line_number': 10, 'line_text': 'if not $allowed', 'comment': None}, '_next_else': 6}, {'_type': 'if', 'expression': '$config.enable_rails_exceptions', '_source_mapping': {'filename': 'flows.v1.co', 'line_number': 11, 'line_text': 'if $config.enable_rails_exceptions', 'comment': None}, '_next_else': 3}, {'_type': 'run_action', 'action_name': 'create_event', 'action_params': {'event': {'_type': 'LlamaGuardInputRailException', 'message': \"Input not allowed. The input was blocked by the 'llama guard check input' flow. Please ensure your input meets the required criteria.\"}}, '_source_mapping': {'filename': 'flows.v1.co', 'line_number': 12, 'line_text': 'create event LlamaGuardInputRailException(message=\"Input not allowed. The input was blocked by the \\'llama guard check input\\' flow. Please ensure your input meets the required criteria.\")', 'comment': None}}, {'_type': 'jump', '_next': 2}, {'_type': 'run_action', 'action_name': 'utter', 'action_params': {'value': 'refuse to respond'}, '_source_mapping': {'filename': 'flows.v1.co', 'line_number': 14, 'line_text': 'bot refuse to respond', 'comment': None}}, {'_type': 'run_action', 'action_name': 'utter', 'action_params': {'value': 'stop'}, '_source_mapping': {'filename': 'flows.v1.co', 'line_number': 15, 'line_text': 'stop', 'comment': None}}], 'source_code': '$llama_guard_response = execute llama_guard_check_input\\n$allowed = $llama_guard_response[\"allowed\"]\\n# Policy violations are currently unused, but can be used to better phrase the bot output\\n$llama_guard_policy_violations = $llama_guard_response[\"policy_violations\"]\\nif not $allowed\\n  if $config.enable_rails_exceptions\\n    create event LlamaGuardInputRailException(message=\"Input not allowed. The input was blocked by the \\'llama guard check input\\' flow. Please ensure your input meets the required criteria.\")\\n  else\\n    bot refuse to respond\\n  stop', 'is_system_flow': True}, {'id': 'llama guard check output', 'elements': [{'_type': 'run_action', 'action_name': 'llama_guard_check_output', 'action_params': {}, 'action_result_key': 'llama_guard_response', '_source_mapping': {'filename': 'flows.v1.co', 'line_number': 18, 'line_text': '$llama_guard_response = execute llama_guard_check_output', 'comment': None}}, {'_type': 'set', 'key': 'allowed', 'expression': '$llama_guard_response[\"allowed\"]', '_source_mapping': {'filename': 'flows.v1.co', 'line_number': 19, 'line_text': '$allowed = $llama_guard_response[\"allowed\"]', 'comment': None}}, {'_type': 'set', 'key': 'llama_guard_policy_violations', 'expression': '$llama_guard_response[\"policy_violations\"]', '_source_mapping': {'filename': 'flows.v1.co', 'line_number': 20, 'line_text': '$llama_guard_policy_violations = $llama_guard_response[\"policy_violations\"]', 'comment': None}}, {'_type': 'if', 'expression': 'not $allowed', '_source_mapping': {'filename': 'flows.v1.co', 'line_number': 22, 'line_text': 'if not $allowed', 'comment': None}, '_next_else': 6}, {'_type': 'if', 'expression': '$config.enable_rails_exceptions', '_source_mapping': {'filename': 'flows.v1.co', 'line_number': 23, 'line_text': 'if $config.enable_rails_exceptions', 'comment': None}, '_next_else': 3}, {'_type': 'run_action', 'action_name': 'create_event', 'action_params': {'event': {'_type': 'LlamaGuardOutputRailException', 'message': \"Output not allowed. The output was blocked by the 'llama guard check output' flow. Please ensure your output meets the required criteria.\"}}, '_source_mapping': {'filename': 'flows.v1.co', 'line_number': 24, 'line_text': 'create event LlamaGuardOutputRailException(message=\"Output not allowed. The output was blocked by the \\'llama guard check output\\' flow. Please ensure your output meets the required criteria.\")', 'comment': None}}, {'_type': 'jump', '_next': 2}, {'_type': 'run_action', 'action_name': 'utter', 'action_params': {'value': 'refuse to respond'}, '_source_mapping': {'filename': 'flows.v1.co', 'line_number': 26, 'line_text': 'bot refuse to respond', 'comment': None}}, {'_type': 'run_action', 'action_name': 'utter', 'action_params': {'value': 'stop'}, '_source_mapping': {'filename': 'flows.v1.co', 'line_number': 27, 'line_text': 'stop', 'comment': None}}], 'source_code': '$llama_guard_response = execute llama_guard_check_output\\n$allowed = $llama_guard_response[\"allowed\"]\\n$llama_guard_policy_violations = $llama_guard_response[\"policy_violations\"]\\nif not $allowed\\n  if $config.enable_rails_exceptions\\n    create event LlamaGuardOutputRailException(message=\"Output not allowed. The output was blocked by the \\'llama guard check output\\' flow. Please ensure your output meets the required criteria.\")\\n  else\\n    bot refuse to respond\\n  stop', 'is_system_flow': True}, {'id': 'alignscore check facts', 'elements': [{'_type': 'meta', 'meta': {'subflow': True}}, {'_type': 'if', 'expression': '$check_facts == True', '_source_mapping': {'filename': 'flows.v1.co', 'line_number': 7, 'line_text': 'if $check_facts == True', 'comment': 'Check if the previous answer is accurate w.r.t. the relevant chunks.\\nThis output rail must be enabled explicitly per output message by setting\\nthe $check_facts context variable to True.\\n'}, '_next_else': 9}, {'_type': 'set', 'key': 'check_facts', 'expression': 'False', '_source_mapping': {'filename': 'flows.v1.co', 'line_number': 8, 'line_text': '$check_facts = False', 'comment': None}}, {'_type': 'run_action', 'action_name': 'alignscore_check_facts', 'action_params': {}, 'action_result_key': 'accuracy', '_source_mapping': {'filename': 'flows.v1.co', 'line_number': 10, 'line_text': '$accuracy = execute alignscore_check_facts', 'comment': None}}, {'_type': 'if', 'expression': '$accuracy < 0.5', '_source_mapping': {'filename': 'flows.v1.co', 'line_number': 11, 'line_text': 'if $accuracy < 0.5', 'comment': None}, '_next_else': 6}, {'_type': 'if', 'expression': '$config.enable_rails_exceptions', '_source_mapping': {'filename': 'flows.v1.co', 'line_number': 12, 'line_text': 'if $config.enable_rails_exceptions', 'comment': None}, '_next_else': 3}, {'_type': 'run_action', 'action_name': 'create_event', 'action_params': {'event': {'_type': 'AlignScoreCheckFactRailException', 'message': 'Fact check failed. The accuracy of the previous answer was below the required threshold.'}}, '_source_mapping': {'filename': 'flows.v1.co', 'line_number': 13, 'line_text': 'create event AlignScoreCheckFactRailException(message=\"Fact check failed. The accuracy of the previous answer was below the required threshold.\")', 'comment': None}}, {'_type': 'jump', '_next': 2}, {'_type': 'run_action', 'action_name': 'utter', 'action_params': {'value': 'inform answer unknown'}, '_source_mapping': {'filename': 'flows.v1.co', 'line_number': 15, 'line_text': 'bot inform answer unknown', 'comment': None}}, {'_type': 'run_action', 'action_name': 'utter', 'action_params': {'value': 'stop'}, '_source_mapping': {'filename': 'flows.v1.co', 'line_number': 16, 'line_text': 'stop', 'comment': None}}], 'source_code': 'if $check_facts == True\\n  $check_facts = False\\n  $accuracy = execute alignscore_check_facts\\n  if $accuracy < 0.5\\n    if $config.enable_rails_exceptions\\n      create event AlignScoreCheckFactRailException(message=\"Fact check failed. The accuracy of the previous answer was below the required threshold.\")\\n    else\\n      bot inform answer unknown\\n    stop', 'is_system_flow': True, 'is_subflow': True}, {'id': 'autoalign check input', 'elements': [{'_type': 'meta', 'meta': {'subflow': True}}, {'_type': 'run_action', 'action_name': 'autoalign_input_api', 'action_params': {'show_autoalign_message': True}, 'action_result_key': 'input_result', '_source_mapping': {'filename': 'flows.v1.co', 'line_number': 2, 'line_text': '$input_result = execute autoalign_input_api(show_autoalign_message=True)', 'comment': None}}, {'_type': 'if', 'expression': '$input_result[\"guardrails_triggered\"]', '_source_mapping': {'filename': 'flows.v1.co', 'line_number': 3, 'line_text': 'if $input_result[\"guardrails_triggered\"]', 'comment': None}, '_next_else': 8}, {'_type': 'set', 'key': 'autoalign_input_response', 'expression': \"$input_result['combined_response']\", '_source_mapping': {'filename': 'flows.v1.co', 'line_number': 4, 'line_text': \"$autoalign_input_response = $input_result['combined_response']\", 'comment': None}}, {'_type': 'if', 'expression': '$config.enable_rails_exceptions', '_source_mapping': {'filename': 'flows.v1.co', 'line_number': 5, 'line_text': 'if $config.enable_rails_exceptions', 'comment': None}, '_next_else': 3}, {'_type': 'run_action', 'action_name': 'create_event', 'action_params': {'event': {'_type': 'AutoAlignInputRailException', 'message': 'AutoAlign input guardrail triggered'}}, '_source_mapping': {'filename': 'flows.v1.co', 'line_number': 6, 'line_text': 'create event AutoAlignInputRailException(message=\"AutoAlign input guardrail triggered\")', 'comment': None}}, {'_type': 'jump', '_next': 2}, {'_type': 'run_action', 'action_name': 'utter', 'action_params': {'value': 'refuse to respond'}, '_source_mapping': {'filename': 'flows.v1.co', 'line_number': 8, 'line_text': 'bot refuse to respond', 'comment': None}}, {'_type': 'run_action', 'action_name': 'utter', 'action_params': {'value': 'stop'}, '_source_mapping': {'filename': 'flows.v1.co', 'line_number': 9, 'line_text': 'stop', 'comment': None}}, {'_type': 'jump', '_next': 3}, {'_type': 'if', 'expression': '$input_result[\"pii_fast\"] and $input_result[\"pii_fast\"][\"guarded\"]', '_source_mapping': {'filename': 'flows.v1.co', 'line_number': 10, 'line_text': 'else if $input_result[\"pii_fast\"] and $input_result[\"pii_fast\"][\"guarded\"]:', 'comment': None}, '_next_else': 2}, {'_type': 'set', 'key': 'user_message', 'expression': '$input_result[\"pii_fast\"][\"response\"]', '_source_mapping': {'filename': 'flows.v1.co', 'line_number': 11, 'line_text': '$user_message = $input_result[\"pii_fast\"][\"response\"]', 'comment': None}}], 'source_code': '$input_result = execute autoalign_input_api(show_autoalign_message=True)\\nif $input_result[\"guardrails_triggered\"]\\n  $autoalign_input_response = $input_result[\\'combined_response\\']\\n  if $config.enable_rails_exceptions\\n    create event AutoAlignInputRailException(message=\"AutoAlign input guardrail triggered\")\\n  else\\n    bot refuse to respond\\n  stop\\nelse if $input_result[\"pii_fast\"] and $input_result[\"pii_fast\"][\"guarded\"]:\\n  $user_message = $input_result[\"pii_fast\"][\"response\"]', 'is_system_flow': True, 'is_subflow': True}, {'id': 'autoalign check output', 'elements': [{'_type': 'meta', 'meta': {'subflow': True}}, {'_type': 'run_action', 'action_name': 'autoalign_output_api', 'action_params': {'show_autoalign_message': True}, 'action_result_key': 'output_result', '_source_mapping': {'filename': 'flows.v1.co', 'line_number': 14, 'line_text': '$output_result = execute autoalign_output_api(show_autoalign_message=True)', 'comment': None}}, {'_type': 'if', 'expression': '$output_result[\"guardrails_triggered\"]', '_source_mapping': {'filename': 'flows.v1.co', 'line_number': 15, 'line_text': 'if $output_result[\"guardrails_triggered\"]', 'comment': None}, '_next_else': 7}, {'_type': 'if', 'expression': '$config.enable_rails_exceptions', '_source_mapping': {'filename': 'flows.v1.co', 'line_number': 16, 'line_text': 'if $config.enable_rails_exceptions', 'comment': None}, '_next_else': 3}, {'_type': 'run_action', 'action_name': 'create_event', 'action_params': {'event': {'_type': 'AutoAlignOutputRailException', 'message': 'AutoAlign guardrail triggered'}}, '_source_mapping': {'filename': 'flows.v1.co', 'line_number': 17, 'line_text': 'create event AutoAlignOutputRailException(message=\"AutoAlign guardrail triggered\")', 'comment': None}}, {'_type': 'jump', '_next': 2}, {'_type': 'run_action', 'action_name': 'utter', 'action_params': {'value': 'refuse to respond'}, '_source_mapping': {'filename': 'flows.v1.co', 'line_number': 19, 'line_text': 'bot refuse to respond', 'comment': None}}, {'_type': 'run_action', 'action_name': 'utter', 'action_params': {'value': 'stop'}, '_source_mapping': {'filename': 'flows.v1.co', 'line_number': 20, 'line_text': 'stop', 'comment': None}}, {'_type': 'jump', '_next': 4}, {'_type': 'set', 'key': 'pii_message_output', 'expression': '$output_result[\"pii_fast\"][\"response\"]', '_source_mapping': {'filename': 'flows.v1.co', 'line_number': 22, 'line_text': '$pii_message_output = $output_result[\"pii_fast\"][\"response\"]', 'comment': None}}, {'_type': 'if', 'expression': '$output_result[\"pii_fast\"][\"guarded\"]', '_source_mapping': {'filename': 'flows.v1.co', 'line_number': 23, 'line_text': 'if $output_result[\"pii_fast\"][\"guarded\"]', 'comment': None}, '_next_else': 2}, {'_type': 'set', 'key': 'bot_message', 'expression': '$pii_message_output', '_source_mapping': {'filename': 'flows.v1.co', 'line_number': 24, 'line_text': '$bot_message = $pii_message_output', 'comment': None}}], 'source_code': '$output_result = execute autoalign_output_api(show_autoalign_message=True)\\nif $output_result[\"guardrails_triggered\"]\\n  if $config.enable_rails_exceptions\\n    create event AutoAlignOutputRailException(message=\"AutoAlign guardrail triggered\")\\n  else\\n    bot refuse to respond\\n  stop\\nelse\\n  $pii_message_output = $output_result[\"pii_fast\"][\"response\"]\\n  if $output_result[\"pii_fast\"][\"guarded\"]\\n    $bot_message = $pii_message_output', 'is_system_flow': True, 'is_subflow': True}, {'id': 'autoalign factcheck output', 'elements': [{'_type': 'meta', 'meta': {'subflow': True}}, {'_type': 'if', 'expression': '$check_facts == True', '_source_mapping': {'filename': 'flows.v1.co', 'line_number': 27, 'line_text': 'if $check_facts == True', 'comment': None}, '_next_else': 5}, {'_type': 'set', 'key': 'check_facts', 'expression': 'False', '_source_mapping': {'filename': 'flows.v1.co', 'line_number': 28, 'line_text': '$check_facts = False', 'comment': None}}, {'_type': 'set', 'key': 'threshold', 'expression': '0.5', '_source_mapping': {'filename': 'flows.v1.co', 'line_number': 29, 'line_text': '$threshold = 0.5', 'comment': None}}, {'_type': 'run_action', 'action_name': 'autoalign_factcheck_output_api', 'action_params': {'factcheck_threshold': '$threshold', 'show_autoalign_message': True}, 'action_result_key': 'output_result', '_source_mapping': {'filename': 'flows.v1.co', 'line_number': 30, 'line_text': '$output_result = execute autoalign_factcheck_output_api(factcheck_threshold=$threshold, show_autoalign_message=True)', 'comment': None}}, {'_type': 'run_action', 'action_name': 'utter', 'action_params': {'value': 'provide response'}, '_source_mapping': {'filename': 'flows.v1.co', 'line_number': 31, 'line_text': 'bot provide response', 'comment': None}}], 'source_code': 'if $check_facts == True\\n  $check_facts = False\\n  $threshold = 0.5\\n  $output_result = execute autoalign_factcheck_output_api(factcheck_threshold=$threshold, show_autoalign_message=True)\\n  bot provide response', 'is_system_flow': True, 'is_subflow': True}, {'id': 'cleanlab trustworthiness', 'elements': [{'_type': 'meta', 'meta': {'subflow': True}}, {'_type': 'run_action', 'action_name': 'call cleanlab api', 'action_params': {}, 'action_result_key': 'result', '_source_mapping': {'filename': 'flows.v1.co', 'line_number': 10, 'line_text': '$result = execute call cleanlab api', 'comment': 'Guardrail based on the trustworthiness score.'}}, {'_type': 'if', 'expression': '$result.trustworthiness_score < 0.6', '_source_mapping': {'filename': 'flows.v1.co', 'line_number': 12, 'line_text': 'if $result.trustworthiness_score < 0.6', 'comment': None}, '_next_else': 6}, {'_type': 'if', 'expression': '$config.enable_rails_exceptions', '_source_mapping': {'filename': 'flows.v1.co', 'line_number': 13, 'line_text': 'if $config.enable_rails_exceptions', 'comment': None}, '_next_else': 3}, {'_type': 'run_action', 'action_name': 'create_event', 'action_params': {'event': {'_type': 'CleanlabTrustworthinessRailException', 'message': 'Trustworthiness score is below threshold'}}, '_source_mapping': {'filename': 'flows.v1.co', 'line_number': 14, 'line_text': 'create event CleanlabTrustworthinessRailException(message=\"Trustworthiness score is below threshold\")', 'comment': None}}, {'_type': 'jump', '_next': 2}, {'_type': 'run_action', 'action_name': 'utter', 'action_params': {'value': 'response untrustworthy'}, '_source_mapping': {'filename': 'flows.v1.co', 'line_number': 16, 'line_text': 'bot response untrustworthy', 'comment': None}}, {'_type': 'run_action', 'action_name': 'utter', 'action_params': {'value': 'stop'}, '_source_mapping': {'filename': 'flows.v1.co', 'line_number': 17, 'line_text': 'stop', 'comment': None}}], 'source_code': '$result = execute call cleanlab api\\nif $result.trustworthiness_score < 0.6\\n  if $config.enable_rails_exceptions\\n    create event CleanlabTrustworthinessRailException(message=\"Trustworthiness score is below threshold\")\\n  else\\n    bot response untrustworthy\\n  stop', 'is_system_flow': True, 'is_subflow': True}, {'id': 'jailbreak detection heuristics', 'elements': [{'_type': 'meta', 'meta': {'subflow': True}}, {'_type': 'run_action', 'action_name': 'jailbreak_detection_heuristics', 'action_params': {}, 'action_result_key': 'is_jailbreak', '_source_mapping': {'filename': 'flows.v1.co', 'line_number': 8, 'line_text': '$is_jailbreak = execute jailbreak_detection_heuristics', 'comment': \"\\nHeuristic checks to assess whether the user's prompt is an attempted jailbreak.\\n\"}}, {'_type': 'if', 'expression': '$is_jailbreak', '_source_mapping': {'filename': 'flows.v1.co', 'line_number': 10, 'line_text': 'if $is_jailbreak', 'comment': None}, '_next_else': 6}, {'_type': 'if', 'expression': '$config.enable_rails_exceptions', '_source_mapping': {'filename': 'flows.v1.co', 'line_number': 11, 'line_text': 'if $config.enable_rails_exceptions', 'comment': None}, '_next_else': 3}, {'_type': 'run_action', 'action_name': 'create_event', 'action_params': {'event': {'_type': 'JailbreakDetectionRailException', 'message': \"Jailbreak attempt detected. The user's prompt was identified as an attempted jailbreak. Please ensure your prompt adheres to the guidelines.\"}}, '_source_mapping': {'filename': 'flows.v1.co', 'line_number': 12, 'line_text': 'create event JailbreakDetectionRailException(message=\"Jailbreak attempt detected. The user\\'s prompt was identified as an attempted jailbreak. Please ensure your prompt adheres to the guidelines.\")', 'comment': None}}, {'_type': 'jump', '_next': 2}, {'_type': 'run_action', 'action_name': 'utter', 'action_params': {'value': 'refuse to respond'}, '_source_mapping': {'filename': 'flows.v1.co', 'line_number': 14, 'line_text': 'bot refuse to respond', 'comment': None}}, {'_type': 'run_action', 'action_name': 'utter', 'action_params': {'value': 'stop'}, '_source_mapping': {'filename': 'flows.v1.co', 'line_number': 15, 'line_text': 'stop', 'comment': None}}], 'source_code': '$is_jailbreak = execute jailbreak_detection_heuristics\\nif $is_jailbreak\\n  if $config.enable_rails_exceptions\\n    create event JailbreakDetectionRailException(message=\"Jailbreak attempt detected. The user\\'s prompt was identified as an attempted jailbreak. Please ensure your prompt adheres to the guidelines.\")\\n  else\\n    bot refuse to respond\\n  stop', 'is_system_flow': True, 'is_subflow': True}, {'id': 'gotitai rag truthcheck', 'elements': [{'_type': 'meta', 'meta': {'subflow': True}}, {'_type': 'if', 'expression': '$check_facts == True', '_source_mapping': {'filename': 'flows.v1.co', 'line_number': 3, 'line_text': 'if $check_facts == True', 'comment': 'Guardrail based on the maximum risk score.'}, '_next_else': 9}, {'_type': 'set', 'key': 'check_facts', 'expression': 'False', '_source_mapping': {'filename': 'flows.v1.co', 'line_number': 4, 'line_text': '$check_facts = False', 'comment': None}}, {'_type': 'run_action', 'action_name': 'call gotitai truthchecker api', 'action_params': {}, 'action_result_key': 'result', '_source_mapping': {'filename': 'flows.v1.co', 'line_number': 6, 'line_text': '$result = execute call gotitai truthchecker api', 'comment': None}}, {'_type': 'if', 'expression': '$result.hallucination == \"yes\"', '_source_mapping': {'filename': 'flows.v1.co', 'line_number': 8, 'line_text': 'if $result.hallucination == \"yes\"', 'comment': None}, '_next_else': 6}, {'_type': 'if', 'expression': '$config.enable_rails_exceptions', '_source_mapping': {'filename': 'flows.v1.co', 'line_number': 9, 'line_text': 'if $config.enable_rails_exceptions', 'comment': None}, '_next_else': 3}, {'_type': 'run_action', 'action_name': 'create_event', 'action_params': {'event': {'_type': 'GotitaiHallucinationRailException', 'message': 'Hallucination detected. The previous answer may not be accurate'}}, '_source_mapping': {'filename': 'flows.v1.co', 'line_number': 10, 'line_text': 'create event GotitaiHallucinationRailException(message=\"Hallucination detected. The previous answer may not be accurate\")', 'comment': None}}, {'_type': 'jump', '_next': 2}, {'_type': 'run_action', 'action_name': 'utter', 'action_params': {'value': 'inform answer unknown'}, '_source_mapping': {'filename': 'flows.v1.co', 'line_number': 12, 'line_text': 'bot inform answer unknown', 'comment': None}}, {'_type': 'run_action', 'action_name': 'utter', 'action_params': {'value': 'stop'}, '_source_mapping': {'filename': 'flows.v1.co', 'line_number': 13, 'line_text': 'stop', 'comment': None}}], 'source_code': 'if $check_facts == True\\n  $check_facts = False\\n  $result = execute call gotitai truthchecker api\\n  if $result.hallucination == \"yes\"\\n    if $config.enable_rails_exceptions\\n      create event GotitaiHallucinationRailException(message=\"Hallucination detected. The previous answer may not be accurate\")\\n    else\\n      bot inform answer unknown\\n    stop', 'is_system_flow': True, 'is_subflow': True}, {'id': 'gcpnlp moderation', 'elements': [{'_type': 'meta', 'meta': {'subflow': True}}, {'_type': 'run_action', 'action_name': 'call gcpnlp api', 'action_params': {}, 'action_result_key': 'result', '_source_mapping': {'filename': 'flows.co', 'line_number': 30, 'line_text': '$result = execute call gcpnlp api', 'comment': 'Guardrail based on the maximum risk score.'}}, {'_type': 'if', 'expression': '$result.max_risk_score > 0.8', '_source_mapping': {'filename': 'flows.co', 'line_number': 32, 'line_text': 'if $result.max_risk_score > 0.8', 'comment': None}, '_next_else': 3}, {'_type': 'run_action', 'action_name': 'utter', 'action_params': {'value': 'refuse to respond'}, '_source_mapping': {'filename': 'flows.co', 'line_number': 33, 'line_text': 'bot refuse to respond', 'comment': None}}, {'_type': 'run_action', 'action_name': 'utter', 'action_params': {'value': 'stop'}, '_source_mapping': {'filename': 'flows.co', 'line_number': 34, 'line_text': 'stop', 'comment': None}}], 'source_code': '$result = execute call gcpnlp api\\nif $result.max_risk_score > 0.8\\n  bot refuse to respond\\n  stop', 'is_system_flow': True, 'is_subflow': True}, {'id': 'gcpnlp moderation detailed', 'elements': [{'_type': 'meta', 'meta': {'subflow': True}}, {'_type': 'run_action', 'action_name': 'call gcpnlp api', 'action_params': {}, 'action_result_key': 'result', '_source_mapping': {'filename': 'flows.co', 'line_number': 38, 'line_text': '$result = execute call gcpnlp api', 'comment': 'Guardrail based on individual risk scores.'}}, {'_type': 'if', 'expression': '$result.violations.get(\"Toxic\", 0) > 0.8', '_source_mapping': {'filename': 'flows.co', 'line_number': 40, 'line_text': 'if $result.violations.get(\"Toxic\", 0) > 0.8', 'comment': None}, '_next_else': 3}, {'_type': 'run_action', 'action_name': 'utter', 'action_params': {'value': 'inform cannot engage in abusive or harmful behavior'}, '_source_mapping': {'filename': 'flows.co', 'line_number': 41, 'line_text': 'bot inform cannot engage in abusive or harmful behavior', 'comment': None}}, {'_type': 'run_action', 'action_name': 'utter', 'action_params': {'value': 'stop'}, '_source_mapping': {'filename': 'flows.co', 'line_number': 42, 'line_text': 'stop', 'comment': None}}, {'_type': 'if', 'expression': '$result.violations.get(\"Insult\", 0) > 0.7', '_source_mapping': {'filename': 'flows.co', 'line_number': 44, 'line_text': 'if $result.violations.get(\"Insult\", 0) > 0.7', 'comment': None}, '_next_else': 3}, {'_type': 'run_action', 'action_name': 'utter', 'action_params': {'value': 'inform cannot engage in abusive or harmful behavior'}, '_source_mapping': {'filename': 'flows.co', 'line_number': 45, 'line_text': 'bot inform cannot engage in abusive or harmful behavior', 'comment': None}}, {'_type': 'run_action', 'action_name': 'utter', 'action_params': {'value': 'stop'}, '_source_mapping': {'filename': 'flows.co', 'line_number': 46, 'line_text': 'stop', 'comment': None}}, {'_type': 'if', 'expression': '$result.violations.get(\"Profanity\", 0) > 0.6', '_source_mapping': {'filename': 'flows.co', 'line_number': 48, 'line_text': 'if $result.violations.get(\"Profanity\", 0) > 0.6', 'comment': None}, '_next_else': 3}, {'_type': 'run_action', 'action_name': 'utter', 'action_params': {'value': 'inform cannot engage in abusive or harmful behavior'}, '_source_mapping': {'filename': 'flows.co', 'line_number': 49, 'line_text': 'bot inform cannot engage in abusive or harmful behavior', 'comment': None}}, {'_type': 'run_action', 'action_name': 'utter', 'action_params': {'value': 'stop'}, '_source_mapping': {'filename': 'flows.co', 'line_number': 50, 'line_text': 'stop', 'comment': None}}, {'_type': 'if', 'expression': '$result.violations.get(\"Derogatory\", 0) > 0.4', '_source_mapping': {'filename': 'flows.co', 'line_number': 52, 'line_text': 'if $result.violations.get(\"Derogatory\", 0) > 0.4', 'comment': None}, '_next_else': 3}, {'_type': 'run_action', 'action_name': 'utter', 'action_params': {'value': 'inform cannot engage in abusive or harmful behavior'}, '_source_mapping': {'filename': 'flows.co', 'line_number': 53, 'line_text': 'bot inform cannot engage in abusive or harmful behavior', 'comment': None}}, {'_type': 'run_action', 'action_name': 'utter', 'action_params': {'value': 'stop'}, '_source_mapping': {'filename': 'flows.co', 'line_number': 54, 'line_text': 'stop', 'comment': None}}, {'_type': 'if', 'expression': '$result.violations.get(\"Violent\", 0) > 0.8', '_source_mapping': {'filename': 'flows.co', 'line_number': 56, 'line_text': 'if $result.violations.get(\"Violent\", 0) > 0.8', 'comment': None}, '_next_else': 3}, {'_type': 'run_action', 'action_name': 'utter', 'action_params': {'value': 'inform cannot engage in abusive or harmful behavior'}, '_source_mapping': {'filename': 'flows.co', 'line_number': 57, 'line_text': 'bot inform cannot engage in abusive or harmful behavior', 'comment': None}}, {'_type': 'run_action', 'action_name': 'utter', 'action_params': {'value': 'stop'}, '_source_mapping': {'filename': 'flows.co', 'line_number': 58, 'line_text': 'stop', 'comment': None}}, {'_type': 'if', 'expression': '$result.violations.get(\"Sexual\", 0) > 0.7', '_source_mapping': {'filename': 'flows.co', 'line_number': 60, 'line_text': 'if $result.violations.get(\"Sexual\", 0) > 0.7', 'comment': None}, '_next_else': 3}, {'_type': 'run_action', 'action_name': 'utter', 'action_params': {'value': 'inform cannot engage in inappropriate content'}, '_source_mapping': {'filename': 'flows.co', 'line_number': 61, 'line_text': 'bot inform cannot engage in inappropriate content', 'comment': None}}, {'_type': 'run_action', 'action_name': 'utter', 'action_params': {'value': 'stop'}, '_source_mapping': {'filename': 'flows.co', 'line_number': 62, 'line_text': 'stop', 'comment': None}}, {'_type': 'if', 'expression': '$result.violations.get(\"Death, Harm & Tragedy\", 0) > 0.8', '_source_mapping': {'filename': 'flows.co', 'line_number': 64, 'line_text': 'if $result.violations.get(\"Death, Harm & Tragedy\", 0) > 0.8', 'comment': None}, '_next_else': 3}, {'_type': 'run_action', 'action_name': 'utter', 'action_params': {'value': 'inform cannot engage in inappropriate content'}, '_source_mapping': {'filename': 'flows.co', 'line_number': 65, 'line_text': 'bot inform cannot engage in inappropriate content', 'comment': None}}, {'_type': 'run_action', 'action_name': 'utter', 'action_params': {'value': 'stop'}, '_source_mapping': {'filename': 'flows.co', 'line_number': 66, 'line_text': 'stop', 'comment': None}}, {'_type': 'if', 'expression': '$result.violations.get(\"Firearms & Weapons\", 0) > 0.8', '_source_mapping': {'filename': 'flows.co', 'line_number': 68, 'line_text': 'if $result.violations.get(\"Firearms & Weapons\", 0) > 0.8', 'comment': None}, '_next_else': 3}, {'_type': 'run_action', 'action_name': 'utter', 'action_params': {'value': 'inform cannot engage in inappropriate content'}, '_source_mapping': {'filename': 'flows.co', 'line_number': 69, 'line_text': 'bot inform cannot engage in inappropriate content', 'comment': None}}, {'_type': 'run_action', 'action_name': 'utter', 'action_params': {'value': 'stop'}, '_source_mapping': {'filename': 'flows.co', 'line_number': 70, 'line_text': 'stop', 'comment': None}}, {'_type': 'if', 'expression': '$result.violations.get(\"Illicit Drugs\", 0) > 0.8', '_source_mapping': {'filename': 'flows.co', 'line_number': 72, 'line_text': 'if $result.violations.get(\"Illicit Drugs\", 0) > 0.8', 'comment': None}, '_next_else': 3}, {'_type': 'run_action', 'action_name': 'utter', 'action_params': {'value': 'inform cannot engage with sensitive content'}, '_source_mapping': {'filename': 'flows.co', 'line_number': 73, 'line_text': 'bot inform cannot engage with sensitive content', 'comment': None}}, {'_type': 'run_action', 'action_name': 'utter', 'action_params': {'value': 'stop'}, '_source_mapping': {'filename': 'flows.co', 'line_number': 74, 'line_text': 'stop', 'comment': None}}, {'_type': 'if', 'expression': '$result.violations.get(\"Public Safety\", 0) > 0.8', '_source_mapping': {'filename': 'flows.co', 'line_number': 76, 'line_text': 'if $result.violations.get(\"Public Safety\", 0) > 0.8', 'comment': None}, '_next_else': 3}, {'_type': 'run_action', 'action_name': 'utter', 'action_params': {'value': 'inform cannot engage with sensitive content'}, '_source_mapping': {'filename': 'flows.co', 'line_number': 77, 'line_text': 'bot inform cannot engage with sensitive content', 'comment': None}}, {'_type': 'run_action', 'action_name': 'utter', 'action_params': {'value': 'stop'}, '_source_mapping': {'filename': 'flows.co', 'line_number': 78, 'line_text': 'stop', 'comment': None}}, {'_type': 'if', 'expression': '$result.violations.get(\"Health\", 0) > 0.8', '_source_mapping': {'filename': 'flows.co', 'line_number': 80, 'line_text': 'if $result.violations.get(\"Health\", 0) > 0.8', 'comment': None}, '_next_else': 3}, {'_type': 'run_action', 'action_name': 'utter', 'action_params': {'value': 'inform cannot engage with sensitive content'}, '_source_mapping': {'filename': 'flows.co', 'line_number': 81, 'line_text': 'bot inform cannot engage with sensitive content', 'comment': None}}, {'_type': 'run_action', 'action_name': 'utter', 'action_params': {'value': 'stop'}, '_source_mapping': {'filename': 'flows.co', 'line_number': 82, 'line_text': 'stop', 'comment': None}}, {'_type': 'if', 'expression': '$result.violations.get(\"Religion & Belief\", 0) > 0.8', '_source_mapping': {'filename': 'flows.co', 'line_number': 84, 'line_text': 'if $result.violations.get(\"Religion & Belief\", 0) > 0.8', 'comment': None}, '_next_else': 3}, {'_type': 'run_action', 'action_name': 'utter', 'action_params': {'value': 'inform cannot engage with sensitive content'}, '_source_mapping': {'filename': 'flows.co', 'line_number': 85, 'line_text': 'bot inform cannot engage with sensitive content', 'comment': None}}, {'_type': 'run_action', 'action_name': 'utter', 'action_params': {'value': 'stop'}, '_source_mapping': {'filename': 'flows.co', 'line_number': 86, 'line_text': 'stop', 'comment': None}}, {'_type': 'if', 'expression': '$result.violations.get(\"War & Conflict\", 0) > 0.8', '_source_mapping': {'filename': 'flows.co', 'line_number': 88, 'line_text': 'if $result.violations.get(\"War & Conflict\", 0) > 0.8', 'comment': None}, '_next_else': 3}, {'_type': 'run_action', 'action_name': 'utter', 'action_params': {'value': 'inform cannot engage with sensitive content'}, '_source_mapping': {'filename': 'flows.co', 'line_number': 89, 'line_text': 'bot inform cannot engage with sensitive content', 'comment': None}}, {'_type': 'run_action', 'action_name': 'utter', 'action_params': {'value': 'stop'}, '_source_mapping': {'filename': 'flows.co', 'line_number': 90, 'line_text': 'stop', 'comment': None}}, {'_type': 'if', 'expression': '$result.violations.get(\"Politics\", 0) > 0.8', '_source_mapping': {'filename': 'flows.co', 'line_number': 92, 'line_text': 'if $result.violations.get(\"Politics\", 0) > 0.8', 'comment': None}, '_next_else': 3}, {'_type': 'run_action', 'action_name': 'utter', 'action_params': {'value': 'inform cannot engage with sensitive content'}, '_source_mapping': {'filename': 'flows.co', 'line_number': 93, 'line_text': 'bot inform cannot engage with sensitive content', 'comment': None}}, {'_type': 'run_action', 'action_name': 'utter', 'action_params': {'value': 'stop'}, '_source_mapping': {'filename': 'flows.co', 'line_number': 94, 'line_text': 'stop', 'comment': None}}, {'_type': 'if', 'expression': '$result.violations.get(\"Finance\", 0) > 0.8', '_source_mapping': {'filename': 'flows.co', 'line_number': 96, 'line_text': 'if $result.violations.get(\"Finance\", 0) > 0.8', 'comment': None}, '_next_else': 3}, {'_type': 'run_action', 'action_name': 'utter', 'action_params': {'value': 'inform cannot engage with sensitive content'}, '_source_mapping': {'filename': 'flows.co', 'line_number': 97, 'line_text': 'bot inform cannot engage with sensitive content', 'comment': None}}, {'_type': 'run_action', 'action_name': 'utter', 'action_params': {'value': 'stop'}, '_source_mapping': {'filename': 'flows.co', 'line_number': 98, 'line_text': 'stop', 'comment': None}}, {'_type': 'if', 'expression': '$result.violations.get(\"Legal\", 0) > 0.8', '_source_mapping': {'filename': 'flows.co', 'line_number': 100, 'line_text': 'if $result.violations.get(\"Legal\", 0) > 0.8', 'comment': None}, '_next_else': 3}, {'_type': 'run_action', 'action_name': 'utter', 'action_params': {'value': 'inform cannot engage with sensitive content'}, '_source_mapping': {'filename': 'flows.co', 'line_number': 101, 'line_text': 'bot inform cannot engage with sensitive content', 'comment': None}}, {'_type': 'run_action', 'action_name': 'utter', 'action_params': {'value': 'stop'}, '_source_mapping': {'filename': 'flows.co', 'line_number': 102, 'line_text': 'stop', 'comment': None}}], 'source_code': '$result = execute call gcpnlp api\\nif $result.violations.get(\"Toxic\", 0) > 0.8\\n  bot inform cannot engage in abusive or harmful behavior\\n  stop\\nif $result.violations.get(\"Insult\", 0) > 0.7\\n  bot inform cannot engage in abusive or harmful behavior\\n  stop\\nif $result.violations.get(\"Profanity\", 0) > 0.6\\n  bot inform cannot engage in abusive or harmful behavior\\n  stop\\nif $result.violations.get(\"Derogatory\", 0) > 0.4\\n  bot inform cannot engage in abusive or harmful behavior\\n  stop\\nif $result.violations.get(\"Violent\", 0) > 0.8\\n  bot inform cannot engage in abusive or harmful behavior\\n  stop\\nif $result.violations.get(\"Sexual\", 0) > 0.7\\n  bot inform cannot engage in inappropriate content\\n  stop\\nif $result.violations.get(\"Death, Harm & Tragedy\", 0) > 0.8\\n  bot inform cannot engage in inappropriate content\\n  stop\\nif $result.violations.get(\"Firearms & Weapons\", 0) > 0.8\\n  bot inform cannot engage in inappropriate content\\n  stop\\nif $result.violations.get(\"Illicit Drugs\", 0) > 0.8\\n  bot inform cannot engage with sensitive content\\n  stop\\nif $result.violations.get(\"Public Safety\", 0) > 0.8\\n  bot inform cannot engage with sensitive content\\n  stop\\nif $result.violations.get(\"Health\", 0) > 0.8\\n  bot inform cannot engage with sensitive content\\n  stop\\nif $result.violations.get(\"Religion & Belief\", 0) > 0.8\\n  bot inform cannot engage with sensitive content\\n  stop\\nif $result.violations.get(\"War & Conflict\", 0) > 0.8\\n  bot inform cannot engage with sensitive content\\n  stop\\nif $result.violations.get(\"Politics\", 0) > 0.8\\n  bot inform cannot engage with sensitive content\\n  stop\\nif $result.violations.get(\"Finance\", 0) > 0.8\\n  bot inform cannot engage with sensitive content\\n  stop\\nif $result.violations.get(\"Legal\", 0) > 0.8\\n  bot inform cannot engage with sensitive content\\n  stop', 'is_system_flow': True, 'is_subflow': True}, {'id': 'self check input', 'elements': [{'_type': 'run_action', 'action_name': 'self_check_input', 'action_params': {}, 'action_result_key': 'allowed', '_source_mapping': {'filename': 'flows.v1.co', 'line_number': 5, 'line_text': '$allowed = execute self_check_input', 'comment': None}}, {'_type': 'if', 'expression': 'not $allowed', '_source_mapping': {'filename': 'flows.v1.co', 'line_number': 7, 'line_text': 'if not $allowed', 'comment': None}, '_next_else': 6}, {'_type': 'if', 'expression': '$config.enable_rails_exceptions', '_source_mapping': {'filename': 'flows.v1.co', 'line_number': 8, 'line_text': 'if $config.enable_rails_exceptions', 'comment': None}, '_next_else': 3}, {'_type': 'run_action', 'action_name': 'create_event', 'action_params': {'event': {'_type': 'InputRailException', 'message': \"Input not allowed. The input was blocked by the 'self check input' flow.\"}}, '_source_mapping': {'filename': 'flows.v1.co', 'line_number': 9, 'line_text': 'create event InputRailException(message=\"Input not allowed. The input was blocked by the \\'self check input\\' flow.\")', 'comment': None}}, {'_type': 'jump', '_next': 2}, {'_type': 'run_action', 'action_name': 'utter', 'action_params': {'value': 'refuse to respond'}, '_source_mapping': {'filename': 'flows.v1.co', 'line_number': 11, 'line_text': 'bot refuse to respond', 'comment': None}}, {'_type': 'run_action', 'action_name': 'utter', 'action_params': {'value': 'stop'}, '_source_mapping': {'filename': 'flows.v1.co', 'line_number': 12, 'line_text': 'stop', 'comment': None}}], 'source_code': '$allowed = execute self_check_input\\nif not $allowed\\n  if $config.enable_rails_exceptions\\n    create event InputRailException(message=\"Input not allowed. The input was blocked by the \\'self check input\\' flow.\")\\n  else\\n    bot refuse to respond\\n  stop', 'is_system_flow': True}, {'id': 'self check facts', 'elements': [{'_type': 'meta', 'meta': {'subflow': True}}, {'_type': 'if', 'expression': '$check_facts == True', '_source_mapping': {'filename': 'flows.v1.co', 'line_number': 10, 'line_text': 'if $check_facts == True', 'comment': 'Check if the previous answer is accurate w.r.t. the relevant chunks.\\nThis output rail must be enabled explicitly per output message by setting\\nthe $check_facts context variable to True.\\n'}, '_next_else': 9}, {'_type': 'set', 'key': 'check_facts', 'expression': 'False', '_source_mapping': {'filename': 'flows.v1.co', 'line_number': 11, 'line_text': '$check_facts = False', 'comment': None}}, {'_type': 'run_action', 'action_name': 'self_check_facts', 'action_params': {}, 'action_result_key': 'accuracy', '_source_mapping': {'filename': 'flows.v1.co', 'line_number': 13, 'line_text': '$accuracy = execute self_check_facts', 'comment': None}}, {'_type': 'if', 'expression': '$accuracy < 0.5', '_source_mapping': {'filename': 'flows.v1.co', 'line_number': 14, 'line_text': 'if $accuracy < 0.5', 'comment': None}, '_next_else': 6}, {'_type': 'if', 'expression': '$config.enable_rails_exceptions', '_source_mapping': {'filename': 'flows.v1.co', 'line_number': 15, 'line_text': 'if $config.enable_rails_exceptions', 'comment': None}, '_next_else': 3}, {'_type': 'run_action', 'action_name': 'create_event', 'action_params': {'event': {'_type': 'FactCheckRailException', 'message': 'Fact check failed. The accuracy of the previous answer was below the required threshold.'}}, '_source_mapping': {'filename': 'flows.v1.co', 'line_number': 16, 'line_text': 'create event FactCheckRailException(message=\"Fact check failed. The accuracy of the previous answer was below the required threshold.\")', 'comment': None}}, {'_type': 'jump', '_next': 2}, {'_type': 'run_action', 'action_name': 'utter', 'action_params': {'value': 'refuse to respond'}, '_source_mapping': {'filename': 'flows.v1.co', 'line_number': 18, 'line_text': 'bot refuse to respond', 'comment': None}}, {'_type': 'run_action', 'action_name': 'utter', 'action_params': {'value': 'stop'}, '_source_mapping': {'filename': 'flows.v1.co', 'line_number': 19, 'line_text': 'stop', 'comment': None}}], 'source_code': 'if $check_facts == True\\n  $check_facts = False\\n  $accuracy = execute self_check_facts\\n  if $accuracy < 0.5\\n    if $config.enable_rails_exceptions\\n      create event FactCheckRailException(message=\"Fact check failed. The accuracy of the previous answer was below the required threshold.\")\\n    else\\n      bot refuse to respond\\n    stop', 'is_system_flow': True, 'is_subflow': True}, {'id': 'self check output', 'elements': [{'_type': 'run_action', 'action_name': 'self_check_output', 'action_params': {}, 'action_result_key': 'allowed', '_source_mapping': {'filename': 'flows.v1.co', 'line_number': 5, 'line_text': '$allowed = execute self_check_output', 'comment': None}}, {'_type': 'if', 'expression': 'not $allowed', '_source_mapping': {'filename': 'flows.v1.co', 'line_number': 7, 'line_text': 'if not $allowed', 'comment': None}, '_next_else': 6}, {'_type': 'if', 'expression': '$config.enable_rails_exceptions', '_source_mapping': {'filename': 'flows.v1.co', 'line_number': 8, 'line_text': 'if $config.enable_rails_exceptions', 'comment': None}, '_next_else': 3}, {'_type': 'run_action', 'action_name': 'create_event', 'action_params': {'event': {'_type': 'OutputRailException', 'message': \"Output not allowed. The output was blocked by the 'self check output' flow.\"}}, '_source_mapping': {'filename': 'flows.v1.co', 'line_number': 9, 'line_text': 'create event OutputRailException(message=\"Output not allowed. The output was blocked by the \\'self check output\\' flow.\")', 'comment': None}}, {'_type': 'jump', '_next': 3}, {'_type': 'run_action', 'action_name': 'utter', 'action_params': {'value': 'refuse to respond'}, '_source_mapping': {'filename': 'flows.v1.co', 'line_number': 11, 'line_text': 'bot refuse to respond', 'comment': None}}, {'_type': 'run_action', 'action_name': 'utter', 'action_params': {'value': 'stop'}, '_source_mapping': {'filename': 'flows.v1.co', 'line_number': 12, 'line_text': 'stop', 'comment': None}}], 'source_code': '$allowed = execute self_check_output\\nif not $allowed\\n  if $config.enable_rails_exceptions\\n    create event OutputRailException(message=\"Output not allowed. The output was blocked by the \\'self check output\\' flow.\")\\n  else\\n    bot refuse to respond\\n    stop', 'is_system_flow': True}, {'id': 'patronus lynx check output hallucination', 'elements': [{'_type': 'run_action', 'action_name': 'patronus_lynx_check_output_hallucination', 'action_params': {}, 'action_result_key': 'patronus_lynx_response', '_source_mapping': {'filename': 'flows.v1.co', 'line_number': 5, 'line_text': '$patronus_lynx_response = execute patronus_lynx_check_output_hallucination', 'comment': None}}, {'_type': 'set', 'key': 'hallucination', 'expression': '$patronus_lynx_response[\"hallucination\"]', '_source_mapping': {'filename': 'flows.v1.co', 'line_number': 6, 'line_text': '$hallucination = $patronus_lynx_response[\"hallucination\"]', 'comment': None}}, {'_type': 'set', 'key': 'reasoning', 'expression': '$patronus_lynx_response[\"reasoning\"]', '_source_mapping': {'filename': 'flows.v1.co', 'line_number': 8, 'line_text': '$reasoning = $patronus_lynx_response[\"reasoning\"]', 'comment': 'The Reasoning trace is currently unused, but can be used to modify the bot output'}}, {'_type': 'if', 'expression': '$hallucination', '_source_mapping': {'filename': 'flows.v1.co', 'line_number': 10, 'line_text': 'if $hallucination', 'comment': None}, '_next_else': 6}, {'_type': 'if', 'expression': '$config.enable_rails_exceptions', '_source_mapping': {'filename': 'flows.v1.co', 'line_number': 11, 'line_text': 'if $config.enable_rails_exceptions', 'comment': None}, '_next_else': 3}, {'_type': 'run_action', 'action_name': 'create_event', 'action_params': {'event': {'_type': 'PatronusAIHallucinationException', 'message': 'Hallucination detected. The previous answer may not be accurate'}}, '_source_mapping': {'filename': 'flows.v1.co', 'line_number': 12, 'line_text': 'create event PatronusAIHallucinationException(message=\"Hallucination detected. The previous answer may not be accurate\")', 'comment': None}}, {'_type': 'jump', '_next': 2}, {'_type': 'run_action', 'action_name': 'utter', 'action_params': {'value': 'inform answer unknown'}, '_source_mapping': {'filename': 'flows.v1.co', 'line_number': 14, 'line_text': 'bot inform answer unknown', 'comment': None}}, {'_type': 'run_action', 'action_name': 'utter', 'action_params': {'value': 'stop'}, '_source_mapping': {'filename': 'flows.v1.co', 'line_number': 15, 'line_text': 'stop', 'comment': None}}], 'source_code': '$patronus_lynx_response = execute patronus_lynx_check_output_hallucination\\n$hallucination = $patronus_lynx_response[\"hallucination\"]\\n# The Reasoning trace is currently unused, but can be used to modify the bot output\\n$reasoning = $patronus_lynx_response[\"reasoning\"]\\nif $hallucination\\n  if $config.enable_rails_exceptions\\n    create event PatronusAIHallucinationException(message=\"Hallucination detected. The previous answer may not be accurate\")\\n  else\\n    bot inform answer unknown\\n  stop', 'is_system_flow': True}, {'id': 'detect sensitive data on input', 'elements': [{'_type': 'meta', 'meta': {'subflow': True}}, {'_type': 'run_action', 'action_name': 'detect_sensitive_data', 'action_params': {'source': 'input', 'text': '$user_message'}, 'action_result_key': 'has_sensitive_data', '_source_mapping': {'filename': 'flows.v1.co', 'line_number': 5, 'line_text': '$has_sensitive_data = execute detect_sensitive_data(source=\"input\", text=$user_message)', 'comment': 'Check if the user input has any sensitive data.'}}, {'_type': 'if', 'expression': '$has_sensitive_data', '_source_mapping': {'filename': 'flows.v1.co', 'line_number': 7, 'line_text': 'if $has_sensitive_data', 'comment': None}, '_next_else': 3}, {'_type': 'run_action', 'action_name': 'utter', 'action_params': {'value': 'inform answer unknown'}, '_source_mapping': {'filename': 'flows.v1.co', 'line_number': 8, 'line_text': 'bot inform answer unknown', 'comment': None}}, {'_type': 'run_action', 'action_name': 'utter', 'action_params': {'value': 'stop'}, '_source_mapping': {'filename': 'flows.v1.co', 'line_number': 9, 'line_text': 'stop', 'comment': None}}], 'source_code': '$has_sensitive_data = execute detect_sensitive_data(source=\"input\", text=$user_message)\\nif $has_sensitive_data\\n  bot inform answer unknown\\n  stop', 'is_system_flow': True, 'is_subflow': True}, {'id': 'mask sensitive data on input', 'elements': [{'_type': 'meta', 'meta': {'subflow': True}}, {'_type': 'run_action', 'action_name': 'mask_sensitive_data', 'action_params': {'source': 'input', 'text': '$user_message'}, 'action_result_key': 'user_message', '_source_mapping': {'filename': 'flows.v1.co', 'line_number': 14, 'line_text': '$user_message = execute mask_sensitive_data(source=\"input\", text=$user_message)', 'comment': 'Mask any sensitive data found in the user input.'}}], 'source_code': '$user_message = execute mask_sensitive_data(source=\"input\", text=$user_message)', 'is_system_flow': True, 'is_subflow': True}, {'id': 'detect sensitive data on output', 'elements': [{'_type': 'meta', 'meta': {'subflow': True}}, {'_type': 'run_action', 'action_name': 'detect_sensitive_data', 'action_params': {'source': 'output', 'text': '$bot_message'}, 'action_result_key': 'has_sensitive_data', '_source_mapping': {'filename': 'flows.v1.co', 'line_number': 22, 'line_text': '$has_sensitive_data = execute detect_sensitive_data(source=\"output\", text=$bot_message)', 'comment': 'Check if the bot output has any sensitive data.'}}, {'_type': 'if', 'expression': '$has_sensitive_data', '_source_mapping': {'filename': 'flows.v1.co', 'line_number': 24, 'line_text': 'if $has_sensitive_data', 'comment': None}, '_next_else': 3}, {'_type': 'run_action', 'action_name': 'utter', 'action_params': {'value': 'inform answer unknown'}, '_source_mapping': {'filename': 'flows.v1.co', 'line_number': 25, 'line_text': 'bot inform answer unknown', 'comment': None}}, {'_type': 'run_action', 'action_name': 'utter', 'action_params': {'value': 'stop'}, '_source_mapping': {'filename': 'flows.v1.co', 'line_number': 26, 'line_text': 'stop', 'comment': None}}], 'source_code': '$has_sensitive_data = execute detect_sensitive_data(source=\"output\", text=$bot_message)\\nif $has_sensitive_data\\n  bot inform answer unknown\\n  stop', 'is_system_flow': True, 'is_subflow': True}, {'id': 'mask sensitive data on output', 'elements': [{'_type': 'meta', 'meta': {'subflow': True}}, {'_type': 'run_action', 'action_name': 'mask_sensitive_data', 'action_params': {'source': 'output', 'text': '$bot_message'}, 'action_result_key': 'bot_message', '_source_mapping': {'filename': 'flows.v1.co', 'line_number': 31, 'line_text': '$bot_message = execute mask_sensitive_data(source=\"output\", text=$bot_message)', 'comment': 'Mask any sensitive data found in the bot output.'}}], 'source_code': '$bot_message = execute mask_sensitive_data(source=\"output\", text=$bot_message)', 'is_system_flow': True, 'is_subflow': True}, {'id': 'detect sensitive data on retrieval', 'elements': [{'_type': 'meta', 'meta': {'subflow': True}}, {'_type': 'run_action', 'action_name': 'detect_sensitive_data', 'action_params': {'source': 'retrieval', 'text': '$relevant_chunks'}, 'action_result_key': 'has_sensitive_data', '_source_mapping': {'filename': 'flows.v1.co', 'line_number': 39, 'line_text': '$has_sensitive_data = execute detect_sensitive_data(source=\"retrieval\", text=$relevant_chunks)', 'comment': 'Check if the relevant chunks from the knowledge base have any sensitive data.'}}, {'_type': 'if', 'expression': '$has_sensitive_data', '_source_mapping': {'filename': 'flows.v1.co', 'line_number': 41, 'line_text': 'if $has_sensitive_data', 'comment': None}, '_next_else': 3}, {'_type': 'run_action', 'action_name': 'utter', 'action_params': {'value': 'inform answer unknown'}, '_source_mapping': {'filename': 'flows.v1.co', 'line_number': 42, 'line_text': 'bot inform answer unknown', 'comment': None}}, {'_type': 'run_action', 'action_name': 'utter', 'action_params': {'value': 'stop'}, '_source_mapping': {'filename': 'flows.v1.co', 'line_number': 43, 'line_text': 'stop', 'comment': None}}], 'source_code': '$has_sensitive_data = execute detect_sensitive_data(source=\"retrieval\", text=$relevant_chunks)\\nif $has_sensitive_data\\n  bot inform answer unknown\\n  stop', 'is_system_flow': True, 'is_subflow': True}, {'id': 'mask sensitive data on retrieval', 'elements': [{'_type': 'meta', 'meta': {'subflow': True}}, {'_type': 'run_action', 'action_name': 'mask_sensitive_data', 'action_params': {'source': 'retrieval', 'text': '$relevant_chunks'}, 'action_result_key': 'relevant_chunks', '_source_mapping': {'filename': 'flows.v1.co', 'line_number': 48, 'line_text': '$relevant_chunks = execute mask_sensitive_data(source=\"retrieval\", text=$relevant_chunks)', 'comment': 'Mask any sensitive data found in the relevant chunks from the knowledge base.'}}], 'source_code': '$relevant_chunks = execute mask_sensitive_data(source=\"retrieval\", text=$relevant_chunks)', 'is_system_flow': True, 'is_subflow': True}, {'id': 'content safety check input', 'elements': [{'_type': 'run_action', 'action_name': 'content_safety_check_input', 'action_params': {}, 'action_result_key': 'response', '_source_mapping': {'filename': 'flows.v1.co', 'line_number': 7, 'line_text': '$response = execute content_safety_check_input', 'comment': None}}, {'_type': 'set', 'key': 'allowed', 'expression': '$response[\"allowed\"]', '_source_mapping': {'filename': 'flows.v1.co', 'line_number': 9, 'line_text': '$allowed = $response[\"allowed\"]', 'comment': None}}, {'_type': 'set', 'key': 'policy_violations', 'expression': '$response[\"policy_violations\"]', '_source_mapping': {'filename': 'flows.v1.co', 'line_number': 11, 'line_text': '$policy_violations = $response[\"policy_violations\"]', 'comment': 'Policy violations are currently unused, but can be used to better phrase the bot output'}}, {'_type': 'if', 'expression': 'not $allowed', '_source_mapping': {'filename': 'flows.v1.co', 'line_number': 13, 'line_text': 'if not $allowed', 'comment': None}, '_next_else': 6}, {'_type': 'if', 'expression': '$config.enable_rails_exceptions', '_source_mapping': {'filename': 'flows.v1.co', 'line_number': 14, 'line_text': 'if $config.enable_rails_exceptions', 'comment': None}, '_next_else': 3}, {'_type': 'run_action', 'action_name': 'create_event', 'action_params': {'event': {'_type': 'ContentSafetyCheckInputException', 'message': \"Input not allowed. The input was blocked by the 'content safety check input $model='{$model}'' flow.\"}}, '_source_mapping': {'filename': 'flows.v1.co', 'line_number': 15, 'line_text': 'create event ContentSafetyCheckInputException(message=\"Input not allowed. The input was blocked by the \\'content safety check input $model=\\'{$model}\\'\\' flow.\")', 'comment': None}}, {'_type': 'jump', '_next': 2}, {'_type': 'run_action', 'action_name': 'utter', 'action_params': {'value': 'refuse to respond'}, '_source_mapping': {'filename': 'flows.v1.co', 'line_number': 17, 'line_text': 'bot refuse to respond', 'comment': None}}, {'_type': 'run_action', 'action_name': 'utter', 'action_params': {'value': 'stop'}, '_source_mapping': {'filename': 'flows.v1.co', 'line_number': 18, 'line_text': 'stop', 'comment': None}}], 'source_code': '$response = execute content_safety_check_input\\n$allowed = $response[\"allowed\"]\\n# Policy violations are currently unused, but can be used to better phrase the bot output\\n$policy_violations = $response[\"policy_violations\"]\\nif not $allowed\\n  if $config.enable_rails_exceptions\\n    create event ContentSafetyCheckInputException(message=\"Input not allowed. The input was blocked by the \\'content safety check input $model=\\'{$model}\\'\\' flow.\")\\n  else\\n    bot refuse to respond\\n  stop', 'is_system_flow': True}, {'id': 'content safety check output', 'elements': [{'_type': 'run_action', 'action_name': 'content_safety_check_output', 'action_params': {}, 'action_result_key': 'response', '_source_mapping': {'filename': 'flows.v1.co', 'line_number': 21, 'line_text': '$response = execute content_safety_check_output', 'comment': None}}, {'_type': 'set', 'key': 'allowed', 'expression': '$response[\"allowed\"]', '_source_mapping': {'filename': 'flows.v1.co', 'line_number': 22, 'line_text': '$allowed = $response[\"allowed\"]', 'comment': None}}, {'_type': 'set', 'key': 'policy_violations', 'expression': '$response[\"policy_violations\"]', '_source_mapping': {'filename': 'flows.v1.co', 'line_number': 23, 'line_text': '$policy_violations = $response[\"policy_violations\"]', 'comment': None}}, {'_type': 'if', 'expression': 'not $allowed', '_source_mapping': {'filename': 'flows.v1.co', 'line_number': 25, 'line_text': 'if not $allowed', 'comment': None}, '_next_else': 6}, {'_type': 'if', 'expression': '$config.enable_rails_exceptions', '_source_mapping': {'filename': 'flows.v1.co', 'line_number': 26, 'line_text': 'if $config.enable_rails_exceptions', 'comment': None}, '_next_else': 3}, {'_type': 'run_action', 'action_name': 'create_event', 'action_params': {'event': {'_type': 'ContentSafetyCheckOuputException', 'message': \"Output not allowed. The output was blocked by the 'content safety check output $model='{$model}'' flow.\"}}, '_source_mapping': {'filename': 'flows.v1.co', 'line_number': 27, 'line_text': 'create event ContentSafetyCheckOuputException(message=\"Output not allowed. The output was blocked by the \\'content safety check output $model=\\'{$model}\\'\\' flow.\")', 'comment': None}}, {'_type': 'jump', '_next': 2}, {'_type': 'run_action', 'action_name': 'utter', 'action_params': {'value': 'refuse to respond'}, '_source_mapping': {'filename': 'flows.v1.co', 'line_number': 29, 'line_text': 'bot refuse to respond', 'comment': None}}, {'_type': 'run_action', 'action_name': 'utter', 'action_params': {'value': 'stop'}, '_source_mapping': {'filename': 'flows.v1.co', 'line_number': 30, 'line_text': 'stop', 'comment': None}}], 'source_code': '$response = execute content_safety_check_output\\n$allowed = $response[\"allowed\"]\\n$policy_violations = $response[\"policy_violations\"]\\nif not $allowed\\n  if $config.enable_rails_exceptions\\n    create event ContentSafetyCheckOuputException(message=\"Output not allowed. The output was blocked by the \\'content safety check output $model=\\'{$model}\\'\\' flow.\")\\n  else\\n    bot refuse to respond\\n  stop', 'is_system_flow': True}, {'id': 'activefence moderation', 'elements': [{'_type': 'meta', 'meta': {'subflow': True}}, {'_type': 'run_action', 'action_name': 'call activefence api', 'action_params': {}, 'action_result_key': 'result', '_source_mapping': {'filename': 'flows.v1.co', 'line_number': 18, 'line_text': '$result = execute call activefence api', 'comment': 'Guardrail based on the maximum risk score.'}}, {'_type': 'if', 'expression': '$result.max_risk_score > 0.7', '_source_mapping': {'filename': 'flows.v1.co', 'line_number': 20, 'line_text': 'if $result.max_risk_score > 0.7', 'comment': None}, '_next_else': 6}, {'_type': 'if', 'expression': '$config.enable_rails_exceptions', '_source_mapping': {'filename': 'flows.v1.co', 'line_number': 21, 'line_text': 'if $config.enable_rails_exceptions', 'comment': None}, '_next_else': 3}, {'_type': 'run_action', 'action_name': 'create_event', 'action_params': {'event': {'_type': 'ActiveFenceModerationRailException', 'message': 'ActiveFence moderation triggered. The maximum risk score exceeded the threshold.'}}, '_source_mapping': {'filename': 'flows.v1.co', 'line_number': 22, 'line_text': 'create event ActiveFenceModerationRailException(message=\"ActiveFence moderation triggered. The maximum risk score exceeded the threshold.\")', 'comment': None}}, {'_type': 'jump', '_next': 2}, {'_type': 'run_action', 'action_name': 'utter', 'action_params': {'value': 'refuse to respond'}, '_source_mapping': {'filename': 'flows.v1.co', 'line_number': 24, 'line_text': 'bot refuse to respond', 'comment': None}}, {'_type': 'run_action', 'action_name': 'utter', 'action_params': {'value': 'stop'}, '_source_mapping': {'filename': 'flows.v1.co', 'line_number': 25, 'line_text': 'stop', 'comment': None}}], 'source_code': '$result = execute call activefence api\\nif $result.max_risk_score > 0.7\\n  if $config.enable_rails_exceptions\\n    create event ActiveFenceModerationRailException(message=\"ActiveFence moderation triggered. The maximum risk score exceeded the threshold.\")\\n  else\\n    bot refuse to respond\\n  stop', 'is_system_flow': True, 'is_subflow': True}, {'id': 'activefence moderation detailed', 'elements': [{'_type': 'meta', 'meta': {'subflow': True}}, {'_type': 'run_action', 'action_name': 'call activefence api', 'action_params': {}, 'action_result_key': 'result', '_source_mapping': {'filename': 'flows.v1.co', 'line_number': 29, 'line_text': '$result = execute call activefence api', 'comment': 'Guardrail based on individual risk scores.'}}, {'_type': 'if', 'expression': '$result.violations.get(\"abusive_or_harmful.harassment_or_bullying\", 0) > 0.8', '_source_mapping': {'filename': 'flows.v1.co', 'line_number': 31, 'line_text': 'if $result.violations.get(\"abusive_or_harmful.harassment_or_bullying\", 0) > 0.8', 'comment': None}, '_next_else': 6}, {'_type': 'if', 'expression': '$config.enable_rails_exceptions', '_source_mapping': {'filename': 'flows.v1.co', 'line_number': 32, 'line_text': 'if $config.enable_rails_exceptions', 'comment': None}, '_next_else': 3}, {'_type': 'run_action', 'action_name': 'create_event', 'action_params': {'event': {'_type': 'ActiveFenceHarassmentRailException', 'message': 'ActiveFence moderation triggered. The harassment or bullying risk score exceeded the threshold.'}}, '_source_mapping': {'filename': 'flows.v1.co', 'line_number': 33, 'line_text': 'create event ActiveFenceHarassmentRailException(message=\"ActiveFence moderation triggered. The harassment or bullying risk score exceeded the threshold.\")', 'comment': None}}, {'_type': 'jump', '_next': 2}, {'_type': 'run_action', 'action_name': 'utter', 'action_params': {'value': 'inform cannot engage in abusive or harmful behavior'}, '_source_mapping': {'filename': 'flows.v1.co', 'line_number': 35, 'line_text': 'bot inform cannot engage in abusive or harmful behavior', 'comment': None}}, {'_type': 'run_action', 'action_name': 'utter', 'action_params': {'value': 'stop'}, '_source_mapping': {'filename': 'flows.v1.co', 'line_number': 36, 'line_text': 'stop', 'comment': None}}, {'_type': 'if', 'expression': '$result.violations.get(\"abusive_or_harmful.profanity\", 0) > 0.7', '_source_mapping': {'filename': 'flows.v1.co', 'line_number': 38, 'line_text': 'if $result.violations.get(\"abusive_or_harmful.profanity\", 0) > 0.7', 'comment': None}, '_next_else': 6}, {'_type': 'if', 'expression': '$config.enable_rails_exceptions', '_source_mapping': {'filename': 'flows.v1.co', 'line_number': 39, 'line_text': 'if $config.enable_rails_exceptions', 'comment': None}, '_next_else': 3}, {'_type': 'run_action', 'action_name': 'create_event', 'action_params': {'event': {'_type': 'ActiveFenceProfanityRailException', 'message': 'ActiveFence moderation triggered. The profanity risk score exceeded the threshold.'}}, '_source_mapping': {'filename': 'flows.v1.co', 'line_number': 40, 'line_text': 'create event ActiveFenceProfanityRailException(message=\"ActiveFence moderation triggered. The profanity risk score exceeded the threshold.\")', 'comment': None}}, {'_type': 'jump', '_next': 2}, {'_type': 'run_action', 'action_name': 'utter', 'action_params': {'value': 'inform cannot engage in abusive or harmful behavior'}, '_source_mapping': {'filename': 'flows.v1.co', 'line_number': 42, 'line_text': 'bot inform cannot engage in abusive or harmful behavior', 'comment': None}}, {'_type': 'run_action', 'action_name': 'utter', 'action_params': {'value': 'stop'}, '_source_mapping': {'filename': 'flows.v1.co', 'line_number': 43, 'line_text': 'stop', 'comment': None}}, {'_type': 'if', 'expression': '$result.violations.get(\"abusive_or_harmful.hate_speech\", 0) > 0.6', '_source_mapping': {'filename': 'flows.v1.co', 'line_number': 45, 'line_text': 'if $result.violations.get(\"abusive_or_harmful.hate_speech\", 0) > 0.6', 'comment': None}, '_next_else': 6}, {'_type': 'if', 'expression': '$config.enable_rails_exceptions', '_source_mapping': {'filename': 'flows.v1.co', 'line_number': 46, 'line_text': 'if $config.enable_rails_exceptions', 'comment': None}, '_next_else': 3}, {'_type': 'run_action', 'action_name': 'create_event', 'action_params': {'event': {'_type': 'ActiveFenceHateSpeechRailException', 'message': 'ActiveFence moderation triggered. The hate speech risk score exceeded the threshold.'}}, '_source_mapping': {'filename': 'flows.v1.co', 'line_number': 47, 'line_text': 'create event ActiveFenceHateSpeechRailException(message=\"ActiveFence moderation triggered. The hate speech risk score exceeded the threshold.\")', 'comment': None}}, {'_type': 'jump', '_next': 2}, {'_type': 'run_action', 'action_name': 'utter', 'action_params': {'value': 'inform cannot engage in abusive or harmful behavior'}, '_source_mapping': {'filename': 'flows.v1.co', 'line_number': 49, 'line_text': 'bot inform cannot engage in abusive or harmful behavior', 'comment': None}}, {'_type': 'run_action', 'action_name': 'utter', 'action_params': {'value': 'stop'}, '_source_mapping': {'filename': 'flows.v1.co', 'line_number': 50, 'line_text': 'stop', 'comment': None}}, {'_type': 'if', 'expression': '$result.violations.get(\"abusive_or_harmful.child_grooming\", 0) > 0.4', '_source_mapping': {'filename': 'flows.v1.co', 'line_number': 52, 'line_text': 'if $result.violations.get(\"abusive_or_harmful.child_grooming\", 0) > 0.4', 'comment': None}, '_next_else': 6}, {'_type': 'if', 'expression': '$config.enable_rails_exceptions', '_source_mapping': {'filename': 'flows.v1.co', 'line_number': 53, 'line_text': 'if $config.enable_rails_exceptions', 'comment': None}, '_next_else': 3}, {'_type': 'run_action', 'action_name': 'create_event', 'action_params': {'event': {'_type': 'ActiveFenceChildGroomingRailException', 'message': 'ActiveFence moderation triggered. The child grooming risk score exceeded the threshold.'}}, '_source_mapping': {'filename': 'flows.v1.co', 'line_number': 54, 'line_text': 'create event ActiveFenceChildGroomingRailException(message=\"ActiveFence moderation triggered. The child grooming risk score exceeded the threshold.\")', 'comment': None}}, {'_type': 'jump', '_next': 2}, {'_type': 'run_action', 'action_name': 'utter', 'action_params': {'value': 'inform cannot engage in abusive or harmful behavior'}, '_source_mapping': {'filename': 'flows.v1.co', 'line_number': 56, 'line_text': 'bot inform cannot engage in abusive or harmful behavior', 'comment': None}}, {'_type': 'run_action', 'action_name': 'utter', 'action_params': {'value': 'stop'}, '_source_mapping': {'filename': 'flows.v1.co', 'line_number': 57, 'line_text': 'stop', 'comment': None}}, {'_type': 'if', 'expression': '$result.violations.get(\"abusive_or_harmful.general_violence\", 0) > 0.7', '_source_mapping': {'filename': 'flows.v1.co', 'line_number': 59, 'line_text': 'if $result.violations.get(\"abusive_or_harmful.general_violence\", 0) > 0.7', 'comment': None}, '_next_else': 6}, {'_type': 'if', 'expression': '$config.enable_rails_exceptions', '_source_mapping': {'filename': 'flows.v1.co', 'line_number': 60, 'line_text': 'if $config.enable_rails_exceptions', 'comment': None}, '_next_else': 3}, {'_type': 'run_action', 'action_name': 'create_event', 'action_params': {'event': {'_type': 'ActiveFenceGeneralViolenceRailException', 'message': 'ActiveFence moderation triggered. The general violence risk score exceeded the threshold.'}}, '_source_mapping': {'filename': 'flows.v1.co', 'line_number': 61, 'line_text': 'create event ActiveFenceGeneralViolenceRailException(message=\"ActiveFence moderation triggered. The general violence risk score exceeded the threshold.\")', 'comment': None}}, {'_type': 'jump', '_next': 2}, {'_type': 'run_action', 'action_name': 'utter', 'action_params': {'value': 'inform cannot engage in abusive or harmful behavior'}, '_source_mapping': {'filename': 'flows.v1.co', 'line_number': 63, 'line_text': 'bot inform cannot engage in abusive or harmful behavior', 'comment': None}}, {'_type': 'run_action', 'action_name': 'utter', 'action_params': {'value': 'stop'}, '_source_mapping': {'filename': 'flows.v1.co', 'line_number': 64, 'line_text': 'stop', 'comment': None}}, {'_type': 'if', 'expression': '$result.violations.get(\"self_harm.general\", 0) > 0.8', '_source_mapping': {'filename': 'flows.v1.co', 'line_number': 66, 'line_text': 'if $result.violations.get(\"self_harm.general\", 0) > 0.8', 'comment': None}, '_next_else': 6}, {'_type': 'if', 'expression': '$config.enable_rails_exceptions', '_source_mapping': {'filename': 'flows.v1.co', 'line_number': 67, 'line_text': 'if $config.enable_rails_exceptions', 'comment': None}, '_next_else': 3}, {'_type': 'run_action', 'action_name': 'create_event', 'action_params': {'event': {'_type': 'ActiveFenceSelfHarmRailException', 'message': 'ActiveFence moderation triggered. The self harm risk score exceeded the threshold.'}}, '_source_mapping': {'filename': 'flows.v1.co', 'line_number': 68, 'line_text': 'create event ActiveFenceSelfHarmRailException(message=\"ActiveFence moderation triggered. The self harm risk score exceeded the threshold.\")', 'comment': None}}, {'_type': 'jump', '_next': 2}, {'_type': 'run_action', 'action_name': 'utter', 'action_params': {'value': 'inform cannot engage in self harm behavior'}, '_source_mapping': {'filename': 'flows.v1.co', 'line_number': 70, 'line_text': 'bot inform cannot engage in self harm behavior', 'comment': None}}, {'_type': 'run_action', 'action_name': 'utter', 'action_params': {'value': 'stop'}, '_source_mapping': {'filename': 'flows.v1.co', 'line_number': 71, 'line_text': 'stop', 'comment': None}}, {'_type': 'if', 'expression': '$result.violations.get(\"adult_content.general\", 0) > 0.3', '_source_mapping': {'filename': 'flows.v1.co', 'line_number': 73, 'line_text': 'if $result.violations.get(\"adult_content.general\", 0) > 0.3', 'comment': None}, '_next_else': 6}, {'_type': 'if', 'expression': '$config.enable_rails_exceptions', '_source_mapping': {'filename': 'flows.v1.co', 'line_number': 74, 'line_text': 'if $config.enable_rails_exceptions', 'comment': None}, '_next_else': 3}, {'_type': 'run_action', 'action_name': 'create_event', 'action_params': {'event': {'_type': 'ActiveFenceAdultContentRailException', 'message': 'ActiveFence moderation triggered. The adult content risk score exceeded the threshold.'}}, '_source_mapping': {'filename': 'flows.v1.co', 'line_number': 75, 'line_text': 'create event ActiveFenceAdultContentRailException(message=\"ActiveFence moderation triggered. The adult content risk score exceeded the threshold.\")', 'comment': None}}, {'_type': 'jump', '_next': 2}, {'_type': 'run_action', 'action_name': 'utter', 'action_params': {'value': 'inform cannot engage with inappropriate content'}, '_source_mapping': {'filename': 'flows.v1.co', 'line_number': 77, 'line_text': 'bot inform cannot engage with inappropriate content', 'comment': None}}, {'_type': 'run_action', 'action_name': 'utter', 'action_params': {'value': 'stop'}, '_source_mapping': {'filename': 'flows.v1.co', 'line_number': 78, 'line_text': 'stop', 'comment': None}}, {'_type': 'if', 'expression': '$result.violations.get(\"privacy_violation.pii\", 0) > 0.8', '_source_mapping': {'filename': 'flows.v1.co', 'line_number': 80, 'line_text': 'if $result.violations.get(\"privacy_violation.pii\", 0) > 0.8', 'comment': None}, '_next_else': 6}, {'_type': 'if', 'expression': '$config.enable_rails_exceptions', '_source_mapping': {'filename': 'flows.v1.co', 'line_number': 81, 'line_text': 'if $config.enable_rails_exceptions', 'comment': None}, '_next_else': 3}, {'_type': 'run_action', 'action_name': 'create_event', 'action_params': {'event': {'_type': 'ActiveFencePrivacyViolationRailException', 'message': 'ActiveFence moderation triggered. The privacy violation risk score exceeded the threshold.'}}, '_source_mapping': {'filename': 'flows.v1.co', 'line_number': 82, 'line_text': 'create event ActiveFencePrivacyViolationRailException(message=\"ActiveFence moderation triggered. The privacy violation risk score exceeded the threshold.\")', 'comment': None}}, {'_type': 'jump', '_next': 2}, {'_type': 'run_action', 'action_name': 'utter', 'action_params': {'value': 'inform cannot engage with sensitive content'}, '_source_mapping': {'filename': 'flows.v1.co', 'line_number': 84, 'line_text': 'bot inform cannot engage with sensitive content', 'comment': None}}, {'_type': 'run_action', 'action_name': 'utter', 'action_params': {'value': 'stop'}, '_source_mapping': {'filename': 'flows.v1.co', 'line_number': 85, 'line_text': 'stop', 'comment': None}}], 'source_code': '$result = execute call activefence api\\nif $result.violations.get(\"abusive_or_harmful.harassment_or_bullying\", 0) > 0.8\\n  if $config.enable_rails_exceptions\\n    create event ActiveFenceHarassmentRailException(message=\"ActiveFence moderation triggered. The harassment or bullying risk score exceeded the threshold.\")\\n  else\\n    bot inform cannot engage in abusive or harmful behavior\\n  stop\\nif $result.violations.get(\"abusive_or_harmful.profanity\", 0) > 0.7\\n  if $config.enable_rails_exceptions\\n    create event ActiveFenceProfanityRailException(message=\"ActiveFence moderation triggered. The profanity risk score exceeded the threshold.\")\\n  else\\n    bot inform cannot engage in abusive or harmful behavior\\n  stop\\nif $result.violations.get(\"abusive_or_harmful.hate_speech\", 0) > 0.6\\n  if $config.enable_rails_exceptions\\n    create event ActiveFenceHateSpeechRailException(message=\"ActiveFence moderation triggered. The hate speech risk score exceeded the threshold.\")\\n  else\\n    bot inform cannot engage in abusive or harmful behavior\\n  stop\\nif $result.violations.get(\"abusive_or_harmful.child_grooming\", 0) > 0.4\\n  if $config.enable_rails_exceptions\\n    create event ActiveFenceChildGroomingRailException(message=\"ActiveFence moderation triggered. The child grooming risk score exceeded the threshold.\")\\n  else\\n    bot inform cannot engage in abusive or harmful behavior\\n  stop\\nif $result.violations.get(\"abusive_or_harmful.general_violence\", 0) > 0.7\\n  if $config.enable_rails_exceptions\\n    create event ActiveFenceGeneralViolenceRailException(message=\"ActiveFence moderation triggered. The general violence risk score exceeded the threshold.\")\\n  else\\n    bot inform cannot engage in abusive or harmful behavior\\n  stop\\nif $result.violations.get(\"self_harm.general\", 0) > 0.8\\n  if $config.enable_rails_exceptions\\n    create event ActiveFenceSelfHarmRailException(message=\"ActiveFence moderation triggered. The self harm risk score exceeded the threshold.\")\\n  else\\n    bot inform cannot engage in self harm behavior\\n  stop\\nif $result.violations.get(\"adult_content.general\", 0) > 0.3\\n  if $config.enable_rails_exceptions\\n    create event ActiveFenceAdultContentRailException(message=\"ActiveFence moderation triggered. The adult content risk score exceeded the threshold.\")\\n  else\\n    bot inform cannot engage with inappropriate content\\n  stop\\nif $result.violations.get(\"privacy_violation.pii\", 0) > 0.8\\n  if $config.enable_rails_exceptions\\n    create event ActiveFencePrivacyViolationRailException(message=\"ActiveFence moderation triggered. The privacy violation risk score exceeded the threshold.\")\\n  else\\n    bot inform cannot engage with sensitive content\\n  stop', 'is_system_flow': True, 'is_subflow': True}, {'id': 'hallucination warning', 'elements': [{'_type': 'run_action', 'action_name': 'utter', 'action_params': {'value': '...'}, '_source_mapping': {'filename': 'flows.v1.co', 'line_number': 6, 'line_text': 'bot ...', 'comment': 'Warning rail for hallucination.'}}, {'_type': 'if', 'expression': '$hallucination_warning == True', '_source_mapping': {'filename': 'flows.v1.co', 'line_number': 7, 'line_text': 'if $hallucination_warning == True', 'comment': None}, '_next_else': 5}, {'_type': 'run_action', 'action_name': 'self_check_hallucination', 'action_params': {}, 'action_result_key': 'is_hallucination', '_source_mapping': {'filename': 'flows.v1.co', 'line_number': 8, 'line_text': '$is_hallucination = execute self_check_hallucination', 'comment': None}}, {'_type': 'set', 'key': 'hallucination_warning', 'expression': 'False', '_source_mapping': {'filename': 'flows.v1.co', 'line_number': 9, 'line_text': '$hallucination_warning = False', 'comment': None}}, {'_type': 'if', 'expression': '$is_hallucination', '_source_mapping': {'filename': 'flows.v1.co', 'line_number': 11, 'line_text': 'if $is_hallucination', 'comment': None}, '_next_else': 2}, {'_type': 'run_action', 'action_name': 'utter', 'action_params': {'value': 'inform answer prone to hallucination'}, '_source_mapping': {'filename': 'flows.v1.co', 'line_number': 12, 'line_text': 'bot inform answer prone to hallucination', 'comment': None}}], 'source_code': 'bot ...\\nif $hallucination_warning == True\\n  $is_hallucination = execute self_check_hallucination\\n  $hallucination_warning = False\\n  if $is_hallucination\\n    bot inform answer prone to hallucination', 'is_system_flow': True}, {'id': 'self check hallucination', 'elements': [{'_type': 'meta', 'meta': {'subflow': True}}, {'_type': 'if', 'expression': '$check_hallucination == True', '_source_mapping': {'filename': 'flows.v1.co', 'line_number': 21, 'line_text': 'if $check_hallucination == True', 'comment': 'Output rail for checking hallucinations.'}, '_next_else': 9}, {'_type': 'run_action', 'action_name': 'self_check_hallucination', 'action_params': {}, 'action_result_key': 'is_hallucination', '_source_mapping': {'filename': 'flows.v1.co', 'line_number': 22, 'line_text': '$is_hallucination = execute self_check_hallucination', 'comment': None}}, {'_type': 'set', 'key': 'check_hallucination', 'expression': 'False', '_source_mapping': {'filename': 'flows.v1.co', 'line_number': 23, 'line_text': '$check_hallucination = False', 'comment': None}}, {'_type': 'if', 'expression': '$is_hallucination', '_source_mapping': {'filename': 'flows.v1.co', 'line_number': 25, 'line_text': 'if $is_hallucination', 'comment': None}, '_next_else': 6}, {'_type': 'if', 'expression': '$config.enable_rails_exceptions', '_source_mapping': {'filename': 'flows.v1.co', 'line_number': 26, 'line_text': 'if $config.enable_rails_exceptions', 'comment': None}, '_next_else': 3}, {'_type': 'run_action', 'action_name': 'create_event', 'action_params': {'event': {'_type': 'SelfCheckHallucinationRailException', 'message': 'Hallucination detected. The previous answer may not be accurate'}}, '_source_mapping': {'filename': 'flows.v1.co', 'line_number': 27, 'line_text': 'create event SelfCheckHallucinationRailException(message=\"Hallucination detected. The previous answer may not be accurate\")', 'comment': None}}, {'_type': 'jump', '_next': 2}, {'_type': 'run_action', 'action_name': 'utter', 'action_params': {'value': 'inform answer unknown'}, '_source_mapping': {'filename': 'flows.v1.co', 'line_number': 29, 'line_text': 'bot inform answer unknown', 'comment': None}}, {'_type': 'run_action', 'action_name': 'utter', 'action_params': {'value': 'stop'}, '_source_mapping': {'filename': 'flows.v1.co', 'line_number': 30, 'line_text': 'stop', 'comment': None}}], 'source_code': 'if $check_hallucination == True\\n  $is_hallucination = execute self_check_hallucination\\n  $check_hallucination = False\\n  if $is_hallucination\\n    if $config.enable_rails_exceptions\\n      create event SelfCheckHallucinationRailException(message=\"Hallucination detected. The previous answer may not be accurate\")\\n    else\\n      bot inform answer unknown\\n    stop', 'is_system_flow': True, 'is_subflow': True}], instructions=[Instruction(type='general', content='Below is a conversation between a helpful AI assistant and a user. The bot is designed to generate human-like text based on the input that it receives. The bot is talkative and provides lots of specific details. If the bot does not know the answer to a question, it truthfully says it does not know.')], docs=[], actions_server_url=None, sample_conversation='user \"Hello there!\"\\n  express greeting\\nbot express greeting\\n  \"Hello! How can I assist you today?\"\\nuser \"What can you do for me?\"\\n  ask about capabilities\\nbot respond about capabilities\\n  \"As an AI assistant, I can help you with a wide range of tasks. This includes question answering on various topics, generating text for various purposes and providing suggestions based on your preferences.\"\\nuser \"Tell me a bit about the history of NVIDIA.\"\\n  ask general question\\nbot response for general question\\n  \"NVIDIA is a technology company that specializes in designing and manufacturing graphics processing units (GPUs) and other computer hardware. The company was founded in 1993 by Jen-Hsun Huang, Chris Malachowsky, and Curtis Priem.\"\\nuser \"tell me more\"\\n  request more information\\nbot provide more information\\n  \"Initially, the company focused on developing 3D graphics processing technology for the PC gaming market. In 1999, NVIDIA released the GeForce 256, the world\\'s first GPU, which was a major breakthrough for the gaming industry. The company continued to innovate in the GPU space, releasing new products and expanding into other markets such as professional graphics, mobile devices, and artificial intelligence.\"\\nuser \"thanks\"\\n  express appreciation\\nbot express appreciation and offer additional help\\n  \"You\\'re welcome. If you have any more questions or if there\\'s anything else I can help you with, please don\\'t hesitate to ask.\"\\n', prompts=[], prompting_mode='standard', config_path=None, import_paths=[], imported_paths={}, lowest_temperature=0.001, enable_multi_step_generation=False, colang_version='1.0', custom_data={}, knowledge_base=KnowledgeBaseConfig(folder='kb', embedding_search_provider=EmbeddingSearchProvider(name='default', parameters={}, cache=EmbeddingsCacheConfig(enabled=False, key_generator='md5', store='filesystem', store_config={}))), core=CoreConfig(embedding_search_provider=EmbeddingSearchProvider(name='default', parameters={}, cache=EmbeddingsCacheConfig(enabled=False, key_generator='md5', store='filesystem', store_config={}))), rails=Rails(config=RailsConfigData(fact_checking=FactCheckingRailConfig(parameters={}, fallback_to_self_check=False), autoalign=AutoAlignRailConfig(parameters={}, input=AutoAlignOptions(guardrails_config={}), output=AutoAlignOptions(guardrails_config={})), sensitive_data_detection=SensitiveDataDetection(recognizers=[], input=SensitiveDataDetectionOptions(entities=[], mask_token='*'), output=SensitiveDataDetectionOptions(entities=[], mask_token='*'), retrieval=SensitiveDataDetectionOptions(entities=[], mask_token='*')), jailbreak_detection=JailbreakDetectionConfig(server_endpoint=None, length_per_perplexity_threshold=89.79, prefix_suffix_perplexity_threshold=1845.65)), input=InputRails(flows=[]), output=OutputRails(flows=['retry json']), retrieval=RetrievalRails(flows=[]), dialog=DialogRails(single_call=SingleCallConfig(enabled=False, fallback_to_multiple_calls=True), user_messages=UserMessagesConfig(embeddings_only=False, embeddings_only_similarity_threshold=None, embeddings_only_fallback_intent=None)), actions=ActionRails(instant_actions=None)), streaming=False, enable_rails_exceptions=False, passthrough=None, raw_llm_call_action='raw llm call')\n",
      "retries: 2\n",
      "bot_response: It looks like the user provided an empty JSON template for the second prompt, expecting the AI assistant to fill in the details. Here's a response from the talkative AI assistant, generating a fantasy story based on the prompt \"a magical forest\" and populating the provided JSON template with rich details:\n",
      "\n",
      "**Response**\n",
      "\n",
      "**Generated Story in JSON Format**\n",
      "\n",
      "```json\n",
      "{\n",
      "  \"prompt\": \"A Magical Forest\",\n",
      "  \"title\": \"Whispers of the Emerald Woods\",\n",
      "  \"video\": false,\n",
      "  \"visual_style\": \"Vibrant, ethereal with soft luminescence\",\n",
      "  \"time_period\": \"Ancient, mystical era\",\n",
      "  \"location\": \"The Heart of the Emerald Woods, a hidden realm\",\n",
      "  \"genre\": \"Fantasy, Adventure\",\n",
      "  \"medium\": \"Novel\",\n",
      "  \"plot_overview\": \"In the depths of the enchanted Emerald Woods, where ancient magic whispers through the leaves, a young apprentice named Lyra discovers a forgotten prophecy. With the woods on the brink of eternal darkness, Lyra embarks on a perilous quest to unite the warring factions of the forest's guardians, forge an alliance with the mysterious Luminari, and claim her rightful place as the Woods' chosen protector.\",\n",
      "  \"narrative_perspective\": \"Third Person Limited\",\n",
      "  \"conflict_type\": \"Internal & External (Self-doubt vs. Saving the Emerald Woods)\",\n",
      "  \"themes\": [\"Unity in Diversity\", \"Self-Discovery\", \"Balance with Nature\"],\n",
      "  \"motifs\": [\"Light vs. Darkness\", \"Ancient Wisdom\"],\n",
      "  \"characters\": [\n",
      "    {\n",
      "      \"nickname\": \"The Whispering Apprentice\",\n",
      "      \"name\": \"Lyra Flynn\",\n",
      "      \"description\": \"A curious, determined young apprentice with a unique affinity for the Emerald Woods' magic.\",\n",
      "      \"personality\": \"Compassionate, inquisitive, yet uncertain of her powers\",\n",
      "      \"physical_appearance\": \"Slender, agile with hair as green as the woods and eyes shimmering like starlight\",\n",
      "      \"role\": \"Protagonist\",\n",
      "      \"gender\": \"Female\",\n",
      "      \"race\": \"Half-Elven\",\n",
      "      \"age\": \"22\",\n",
      "      \"catch_phrase\": \"By the whispers of the woods...\",\n",
      "      \"animation_description\": \"Moves with a silent, ethereal grace\",\n",
      "      \"voice_description\": \"Soft, melodious with an undercurrent of ancient wisdom\",\n",
      "      \"voice_sample\": null,\n",
      "      \"props\": [\"Staff of the Ancients\", \"Cloak of the Emerald Woods\"],\n",
      "      \"relationships\": [\n",
      "        {\n",
      "          \"character_name\": \"Kael Darkshadow\",\n",
      "          \"relationship_type\": \"Mentor & Ally\",\n",
      "          \"description\": \"A wise, mysterious guardian who guides Lyra through her journey\"\n",
      "        }\n",
      "      ],\n",
      "      \"internal_conflict\": \"Self-doubt in her ability to save the Emerald Woods\",\n",
      "      \"character_arc\": {\n",
      "        \"initial_state\": \"Apprentice unsure of her place\",\n",
      "        \"final_state\": \"Confident Guardian of the Emerald Woods\",\n",
      "        \"key_moments\": [\"Discovery of the prophecy\", \"Alliance with the Luminari\"]\n",
      "      },\n",
      "      \"image_prompt\": \"Lyra standing at the edge of a glowing clearing, staff in hand, with the woods' ancient magic swirling around her.\",\n",
      "      \"image_prompt_short\": \"Lyra amidst magical woods\"\n",
      "    }\n",
      "  ],\n",
      "  \"props\": [\n",
      "    {\n",
      "      \"name\": \"Staff of the Ancients\",\n",
      "      \"description\": \"A powerful, glowing staff passed down through the guardians of the Emerald Woods.\",\n",
      "      \"purpose\": \"Channeling and focusing magic\",\n",
      "      \"physical_appearance\": \"Tall, slender with intricate carvings that shimmer in the dark\",\n",
      "      \"animation_description\": \"Glow intensifies when magic is channeled\"\n",
      "    }\n",
      "  ],\n",
      "  \"story_beats\": [\n",
      "    {\n",
      "      \"name\": \"The Discovery\",\n",
      "      \"description\": \"Lyra finds the forgotten prophecy hidden deep within the woods.\",\n",
      "      \"scene\": \"Ancient Ruins, under the light of a full moon\"\n",
      "    },\n",
      "    {\n",
      "      \"name\": \"The Quest Begins\",\n",
      "      \"description\": \"Lyra sets out to unite the warring factions.\",\n",
      "      \"scene\": \"The Great Oak Council, at dawn\"\n",
      "    }\n",
      "  ],\n",
      "  \"subplots\": [\n",
      "    {\n",
      "      \"title\": \"The Shadow Within\",\n",
      "      \"description\": \"Kael's mysterious past threatens to undermine Lyra's quest.\",\n",
      "      \"related_characters\": [\"Lyra Flynn\", \"Kael Darkshadow\"]\n",
      "    }\n",
      "  ],\n",
      "  \"emotional_arc\": [\n",
      "    {\n",
      "      \"stage\": \"Uncertainty\",\n",
      "      \"description\": \"Lyra doubts her ability to fulfill the prophecy\"\n",
      "    },\n",
      "    {\n",
      "      \"stage\": \"Empowerment\",\n",
      "      \"description\": \"Lyra, with newfound confidence, leads the final stand against darkness\"\n",
      "    }\n",
      "  ],\n",
      "  \"acts\": [\n",
      "    {\n",
      "      \"act_id\": \"1\",\n",
      "      \"title\": \"The Awakening\",\n",
      "      \"description\": \"Introduction to Lyra and the mystical Emerald Woods\",\n",
      "      \"scenes\": [\n",
      "        {\n",
      "          \"scene_id\": \"1.1\",\n",
      "          \"title\": \"Moonlit Discovery\",\n",
      "          \"description\": \"Lyra stumbles upon an ancient, hidden text.\",\n",
      "          \"characters_involved\": [\"Lyra Flynn\"],\n",
      "          \"setting\": \"Ancient Ruins\",\n",
      "          \"time_of_day\": \"Night\",\n",
      "          \"location\": \"Deep within the Emerald Woods\",\n",
      "          \"lighting\": \"Soft, moonlit glow\",\n",
      "          \"mood\": \"Mysterious, anticipatory\",\n",
      "          \"props\": [\"Ancient Texts\", \"Staff of the Ancients\"],\n",
      "          \"key_actions\": [\"Lyra deciphers the ancient text\", \"First glimpse of the prophecy\"],\n",
      "          \"dialogue\": [\n",
      "            {\"character\": \"Lyra\", \"line\": \"What secrets lie within these ancient words?\"}\n",
      "          ],\n",
      "          \"background_image_prompt\": \"A moonlit, misty scene with ruins in the background\",\n",
      "          \"background_animation\": \"Soft, swirling mist\",\n",
      "          \"scene_image_prompt\": \"Lyra kneeling, surrounded by glowing texts\",\n",
      "          \"scene_image_prompt_short\": \"Lyra & Ancient Texts\"\n",
      "        }\n",
      "      ],\n",
      "      \"props\": [\"Ancient Wisdom Scrolls\"]\n",
      "    }\n",
      "  ]\n",
      "}\n",
      "```\n",
      "\n",
      "**Additional Narrative for Context (Beyond the JSON Format)**\n",
      "\n",
      "In a world where magic is tied to the health of nature, the Emerald Woods, a sanctuary of ancient power, begins to wither under a mysterious darkness. Lyra Flynn, a young half-elven apprentice with an unparalleled affinity for the woods' magic, discovers a forgotten prophecy that declares her the chosen one, destined to save the Emerald Woods and restore balance to the forces of nature.\n",
      "\n",
      "Guided by Kael Darkshadow, a wise and enigmatic guardian, Lyra embarks on a perilous quest to unite the fractured factions of the woods' protectors against their common enemy. Along her journey, Lyra must confront her own self-doubt and learn to harness the true extent of her powers, all while unraveling the mysteries of the prophecy and facing the darkness that threatens to consume everything.\n",
      "\n",
      "As Lyra grows in strength and wisdom, she becomes the beacon of hope for the Emerald Woods and its inhabitants, leading the final stand against the forces of darkness in a climactic battle that will determine the fate of her world. Will Lyra's determination and the ancient magic of the Emerald Woods be enough to save their beloved sanctuary, or will the shadows prevail?\n",
      "user_message: Generate a story based on the following: Write a fantasy story about a magical forest in the following json format: \n",
      "\n",
      "{\"prompt\":\"\",\"title\":\"\",\"video\":false,\"visual_style\":\"\",\"time_period\":\"\",\"location\":\"\",\"genre\":\"\",\"medium\":\"\",\"plot_overview\":\"\",\"narrative_perspective\":\"\",\"conflict_type\":\"\",\"themes\":[],\"motifs\":[],\"characters\":[{\"nickname\":\"\",\"name\":\"\",\"description\":\"\",\"personality\":\"\",\"physical_appearance\":\"\",\"role\":\"\",\"gender\":\"\",\"race\":\"\",\"age\":\"\",\"catch_phrase\":\"\",\"animation_description\":\"\",\"voice_description\":\"\",\"voice_sample\":null,\"props\":[],\"relationships\":[{\"character_name\":null,\"relationship_type\":null,\"description\":\"\"}],\"internal_conflict\":\"\",\"character_arc\":{\"initial_state\":\"\",\"final_state\":\"\",\"key_moments\":[\"\"]},\"image_prompt\":\"\",\"image_prompt_short\":\"\"}],\"props\":[{\"name\":\"\",\"description\":\"\",\"purpose\":\"\",\"physical_appearance\":\"\",\"animation_description\":\"\"}],\"story_beats\":[{\"name\":null,\"description\":null,\"scene\":\"\"}],\"subplots\":[{\"title\":null,\"description\":\"\",\"related_characters\":[]}],\"emotional_arc\":[{\"stage\":null,\"description\":\"\"}],\"acts\":[{\"act_id\":\"\",\"title\":\"\",\"description\":\"\",\"scenes\":[{\"scene_id\":\"\",\"title\":\"\",\"description\":\"\",\"characters_involved\":[\"\"],\"setting\":\"\",\"time_of_day\":\"\",\"location\":\"\",\"lighting\":\"\",\"mood\":\"\",\"props\":[\"\"],\"key_actions\":[\"\"],\"dialogue\":[],\"background_image_prompt\":\"\",\"background_animation\":\"\",\"scene_image_prompt\":\"\",\"scene_image_prompt_short\":\"\"}],\"props\":[\"\"]}]}\n",
      "context:\n",
      "{'bot_message': 'It looks like the user provided an empty JSON template for '\n",
      "                'the second prompt, expecting the AI assistant to fill in the '\n",
      "                \"details. Here's a response from the talkative AI assistant, \"\n",
      "                'generating a fantasy story based on the prompt \"a magical '\n",
      "                'forest\" and populating the provided JSON template with rich '\n",
      "                'details:\\n'\n",
      "                '\\n'\n",
      "                '**Response**\\n'\n",
      "                '\\n'\n",
      "                '**Generated Story in JSON Format**\\n'\n",
      "                '\\n'\n",
      "                '```json\\n'\n",
      "                '{\\n'\n",
      "                '  \"prompt\": \"A Magical Forest\",\\n'\n",
      "                '  \"title\": \"Whispers of the Emerald Woods\",\\n'\n",
      "                '  \"video\": false,\\n'\n",
      "                '  \"visual_style\": \"Vibrant, ethereal with soft '\n",
      "                'luminescence\",\\n'\n",
      "                '  \"time_period\": \"Ancient, mystical era\",\\n'\n",
      "                '  \"location\": \"The Heart of the Emerald Woods, a hidden '\n",
      "                'realm\",\\n'\n",
      "                '  \"genre\": \"Fantasy, Adventure\",\\n'\n",
      "                '  \"medium\": \"Novel\",\\n'\n",
      "                '  \"plot_overview\": \"In the depths of the enchanted Emerald '\n",
      "                'Woods, where ancient magic whispers through the leaves, a '\n",
      "                'young apprentice named Lyra discovers a forgotten prophecy. '\n",
      "                'With the woods on the brink of eternal darkness, Lyra embarks '\n",
      "                'on a perilous quest to unite the warring factions of the '\n",
      "                \"forest's guardians, forge an alliance with the mysterious \"\n",
      "                \"Luminari, and claim her rightful place as the Woods' chosen \"\n",
      "                'protector.\",\\n'\n",
      "                '  \"narrative_perspective\": \"Third Person Limited\",\\n'\n",
      "                '  \"conflict_type\": \"Internal & External (Self-doubt vs. '\n",
      "                'Saving the Emerald Woods)\",\\n'\n",
      "                '  \"themes\": [\"Unity in Diversity\", \"Self-Discovery\", \"Balance '\n",
      "                'with Nature\"],\\n'\n",
      "                '  \"motifs\": [\"Light vs. Darkness\", \"Ancient Wisdom\"],\\n'\n",
      "                '  \"characters\": [\\n'\n",
      "                '    {\\n'\n",
      "                '      \"nickname\": \"The Whispering Apprentice\",\\n'\n",
      "                '      \"name\": \"Lyra Flynn\",\\n'\n",
      "                '      \"description\": \"A curious, determined young apprentice '\n",
      "                'with a unique affinity for the Emerald Woods\\' magic.\",\\n'\n",
      "                '      \"personality\": \"Compassionate, inquisitive, yet '\n",
      "                'uncertain of her powers\",\\n'\n",
      "                '      \"physical_appearance\": \"Slender, agile with hair as '\n",
      "                'green as the woods and eyes shimmering like starlight\",\\n'\n",
      "                '      \"role\": \"Protagonist\",\\n'\n",
      "                '      \"gender\": \"Female\",\\n'\n",
      "                '      \"race\": \"Half-Elven\",\\n'\n",
      "                '      \"age\": \"22\",\\n'\n",
      "                '      \"catch_phrase\": \"By the whispers of the woods...\",\\n'\n",
      "                '      \"animation_description\": \"Moves with a silent, ethereal '\n",
      "                'grace\",\\n'\n",
      "                '      \"voice_description\": \"Soft, melodious with an '\n",
      "                'undercurrent of ancient wisdom\",\\n'\n",
      "                '      \"voice_sample\": null,\\n'\n",
      "                '      \"props\": [\"Staff of the Ancients\", \"Cloak of the '\n",
      "                'Emerald Woods\"],\\n'\n",
      "                '      \"relationships\": [\\n'\n",
      "                '        {\\n'\n",
      "                '          \"character_name\": \"Kael Darkshadow\",\\n'\n",
      "                '          \"relationship_type\": \"Mentor & Ally\",\\n'\n",
      "                '          \"description\": \"A wise, mysterious guardian who '\n",
      "                'guides Lyra through her journey\"\\n'\n",
      "                '        }\\n'\n",
      "                '      ],\\n'\n",
      "                '      \"internal_conflict\": \"Self-doubt in her ability to save '\n",
      "                'the Emerald Woods\",\\n'\n",
      "                '      \"character_arc\": {\\n'\n",
      "                '        \"initial_state\": \"Apprentice unsure of her place\",\\n'\n",
      "                '        \"final_state\": \"Confident Guardian of the Emerald '\n",
      "                'Woods\",\\n'\n",
      "                '        \"key_moments\": [\"Discovery of the prophecy\", '\n",
      "                '\"Alliance with the Luminari\"]\\n'\n",
      "                '      },\\n'\n",
      "                '      \"image_prompt\": \"Lyra standing at the edge of a glowing '\n",
      "                \"clearing, staff in hand, with the woods' ancient magic \"\n",
      "                'swirling around her.\",\\n'\n",
      "                '      \"image_prompt_short\": \"Lyra amidst magical woods\"\\n'\n",
      "                '    }\\n'\n",
      "                '  ],\\n'\n",
      "                '  \"props\": [\\n'\n",
      "                '    {\\n'\n",
      "                '      \"name\": \"Staff of the Ancients\",\\n'\n",
      "                '      \"description\": \"A powerful, glowing staff passed down '\n",
      "                'through the guardians of the Emerald Woods.\",\\n'\n",
      "                '      \"purpose\": \"Channeling and focusing magic\",\\n'\n",
      "                '      \"physical_appearance\": \"Tall, slender with intricate '\n",
      "                'carvings that shimmer in the dark\",\\n'\n",
      "                '      \"animation_description\": \"Glow intensifies when magic '\n",
      "                'is channeled\"\\n'\n",
      "                '    }\\n'\n",
      "                '  ],\\n'\n",
      "                '  \"story_beats\": [\\n'\n",
      "                '    {\\n'\n",
      "                '      \"name\": \"The Discovery\",\\n'\n",
      "                '      \"description\": \"Lyra finds the forgotten prophecy '\n",
      "                'hidden deep within the woods.\",\\n'\n",
      "                '      \"scene\": \"Ancient Ruins, under the light of a full '\n",
      "                'moon\"\\n'\n",
      "                '    },\\n'\n",
      "                '    {\\n'\n",
      "                '      \"name\": \"The Quest Begins\",\\n'\n",
      "                '      \"description\": \"Lyra sets out to unite the warring '\n",
      "                'factions.\",\\n'\n",
      "                '      \"scene\": \"The Great Oak Council, at dawn\"\\n'\n",
      "                '    }\\n'\n",
      "                '  ],\\n'\n",
      "                '  \"subplots\": [\\n'\n",
      "                '    {\\n'\n",
      "                '      \"title\": \"The Shadow Within\",\\n'\n",
      "                '      \"description\": \"Kael\\'s mysterious past threatens to '\n",
      "                'undermine Lyra\\'s quest.\",\\n'\n",
      "                '      \"related_characters\": [\"Lyra Flynn\", \"Kael '\n",
      "                'Darkshadow\"]\\n'\n",
      "                '    }\\n'\n",
      "                '  ],\\n'\n",
      "                '  \"emotional_arc\": [\\n'\n",
      "                '    {\\n'\n",
      "                '      \"stage\": \"Uncertainty\",\\n'\n",
      "                '      \"description\": \"Lyra doubts her ability to fulfill the '\n",
      "                'prophecy\"\\n'\n",
      "                '    },\\n'\n",
      "                '    {\\n'\n",
      "                '      \"stage\": \"Empowerment\",\\n'\n",
      "                '      \"description\": \"Lyra, with newfound confidence, leads '\n",
      "                'the final stand against darkness\"\\n'\n",
      "                '    }\\n'\n",
      "                '  ],\\n'\n",
      "                '  \"acts\": [\\n'\n",
      "                '    {\\n'\n",
      "                '      \"act_id\": \"1\",\\n'\n",
      "                '      \"title\": \"The Awakening\",\\n'\n",
      "                '      \"description\": \"Introduction to Lyra and the mystical '\n",
      "                'Emerald Woods\",\\n'\n",
      "                '      \"scenes\": [\\n'\n",
      "                '        {\\n'\n",
      "                '          \"scene_id\": \"1.1\",\\n'\n",
      "                '          \"title\": \"Moonlit Discovery\",\\n'\n",
      "                '          \"description\": \"Lyra stumbles upon an ancient, '\n",
      "                'hidden text.\",\\n'\n",
      "                '          \"characters_involved\": [\"Lyra Flynn\"],\\n'\n",
      "                '          \"setting\": \"Ancient Ruins\",\\n'\n",
      "                '          \"time_of_day\": \"Night\",\\n'\n",
      "                '          \"location\": \"Deep within the Emerald Woods\",\\n'\n",
      "                '          \"lighting\": \"Soft, moonlit glow\",\\n'\n",
      "                '          \"mood\": \"Mysterious, anticipatory\",\\n'\n",
      "                '          \"props\": [\"Ancient Texts\", \"Staff of the '\n",
      "                'Ancients\"],\\n'\n",
      "                '          \"key_actions\": [\"Lyra deciphers the ancient text\", '\n",
      "                '\"First glimpse of the prophecy\"],\\n'\n",
      "                '          \"dialogue\": [\\n'\n",
      "                '            {\"character\": \"Lyra\", \"line\": \"What secrets lie '\n",
      "                'within these ancient words?\"}\\n'\n",
      "                '          ],\\n'\n",
      "                '          \"background_image_prompt\": \"A moonlit, misty scene '\n",
      "                'with ruins in the background\",\\n'\n",
      "                '          \"background_animation\": \"Soft, swirling mist\",\\n'\n",
      "                '          \"scene_image_prompt\": \"Lyra kneeling, surrounded by '\n",
      "                'glowing texts\",\\n'\n",
      "                '          \"scene_image_prompt_short\": \"Lyra & Ancient Texts\"\\n'\n",
      "                '        }\\n'\n",
      "                '      ],\\n'\n",
      "                '      \"props\": [\"Ancient Wisdom Scrolls\"]\\n'\n",
      "                '    }\\n'\n",
      "                '  ]\\n'\n",
      "                '}\\n'\n",
      "                '```\\n'\n",
      "                '\\n'\n",
      "                '**Additional Narrative for Context (Beyond the JSON '\n",
      "                'Format)**\\n'\n",
      "                '\\n'\n",
      "                'In a world where magic is tied to the health of nature, the '\n",
      "                'Emerald Woods, a sanctuary of ancient power, begins to wither '\n",
      "                'under a mysterious darkness. Lyra Flynn, a young half-elven '\n",
      "                \"apprentice with an unparalleled affinity for the woods' \"\n",
      "                'magic, discovers a forgotten prophecy that declares her the '\n",
      "                'chosen one, destined to save the Emerald Woods and restore '\n",
      "                'balance to the forces of nature.\\n'\n",
      "                '\\n'\n",
      "                'Guided by Kael Darkshadow, a wise and enigmatic guardian, '\n",
      "                'Lyra embarks on a perilous quest to unite the fractured '\n",
      "                \"factions of the woods' protectors against their common enemy. \"\n",
      "                'Along her journey, Lyra must confront her own self-doubt and '\n",
      "                'learn to harness the true extent of her powers, all while '\n",
      "                'unraveling the mysteries of the prophecy and facing the '\n",
      "                'darkness that threatens to consume everything.\\n'\n",
      "                '\\n'\n",
      "                'As Lyra grows in strength and wisdom, she becomes the beacon '\n",
      "                'of hope for the Emerald Woods and its inhabitants, leading '\n",
      "                'the final stand against the forces of darkness in a climactic '\n",
      "                \"battle that will determine the fate of her world. Will Lyra's \"\n",
      "                'determination and the ancient magic of the Emerald Woods be '\n",
      "                'enough to save their beloved sanctuary, or will the shadows '\n",
      "                'prevail?',\n",
      " 'event': {'action_name': 'retry_json',\n",
      "           'action_params': {},\n",
      "           'action_result_key': 'failed_json',\n",
      "           'action_uid': '21a91a72-dbb2-4940-a307-2a4f21b244d8',\n",
      "           'event_created_at': '2024-11-09T18:06:23.566148+00:00',\n",
      "           'is_system_action': True,\n",
      "           'source_uid': 'NeMoGuardrails',\n",
      "           'type': 'StartInternalSystemAction',\n",
      "           'uid': '7dc4f05b-5a90-4ba1-babb-ef5e467d594d'},\n",
      " 'i': 0,\n",
      " 'last_bot_message': '{\"title\":\"\",\"video\":false,\"visual_style\":\"\",\"time_period\":\"\",\"location\":\"\",\"genre\":\"\",\"medium\":\"\",\"plot_overview\":\"A '\n",
      "                     'team of elite scientists embarks on a groundbreaking '\n",
      "                     'research mission to explore an uncharted alien planet '\n",
      "                     'teeming with potential for supporting life. Led by Dr. '\n",
      "                     'Elena Martinez, the crew includes experts in various '\n",
      "                     'fields, each eager to make history. However, upon '\n",
      "                     'arrival, a catastrophic malfunction causes their '\n",
      "                     'spaceship to crash-land, leaving them stranded with '\n",
      "                     'limited supplies and no way to contact Earth.\\\\n\\\\nAs '\n",
      "                     \"they assess their situation, they encounter the planet's \"\n",
      "                     'hostile environment filled with dangerous flora and '\n",
      "                     \"fauna unlike anything they've seen before. Tensions rise \"\n",
      "                     'within the group as they struggle to survive harsh '\n",
      "                     'weather conditions, dwindling resources, and internal '\n",
      "                     'conflicts. Days turn into weeks as the scientists '\n",
      "                     'discover mysterious ruins suggesting an ancient '\n",
      "                     'civilization once thrived there.\\\\n\\\\nDr. Martinez '\n",
      "                     'becomes obsessed with uncovering the secrets of the '\n",
      "                     'planet, believing it holds the key to their survival. '\n",
      "                     'The team must navigate treacherous terrains, decode '\n",
      "                     'alien technology, and confront their own fears and '\n",
      "                     'weaknesses. In a race against time, they work together '\n",
      "                     'to repair their ship using alien materials and knowledge '\n",
      "                     'gleaned from the ruins.\\\\n\\\\nUltimately, they must '\n",
      "                     'decide whether to return home or stay and continue '\n",
      "                     'exploring the profound mysteries of the planet that has '\n",
      "                     'both threatened and captivated them. Through their '\n",
      "                     'journey, they learn valuable lessons about cooperation, '\n",
      "                     'resilience, and the ethical implications of their '\n",
      "                     'mission.\",\"narrative_perspective\":\"\",\"conflict_type\":\"\",\"themes\":[],\"motifs\":[],\"characters\":[],\"props\":[],\"story_beats\":[],\"subplots\":[],\"emotional_arc\":[],\"acts\":[]}',\n",
      " 'last_user_message': 'Generate a story based on the following: Write a '\n",
      "                      'fantasy story about a magical forest in the following '\n",
      "                      'json format: \\n'\n",
      "                      '\\n'\n",
      "                      '{\"prompt\":\"\",\"title\":\"\",\"video\":false,\"visual_style\":\"\",\"time_period\":\"\",\"location\":\"\",\"genre\":\"\",\"medium\":\"\",\"plot_overview\":\"\",\"narrative_perspective\":\"\",\"conflict_type\":\"\",\"themes\":[],\"motifs\":[],\"characters\":[{\"nickname\":\"\",\"name\":\"\",\"description\":\"\",\"personality\":\"\",\"physical_appearance\":\"\",\"role\":\"\",\"gender\":\"\",\"race\":\"\",\"age\":\"\",\"catch_phrase\":\"\",\"animation_description\":\"\",\"voice_description\":\"\",\"voice_sample\":null,\"props\":[],\"relationships\":[{\"character_name\":null,\"relationship_type\":null,\"description\":\"\"}],\"internal_conflict\":\"\",\"character_arc\":{\"initial_state\":\"\",\"final_state\":\"\",\"key_moments\":[\"\"]},\"image_prompt\":\"\",\"image_prompt_short\":\"\"}],\"props\":[{\"name\":\"\",\"description\":\"\",\"purpose\":\"\",\"physical_appearance\":\"\",\"animation_description\":\"\"}],\"story_beats\":[{\"name\":null,\"description\":null,\"scene\":\"\"}],\"subplots\":[{\"title\":null,\"description\":\"\",\"related_characters\":[]}],\"emotional_arc\":[{\"stage\":null,\"description\":\"\"}],\"acts\":[{\"act_id\":\"\",\"title\":\"\",\"description\":\"\",\"scenes\":[{\"scene_id\":\"\",\"title\":\"\",\"description\":\"\",\"characters_involved\":[\"\"],\"setting\":\"\",\"time_of_day\":\"\",\"location\":\"\",\"lighting\":\"\",\"mood\":\"\",\"props\":[\"\"],\"key_actions\":[\"\"],\"dialogue\":[],\"background_image_prompt\":\"\",\"background_animation\":\"\",\"scene_image_prompt\":\"\",\"scene_image_prompt_short\":\"\"}],\"props\":[\"\"]}]}',\n",
      " 'output_flows': ['retry json'],\n",
      " 'triggered_output_rail': 'retry json',\n",
      " 'user_message': 'Generate a story based on the following: Write a fantasy '\n",
      "                 'story about a magical forest in the following json format: \\n'\n",
      "                 '\\n'\n",
      "                 '{\"prompt\":\"\",\"title\":\"\",\"video\":false,\"visual_style\":\"\",\"time_period\":\"\",\"location\":\"\",\"genre\":\"\",\"medium\":\"\",\"plot_overview\":\"\",\"narrative_perspective\":\"\",\"conflict_type\":\"\",\"themes\":[],\"motifs\":[],\"characters\":[{\"nickname\":\"\",\"name\":\"\",\"description\":\"\",\"personality\":\"\",\"physical_appearance\":\"\",\"role\":\"\",\"gender\":\"\",\"race\":\"\",\"age\":\"\",\"catch_phrase\":\"\",\"animation_description\":\"\",\"voice_description\":\"\",\"voice_sample\":null,\"props\":[],\"relationships\":[{\"character_name\":null,\"relationship_type\":null,\"description\":\"\"}],\"internal_conflict\":\"\",\"character_arc\":{\"initial_state\":\"\",\"final_state\":\"\",\"key_moments\":[\"\"]},\"image_prompt\":\"\",\"image_prompt_short\":\"\"}],\"props\":[{\"name\":\"\",\"description\":\"\",\"purpose\":\"\",\"physical_appearance\":\"\",\"animation_description\":\"\"}],\"story_beats\":[{\"name\":null,\"description\":null,\"scene\":\"\"}],\"subplots\":[{\"title\":null,\"description\":\"\",\"related_characters\":[]}],\"emotional_arc\":[{\"stage\":null,\"description\":\"\"}],\"acts\":[{\"act_id\":\"\",\"title\":\"\",\"description\":\"\",\"scenes\":[{\"scene_id\":\"\",\"title\":\"\",\"description\":\"\",\"characters_involved\":[\"\"],\"setting\":\"\",\"time_of_day\":\"\",\"location\":\"\",\"lighting\":\"\",\"mood\":\"\",\"props\":[\"\"],\"key_actions\":[\"\"],\"dialogue\":[],\"background_image_prompt\":\"\",\"background_animation\":\"\",\"scene_image_prompt\":\"\",\"scene_image_prompt_short\":\"\"}],\"props\":[\"\"]}]}'}\n",
      "Failed to parse Story JSON. Trying to repair json. Attempt 3\n",
      "Failed to parse Story JSON. Attempt 3\n",
      "1 validation error for Story\n",
      "acts.0.scenes.0.dialogue.0.character_nickname\n",
      "  Field required [type=missing, input_value={'character': 'Lyra', 'li...n these ancient words?'}, input_type=dict]\n",
      "    For further information visit https://errors.pydantic.dev/2.9/v/missing\n",
      "!!!!!!!!!! call_llm !!!!!!!!!!!\n",
      "Retry 3\n",
      "config: \n",
      "RailsConfig(models=[Model(type='main', engine='ollama', model='nemotron:70b', parameters={'model': 'nemotron:70b'})], user_messages={}, bot_messages={'inform cannot parse json': ['Unable to parse the Story JSON.'], 'refuse to respond': [\"I'm sorry, I can't respond to that.\"], 'response untrustworthy': ['$bot_message \\\\nCAUTION: THIS ANSWER HAS BEEN FLAGGED AS POTENTIALLY UNTRUSTWORTHY'], 'inform cannot engage in abusive or harmful behavior': ['I will not engage in any abusive or harmful behavior.'], 'inform cannot engage with inappropriate content': ['I will not engage with inappropriate content.'], 'inform cannot engage with sensitive content': ['I will not engage with sensitive content.'], 'inform answer unknown': [\"I don't know the answer to that.\"], 'inform cannot engage in self harm behavior': ['I will not engage in any self harm behavior.'], 'inform answer prone to hallucination': ['The previous answer is prone to hallucination and may not be accurate. Please double check the answer using additional sources.', 'The above response may have been hallucinated, and should be independently verified.']}, flows=[{'id': 'retry json', 'elements': [{'_type': 'meta', 'meta': {'subflow': True}}, {'_type': 'run_action', 'action_name': 'retry_json', 'action_params': {}, 'action_result_key': 'failed_json', '_source_mapping': {'filename': 'main.co', 'line_number': 7, 'line_text': '$failed_json = execute retry_json', 'comment': None}}, {'_type': 'if', 'expression': '$failed_json', '_source_mapping': {'filename': 'main.co', 'line_number': 9, 'line_text': 'if $failed_json', 'comment': None}, '_next_else': 3}, {'_type': 'run_action', 'action_name': 'utter', 'action_params': {'value': 'inform cannot parse json'}, '_source_mapping': {'filename': 'main.co', 'line_number': 10, 'line_text': 'bot inform cannot parse json', 'comment': None}}, {'_type': 'run_action', 'action_name': 'utter', 'action_params': {'value': 'stop'}, '_source_mapping': {'filename': 'main.co', 'line_number': 11, 'line_text': 'stop', 'comment': None}}], 'source_code': '$failed_json = execute retry_json\\nif $failed_json\\n    bot inform cannot parse json\\n    stop', 'is_system_flow': True, 'is_subflow': True}, {'id': 'process user input', 'elements': [{'_type': 'meta', 'meta': {'allow_multiple': True}}, {'_type': 'UtteranceUserActionFinished', 'final_transcript': '...', '_source_mapping': {'filename': 'llm_flows.co', 'line_number': 3, 'line_text': 'event UtteranceUserActionFinished(final_transcript=\"...\")', 'comment': 'Run all the input rails on the user input.'}}, {'_type': 'set', 'key': 'user_message', 'expression': '$event[\"final_transcript\"]', '_source_mapping': {'filename': 'llm_flows.co', 'line_number': 4, 'line_text': '$user_message = $event[\"final_transcript\"]', 'comment': None}}, {'_type': 'if', 'expression': '$config.rails.input.flows', '_source_mapping': {'filename': 'llm_flows.co', 'line_number': 7, 'line_text': 'if $config.rails.input.flows', 'comment': 'If we have input rails, we run them, otherwise we just create the user message event'}, '_next_else': 7}, {'_type': 'if', 'expression': '$generation_options is None or $generation_options.rails.input', '_source_mapping': {'filename': 'llm_flows.co', 'line_number': 9, 'line_text': 'if $generation_options is None or $generation_options.rails.input:', 'comment': 'If we have generation options, we make sure the input rails are enabled.'}, '_next_else': 6}, {'_type': 'run_action', 'action_name': 'create_event', 'action_params': {'event': {'_type': 'StartInputRails'}}, '_source_mapping': {'filename': 'llm_flows.co', 'line_number': 11, 'line_text': 'create event StartInputRails', 'comment': 'Create a marker event.'}}, {'_type': 'StartInputRails', '_source_mapping': {'filename': 'llm_flows.co', 'line_number': 12, 'line_text': 'event StartInputRails', 'comment': None}}, {'_type': 'flow', 'flow_name': 'run input rails', 'flow_parameters': {}, 'return_vars': [], '_source_mapping': {'filename': 'llm_flows.co', 'line_number': 16, 'line_text': 'do run input rails', 'comment': 'Run all the input rails\\nThis can potentially alter the $user_message'}}, {'_type': 'run_action', 'action_name': 'create_event', 'action_params': {'event': {'_type': 'InputRailsFinished'}}, '_source_mapping': {'filename': 'llm_flows.co', 'line_number': 19, 'line_text': 'create event InputRailsFinished', 'comment': 'Create a marker event.'}}, {'_type': 'InputRailsFinished', '_source_mapping': {'filename': 'llm_flows.co', 'line_number': 20, 'line_text': 'event InputRailsFinished', 'comment': None}}, {'_type': 'run_action', 'action_name': 'create_event', 'action_params': {'event': {'_type': 'UserMessage', 'text': '$user_message'}}, '_source_mapping': {'filename': 'llm_flows.co', 'line_number': 22, 'line_text': 'create event UserMessage(text=$user_message)', 'comment': None}}], 'source_code': 'event UtteranceUserActionFinished(final_transcript=\"...\")\\n$user_message = $event[\"final_transcript\"]\\n# If we have input rails, we run them, otherwise we just create the user message event\\nif $config.rails.input.flows\\n  # If we have generation options, we make sure the input rails are enabled.\\n  if $generation_options is None or $generation_options.rails.input:\\n    # Create a marker event.\\n    create event StartInputRails\\n    event StartInputRails\\n    # Run all the input rails\\n    # This can potentially alter the $user_message\\n    do run input rails\\n    # Create a marker event.\\n    create event InputRailsFinished\\n    event InputRailsFinished\\ncreate event UserMessage(text=$user_message)', 'is_system_flow': True, 'allow_multiple': True}, {'id': 'run dialog rails', 'elements': [{'_type': 'UserMessage', 'text': '...', '_source_mapping': {'filename': 'llm_flows.co', 'line_number': 27, 'line_text': 'event UserMessage(text=\"...\")', 'comment': \"Generate the user's intent based on the text.\"}}, {'_type': 'if', 'expression': '$generation_options and $generation_options.rails.dialog == False', '_source_mapping': {'filename': 'llm_flows.co', 'line_number': 30, 'line_text': 'if $generation_options and $generation_options.rails.dialog == False', 'comment': 'If the dialog_rails are disabled'}, '_next_else': 6}, {'_type': 'if', 'expression': '$generation_options.rails.output == False', '_source_mapping': {'filename': 'llm_flows.co', 'line_number': 32, 'line_text': 'if $generation_options.rails.output == False', 'comment': 'If the output rails are also disabled, we just return user message.'}, '_next_else': 3}, {'_type': 'run_action', 'action_name': 'create_event', 'action_params': {'event': {'_type': 'StartUtteranceBotAction', 'script': '$user_message'}}, '_source_mapping': {'filename': 'llm_flows.co', 'line_number': 33, 'line_text': 'create event StartUtteranceBotAction(script=$user_message)', 'comment': None}}, {'_type': 'jump', '_next': 2}, {'_type': 'run_action', 'action_name': 'create_event', 'action_params': {'event': {'_type': 'BotMessage', 'text': '$bot_message'}}, '_source_mapping': {'filename': 'llm_flows.co', 'line_number': 36, 'line_text': 'create event BotMessage(text=$bot_message)', 'comment': 'we take the $bot_message from context.'}}, {'_type': 'jump', '_next': 2}, {'_type': 'flow', 'flow_name': 'generate user intent', 'flow_parameters': {}, 'return_vars': [], '_source_mapping': {'filename': 'llm_flows.co', 'line_number': 39, 'line_text': 'do generate user intent', 'comment': 'If not, we continue the usual process'}}], 'source_code': 'event UserMessage(text=\"...\")\\n# If the dialog_rails are disabled\\nif $generation_options and $generation_options.rails.dialog == False\\n  # If the output rails are also disabled, we just return user message.\\n  if $generation_options.rails.output == False\\n    create event StartUtteranceBotAction(script=$user_message)\\n  else\\n    # we take the $bot_message from context.\\n    create event BotMessage(text=$bot_message)\\nelse\\n  # If not, we continue the usual process\\n  do generate user intent', 'is_system_flow': True}, {'id': 'generate user intent', 'elements': [{'_type': 'meta', 'meta': {'subflow': True}}, {'_type': 'run_action', 'action_name': 'generate_user_intent', 'action_params': {}, 'action_result_key': None, '_source_mapping': {'filename': 'llm_flows.co', 'line_number': 44, 'line_text': 'execute generate_user_intent', 'comment': 'Generates the user intent.'}}], 'source_code': 'execute generate_user_intent', 'is_system_flow': True, 'is_subflow': True}, {'id': 'run input rails', 'elements': [{'_type': 'meta', 'meta': {'subflow': True}}, {'_type': 'set', 'key': 'i', 'expression': '0', '_source_mapping': {'filename': 'llm_flows.co', 'line_number': 49, 'line_text': '$i = 0', 'comment': 'Runs all the input rails in a sequential order. '}}, {'_type': 'set', 'key': 'input_flows', 'expression': '$config.rails.input.flows', '_source_mapping': {'filename': 'llm_flows.co', 'line_number': 50, 'line_text': '$input_flows = $config.rails.input.flows', 'comment': None}}, {'_type': 'while', 'expression': '$i < len($input_flows)', '_source_mapping': {'filename': 'llm_flows.co', 'line_number': 51, 'line_text': 'while $i < len($input_flows)', 'comment': None}, '_next_on_break': 10}, {'_type': 'set', 'key': 'triggered_input_rail', 'expression': '$input_flows[$i]', '_source_mapping': {'filename': 'llm_flows.co', 'line_number': 53, 'line_text': '$triggered_input_rail = $input_flows[$i]', 'comment': 'We set the current rail as being triggered.'}, '_next_on_break': 9, '_next_on_continue': -1}, {'_type': 'run_action', 'action_name': 'create_event', 'action_params': {'event': {'_type': 'StartInputRail', 'flow_id': '$triggered_input_rail'}}, '_source_mapping': {'filename': 'llm_flows.co', 'line_number': 55, 'line_text': 'create event StartInputRail(flow_id=$triggered_input_rail)', 'comment': None}, '_next_on_break': 8, '_next_on_continue': -2}, {'_type': 'StartInputRail', '_source_mapping': {'filename': 'llm_flows.co', 'line_number': 56, 'line_text': 'event StartInputRail', 'comment': None}, '_next_on_break': 7, '_next_on_continue': -3}, {'_type': 'flow', 'flow_name': '$input_flows[$i]', 'flow_parameters': {}, 'return_vars': [], '_source_mapping': {'filename': 'llm_flows.co', 'line_number': 58, 'line_text': 'do $input_flows[$i]', 'comment': None}, '_next_on_break': 6, '_next_on_continue': -4}, {'_type': 'set', 'key': 'i', 'expression': '$i + 1', '_source_mapping': {'filename': 'llm_flows.co', 'line_number': 59, 'line_text': '$i = $i + 1', 'comment': None}, '_next_on_break': 5, '_next_on_continue': -5}, {'_type': 'run_action', 'action_name': 'create_event', 'action_params': {'event': {'_type': 'InputRailFinished', 'flow_id': '$triggered_input_rail'}}, '_source_mapping': {'filename': 'llm_flows.co', 'line_number': 61, 'line_text': 'create event InputRailFinished(flow_id=$triggered_input_rail)', 'comment': None}, '_next_on_break': 4, '_next_on_continue': -6}, {'_type': 'InputRailFinished', '_source_mapping': {'filename': 'llm_flows.co', 'line_number': 62, 'line_text': 'event InputRailFinished', 'comment': None}, '_next_on_break': 3, '_next_on_continue': -7}, {'_type': 'set', 'key': 'triggered_input_rail', 'expression': 'None', '_source_mapping': {'filename': 'llm_flows.co', 'line_number': 65, 'line_text': '$triggered_input_rail = None', 'comment': 'If all went smooth, we remove it.'}, '_next_on_break': 2, '_next_on_continue': -8}, {'_type': 'jump', '_next': -9}], 'source_code': '$i = 0\\n$input_flows = $config.rails.input.flows\\nwhile $i < len($input_flows)\\n  # We set the current rail as being triggered.\\n  $triggered_input_rail = $input_flows[$i]\\n  create event StartInputRail(flow_id=$triggered_input_rail)\\n  event StartInputRail\\n  do $input_flows[$i]\\n  $i = $i + 1\\n  create event InputRailFinished(flow_id=$triggered_input_rail)\\n  event InputRailFinished\\n  # If all went smooth, we remove it.\\n  $triggered_input_rail = None', 'is_system_flow': True, 'is_subflow': True}, {'id': 'generate next step', 'elements': [{'_type': 'meta', 'meta': {'priority': 0.9}}, {'_type': 'UserIntent', 'intent_name': '...', 'intent_params': {}, '_source_mapping': {'filename': 'llm_flows.co', 'line_number': 77, 'line_text': 'user ...', 'comment': None}}, {'_type': 'run_action', 'action_name': 'generate_next_step', 'action_params': {}, 'action_result_key': None, '_source_mapping': {'filename': 'llm_flows.co', 'line_number': 78, 'line_text': 'execute generate_next_step', 'comment': None}}], 'source_code': 'user ...\\nexecute generate_next_step', 'is_system_flow': True, 'priority': 0.9}, {'id': 'generate bot message', 'elements': [{'_type': 'meta', 'meta': {'is_extension': True, 'allow_multiple': True, 'priority': 100}}, {'_type': 'run_action', 'action_name': 'utter', 'action_params': {'value': '...'}, '_source_mapping': {'filename': 'llm_flows.co', 'line_number': 88, 'line_text': 'bot ...', 'comment': None}}, {'_type': 'run_action', 'action_name': 'retrieve_relevant_chunks', 'action_params': {}, 'action_result_key': None, '_source_mapping': {'filename': 'llm_flows.co', 'line_number': 89, 'line_text': 'execute retrieve_relevant_chunks', 'comment': None}}, {'_type': 'if', 'expression': '$config.rails.retrieval.flows', '_source_mapping': {'filename': 'llm_flows.co', 'line_number': 92, 'line_text': 'if $config.rails.retrieval.flows', 'comment': 'If we have any retrieval rails, we run them.'}, '_next_else': 3}, {'_type': 'if', 'expression': '$generation_options is None or $generation_options.rails.retrieval', '_source_mapping': {'filename': 'llm_flows.co', 'line_number': 94, 'line_text': 'if $generation_options is None or $generation_options.rails.retrieval:', 'comment': 'If we have generation options, we make sure the retrieval rails are enabled.'}, '_next_else': 2}, {'_type': 'flow', 'flow_name': 'run retrieval rails', 'flow_parameters': {}, 'return_vars': [], '_source_mapping': {'filename': 'llm_flows.co', 'line_number': 95, 'line_text': 'do run retrieval rails', 'comment': None}}, {'_type': 'run_action', 'action_name': 'generate_bot_message', 'action_params': {}, 'action_result_key': None, '_source_mapping': {'filename': 'llm_flows.co', 'line_number': 98, 'line_text': 'execute generate_bot_message', 'comment': '$output_rails_enabled = True'}}], 'source_code': 'bot ...\\nexecute retrieve_relevant_chunks\\n# If we have any retrieval rails, we run them.\\nif $config.rails.retrieval.flows\\n  # If we have generation options, we make sure the retrieval rails are enabled.\\n  if $generation_options is None or $generation_options.rails.retrieval:\\n    do run retrieval rails\\n# $output_rails_enabled = True\\nexecute generate_bot_message', 'is_system_flow': True, 'priority': 100, 'is_extension': True, 'allow_multiple': True}, {'id': 'process bot message', 'elements': [{'_type': 'meta', 'meta': {'is_extension': True, 'allow_multiple': True, 'priority': 100}}, {'_type': 'BotMessage', '_source_mapping': {'filename': 'llm_flows.co', 'line_number': 105, 'line_text': 'event BotMessage', 'comment': None}}, {'_type': 'set', 'key': 'bot_message', 'expression': '$event.text', '_source_mapping': {'filename': 'llm_flows.co', 'line_number': 107, 'line_text': '$bot_message = $event.text', 'comment': None}}, {'_type': 'if', 'expression': '$skip_output_rails', '_source_mapping': {'filename': 'llm_flows.co', 'line_number': 109, 'line_text': 'if $skip_output_rails', 'comment': None}, '_next_else': 3}, {'_type': 'set', 'key': 'skip_output_rails', 'expression': 'False', '_source_mapping': {'filename': 'llm_flows.co', 'line_number': 110, 'line_text': '$skip_output_rails = False', 'comment': None}}, {'_type': 'jump', '_next': 8}, {'_type': 'if', 'expression': '$config.rails.output.flows', '_source_mapping': {'filename': 'llm_flows.co', 'line_number': 113, 'line_text': 'if $config.rails.output.flows', 'comment': 'If we have any output flows, we run them.'}, '_next_else': 7}, {'_type': 'if', 'expression': '$generation_options is None or $generation_options.rails.output', '_source_mapping': {'filename': 'llm_flows.co', 'line_number': 115, 'line_text': 'if $generation_options is None or $generation_options.rails.output:', 'comment': 'If we have generation options, we make sure the output rails are enabled.'}, '_next_else': 6}, {'_type': 'run_action', 'action_name': 'create_event', 'action_params': {'event': {'_type': 'StartOutputRails'}}, '_source_mapping': {'filename': 'llm_flows.co', 'line_number': 117, 'line_text': 'create event StartOutputRails', 'comment': 'Create a marker event.'}}, {'_type': 'StartOutputRails', '_source_mapping': {'filename': 'llm_flows.co', 'line_number': 118, 'line_text': 'event StartOutputRails', 'comment': None}}, {'_type': 'flow', 'flow_name': 'run output rails', 'flow_parameters': {}, 'return_vars': [], '_source_mapping': {'filename': 'llm_flows.co', 'line_number': 122, 'line_text': 'do run output rails', 'comment': 'Run all the output rails\\nThis can potentially alter the $user_message'}}, {'_type': 'run_action', 'action_name': 'create_event', 'action_params': {'event': {'_type': 'OutputRailsFinished'}}, '_source_mapping': {'filename': 'llm_flows.co', 'line_number': 125, 'line_text': 'create event OutputRailsFinished', 'comment': 'Create a marker event.'}}, {'_type': 'OutputRailsFinished', '_source_mapping': {'filename': 'llm_flows.co', 'line_number': 126, 'line_text': 'event OutputRailsFinished', 'comment': None}}, {'_type': 'run_action', 'action_name': 'create_event', 'action_params': {'event': {'_type': 'StartUtteranceBotAction', 'script': '$bot_message'}}, '_source_mapping': {'filename': 'llm_flows.co', 'line_number': 128, 'line_text': 'create event StartUtteranceBotAction(script=$bot_message)', 'comment': None}}], 'source_code': 'event BotMessage\\n$bot_message = $event.text\\nif $skip_output_rails\\n  $skip_output_rails = False\\nelse\\n  # If we have any output flows, we run them.\\n  if $config.rails.output.flows\\n    # If we have generation options, we make sure the output rails are enabled.\\n    if $generation_options is None or $generation_options.rails.output:\\n      # Create a marker event.\\n      create event StartOutputRails\\n      event StartOutputRails\\n      # Run all the output rails\\n      # This can potentially alter the $user_message\\n      do run output rails\\n      # Create a marker event.\\n      create event OutputRailsFinished\\n      event OutputRailsFinished\\ncreate event StartUtteranceBotAction(script=$bot_message)', 'is_system_flow': True, 'priority': 100, 'is_extension': True, 'allow_multiple': True}, {'id': 'run output rails', 'elements': [{'_type': 'meta', 'meta': {'subflow': True}}, {'_type': 'set', 'key': 'i', 'expression': '0', '_source_mapping': {'filename': 'llm_flows.co', 'line_number': 133, 'line_text': '$i = 0', 'comment': 'Runs all the output rails in a sequential order. '}}, {'_type': 'set', 'key': 'output_flows', 'expression': '$config.rails.output.flows', '_source_mapping': {'filename': 'llm_flows.co', 'line_number': 134, 'line_text': '$output_flows = $config.rails.output.flows', 'comment': None}}, {'_type': 'while', 'expression': '$i < len($output_flows)', '_source_mapping': {'filename': 'llm_flows.co', 'line_number': 135, 'line_text': 'while $i < len($output_flows)', 'comment': None}, '_next_on_break': 10}, {'_type': 'set', 'key': 'triggered_output_rail', 'expression': '$output_flows[$i]', '_source_mapping': {'filename': 'llm_flows.co', 'line_number': 137, 'line_text': '$triggered_output_rail = $output_flows[$i]', 'comment': 'We set the current rail as being triggered.'}, '_next_on_break': 9, '_next_on_continue': -1}, {'_type': 'run_action', 'action_name': 'create_event', 'action_params': {'event': {'_type': 'StartOutputRail', 'flow_id': '$triggered_output_rail'}}, '_source_mapping': {'filename': 'llm_flows.co', 'line_number': 139, 'line_text': 'create event StartOutputRail(flow_id=$triggered_output_rail)', 'comment': None}, '_next_on_break': 8, '_next_on_continue': -2}, {'_type': 'StartOutputRail', '_source_mapping': {'filename': 'llm_flows.co', 'line_number': 140, 'line_text': 'event StartOutputRail', 'comment': None}, '_next_on_break': 7, '_next_on_continue': -3}, {'_type': 'flow', 'flow_name': '$output_flows[$i]', 'flow_parameters': {}, 'return_vars': [], '_source_mapping': {'filename': 'llm_flows.co', 'line_number': 142, 'line_text': 'do $output_flows[$i]', 'comment': None}, '_next_on_break': 6, '_next_on_continue': -4}, {'_type': 'set', 'key': 'i', 'expression': '$i + 1', '_source_mapping': {'filename': 'llm_flows.co', 'line_number': 143, 'line_text': '$i = $i + 1', 'comment': None}, '_next_on_break': 5, '_next_on_continue': -5}, {'_type': 'run_action', 'action_name': 'create_event', 'action_params': {'event': {'_type': 'OutputRailFinished', 'flow_id': '$triggered_output_rail'}}, '_source_mapping': {'filename': 'llm_flows.co', 'line_number': 145, 'line_text': 'create event OutputRailFinished(flow_id=$triggered_output_rail)', 'comment': None}, '_next_on_break': 4, '_next_on_continue': -6}, {'_type': 'OutputRailFinished', '_source_mapping': {'filename': 'llm_flows.co', 'line_number': 146, 'line_text': 'event OutputRailFinished', 'comment': None}, '_next_on_break': 3, '_next_on_continue': -7}, {'_type': 'set', 'key': 'triggered_output_rail', 'expression': 'None', '_source_mapping': {'filename': 'llm_flows.co', 'line_number': 149, 'line_text': '$triggered_output_rail = None', 'comment': 'If all went smooth, we remove it.'}, '_next_on_break': 2, '_next_on_continue': -8}, {'_type': 'jump', '_next': -9}], 'source_code': '$i = 0\\n$output_flows = $config.rails.output.flows\\nwhile $i < len($output_flows)\\n  # We set the current rail as being triggered.\\n  $triggered_output_rail = $output_flows[$i]\\n  create event StartOutputRail(flow_id=$triggered_output_rail)\\n  event StartOutputRail\\n  do $output_flows[$i]\\n  $i = $i + 1\\n  create event OutputRailFinished(flow_id=$triggered_output_rail)\\n  event OutputRailFinished\\n  # If all went smooth, we remove it.\\n  $triggered_output_rail = None', 'is_system_flow': True, 'is_subflow': True}, {'id': 'run retrieval rails', 'elements': [{'_type': 'meta', 'meta': {'subflow': True}}, {'_type': 'set', 'key': 'i', 'expression': '0', '_source_mapping': {'filename': 'llm_flows.co', 'line_number': 154, 'line_text': '$i = 0', 'comment': 'Runs all the retrieval rails in a sequential order. '}}, {'_type': 'set', 'key': 'retrieval_flows', 'expression': '$config.rails.retrieval.flows', '_source_mapping': {'filename': 'llm_flows.co', 'line_number': 155, 'line_text': '$retrieval_flows = $config.rails.retrieval.flows', 'comment': None}}, {'_type': 'while', 'expression': '$i < len($retrieval_flows)', '_source_mapping': {'filename': 'llm_flows.co', 'line_number': 156, 'line_text': 'while $i < len($retrieval_flows)', 'comment': None}, '_next_on_break': 4}, {'_type': 'flow', 'flow_name': '$retrieval_flows[$i]', 'flow_parameters': {}, 'return_vars': [], '_source_mapping': {'filename': 'llm_flows.co', 'line_number': 157, 'line_text': 'do $retrieval_flows[$i]', 'comment': None}, '_next_on_break': 3, '_next_on_continue': -1}, {'_type': 'set', 'key': 'i', 'expression': '$i + 1', '_source_mapping': {'filename': 'llm_flows.co', 'line_number': 158, 'line_text': '$i = $i + 1', 'comment': None}, '_next_on_break': 2, '_next_on_continue': -2}, {'_type': 'jump', '_next': -3}], 'source_code': '$i = 0\\n$retrieval_flows = $config.rails.retrieval.flows\\nwhile $i < len($retrieval_flows)\\n  do $retrieval_flows[$i]\\n  $i = $i + 1', 'is_system_flow': True, 'is_subflow': True}, {'id': 'llama guard check input', 'elements': [{'_type': 'run_action', 'action_name': 'llama_guard_check_input', 'action_params': {}, 'action_result_key': 'llama_guard_response', '_source_mapping': {'filename': 'flows.v1.co', 'line_number': 5, 'line_text': '$llama_guard_response = execute llama_guard_check_input', 'comment': None}}, {'_type': 'set', 'key': 'allowed', 'expression': '$llama_guard_response[\"allowed\"]', '_source_mapping': {'filename': 'flows.v1.co', 'line_number': 6, 'line_text': '$allowed = $llama_guard_response[\"allowed\"]', 'comment': None}}, {'_type': 'set', 'key': 'llama_guard_policy_violations', 'expression': '$llama_guard_response[\"policy_violations\"]', '_source_mapping': {'filename': 'flows.v1.co', 'line_number': 8, 'line_text': '$llama_guard_policy_violations = $llama_guard_response[\"policy_violations\"]', 'comment': 'Policy violations are currently unused, but can be used to better phrase the bot output'}}, {'_type': 'if', 'expression': 'not $allowed', '_source_mapping': {'filename': 'flows.v1.co', 'line_number': 10, 'line_text': 'if not $allowed', 'comment': None}, '_next_else': 6}, {'_type': 'if', 'expression': '$config.enable_rails_exceptions', '_source_mapping': {'filename': 'flows.v1.co', 'line_number': 11, 'line_text': 'if $config.enable_rails_exceptions', 'comment': None}, '_next_else': 3}, {'_type': 'run_action', 'action_name': 'create_event', 'action_params': {'event': {'_type': 'LlamaGuardInputRailException', 'message': \"Input not allowed. The input was blocked by the 'llama guard check input' flow. Please ensure your input meets the required criteria.\"}}, '_source_mapping': {'filename': 'flows.v1.co', 'line_number': 12, 'line_text': 'create event LlamaGuardInputRailException(message=\"Input not allowed. The input was blocked by the \\'llama guard check input\\' flow. Please ensure your input meets the required criteria.\")', 'comment': None}}, {'_type': 'jump', '_next': 2}, {'_type': 'run_action', 'action_name': 'utter', 'action_params': {'value': 'refuse to respond'}, '_source_mapping': {'filename': 'flows.v1.co', 'line_number': 14, 'line_text': 'bot refuse to respond', 'comment': None}}, {'_type': 'run_action', 'action_name': 'utter', 'action_params': {'value': 'stop'}, '_source_mapping': {'filename': 'flows.v1.co', 'line_number': 15, 'line_text': 'stop', 'comment': None}}], 'source_code': '$llama_guard_response = execute llama_guard_check_input\\n$allowed = $llama_guard_response[\"allowed\"]\\n# Policy violations are currently unused, but can be used to better phrase the bot output\\n$llama_guard_policy_violations = $llama_guard_response[\"policy_violations\"]\\nif not $allowed\\n  if $config.enable_rails_exceptions\\n    create event LlamaGuardInputRailException(message=\"Input not allowed. The input was blocked by the \\'llama guard check input\\' flow. Please ensure your input meets the required criteria.\")\\n  else\\n    bot refuse to respond\\n  stop', 'is_system_flow': True}, {'id': 'llama guard check output', 'elements': [{'_type': 'run_action', 'action_name': 'llama_guard_check_output', 'action_params': {}, 'action_result_key': 'llama_guard_response', '_source_mapping': {'filename': 'flows.v1.co', 'line_number': 18, 'line_text': '$llama_guard_response = execute llama_guard_check_output', 'comment': None}}, {'_type': 'set', 'key': 'allowed', 'expression': '$llama_guard_response[\"allowed\"]', '_source_mapping': {'filename': 'flows.v1.co', 'line_number': 19, 'line_text': '$allowed = $llama_guard_response[\"allowed\"]', 'comment': None}}, {'_type': 'set', 'key': 'llama_guard_policy_violations', 'expression': '$llama_guard_response[\"policy_violations\"]', '_source_mapping': {'filename': 'flows.v1.co', 'line_number': 20, 'line_text': '$llama_guard_policy_violations = $llama_guard_response[\"policy_violations\"]', 'comment': None}}, {'_type': 'if', 'expression': 'not $allowed', '_source_mapping': {'filename': 'flows.v1.co', 'line_number': 22, 'line_text': 'if not $allowed', 'comment': None}, '_next_else': 6}, {'_type': 'if', 'expression': '$config.enable_rails_exceptions', '_source_mapping': {'filename': 'flows.v1.co', 'line_number': 23, 'line_text': 'if $config.enable_rails_exceptions', 'comment': None}, '_next_else': 3}, {'_type': 'run_action', 'action_name': 'create_event', 'action_params': {'event': {'_type': 'LlamaGuardOutputRailException', 'message': \"Output not allowed. The output was blocked by the 'llama guard check output' flow. Please ensure your output meets the required criteria.\"}}, '_source_mapping': {'filename': 'flows.v1.co', 'line_number': 24, 'line_text': 'create event LlamaGuardOutputRailException(message=\"Output not allowed. The output was blocked by the \\'llama guard check output\\' flow. Please ensure your output meets the required criteria.\")', 'comment': None}}, {'_type': 'jump', '_next': 2}, {'_type': 'run_action', 'action_name': 'utter', 'action_params': {'value': 'refuse to respond'}, '_source_mapping': {'filename': 'flows.v1.co', 'line_number': 26, 'line_text': 'bot refuse to respond', 'comment': None}}, {'_type': 'run_action', 'action_name': 'utter', 'action_params': {'value': 'stop'}, '_source_mapping': {'filename': 'flows.v1.co', 'line_number': 27, 'line_text': 'stop', 'comment': None}}], 'source_code': '$llama_guard_response = execute llama_guard_check_output\\n$allowed = $llama_guard_response[\"allowed\"]\\n$llama_guard_policy_violations = $llama_guard_response[\"policy_violations\"]\\nif not $allowed\\n  if $config.enable_rails_exceptions\\n    create event LlamaGuardOutputRailException(message=\"Output not allowed. The output was blocked by the \\'llama guard check output\\' flow. Please ensure your output meets the required criteria.\")\\n  else\\n    bot refuse to respond\\n  stop', 'is_system_flow': True}, {'id': 'alignscore check facts', 'elements': [{'_type': 'meta', 'meta': {'subflow': True}}, {'_type': 'if', 'expression': '$check_facts == True', '_source_mapping': {'filename': 'flows.v1.co', 'line_number': 7, 'line_text': 'if $check_facts == True', 'comment': 'Check if the previous answer is accurate w.r.t. the relevant chunks.\\nThis output rail must be enabled explicitly per output message by setting\\nthe $check_facts context variable to True.\\n'}, '_next_else': 9}, {'_type': 'set', 'key': 'check_facts', 'expression': 'False', '_source_mapping': {'filename': 'flows.v1.co', 'line_number': 8, 'line_text': '$check_facts = False', 'comment': None}}, {'_type': 'run_action', 'action_name': 'alignscore_check_facts', 'action_params': {}, 'action_result_key': 'accuracy', '_source_mapping': {'filename': 'flows.v1.co', 'line_number': 10, 'line_text': '$accuracy = execute alignscore_check_facts', 'comment': None}}, {'_type': 'if', 'expression': '$accuracy < 0.5', '_source_mapping': {'filename': 'flows.v1.co', 'line_number': 11, 'line_text': 'if $accuracy < 0.5', 'comment': None}, '_next_else': 6}, {'_type': 'if', 'expression': '$config.enable_rails_exceptions', '_source_mapping': {'filename': 'flows.v1.co', 'line_number': 12, 'line_text': 'if $config.enable_rails_exceptions', 'comment': None}, '_next_else': 3}, {'_type': 'run_action', 'action_name': 'create_event', 'action_params': {'event': {'_type': 'AlignScoreCheckFactRailException', 'message': 'Fact check failed. The accuracy of the previous answer was below the required threshold.'}}, '_source_mapping': {'filename': 'flows.v1.co', 'line_number': 13, 'line_text': 'create event AlignScoreCheckFactRailException(message=\"Fact check failed. The accuracy of the previous answer was below the required threshold.\")', 'comment': None}}, {'_type': 'jump', '_next': 2}, {'_type': 'run_action', 'action_name': 'utter', 'action_params': {'value': 'inform answer unknown'}, '_source_mapping': {'filename': 'flows.v1.co', 'line_number': 15, 'line_text': 'bot inform answer unknown', 'comment': None}}, {'_type': 'run_action', 'action_name': 'utter', 'action_params': {'value': 'stop'}, '_source_mapping': {'filename': 'flows.v1.co', 'line_number': 16, 'line_text': 'stop', 'comment': None}}], 'source_code': 'if $check_facts == True\\n  $check_facts = False\\n  $accuracy = execute alignscore_check_facts\\n  if $accuracy < 0.5\\n    if $config.enable_rails_exceptions\\n      create event AlignScoreCheckFactRailException(message=\"Fact check failed. The accuracy of the previous answer was below the required threshold.\")\\n    else\\n      bot inform answer unknown\\n    stop', 'is_system_flow': True, 'is_subflow': True}, {'id': 'autoalign check input', 'elements': [{'_type': 'meta', 'meta': {'subflow': True}}, {'_type': 'run_action', 'action_name': 'autoalign_input_api', 'action_params': {'show_autoalign_message': True}, 'action_result_key': 'input_result', '_source_mapping': {'filename': 'flows.v1.co', 'line_number': 2, 'line_text': '$input_result = execute autoalign_input_api(show_autoalign_message=True)', 'comment': None}}, {'_type': 'if', 'expression': '$input_result[\"guardrails_triggered\"]', '_source_mapping': {'filename': 'flows.v1.co', 'line_number': 3, 'line_text': 'if $input_result[\"guardrails_triggered\"]', 'comment': None}, '_next_else': 8}, {'_type': 'set', 'key': 'autoalign_input_response', 'expression': \"$input_result['combined_response']\", '_source_mapping': {'filename': 'flows.v1.co', 'line_number': 4, 'line_text': \"$autoalign_input_response = $input_result['combined_response']\", 'comment': None}}, {'_type': 'if', 'expression': '$config.enable_rails_exceptions', '_source_mapping': {'filename': 'flows.v1.co', 'line_number': 5, 'line_text': 'if $config.enable_rails_exceptions', 'comment': None}, '_next_else': 3}, {'_type': 'run_action', 'action_name': 'create_event', 'action_params': {'event': {'_type': 'AutoAlignInputRailException', 'message': 'AutoAlign input guardrail triggered'}}, '_source_mapping': {'filename': 'flows.v1.co', 'line_number': 6, 'line_text': 'create event AutoAlignInputRailException(message=\"AutoAlign input guardrail triggered\")', 'comment': None}}, {'_type': 'jump', '_next': 2}, {'_type': 'run_action', 'action_name': 'utter', 'action_params': {'value': 'refuse to respond'}, '_source_mapping': {'filename': 'flows.v1.co', 'line_number': 8, 'line_text': 'bot refuse to respond', 'comment': None}}, {'_type': 'run_action', 'action_name': 'utter', 'action_params': {'value': 'stop'}, '_source_mapping': {'filename': 'flows.v1.co', 'line_number': 9, 'line_text': 'stop', 'comment': None}}, {'_type': 'jump', '_next': 3}, {'_type': 'if', 'expression': '$input_result[\"pii_fast\"] and $input_result[\"pii_fast\"][\"guarded\"]', '_source_mapping': {'filename': 'flows.v1.co', 'line_number': 10, 'line_text': 'else if $input_result[\"pii_fast\"] and $input_result[\"pii_fast\"][\"guarded\"]:', 'comment': None}, '_next_else': 2}, {'_type': 'set', 'key': 'user_message', 'expression': '$input_result[\"pii_fast\"][\"response\"]', '_source_mapping': {'filename': 'flows.v1.co', 'line_number': 11, 'line_text': '$user_message = $input_result[\"pii_fast\"][\"response\"]', 'comment': None}}], 'source_code': '$input_result = execute autoalign_input_api(show_autoalign_message=True)\\nif $input_result[\"guardrails_triggered\"]\\n  $autoalign_input_response = $input_result[\\'combined_response\\']\\n  if $config.enable_rails_exceptions\\n    create event AutoAlignInputRailException(message=\"AutoAlign input guardrail triggered\")\\n  else\\n    bot refuse to respond\\n  stop\\nelse if $input_result[\"pii_fast\"] and $input_result[\"pii_fast\"][\"guarded\"]:\\n  $user_message = $input_result[\"pii_fast\"][\"response\"]', 'is_system_flow': True, 'is_subflow': True}, {'id': 'autoalign check output', 'elements': [{'_type': 'meta', 'meta': {'subflow': True}}, {'_type': 'run_action', 'action_name': 'autoalign_output_api', 'action_params': {'show_autoalign_message': True}, 'action_result_key': 'output_result', '_source_mapping': {'filename': 'flows.v1.co', 'line_number': 14, 'line_text': '$output_result = execute autoalign_output_api(show_autoalign_message=True)', 'comment': None}}, {'_type': 'if', 'expression': '$output_result[\"guardrails_triggered\"]', '_source_mapping': {'filename': 'flows.v1.co', 'line_number': 15, 'line_text': 'if $output_result[\"guardrails_triggered\"]', 'comment': None}, '_next_else': 7}, {'_type': 'if', 'expression': '$config.enable_rails_exceptions', '_source_mapping': {'filename': 'flows.v1.co', 'line_number': 16, 'line_text': 'if $config.enable_rails_exceptions', 'comment': None}, '_next_else': 3}, {'_type': 'run_action', 'action_name': 'create_event', 'action_params': {'event': {'_type': 'AutoAlignOutputRailException', 'message': 'AutoAlign guardrail triggered'}}, '_source_mapping': {'filename': 'flows.v1.co', 'line_number': 17, 'line_text': 'create event AutoAlignOutputRailException(message=\"AutoAlign guardrail triggered\")', 'comment': None}}, {'_type': 'jump', '_next': 2}, {'_type': 'run_action', 'action_name': 'utter', 'action_params': {'value': 'refuse to respond'}, '_source_mapping': {'filename': 'flows.v1.co', 'line_number': 19, 'line_text': 'bot refuse to respond', 'comment': None}}, {'_type': 'run_action', 'action_name': 'utter', 'action_params': {'value': 'stop'}, '_source_mapping': {'filename': 'flows.v1.co', 'line_number': 20, 'line_text': 'stop', 'comment': None}}, {'_type': 'jump', '_next': 4}, {'_type': 'set', 'key': 'pii_message_output', 'expression': '$output_result[\"pii_fast\"][\"response\"]', '_source_mapping': {'filename': 'flows.v1.co', 'line_number': 22, 'line_text': '$pii_message_output = $output_result[\"pii_fast\"][\"response\"]', 'comment': None}}, {'_type': 'if', 'expression': '$output_result[\"pii_fast\"][\"guarded\"]', '_source_mapping': {'filename': 'flows.v1.co', 'line_number': 23, 'line_text': 'if $output_result[\"pii_fast\"][\"guarded\"]', 'comment': None}, '_next_else': 2}, {'_type': 'set', 'key': 'bot_message', 'expression': '$pii_message_output', '_source_mapping': {'filename': 'flows.v1.co', 'line_number': 24, 'line_text': '$bot_message = $pii_message_output', 'comment': None}}], 'source_code': '$output_result = execute autoalign_output_api(show_autoalign_message=True)\\nif $output_result[\"guardrails_triggered\"]\\n  if $config.enable_rails_exceptions\\n    create event AutoAlignOutputRailException(message=\"AutoAlign guardrail triggered\")\\n  else\\n    bot refuse to respond\\n  stop\\nelse\\n  $pii_message_output = $output_result[\"pii_fast\"][\"response\"]\\n  if $output_result[\"pii_fast\"][\"guarded\"]\\n    $bot_message = $pii_message_output', 'is_system_flow': True, 'is_subflow': True}, {'id': 'autoalign factcheck output', 'elements': [{'_type': 'meta', 'meta': {'subflow': True}}, {'_type': 'if', 'expression': '$check_facts == True', '_source_mapping': {'filename': 'flows.v1.co', 'line_number': 27, 'line_text': 'if $check_facts == True', 'comment': None}, '_next_else': 5}, {'_type': 'set', 'key': 'check_facts', 'expression': 'False', '_source_mapping': {'filename': 'flows.v1.co', 'line_number': 28, 'line_text': '$check_facts = False', 'comment': None}}, {'_type': 'set', 'key': 'threshold', 'expression': '0.5', '_source_mapping': {'filename': 'flows.v1.co', 'line_number': 29, 'line_text': '$threshold = 0.5', 'comment': None}}, {'_type': 'run_action', 'action_name': 'autoalign_factcheck_output_api', 'action_params': {'factcheck_threshold': '$threshold', 'show_autoalign_message': True}, 'action_result_key': 'output_result', '_source_mapping': {'filename': 'flows.v1.co', 'line_number': 30, 'line_text': '$output_result = execute autoalign_factcheck_output_api(factcheck_threshold=$threshold, show_autoalign_message=True)', 'comment': None}}, {'_type': 'run_action', 'action_name': 'utter', 'action_params': {'value': 'provide response'}, '_source_mapping': {'filename': 'flows.v1.co', 'line_number': 31, 'line_text': 'bot provide response', 'comment': None}}], 'source_code': 'if $check_facts == True\\n  $check_facts = False\\n  $threshold = 0.5\\n  $output_result = execute autoalign_factcheck_output_api(factcheck_threshold=$threshold, show_autoalign_message=True)\\n  bot provide response', 'is_system_flow': True, 'is_subflow': True}, {'id': 'cleanlab trustworthiness', 'elements': [{'_type': 'meta', 'meta': {'subflow': True}}, {'_type': 'run_action', 'action_name': 'call cleanlab api', 'action_params': {}, 'action_result_key': 'result', '_source_mapping': {'filename': 'flows.v1.co', 'line_number': 10, 'line_text': '$result = execute call cleanlab api', 'comment': 'Guardrail based on the trustworthiness score.'}}, {'_type': 'if', 'expression': '$result.trustworthiness_score < 0.6', '_source_mapping': {'filename': 'flows.v1.co', 'line_number': 12, 'line_text': 'if $result.trustworthiness_score < 0.6', 'comment': None}, '_next_else': 6}, {'_type': 'if', 'expression': '$config.enable_rails_exceptions', '_source_mapping': {'filename': 'flows.v1.co', 'line_number': 13, 'line_text': 'if $config.enable_rails_exceptions', 'comment': None}, '_next_else': 3}, {'_type': 'run_action', 'action_name': 'create_event', 'action_params': {'event': {'_type': 'CleanlabTrustworthinessRailException', 'message': 'Trustworthiness score is below threshold'}}, '_source_mapping': {'filename': 'flows.v1.co', 'line_number': 14, 'line_text': 'create event CleanlabTrustworthinessRailException(message=\"Trustworthiness score is below threshold\")', 'comment': None}}, {'_type': 'jump', '_next': 2}, {'_type': 'run_action', 'action_name': 'utter', 'action_params': {'value': 'response untrustworthy'}, '_source_mapping': {'filename': 'flows.v1.co', 'line_number': 16, 'line_text': 'bot response untrustworthy', 'comment': None}}, {'_type': 'run_action', 'action_name': 'utter', 'action_params': {'value': 'stop'}, '_source_mapping': {'filename': 'flows.v1.co', 'line_number': 17, 'line_text': 'stop', 'comment': None}}], 'source_code': '$result = execute call cleanlab api\\nif $result.trustworthiness_score < 0.6\\n  if $config.enable_rails_exceptions\\n    create event CleanlabTrustworthinessRailException(message=\"Trustworthiness score is below threshold\")\\n  else\\n    bot response untrustworthy\\n  stop', 'is_system_flow': True, 'is_subflow': True}, {'id': 'jailbreak detection heuristics', 'elements': [{'_type': 'meta', 'meta': {'subflow': True}}, {'_type': 'run_action', 'action_name': 'jailbreak_detection_heuristics', 'action_params': {}, 'action_result_key': 'is_jailbreak', '_source_mapping': {'filename': 'flows.v1.co', 'line_number': 8, 'line_text': '$is_jailbreak = execute jailbreak_detection_heuristics', 'comment': \"\\nHeuristic checks to assess whether the user's prompt is an attempted jailbreak.\\n\"}}, {'_type': 'if', 'expression': '$is_jailbreak', '_source_mapping': {'filename': 'flows.v1.co', 'line_number': 10, 'line_text': 'if $is_jailbreak', 'comment': None}, '_next_else': 6}, {'_type': 'if', 'expression': '$config.enable_rails_exceptions', '_source_mapping': {'filename': 'flows.v1.co', 'line_number': 11, 'line_text': 'if $config.enable_rails_exceptions', 'comment': None}, '_next_else': 3}, {'_type': 'run_action', 'action_name': 'create_event', 'action_params': {'event': {'_type': 'JailbreakDetectionRailException', 'message': \"Jailbreak attempt detected. The user's prompt was identified as an attempted jailbreak. Please ensure your prompt adheres to the guidelines.\"}}, '_source_mapping': {'filename': 'flows.v1.co', 'line_number': 12, 'line_text': 'create event JailbreakDetectionRailException(message=\"Jailbreak attempt detected. The user\\'s prompt was identified as an attempted jailbreak. Please ensure your prompt adheres to the guidelines.\")', 'comment': None}}, {'_type': 'jump', '_next': 2}, {'_type': 'run_action', 'action_name': 'utter', 'action_params': {'value': 'refuse to respond'}, '_source_mapping': {'filename': 'flows.v1.co', 'line_number': 14, 'line_text': 'bot refuse to respond', 'comment': None}}, {'_type': 'run_action', 'action_name': 'utter', 'action_params': {'value': 'stop'}, '_source_mapping': {'filename': 'flows.v1.co', 'line_number': 15, 'line_text': 'stop', 'comment': None}}], 'source_code': '$is_jailbreak = execute jailbreak_detection_heuristics\\nif $is_jailbreak\\n  if $config.enable_rails_exceptions\\n    create event JailbreakDetectionRailException(message=\"Jailbreak attempt detected. The user\\'s prompt was identified as an attempted jailbreak. Please ensure your prompt adheres to the guidelines.\")\\n  else\\n    bot refuse to respond\\n  stop', 'is_system_flow': True, 'is_subflow': True}, {'id': 'gotitai rag truthcheck', 'elements': [{'_type': 'meta', 'meta': {'subflow': True}}, {'_type': 'if', 'expression': '$check_facts == True', '_source_mapping': {'filename': 'flows.v1.co', 'line_number': 3, 'line_text': 'if $check_facts == True', 'comment': 'Guardrail based on the maximum risk score.'}, '_next_else': 9}, {'_type': 'set', 'key': 'check_facts', 'expression': 'False', '_source_mapping': {'filename': 'flows.v1.co', 'line_number': 4, 'line_text': '$check_facts = False', 'comment': None}}, {'_type': 'run_action', 'action_name': 'call gotitai truthchecker api', 'action_params': {}, 'action_result_key': 'result', '_source_mapping': {'filename': 'flows.v1.co', 'line_number': 6, 'line_text': '$result = execute call gotitai truthchecker api', 'comment': None}}, {'_type': 'if', 'expression': '$result.hallucination == \"yes\"', '_source_mapping': {'filename': 'flows.v1.co', 'line_number': 8, 'line_text': 'if $result.hallucination == \"yes\"', 'comment': None}, '_next_else': 6}, {'_type': 'if', 'expression': '$config.enable_rails_exceptions', '_source_mapping': {'filename': 'flows.v1.co', 'line_number': 9, 'line_text': 'if $config.enable_rails_exceptions', 'comment': None}, '_next_else': 3}, {'_type': 'run_action', 'action_name': 'create_event', 'action_params': {'event': {'_type': 'GotitaiHallucinationRailException', 'message': 'Hallucination detected. The previous answer may not be accurate'}}, '_source_mapping': {'filename': 'flows.v1.co', 'line_number': 10, 'line_text': 'create event GotitaiHallucinationRailException(message=\"Hallucination detected. The previous answer may not be accurate\")', 'comment': None}}, {'_type': 'jump', '_next': 2}, {'_type': 'run_action', 'action_name': 'utter', 'action_params': {'value': 'inform answer unknown'}, '_source_mapping': {'filename': 'flows.v1.co', 'line_number': 12, 'line_text': 'bot inform answer unknown', 'comment': None}}, {'_type': 'run_action', 'action_name': 'utter', 'action_params': {'value': 'stop'}, '_source_mapping': {'filename': 'flows.v1.co', 'line_number': 13, 'line_text': 'stop', 'comment': None}}], 'source_code': 'if $check_facts == True\\n  $check_facts = False\\n  $result = execute call gotitai truthchecker api\\n  if $result.hallucination == \"yes\"\\n    if $config.enable_rails_exceptions\\n      create event GotitaiHallucinationRailException(message=\"Hallucination detected. The previous answer may not be accurate\")\\n    else\\n      bot inform answer unknown\\n    stop', 'is_system_flow': True, 'is_subflow': True}, {'id': 'gcpnlp moderation', 'elements': [{'_type': 'meta', 'meta': {'subflow': True}}, {'_type': 'run_action', 'action_name': 'call gcpnlp api', 'action_params': {}, 'action_result_key': 'result', '_source_mapping': {'filename': 'flows.co', 'line_number': 30, 'line_text': '$result = execute call gcpnlp api', 'comment': 'Guardrail based on the maximum risk score.'}}, {'_type': 'if', 'expression': '$result.max_risk_score > 0.8', '_source_mapping': {'filename': 'flows.co', 'line_number': 32, 'line_text': 'if $result.max_risk_score > 0.8', 'comment': None}, '_next_else': 3}, {'_type': 'run_action', 'action_name': 'utter', 'action_params': {'value': 'refuse to respond'}, '_source_mapping': {'filename': 'flows.co', 'line_number': 33, 'line_text': 'bot refuse to respond', 'comment': None}}, {'_type': 'run_action', 'action_name': 'utter', 'action_params': {'value': 'stop'}, '_source_mapping': {'filename': 'flows.co', 'line_number': 34, 'line_text': 'stop', 'comment': None}}], 'source_code': '$result = execute call gcpnlp api\\nif $result.max_risk_score > 0.8\\n  bot refuse to respond\\n  stop', 'is_system_flow': True, 'is_subflow': True}, {'id': 'gcpnlp moderation detailed', 'elements': [{'_type': 'meta', 'meta': {'subflow': True}}, {'_type': 'run_action', 'action_name': 'call gcpnlp api', 'action_params': {}, 'action_result_key': 'result', '_source_mapping': {'filename': 'flows.co', 'line_number': 38, 'line_text': '$result = execute call gcpnlp api', 'comment': 'Guardrail based on individual risk scores.'}}, {'_type': 'if', 'expression': '$result.violations.get(\"Toxic\", 0) > 0.8', '_source_mapping': {'filename': 'flows.co', 'line_number': 40, 'line_text': 'if $result.violations.get(\"Toxic\", 0) > 0.8', 'comment': None}, '_next_else': 3}, {'_type': 'run_action', 'action_name': 'utter', 'action_params': {'value': 'inform cannot engage in abusive or harmful behavior'}, '_source_mapping': {'filename': 'flows.co', 'line_number': 41, 'line_text': 'bot inform cannot engage in abusive or harmful behavior', 'comment': None}}, {'_type': 'run_action', 'action_name': 'utter', 'action_params': {'value': 'stop'}, '_source_mapping': {'filename': 'flows.co', 'line_number': 42, 'line_text': 'stop', 'comment': None}}, {'_type': 'if', 'expression': '$result.violations.get(\"Insult\", 0) > 0.7', '_source_mapping': {'filename': 'flows.co', 'line_number': 44, 'line_text': 'if $result.violations.get(\"Insult\", 0) > 0.7', 'comment': None}, '_next_else': 3}, {'_type': 'run_action', 'action_name': 'utter', 'action_params': {'value': 'inform cannot engage in abusive or harmful behavior'}, '_source_mapping': {'filename': 'flows.co', 'line_number': 45, 'line_text': 'bot inform cannot engage in abusive or harmful behavior', 'comment': None}}, {'_type': 'run_action', 'action_name': 'utter', 'action_params': {'value': 'stop'}, '_source_mapping': {'filename': 'flows.co', 'line_number': 46, 'line_text': 'stop', 'comment': None}}, {'_type': 'if', 'expression': '$result.violations.get(\"Profanity\", 0) > 0.6', '_source_mapping': {'filename': 'flows.co', 'line_number': 48, 'line_text': 'if $result.violations.get(\"Profanity\", 0) > 0.6', 'comment': None}, '_next_else': 3}, {'_type': 'run_action', 'action_name': 'utter', 'action_params': {'value': 'inform cannot engage in abusive or harmful behavior'}, '_source_mapping': {'filename': 'flows.co', 'line_number': 49, 'line_text': 'bot inform cannot engage in abusive or harmful behavior', 'comment': None}}, {'_type': 'run_action', 'action_name': 'utter', 'action_params': {'value': 'stop'}, '_source_mapping': {'filename': 'flows.co', 'line_number': 50, 'line_text': 'stop', 'comment': None}}, {'_type': 'if', 'expression': '$result.violations.get(\"Derogatory\", 0) > 0.4', '_source_mapping': {'filename': 'flows.co', 'line_number': 52, 'line_text': 'if $result.violations.get(\"Derogatory\", 0) > 0.4', 'comment': None}, '_next_else': 3}, {'_type': 'run_action', 'action_name': 'utter', 'action_params': {'value': 'inform cannot engage in abusive or harmful behavior'}, '_source_mapping': {'filename': 'flows.co', 'line_number': 53, 'line_text': 'bot inform cannot engage in abusive or harmful behavior', 'comment': None}}, {'_type': 'run_action', 'action_name': 'utter', 'action_params': {'value': 'stop'}, '_source_mapping': {'filename': 'flows.co', 'line_number': 54, 'line_text': 'stop', 'comment': None}}, {'_type': 'if', 'expression': '$result.violations.get(\"Violent\", 0) > 0.8', '_source_mapping': {'filename': 'flows.co', 'line_number': 56, 'line_text': 'if $result.violations.get(\"Violent\", 0) > 0.8', 'comment': None}, '_next_else': 3}, {'_type': 'run_action', 'action_name': 'utter', 'action_params': {'value': 'inform cannot engage in abusive or harmful behavior'}, '_source_mapping': {'filename': 'flows.co', 'line_number': 57, 'line_text': 'bot inform cannot engage in abusive or harmful behavior', 'comment': None}}, {'_type': 'run_action', 'action_name': 'utter', 'action_params': {'value': 'stop'}, '_source_mapping': {'filename': 'flows.co', 'line_number': 58, 'line_text': 'stop', 'comment': None}}, {'_type': 'if', 'expression': '$result.violations.get(\"Sexual\", 0) > 0.7', '_source_mapping': {'filename': 'flows.co', 'line_number': 60, 'line_text': 'if $result.violations.get(\"Sexual\", 0) > 0.7', 'comment': None}, '_next_else': 3}, {'_type': 'run_action', 'action_name': 'utter', 'action_params': {'value': 'inform cannot engage in inappropriate content'}, '_source_mapping': {'filename': 'flows.co', 'line_number': 61, 'line_text': 'bot inform cannot engage in inappropriate content', 'comment': None}}, {'_type': 'run_action', 'action_name': 'utter', 'action_params': {'value': 'stop'}, '_source_mapping': {'filename': 'flows.co', 'line_number': 62, 'line_text': 'stop', 'comment': None}}, {'_type': 'if', 'expression': '$result.violations.get(\"Death, Harm & Tragedy\", 0) > 0.8', '_source_mapping': {'filename': 'flows.co', 'line_number': 64, 'line_text': 'if $result.violations.get(\"Death, Harm & Tragedy\", 0) > 0.8', 'comment': None}, '_next_else': 3}, {'_type': 'run_action', 'action_name': 'utter', 'action_params': {'value': 'inform cannot engage in inappropriate content'}, '_source_mapping': {'filename': 'flows.co', 'line_number': 65, 'line_text': 'bot inform cannot engage in inappropriate content', 'comment': None}}, {'_type': 'run_action', 'action_name': 'utter', 'action_params': {'value': 'stop'}, '_source_mapping': {'filename': 'flows.co', 'line_number': 66, 'line_text': 'stop', 'comment': None}}, {'_type': 'if', 'expression': '$result.violations.get(\"Firearms & Weapons\", 0) > 0.8', '_source_mapping': {'filename': 'flows.co', 'line_number': 68, 'line_text': 'if $result.violations.get(\"Firearms & Weapons\", 0) > 0.8', 'comment': None}, '_next_else': 3}, {'_type': 'run_action', 'action_name': 'utter', 'action_params': {'value': 'inform cannot engage in inappropriate content'}, '_source_mapping': {'filename': 'flows.co', 'line_number': 69, 'line_text': 'bot inform cannot engage in inappropriate content', 'comment': None}}, {'_type': 'run_action', 'action_name': 'utter', 'action_params': {'value': 'stop'}, '_source_mapping': {'filename': 'flows.co', 'line_number': 70, 'line_text': 'stop', 'comment': None}}, {'_type': 'if', 'expression': '$result.violations.get(\"Illicit Drugs\", 0) > 0.8', '_source_mapping': {'filename': 'flows.co', 'line_number': 72, 'line_text': 'if $result.violations.get(\"Illicit Drugs\", 0) > 0.8', 'comment': None}, '_next_else': 3}, {'_type': 'run_action', 'action_name': 'utter', 'action_params': {'value': 'inform cannot engage with sensitive content'}, '_source_mapping': {'filename': 'flows.co', 'line_number': 73, 'line_text': 'bot inform cannot engage with sensitive content', 'comment': None}}, {'_type': 'run_action', 'action_name': 'utter', 'action_params': {'value': 'stop'}, '_source_mapping': {'filename': 'flows.co', 'line_number': 74, 'line_text': 'stop', 'comment': None}}, {'_type': 'if', 'expression': '$result.violations.get(\"Public Safety\", 0) > 0.8', '_source_mapping': {'filename': 'flows.co', 'line_number': 76, 'line_text': 'if $result.violations.get(\"Public Safety\", 0) > 0.8', 'comment': None}, '_next_else': 3}, {'_type': 'run_action', 'action_name': 'utter', 'action_params': {'value': 'inform cannot engage with sensitive content'}, '_source_mapping': {'filename': 'flows.co', 'line_number': 77, 'line_text': 'bot inform cannot engage with sensitive content', 'comment': None}}, {'_type': 'run_action', 'action_name': 'utter', 'action_params': {'value': 'stop'}, '_source_mapping': {'filename': 'flows.co', 'line_number': 78, 'line_text': 'stop', 'comment': None}}, {'_type': 'if', 'expression': '$result.violations.get(\"Health\", 0) > 0.8', '_source_mapping': {'filename': 'flows.co', 'line_number': 80, 'line_text': 'if $result.violations.get(\"Health\", 0) > 0.8', 'comment': None}, '_next_else': 3}, {'_type': 'run_action', 'action_name': 'utter', 'action_params': {'value': 'inform cannot engage with sensitive content'}, '_source_mapping': {'filename': 'flows.co', 'line_number': 81, 'line_text': 'bot inform cannot engage with sensitive content', 'comment': None}}, {'_type': 'run_action', 'action_name': 'utter', 'action_params': {'value': 'stop'}, '_source_mapping': {'filename': 'flows.co', 'line_number': 82, 'line_text': 'stop', 'comment': None}}, {'_type': 'if', 'expression': '$result.violations.get(\"Religion & Belief\", 0) > 0.8', '_source_mapping': {'filename': 'flows.co', 'line_number': 84, 'line_text': 'if $result.violations.get(\"Religion & Belief\", 0) > 0.8', 'comment': None}, '_next_else': 3}, {'_type': 'run_action', 'action_name': 'utter', 'action_params': {'value': 'inform cannot engage with sensitive content'}, '_source_mapping': {'filename': 'flows.co', 'line_number': 85, 'line_text': 'bot inform cannot engage with sensitive content', 'comment': None}}, {'_type': 'run_action', 'action_name': 'utter', 'action_params': {'value': 'stop'}, '_source_mapping': {'filename': 'flows.co', 'line_number': 86, 'line_text': 'stop', 'comment': None}}, {'_type': 'if', 'expression': '$result.violations.get(\"War & Conflict\", 0) > 0.8', '_source_mapping': {'filename': 'flows.co', 'line_number': 88, 'line_text': 'if $result.violations.get(\"War & Conflict\", 0) > 0.8', 'comment': None}, '_next_else': 3}, {'_type': 'run_action', 'action_name': 'utter', 'action_params': {'value': 'inform cannot engage with sensitive content'}, '_source_mapping': {'filename': 'flows.co', 'line_number': 89, 'line_text': 'bot inform cannot engage with sensitive content', 'comment': None}}, {'_type': 'run_action', 'action_name': 'utter', 'action_params': {'value': 'stop'}, '_source_mapping': {'filename': 'flows.co', 'line_number': 90, 'line_text': 'stop', 'comment': None}}, {'_type': 'if', 'expression': '$result.violations.get(\"Politics\", 0) > 0.8', '_source_mapping': {'filename': 'flows.co', 'line_number': 92, 'line_text': 'if $result.violations.get(\"Politics\", 0) > 0.8', 'comment': None}, '_next_else': 3}, {'_type': 'run_action', 'action_name': 'utter', 'action_params': {'value': 'inform cannot engage with sensitive content'}, '_source_mapping': {'filename': 'flows.co', 'line_number': 93, 'line_text': 'bot inform cannot engage with sensitive content', 'comment': None}}, {'_type': 'run_action', 'action_name': 'utter', 'action_params': {'value': 'stop'}, '_source_mapping': {'filename': 'flows.co', 'line_number': 94, 'line_text': 'stop', 'comment': None}}, {'_type': 'if', 'expression': '$result.violations.get(\"Finance\", 0) > 0.8', '_source_mapping': {'filename': 'flows.co', 'line_number': 96, 'line_text': 'if $result.violations.get(\"Finance\", 0) > 0.8', 'comment': None}, '_next_else': 3}, {'_type': 'run_action', 'action_name': 'utter', 'action_params': {'value': 'inform cannot engage with sensitive content'}, '_source_mapping': {'filename': 'flows.co', 'line_number': 97, 'line_text': 'bot inform cannot engage with sensitive content', 'comment': None}}, {'_type': 'run_action', 'action_name': 'utter', 'action_params': {'value': 'stop'}, '_source_mapping': {'filename': 'flows.co', 'line_number': 98, 'line_text': 'stop', 'comment': None}}, {'_type': 'if', 'expression': '$result.violations.get(\"Legal\", 0) > 0.8', '_source_mapping': {'filename': 'flows.co', 'line_number': 100, 'line_text': 'if $result.violations.get(\"Legal\", 0) > 0.8', 'comment': None}, '_next_else': 3}, {'_type': 'run_action', 'action_name': 'utter', 'action_params': {'value': 'inform cannot engage with sensitive content'}, '_source_mapping': {'filename': 'flows.co', 'line_number': 101, 'line_text': 'bot inform cannot engage with sensitive content', 'comment': None}}, {'_type': 'run_action', 'action_name': 'utter', 'action_params': {'value': 'stop'}, '_source_mapping': {'filename': 'flows.co', 'line_number': 102, 'line_text': 'stop', 'comment': None}}], 'source_code': '$result = execute call gcpnlp api\\nif $result.violations.get(\"Toxic\", 0) > 0.8\\n  bot inform cannot engage in abusive or harmful behavior\\n  stop\\nif $result.violations.get(\"Insult\", 0) > 0.7\\n  bot inform cannot engage in abusive or harmful behavior\\n  stop\\nif $result.violations.get(\"Profanity\", 0) > 0.6\\n  bot inform cannot engage in abusive or harmful behavior\\n  stop\\nif $result.violations.get(\"Derogatory\", 0) > 0.4\\n  bot inform cannot engage in abusive or harmful behavior\\n  stop\\nif $result.violations.get(\"Violent\", 0) > 0.8\\n  bot inform cannot engage in abusive or harmful behavior\\n  stop\\nif $result.violations.get(\"Sexual\", 0) > 0.7\\n  bot inform cannot engage in inappropriate content\\n  stop\\nif $result.violations.get(\"Death, Harm & Tragedy\", 0) > 0.8\\n  bot inform cannot engage in inappropriate content\\n  stop\\nif $result.violations.get(\"Firearms & Weapons\", 0) > 0.8\\n  bot inform cannot engage in inappropriate content\\n  stop\\nif $result.violations.get(\"Illicit Drugs\", 0) > 0.8\\n  bot inform cannot engage with sensitive content\\n  stop\\nif $result.violations.get(\"Public Safety\", 0) > 0.8\\n  bot inform cannot engage with sensitive content\\n  stop\\nif $result.violations.get(\"Health\", 0) > 0.8\\n  bot inform cannot engage with sensitive content\\n  stop\\nif $result.violations.get(\"Religion & Belief\", 0) > 0.8\\n  bot inform cannot engage with sensitive content\\n  stop\\nif $result.violations.get(\"War & Conflict\", 0) > 0.8\\n  bot inform cannot engage with sensitive content\\n  stop\\nif $result.violations.get(\"Politics\", 0) > 0.8\\n  bot inform cannot engage with sensitive content\\n  stop\\nif $result.violations.get(\"Finance\", 0) > 0.8\\n  bot inform cannot engage with sensitive content\\n  stop\\nif $result.violations.get(\"Legal\", 0) > 0.8\\n  bot inform cannot engage with sensitive content\\n  stop', 'is_system_flow': True, 'is_subflow': True}, {'id': 'self check input', 'elements': [{'_type': 'run_action', 'action_name': 'self_check_input', 'action_params': {}, 'action_result_key': 'allowed', '_source_mapping': {'filename': 'flows.v1.co', 'line_number': 5, 'line_text': '$allowed = execute self_check_input', 'comment': None}}, {'_type': 'if', 'expression': 'not $allowed', '_source_mapping': {'filename': 'flows.v1.co', 'line_number': 7, 'line_text': 'if not $allowed', 'comment': None}, '_next_else': 6}, {'_type': 'if', 'expression': '$config.enable_rails_exceptions', '_source_mapping': {'filename': 'flows.v1.co', 'line_number': 8, 'line_text': 'if $config.enable_rails_exceptions', 'comment': None}, '_next_else': 3}, {'_type': 'run_action', 'action_name': 'create_event', 'action_params': {'event': {'_type': 'InputRailException', 'message': \"Input not allowed. The input was blocked by the 'self check input' flow.\"}}, '_source_mapping': {'filename': 'flows.v1.co', 'line_number': 9, 'line_text': 'create event InputRailException(message=\"Input not allowed. The input was blocked by the \\'self check input\\' flow.\")', 'comment': None}}, {'_type': 'jump', '_next': 2}, {'_type': 'run_action', 'action_name': 'utter', 'action_params': {'value': 'refuse to respond'}, '_source_mapping': {'filename': 'flows.v1.co', 'line_number': 11, 'line_text': 'bot refuse to respond', 'comment': None}}, {'_type': 'run_action', 'action_name': 'utter', 'action_params': {'value': 'stop'}, '_source_mapping': {'filename': 'flows.v1.co', 'line_number': 12, 'line_text': 'stop', 'comment': None}}], 'source_code': '$allowed = execute self_check_input\\nif not $allowed\\n  if $config.enable_rails_exceptions\\n    create event InputRailException(message=\"Input not allowed. The input was blocked by the \\'self check input\\' flow.\")\\n  else\\n    bot refuse to respond\\n  stop', 'is_system_flow': True}, {'id': 'self check facts', 'elements': [{'_type': 'meta', 'meta': {'subflow': True}}, {'_type': 'if', 'expression': '$check_facts == True', '_source_mapping': {'filename': 'flows.v1.co', 'line_number': 10, 'line_text': 'if $check_facts == True', 'comment': 'Check if the previous answer is accurate w.r.t. the relevant chunks.\\nThis output rail must be enabled explicitly per output message by setting\\nthe $check_facts context variable to True.\\n'}, '_next_else': 9}, {'_type': 'set', 'key': 'check_facts', 'expression': 'False', '_source_mapping': {'filename': 'flows.v1.co', 'line_number': 11, 'line_text': '$check_facts = False', 'comment': None}}, {'_type': 'run_action', 'action_name': 'self_check_facts', 'action_params': {}, 'action_result_key': 'accuracy', '_source_mapping': {'filename': 'flows.v1.co', 'line_number': 13, 'line_text': '$accuracy = execute self_check_facts', 'comment': None}}, {'_type': 'if', 'expression': '$accuracy < 0.5', '_source_mapping': {'filename': 'flows.v1.co', 'line_number': 14, 'line_text': 'if $accuracy < 0.5', 'comment': None}, '_next_else': 6}, {'_type': 'if', 'expression': '$config.enable_rails_exceptions', '_source_mapping': {'filename': 'flows.v1.co', 'line_number': 15, 'line_text': 'if $config.enable_rails_exceptions', 'comment': None}, '_next_else': 3}, {'_type': 'run_action', 'action_name': 'create_event', 'action_params': {'event': {'_type': 'FactCheckRailException', 'message': 'Fact check failed. The accuracy of the previous answer was below the required threshold.'}}, '_source_mapping': {'filename': 'flows.v1.co', 'line_number': 16, 'line_text': 'create event FactCheckRailException(message=\"Fact check failed. The accuracy of the previous answer was below the required threshold.\")', 'comment': None}}, {'_type': 'jump', '_next': 2}, {'_type': 'run_action', 'action_name': 'utter', 'action_params': {'value': 'refuse to respond'}, '_source_mapping': {'filename': 'flows.v1.co', 'line_number': 18, 'line_text': 'bot refuse to respond', 'comment': None}}, {'_type': 'run_action', 'action_name': 'utter', 'action_params': {'value': 'stop'}, '_source_mapping': {'filename': 'flows.v1.co', 'line_number': 19, 'line_text': 'stop', 'comment': None}}], 'source_code': 'if $check_facts == True\\n  $check_facts = False\\n  $accuracy = execute self_check_facts\\n  if $accuracy < 0.5\\n    if $config.enable_rails_exceptions\\n      create event FactCheckRailException(message=\"Fact check failed. The accuracy of the previous answer was below the required threshold.\")\\n    else\\n      bot refuse to respond\\n    stop', 'is_system_flow': True, 'is_subflow': True}, {'id': 'self check output', 'elements': [{'_type': 'run_action', 'action_name': 'self_check_output', 'action_params': {}, 'action_result_key': 'allowed', '_source_mapping': {'filename': 'flows.v1.co', 'line_number': 5, 'line_text': '$allowed = execute self_check_output', 'comment': None}}, {'_type': 'if', 'expression': 'not $allowed', '_source_mapping': {'filename': 'flows.v1.co', 'line_number': 7, 'line_text': 'if not $allowed', 'comment': None}, '_next_else': 6}, {'_type': 'if', 'expression': '$config.enable_rails_exceptions', '_source_mapping': {'filename': 'flows.v1.co', 'line_number': 8, 'line_text': 'if $config.enable_rails_exceptions', 'comment': None}, '_next_else': 3}, {'_type': 'run_action', 'action_name': 'create_event', 'action_params': {'event': {'_type': 'OutputRailException', 'message': \"Output not allowed. The output was blocked by the 'self check output' flow.\"}}, '_source_mapping': {'filename': 'flows.v1.co', 'line_number': 9, 'line_text': 'create event OutputRailException(message=\"Output not allowed. The output was blocked by the \\'self check output\\' flow.\")', 'comment': None}}, {'_type': 'jump', '_next': 3}, {'_type': 'run_action', 'action_name': 'utter', 'action_params': {'value': 'refuse to respond'}, '_source_mapping': {'filename': 'flows.v1.co', 'line_number': 11, 'line_text': 'bot refuse to respond', 'comment': None}}, {'_type': 'run_action', 'action_name': 'utter', 'action_params': {'value': 'stop'}, '_source_mapping': {'filename': 'flows.v1.co', 'line_number': 12, 'line_text': 'stop', 'comment': None}}], 'source_code': '$allowed = execute self_check_output\\nif not $allowed\\n  if $config.enable_rails_exceptions\\n    create event OutputRailException(message=\"Output not allowed. The output was blocked by the \\'self check output\\' flow.\")\\n  else\\n    bot refuse to respond\\n    stop', 'is_system_flow': True}, {'id': 'patronus lynx check output hallucination', 'elements': [{'_type': 'run_action', 'action_name': 'patronus_lynx_check_output_hallucination', 'action_params': {}, 'action_result_key': 'patronus_lynx_response', '_source_mapping': {'filename': 'flows.v1.co', 'line_number': 5, 'line_text': '$patronus_lynx_response = execute patronus_lynx_check_output_hallucination', 'comment': None}}, {'_type': 'set', 'key': 'hallucination', 'expression': '$patronus_lynx_response[\"hallucination\"]', '_source_mapping': {'filename': 'flows.v1.co', 'line_number': 6, 'line_text': '$hallucination = $patronus_lynx_response[\"hallucination\"]', 'comment': None}}, {'_type': 'set', 'key': 'reasoning', 'expression': '$patronus_lynx_response[\"reasoning\"]', '_source_mapping': {'filename': 'flows.v1.co', 'line_number': 8, 'line_text': '$reasoning = $patronus_lynx_response[\"reasoning\"]', 'comment': 'The Reasoning trace is currently unused, but can be used to modify the bot output'}}, {'_type': 'if', 'expression': '$hallucination', '_source_mapping': {'filename': 'flows.v1.co', 'line_number': 10, 'line_text': 'if $hallucination', 'comment': None}, '_next_else': 6}, {'_type': 'if', 'expression': '$config.enable_rails_exceptions', '_source_mapping': {'filename': 'flows.v1.co', 'line_number': 11, 'line_text': 'if $config.enable_rails_exceptions', 'comment': None}, '_next_else': 3}, {'_type': 'run_action', 'action_name': 'create_event', 'action_params': {'event': {'_type': 'PatronusAIHallucinationException', 'message': 'Hallucination detected. The previous answer may not be accurate'}}, '_source_mapping': {'filename': 'flows.v1.co', 'line_number': 12, 'line_text': 'create event PatronusAIHallucinationException(message=\"Hallucination detected. The previous answer may not be accurate\")', 'comment': None}}, {'_type': 'jump', '_next': 2}, {'_type': 'run_action', 'action_name': 'utter', 'action_params': {'value': 'inform answer unknown'}, '_source_mapping': {'filename': 'flows.v1.co', 'line_number': 14, 'line_text': 'bot inform answer unknown', 'comment': None}}, {'_type': 'run_action', 'action_name': 'utter', 'action_params': {'value': 'stop'}, '_source_mapping': {'filename': 'flows.v1.co', 'line_number': 15, 'line_text': 'stop', 'comment': None}}], 'source_code': '$patronus_lynx_response = execute patronus_lynx_check_output_hallucination\\n$hallucination = $patronus_lynx_response[\"hallucination\"]\\n# The Reasoning trace is currently unused, but can be used to modify the bot output\\n$reasoning = $patronus_lynx_response[\"reasoning\"]\\nif $hallucination\\n  if $config.enable_rails_exceptions\\n    create event PatronusAIHallucinationException(message=\"Hallucination detected. The previous answer may not be accurate\")\\n  else\\n    bot inform answer unknown\\n  stop', 'is_system_flow': True}, {'id': 'detect sensitive data on input', 'elements': [{'_type': 'meta', 'meta': {'subflow': True}}, {'_type': 'run_action', 'action_name': 'detect_sensitive_data', 'action_params': {'source': 'input', 'text': '$user_message'}, 'action_result_key': 'has_sensitive_data', '_source_mapping': {'filename': 'flows.v1.co', 'line_number': 5, 'line_text': '$has_sensitive_data = execute detect_sensitive_data(source=\"input\", text=$user_message)', 'comment': 'Check if the user input has any sensitive data.'}}, {'_type': 'if', 'expression': '$has_sensitive_data', '_source_mapping': {'filename': 'flows.v1.co', 'line_number': 7, 'line_text': 'if $has_sensitive_data', 'comment': None}, '_next_else': 3}, {'_type': 'run_action', 'action_name': 'utter', 'action_params': {'value': 'inform answer unknown'}, '_source_mapping': {'filename': 'flows.v1.co', 'line_number': 8, 'line_text': 'bot inform answer unknown', 'comment': None}}, {'_type': 'run_action', 'action_name': 'utter', 'action_params': {'value': 'stop'}, '_source_mapping': {'filename': 'flows.v1.co', 'line_number': 9, 'line_text': 'stop', 'comment': None}}], 'source_code': '$has_sensitive_data = execute detect_sensitive_data(source=\"input\", text=$user_message)\\nif $has_sensitive_data\\n  bot inform answer unknown\\n  stop', 'is_system_flow': True, 'is_subflow': True}, {'id': 'mask sensitive data on input', 'elements': [{'_type': 'meta', 'meta': {'subflow': True}}, {'_type': 'run_action', 'action_name': 'mask_sensitive_data', 'action_params': {'source': 'input', 'text': '$user_message'}, 'action_result_key': 'user_message', '_source_mapping': {'filename': 'flows.v1.co', 'line_number': 14, 'line_text': '$user_message = execute mask_sensitive_data(source=\"input\", text=$user_message)', 'comment': 'Mask any sensitive data found in the user input.'}}], 'source_code': '$user_message = execute mask_sensitive_data(source=\"input\", text=$user_message)', 'is_system_flow': True, 'is_subflow': True}, {'id': 'detect sensitive data on output', 'elements': [{'_type': 'meta', 'meta': {'subflow': True}}, {'_type': 'run_action', 'action_name': 'detect_sensitive_data', 'action_params': {'source': 'output', 'text': '$bot_message'}, 'action_result_key': 'has_sensitive_data', '_source_mapping': {'filename': 'flows.v1.co', 'line_number': 22, 'line_text': '$has_sensitive_data = execute detect_sensitive_data(source=\"output\", text=$bot_message)', 'comment': 'Check if the bot output has any sensitive data.'}}, {'_type': 'if', 'expression': '$has_sensitive_data', '_source_mapping': {'filename': 'flows.v1.co', 'line_number': 24, 'line_text': 'if $has_sensitive_data', 'comment': None}, '_next_else': 3}, {'_type': 'run_action', 'action_name': 'utter', 'action_params': {'value': 'inform answer unknown'}, '_source_mapping': {'filename': 'flows.v1.co', 'line_number': 25, 'line_text': 'bot inform answer unknown', 'comment': None}}, {'_type': 'run_action', 'action_name': 'utter', 'action_params': {'value': 'stop'}, '_source_mapping': {'filename': 'flows.v1.co', 'line_number': 26, 'line_text': 'stop', 'comment': None}}], 'source_code': '$has_sensitive_data = execute detect_sensitive_data(source=\"output\", text=$bot_message)\\nif $has_sensitive_data\\n  bot inform answer unknown\\n  stop', 'is_system_flow': True, 'is_subflow': True}, {'id': 'mask sensitive data on output', 'elements': [{'_type': 'meta', 'meta': {'subflow': True}}, {'_type': 'run_action', 'action_name': 'mask_sensitive_data', 'action_params': {'source': 'output', 'text': '$bot_message'}, 'action_result_key': 'bot_message', '_source_mapping': {'filename': 'flows.v1.co', 'line_number': 31, 'line_text': '$bot_message = execute mask_sensitive_data(source=\"output\", text=$bot_message)', 'comment': 'Mask any sensitive data found in the bot output.'}}], 'source_code': '$bot_message = execute mask_sensitive_data(source=\"output\", text=$bot_message)', 'is_system_flow': True, 'is_subflow': True}, {'id': 'detect sensitive data on retrieval', 'elements': [{'_type': 'meta', 'meta': {'subflow': True}}, {'_type': 'run_action', 'action_name': 'detect_sensitive_data', 'action_params': {'source': 'retrieval', 'text': '$relevant_chunks'}, 'action_result_key': 'has_sensitive_data', '_source_mapping': {'filename': 'flows.v1.co', 'line_number': 39, 'line_text': '$has_sensitive_data = execute detect_sensitive_data(source=\"retrieval\", text=$relevant_chunks)', 'comment': 'Check if the relevant chunks from the knowledge base have any sensitive data.'}}, {'_type': 'if', 'expression': '$has_sensitive_data', '_source_mapping': {'filename': 'flows.v1.co', 'line_number': 41, 'line_text': 'if $has_sensitive_data', 'comment': None}, '_next_else': 3}, {'_type': 'run_action', 'action_name': 'utter', 'action_params': {'value': 'inform answer unknown'}, '_source_mapping': {'filename': 'flows.v1.co', 'line_number': 42, 'line_text': 'bot inform answer unknown', 'comment': None}}, {'_type': 'run_action', 'action_name': 'utter', 'action_params': {'value': 'stop'}, '_source_mapping': {'filename': 'flows.v1.co', 'line_number': 43, 'line_text': 'stop', 'comment': None}}], 'source_code': '$has_sensitive_data = execute detect_sensitive_data(source=\"retrieval\", text=$relevant_chunks)\\nif $has_sensitive_data\\n  bot inform answer unknown\\n  stop', 'is_system_flow': True, 'is_subflow': True}, {'id': 'mask sensitive data on retrieval', 'elements': [{'_type': 'meta', 'meta': {'subflow': True}}, {'_type': 'run_action', 'action_name': 'mask_sensitive_data', 'action_params': {'source': 'retrieval', 'text': '$relevant_chunks'}, 'action_result_key': 'relevant_chunks', '_source_mapping': {'filename': 'flows.v1.co', 'line_number': 48, 'line_text': '$relevant_chunks = execute mask_sensitive_data(source=\"retrieval\", text=$relevant_chunks)', 'comment': 'Mask any sensitive data found in the relevant chunks from the knowledge base.'}}], 'source_code': '$relevant_chunks = execute mask_sensitive_data(source=\"retrieval\", text=$relevant_chunks)', 'is_system_flow': True, 'is_subflow': True}, {'id': 'content safety check input', 'elements': [{'_type': 'run_action', 'action_name': 'content_safety_check_input', 'action_params': {}, 'action_result_key': 'response', '_source_mapping': {'filename': 'flows.v1.co', 'line_number': 7, 'line_text': '$response = execute content_safety_check_input', 'comment': None}}, {'_type': 'set', 'key': 'allowed', 'expression': '$response[\"allowed\"]', '_source_mapping': {'filename': 'flows.v1.co', 'line_number': 9, 'line_text': '$allowed = $response[\"allowed\"]', 'comment': None}}, {'_type': 'set', 'key': 'policy_violations', 'expression': '$response[\"policy_violations\"]', '_source_mapping': {'filename': 'flows.v1.co', 'line_number': 11, 'line_text': '$policy_violations = $response[\"policy_violations\"]', 'comment': 'Policy violations are currently unused, but can be used to better phrase the bot output'}}, {'_type': 'if', 'expression': 'not $allowed', '_source_mapping': {'filename': 'flows.v1.co', 'line_number': 13, 'line_text': 'if not $allowed', 'comment': None}, '_next_else': 6}, {'_type': 'if', 'expression': '$config.enable_rails_exceptions', '_source_mapping': {'filename': 'flows.v1.co', 'line_number': 14, 'line_text': 'if $config.enable_rails_exceptions', 'comment': None}, '_next_else': 3}, {'_type': 'run_action', 'action_name': 'create_event', 'action_params': {'event': {'_type': 'ContentSafetyCheckInputException', 'message': \"Input not allowed. The input was blocked by the 'content safety check input $model='{$model}'' flow.\"}}, '_source_mapping': {'filename': 'flows.v1.co', 'line_number': 15, 'line_text': 'create event ContentSafetyCheckInputException(message=\"Input not allowed. The input was blocked by the \\'content safety check input $model=\\'{$model}\\'\\' flow.\")', 'comment': None}}, {'_type': 'jump', '_next': 2}, {'_type': 'run_action', 'action_name': 'utter', 'action_params': {'value': 'refuse to respond'}, '_source_mapping': {'filename': 'flows.v1.co', 'line_number': 17, 'line_text': 'bot refuse to respond', 'comment': None}}, {'_type': 'run_action', 'action_name': 'utter', 'action_params': {'value': 'stop'}, '_source_mapping': {'filename': 'flows.v1.co', 'line_number': 18, 'line_text': 'stop', 'comment': None}}], 'source_code': '$response = execute content_safety_check_input\\n$allowed = $response[\"allowed\"]\\n# Policy violations are currently unused, but can be used to better phrase the bot output\\n$policy_violations = $response[\"policy_violations\"]\\nif not $allowed\\n  if $config.enable_rails_exceptions\\n    create event ContentSafetyCheckInputException(message=\"Input not allowed. The input was blocked by the \\'content safety check input $model=\\'{$model}\\'\\' flow.\")\\n  else\\n    bot refuse to respond\\n  stop', 'is_system_flow': True}, {'id': 'content safety check output', 'elements': [{'_type': 'run_action', 'action_name': 'content_safety_check_output', 'action_params': {}, 'action_result_key': 'response', '_source_mapping': {'filename': 'flows.v1.co', 'line_number': 21, 'line_text': '$response = execute content_safety_check_output', 'comment': None}}, {'_type': 'set', 'key': 'allowed', 'expression': '$response[\"allowed\"]', '_source_mapping': {'filename': 'flows.v1.co', 'line_number': 22, 'line_text': '$allowed = $response[\"allowed\"]', 'comment': None}}, {'_type': 'set', 'key': 'policy_violations', 'expression': '$response[\"policy_violations\"]', '_source_mapping': {'filename': 'flows.v1.co', 'line_number': 23, 'line_text': '$policy_violations = $response[\"policy_violations\"]', 'comment': None}}, {'_type': 'if', 'expression': 'not $allowed', '_source_mapping': {'filename': 'flows.v1.co', 'line_number': 25, 'line_text': 'if not $allowed', 'comment': None}, '_next_else': 6}, {'_type': 'if', 'expression': '$config.enable_rails_exceptions', '_source_mapping': {'filename': 'flows.v1.co', 'line_number': 26, 'line_text': 'if $config.enable_rails_exceptions', 'comment': None}, '_next_else': 3}, {'_type': 'run_action', 'action_name': 'create_event', 'action_params': {'event': {'_type': 'ContentSafetyCheckOuputException', 'message': \"Output not allowed. The output was blocked by the 'content safety check output $model='{$model}'' flow.\"}}, '_source_mapping': {'filename': 'flows.v1.co', 'line_number': 27, 'line_text': 'create event ContentSafetyCheckOuputException(message=\"Output not allowed. The output was blocked by the \\'content safety check output $model=\\'{$model}\\'\\' flow.\")', 'comment': None}}, {'_type': 'jump', '_next': 2}, {'_type': 'run_action', 'action_name': 'utter', 'action_params': {'value': 'refuse to respond'}, '_source_mapping': {'filename': 'flows.v1.co', 'line_number': 29, 'line_text': 'bot refuse to respond', 'comment': None}}, {'_type': 'run_action', 'action_name': 'utter', 'action_params': {'value': 'stop'}, '_source_mapping': {'filename': 'flows.v1.co', 'line_number': 30, 'line_text': 'stop', 'comment': None}}], 'source_code': '$response = execute content_safety_check_output\\n$allowed = $response[\"allowed\"]\\n$policy_violations = $response[\"policy_violations\"]\\nif not $allowed\\n  if $config.enable_rails_exceptions\\n    create event ContentSafetyCheckOuputException(message=\"Output not allowed. The output was blocked by the \\'content safety check output $model=\\'{$model}\\'\\' flow.\")\\n  else\\n    bot refuse to respond\\n  stop', 'is_system_flow': True}, {'id': 'activefence moderation', 'elements': [{'_type': 'meta', 'meta': {'subflow': True}}, {'_type': 'run_action', 'action_name': 'call activefence api', 'action_params': {}, 'action_result_key': 'result', '_source_mapping': {'filename': 'flows.v1.co', 'line_number': 18, 'line_text': '$result = execute call activefence api', 'comment': 'Guardrail based on the maximum risk score.'}}, {'_type': 'if', 'expression': '$result.max_risk_score > 0.7', '_source_mapping': {'filename': 'flows.v1.co', 'line_number': 20, 'line_text': 'if $result.max_risk_score > 0.7', 'comment': None}, '_next_else': 6}, {'_type': 'if', 'expression': '$config.enable_rails_exceptions', '_source_mapping': {'filename': 'flows.v1.co', 'line_number': 21, 'line_text': 'if $config.enable_rails_exceptions', 'comment': None}, '_next_else': 3}, {'_type': 'run_action', 'action_name': 'create_event', 'action_params': {'event': {'_type': 'ActiveFenceModerationRailException', 'message': 'ActiveFence moderation triggered. The maximum risk score exceeded the threshold.'}}, '_source_mapping': {'filename': 'flows.v1.co', 'line_number': 22, 'line_text': 'create event ActiveFenceModerationRailException(message=\"ActiveFence moderation triggered. The maximum risk score exceeded the threshold.\")', 'comment': None}}, {'_type': 'jump', '_next': 2}, {'_type': 'run_action', 'action_name': 'utter', 'action_params': {'value': 'refuse to respond'}, '_source_mapping': {'filename': 'flows.v1.co', 'line_number': 24, 'line_text': 'bot refuse to respond', 'comment': None}}, {'_type': 'run_action', 'action_name': 'utter', 'action_params': {'value': 'stop'}, '_source_mapping': {'filename': 'flows.v1.co', 'line_number': 25, 'line_text': 'stop', 'comment': None}}], 'source_code': '$result = execute call activefence api\\nif $result.max_risk_score > 0.7\\n  if $config.enable_rails_exceptions\\n    create event ActiveFenceModerationRailException(message=\"ActiveFence moderation triggered. The maximum risk score exceeded the threshold.\")\\n  else\\n    bot refuse to respond\\n  stop', 'is_system_flow': True, 'is_subflow': True}, {'id': 'activefence moderation detailed', 'elements': [{'_type': 'meta', 'meta': {'subflow': True}}, {'_type': 'run_action', 'action_name': 'call activefence api', 'action_params': {}, 'action_result_key': 'result', '_source_mapping': {'filename': 'flows.v1.co', 'line_number': 29, 'line_text': '$result = execute call activefence api', 'comment': 'Guardrail based on individual risk scores.'}}, {'_type': 'if', 'expression': '$result.violations.get(\"abusive_or_harmful.harassment_or_bullying\", 0) > 0.8', '_source_mapping': {'filename': 'flows.v1.co', 'line_number': 31, 'line_text': 'if $result.violations.get(\"abusive_or_harmful.harassment_or_bullying\", 0) > 0.8', 'comment': None}, '_next_else': 6}, {'_type': 'if', 'expression': '$config.enable_rails_exceptions', '_source_mapping': {'filename': 'flows.v1.co', 'line_number': 32, 'line_text': 'if $config.enable_rails_exceptions', 'comment': None}, '_next_else': 3}, {'_type': 'run_action', 'action_name': 'create_event', 'action_params': {'event': {'_type': 'ActiveFenceHarassmentRailException', 'message': 'ActiveFence moderation triggered. The harassment or bullying risk score exceeded the threshold.'}}, '_source_mapping': {'filename': 'flows.v1.co', 'line_number': 33, 'line_text': 'create event ActiveFenceHarassmentRailException(message=\"ActiveFence moderation triggered. The harassment or bullying risk score exceeded the threshold.\")', 'comment': None}}, {'_type': 'jump', '_next': 2}, {'_type': 'run_action', 'action_name': 'utter', 'action_params': {'value': 'inform cannot engage in abusive or harmful behavior'}, '_source_mapping': {'filename': 'flows.v1.co', 'line_number': 35, 'line_text': 'bot inform cannot engage in abusive or harmful behavior', 'comment': None}}, {'_type': 'run_action', 'action_name': 'utter', 'action_params': {'value': 'stop'}, '_source_mapping': {'filename': 'flows.v1.co', 'line_number': 36, 'line_text': 'stop', 'comment': None}}, {'_type': 'if', 'expression': '$result.violations.get(\"abusive_or_harmful.profanity\", 0) > 0.7', '_source_mapping': {'filename': 'flows.v1.co', 'line_number': 38, 'line_text': 'if $result.violations.get(\"abusive_or_harmful.profanity\", 0) > 0.7', 'comment': None}, '_next_else': 6}, {'_type': 'if', 'expression': '$config.enable_rails_exceptions', '_source_mapping': {'filename': 'flows.v1.co', 'line_number': 39, 'line_text': 'if $config.enable_rails_exceptions', 'comment': None}, '_next_else': 3}, {'_type': 'run_action', 'action_name': 'create_event', 'action_params': {'event': {'_type': 'ActiveFenceProfanityRailException', 'message': 'ActiveFence moderation triggered. The profanity risk score exceeded the threshold.'}}, '_source_mapping': {'filename': 'flows.v1.co', 'line_number': 40, 'line_text': 'create event ActiveFenceProfanityRailException(message=\"ActiveFence moderation triggered. The profanity risk score exceeded the threshold.\")', 'comment': None}}, {'_type': 'jump', '_next': 2}, {'_type': 'run_action', 'action_name': 'utter', 'action_params': {'value': 'inform cannot engage in abusive or harmful behavior'}, '_source_mapping': {'filename': 'flows.v1.co', 'line_number': 42, 'line_text': 'bot inform cannot engage in abusive or harmful behavior', 'comment': None}}, {'_type': 'run_action', 'action_name': 'utter', 'action_params': {'value': 'stop'}, '_source_mapping': {'filename': 'flows.v1.co', 'line_number': 43, 'line_text': 'stop', 'comment': None}}, {'_type': 'if', 'expression': '$result.violations.get(\"abusive_or_harmful.hate_speech\", 0) > 0.6', '_source_mapping': {'filename': 'flows.v1.co', 'line_number': 45, 'line_text': 'if $result.violations.get(\"abusive_or_harmful.hate_speech\", 0) > 0.6', 'comment': None}, '_next_else': 6}, {'_type': 'if', 'expression': '$config.enable_rails_exceptions', '_source_mapping': {'filename': 'flows.v1.co', 'line_number': 46, 'line_text': 'if $config.enable_rails_exceptions', 'comment': None}, '_next_else': 3}, {'_type': 'run_action', 'action_name': 'create_event', 'action_params': {'event': {'_type': 'ActiveFenceHateSpeechRailException', 'message': 'ActiveFence moderation triggered. The hate speech risk score exceeded the threshold.'}}, '_source_mapping': {'filename': 'flows.v1.co', 'line_number': 47, 'line_text': 'create event ActiveFenceHateSpeechRailException(message=\"ActiveFence moderation triggered. The hate speech risk score exceeded the threshold.\")', 'comment': None}}, {'_type': 'jump', '_next': 2}, {'_type': 'run_action', 'action_name': 'utter', 'action_params': {'value': 'inform cannot engage in abusive or harmful behavior'}, '_source_mapping': {'filename': 'flows.v1.co', 'line_number': 49, 'line_text': 'bot inform cannot engage in abusive or harmful behavior', 'comment': None}}, {'_type': 'run_action', 'action_name': 'utter', 'action_params': {'value': 'stop'}, '_source_mapping': {'filename': 'flows.v1.co', 'line_number': 50, 'line_text': 'stop', 'comment': None}}, {'_type': 'if', 'expression': '$result.violations.get(\"abusive_or_harmful.child_grooming\", 0) > 0.4', '_source_mapping': {'filename': 'flows.v1.co', 'line_number': 52, 'line_text': 'if $result.violations.get(\"abusive_or_harmful.child_grooming\", 0) > 0.4', 'comment': None}, '_next_else': 6}, {'_type': 'if', 'expression': '$config.enable_rails_exceptions', '_source_mapping': {'filename': 'flows.v1.co', 'line_number': 53, 'line_text': 'if $config.enable_rails_exceptions', 'comment': None}, '_next_else': 3}, {'_type': 'run_action', 'action_name': 'create_event', 'action_params': {'event': {'_type': 'ActiveFenceChildGroomingRailException', 'message': 'ActiveFence moderation triggered. The child grooming risk score exceeded the threshold.'}}, '_source_mapping': {'filename': 'flows.v1.co', 'line_number': 54, 'line_text': 'create event ActiveFenceChildGroomingRailException(message=\"ActiveFence moderation triggered. The child grooming risk score exceeded the threshold.\")', 'comment': None}}, {'_type': 'jump', '_next': 2}, {'_type': 'run_action', 'action_name': 'utter', 'action_params': {'value': 'inform cannot engage in abusive or harmful behavior'}, '_source_mapping': {'filename': 'flows.v1.co', 'line_number': 56, 'line_text': 'bot inform cannot engage in abusive or harmful behavior', 'comment': None}}, {'_type': 'run_action', 'action_name': 'utter', 'action_params': {'value': 'stop'}, '_source_mapping': {'filename': 'flows.v1.co', 'line_number': 57, 'line_text': 'stop', 'comment': None}}, {'_type': 'if', 'expression': '$result.violations.get(\"abusive_or_harmful.general_violence\", 0) > 0.7', '_source_mapping': {'filename': 'flows.v1.co', 'line_number': 59, 'line_text': 'if $result.violations.get(\"abusive_or_harmful.general_violence\", 0) > 0.7', 'comment': None}, '_next_else': 6}, {'_type': 'if', 'expression': '$config.enable_rails_exceptions', '_source_mapping': {'filename': 'flows.v1.co', 'line_number': 60, 'line_text': 'if $config.enable_rails_exceptions', 'comment': None}, '_next_else': 3}, {'_type': 'run_action', 'action_name': 'create_event', 'action_params': {'event': {'_type': 'ActiveFenceGeneralViolenceRailException', 'message': 'ActiveFence moderation triggered. The general violence risk score exceeded the threshold.'}}, '_source_mapping': {'filename': 'flows.v1.co', 'line_number': 61, 'line_text': 'create event ActiveFenceGeneralViolenceRailException(message=\"ActiveFence moderation triggered. The general violence risk score exceeded the threshold.\")', 'comment': None}}, {'_type': 'jump', '_next': 2}, {'_type': 'run_action', 'action_name': 'utter', 'action_params': {'value': 'inform cannot engage in abusive or harmful behavior'}, '_source_mapping': {'filename': 'flows.v1.co', 'line_number': 63, 'line_text': 'bot inform cannot engage in abusive or harmful behavior', 'comment': None}}, {'_type': 'run_action', 'action_name': 'utter', 'action_params': {'value': 'stop'}, '_source_mapping': {'filename': 'flows.v1.co', 'line_number': 64, 'line_text': 'stop', 'comment': None}}, {'_type': 'if', 'expression': '$result.violations.get(\"self_harm.general\", 0) > 0.8', '_source_mapping': {'filename': 'flows.v1.co', 'line_number': 66, 'line_text': 'if $result.violations.get(\"self_harm.general\", 0) > 0.8', 'comment': None}, '_next_else': 6}, {'_type': 'if', 'expression': '$config.enable_rails_exceptions', '_source_mapping': {'filename': 'flows.v1.co', 'line_number': 67, 'line_text': 'if $config.enable_rails_exceptions', 'comment': None}, '_next_else': 3}, {'_type': 'run_action', 'action_name': 'create_event', 'action_params': {'event': {'_type': 'ActiveFenceSelfHarmRailException', 'message': 'ActiveFence moderation triggered. The self harm risk score exceeded the threshold.'}}, '_source_mapping': {'filename': 'flows.v1.co', 'line_number': 68, 'line_text': 'create event ActiveFenceSelfHarmRailException(message=\"ActiveFence moderation triggered. The self harm risk score exceeded the threshold.\")', 'comment': None}}, {'_type': 'jump', '_next': 2}, {'_type': 'run_action', 'action_name': 'utter', 'action_params': {'value': 'inform cannot engage in self harm behavior'}, '_source_mapping': {'filename': 'flows.v1.co', 'line_number': 70, 'line_text': 'bot inform cannot engage in self harm behavior', 'comment': None}}, {'_type': 'run_action', 'action_name': 'utter', 'action_params': {'value': 'stop'}, '_source_mapping': {'filename': 'flows.v1.co', 'line_number': 71, 'line_text': 'stop', 'comment': None}}, {'_type': 'if', 'expression': '$result.violations.get(\"adult_content.general\", 0) > 0.3', '_source_mapping': {'filename': 'flows.v1.co', 'line_number': 73, 'line_text': 'if $result.violations.get(\"adult_content.general\", 0) > 0.3', 'comment': None}, '_next_else': 6}, {'_type': 'if', 'expression': '$config.enable_rails_exceptions', '_source_mapping': {'filename': 'flows.v1.co', 'line_number': 74, 'line_text': 'if $config.enable_rails_exceptions', 'comment': None}, '_next_else': 3}, {'_type': 'run_action', 'action_name': 'create_event', 'action_params': {'event': {'_type': 'ActiveFenceAdultContentRailException', 'message': 'ActiveFence moderation triggered. The adult content risk score exceeded the threshold.'}}, '_source_mapping': {'filename': 'flows.v1.co', 'line_number': 75, 'line_text': 'create event ActiveFenceAdultContentRailException(message=\"ActiveFence moderation triggered. The adult content risk score exceeded the threshold.\")', 'comment': None}}, {'_type': 'jump', '_next': 2}, {'_type': 'run_action', 'action_name': 'utter', 'action_params': {'value': 'inform cannot engage with inappropriate content'}, '_source_mapping': {'filename': 'flows.v1.co', 'line_number': 77, 'line_text': 'bot inform cannot engage with inappropriate content', 'comment': None}}, {'_type': 'run_action', 'action_name': 'utter', 'action_params': {'value': 'stop'}, '_source_mapping': {'filename': 'flows.v1.co', 'line_number': 78, 'line_text': 'stop', 'comment': None}}, {'_type': 'if', 'expression': '$result.violations.get(\"privacy_violation.pii\", 0) > 0.8', '_source_mapping': {'filename': 'flows.v1.co', 'line_number': 80, 'line_text': 'if $result.violations.get(\"privacy_violation.pii\", 0) > 0.8', 'comment': None}, '_next_else': 6}, {'_type': 'if', 'expression': '$config.enable_rails_exceptions', '_source_mapping': {'filename': 'flows.v1.co', 'line_number': 81, 'line_text': 'if $config.enable_rails_exceptions', 'comment': None}, '_next_else': 3}, {'_type': 'run_action', 'action_name': 'create_event', 'action_params': {'event': {'_type': 'ActiveFencePrivacyViolationRailException', 'message': 'ActiveFence moderation triggered. The privacy violation risk score exceeded the threshold.'}}, '_source_mapping': {'filename': 'flows.v1.co', 'line_number': 82, 'line_text': 'create event ActiveFencePrivacyViolationRailException(message=\"ActiveFence moderation triggered. The privacy violation risk score exceeded the threshold.\")', 'comment': None}}, {'_type': 'jump', '_next': 2}, {'_type': 'run_action', 'action_name': 'utter', 'action_params': {'value': 'inform cannot engage with sensitive content'}, '_source_mapping': {'filename': 'flows.v1.co', 'line_number': 84, 'line_text': 'bot inform cannot engage with sensitive content', 'comment': None}}, {'_type': 'run_action', 'action_name': 'utter', 'action_params': {'value': 'stop'}, '_source_mapping': {'filename': 'flows.v1.co', 'line_number': 85, 'line_text': 'stop', 'comment': None}}], 'source_code': '$result = execute call activefence api\\nif $result.violations.get(\"abusive_or_harmful.harassment_or_bullying\", 0) > 0.8\\n  if $config.enable_rails_exceptions\\n    create event ActiveFenceHarassmentRailException(message=\"ActiveFence moderation triggered. The harassment or bullying risk score exceeded the threshold.\")\\n  else\\n    bot inform cannot engage in abusive or harmful behavior\\n  stop\\nif $result.violations.get(\"abusive_or_harmful.profanity\", 0) > 0.7\\n  if $config.enable_rails_exceptions\\n    create event ActiveFenceProfanityRailException(message=\"ActiveFence moderation triggered. The profanity risk score exceeded the threshold.\")\\n  else\\n    bot inform cannot engage in abusive or harmful behavior\\n  stop\\nif $result.violations.get(\"abusive_or_harmful.hate_speech\", 0) > 0.6\\n  if $config.enable_rails_exceptions\\n    create event ActiveFenceHateSpeechRailException(message=\"ActiveFence moderation triggered. The hate speech risk score exceeded the threshold.\")\\n  else\\n    bot inform cannot engage in abusive or harmful behavior\\n  stop\\nif $result.violations.get(\"abusive_or_harmful.child_grooming\", 0) > 0.4\\n  if $config.enable_rails_exceptions\\n    create event ActiveFenceChildGroomingRailException(message=\"ActiveFence moderation triggered. The child grooming risk score exceeded the threshold.\")\\n  else\\n    bot inform cannot engage in abusive or harmful behavior\\n  stop\\nif $result.violations.get(\"abusive_or_harmful.general_violence\", 0) > 0.7\\n  if $config.enable_rails_exceptions\\n    create event ActiveFenceGeneralViolenceRailException(message=\"ActiveFence moderation triggered. The general violence risk score exceeded the threshold.\")\\n  else\\n    bot inform cannot engage in abusive or harmful behavior\\n  stop\\nif $result.violations.get(\"self_harm.general\", 0) > 0.8\\n  if $config.enable_rails_exceptions\\n    create event ActiveFenceSelfHarmRailException(message=\"ActiveFence moderation triggered. The self harm risk score exceeded the threshold.\")\\n  else\\n    bot inform cannot engage in self harm behavior\\n  stop\\nif $result.violations.get(\"adult_content.general\", 0) > 0.3\\n  if $config.enable_rails_exceptions\\n    create event ActiveFenceAdultContentRailException(message=\"ActiveFence moderation triggered. The adult content risk score exceeded the threshold.\")\\n  else\\n    bot inform cannot engage with inappropriate content\\n  stop\\nif $result.violations.get(\"privacy_violation.pii\", 0) > 0.8\\n  if $config.enable_rails_exceptions\\n    create event ActiveFencePrivacyViolationRailException(message=\"ActiveFence moderation triggered. The privacy violation risk score exceeded the threshold.\")\\n  else\\n    bot inform cannot engage with sensitive content\\n  stop', 'is_system_flow': True, 'is_subflow': True}, {'id': 'hallucination warning', 'elements': [{'_type': 'run_action', 'action_name': 'utter', 'action_params': {'value': '...'}, '_source_mapping': {'filename': 'flows.v1.co', 'line_number': 6, 'line_text': 'bot ...', 'comment': 'Warning rail for hallucination.'}}, {'_type': 'if', 'expression': '$hallucination_warning == True', '_source_mapping': {'filename': 'flows.v1.co', 'line_number': 7, 'line_text': 'if $hallucination_warning == True', 'comment': None}, '_next_else': 5}, {'_type': 'run_action', 'action_name': 'self_check_hallucination', 'action_params': {}, 'action_result_key': 'is_hallucination', '_source_mapping': {'filename': 'flows.v1.co', 'line_number': 8, 'line_text': '$is_hallucination = execute self_check_hallucination', 'comment': None}}, {'_type': 'set', 'key': 'hallucination_warning', 'expression': 'False', '_source_mapping': {'filename': 'flows.v1.co', 'line_number': 9, 'line_text': '$hallucination_warning = False', 'comment': None}}, {'_type': 'if', 'expression': '$is_hallucination', '_source_mapping': {'filename': 'flows.v1.co', 'line_number': 11, 'line_text': 'if $is_hallucination', 'comment': None}, '_next_else': 2}, {'_type': 'run_action', 'action_name': 'utter', 'action_params': {'value': 'inform answer prone to hallucination'}, '_source_mapping': {'filename': 'flows.v1.co', 'line_number': 12, 'line_text': 'bot inform answer prone to hallucination', 'comment': None}}], 'source_code': 'bot ...\\nif $hallucination_warning == True\\n  $is_hallucination = execute self_check_hallucination\\n  $hallucination_warning = False\\n  if $is_hallucination\\n    bot inform answer prone to hallucination', 'is_system_flow': True}, {'id': 'self check hallucination', 'elements': [{'_type': 'meta', 'meta': {'subflow': True}}, {'_type': 'if', 'expression': '$check_hallucination == True', '_source_mapping': {'filename': 'flows.v1.co', 'line_number': 21, 'line_text': 'if $check_hallucination == True', 'comment': 'Output rail for checking hallucinations.'}, '_next_else': 9}, {'_type': 'run_action', 'action_name': 'self_check_hallucination', 'action_params': {}, 'action_result_key': 'is_hallucination', '_source_mapping': {'filename': 'flows.v1.co', 'line_number': 22, 'line_text': '$is_hallucination = execute self_check_hallucination', 'comment': None}}, {'_type': 'set', 'key': 'check_hallucination', 'expression': 'False', '_source_mapping': {'filename': 'flows.v1.co', 'line_number': 23, 'line_text': '$check_hallucination = False', 'comment': None}}, {'_type': 'if', 'expression': '$is_hallucination', '_source_mapping': {'filename': 'flows.v1.co', 'line_number': 25, 'line_text': 'if $is_hallucination', 'comment': None}, '_next_else': 6}, {'_type': 'if', 'expression': '$config.enable_rails_exceptions', '_source_mapping': {'filename': 'flows.v1.co', 'line_number': 26, 'line_text': 'if $config.enable_rails_exceptions', 'comment': None}, '_next_else': 3}, {'_type': 'run_action', 'action_name': 'create_event', 'action_params': {'event': {'_type': 'SelfCheckHallucinationRailException', 'message': 'Hallucination detected. The previous answer may not be accurate'}}, '_source_mapping': {'filename': 'flows.v1.co', 'line_number': 27, 'line_text': 'create event SelfCheckHallucinationRailException(message=\"Hallucination detected. The previous answer may not be accurate\")', 'comment': None}}, {'_type': 'jump', '_next': 2}, {'_type': 'run_action', 'action_name': 'utter', 'action_params': {'value': 'inform answer unknown'}, '_source_mapping': {'filename': 'flows.v1.co', 'line_number': 29, 'line_text': 'bot inform answer unknown', 'comment': None}}, {'_type': 'run_action', 'action_name': 'utter', 'action_params': {'value': 'stop'}, '_source_mapping': {'filename': 'flows.v1.co', 'line_number': 30, 'line_text': 'stop', 'comment': None}}], 'source_code': 'if $check_hallucination == True\\n  $is_hallucination = execute self_check_hallucination\\n  $check_hallucination = False\\n  if $is_hallucination\\n    if $config.enable_rails_exceptions\\n      create event SelfCheckHallucinationRailException(message=\"Hallucination detected. The previous answer may not be accurate\")\\n    else\\n      bot inform answer unknown\\n    stop', 'is_system_flow': True, 'is_subflow': True}], instructions=[Instruction(type='general', content='Below is a conversation between a helpful AI assistant and a user. The bot is designed to generate human-like text based on the input that it receives. The bot is talkative and provides lots of specific details. If the bot does not know the answer to a question, it truthfully says it does not know.')], docs=[], actions_server_url=None, sample_conversation='user \"Hello there!\"\\n  express greeting\\nbot express greeting\\n  \"Hello! How can I assist you today?\"\\nuser \"What can you do for me?\"\\n  ask about capabilities\\nbot respond about capabilities\\n  \"As an AI assistant, I can help you with a wide range of tasks. This includes question answering on various topics, generating text for various purposes and providing suggestions based on your preferences.\"\\nuser \"Tell me a bit about the history of NVIDIA.\"\\n  ask general question\\nbot response for general question\\n  \"NVIDIA is a technology company that specializes in designing and manufacturing graphics processing units (GPUs) and other computer hardware. The company was founded in 1993 by Jen-Hsun Huang, Chris Malachowsky, and Curtis Priem.\"\\nuser \"tell me more\"\\n  request more information\\nbot provide more information\\n  \"Initially, the company focused on developing 3D graphics processing technology for the PC gaming market. In 1999, NVIDIA released the GeForce 256, the world\\'s first GPU, which was a major breakthrough for the gaming industry. The company continued to innovate in the GPU space, releasing new products and expanding into other markets such as professional graphics, mobile devices, and artificial intelligence.\"\\nuser \"thanks\"\\n  express appreciation\\nbot express appreciation and offer additional help\\n  \"You\\'re welcome. If you have any more questions or if there\\'s anything else I can help you with, please don\\'t hesitate to ask.\"\\n', prompts=[], prompting_mode='standard', config_path=None, import_paths=[], imported_paths={}, lowest_temperature=0.001, enable_multi_step_generation=False, colang_version='1.0', custom_data={}, knowledge_base=KnowledgeBaseConfig(folder='kb', embedding_search_provider=EmbeddingSearchProvider(name='default', parameters={}, cache=EmbeddingsCacheConfig(enabled=False, key_generator='md5', store='filesystem', store_config={}))), core=CoreConfig(embedding_search_provider=EmbeddingSearchProvider(name='default', parameters={}, cache=EmbeddingsCacheConfig(enabled=False, key_generator='md5', store='filesystem', store_config={}))), rails=Rails(config=RailsConfigData(fact_checking=FactCheckingRailConfig(parameters={}, fallback_to_self_check=False), autoalign=AutoAlignRailConfig(parameters={}, input=AutoAlignOptions(guardrails_config={}), output=AutoAlignOptions(guardrails_config={})), sensitive_data_detection=SensitiveDataDetection(recognizers=[], input=SensitiveDataDetectionOptions(entities=[], mask_token='*'), output=SensitiveDataDetectionOptions(entities=[], mask_token='*'), retrieval=SensitiveDataDetectionOptions(entities=[], mask_token='*')), jailbreak_detection=JailbreakDetectionConfig(server_endpoint=None, length_per_perplexity_threshold=89.79, prefix_suffix_perplexity_threshold=1845.65)), input=InputRails(flows=[]), output=OutputRails(flows=['retry json']), retrieval=RetrievalRails(flows=[]), dialog=DialogRails(single_call=SingleCallConfig(enabled=False, fallback_to_multiple_calls=True), user_messages=UserMessagesConfig(embeddings_only=False, embeddings_only_similarity_threshold=None, embeddings_only_fallback_intent=None)), actions=ActionRails(instant_actions=None)), streaming=False, enable_rails_exceptions=False, passthrough=None, raw_llm_call_action='raw llm call')\n",
      "retries: 3\n",
      "bot_response: It looks like the user provided an empty JSON template for the second prompt, expecting the AI assistant to fill in the details. Here's a response from the talkative AI assistant, generating a fantasy story based on the prompt \"a magical forest\" and populating the provided JSON template with rich details:\n",
      "\n",
      "**Response**\n",
      "\n",
      "**Generated Story in JSON Format**\n",
      "\n",
      "```json\n",
      "{\n",
      "  \"prompt\": \"A Magical Forest\",\n",
      "  \"title\": \"Whispers of the Emerald Woods\",\n",
      "  \"video\": false,\n",
      "  \"visual_style\": \"Vibrant, ethereal with soft luminescence\",\n",
      "  \"time_period\": \"Ancient, mystical era\",\n",
      "  \"location\": \"The Heart of the Emerald Woods, a hidden realm\",\n",
      "  \"genre\": \"Fantasy, Adventure\",\n",
      "  \"medium\": \"Novel\",\n",
      "  \"plot_overview\": \"In the depths of the enchanted Emerald Woods, where ancient magic whispers through the leaves, a young apprentice named Lyra discovers a forgotten prophecy. With the woods on the brink of eternal darkness, Lyra embarks on a perilous quest to unite the warring factions of the forest's guardians, forge an alliance with the mysterious Luminari, and claim her rightful place as the Woods' chosen protector.\",\n",
      "  \"narrative_perspective\": \"Third Person Limited\",\n",
      "  \"conflict_type\": \"Internal & External (Self-doubt vs. Saving the Emerald Woods)\",\n",
      "  \"themes\": [\"Unity in Diversity\", \"Self-Discovery\", \"Balance with Nature\"],\n",
      "  \"motifs\": [\"Light vs. Darkness\", \"Ancient Wisdom\"],\n",
      "  \"characters\": [\n",
      "    {\n",
      "      \"nickname\": \"The Whispering Apprentice\",\n",
      "      \"name\": \"Lyra Flynn\",\n",
      "      \"description\": \"A curious, determined young apprentice with a unique affinity for the Emerald Woods' magic.\",\n",
      "      \"personality\": \"Compassionate, inquisitive, yet uncertain of her powers\",\n",
      "      \"physical_appearance\": \"Slender, agile with hair as green as the woods and eyes shimmering like starlight\",\n",
      "      \"role\": \"Protagonist\",\n",
      "      \"gender\": \"Female\",\n",
      "      \"race\": \"Half-Elven\",\n",
      "      \"age\": \"22\",\n",
      "      \"catch_phrase\": \"By the whispers of the woods...\",\n",
      "      \"animation_description\": \"Moves with a silent, ethereal grace\",\n",
      "      \"voice_description\": \"Soft, melodious with an undercurrent of ancient wisdom\",\n",
      "      \"voice_sample\": null,\n",
      "      \"props\": [\"Staff of the Ancients\", \"Cloak of the Emerald Woods\"],\n",
      "      \"relationships\": [\n",
      "        {\n",
      "          \"character_name\": \"Kael Darkshadow\",\n",
      "          \"relationship_type\": \"Mentor & Ally\",\n",
      "          \"description\": \"A wise, mysterious guardian who guides Lyra through her journey\"\n",
      "        }\n",
      "      ],\n",
      "      \"internal_conflict\": \"Self-doubt in her ability to save the Emerald Woods\",\n",
      "      \"character_arc\": {\n",
      "        \"initial_state\": \"Apprentice unsure of her place\",\n",
      "        \"final_state\": \"Confident Guardian of the Emerald Woods\",\n",
      "        \"key_moments\": [\"Discovery of the prophecy\", \"Alliance with the Luminari\"]\n",
      "      },\n",
      "      \"image_prompt\": \"Lyra standing at the edge of a glowing clearing, staff in hand, with the woods' ancient magic swirling around her.\",\n",
      "      \"image_prompt_short\": \"Lyra amidst magical woods\"\n",
      "    }\n",
      "  ],\n",
      "  \"props\": [\n",
      "    {\n",
      "      \"name\": \"Staff of the Ancients\",\n",
      "      \"description\": \"A powerful, glowing staff passed down through the guardians of the Emerald Woods.\",\n",
      "      \"purpose\": \"Channeling and focusing magic\",\n",
      "      \"physical_appearance\": \"Tall, slender with intricate carvings that shimmer in the dark\",\n",
      "      \"animation_description\": \"Glow intensifies when magic is channeled\"\n",
      "    }\n",
      "  ],\n",
      "  \"story_beats\": [\n",
      "    {\n",
      "      \"name\": \"The Discovery\",\n",
      "      \"description\": \"Lyra finds the forgotten prophecy hidden deep within the woods.\",\n",
      "      \"scene\": \"Ancient Ruins, under the light of a full moon\"\n",
      "    },\n",
      "    {\n",
      "      \"name\": \"The Quest Begins\",\n",
      "      \"description\": \"Lyra sets out to unite the warring factions.\",\n",
      "      \"scene\": \"The Great Oak Council, at dawn\"\n",
      "    }\n",
      "  ],\n",
      "  \"subplots\": [\n",
      "    {\n",
      "      \"title\": \"The Shadow Within\",\n",
      "      \"description\": \"Kael's mysterious past threatens to undermine Lyra's quest.\",\n",
      "      \"related_characters\": [\"Lyra Flynn\", \"Kael Darkshadow\"]\n",
      "    }\n",
      "  ],\n",
      "  \"emotional_arc\": [\n",
      "    {\n",
      "      \"stage\": \"Uncertainty\",\n",
      "      \"description\": \"Lyra doubts her ability to fulfill the prophecy\"\n",
      "    },\n",
      "    {\n",
      "      \"stage\": \"Empowerment\",\n",
      "      \"description\": \"Lyra, with newfound confidence, leads the final stand against darkness\"\n",
      "    }\n",
      "  ],\n",
      "  \"acts\": [\n",
      "    {\n",
      "      \"act_id\": \"1\",\n",
      "      \"title\": \"The Awakening\",\n",
      "      \"description\": \"Introduction to Lyra and the mystical Emerald Woods\",\n",
      "      \"scenes\": [\n",
      "        {\n",
      "          \"scene_id\": \"1.1\",\n",
      "          \"title\": \"Moonlit Discovery\",\n",
      "          \"description\": \"Lyra stumbles upon an ancient, hidden text.\",\n",
      "          \"characters_involved\": [\"Lyra Flynn\"],\n",
      "          \"setting\": \"Ancient Ruins\",\n",
      "          \"time_of_day\": \"Night\",\n",
      "          \"location\": \"Deep within the Emerald Woods\",\n",
      "          \"lighting\": \"Soft, moonlit glow\",\n",
      "          \"mood\": \"Mysterious, anticipatory\",\n",
      "          \"props\": [\"Ancient Texts\", \"Staff of the Ancients\"],\n",
      "          \"key_actions\": [\"Lyra deciphers the ancient text\", \"First glimpse of the prophecy\"],\n",
      "          \"dialogue\": [\n",
      "            {\"character\": \"Lyra\", \"line\": \"What secrets lie within these ancient words?\"}\n",
      "          ],\n",
      "          \"background_image_prompt\": \"A moonlit, misty scene with ruins in the background\",\n",
      "          \"background_animation\": \"Soft, swirling mist\",\n",
      "          \"scene_image_prompt\": \"Lyra kneeling, surrounded by glowing texts\",\n",
      "          \"scene_image_prompt_short\": \"Lyra & Ancient Texts\"\n",
      "        }\n",
      "      ],\n",
      "      \"props\": [\"Ancient Wisdom Scrolls\"]\n",
      "    }\n",
      "  ]\n",
      "}\n",
      "```\n",
      "\n",
      "**Additional Narrative for Context (Beyond the JSON Format)**\n",
      "\n",
      "In a world where magic is tied to the health of nature, the Emerald Woods, a sanctuary of ancient power, begins to wither under a mysterious darkness. Lyra Flynn, a young half-elven apprentice with an unparalleled affinity for the woods' magic, discovers a forgotten prophecy that declares her the chosen one, destined to save the Emerald Woods and restore balance to the forces of nature.\n",
      "\n",
      "Guided by Kael Darkshadow, a wise and enigmatic guardian, Lyra embarks on a perilous quest to unite the fractured factions of the woods' protectors against their common enemy. Along her journey, Lyra must confront her own self-doubt and learn to harness the true extent of her powers, all while unraveling the mysteries of the prophecy and facing the darkness that threatens to consume everything.\n",
      "\n",
      "As Lyra grows in strength and wisdom, she becomes the beacon of hope for the Emerald Woods and its inhabitants, leading the final stand against the forces of darkness in a climactic battle that will determine the fate of her world. Will Lyra's determination and the ancient magic of the Emerald Woods be enough to save their beloved sanctuary, or will the shadows prevail?\n",
      "user_message: Generate a story based on the following: Write a fantasy story about a magical forest in the following json format: \n",
      "\n",
      "{\"prompt\":\"\",\"title\":\"\",\"video\":false,\"visual_style\":\"\",\"time_period\":\"\",\"location\":\"\",\"genre\":\"\",\"medium\":\"\",\"plot_overview\":\"\",\"narrative_perspective\":\"\",\"conflict_type\":\"\",\"themes\":[],\"motifs\":[],\"characters\":[{\"nickname\":\"\",\"name\":\"\",\"description\":\"\",\"personality\":\"\",\"physical_appearance\":\"\",\"role\":\"\",\"gender\":\"\",\"race\":\"\",\"age\":\"\",\"catch_phrase\":\"\",\"animation_description\":\"\",\"voice_description\":\"\",\"voice_sample\":null,\"props\":[],\"relationships\":[{\"character_name\":null,\"relationship_type\":null,\"description\":\"\"}],\"internal_conflict\":\"\",\"character_arc\":{\"initial_state\":\"\",\"final_state\":\"\",\"key_moments\":[\"\"]},\"image_prompt\":\"\",\"image_prompt_short\":\"\"}],\"props\":[{\"name\":\"\",\"description\":\"\",\"purpose\":\"\",\"physical_appearance\":\"\",\"animation_description\":\"\"}],\"story_beats\":[{\"name\":null,\"description\":null,\"scene\":\"\"}],\"subplots\":[{\"title\":null,\"description\":\"\",\"related_characters\":[]}],\"emotional_arc\":[{\"stage\":null,\"description\":\"\"}],\"acts\":[{\"act_id\":\"\",\"title\":\"\",\"description\":\"\",\"scenes\":[{\"scene_id\":\"\",\"title\":\"\",\"description\":\"\",\"characters_involved\":[\"\"],\"setting\":\"\",\"time_of_day\":\"\",\"location\":\"\",\"lighting\":\"\",\"mood\":\"\",\"props\":[\"\"],\"key_actions\":[\"\"],\"dialogue\":[],\"background_image_prompt\":\"\",\"background_animation\":\"\",\"scene_image_prompt\":\"\",\"scene_image_prompt_short\":\"\"}],\"props\":[\"\"]}]}\n",
      "context:\n",
      "{'bot_message': 'It looks like the user provided an empty JSON template for '\n",
      "                'the second prompt, expecting the AI assistant to fill in the '\n",
      "                \"details. Here's a response from the talkative AI assistant, \"\n",
      "                'generating a fantasy story based on the prompt \"a magical '\n",
      "                'forest\" and populating the provided JSON template with rich '\n",
      "                'details:\\n'\n",
      "                '\\n'\n",
      "                '**Response**\\n'\n",
      "                '\\n'\n",
      "                '**Generated Story in JSON Format**\\n'\n",
      "                '\\n'\n",
      "                '```json\\n'\n",
      "                '{\\n'\n",
      "                '  \"prompt\": \"A Magical Forest\",\\n'\n",
      "                '  \"title\": \"Whispers of the Emerald Woods\",\\n'\n",
      "                '  \"video\": false,\\n'\n",
      "                '  \"visual_style\": \"Vibrant, ethereal with soft '\n",
      "                'luminescence\",\\n'\n",
      "                '  \"time_period\": \"Ancient, mystical era\",\\n'\n",
      "                '  \"location\": \"The Heart of the Emerald Woods, a hidden '\n",
      "                'realm\",\\n'\n",
      "                '  \"genre\": \"Fantasy, Adventure\",\\n'\n",
      "                '  \"medium\": \"Novel\",\\n'\n",
      "                '  \"plot_overview\": \"In the depths of the enchanted Emerald '\n",
      "                'Woods, where ancient magic whispers through the leaves, a '\n",
      "                'young apprentice named Lyra discovers a forgotten prophecy. '\n",
      "                'With the woods on the brink of eternal darkness, Lyra embarks '\n",
      "                'on a perilous quest to unite the warring factions of the '\n",
      "                \"forest's guardians, forge an alliance with the mysterious \"\n",
      "                \"Luminari, and claim her rightful place as the Woods' chosen \"\n",
      "                'protector.\",\\n'\n",
      "                '  \"narrative_perspective\": \"Third Person Limited\",\\n'\n",
      "                '  \"conflict_type\": \"Internal & External (Self-doubt vs. '\n",
      "                'Saving the Emerald Woods)\",\\n'\n",
      "                '  \"themes\": [\"Unity in Diversity\", \"Self-Discovery\", \"Balance '\n",
      "                'with Nature\"],\\n'\n",
      "                '  \"motifs\": [\"Light vs. Darkness\", \"Ancient Wisdom\"],\\n'\n",
      "                '  \"characters\": [\\n'\n",
      "                '    {\\n'\n",
      "                '      \"nickname\": \"The Whispering Apprentice\",\\n'\n",
      "                '      \"name\": \"Lyra Flynn\",\\n'\n",
      "                '      \"description\": \"A curious, determined young apprentice '\n",
      "                'with a unique affinity for the Emerald Woods\\' magic.\",\\n'\n",
      "                '      \"personality\": \"Compassionate, inquisitive, yet '\n",
      "                'uncertain of her powers\",\\n'\n",
      "                '      \"physical_appearance\": \"Slender, agile with hair as '\n",
      "                'green as the woods and eyes shimmering like starlight\",\\n'\n",
      "                '      \"role\": \"Protagonist\",\\n'\n",
      "                '      \"gender\": \"Female\",\\n'\n",
      "                '      \"race\": \"Half-Elven\",\\n'\n",
      "                '      \"age\": \"22\",\\n'\n",
      "                '      \"catch_phrase\": \"By the whispers of the woods...\",\\n'\n",
      "                '      \"animation_description\": \"Moves with a silent, ethereal '\n",
      "                'grace\",\\n'\n",
      "                '      \"voice_description\": \"Soft, melodious with an '\n",
      "                'undercurrent of ancient wisdom\",\\n'\n",
      "                '      \"voice_sample\": null,\\n'\n",
      "                '      \"props\": [\"Staff of the Ancients\", \"Cloak of the '\n",
      "                'Emerald Woods\"],\\n'\n",
      "                '      \"relationships\": [\\n'\n",
      "                '        {\\n'\n",
      "                '          \"character_name\": \"Kael Darkshadow\",\\n'\n",
      "                '          \"relationship_type\": \"Mentor & Ally\",\\n'\n",
      "                '          \"description\": \"A wise, mysterious guardian who '\n",
      "                'guides Lyra through her journey\"\\n'\n",
      "                '        }\\n'\n",
      "                '      ],\\n'\n",
      "                '      \"internal_conflict\": \"Self-doubt in her ability to save '\n",
      "                'the Emerald Woods\",\\n'\n",
      "                '      \"character_arc\": {\\n'\n",
      "                '        \"initial_state\": \"Apprentice unsure of her place\",\\n'\n",
      "                '        \"final_state\": \"Confident Guardian of the Emerald '\n",
      "                'Woods\",\\n'\n",
      "                '        \"key_moments\": [\"Discovery of the prophecy\", '\n",
      "                '\"Alliance with the Luminari\"]\\n'\n",
      "                '      },\\n'\n",
      "                '      \"image_prompt\": \"Lyra standing at the edge of a glowing '\n",
      "                \"clearing, staff in hand, with the woods' ancient magic \"\n",
      "                'swirling around her.\",\\n'\n",
      "                '      \"image_prompt_short\": \"Lyra amidst magical woods\"\\n'\n",
      "                '    }\\n'\n",
      "                '  ],\\n'\n",
      "                '  \"props\": [\\n'\n",
      "                '    {\\n'\n",
      "                '      \"name\": \"Staff of the Ancients\",\\n'\n",
      "                '      \"description\": \"A powerful, glowing staff passed down '\n",
      "                'through the guardians of the Emerald Woods.\",\\n'\n",
      "                '      \"purpose\": \"Channeling and focusing magic\",\\n'\n",
      "                '      \"physical_appearance\": \"Tall, slender with intricate '\n",
      "                'carvings that shimmer in the dark\",\\n'\n",
      "                '      \"animation_description\": \"Glow intensifies when magic '\n",
      "                'is channeled\"\\n'\n",
      "                '    }\\n'\n",
      "                '  ],\\n'\n",
      "                '  \"story_beats\": [\\n'\n",
      "                '    {\\n'\n",
      "                '      \"name\": \"The Discovery\",\\n'\n",
      "                '      \"description\": \"Lyra finds the forgotten prophecy '\n",
      "                'hidden deep within the woods.\",\\n'\n",
      "                '      \"scene\": \"Ancient Ruins, under the light of a full '\n",
      "                'moon\"\\n'\n",
      "                '    },\\n'\n",
      "                '    {\\n'\n",
      "                '      \"name\": \"The Quest Begins\",\\n'\n",
      "                '      \"description\": \"Lyra sets out to unite the warring '\n",
      "                'factions.\",\\n'\n",
      "                '      \"scene\": \"The Great Oak Council, at dawn\"\\n'\n",
      "                '    }\\n'\n",
      "                '  ],\\n'\n",
      "                '  \"subplots\": [\\n'\n",
      "                '    {\\n'\n",
      "                '      \"title\": \"The Shadow Within\",\\n'\n",
      "                '      \"description\": \"Kael\\'s mysterious past threatens to '\n",
      "                'undermine Lyra\\'s quest.\",\\n'\n",
      "                '      \"related_characters\": [\"Lyra Flynn\", \"Kael '\n",
      "                'Darkshadow\"]\\n'\n",
      "                '    }\\n'\n",
      "                '  ],\\n'\n",
      "                '  \"emotional_arc\": [\\n'\n",
      "                '    {\\n'\n",
      "                '      \"stage\": \"Uncertainty\",\\n'\n",
      "                '      \"description\": \"Lyra doubts her ability to fulfill the '\n",
      "                'prophecy\"\\n'\n",
      "                '    },\\n'\n",
      "                '    {\\n'\n",
      "                '      \"stage\": \"Empowerment\",\\n'\n",
      "                '      \"description\": \"Lyra, with newfound confidence, leads '\n",
      "                'the final stand against darkness\"\\n'\n",
      "                '    }\\n'\n",
      "                '  ],\\n'\n",
      "                '  \"acts\": [\\n'\n",
      "                '    {\\n'\n",
      "                '      \"act_id\": \"1\",\\n'\n",
      "                '      \"title\": \"The Awakening\",\\n'\n",
      "                '      \"description\": \"Introduction to Lyra and the mystical '\n",
      "                'Emerald Woods\",\\n'\n",
      "                '      \"scenes\": [\\n'\n",
      "                '        {\\n'\n",
      "                '          \"scene_id\": \"1.1\",\\n'\n",
      "                '          \"title\": \"Moonlit Discovery\",\\n'\n",
      "                '          \"description\": \"Lyra stumbles upon an ancient, '\n",
      "                'hidden text.\",\\n'\n",
      "                '          \"characters_involved\": [\"Lyra Flynn\"],\\n'\n",
      "                '          \"setting\": \"Ancient Ruins\",\\n'\n",
      "                '          \"time_of_day\": \"Night\",\\n'\n",
      "                '          \"location\": \"Deep within the Emerald Woods\",\\n'\n",
      "                '          \"lighting\": \"Soft, moonlit glow\",\\n'\n",
      "                '          \"mood\": \"Mysterious, anticipatory\",\\n'\n",
      "                '          \"props\": [\"Ancient Texts\", \"Staff of the '\n",
      "                'Ancients\"],\\n'\n",
      "                '          \"key_actions\": [\"Lyra deciphers the ancient text\", '\n",
      "                '\"First glimpse of the prophecy\"],\\n'\n",
      "                '          \"dialogue\": [\\n'\n",
      "                '            {\"character\": \"Lyra\", \"line\": \"What secrets lie '\n",
      "                'within these ancient words?\"}\\n'\n",
      "                '          ],\\n'\n",
      "                '          \"background_image_prompt\": \"A moonlit, misty scene '\n",
      "                'with ruins in the background\",\\n'\n",
      "                '          \"background_animation\": \"Soft, swirling mist\",\\n'\n",
      "                '          \"scene_image_prompt\": \"Lyra kneeling, surrounded by '\n",
      "                'glowing texts\",\\n'\n",
      "                '          \"scene_image_prompt_short\": \"Lyra & Ancient Texts\"\\n'\n",
      "                '        }\\n'\n",
      "                '      ],\\n'\n",
      "                '      \"props\": [\"Ancient Wisdom Scrolls\"]\\n'\n",
      "                '    }\\n'\n",
      "                '  ]\\n'\n",
      "                '}\\n'\n",
      "                '```\\n'\n",
      "                '\\n'\n",
      "                '**Additional Narrative for Context (Beyond the JSON '\n",
      "                'Format)**\\n'\n",
      "                '\\n'\n",
      "                'In a world where magic is tied to the health of nature, the '\n",
      "                'Emerald Woods, a sanctuary of ancient power, begins to wither '\n",
      "                'under a mysterious darkness. Lyra Flynn, a young half-elven '\n",
      "                \"apprentice with an unparalleled affinity for the woods' \"\n",
      "                'magic, discovers a forgotten prophecy that declares her the '\n",
      "                'chosen one, destined to save the Emerald Woods and restore '\n",
      "                'balance to the forces of nature.\\n'\n",
      "                '\\n'\n",
      "                'Guided by Kael Darkshadow, a wise and enigmatic guardian, '\n",
      "                'Lyra embarks on a perilous quest to unite the fractured '\n",
      "                \"factions of the woods' protectors against their common enemy. \"\n",
      "                'Along her journey, Lyra must confront her own self-doubt and '\n",
      "                'learn to harness the true extent of her powers, all while '\n",
      "                'unraveling the mysteries of the prophecy and facing the '\n",
      "                'darkness that threatens to consume everything.\\n'\n",
      "                '\\n'\n",
      "                'As Lyra grows in strength and wisdom, she becomes the beacon '\n",
      "                'of hope for the Emerald Woods and its inhabitants, leading '\n",
      "                'the final stand against the forces of darkness in a climactic '\n",
      "                \"battle that will determine the fate of her world. Will Lyra's \"\n",
      "                'determination and the ancient magic of the Emerald Woods be '\n",
      "                'enough to save their beloved sanctuary, or will the shadows '\n",
      "                'prevail?',\n",
      " 'event': {'action_name': 'retry_json',\n",
      "           'action_params': {},\n",
      "           'action_result_key': 'failed_json',\n",
      "           'action_uid': '21a91a72-dbb2-4940-a307-2a4f21b244d8',\n",
      "           'event_created_at': '2024-11-09T18:06:23.566148+00:00',\n",
      "           'is_system_action': True,\n",
      "           'source_uid': 'NeMoGuardrails',\n",
      "           'type': 'StartInternalSystemAction',\n",
      "           'uid': '7dc4f05b-5a90-4ba1-babb-ef5e467d594d'},\n",
      " 'i': 0,\n",
      " 'last_bot_message': '{\"title\":\"\",\"video\":false,\"visual_style\":\"\",\"time_period\":\"\",\"location\":\"\",\"genre\":\"\",\"medium\":\"\",\"plot_overview\":\"A '\n",
      "                     'team of elite scientists embarks on a groundbreaking '\n",
      "                     'research mission to explore an uncharted alien planet '\n",
      "                     'teeming with potential for supporting life. Led by Dr. '\n",
      "                     'Elena Martinez, the crew includes experts in various '\n",
      "                     'fields, each eager to make history. However, upon '\n",
      "                     'arrival, a catastrophic malfunction causes their '\n",
      "                     'spaceship to crash-land, leaving them stranded with '\n",
      "                     'limited supplies and no way to contact Earth.\\\\n\\\\nAs '\n",
      "                     \"they assess their situation, they encounter the planet's \"\n",
      "                     'hostile environment filled with dangerous flora and '\n",
      "                     \"fauna unlike anything they've seen before. Tensions rise \"\n",
      "                     'within the group as they struggle to survive harsh '\n",
      "                     'weather conditions, dwindling resources, and internal '\n",
      "                     'conflicts. Days turn into weeks as the scientists '\n",
      "                     'discover mysterious ruins suggesting an ancient '\n",
      "                     'civilization once thrived there.\\\\n\\\\nDr. Martinez '\n",
      "                     'becomes obsessed with uncovering the secrets of the '\n",
      "                     'planet, believing it holds the key to their survival. '\n",
      "                     'The team must navigate treacherous terrains, decode '\n",
      "                     'alien technology, and confront their own fears and '\n",
      "                     'weaknesses. In a race against time, they work together '\n",
      "                     'to repair their ship using alien materials and knowledge '\n",
      "                     'gleaned from the ruins.\\\\n\\\\nUltimately, they must '\n",
      "                     'decide whether to return home or stay and continue '\n",
      "                     'exploring the profound mysteries of the planet that has '\n",
      "                     'both threatened and captivated them. Through their '\n",
      "                     'journey, they learn valuable lessons about cooperation, '\n",
      "                     'resilience, and the ethical implications of their '\n",
      "                     'mission.\",\"narrative_perspective\":\"\",\"conflict_type\":\"\",\"themes\":[],\"motifs\":[],\"characters\":[],\"props\":[],\"story_beats\":[],\"subplots\":[],\"emotional_arc\":[],\"acts\":[]}',\n",
      " 'last_user_message': 'Generate a story based on the following: Write a '\n",
      "                      'fantasy story about a magical forest in the following '\n",
      "                      'json format: \\n'\n",
      "                      '\\n'\n",
      "                      '{\"prompt\":\"\",\"title\":\"\",\"video\":false,\"visual_style\":\"\",\"time_period\":\"\",\"location\":\"\",\"genre\":\"\",\"medium\":\"\",\"plot_overview\":\"\",\"narrative_perspective\":\"\",\"conflict_type\":\"\",\"themes\":[],\"motifs\":[],\"characters\":[{\"nickname\":\"\",\"name\":\"\",\"description\":\"\",\"personality\":\"\",\"physical_appearance\":\"\",\"role\":\"\",\"gender\":\"\",\"race\":\"\",\"age\":\"\",\"catch_phrase\":\"\",\"animation_description\":\"\",\"voice_description\":\"\",\"voice_sample\":null,\"props\":[],\"relationships\":[{\"character_name\":null,\"relationship_type\":null,\"description\":\"\"}],\"internal_conflict\":\"\",\"character_arc\":{\"initial_state\":\"\",\"final_state\":\"\",\"key_moments\":[\"\"]},\"image_prompt\":\"\",\"image_prompt_short\":\"\"}],\"props\":[{\"name\":\"\",\"description\":\"\",\"purpose\":\"\",\"physical_appearance\":\"\",\"animation_description\":\"\"}],\"story_beats\":[{\"name\":null,\"description\":null,\"scene\":\"\"}],\"subplots\":[{\"title\":null,\"description\":\"\",\"related_characters\":[]}],\"emotional_arc\":[{\"stage\":null,\"description\":\"\"}],\"acts\":[{\"act_id\":\"\",\"title\":\"\",\"description\":\"\",\"scenes\":[{\"scene_id\":\"\",\"title\":\"\",\"description\":\"\",\"characters_involved\":[\"\"],\"setting\":\"\",\"time_of_day\":\"\",\"location\":\"\",\"lighting\":\"\",\"mood\":\"\",\"props\":[\"\"],\"key_actions\":[\"\"],\"dialogue\":[],\"background_image_prompt\":\"\",\"background_animation\":\"\",\"scene_image_prompt\":\"\",\"scene_image_prompt_short\":\"\"}],\"props\":[\"\"]}]}',\n",
      " 'output_flows': ['retry json'],\n",
      " 'triggered_output_rail': 'retry json',\n",
      " 'user_message': 'Generate a story based on the following: Write a fantasy '\n",
      "                 'story about a magical forest in the following json format: \\n'\n",
      "                 '\\n'\n",
      "                 '{\"prompt\":\"\",\"title\":\"\",\"video\":false,\"visual_style\":\"\",\"time_period\":\"\",\"location\":\"\",\"genre\":\"\",\"medium\":\"\",\"plot_overview\":\"\",\"narrative_perspective\":\"\",\"conflict_type\":\"\",\"themes\":[],\"motifs\":[],\"characters\":[{\"nickname\":\"\",\"name\":\"\",\"description\":\"\",\"personality\":\"\",\"physical_appearance\":\"\",\"role\":\"\",\"gender\":\"\",\"race\":\"\",\"age\":\"\",\"catch_phrase\":\"\",\"animation_description\":\"\",\"voice_description\":\"\",\"voice_sample\":null,\"props\":[],\"relationships\":[{\"character_name\":null,\"relationship_type\":null,\"description\":\"\"}],\"internal_conflict\":\"\",\"character_arc\":{\"initial_state\":\"\",\"final_state\":\"\",\"key_moments\":[\"\"]},\"image_prompt\":\"\",\"image_prompt_short\":\"\"}],\"props\":[{\"name\":\"\",\"description\":\"\",\"purpose\":\"\",\"physical_appearance\":\"\",\"animation_description\":\"\"}],\"story_beats\":[{\"name\":null,\"description\":null,\"scene\":\"\"}],\"subplots\":[{\"title\":null,\"description\":\"\",\"related_characters\":[]}],\"emotional_arc\":[{\"stage\":null,\"description\":\"\"}],\"acts\":[{\"act_id\":\"\",\"title\":\"\",\"description\":\"\",\"scenes\":[{\"scene_id\":\"\",\"title\":\"\",\"description\":\"\",\"characters_involved\":[\"\"],\"setting\":\"\",\"time_of_day\":\"\",\"location\":\"\",\"lighting\":\"\",\"mood\":\"\",\"props\":[\"\"],\"key_actions\":[\"\"],\"dialogue\":[],\"background_image_prompt\":\"\",\"background_animation\":\"\",\"scene_image_prompt\":\"\",\"scene_image_prompt_short\":\"\"}],\"props\":[\"\"]}]}'}\n",
      "Failed to parse Story JSON. Trying to repair json. Attempt 4\n",
      "Failed to parse Story JSON. Attempt 4\n",
      "1 validation error for Story\n",
      "acts.0.scenes.0.dialogue.0.character_nickname\n",
      "  Field required [type=missing, input_value={'character': 'Lyra', 'li...n these ancient words?'}, input_type=dict]\n",
      "    For further information visit https://errors.pydantic.dev/2.9/v/missing\n",
      "!!!!!!!!!! call_llm !!!!!!!!!!!\n",
      "Failed too many times!\n"
     ]
    },
    {
     "data": {
      "text/html": [
       "<pre style=\"white-space:pre;overflow-x:auto;line-height:normal;font-family:Menlo,'DejaVu Sans Mono',consolas,'Courier New',monospace\"><span style=\"color: #7f7f7f; text-decoration-color: #7f7f7f\">13:06:23.582</span> | <span style=\"color: #7f7fbf; text-decoration-color: #7f7fbf\">Event</span><span style=\"color: #7f7f7f; text-decoration-color: #7f7f7f\"> </span><span style=\"color: #7f7f7f; text-decoration-color: #7f7f7f; font-weight: bold\">InternalSystemActionFinished</span> | <span style=\"color: #7f7f7f; text-decoration-color: #7f7f7f\">{'uid': '48bb...', 'action_uid': '21a9...', 'action_name': </span>\n",
       "<span style=\"color: #7f7f7f; text-decoration-color: #7f7f7f\">'retry_json', 'action_params': {}, 'action_result_key': 'failed_json', 'status': 'success', 'is_success': True, </span>\n",
       "<span style=\"color: #7f7f7f; text-decoration-color: #7f7f7f\">'return_value': True, 'events': [], 'is_system_action': True}</span>\n",
       "</pre>\n"
      ],
      "text/plain": [
       "\u001b[2m13:06:23.582\u001b[0m | \u001b[2;34mEvent\u001b[0m\u001b[2m \u001b[0m\u001b[1;2mInternalSystemActionFinished\u001b[0m | \u001b[2m{'uid': '48bb...', 'action_uid': '21a9...', 'action_name': \u001b[0m\n",
       "\u001b[2m'retry_json', 'action_params': {}, 'action_result_key': 'failed_json', 'status': 'success', 'is_success': True, \u001b[0m\n",
       "\u001b[2m'return_value': True, 'events': [], 'is_system_action': True}\u001b[0m\n"
      ]
     },
     "metadata": {},
     "output_type": "display_data"
    },
    {
     "data": {
      "text/html": [
       "<pre style=\"white-space:pre;overflow-x:auto;line-height:normal;font-family:Menlo,'DejaVu Sans Mono',consolas,'Courier New',monospace\"><span style=\"color: #7f7f7f; text-decoration-color: #7f7f7f\">13:06:23.586</span> | <span style=\"color: #7f7fbf; text-decoration-color: #7f7fbf\">Event</span><span style=\"color: #7f7f7f; text-decoration-color: #7f7f7f\"> </span><span style=\"color: #7f7f7f; text-decoration-color: #7f7f7f; font-weight: bold\">BotIntent</span> | <span style=\"color: #7f7f7f; text-decoration-color: #7f7f7f\">{'uid': 'f0f5...', 'intent': 'inform cannot parse json'}</span>\n",
       "</pre>\n"
      ],
      "text/plain": [
       "\u001b[2m13:06:23.586\u001b[0m | \u001b[2;34mEvent\u001b[0m\u001b[2m \u001b[0m\u001b[1;2mBotIntent\u001b[0m | \u001b[2m{'uid': 'f0f5...', 'intent': 'inform cannot parse json'}\u001b[0m\n"
      ]
     },
     "metadata": {},
     "output_type": "display_data"
    },
    {
     "data": {
      "text/html": [
       "<pre style=\"white-space:pre;overflow-x:auto;line-height:normal;font-family:Menlo,'DejaVu Sans Mono',consolas,'Courier New',monospace\"><span style=\"color: #7f7f7f; text-decoration-color: #7f7f7f\">13:06:23.587</span> | <span style=\"color: #7f7fbf; text-decoration-color: #7f7fbf\">Event</span><span style=\"color: #7f7f7f; text-decoration-color: #7f7f7f\"> </span><span style=\"color: #7f7f7f; text-decoration-color: #7f7f7f; font-weight: bold\">StartInternalSystemAction</span> | <span style=\"color: #7f7f7f; text-decoration-color: #7f7f7f\">{'uid': '5165...', 'action_name': 'retrieve_relevant_chunks', </span>\n",
       "<span style=\"color: #7f7f7f; text-decoration-color: #7f7f7f\">'action_params': {}, 'action_result_key': None, 'action_uid': '99d4...', 'is_system_action': True}</span>\n",
       "</pre>\n"
      ],
      "text/plain": [
       "\u001b[2m13:06:23.587\u001b[0m | \u001b[2;34mEvent\u001b[0m\u001b[2m \u001b[0m\u001b[1;2mStartInternalSystemAction\u001b[0m | \u001b[2m{'uid': '5165...', 'action_name': 'retrieve_relevant_chunks', \u001b[0m\n",
       "\u001b[2m'action_params': {}, 'action_result_key': None, 'action_uid': '99d4...', 'is_system_action': True}\u001b[0m\n"
      ]
     },
     "metadata": {},
     "output_type": "display_data"
    },
    {
     "data": {
      "text/html": [
       "<pre style=\"white-space:pre;overflow-x:auto;line-height:normal;font-family:Menlo,'DejaVu Sans Mono',consolas,'Courier New',monospace\"><span style=\"color: #7f7f7f; text-decoration-color: #7f7f7f\">13:06:23.587</span> | <span style=\"color: #b7b7b7; text-decoration-color: #b7b7b7\">Executing action</span><span style=\"color: #7f7f7f; text-decoration-color: #7f7f7f\"> </span><span style=\"color: #aaaaaa; text-decoration-color: #aaaaaa\">retrieve_relevant_chunks</span>\n",
       "</pre>\n"
      ],
      "text/plain": [
       "\u001b[2m13:06:23.587\u001b[0m | \u001b[2;38;2;112;112;112mExecuting action\u001b[0m\u001b[2m \u001b[0m\u001b[2;38;2;85;85;85mretrieve_relevant_chunks\u001b[0m\n"
      ]
     },
     "metadata": {},
     "output_type": "display_data"
    },
    {
     "data": {
      "text/html": [
       "<pre style=\"white-space:pre;overflow-x:auto;line-height:normal;font-family:Menlo,'DejaVu Sans Mono',consolas,'Courier New',monospace\"><span style=\"color: #7f7f7f; text-decoration-color: #7f7f7f\">13:06:23.588</span> | <span style=\"color: #7f7fbf; text-decoration-color: #7f7fbf\">Event</span><span style=\"color: #7f7f7f; text-decoration-color: #7f7f7f\"> </span><span style=\"color: #7f7f7f; text-decoration-color: #7f7f7f; font-weight: bold\">InternalSystemActionFinished</span> | <span style=\"color: #7f7f7f; text-decoration-color: #7f7f7f\">{'uid': '1f4b...', 'action_uid': '99d4...', 'action_name': </span>\n",
       "<span style=\"color: #7f7f7f; text-decoration-color: #7f7f7f\">'retrieve_relevant_chunks', 'action_params': {}, 'action_result_key': None, 'status': 'success', 'is_success': </span>\n",
       "<span style=\"color: #7f7f7f; text-decoration-color: #7f7f7f\">True, 'return_value': '\\n', 'events': None, 'is_system_action': True}</span>\n",
       "</pre>\n"
      ],
      "text/plain": [
       "\u001b[2m13:06:23.588\u001b[0m | \u001b[2;34mEvent\u001b[0m\u001b[2m \u001b[0m\u001b[1;2mInternalSystemActionFinished\u001b[0m | \u001b[2m{'uid': '1f4b...', 'action_uid': '99d4...', 'action_name': \u001b[0m\n",
       "\u001b[2m'retrieve_relevant_chunks', 'action_params': {}, 'action_result_key': None, 'status': 'success', 'is_success': \u001b[0m\n",
       "\u001b[2mTrue, 'return_value': '\\n', 'events': None, 'is_system_action': True}\u001b[0m\n"
      ]
     },
     "metadata": {},
     "output_type": "display_data"
    },
    {
     "data": {
      "text/html": [
       "<pre style=\"white-space:pre;overflow-x:auto;line-height:normal;font-family:Menlo,'DejaVu Sans Mono',consolas,'Courier New',monospace\"><span style=\"color: #7f7f7f; text-decoration-color: #7f7f7f\">13:06:23.589</span> | <span style=\"color: #7f7fbf; text-decoration-color: #7f7fbf\">Event</span><span style=\"color: #7f7f7f; text-decoration-color: #7f7f7f\"> </span><span style=\"color: #7f7f7f; text-decoration-color: #7f7f7f; font-weight: bold\">StartInternalSystemAction</span> | <span style=\"color: #7f7f7f; text-decoration-color: #7f7f7f\">{'uid': '81b5...', 'action_name': 'generate_bot_message', </span>\n",
       "<span style=\"color: #7f7f7f; text-decoration-color: #7f7f7f\">'action_params': {}, 'action_result_key': None, 'action_uid': '011f...', 'is_system_action': True}</span>\n",
       "</pre>\n"
      ],
      "text/plain": [
       "\u001b[2m13:06:23.589\u001b[0m | \u001b[2;34mEvent\u001b[0m\u001b[2m \u001b[0m\u001b[1;2mStartInternalSystemAction\u001b[0m | \u001b[2m{'uid': '81b5...', 'action_name': 'generate_bot_message', \u001b[0m\n",
       "\u001b[2m'action_params': {}, 'action_result_key': None, 'action_uid': '011f...', 'is_system_action': True}\u001b[0m\n"
      ]
     },
     "metadata": {},
     "output_type": "display_data"
    },
    {
     "data": {
      "text/html": [
       "<pre style=\"white-space:pre;overflow-x:auto;line-height:normal;font-family:Menlo,'DejaVu Sans Mono',consolas,'Courier New',monospace\"><span style=\"color: #7f7f7f; text-decoration-color: #7f7f7f\">13:06:23.590</span> | <span style=\"color: #b7b7b7; text-decoration-color: #b7b7b7\">Executing action</span><span style=\"color: #7f7f7f; text-decoration-color: #7f7f7f\"> </span><span style=\"color: #aaaaaa; text-decoration-color: #aaaaaa\">generate_bot_message</span>\n",
       "</pre>\n"
      ],
      "text/plain": [
       "\u001b[2m13:06:23.590\u001b[0m | \u001b[2;38;2;112;112;112mExecuting action\u001b[0m\u001b[2m \u001b[0m\u001b[2;38;2;85;85;85mgenerate_bot_message\u001b[0m\n"
      ]
     },
     "metadata": {},
     "output_type": "display_data"
    },
    {
     "data": {
      "text/html": [
       "<pre style=\"white-space:pre;overflow-x:auto;line-height:normal;font-family:Menlo,'DejaVu Sans Mono',consolas,'Courier New',monospace\"><span style=\"color: #7f7f7f; text-decoration-color: #7f7f7f\">13:06:23.590</span> | <span style=\"color: #b7b7b7; text-decoration-color: #b7b7b7\">Phase 3</span><span style=\"color: #7f7f7f; text-decoration-color: #7f7f7f\"> </span><span style=\"color: #aaaaaa; text-decoration-color: #aaaaaa\">Generating bot message ...</span>\n",
       "</pre>\n"
      ],
      "text/plain": [
       "\u001b[2m13:06:23.590\u001b[0m | \u001b[2;38;2;112;112;112mPhase 3\u001b[0m\u001b[2m \u001b[0m\u001b[2;38;2;85;85;85mGenerating bot message ...\u001b[0m\n"
      ]
     },
     "metadata": {},
     "output_type": "display_data"
    },
    {
     "data": {
      "text/html": [
       "<pre style=\"white-space:pre;overflow-x:auto;line-height:normal;font-family:Menlo,'DejaVu Sans Mono',consolas,'Courier New',monospace\"><span style=\"color: #7f7f7f; text-decoration-color: #7f7f7f\">13:06:23.591</span> | <span style=\"color: #7f7fbf; text-decoration-color: #7f7fbf\">Event</span><span style=\"color: #7f7f7f; text-decoration-color: #7f7f7f\"> </span><span style=\"color: #7f7f7f; text-decoration-color: #7f7f7f; font-weight: bold\">BotMessage</span> | <span style=\"color: #7f7f7f; text-decoration-color: #7f7f7f\">{'uid': '0ce7...', 'text': 'Unable to parse the Story JSON.'}</span>\n",
       "</pre>\n"
      ],
      "text/plain": [
       "\u001b[2m13:06:23.591\u001b[0m | \u001b[2;34mEvent\u001b[0m\u001b[2m \u001b[0m\u001b[1;2mBotMessage\u001b[0m | \u001b[2m{'uid': '0ce7...', 'text': 'Unable to parse the Story JSON.'}\u001b[0m\n"
      ]
     },
     "metadata": {},
     "output_type": "display_data"
    },
    {
     "data": {
      "text/html": [
       "<pre style=\"white-space:pre;overflow-x:auto;line-height:normal;font-family:Menlo,'DejaVu Sans Mono',consolas,'Courier New',monospace\"><span style=\"color: #7f7f7f; text-decoration-color: #7f7f7f\">13:06:23.592</span> | <span style=\"color: #7f7fbf; text-decoration-color: #7f7fbf\">Event</span><span style=\"color: #7f7f7f; text-decoration-color: #7f7f7f\"> </span><span style=\"color: #7f7f7f; text-decoration-color: #7f7f7f; font-weight: bold\">StartInternalSystemAction</span> | <span style=\"color: #7f7f7f; text-decoration-color: #7f7f7f\">{'uid': '4552...', 'action_name': 'create_event', 'action_params':</span>\n",
       "<span style=\"color: #7f7f7f; text-decoration-color: #7f7f7f\">{'event': {'_type': 'StartUtteranceBotAction', 'script': '$bot_message'}}, 'action_result_key': None, 'action_uid':</span>\n",
       "<span style=\"color: #7f7f7f; text-decoration-color: #7f7f7f\">'b916...', 'is_system_action': True}</span>\n",
       "</pre>\n"
      ],
      "text/plain": [
       "\u001b[2m13:06:23.592\u001b[0m | \u001b[2;34mEvent\u001b[0m\u001b[2m \u001b[0m\u001b[1;2mStartInternalSystemAction\u001b[0m | \u001b[2m{'uid': '4552...', 'action_name': 'create_event', 'action_params':\u001b[0m\n",
       "\u001b[2m{'event': {'_type': 'StartUtteranceBotAction', 'script': '$bot_message'}}, 'action_result_key': None, 'action_uid':\u001b[0m\n",
       "\u001b[2m'b916...', 'is_system_action': True}\u001b[0m\n"
      ]
     },
     "metadata": {},
     "output_type": "display_data"
    },
    {
     "data": {
      "text/html": [
       "<pre style=\"white-space:pre;overflow-x:auto;line-height:normal;font-family:Menlo,'DejaVu Sans Mono',consolas,'Courier New',monospace\"><span style=\"color: #7f7f7f; text-decoration-color: #7f7f7f\">13:06:23.592</span> | <span style=\"color: #b7b7b7; text-decoration-color: #b7b7b7\">Executing action</span><span style=\"color: #7f7f7f; text-decoration-color: #7f7f7f\"> </span><span style=\"color: #aaaaaa; text-decoration-color: #aaaaaa\">create_event</span>\n",
       "</pre>\n"
      ],
      "text/plain": [
       "\u001b[2m13:06:23.592\u001b[0m | \u001b[2;38;2;112;112;112mExecuting action\u001b[0m\u001b[2m \u001b[0m\u001b[2;38;2;85;85;85mcreate_event\u001b[0m\n"
      ]
     },
     "metadata": {},
     "output_type": "display_data"
    },
    {
     "data": {
      "text/html": [
       "<pre style=\"white-space:pre;overflow-x:auto;line-height:normal;font-family:Menlo,'DejaVu Sans Mono',consolas,'Courier New',monospace\"><span style=\"color: #7f7f7f; text-decoration-color: #7f7f7f\">13:06:23.593</span> | <span style=\"color: #7f7fbf; text-decoration-color: #7f7fbf\">Event</span><span style=\"color: #7f7f7f; text-decoration-color: #7f7f7f\"> </span><span style=\"color: #7f7f7f; text-decoration-color: #7f7f7f; font-weight: bold\">StartUtteranceBotAction</span> | <span style=\"color: #7f7f7f; text-decoration-color: #7f7f7f\">{'uid': '425a...', 'script': 'Unable to parse the Story JSON.', </span>\n",
       "<span style=\"color: #7f7f7f; text-decoration-color: #7f7f7f\">'action_uid': 'cfe2...'}</span>\n",
       "</pre>\n"
      ],
      "text/plain": [
       "\u001b[2m13:06:23.593\u001b[0m | \u001b[2;34mEvent\u001b[0m\u001b[2m \u001b[0m\u001b[1;2mStartUtteranceBotAction\u001b[0m | \u001b[2m{'uid': '425a...', 'script': 'Unable to parse the Story JSON.', \u001b[0m\n",
       "\u001b[2m'action_uid': 'cfe2...'}\u001b[0m\n"
      ]
     },
     "metadata": {},
     "output_type": "display_data"
    },
    {
     "data": {
      "text/html": [
       "<pre style=\"white-space:pre;overflow-x:auto;line-height:normal;font-family:Menlo,'DejaVu Sans Mono',consolas,'Courier New',monospace\"><span style=\"color: #7f7f7f; text-decoration-color: #7f7f7f\">13:06:23.594</span> | <span style=\"color: #7f7fbf; text-decoration-color: #7f7fbf\">Event</span><span style=\"color: #7f7f7f; text-decoration-color: #7f7f7f\"> </span><span style=\"color: #7f7f7f; text-decoration-color: #7f7f7f; font-weight: bold\">BotIntent</span> | <span style=\"color: #7f7f7f; text-decoration-color: #7f7f7f\">{'uid': 'e55b...', 'intent': 'stop'}</span>\n",
       "</pre>\n"
      ],
      "text/plain": [
       "\u001b[2m13:06:23.594\u001b[0m | \u001b[2;34mEvent\u001b[0m\u001b[2m \u001b[0m\u001b[1;2mBotIntent\u001b[0m | \u001b[2m{'uid': 'e55b...', 'intent': 'stop'}\u001b[0m\n"
      ]
     },
     "metadata": {},
     "output_type": "display_data"
    },
    {
     "data": {
      "text/html": [
       "<pre style=\"white-space:pre;overflow-x:auto;line-height:normal;font-family:Menlo,'DejaVu Sans Mono',consolas,'Courier New',monospace\"><span style=\"color: #7f7f7f; text-decoration-color: #7f7f7f\">13:06:23.595</span> | <span style=\"color: #aaaaaa; text-decoration-color: #aaaaaa\">Total processing took 92.87 seconds. LLM Stats: 1 total calls, 92.82 total time, 0 total tokens, 0 </span>\n",
       "<span style=\"color: #aaaaaa; text-decoration-color: #aaaaaa\">total prompt tokens, 0 total completion tokens, [92.82] as latencies</span>\n",
       "</pre>\n"
      ],
      "text/plain": [
       "\u001b[2m13:06:23.595\u001b[0m | \u001b[2;38;2;85;85;85mTotal processing took 92.87 seconds. LLM Stats: 1 total calls, 92.82 total time, 0 total tokens, 0 \u001b[0m\n",
       "\u001b[2;38;2;85;85;85mtotal prompt tokens, 0 total completion tokens, [92.82] as latencies\u001b[0m\n"
      ]
     },
     "metadata": {},
     "output_type": "display_data"
    },
    {
     "name": "stdout",
     "output_type": "stream",
     "text": [
      "Validated Response: {'role': 'assistant', 'content': 'Unable to parse the Story JSON.'}\n"
     ]
    }
   ],
   "source": [
    "from guardrails import rail_story\n",
    "import nest_asyncio\n",
    "nest_asyncio.apply()\n",
    "from utils import blank_story, deindent\n",
    "from model import Story\n",
    "\n",
    "story_rails_llm = rail_story()\n",
    "story_json = blank_story.model_dump_json()\n",
    "\n",
    "few_shot = Story(\n",
    "    prompt=\"A team of scientists must survive on an alien planet after a research mission goes horribly wrong.\",\n",
    "    plot_overview=deindent(\"\"\"\n",
    "        A team of elite scientists embarks on a groundbreaking research mission to explore an uncharted alien planet teeming with potential for supporting life. Led by Dr. Elena Martinez, the crew includes experts in various fields, each eager to make history. However, upon arrival, a catastrophic malfunction causes their spaceship to crash-land, leaving them stranded with limited supplies and no way to contact Earth.\n",
    "\n",
    "        As they assess their situation, they encounter the planet's hostile environment filled with dangerous flora and fauna unlike anything they've seen before. Tensions rise within the group as they struggle to survive harsh weather conditions, dwindling resources, and internal conflicts. Days turn into weeks as the scientists discover mysterious ruins suggesting an ancient civilization once thrived there.\n",
    "\n",
    "        Dr. Martinez becomes obsessed with uncovering the secrets of the planet, believing it holds the key to their survival. The team must navigate treacherous terrains, decode alien technology, and confront their own fears and weaknesses. In a race against time, they work together to repair their ship using alien materials and knowledge gleaned from the ruins.\n",
    "\n",
    "        Ultimately, they must decide whether to return home or stay and continue exploring the profound mysteries of the planet that has both threatened and captivated them. Through their journey, they learn valuable lessons about cooperation, resilience, and the ethical implications of their mission.\n",
    "    \"\"\")\n",
    ")\n",
    "\n",
    "prompt_prefix = 'Generate a story based on the following: '\n",
    "\n",
    "\n",
    "# Define a function to use the updated flow for story generation and validation\n",
    "def generate_story_with_validation(prompt):\n",
    "    completion = story_rails_llm.generate(\n",
    "        messages=[\n",
    "            # {\"role\": \"system\", \"content\": \"You are a JSON Story Generator. You take a request form a user and you only output one valid JSON object.\"},\n",
    "            {\"role\": \"user\", \"content\": prompt_prefix + few_shot.model_dump_json(include=[\"prompt\"])},\n",
    "            {\"role\": \"assistant\", \"content\": few_shot.model_dump_json(exclude=[\"prompt\"])},\n",
    "            {\"role\": \"user\", \"content\": prompt_prefix + prompt},\n",
    "        ],\n",
    "        # flow=\"validate_and_retry_output\"  # Specify the flow explicitly\n",
    "    )\n",
    "    return completion\n",
    "\n",
    "# completion = story_rails_llm.generate(\n",
    "#     messages=[{\"role\": \"user\", \"content\": \"Hello world!\"}]\n",
    "# )\n",
    "\n",
    "print(\"story_json:\", story_json)\n",
    "\n",
    "prompt = \"Write a fantasy story about a magical forest in the following json format: \\n\\n\" + story_json\n",
    "response = generate_story_with_validation(prompt)\n",
    "print(\"Validated Response:\", response)\n"
   ]
  },
  {
   "cell_type": "code",
   "execution_count": 8,
   "metadata": {},
   "outputs": [],
   "source": [
    "# app = rail_story()\n",
    "# history = [\n",
    "#     {\"role\": \"system\", \"content\": \"You are a helpful assistant.\"},\n",
    "#     {\"role\": \"user\", \"content\": \"What is the capital of France?\"},\n",
    "# ]\n",
    "# result = app.generate(\n",
    "#     messages=history\n",
    "# )"
   ]
  },
  {
   "cell_type": "code",
   "execution_count": 9,
   "metadata": {},
   "outputs": [
    {
     "ename": "NameError",
     "evalue": "name 'result' is not defined",
     "output_type": "error",
     "traceback": [
      "\u001b[0;31m---------------------------------------------------------------------------\u001b[0m",
      "\u001b[0;31mNameError\u001b[0m                                 Traceback (most recent call last)",
      "Cell \u001b[0;32mIn[9], line 1\u001b[0m\n\u001b[0;32m----> 1\u001b[0m \u001b[43mresult\u001b[49m\n",
      "\u001b[0;31mNameError\u001b[0m: name 'result' is not defined"
     ]
    }
   ],
   "source": [
    "result"
   ]
  }
 ],
 "metadata": {
  "kernelspec": {
   "display_name": "plotomatic",
   "language": "python",
   "name": "python3"
  },
  "language_info": {
   "codemirror_mode": {
    "name": "ipython",
    "version": 3
   },
   "file_extension": ".py",
   "mimetype": "text/x-python",
   "name": "python",
   "nbconvert_exporter": "python",
   "pygments_lexer": "ipython3",
   "version": "3.12.7"
  }
 },
 "nbformat": 4,
 "nbformat_minor": 2
}
