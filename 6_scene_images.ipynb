{
 "cells": [
  {
   "cell_type": "markdown",
   "metadata": {},
   "source": [
    "# Scene Images\n",
    "\n",
    "Once again, here is our story so far since generating characters."
   ]
  },
  {
   "cell_type": "code",
   "execution_count": null,
   "metadata": {},
   "outputs": [],
   "source": [
    "import settings\n",
    "from model import Story, Character, Scene\n",
    "\n",
    "story = Story.load_from_directory(settings.STORY_DIR + \"/step_5\")\n",
    "\n",
    "story.display()"
   ]
  },
  {
   "cell_type": "markdown",
   "metadata": {},
   "source": [
    "# Image Generation\n",
    "Generate images from text"
   ]
  },
  {
   "cell_type": "code",
   "execution_count": null,
   "metadata": {},
   "outputs": [],
   "source": [
    "# Load the model\n",
    "from model_image import generate_image"
   ]
  },
  {
   "cell_type": "markdown",
   "metadata": {},
   "source": [
    "## Scene Image Generation"
   ]
  },
  {
   "cell_type": "code",
   "execution_count": null,
   "metadata": {},
   "outputs": [],
   "source": [
    "# Function to generate images for characters\n",
    "\n",
    "from typing import List\n",
    "from IPython.display import Markdown, display\n",
    "\n",
    "\n",
    "def generate_scene_image_prompt(story: Story, scene: Scene):\n",
    "    prompt = (\n",
    "        f\"Create a {story.visual_style} wide shot of a background scene for use in a {story.medium}. \\n\\n\"\n",
    "        f\"Layer 1 (Background): {scene.background_image_prompt} \\n\\n\"\n",
    "        # f\"Use lighting that hints at a cosmic or supernatural glow, giving the background a sense of energy.\\n\\n\"\n",
    "        # f\"Layer 2 (Foreground):  including hands, feet, arms, legs and face of {character.image_prompt}. \\n\\n\"\n",
    "        # f\"Layer 2 (Foreground):  Full body character: {character.image_prompt}. \\n\\n\"\n",
    "        # f\"{story.visual_style} style for a {story.medium}\\n\\n\"\n",
    "        # f\"Focus on {character.physical_appearance}, emphasizing {character.personality}. \"\n",
    "    )\n",
    "    return prompt\n",
    "\n",
    "# def generate_scene_image_prompt(story: Story, scene: Scene):\n",
    "#     \"\"\"Generate a prompt to input into a text-to-image model\"\"\"\n",
    "#     # prompt = f\"\"\"A {story.visual_style} photo of Empty character-less Background image to be used as a backdrop for a scene with room for characters and objects to be placed on top. There needs to be ground or a floor to stand on.  {story.genre} in a {story.medium}. Lighting is {scene.lighting}. Setting is {scene.setting}. Location is {scene.location}. Mood is {scene.mood}. Time period is {story.time_period}. {story.visual_style}. \"\"\"\n",
    "#     prompt = scene.background_image_prompt\n",
    "\n",
    "#     return prompt\n",
    "\n",
    "# def generate_scene_image_prompt_live(story: Story, scene: Scene):\n",
    "#     \"\"\"Generate a prompt to input into a text-to-image model\"\"\"\n",
    "#     # Rag to get the characters\n",
    "#     # characters = [story.characters[physical_appearance for act in story.acts for character in act.characters]\n",
    "#     characters = []\n",
    "#     for character in story.characters:\n",
    "#         if character.name in scene.characters_involved:\n",
    "#             characters.append(f\" a {character.gender} {character.race} {character.physical_appearance}.\")\n",
    "            \n",
    "#     prompt = f\"\"\"A {story.visual_style} photo  {story.genre} in a {story.medium} . Lighting is {scene.lighting}. Setting is {scene.setting}. Location is {scene.location}. Mood is {scene.mood}. Time period is {story.time_period}. {story.visual_style}. Characters are {\".\".join(characters)} \"\"\"\n",
    "#     return prompt\n",
    "\n",
    "def generate_scene_images(story: Story, scenes: List[Scene]=None, background=False, debug_display=False):\n",
    "    if not scenes:\n",
    "        scenes = [scene for act in story.acts for scene in act.scenes]\n",
    "\n",
    "    # TODO: Possibly batch these later, but for now we are crashing the Jupyter kernel for some reason\n",
    "    \n",
    "    images = {}\n",
    "\n",
    "    for scene in scenes:\n",
    "        if background:\n",
    "            prompt = generate_scene_image_prompt(story, scene)\n",
    "            # image = generate_image(prompt, height=392, width=512)\n",
    "            # image = generate_image(prompt, height=704, width=1280)\n",
    "            if debug_display:\n",
    "                display(Markdown(f\"---\\n### Generated Image for scene: {scene.title}\"))\n",
    "                display(Markdown(f\"\\nPrompt: \\n```\\n{prompt}\\n```\"))\n",
    "            image = generate_image(prompt, height=settings.CHARACTER_ANIMATION_HEIGHT, width=settings.CHARACTER_ANIMATION_WIDTH)\n",
    "            # image = generate_image(prompt)\n",
    "            images[scene.title] = image\n",
    "        else:\n",
    "            prompt = scene.scene_image_prompt\n",
    "            # prompt = generate_scene_image_prompt_live(story, scene)\n",
    "            # p2 = scene.scene_image_prompt\n",
    "            # p1 = scene.scene_image_prompt_short if scene.scene_image_prompt_short else p2\n",
    "\n",
    "            if debug_display:\n",
    "                display(Markdown(f\"---\\n### Generated Image for scene: {scene.title}\"))\n",
    "                display(Markdown(f\"\\nPrompt: \\n```\\n{prompt}\\n```\"))\n",
    "            # image = generate_image(prompt=p1, prompt2=p2)\n",
    "            image = generate_image(prompt=prompt, height=settings.CHARACTER_ANIMATION_HEIGHT, width=settings.CHARACTER_ANIMATION_WIDTH)\n",
    "            # image = generate_image(prompt=prompt)\n",
    "            images[scene.title] = image\n",
    "    \n",
    "        if debug_display:\n",
    "            display(image)\n",
    "\n",
    "    return images\n",
    "\n",
    "\n",
    "def generate_scene_image(story: Story, scene: Scene, debug_display=False):\n",
    "    return generate_scene_images(story, [scene], debug_display)[0]\n"
   ]
  },
  {
   "cell_type": "markdown",
   "metadata": {},
   "source": [
    "## Example"
   ]
  },
  {
   "cell_type": "code",
   "execution_count": null,
   "metadata": {},
   "outputs": [],
   "source": [
    "# Example\n",
    "import settings\n",
    "if settings.EXECUTE_EXAMPLES:\n",
    "    from IPython.display import Markdown, display\n",
    "\n",
    "    example_story = Story(\n",
    "        prompt=\"A young hero must embark on a dangerous journey to retrieve a magical artifact hidden deep within an enchanted forest. Along the way, they encounter mythical creatures, wise mentors, and cunning adversaries.\",\n",
    "        title=\"The Enchanted Quest\",\n",
    "        genre=\"Fantasy\",\n",
    "        medium=\"Book\",\n",
    "        visual_style=\"Epic Fantasy\",\n",
    "        characters=[\n",
    "            Character(name=\"Elara\", role=\"Young Hero\", description=\"A brave and determined young hero with a strong sense of justice.\", personality=\"Courageous, resourceful, and kind-hearted.\", physical_appearance=\"Slim build, with long dark hair and piercing green eyes.\"),\n",
    "            Character(name=\"Thalion\", role=\"Wise Mentor\", description=\"An experienced and wise mentor who guides the hero through their journey.\", personality=\"Patient, knowledgeable, and protective.\", physical_appearance=\"Tall and imposing, with silver hair and a long flowing robe.\"),\n",
    "        ],\n",
    "        plot_overview=\"In a mystical kingdom threatened by chaos, a warrior from the future appears to prevent a disaster caused by a time-traveling villain. The kingdom's fate rests on ancient relics that control time, and the warrior must find them before the villain gains control. Along the way, the warrior forms an unlikely alliance with a local mage, a renegade knight, and a young thief. Together, they navigate betrayal, ancient curses, and forbidden knowledge. As the final battle approaches, the warrior must confront not only the villain but also the dark truth about their own origin.\",\n",
    "    )\n",
    "\n",
    "    # display(Markdown(\"### Generated Scene Images (single):\\n\\n\"))\n",
    "\n",
    "    # This will update the state of the story object with the images for each character\n",
    "    # generate_scene_image(example_story, example_story.scenes[0], debug_display=True)\n",
    "\n",
    "    display(Markdown(\"### Generated Scene Images:\\n\\n\"))\n",
    "\n",
    "    generate_scene_images(example_story, debug_display=True)\n"
   ]
  },
  {
   "cell_type": "markdown",
   "metadata": {},
   "source": [
    "## Update Our Story\n",
    "After Generating the scene images."
   ]
  },
  {
   "cell_type": "code",
   "execution_count": null,
   "metadata": {},
   "outputs": [],
   "source": [
    "# This will update the state of the story object with the images for each character\n",
    "scene_images = generate_scene_images(story, background=False, debug_display=True)"
   ]
  },
  {
   "cell_type": "code",
   "execution_count": null,
   "metadata": {},
   "outputs": [],
   "source": [
    "# Make some background images\n",
    "scene_images_background = generate_scene_images(story, background=True, debug_display=True)"
   ]
  },
  {
   "cell_type": "code",
   "execution_count": null,
   "metadata": {},
   "outputs": [],
   "source": [
    "# Ensure the directory exists\n",
    "import os\n",
    "output_dir = settings.STORY_DIR + \"/step_6/scenes/\"\n",
    "os.makedirs(output_dir, exist_ok=True)\n",
    "\n",
    "for name, image in scene_images.items():\n",
    "    image.save(output_dir + name + \".live.png\")\n",
    "\n",
    "for name, image in scene_images_background.items():\n",
    "    image.save(output_dir + name + \".png\")\n"
   ]
  },
  {
   "cell_type": "markdown",
   "metadata": {},
   "source": [
    "# Save the Story\n",
    "Let's keep our progress so far."
   ]
  },
  {
   "cell_type": "code",
   "execution_count": null,
   "metadata": {},
   "outputs": [],
   "source": [
    "story.save_to_directory(settings.STORY_DIR + \"/step_6\")"
   ]
  },
  {
   "cell_type": "markdown",
   "metadata": {},
   "source": [
    "# Next Step\n",
    "Onto [Step 8: Prop Descriptions](./8_prop_descriptions.ipynb)"
   ]
  }
 ],
 "metadata": {
  "kernelspec": {
   "display_name": "plotomatic",
   "language": "python",
   "name": "python3"
  },
  "language_info": {
   "codemirror_mode": {
    "name": "ipython",
    "version": 3
   },
   "file_extension": ".py",
   "mimetype": "text/x-python",
   "name": "python",
   "nbconvert_exporter": "python",
   "pygments_lexer": "ipython3",
   "version": "3.12.7"
  }
 },
 "nbformat": 4,
 "nbformat_minor": 2
}
